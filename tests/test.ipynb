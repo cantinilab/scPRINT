{
 "cells": [
  {
   "cell_type": "code",
   "execution_count": 2,
   "metadata": {},
   "outputs": [],
   "source": [
    "import os\n",
    "import urllib.request\n",
    "\n",
    "import numpy as np\n",
    "import pytest\n",
    "import scanpy as sc\n",
    "import torch\n",
    "from scdataloader import Preprocessor\n",
    "from scdataloader.utils import populate_my_ontology\n",
    "\n",
    "from scprint import scPrint\n",
    "from scprint.base import NAME\n",
    "from scprint.tasks import Denoiser, Embedder, GNInfer\n",
    "\n",
    "%reload_ext autoreload\n",
    "%autoreload 2\n"
   ]
  },
  {
   "cell_type": "code",
   "execution_count": 19,
   "metadata": {},
   "outputs": [
    {
     "name": "stdout",
     "output_type": "stream",
     "text": [
      "Dropping layers:  KeysView(Layers with keys: )\n",
      "checking raw counts\n",
      "removed 0 non primary cells, 1000 renamining\n",
      "filtered out 0 cells, 1000 renamining\n",
      "Removed 0 genes.\n",
      "validating\n"
     ]
    },
    {
     "name": "stderr",
     "output_type": "stream",
     "text": [
      "/home/ml4ig1/Documents code/scPRINT/.venv/lib/python3.10/site-packages/scdataloader/preprocess.py:248: FutureWarning: Series.__getitem__ treating keys as positions is deprecated. In a future version, integer keys will always be treated as labels (consistent with DataFrame behavior). To access a value by position, use `ser.iloc[pos]`\n",
      "  data_utils.validate(adata, organism=adata.obs.organism_ontology_term_id[0])\n",
      "/home/ml4ig1/Documents code/scPRINT/.venv/lib/python3.10/site-packages/lamindb/_can_validate.py:113: FutureWarning: Series.__getitem__ treating keys as positions is deprecated. In a future version, integer keys will always be treated as labels (consistent with DataFrame behavior). To access a value by position, use `ser.iloc[pos]`\n",
      "  if isinstance(values[0], list):\n",
      "/home/ml4ig1/Documents code/scPRINT/.venv/lib/python3.10/site-packages/lamindb/_can_validate.py:113: FutureWarning: Series.__getitem__ treating keys as positions is deprecated. In a future version, integer keys will always be treated as labels (consistent with DataFrame behavior). To access a value by position, use `ser.iloc[pos]`\n",
      "  if isinstance(values[0], list):\n",
      "/home/ml4ig1/Documents code/scPRINT/.venv/lib/python3.10/site-packages/lamindb/_can_validate.py:113: FutureWarning: Series.__getitem__ treating keys as positions is deprecated. In a future version, integer keys will always be treated as labels (consistent with DataFrame behavior). To access a value by position, use `ser.iloc[pos]`\n",
      "  if isinstance(values[0], list):\n",
      "/home/ml4ig1/Documents code/scPRINT/.venv/lib/python3.10/site-packages/lamindb/_can_validate.py:113: FutureWarning: Series.__getitem__ treating keys as positions is deprecated. In a future version, integer keys will always be treated as labels (consistent with DataFrame behavior). To access a value by position, use `ser.iloc[pos]`\n",
      "  if isinstance(values[0], list):\n",
      "/home/ml4ig1/Documents code/scPRINT/.venv/lib/python3.10/site-packages/lamindb/_can_validate.py:113: FutureWarning: Series.__getitem__ treating keys as positions is deprecated. In a future version, integer keys will always be treated as labels (consistent with DataFrame behavior). To access a value by position, use `ser.iloc[pos]`\n",
      "  if isinstance(values[0], list):\n",
      "/home/ml4ig1/Documents code/scPRINT/.venv/lib/python3.10/site-packages/lamindb/_can_validate.py:113: FutureWarning: Series.__getitem__ treating keys as positions is deprecated. In a future version, integer keys will always be treated as labels (consistent with DataFrame behavior). To access a value by position, use `ser.iloc[pos]`\n",
      "  if isinstance(values[0], list):\n",
      "/home/ml4ig1/Documents code/scPRINT/.venv/lib/python3.10/site-packages/lamindb/_can_validate.py:113: FutureWarning: Series.__getitem__ treating keys as positions is deprecated. In a future version, integer keys will always be treated as labels (consistent with DataFrame behavior). To access a value by position, use `ser.iloc[pos]`\n",
      "  if isinstance(values[0], list):\n",
      "/home/ml4ig1/Documents code/scPRINT/.venv/lib/python3.10/site-packages/lamindb/_can_validate.py:113: FutureWarning: Series.__getitem__ treating keys as positions is deprecated. In a future version, integer keys will always be treated as labels (consistent with DataFrame behavior). To access a value by position, use `ser.iloc[pos]`\n",
      "  if isinstance(values[0], list):\n"
     ]
    },
    {
     "name": "stdout",
     "output_type": "stream",
     "text": [
      "startin QC\n",
      "Seeing 161 outliers (16.10% of total dataset):\n",
      "done\n",
      "RuntimeError caught: scPrint is not attached to a `Trainer`.\n"
     ]
    }
   ],
   "source": [
    "adata = sc.read_h5ad(\"test.h5ad\")\n",
    "adata.obs.drop(columns=\"is_primary_data\", inplace=True, errors=\"ignore\")\n",
    "adata.obs[\"organism_ontology_term_id\"] = \"NCBITaxon:9606\"\n",
    "preprocessor = Preprocessor(\n",
    "    do_postp=False,\n",
    "    force_preprocess=True,\n",
    ")\n",
    "adata = preprocessor(adata)\n",
    "\n",
    "ckpt_path = \"small.ckpt\"\n",
    "model = scPrint.load_from_checkpoint(\n",
    "    ckpt_path,\n",
    "    precpt_gene_emb=None,\n",
    "    # triton gets installed so it must think it has cuda enabled\n",
    "    transformer=\"normal\",\n",
    ")"
   ]
  },
  {
   "cell_type": "code",
   "execution_count": 20,
   "metadata": {},
   "outputs": [
    {
     "data": {
      "text/plain": [
       "View of AnnData object with n_obs × n_vars = 1000 × 70611\n",
       "    obs: 'biosample_id', 'donor_id', 'cell_type_ontology_term_id', 'organism_ontology_term_id', 'disease_ontology_term_id', 'tissue_ontology_term_id', 'assay_ontology_term_id', 'cell_type__custom', 'development_stage_ontology_term_id', 'sex_ontology_term_id', 'suspension_type', 'age', 'self_reported_ethnicity_ontology_term_id', 'cell_type', 'assay', 'disease', 'organism', 'sex', 'tissue', 'self_reported_ethnicity', 'development_stage', 'cell_culture', 'nnz', 'n_genes_by_counts', 'log1p_n_genes_by_counts', 'total_counts', 'log1p_total_counts', 'pct_counts_in_top_20_genes', 'total_counts_mt', 'log1p_total_counts_mt', 'pct_counts_mt', 'total_counts_ribo', 'log1p_total_counts_ribo', 'pct_counts_ribo', 'total_counts_hb', 'log1p_total_counts_hb', 'pct_counts_hb', 'outlier', 'mt_outlier', 'n_genes'\n",
       "    var: 'feature_is_filtered', 'feature_name', 'feature_reference', 'feature_biotype', 'uid', 'symbol', 'ncbi_gene_ids', 'biotype', 'description', 'synonyms', 'organism_id', 'public_source_id', 'created_by_id', 'mt', 'ribo', 'hb', 'organism', 'n_cells_by_counts', 'mean_counts', 'log1p_mean_counts', 'pct_dropout_by_counts', 'total_counts', 'log1p_total_counts'\n",
       "    uns: 'unseen_genes'\n",
       "    obsm: 'X_UMAP'"
      ]
     },
     "execution_count": 20,
     "metadata": {},
     "output_type": "execute_result"
    }
   ],
   "source": [
    "adata"
   ]
  },
  {
   "cell_type": "code",
   "execution_count": 21,
   "metadata": {},
   "outputs": [
    {
     "name": "stderr",
     "output_type": "stream",
     "text": [
      "Using 16bit Automatic Mixed Precision (AMP)\n",
      "GPU available: True (cuda), used: True\n",
      "TPU available: False, using: 0 TPU cores\n",
      "HPU available: False, using: 0 HPUs\n"
     ]
    },
    {
     "name": "stdout",
     "output_type": "stream",
     "text": [
      "View of AnnData object with n_obs × n_vars = 10 × 70611\n",
      "    obs: 'biosample_id', 'donor_id', 'cell_type_ontology_term_id', 'organism_ontology_term_id', 'disease_ontology_term_id', 'tissue_ontology_term_id', 'assay_ontology_term_id', 'cell_type__custom', 'development_stage_ontology_term_id', 'sex_ontology_term_id', 'suspension_type', 'age', 'self_reported_ethnicity_ontology_term_id', 'cell_type', 'assay', 'disease', 'organism', 'sex', 'tissue', 'self_reported_ethnicity', 'development_stage', 'cell_culture', 'nnz', 'n_genes_by_counts', 'log1p_n_genes_by_counts', 'total_counts', 'log1p_total_counts', 'pct_counts_in_top_20_genes', 'total_counts_mt', 'log1p_total_counts_mt', 'pct_counts_mt', 'total_counts_ribo', 'log1p_total_counts_ribo', 'pct_counts_ribo', 'total_counts_hb', 'log1p_total_counts_hb', 'pct_counts_hb', 'outlier', 'mt_outlier', 'n_genes'\n",
      "    var: 'feature_is_filtered', 'feature_name', 'feature_reference', 'feature_biotype', 'uid', 'symbol', 'ncbi_gene_ids', 'biotype', 'description', 'synonyms', 'organism_id', 'public_source_id', 'created_by_id', 'mt', 'ribo', 'hb', 'organism', 'n_cells_by_counts', 'mean_counts', 'log1p_mean_counts', 'pct_dropout_by_counts', 'total_counts', 'log1p_total_counts'\n",
      "    uns: 'unseen_genes'\n",
      "    obsm: 'X_UMAP'\n",
      "<scdataloader.data.SimpleAnnDataset object at 0x7fdae2ceed40>\n"
     ]
    },
    {
     "name": "stderr",
     "output_type": "stream",
     "text": [
      " 50%|█████     | 1/2 [00:00<00:00,  7.37it/s]"
     ]
    },
    {
     "name": "stdout",
     "output_type": "stream",
     "text": [
      "hey\n",
      "hey\n"
     ]
    },
    {
     "name": "stderr",
     "output_type": "stream",
     "text": [
      "100%|██████████| 2/2 [00:00<00:00,  8.71it/s]\n"
     ]
    },
    {
     "name": "stdout",
     "output_type": "stream",
     "text": [
      "AnnData object with n_obs × n_vars = 10 × 128\n",
      "    obs: 'pred_cell_type_ontology_term_id', 'pred_disease_ontology_term_id', 'pred_assay_ontology_term_id', 'pred_self_reported_ethnicity_ontology_term_id', 'pred_sex_ontology_term_id', 'pred_organism_ontology_term_id', 'conv_pred_cell_type_ontology_term_id', 'conv_pred_disease_ontology_term_id', 'conv_pred_assay_ontology_term_id', 'conv_pred_self_reported_ethnicity_ontology_term_id'\n",
      "couldn't log to tensorboard\n",
      "couldn't log to wandb\n",
      "AnnData object with n_obs × n_vars = 10 × 128\n",
      "    obs: 'pred_cell_type_ontology_term_id', 'pred_disease_ontology_term_id', 'pred_assay_ontology_term_id', 'pred_self_reported_ethnicity_ontology_term_id', 'pred_sex_ontology_term_id', 'pred_organism_ontology_term_id', 'conv_pred_cell_type_ontology_term_id', 'conv_pred_disease_ontology_term_id', 'conv_pred_assay_ontology_term_id', 'conv_pred_self_reported_ethnicity_ontology_term_id'\n",
      "too few cells to embed into a umap\n",
      "too few cells to compute a clustering\n",
      "     cell_type_ontology_term_id\n",
      "     accuracy: 0.0\n",
      " \n",
      "     disease_ontology_term_id\n",
      "     accuracy: 1.0\n",
      " \n",
      "     assay_ontology_term_id\n",
      "     accuracy: 0.0\n",
      " \n",
      "     self_reported_ethnicity_ontology_term_id\n",
      "     accuracy: 1.0\n",
      " \n",
      "     sex_ontology_term_id\n",
      "     accuracy: 0.1\n",
      " \n",
      "     organism_ontology_term_id\n",
      "     accuracy: 1.0\n",
      " \n"
     ]
    }
   ],
   "source": [
    "cell_embedder = Embedder(\n",
    "    batch_size=6,\n",
    "    num_workers=1,\n",
    "    how=\"random expr\",\n",
    "    max_len=300,\n",
    "    doclass=True,\n",
    "    pred_embedding=[\n",
    "        \"cell_type_ontology_term_id\",\n",
    "        \"disease_ontology_term_id\",\n",
    "        \"self_reported_ethnicity_ontology_term_id\",\n",
    "        \"sex_ontology_term_id\",\n",
    "    ],\n",
    "    plot_corr_size=10,\n",
    "    doplot=True,\n",
    "    keep_all_cls_pred=False,\n",
    "    dtype=torch.float32,\n",
    ")\n",
    "adata_emb, metrics = cell_embedder(model, adata[:10, :])"
   ]
  },
  {
   "cell_type": "code",
   "execution_count": 22,
   "metadata": {},
   "outputs": [
    {
     "data": {
      "text/plain": [
       "AnnData object with n_obs × n_vars = 10 × 70611\n",
       "    obs: 'biosample_id', 'donor_id', 'cell_type_ontology_term_id', 'organism_ontology_term_id', 'disease_ontology_term_id', 'tissue_ontology_term_id', 'assay_ontology_term_id', 'cell_type__custom', 'development_stage_ontology_term_id', 'sex_ontology_term_id', 'suspension_type', 'age', 'self_reported_ethnicity_ontology_term_id', 'cell_type', 'assay', 'disease', 'organism', 'sex', 'tissue', 'self_reported_ethnicity', 'development_stage', 'cell_culture', 'nnz', 'n_genes_by_counts', 'log1p_n_genes_by_counts', 'total_counts', 'log1p_total_counts', 'pct_counts_in_top_20_genes', 'total_counts_mt', 'log1p_total_counts_mt', 'pct_counts_mt', 'total_counts_ribo', 'log1p_total_counts_ribo', 'pct_counts_ribo', 'total_counts_hb', 'log1p_total_counts_hb', 'pct_counts_hb', 'outlier', 'mt_outlier', 'n_genes', 'pred_cell_type_ontology_term_id', 'pred_disease_ontology_term_id', 'pred_assay_ontology_term_id', 'pred_self_reported_ethnicity_ontology_term_id', 'pred_sex_ontology_term_id', 'pred_organism_ontology_term_id', 'conv_pred_cell_type_ontology_term_id', 'conv_pred_disease_ontology_term_id', 'conv_pred_assay_ontology_term_id', 'conv_pred_self_reported_ethnicity_ontology_term_id'\n",
       "    var: 'feature_is_filtered', 'feature_name', 'feature_reference', 'feature_biotype', 'uid', 'symbol', 'ncbi_gene_ids', 'biotype', 'description', 'synonyms', 'organism_id', 'public_source_id', 'created_by_id', 'mt', 'ribo', 'hb', 'organism', 'n_cells_by_counts', 'mean_counts', 'log1p_mean_counts', 'pct_dropout_by_counts', 'total_counts', 'log1p_total_counts'\n",
       "    uns: 'unseen_genes'\n",
       "    obsm: 'X_UMAP', 'scprint'"
      ]
     },
     "execution_count": 22,
     "metadata": {},
     "output_type": "execute_result"
    }
   ],
   "source": [
    "adata_emb"
   ]
  },
  {
   "cell_type": "code",
   "execution_count": 24,
   "metadata": {},
   "outputs": [],
   "source": [
    "assert any(\n",
    "    col.startswith(\"pred_\") for col in adata_emb.obs.columns\n",
    "), \"Classification failed\""
   ]
  },
  {
   "cell_type": "code",
   "execution_count": 25,
   "metadata": {},
   "outputs": [
    {
     "name": "stderr",
     "output_type": "stream",
     "text": [
      "100%|██████████| 5/5 [00:00<00:00,  7.66it/s]\n"
     ]
    },
    {
     "name": "stdout",
     "output_type": "stream",
     "text": [
      "avg link count: 85969984, sparsity: 1.0\n"
     ]
    }
   ],
   "source": [
    "grn_inferer = GNInfer(\n",
    "    layer=[0, 1],\n",
    "    batch_size=2,\n",
    "    how=\"random expr\",\n",
    "    preprocess=\"softmax\",\n",
    "    head_agg=\"mean\",\n",
    "    filtration=\"none\",\n",
    "    forward_mode=\"none\",\n",
    "    num_genes=100,\n",
    "    max_cells=10,\n",
    "    doplot=False,\n",
    ")\n",
    "grn_adata = grn_inferer(model, adata)"
   ]
  },
  {
   "cell_type": "code",
   "execution_count": 27,
   "metadata": {},
   "outputs": [],
   "source": [
    "assert \"GRN\" in grn_adata.varp, \"GRN inference failed\""
   ]
  },
  {
   "cell_type": "code",
   "execution_count": null,
   "metadata": {},
   "outputs": [],
   "source": []
  },
  {
   "cell_type": "code",
   "execution_count": null,
   "metadata": {},
   "outputs": [],
   "source": []
  }
 ],
 "metadata": {
  "kernelspec": {
   "display_name": ".venv",
   "language": "python",
   "name": "python3"
  },
  "language_info": {
   "codemirror_mode": {
    "name": "ipython",
    "version": 3
   },
   "file_extension": ".py",
   "mimetype": "text/x-python",
   "name": "python",
   "nbconvert_exporter": "python",
   "pygments_lexer": "ipython3",
   "version": "3.10.15"
  }
 },
 "nbformat": 4,
 "nbformat_minor": 2
}
