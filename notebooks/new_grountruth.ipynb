{
 "cells": [
  {
   "cell_type": "markdown",
   "metadata": {},
   "source": [
    "### TF - motif bias matrix\n",
    "\n",
    "1. downloading gene - motif name mapping in here: https://resources.aertslab.org/cistarget/motif_collections/v10nr_clust_public/snapshots/motifs-v10-nr.hgnc-m0.00001-o0.0.tbl\n",
    "2. then load the motif -> gene enrichment mapping in here: https://resources.aertslab.org/cistarget/databases/homo_sapiens/hg38/refseq_r80/mc_v10_clust/gene_based/the hg38_10kbp_up_10kbp_down_full_tx_v10_clust.genes_vs_motifs.scores.feather\n",
    "3. then we replace the motif name with gene names\n",
    "4. then we take the max enrichment if same gene-motif\n",
    "5. then renormalize this per gene and save it as our new attention bias\n",
    "\n",
    "----\n",
    "\n",
    "### PPI bias matrix\n",
    "\n",
    "1. we get the human PPI matrix from stringdb here: https://string-db.org/cgi/download?sessionId=bwVBywlOX6i8&species_text=Homo+sapiens\n",
    "2. we get the same one for other species (e.g. mus musculus): https://stringdb-downloads.org/download/protein.links.v12.0/10090.protein.links.v12.0.txt.gz\n",
    "3. we open them and use ensembl's biomart to map ENSP to ENSG. we merge all similar pairs\n",
    "4. we map it to a grn with associated scores.\n",
    "5. we use them as our new PPI bias matrix"
   ]
  },
  {
   "cell_type": "code",
   "execution_count": 15,
   "metadata": {},
   "outputs": [],
   "source": [
    "import pandas as pd\n",
    "from scdataloader.utils import load_genes\n",
    "from scdataloader.utils import getBiomartTable\n",
    "import numpy as np\n",
    "import tqdm"
   ]
  },
  {
   "cell_type": "code",
   "execution_count": 2,
   "metadata": {},
   "outputs": [],
   "source": [
    "genedf = load_genes()"
   ]
  },
  {
   "cell_type": "code",
   "execution_count": 3,
   "metadata": {},
   "outputs": [
    {
     "name": "stderr",
     "output_type": "stream",
     "text": [
      "/tmp/ipykernel_541704/2548338028.py:5: DtypeWarning: Columns (4,6,9) have mixed types. Specify dtype option on import or set low_memory=False.\n",
      "  tbl = pd.read_csv('~/motifs-v10-nr.hgnc-m0.00001-o0.0.tbl'\n"
     ]
    }
   ],
   "source": [
    "da = pd.read_feather('~/main_scenic+_database.feather')\n",
    "da = da.set_index('motifs')\n",
    "\n",
    "\n",
    "tbl = pd.read_csv('~/motifs-v10-nr.hgnc-m0.00001-o0.0.tbl'\n",
    ", sep='\\t', header=None, names=['motif_id','motif_name',\n",
    "'motif_description','source_name','source_version','gene_name','motif_similarity_qvalue','similar_motif_id','similar_motif_description','orthologous_identity','orthologous_gene_name','orthologous_species','description'])\n",
    "tbl = tbl.set_index('motif_id')\n",
    "tbl = tbl[tbl.gene_name.isin(genedf.symbol)]\n"
   ]
  },
  {
   "cell_type": "code",
   "execution_count": null,
   "metadata": {},
   "outputs": [],
   "source": [
    "rn = {}\n",
    "toadd = {}\n",
    "for i in tqdm.tqdm(da.index):\n",
    "    try:\n",
    "        res = tbl.loc[i, 'gene_name']\n",
    "    except KeyError:\n",
    "        da = da.drop(i)\n",
    "    if type(res) != str:\n",
    "        for v in res.values[1:]:\n",
    "            toadd.update({v: da.loc[i].values})\n",
    "        res = res.values[0]\n",
    "    rn.update({i: res})"
   ]
  },
  {
   "cell_type": "code",
   "execution_count": 35,
   "metadata": {},
   "outputs": [],
   "source": [
    "da = da.rename(index=rn)\n",
    "da = pd.concat([da, pd.DataFrame(toadd, index=da.columns).T])\n",
    "da = da.loc[~da.index.duplicated(keep='first')]\n"
   ]
  },
  {
   "cell_type": "code",
   "execution_count": 37,
   "metadata": {},
   "outputs": [],
   "source": [
    "da.to_parquet('~/main_scenic+.parquet')"
   ]
  },
  {
   "cell_type": "markdown",
   "metadata": {},
   "source": [
    "## protein"
   ]
  },
  {
   "cell_type": "code",
   "execution_count": 3,
   "metadata": {},
   "outputs": [],
   "source": [
    "string = pd.read_csv('~/9606.protein.links.v12.0.txt.gz', sep=' ')"
   ]
  },
  {
   "cell_type": "code",
   "execution_count": 4,
   "metadata": {},
   "outputs": [],
   "source": [
    "string.protein1 = string.protein1.str.split('.').str[1]\n",
    "string.protein2 = string.protein2.str.split('.').str[1]"
   ]
  },
  {
   "cell_type": "code",
   "execution_count": 7,
   "metadata": {},
   "outputs": [
    {
     "name": "stdout",
     "output_type": "stream",
     "text": [
      "downloading gene names from biomart\n",
      "['ensembl_gene_id', 'hgnc_symbol', 'gene_biotype', 'entrezgene_id', 'ensembl_peptide_id']\n"
     ]
    },
    {
     "data": {
      "text/html": [
       "<div>\n",
       "<style scoped>\n",
       "    .dataframe tbody tr th:only-of-type {\n",
       "        vertical-align: middle;\n",
       "    }\n",
       "\n",
       "    .dataframe tbody tr th {\n",
       "        vertical-align: top;\n",
       "    }\n",
       "\n",
       "    .dataframe thead th {\n",
       "        text-align: right;\n",
       "    }\n",
       "</style>\n",
       "<table border=\"1\" class=\"dataframe\">\n",
       "  <thead>\n",
       "    <tr style=\"text-align: right;\">\n",
       "      <th></th>\n",
       "      <th>ensembl_gene_id</th>\n",
       "      <th>hgnc_symbol</th>\n",
       "      <th>gene_biotype</th>\n",
       "      <th>entrezgene_id</th>\n",
       "      <th>ensembl_peptide_id</th>\n",
       "    </tr>\n",
       "  </thead>\n",
       "  <tbody>\n",
       "    <tr>\n",
       "      <th>0</th>\n",
       "      <td>ENSG00000210049</td>\n",
       "      <td>MT-TF</td>\n",
       "      <td>Mt_tRNA</td>\n",
       "      <td>NaN</td>\n",
       "      <td>NaN</td>\n",
       "    </tr>\n",
       "    <tr>\n",
       "      <th>1</th>\n",
       "      <td>ENSG00000211459</td>\n",
       "      <td>MT-RNR1</td>\n",
       "      <td>Mt_rRNA</td>\n",
       "      <td>NaN</td>\n",
       "      <td>NaN</td>\n",
       "    </tr>\n",
       "    <tr>\n",
       "      <th>2</th>\n",
       "      <td>ENSG00000210077</td>\n",
       "      <td>MT-TV</td>\n",
       "      <td>Mt_tRNA</td>\n",
       "      <td>NaN</td>\n",
       "      <td>NaN</td>\n",
       "    </tr>\n",
       "    <tr>\n",
       "      <th>3</th>\n",
       "      <td>ENSG00000210082</td>\n",
       "      <td>MT-RNR2</td>\n",
       "      <td>Mt_rRNA</td>\n",
       "      <td>NaN</td>\n",
       "      <td>NaN</td>\n",
       "    </tr>\n",
       "    <tr>\n",
       "      <th>4</th>\n",
       "      <td>ENSG00000209082</td>\n",
       "      <td>MT-TL1</td>\n",
       "      <td>Mt_tRNA</td>\n",
       "      <td>NaN</td>\n",
       "      <td>NaN</td>\n",
       "    </tr>\n",
       "    <tr>\n",
       "      <th>...</th>\n",
       "      <td>...</td>\n",
       "      <td>...</td>\n",
       "      <td>...</td>\n",
       "      <td>...</td>\n",
       "      <td>...</td>\n",
       "    </tr>\n",
       "    <tr>\n",
       "      <th>191604</th>\n",
       "      <td>ENSG00000271742</td>\n",
       "      <td>ENSG00000271742</td>\n",
       "      <td>lncRNA</td>\n",
       "      <td>NaN</td>\n",
       "      <td>NaN</td>\n",
       "    </tr>\n",
       "    <tr>\n",
       "      <th>191605</th>\n",
       "      <td>ENSG00000116786</td>\n",
       "      <td>PLEKHM2</td>\n",
       "      <td>protein_coding</td>\n",
       "      <td>23207.0</td>\n",
       "      <td>ENSP00000364956</td>\n",
       "    </tr>\n",
       "    <tr>\n",
       "      <th>191606</th>\n",
       "      <td>ENSG00000116786</td>\n",
       "      <td>PLEKHM2</td>\n",
       "      <td>protein_coding</td>\n",
       "      <td>23207.0</td>\n",
       "      <td>ENSP00000364950</td>\n",
       "    </tr>\n",
       "    <tr>\n",
       "      <th>191607</th>\n",
       "      <td>ENSG00000116786</td>\n",
       "      <td>PLEKHM2</td>\n",
       "      <td>protein_coding</td>\n",
       "      <td>23207.0</td>\n",
       "      <td>NaN</td>\n",
       "    </tr>\n",
       "    <tr>\n",
       "      <th>191608</th>\n",
       "      <td>ENSG00000116786</td>\n",
       "      <td>PLEKHM2</td>\n",
       "      <td>protein_coding</td>\n",
       "      <td>23207.0</td>\n",
       "      <td>ENSP00000494591</td>\n",
       "    </tr>\n",
       "  </tbody>\n",
       "</table>\n",
       "<p>191609 rows × 5 columns</p>\n",
       "</div>"
      ],
      "text/plain": [
       "        ensembl_gene_id      hgnc_symbol    gene_biotype  entrezgene_id  \\\n",
       "0       ENSG00000210049            MT-TF         Mt_tRNA            NaN   \n",
       "1       ENSG00000211459          MT-RNR1         Mt_rRNA            NaN   \n",
       "2       ENSG00000210077            MT-TV         Mt_tRNA            NaN   \n",
       "3       ENSG00000210082          MT-RNR2         Mt_rRNA            NaN   \n",
       "4       ENSG00000209082           MT-TL1         Mt_tRNA            NaN   \n",
       "...                 ...              ...             ...            ...   \n",
       "191604  ENSG00000271742  ENSG00000271742          lncRNA            NaN   \n",
       "191605  ENSG00000116786          PLEKHM2  protein_coding        23207.0   \n",
       "191606  ENSG00000116786          PLEKHM2  protein_coding        23207.0   \n",
       "191607  ENSG00000116786          PLEKHM2  protein_coding        23207.0   \n",
       "191608  ENSG00000116786          PLEKHM2  protein_coding        23207.0   \n",
       "\n",
       "       ensembl_peptide_id  \n",
       "0                     NaN  \n",
       "1                     NaN  \n",
       "2                     NaN  \n",
       "3                     NaN  \n",
       "4                     NaN  \n",
       "...                   ...  \n",
       "191604                NaN  \n",
       "191605    ENSP00000364956  \n",
       "191606    ENSP00000364950  \n",
       "191607                NaN  \n",
       "191608    ENSP00000494591  \n",
       "\n",
       "[191609 rows x 5 columns]"
      ]
     },
     "execution_count": 7,
     "metadata": {},
     "output_type": "execute_result"
    }
   ],
   "source": [
    "biomart = getBiomartTable(attributes=['ensembl_peptide_id'])\n",
    "biomart"
   ]
  },
  {
   "cell_type": "code",
   "execution_count": 8,
   "metadata": {},
   "outputs": [
    {
     "data": {
      "text/plain": [
       "122615"
      ]
     },
     "execution_count": 8,
     "metadata": {},
     "output_type": "execute_result"
    }
   ],
   "source": [
    "rn = {j: k for k,j in biomart[['ensembl_gene_id', 'ensembl_peptide_id']].values if k is not None}\n",
    "len(rn)"
   ]
  },
  {
   "cell_type": "code",
   "execution_count": 10,
   "metadata": {},
   "outputs": [
    {
     "data": {
      "text/plain": [
       "19193"
      ]
     },
     "execution_count": 10,
     "metadata": {},
     "output_type": "execute_result"
    }
   ],
   "source": [
    "rel = {}\n",
    "for a, b in string.iloc[:,:2].values:\n",
    "    a, b = rn.get(a, \"\"), rn.get(b, \"\")\n",
    "    if a and b:\n",
    "        if a in rel:\n",
    "            rel[a].add(b)\n",
    "        else:\n",
    "            rel[a] = set([b])  \n",
    "        if b in rel:\n",
    "            rel[b].add(a)\n",
    "        else:\n",
    "            rel[b] = set([a])\n",
    "len(rel)"
   ]
  },
  {
   "cell_type": "code",
   "execution_count": 26,
   "metadata": {},
   "outputs": [],
   "source": [
    "da = pd.DataFrame(data=np.zeros((len(rel), len(rel))), columns=list(rel.keys()), index=list(rel.keys()))"
   ]
  },
  {
   "cell_type": "code",
   "execution_count": 12,
   "metadata": {},
   "outputs": [],
   "source": [
    "da.drop(columns=[''], inplace=True)\n",
    "da.drop(index=[''], inplace=True)"
   ]
  },
  {
   "cell_type": "code",
   "execution_count": 25,
   "metadata": {},
   "outputs": [
    {
     "name": "stderr",
     "output_type": "stream",
     "text": [
      "19193it [00:20, 917.76it/s] \n"
     ]
    }
   ],
   "source": [
    "for i,j in tqdm.tqdm(rel.items()):\n",
    "    da.loc[i,list(j)] = 1\n"
   ]
  },
  {
   "cell_type": "code",
   "execution_count": null,
   "metadata": {},
   "outputs": [
    {
     "data": {
      "text/plain": [
       "0.03608647264434039"
      ]
     },
     "metadata": {},
     "output_type": "display_data"
    }
   ],
   "source": [
    "da.mean().mean()"
   ]
  }
 ],
 "metadata": {
  "kernelspec": {
   "display_name": "scprint",
   "language": "python",
   "name": "python3"
  },
  "language_info": {
   "codemirror_mode": {
    "name": "ipython",
    "version": 3
   },
   "file_extension": ".py",
   "mimetype": "text/x-python",
   "name": "python",
   "nbconvert_exporter": "python",
   "pygments_lexer": "ipython3",
   "version": "3.10.0"
  }
 },
 "nbformat": 4,
 "nbformat_minor": 2
}
