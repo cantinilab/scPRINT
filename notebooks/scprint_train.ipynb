{
      "cells": [
            {
                  "cell_type": "code",
                  "execution_count": 1,
                  "metadata": {},
                  "outputs": [
                        {
                              "name": "stderr",
                              "output_type": "stream",
                              "text": [
                                    "Seed set to 42\n"
                              ]
                        },
                        {
                              "name": "stdout",
                              "output_type": "stream",
                              "text": [
                                    "\u001b[92m→\u001b[0m connected lamindb: jkobject/scprint2\n"
                              ]
                        }
                  ],
                  "source": [
                        "from lightning.pytorch import Trainer, seed_everything\n",
                        "from lightning.pytorch.callbacks import ModelCheckpoint, StochasticWeightAveraging, EarlyStopping, LearningRateMonitor, LearningRateFinder\n",
                        "\n",
                        "seed_everything(42, workers=True)\n",
                        "\n",
                        "from scprint import scPrint\n",
                        "from scprint.trainer import TrainingMode\n",
                        "from scdataloader import DataModule \n",
                        "import pandas as pd\n",
                        "from scdataloader.utils import load_genes\n",
                        "import lamindb as ln\n",
                        "\n",
                        "import torch\n",
                        "torch.set_float32_matmul_precision('medium')\n",
                        "\n",
                        "%load_ext autoreload\n",
                        "%autoreload 2"
                  ]
            },
            {
                  "cell_type": "code",
                  "execution_count": 2,
                  "metadata": {},
                  "outputs": [],
                  "source": [
                        "# TODO: drop tissue & dev stage until part or is taken in account\n",
                        "\n",
                        "hierarchical_clss = [\n",
                        "    \"cell_type_ontology_term_id\",  # 1\n",
                        "    \"tissue_ontology_term_id\",\n",
                        "    \"disease_ontology_term_id\",  # 2\n",
                        "    \"development_stage_ontology_term_id\",\n",
                        "    \"assay_ontology_term_id\",  # 3\n",
                        "    'self_reported_ethnicity_ontology_term_id',  # 4\n",
                        "]\n",
                        "clss_to_pred = hierarchical_clss+[\n",
                        "    'sex_ontology_term_id',  # 5\n",
                        "    \"organism_ontology_term_id\",  # 6\n",
                        "    \"cell_culture\"\n",
                        "]\n",
                        "all_clss = clss_to_pred+[\n",
                        "    # 'dataset_id',\n",
                        "    # 'cell_culture',\n",
                        "    #  \"heat_diff\",\n",
                        "    #  \"total_counts\",\n",
                        "    \"nnz\",\n",
                        "    #  \"dpt_group\",\n",
                        "]\n",
                        "\n",
                        "gene_emb = '../data/main/gene_embeddings.parquet'\n",
                        "d_model = 128"
                  ]
            },
            {
                  "cell_type": "code",
                  "execution_count": 3,
                  "metadata": {},
                  "outputs": [],
                  "source": [
                        "from scdataloader.utils import translate\n",
                        "import bionty as bt"
                  ]
            },
            {
                  "cell_type": "code",
                  "execution_count": 4,
                  "metadata": {},
                  "outputs": [
                        {
                              "data": {
                                    "text/html": [
                                          "<div>\n",
                                          "<style scoped>\n",
                                          "    .dataframe tbody tr th:only-of-type {\n",
                                          "        vertical-align: middle;\n",
                                          "    }\n",
                                          "\n",
                                          "    .dataframe tbody tr th {\n",
                                          "        vertical-align: top;\n",
                                          "    }\n",
                                          "\n",
                                          "    .dataframe thead th {\n",
                                          "        text-align: right;\n",
                                          "    }\n",
                                          "</style>\n",
                                          "<table border=\"1\" class=\"dataframe\">\n",
                                          "  <thead>\n",
                                          "    <tr style=\"text-align: right;\">\n",
                                          "      <th></th>\n",
                                          "      <th>uid</th>\n",
                                          "      <th>name</th>\n",
                                          "      <th>ontology_id</th>\n",
                                          "      <th>scientific_name</th>\n",
                                          "      <th>synonyms</th>\n",
                                          "      <th>description</th>\n",
                                          "      <th>source_id</th>\n",
                                          "      <th>run_id</th>\n",
                                          "      <th>created_at</th>\n",
                                          "      <th>created_by_id</th>\n",
                                          "    </tr>\n",
                                          "    <tr>\n",
                                          "      <th>id</th>\n",
                                          "      <th></th>\n",
                                          "      <th></th>\n",
                                          "      <th></th>\n",
                                          "      <th></th>\n",
                                          "      <th></th>\n",
                                          "      <th></th>\n",
                                          "      <th></th>\n",
                                          "      <th></th>\n",
                                          "      <th></th>\n",
                                          "      <th></th>\n",
                                          "    </tr>\n",
                                          "  </thead>\n",
                                          "  <tbody>\n",
                                          "    <tr>\n",
                                          "      <th>1</th>\n",
                                          "      <td>2AmW7N1E</td>\n",
                                          "      <td>macaque</td>\n",
                                          "      <td>NCBITaxon:9544</td>\n",
                                          "      <td>macaca_mulatta</td>\n",
                                          "      <td>None</td>\n",
                                          "      <td>None</td>\n",
                                          "      <td>5.0</td>\n",
                                          "      <td>None</td>\n",
                                          "      <td>2024-11-25 10:54:58.194360+00:00</td>\n",
                                          "      <td>1</td>\n",
                                          "    </tr>\n",
                                          "    <tr>\n",
                                          "      <th>2</th>\n",
                                          "      <td>3qUn9Zrd</td>\n",
                                          "      <td>white-tufted-ear marmoset</td>\n",
                                          "      <td>NCBITaxon:9483</td>\n",
                                          "      <td>callithrix_jacchus</td>\n",
                                          "      <td>None</td>\n",
                                          "      <td>None</td>\n",
                                          "      <td>5.0</td>\n",
                                          "      <td>None</td>\n",
                                          "      <td>2024-11-25 10:54:58.194479+00:00</td>\n",
                                          "      <td>1</td>\n",
                                          "    </tr>\n",
                                          "    <tr>\n",
                                          "      <th>3</th>\n",
                                          "      <td>3RZqbcSL</td>\n",
                                          "      <td>mouse</td>\n",
                                          "      <td>NCBITaxon:10090</td>\n",
                                          "      <td>mus_musculus</td>\n",
                                          "      <td>None</td>\n",
                                          "      <td>None</td>\n",
                                          "      <td>5.0</td>\n",
                                          "      <td>None</td>\n",
                                          "      <td>2024-11-25 10:54:58.194551+00:00</td>\n",
                                          "      <td>1</td>\n",
                                          "    </tr>\n",
                                          "    <tr>\n",
                                          "      <th>4</th>\n",
                                          "      <td>1dpCL6Td</td>\n",
                                          "      <td>human</td>\n",
                                          "      <td>NCBITaxon:9606</td>\n",
                                          "      <td>homo_sapiens</td>\n",
                                          "      <td>None</td>\n",
                                          "      <td>None</td>\n",
                                          "      <td>5.0</td>\n",
                                          "      <td>None</td>\n",
                                          "      <td>2024-11-25 10:54:58.194617+00:00</td>\n",
                                          "      <td>1</td>\n",
                                          "    </tr>\n",
                                          "    <tr>\n",
                                          "      <th>5</th>\n",
                                          "      <td>5HWRj1OD</td>\n",
                                          "      <td>unknown</td>\n",
                                          "      <td>unknown</td>\n",
                                          "      <td>None</td>\n",
                                          "      <td>None</td>\n",
                                          "      <td>None</td>\n",
                                          "      <td>NaN</td>\n",
                                          "      <td>None</td>\n",
                                          "      <td>2024-11-25 10:54:58.221434+00:00</td>\n",
                                          "      <td>1</td>\n",
                                          "    </tr>\n",
                                          "  </tbody>\n",
                                          "</table>\n",
                                          "</div>"
                                    ],
                                    "text/plain": [
                                          "         uid                       name      ontology_id     scientific_name  \\\n",
                                          "id                                                                             \n",
                                          "1   2AmW7N1E                    macaque   NCBITaxon:9544      macaca_mulatta   \n",
                                          "2   3qUn9Zrd  white-tufted-ear marmoset   NCBITaxon:9483  callithrix_jacchus   \n",
                                          "3   3RZqbcSL                      mouse  NCBITaxon:10090        mus_musculus   \n",
                                          "4   1dpCL6Td                      human   NCBITaxon:9606        homo_sapiens   \n",
                                          "5   5HWRj1OD                    unknown          unknown                None   \n",
                                          "\n",
                                          "   synonyms description  source_id run_id                       created_at  \\\n",
                                          "id                                                                           \n",
                                          "1      None        None        5.0   None 2024-11-25 10:54:58.194360+00:00   \n",
                                          "2      None        None        5.0   None 2024-11-25 10:54:58.194479+00:00   \n",
                                          "3      None        None        5.0   None 2024-11-25 10:54:58.194551+00:00   \n",
                                          "4      None        None        5.0   None 2024-11-25 10:54:58.194617+00:00   \n",
                                          "5      None        None        NaN   None 2024-11-25 10:54:58.221434+00:00   \n",
                                          "\n",
                                          "    created_by_id  \n",
                                          "id                 \n",
                                          "1               1  \n",
                                          "2               1  \n",
                                          "3               1  \n",
                                          "4               1  \n",
                                          "5               1  "
                                    ]
                              },
                              "execution_count": 4,
                              "metadata": {},
                              "output_type": "execute_result"
                        }
                  ],
                  "source": [
                        "bt.Organism.filter().df()"
                  ]
            },
            {
                  "cell_type": "code",
                  "execution_count": 20,
                  "metadata": {},
                  "outputs": [
                        {
                              "data": {
                                    "text/plain": [
                                          "[DevelopmentalStage(uid='7k1A0zkT', name='life cycle stage', ontology_id='HsapDv:0000000', synonyms='developmental stage', description='A Spatiotemporal Region Encompassing Some Part Of The Life Cycle Of An Organism.', created_by_id=1, source_id=96, created_at=2024-11-25 10:55:13 UTC),\n",
                                          " DevelopmentalStage(uid='3RFqT94o', name='life cycle', ontology_id='HsapDv:0000001', description='Temporal Interval That Defines Human Life From The Prenatal Stage Until Late Adulthood.', created_by_id=1, source_id=96, created_at=2024-11-25 10:55:13 UTC),\n",
                                          " DevelopmentalStage(uid='5prJEXna', name='embryonic stage', ontology_id='HsapDv:0000002', description='Prenatal Stage That Starts With Fertilization And Ends With A Fully Formed Embryo, Before Undergoing Last Development During The Fetal Stage.', created_by_id=1, source_id=96, created_at=2024-11-25 10:55:13 UTC),\n",
                                          " DevelopmentalStage(uid='2hOE3S2f', name='organogenesis stage', ontology_id='HsapDv:0000015', description='Embryonic Stage At Which The Ectoderm, Endoderm, And Mesoderm Develop Into The Internal Organs Of The Organism.', created_by_id=1, source_id=96, created_at=2024-11-25 10:55:13 UTC),\n",
                                          " DevelopmentalStage(uid='6xzPYyhq', name='prenatal stage', ontology_id='HsapDv:0000045', description='Prenatal Stage That Starts With Fertilization And Ends At Birth.', created_by_id=1, source_id=96, created_at=2024-11-25 10:55:13 UTC)]"
                                    ]
                              },
                              "execution_count": 20,
                              "metadata": {},
                              "output_type": "execute_result"
                        }
                  ],
                  "source": [
                        "list(bt.DevelopmentalStage.filter(ontology_id=\"HsapDv:0000023\").one().parents.filter())"
                  ]
            },
            {
                  "cell_type": "code",
                  "execution_count": 21,
                  "metadata": {},
                  "outputs": [
                        {
                              "data": {
                                    "text/plain": [
                                          "{'MmusDv:0000113': '4-7 days',\n",
                                          " 'MmusDv:0000064': '4 month-old stage',\n",
                                          " 'MmusDv:0000033': 'Theiler stage 24',\n",
                                          " 'MmusDv:0000034': 'Theiler stage 25',\n",
                                          " 'MmusDv:0000056': '12 weeks',\n",
                                          " 'MmusDv:0000061': 'early adult stage',\n",
                                          " 'MmusDv:0000091': '20 month-old stage and over',\n",
                                          " 'MmusDv:0000048': '4 weeks',\n",
                                          " 'MmusDv:0000074': '24 weeks',\n",
                                          " 'MmusDv:0000098': '25 weeks',\n",
                                          " 'MmusDv:0000062': '2 month-old stage',\n",
                                          " 'MmusDv:0000035': 'Theiler stage 26',\n",
                                          " 'MmusDv:0000077': '6 month-old stage',\n",
                                          " 'MmusDv:0000066': '17 weeks',\n",
                                          " 'MmusDv:0000079': '8 month-old stage',\n",
                                          " 'MmusDv:0000028': 'Theiler stage 21',\n",
                                          " 'MmusDv:0000099': '26 weeks',\n",
                                          " 'MmusDv:0000073': '23 weeks',\n",
                                          " 'MmusDv:0000046': '2 weeks',\n",
                                          " 'MmusDv:0000024': 'Theiler stage 17',\n",
                                          " 'MmusDv:0000050': '6 weeks',\n",
                                          " 'MmusDv:0000037': 'Theiler stage 28',\n",
                                          " 'MmusDv:0000021': 'Theiler stage 14',\n",
                                          " 'MmusDv:0000051': '7 weeks',\n",
                                          " 'MmusDv:0000070': '20 weeks',\n",
                                          " 'MmusDv:0000059': '15 weeks',\n",
                                          " 'MmusDv:0000049': '5 weeks',\n",
                                          " 'MmusDv:0000026': 'Theiler stage 19',\n",
                                          " 'MmusDv:0000027': 'Theiler stage 20',\n",
                                          " 'MmusDv:0000032': 'Theiler stage 23',\n",
                                          " 'MmusDv:0000063': '3 month-old stage',\n",
                                          " 'MmusDv:0000102': '29 weeks',\n",
                                          " 'MmusDv:0000053': '9 weeks',\n",
                                          " 'MmusDv:0000072': '22 weeks',\n",
                                          " 'MmusDv:0000110': 'mature stage',\n",
                                          " 'MmusDv:0000036': 'Theiler stage 27',\n",
                                          " 'MmusDv:0000089': '18 month-old stage',\n",
                                          " 'MmusDv:0000058': '14 weeks',\n",
                                          " 'MmusDv:0000087': '16 month-old stage',\n",
                                          " 'MmusDv:0000055': '11 weeks',\n",
                                          " 'MmusDv:0000068': '19 weeks',\n",
                                          " 'MmusDv:0000071': '21 weeks',\n",
                                          " 'MmusDv:0000054': '10 weeks',\n",
                                          " 'MmusDv:0000029': 'Theiler stage 22',\n",
                                          " 'MmusDv:0000057': '13 weeks',\n",
                                          " 'MmusDv:0000052': '8 weeks',\n",
                                          " 'MmusDv:0000065': '16 weeks',\n",
                                          " 'MmusDv:0000067': '18 weeks'}"
                                    ]
                              },
                              "execution_count": 21,
                              "metadata": {},
                              "output_type": "execute_result"
                        }
                  ],
                  "source": [
                        "translate(['MmusDv:0000021', 'MmusDv:0000024', 'MmusDv:0000026', 'MmusDv:0000027', 'MmusDv:0000028', 'MmusDv:0000029', 'MmusDv:0000032', 'MmusDv:0000033', 'MmusDv:0000034', 'MmusDv:0000035', 'MmusDv:0000036', 'MmusDv:0000037', 'MmusDv:0000046', 'MmusDv:0000048', 'MmusDv:0000049', 'MmusDv:0000050', 'MmusDv:0000051', 'MmusDv:0000052', 'MmusDv:0000053', 'MmusDv:0000054', 'MmusDv:0000055', 'MmusDv:0000056', 'MmusDv:0000057', 'MmusDv:0000058', 'MmusDv:0000059', 'MmusDv:0000061', 'MmusDv:0000062', 'MmusDv:0000063', 'MmusDv:0000064', 'MmusDv:0000065', 'MmusDv:0000066', 'MmusDv:0000067', 'MmusDv:0000068', 'MmusDv:0000070', 'MmusDv:0000071', 'MmusDv:0000072', 'MmusDv:0000073', 'MmusDv:0000074', 'MmusDv:0000077', 'MmusDv:0000079', 'MmusDv:0000087', 'MmusDv:0000089', 'MmusDv:0000091', 'MmusDv:0000098', 'MmusDv:0000099', 'MmusDv:0000102', 'MmusDv:0000110', 'MmusDv:0000113',], t=\"development_stage_ontology_term_id\")"
                  ]
            },
            {
                  "cell_type": "code",
                  "execution_count": 5,
                  "metadata": {},
                  "outputs": [
                        {
                              "data": {
                                    "text/plain": [
                                          "['HsapDv:0000204',\n",
                                          " 'HsapDv:0000227',\n",
                                          " 'HsapDv:0000272',\n",
                                          " 'HsapDv:0000095',\n",
                                          " 'HsapDv:0000092',\n",
                                          " 'HsapDv:0000089',\n",
                                          " 'HsapDv:0000265',\n",
                                          " 'HsapDv:0000271',\n",
                                          " 'HsapDv:0000083',\n",
                                          " 'HsapDv:0000262',\n",
                                          " 'HsapDv:0000007',\n",
                                          " 'HsapDv:0000008',\n",
                                          " 'HsapDv:0000009',\n",
                                          " 'HsapDv:0000003',\n",
                                          " 'HsapDv:0000005',\n",
                                          " 'HsapDv:0000010',\n",
                                          " 'HsapDv:0000012',\n",
                                          " 'HsapDv:0000015',\n",
                                          " 'HsapDv:0000037']"
                                    ]
                              },
                              "execution_count": 5,
                              "metadata": {},
                              "output_type": "execute_result"
                        }
                  ],
                  "source": [
                        "[bt.DevelopmentalStage.filter(name=i, ontology_id__startswith=\"HsapDv\").first().ontology_id for i in [\"mature stage\", \"late adult stage\", \"60-79 year-old stage\", \"80 year-old and over stage\", \"middle aged stage\", \"young adult stage\", \"child stage (1-4 yo)\", \"juvenile stage (5-14 yo)\", \"infant stage\", \"newborn stage (0-28 days)\", \"Carnegie stage 03\", \"Carnegie stage 04\", \"Carnegie stage 05\", \"Carnegie stage 01\", \"Carnegie stage 02\", \"gastrula stage\", \"neurula stage\", \"organogenesis stage\", \"fetal stage\"]]\n"
                  ]
            },
            {
                  "cell_type": "code",
                  "execution_count": null,
                  "metadata": {},
                  "outputs": [],
                  "source": [
                        "human_mouse_dev_stage_map = {\n",
                        "\"HsapDv:0000204\": [ # mature stage\n",
                        "  'MmusDv:0000110',#mature stage\n",
                        "  ],\n",
                        "\"HsapDv:0000227\": [ # late adult stage\n",
                        "  'MmusDv:0000091',#20 month-old stage\n",
                        "  'MmusDv:0000089',#18 month-old stage\n",
                        "  ],\n",
                        "\"HsapDv:0000272\": [], # 60-79 year-old stage\n",
                        "\"HsapDv:0000095\": [], # 80 year-old and over stage\n",
                        "\"HsapDv:0000092\": [ # middle aged stage\n",
                        "  'MmusDv:0000087',#16 month-old stage\n",
                        "  ],\n",
                        "\"HsapDv:0000089\": [ # young adult stage\n",
                        "  'MmusDv:0000061',#early adult stage\n",
                        "  'MmusDv:0000074',#24 weeks\n",
                        "  'MmusDv:0000098',#25 weeks\n",
                        "  'MmusDv:0000066',#17 weeks\n",
                        "  'MmusDv:0000099',#26 weeks\n",
                        "  'MmusDv:0000073',#23 weeks\n",
                        "  'MmusDv:0000051',#7 weeks\n",
                        "  'MmusDv:0000070',#20 weeks\n",
                        "  'MmusDv:0000059',#15 weeks\n",
                        "  'MmusDv:0000102',#29 weeks\n",
                        "  'MmusDv:0000053',#9 weeks\n",
                        "  'MmusDv:0000072',#22 weeks\n",
                        "  'MmusDv:0000058',#14 weeks\n",
                        "  'MmusDv:0000055',#11 weeks\n",
                        "  'MmusDv:0000068',#19 weeks\n",
                        "  'MmusDv:0000071',#21 weeks\n",
                        "  'MmusDv:0000054',#10 weeks\n",
                        "  'MmusDv:0000057',#13 weeks\n",
                        "  'MmusDv:0000052',#8 weeks\n",
                        "  'MmusDv:0000065',#16 weeks\n",
                        "  'MmusDv:0000067',#18 weeks\n",
                        "  'MmusDv:0000062',#2 month-old stage\n",
                        "  'MmusDv:0000077',#6 month-old stage\n",
                        "  'MmusDv:0000079',#8 month-old stage\n",
                        "  'MmusDv:0000050',#6 weeks\n",
                        "  'MmusDv:0000056',#12 weeks\n",
                        "  'MmusDv:0000063',#3 month-old stage\n",
                        "  'MmusDv:0000064',#4 month-old stage\n",
                        "  ],\n",
                        "\"HsapDv:0000265\": [], # child stage (1-4 yo)\n",
                        "\"HsapDv:0000271\": [ # juvenile stage (5-14 yo)\n",
                        "  'MmusDv:0000048',#4 weeks\n",
                        "  'MmusDv:0000049',#5 weeks\n",
                        "  ],\n",
                        "\"HsapDv:0000083\": [ # infant stage\n",
                        "  'MmusDv:0000046',#2 weeks:[]\n",
                        "  ],\n",
                        "\"HsapDv:0000262\": [ # newborn stage (0-28 days)\n",
                        "  'MmusDv:0000036',#Theiler stage 27\n",
                        "  'MmusDv:0000037',#Theiler stage 28\n",
                        "  'MmusDv:0000113',#4-7 days\n",
                        "  ],\n",
                        "\"HsapDv:0000007\": [], # Carnegie stage 03\n",
                        "\"HsapDv:0000008\": [], # Carnegie stage 04\n",
                        "\"HsapDv:0000009\": [], # Carnegie stage 05\n",
                        "\"HsapDv:0000003\": [], # Carnegie stage 01\n",
                        "\"HsapDv:0000005\": [], # Carnegie stage 02\n",
                        "\"HsapDv:0000010\": [], # gastrula stage\n",
                        "\"HsapDv:0000012\": [], # neurula stage\n",
                        "\"HsapDv:0000015\": [ # organogenesis stage\n",
                        "  'MmusDv:0000021',#Theiler stage 14\n",
                        "  'MmusDv:0000026',#Theiler stage 19\n",
                        "  'MmusDv:0000027',#Theiler stage 20\n",
                        "  'MmusDv:0000028',#Theiler stage 21\n",
                        "  'MmusDv:0000029',#Theiler stage 22\n",
                        "  'MmusDv:0000024',#Theiler stage 17\n",
                        "  ],\n",
                        "\"HsapDv:0000037\": [ # fetal stage\n",
                        "  'MmusDv:0000033',#Theiler stage 24\n",
                        "  'MmusDv:0000034',#Theiler stage 25\n",
                        "  'MmusDv:0000035',#Theiler stage 26\n",
                        "  'MmusDv:0000032',#Theiler stage 23\n",
                        "  ]\n",
                        "}"
                  ]
            },
            {
                  "cell_type": "code",
                  "execution_count": 5,
                  "metadata": {},
                  "outputs": [
                        {
                              "name": "stdout",
                              "output_type": "stream",
                              "text": [
                                    "\u001b[93m!\u001b[0m no run & transform got linked, call `ln.track()` & re-run\n",
                                    "\u001b[93m!\u001b[0m run input wasn't tracked, call `ln.track()` and re-run\n",
                                    "\u001b[93m!\u001b[0m run input wasn't tracked, call `ln.track()` and re-run\n",
                                    "won't do any check but we recommend to have your dataset coming from local storage\n",
                                    "100.0% are aligned\n",
                                    "seeing a string: loading gene positions as biomart parquet file\n",
                                    "> \u001b[0;32m/home/ml4ig1/Documents code/scDataLoader/scdataloader/datamodule.py\u001b[0m(148)\u001b[0;36m__init__\u001b[0;34m()\u001b[0m\n",
                                    "\u001b[0;32m    146 \u001b[0;31m\u001b[0;34m\u001b[0m\u001b[0m\n",
                                    "\u001b[0m\u001b[0;32m    147 \u001b[0;31m        \u001b[0mpdb\u001b[0m\u001b[0;34m.\u001b[0m\u001b[0mset_trace\u001b[0m\u001b[0;34m(\u001b[0m\u001b[0;34m)\u001b[0m\u001b[0;34m\u001b[0m\u001b[0;34m\u001b[0m\u001b[0m\n",
                                    "\u001b[0m\u001b[0;32m--> 148 \u001b[0;31m        \u001b[0;32mif\u001b[0m \u001b[0muse_default_col\u001b[0m\u001b[0;34m:\u001b[0m\u001b[0;34m\u001b[0m\u001b[0;34m\u001b[0m\u001b[0m\n",
                                    "\u001b[0m\u001b[0;32m    149 \u001b[0;31m            kwargs[\"collate_fn\"] = Collator(\n",
                                    "\u001b[0m\u001b[0;32m    150 \u001b[0;31m                \u001b[0morganisms\u001b[0m\u001b[0;34m=\u001b[0m\u001b[0morganisms\u001b[0m\u001b[0;34m,\u001b[0m\u001b[0;34m\u001b[0m\u001b[0;34m\u001b[0m\u001b[0m\n",
                                    "\u001b[0m\n"
                              ]
                        }
                  ],
                  "source": [
                        "datamodule = DataModule(\n",
                        "    collection_name=\"scPRINT-V2 test\", #some, all, preprocessed dataset, all no zhang, \n",
                        "    gene_embeddings=gene_emb,\n",
                        "    all_clss=all_clss,\n",
                        "    hierarchical_clss=hierarchical_clss,\n",
                        "    organisms=[\"NCBITaxon:9606\"],#, \"NCBITaxon:10090\"],\n",
                        "    how=\"most expr\",\n",
                        "    max_len=3200,\n",
                        "    add_zero_genes=0,\n",
                        "    # how much more you will see the most present vs less present category\n",
                        "    weight_scaler=100,\n",
                        "    clss_to_weight=clss_to_pred,\n",
                        "    clss_to_pred=clss_to_pred,\n",
                        "    batch_size=10,\n",
                        "    num_workers=12,\n",
                        "    # train_oversampling=2,\n",
                        "    validation_split=0.05,\n",
                        "    do_gene_pos='../data/main/biomart_pos.parquet',\n",
                        "    test_split=0.05)\n",
                        "testfiles = datamodule.setup()"
                  ]
            },
            {
                  "cell_type": "code",
                  "execution_count": 4,
                  "metadata": {},
                  "outputs": [],
                  "source": [
                        "# create a function to transform an scGPT checkpoint to an scPrint's\n",
                        "# ckpt = torch.load(\"../../scGPT/save/model_e6.pt\")\n",
                        "# scPrint.load_from_checkpoint(\"../../scGPT/save/model_e6.pt\")"
                  ]
            },
            {
                  "cell_type": "code",
                  "execution_count": 5,
                  "metadata": {},
                  "outputs": [],
                  "source": [
                        "# from lightning.pytorch.profilers import PyTorchProfiler\n",
                        "# pytorch_prof = PyTorchProfiler(\"../data/tensorboard\", emit_nvtx=False, group_by_input_shape=True, record_shapes=True, profile_memory=True, with_stack=True, on_trace_ready=torch.profiler.tensorboard_trace_handler(\"../data/tensorboard/\"),)"
                  ]
            },
            {
                  "cell_type": "code",
                  "execution_count": 13,
                  "metadata": {},
                  "outputs": [],
                  "source": [
                        "model.save_pretrained(\"test\")"
                  ]
            },
            {
                  "cell_type": "code",
                  "execution_count": 10,
                  "metadata": {},
                  "outputs": [
                        {
                              "data": {
                                    "application/vnd.jupyter.widget-view+json": {
                                          "model_id": "b911d78fb8384901bd66d59db8645dda",
                                          "version_major": 2,
                                          "version_minor": 0
                                    },
                                    "text/plain": [
                                          "pytorch_model.bin:   0%|          | 0.00/120M [00:00<?, ?B/s]"
                                    ]
                              },
                              "metadata": {},
                              "output_type": "display_data"
                        },
                        {
                              "ename": "TypeError",
                              "evalue": "scPrint.__init__() missing 1 required positional argument: 'genes'",
                              "output_type": "error",
                              "traceback": [
                                    "\u001b[0;31m---------------------------------------------------------------------------\u001b[0m",
                                    "\u001b[0;31mTypeError\u001b[0m                                 Traceback (most recent call last)",
                                    "Cell \u001b[0;32mIn[10], line 1\u001b[0m\n\u001b[0;32m----> 1\u001b[0m \u001b[43mscPrint\u001b[49m\u001b[38;5;241;43m.\u001b[39;49m\u001b[43mfrom_pretrained\u001b[49m\u001b[43m(\u001b[49m\u001b[38;5;124;43m\"\u001b[39;49m\u001b[38;5;124;43mjkobject/scPRINT\u001b[39;49m\u001b[38;5;124;43m\"\u001b[39;49m\u001b[43m)\u001b[49m\n",
                                    "File \u001b[0;32m~/miniconda3/envs/scprint17/lib/python3.10/site-packages/huggingface_hub/utils/_validators.py:118\u001b[0m, in \u001b[0;36mvalidate_hf_hub_args.<locals>._inner_fn\u001b[0;34m(*args, **kwargs)\u001b[0m\n\u001b[1;32m    115\u001b[0m \u001b[38;5;28;01mif\u001b[39;00m check_use_auth_token:\n\u001b[1;32m    116\u001b[0m     kwargs \u001b[38;5;241m=\u001b[39m smoothly_deprecate_use_auth_token(fn_name\u001b[38;5;241m=\u001b[39mfn\u001b[38;5;241m.\u001b[39m\u001b[38;5;18m__name__\u001b[39m, has_token\u001b[38;5;241m=\u001b[39mhas_token, kwargs\u001b[38;5;241m=\u001b[39mkwargs)\n\u001b[0;32m--> 118\u001b[0m \u001b[38;5;28;01mreturn\u001b[39;00m \u001b[43mfn\u001b[49m\u001b[43m(\u001b[49m\u001b[38;5;241;43m*\u001b[39;49m\u001b[43margs\u001b[49m\u001b[43m,\u001b[49m\u001b[43m \u001b[49m\u001b[38;5;241;43m*\u001b[39;49m\u001b[38;5;241;43m*\u001b[39;49m\u001b[43mkwargs\u001b[49m\u001b[43m)\u001b[49m\n",
                                    "File \u001b[0;32m~/miniconda3/envs/scprint17/lib/python3.10/site-packages/huggingface_hub/hub_mixin.py:157\u001b[0m, in \u001b[0;36mModelHubMixin.from_pretrained\u001b[0;34m(cls, pretrained_model_name_or_path, force_download, resume_download, proxies, token, cache_dir, local_files_only, revision, **model_kwargs)\u001b[0m\n\u001b[1;32m    154\u001b[0m         config \u001b[38;5;241m=\u001b[39m json\u001b[38;5;241m.\u001b[39mload(f)\n\u001b[1;32m    155\u001b[0m     model_kwargs\u001b[38;5;241m.\u001b[39mupdate({\u001b[38;5;124m\"\u001b[39m\u001b[38;5;124mconfig\u001b[39m\u001b[38;5;124m\"\u001b[39m: config})\n\u001b[0;32m--> 157\u001b[0m \u001b[38;5;28;01mreturn\u001b[39;00m \u001b[38;5;28;43mcls\u001b[39;49m\u001b[38;5;241;43m.\u001b[39;49m\u001b[43m_from_pretrained\u001b[49m\u001b[43m(\u001b[49m\n\u001b[1;32m    158\u001b[0m \u001b[43m    \u001b[49m\u001b[43mmodel_id\u001b[49m\u001b[38;5;241;43m=\u001b[39;49m\u001b[38;5;28;43mstr\u001b[39;49m\u001b[43m(\u001b[49m\u001b[43mmodel_id\u001b[49m\u001b[43m)\u001b[49m\u001b[43m,\u001b[49m\n\u001b[1;32m    159\u001b[0m \u001b[43m    \u001b[49m\u001b[43mrevision\u001b[49m\u001b[38;5;241;43m=\u001b[39;49m\u001b[43mrevision\u001b[49m\u001b[43m,\u001b[49m\n\u001b[1;32m    160\u001b[0m \u001b[43m    \u001b[49m\u001b[43mcache_dir\u001b[49m\u001b[38;5;241;43m=\u001b[39;49m\u001b[43mcache_dir\u001b[49m\u001b[43m,\u001b[49m\n\u001b[1;32m    161\u001b[0m \u001b[43m    \u001b[49m\u001b[43mforce_download\u001b[49m\u001b[38;5;241;43m=\u001b[39;49m\u001b[43mforce_download\u001b[49m\u001b[43m,\u001b[49m\n\u001b[1;32m    162\u001b[0m \u001b[43m    \u001b[49m\u001b[43mproxies\u001b[49m\u001b[38;5;241;43m=\u001b[39;49m\u001b[43mproxies\u001b[49m\u001b[43m,\u001b[49m\n\u001b[1;32m    163\u001b[0m \u001b[43m    \u001b[49m\u001b[43mresume_download\u001b[49m\u001b[38;5;241;43m=\u001b[39;49m\u001b[43mresume_download\u001b[49m\u001b[43m,\u001b[49m\n\u001b[1;32m    164\u001b[0m \u001b[43m    \u001b[49m\u001b[43mlocal_files_only\u001b[49m\u001b[38;5;241;43m=\u001b[39;49m\u001b[43mlocal_files_only\u001b[49m\u001b[43m,\u001b[49m\n\u001b[1;32m    165\u001b[0m \u001b[43m    \u001b[49m\u001b[43mtoken\u001b[49m\u001b[38;5;241;43m=\u001b[39;49m\u001b[43mtoken\u001b[49m\u001b[43m,\u001b[49m\n\u001b[1;32m    166\u001b[0m \u001b[43m    \u001b[49m\u001b[38;5;241;43m*\u001b[39;49m\u001b[38;5;241;43m*\u001b[39;49m\u001b[43mmodel_kwargs\u001b[49m\u001b[43m,\u001b[49m\n\u001b[1;32m    167\u001b[0m \u001b[43m\u001b[49m\u001b[43m)\u001b[49m\n",
                                    "File \u001b[0;32m~/miniconda3/envs/scprint17/lib/python3.10/site-packages/huggingface_hub/hub_mixin.py:362\u001b[0m, in \u001b[0;36mPyTorchModelHubMixin._from_pretrained\u001b[0;34m(cls, model_id, revision, cache_dir, force_download, proxies, resume_download, local_files_only, token, map_location, strict, **model_kwargs)\u001b[0m\n\u001b[1;32m    350\u001b[0m \u001b[38;5;28;01melse\u001b[39;00m:\n\u001b[1;32m    351\u001b[0m     model_file \u001b[38;5;241m=\u001b[39m hf_hub_download(\n\u001b[1;32m    352\u001b[0m         repo_id\u001b[38;5;241m=\u001b[39mmodel_id,\n\u001b[1;32m    353\u001b[0m         filename\u001b[38;5;241m=\u001b[39mPYTORCH_WEIGHTS_NAME,\n\u001b[0;32m   (...)\u001b[0m\n\u001b[1;32m    360\u001b[0m         local_files_only\u001b[38;5;241m=\u001b[39mlocal_files_only,\n\u001b[1;32m    361\u001b[0m     )\n\u001b[0;32m--> 362\u001b[0m model \u001b[38;5;241m=\u001b[39m \u001b[38;5;28;43mcls\u001b[39;49m\u001b[43m(\u001b[49m\u001b[38;5;241;43m*\u001b[39;49m\u001b[38;5;241;43m*\u001b[39;49m\u001b[43mmodel_kwargs\u001b[49m\u001b[43m)\u001b[49m\n\u001b[1;32m    364\u001b[0m state_dict \u001b[38;5;241m=\u001b[39m torch\u001b[38;5;241m.\u001b[39mload(model_file, map_location\u001b[38;5;241m=\u001b[39mtorch\u001b[38;5;241m.\u001b[39mdevice(map_location))\n\u001b[1;32m    365\u001b[0m model\u001b[38;5;241m.\u001b[39mload_state_dict(state_dict, strict\u001b[38;5;241m=\u001b[39mstrict)  \u001b[38;5;66;03m# type: ignore\u001b[39;00m\n",
                                    "\u001b[0;31mTypeError\u001b[0m: scPrint.__init__() missing 1 required positional argument: 'genes'"
                              ]
                        }
                  ],
                  "source": [
                        "scPrint.push_to_hub(\"jkobject/scPRINT\")"
                  ]
            },
            {
                  "cell_type": "code",
                  "execution_count": 7,
                  "metadata": {},
                  "outputs": [
                        {
                              "data": {
                                    "text/plain": [
                                          "'cuda'"
                                    ]
                              },
                              "execution_count": 7,
                              "metadata": {},
                              "output_type": "execute_result"
                        }
                  ],
                  "source": [
                        "model.device.type"
                  ]
            },
            {
                  "cell_type": "code",
                  "execution_count": 5,
                  "metadata": {},
                  "outputs": [],
                  "source": [
                        "model = model.to(\"cuda\")\n",
                        "with torch.autocast(device_type=\"cuda\", dtype=torch.float16):\n",
                        "    for batch in datamodule.train_dataloader():\n",
                        "        gene_pos, expression, depth = (batch[\"genes\"], batch[\"x\"], batch[\"depth\"])\n",
                        "        gene_pos, expression, depth = gene_pos.to(\"cuda\"), expression.to(\"cuda\"), depth.to(\"cuda\")\n",
                        "        res = model._predict(gene_pos, expression, depth)\n",
                        "        break\n"
                  ]
            },
            {
                  "cell_type": "code",
                  "execution_count": 4,
                  "metadata": {},
                  "outputs": [],
                  "source": [
                        "model = scPrint(\n",
                        "    genes=datamodule.genes,\n",
                        "    d_model=d_model*4,\n",
                        "    nhead=4*2,\n",
                        "    nlayers=1,\n",
                        "    layers_cls = [d_model],\n",
                        "    classes = datamodule.classes,\n",
                        "    labels_hierarchy = datamodule.labels_hierarchy,\n",
                        "    dropout=0,\n",
                        "    transformer=\"flash\",\n",
                        "    precpt_gene_emb=gene_emb,\n",
                        "    gene_pos_enc=datamodule.gene_pos,\n",
                        "    mvc_decoder=\"inner product\",\n",
                        "    label_decoders = datamodule.decoders,\n",
                        "    fused_dropout_add_ln=False,\n",
                        "    num_batch_labels = datamodule.num_datasets,\n",
                        "    checkpointing=False,\n",
                        "    prenorm=True,\n",
                        "    num_heads_kv=,\n",
                        "    #weight_decay=0.01,\n",
                        "    #zinb=False\n",
                        ")"
                  ]
            },
            {
                  "cell_type": "code",
                  "execution_count": 6,
                  "metadata": {},
                  "outputs": [
                        {
                              "name": "stderr",
                              "output_type": "stream",
                              "text": [
                                    "2024-05-22 13:05:20,668:ERROR - Failed to detect the name of this notebook, you can set it manually with the WANDB_NOTEBOOK_NAME environment variable to enable code saving.\n",
                                    "wandb: Currently logged in as: jkobject (ml4ig). Use `wandb login --relogin` to force relogin\n",
                                    "/home/ml4ig1/miniconda3/envs/scprint/lib/python3.10/site-packages/wandb/sdk/lib/ipython.py:77: DeprecationWarning: Importing display from IPython.core.display is deprecated since IPython 7.14, please import from IPython display\n",
                                    "  from IPython.core.display import HTML, display  # type: ignore\n"
                              ]
                        },
                        {
                              "data": {
                                    "text/html": [
                                          "wandb version 0.17.0 is available!  To upgrade, please run:\n",
                                          " $ pip install wandb --upgrade"
                                    ],
                                    "text/plain": [
                                          "<IPython.core.display.HTML object>"
                                    ]
                              },
                              "metadata": {},
                              "output_type": "display_data"
                        },
                        {
                              "data": {
                                    "text/html": [
                                          "Tracking run with wandb version 0.16.2"
                                    ],
                                    "text/plain": [
                                          "<IPython.core.display.HTML object>"
                                    ]
                              },
                              "metadata": {},
                              "output_type": "display_data"
                        },
                        {
                              "data": {
                                    "text/html": [
                                          "Run data is saved locally in <code>../data/tensorboard/wandb/run-20240522_130522-63lflkuu</code>"
                                    ],
                                    "text/plain": [
                                          "<IPython.core.display.HTML object>"
                                    ]
                              },
                              "metadata": {},
                              "output_type": "display_data"
                        },
                        {
                              "data": {
                                    "text/html": [
                                          "Syncing run <strong><a href='https://wandb.ai/ml4ig/scprint_test/runs/63lflkuu' target=\"_blank\">amber-water-9</a></strong> to <a href='https://wandb.ai/ml4ig/scprint_test' target=\"_blank\">Weights & Biases</a> (<a href='https://wandb.me/run' target=\"_blank\">docs</a>)<br/>"
                                    ],
                                    "text/plain": [
                                          "<IPython.core.display.HTML object>"
                                    ]
                              },
                              "metadata": {},
                              "output_type": "display_data"
                        },
                        {
                              "data": {
                                    "text/html": [
                                          " View project at <a href='https://wandb.ai/ml4ig/scprint_test' target=\"_blank\">https://wandb.ai/ml4ig/scprint_test</a>"
                                    ],
                                    "text/plain": [
                                          "<IPython.core.display.HTML object>"
                                    ]
                              },
                              "metadata": {},
                              "output_type": "display_data"
                        },
                        {
                              "data": {
                                    "text/html": [
                                          " View run at <a href='https://wandb.ai/ml4ig/scprint_test/runs/63lflkuu' target=\"_blank\">https://wandb.ai/ml4ig/scprint_test/runs/63lflkuu</a>"
                                    ],
                                    "text/plain": [
                                          "<IPython.core.display.HTML object>"
                                    ]
                              },
                              "metadata": {},
                              "output_type": "display_data"
                        },
                        {
                              "name": "stderr",
                              "output_type": "stream",
                              "text": [
                                    "wandb: logging graph, to disable use `wandb.watch(log_graph=False)`\n"
                              ]
                        }
                  ],
                  "source": [
                        "# from lightning.pytorch.loggers import TensorBoardLogger\n",
                        "from lightning.pytorch.loggers import WandbLogger\n",
                        "\n",
                        "wandb_logger = WandbLogger(project=\"scprint_test\",\n",
                        "                           save_dir=\"../data/tensorboard\")\n",
                        "wandb_logger.watch(model, log='all', log_freq=50, log_graph=True)\n",
                        "\n",
                        "# tlogger = TensorBoardLogger(save_dir=\"../data/tensorboard\")\n",
                        "# tlogger.log_graph(model)"
                  ]
            },
            {
                  "cell_type": "code",
                  "execution_count": 1,
                  "metadata": {},
                  "outputs": [],
                  "source": [
                        "import gseapy as gp"
                  ]
            },
            {
                  "cell_type": "code",
                  "execution_count": 2,
                  "metadata": {},
                  "outputs": [],
                  "source": [
                        "tfchip = gp.get_library(name=\"ENCODE_TF_ChIP-seq_2014\")\n"
                  ]
            },
            {
                  "cell_type": "code",
                  "execution_count": 4,
                  "metadata": {},
                  "outputs": [],
                  "source": [
                        "import json\n",
                        "\n",
                        "# Save the dictionary to a JSON file\n",
                        "with open('../data/tfchip_data.json', 'w') as file:\n",
                        "    json.dump(tfchip, file)\n",
                        "\n",
                        "# Load the dictionary back from the JSON file\n",
                        "with open('tfchip_data.json', 'r') as file:\n",
                        "    tfchip_loaded = json.load(file)\n"
                  ]
            },
            {
                  "cell_type": "code",
                  "execution_count": 7,
                  "metadata": {},
                  "outputs": [
                        {
                              "name": "stderr",
                              "output_type": "stream",
                              "text": [
                                    "Using 16bit Automatic Mixed Precision (AMP)\n",
                                    "GPU available: True (cuda), used: True\n",
                                    "TPU available: False, using: 0 TPU cores\n",
                                    "IPU available: False, using: 0 IPUs\n",
                                    "HPU available: False, using: 0 HPUs\n",
                                    "`Trainer(limit_val_batches=1)` was configured so 1 batch will be used.\n"
                              ]
                        }
                  ],
                  "source": [
                        "chckp = ModelCheckpoint(monitor=\"val_loss\", save_top_k=-1)\n",
                        "trainingmode = TrainingMode(\n",
                        "    do_denoise=True,\n",
                        "    noise=[0.01],\n",
                        "    do_cce=False,\n",
                        "    cce_sim=0.6,\n",
                        "    do_ecs=False,\n",
                        "    ecs_threshold=0.4,\n",
                        "    ecs_scale=0.05,\n",
                        "    class_scale=0.08,\n",
                        "    do_cls=False,\n",
                        "    do_mvc=False,\n",
                        "    do_adv_cls=False,\n",
                        "    do_next_tp=False,\n",
                        "    mask_ratio=[],\n",
                        "    warmup_duration=100,\n",
                        "    fused_adam=True,\n",
                        "    lr_reduce_patience=200,\n",
                        ")\n",
                        "# es = EarlyStopping(patience=2, monitor='val_loss')\n",
                        "# swa = StochasticWeightAveraging(swa_lrs= 0.01)\n",
                        "# lrm = LearningRateMonitor(logging_interval=\"step\")\n",
                        "# lrf = LearningRateFinder(mode=\"exponential\",)\n",
                        "# TODO: to check that the class hierarchy are really ordered from 1-2-3-4... as well (oredered dict)\n",
                        "# , logger=tlogger) #detect_anomaly=True, fast_dev_run=20, overfit_batches=10, limit_train_batches=1, limit_val_batches=0\n",
                        "trainer = Trainer(precision=\"16-mixed\", gradient_clip_val=500, max_time={\"hours\": 2}, limit_val_batches=1, callbacks=[\n",
                        "                  trainingmode], accumulate_grad_batches=1, check_val_every_n_epoch=1, reload_dataloaders_every_n_epochs=1000000, logger=wandb_logger)\n",
                        "# logger=wandb_logger,"
                  ]
            },
            {
                  "cell_type": "code",
                  "execution_count": 7,
                  "metadata": {},
                  "outputs": [
                        {
                              "name": "stderr",
                              "output_type": "stream",
                              "text": [
                                    "Using 16bit Automatic Mixed Precision (AMP)\n",
                                    "GPU available: True (cuda), used: True\n",
                                    "TPU available: False, using: 0 TPU cores\n",
                                    "IPU available: False, using: 0 IPUs\n",
                                    "HPU available: False, using: 0 HPUs\n",
                                    "`Trainer(overfit_batches=1)` was configured so 1 batch will be used.\n"
                              ]
                        }
                  ],
                  "source": [
                        "# sanity. should be overfiting.\n",
                        "trainer = Trainer(precision=\"16-mixed\", gradient_clip_val=500, max_time={\"hours\": 2}, limit_val_batches=1, callbacks=[\n",
                        "                  trainingmode], accumulate_grad_batches=1, check_val_every_n_epoch=1, overfit_batches=1, reload_dataloaders_every_n_epochs=1000_000, logger=wandb_logger, num_sanity_val_steps=0)"
                  ]
            },
            {
                  "cell_type": "code",
                  "execution_count": null,
                  "metadata": {},
                  "outputs": [],
                  "source": [
                        "from scprint.tasks.grn import default_benchmark"
                  ]
            },
            {
                  "cell_type": "code",
                  "execution_count": 9,
                  "metadata": {},
                  "outputs": [],
                  "source": [
                        "model.lr_reduce_patience = 50\n",
                        "model.lr_reduce_ratio = 0.2"
                  ]
            },
            {
                  "cell_type": "code",
                  "execution_count": 10,
                  "metadata": {},
                  "outputs": [],
                  "source": [
                        "model.lr = 0.00001"
                  ]
            },
            {
                  "cell_type": "code",
                  "execution_count": null,
                  "metadata": {},
                  "outputs": [
                        {
                              "name": "stderr",
                              "output_type": "stream",
                              "text": [
                                    "/home/ml4ig1/Documents code/scPRINT/scprint/tasks/grn.py:515: FutureWarning: Series.__getitem__ treating keys as positions is deprecated. In a future version, integer keys will always be treated as labels (consistent with DataFrame behavior). To access a value by position, use `ser.iloc[pos]`\n",
                                    "  organisms=adata.obs['organism_ontology_term_id'][0],\n",
                                    "Using 16bit Automatic Mixed Precision (AMP)\n",
                                    "GPU available: True (cuda), used: True\n",
                                    "TPU available: False, using: 0 TPU cores\n",
                                    "IPU available: False, using: 0 IPUs\n",
                                    "HPU available: False, using: 0 HPUs\n",
                                    "/home/ml4ig1/Documents code/scPRINT/scprint/tasks/grn.py:167: FutureWarning: Series.__getitem__ treating keys as positions is deprecated. In a future version, integer keys will always be treated as labels (consistent with DataFrame behavior). To access a value by position, use `ser.iloc[pos]`\n",
                                    "  organisms=[subadata.obs['organism_ontology_term_id'][0]],\n",
                                    "LOCAL_RANK: 0 - CUDA_VISIBLE_DEVICES: [0]\n"
                              ]
                        },
                        {
                              "data": {
                                    "application/vnd.jupyter.widget-view+json": {
                                          "model_id": "e98d671466dc4343b9e21418751bc904",
                                          "version_major": 2,
                                          "version_minor": 0
                                    },
                                    "text/plain": [
                                          "Predicting: 0it [00:00, ?it/s]"
                                    ]
                              },
                              "metadata": {},
                              "output_type": "display_data"
                        },
                        {
                              "name": "stdout",
                              "output_type": "stream",
                              "text": [
                                    "avg link count: 536246649, sparsity: 1.0\n",
                                    "base enrichment\n",
                                    "too many genes for central computation\n",
                                    "_________________________________________\n",
                                    "TF specific enrichment\n"
                              ]
                        },
                        {
                              "name": "stderr",
                              "output_type": "stream",
                              "text": [
                                    "2024-05-22 13:16:10,303:INFO - Downloading and generating Enrichr library gene sets...\n",
                                    "2024-05-22 13:16:10,305:INFO - Library is already downloaded in: /home/ml4ig1/.cache/gseapy/Enrichr.ENCODE_TF_ChIP-seq_2014.gmt, use local file\n",
                                    "2024-05-22 13:16:10,530:INFO - 0332 gene_sets have been filtered out when max_size=2000 and min_size=0\n"
                              ]
                        },
                        {
                              "name": "stdout",
                              "output_type": "stream",
                              "text": [
                                    "found some significant results for  7.142857142857143 % TFs\n",
                                    "\n",
                                    "_________________________________________\n",
                                    "loading GT,  omnipath\n"
                              ]
                        },
                        {
                              "name": "stderr",
                              "output_type": "stream",
                              "text": [
                                    "/home/ml4ig1/Documents code/benGRN/bengrn/base.py:109: DeprecationWarning: `np.float` is a deprecated alias for the builtin `float`. To silence this warning, use `float` by itself. Doing this will not modify any behavior and is safe. If you specifically wanted the numpy scalar type, use `np.float64` here.\n",
                                    "Deprecated in NumPy 1.20; for more details and guidance: https://numpy.org/devdocs/release/1.20.0-notes.html#deprecations\n",
                                    "  da = np.zeros(adj.shape, dtype=np.float)\n",
                                    " 99%|█████████▉| 98/99 [00:26<00:00,  3.76it/s]/home/ml4ig1/Documents code/benGRN/bengrn/base.py:683: RuntimeWarning: invalid value encountered in long_scalars\n",
                                    "  precision_list.append(precision)\n",
                                    "100%|██████████| 99/99 [00:26<00:00,  3.74it/s]\n",
                                    "/home/ml4ig1/Documents code/scPRINT/scprint/tasks/grn.py:532: FutureWarning: Series.__getitem__ treating keys as positions is deprecated. In a future version, integer keys will always be treated as labels (consistent with DataFrame behavior). To access a value by position, use `ser.iloc[pos]`\n",
                                    "  organisms=adata.obs['organism_ontology_term_id'][0],\n",
                                    "Using 16bit Automatic Mixed Precision (AMP)\n",
                                    "GPU available: True (cuda), used: True\n",
                                    "TPU available: False, using: 0 TPU cores\n",
                                    "IPU available: False, using: 0 IPUs\n",
                                    "HPU available: False, using: 0 HPUs\n"
                              ]
                        },
                        {
                              "name": "stdout",
                              "output_type": "stream",
                              "text": [
                                    "WARNING: Default of the method has been changed to 't-test' from 't-test_overestim_var'\n",
                                    "WARNING: It seems you use rank_genes_groups on the raw count data. Please logarithmize your data before calling rank_genes_groups.\n"
                              ]
                        },
                        {
                              "name": "stderr",
                              "output_type": "stream",
                              "text": [
                                    "/home/ml4ig1/Documents code/scPRINT/scprint/tasks/grn.py:167: FutureWarning: Series.__getitem__ treating keys as positions is deprecated. In a future version, integer keys will always be treated as labels (consistent with DataFrame behavior). To access a value by position, use `ser.iloc[pos]`\n",
                                    "  organisms=[subadata.obs['organism_ontology_term_id'][0]],\n",
                                    "LOCAL_RANK: 0 - CUDA_VISIBLE_DEVICES: [0]\n"
                              ]
                        },
                        {
                              "data": {
                                    "application/vnd.jupyter.widget-view+json": {
                                          "model_id": "6efb9f25b0e24313a1b02f7cc939b638",
                                          "version_major": 2,
                                          "version_minor": 0
                                    },
                                    "text/plain": [
                                          "Predicting: 0it [00:00, ?it/s]"
                                    ]
                              },
                              "metadata": {},
                              "output_type": "display_data"
                        },
                        {
                              "name": "stderr",
                              "output_type": "stream",
                              "text": [
                                    "/home/ml4ig1/Documents code/benGRN/bengrn/base.py:277: DeprecationWarning: `np.float` is a deprecated alias for the builtin `float`. To silence this warning, use `float` by itself. Doing this will not modify any behavior and is safe. If you specifically wanted the numpy scalar type, use `np.float64` here.\n",
                                    "Deprecated in NumPy 1.20; for more details and guidance: https://numpy.org/devdocs/release/1.20.0-notes.html#deprecations\n",
                                    "  if i in genes and j in genes:\n"
                              ]
                        },
                        {
                              "name": "stdout",
                              "output_type": "stream",
                              "text": [
                                    "true elem 14408 ...\n",
                                    "doing regression....\n"
                              ]
                        },
                        {
                              "name": "stderr",
                              "output_type": "stream",
                              "text": [
                                    "/home/ml4ig1/Documents code/benGRN/bengrn/base.py:303: RuntimeWarning: invalid value encountered in long_scalars\n",
                                    "  \"recall\": (pred[y_test == 1] == 1).sum() / y_test.sum(),\n"
                              ]
                        },
                        {
                              "ename": "ValueError",
                              "evalue": "too many values to unpack (expected 2)",
                              "output_type": "error",
                              "traceback": [
                                    "\u001b[0;31m---------------------------------------------------------------------------\u001b[0m",
                                    "\u001b[0;31mValueError\u001b[0m                                Traceback (most recent call last)",
                                    "Cell \u001b[0;32mIn[11], line 1\u001b[0m\n\u001b[0;32m----> 1\u001b[0m \u001b[43mdefault_benchmark\u001b[49m\u001b[43m(\u001b[49m\u001b[43mmodel\u001b[49m\u001b[43m,\u001b[49m\u001b[43m \u001b[49m\u001b[43mdefault_dataset\u001b[49m\u001b[38;5;241;43m=\u001b[39;49m\u001b[38;5;124;43m\"\u001b[39;49m\u001b[38;5;124;43m../data/yBCKp6HmXuHa0cZptMo7.h5ad\u001b[39;49m\u001b[38;5;124;43m\"\u001b[39;49m\u001b[43m)\u001b[49m \u001b[38;5;66;03m#gwps, other\u001b[39;00m\n",
                                    "File \u001b[0;32m~/Documents code/scPRINT/scprint/tasks/grn.py:539\u001b[0m, in \u001b[0;36mdefault_benchmark\u001b[0;34m(model, default_dataset, cell_types, maxlayers, maxgenes)\u001b[0m\n\u001b[1;32m    526\u001b[0m grn_inferer \u001b[38;5;241m=\u001b[39m GRNfer(model, adata[adata\u001b[38;5;241m.\u001b[39mX\u001b[38;5;241m.\u001b[39msum(\u001b[38;5;241m1\u001b[39m) \u001b[38;5;241m>\u001b[39m \u001b[38;5;241m500\u001b[39m],\n\u001b[1;32m    527\u001b[0m                      how\u001b[38;5;241m=\u001b[39m\u001b[38;5;124m\"\u001b[39m\u001b[38;5;124mmost var across\u001b[39m\u001b[38;5;124m\"\u001b[39m,\n\u001b[1;32m    528\u001b[0m                      preprocess\u001b[38;5;241m=\u001b[39m\u001b[38;5;124m\"\u001b[39m\u001b[38;5;124msoftmax\u001b[39m\u001b[38;5;124m\"\u001b[39m,\n\u001b[0;32m   (...)\u001b[0m\n\u001b[1;32m    536\u001b[0m                      batch_size\u001b[38;5;241m=\u001b[39m\u001b[38;5;241m32\u001b[39m,\n\u001b[1;32m    537\u001b[0m                      )\n\u001b[1;32m    538\u001b[0m grn \u001b[38;5;241m=\u001b[39m grn_inferer(layer\u001b[38;5;241m=\u001b[39m\u001b[38;5;28mlist\u001b[39m(\u001b[38;5;28mrange\u001b[39m(model\u001b[38;5;241m.\u001b[39mnlayers))[:], cell_type\u001b[38;5;241m=\u001b[39mcelltype)\n\u001b[0;32m--> 539\u001b[0m grn, m \u001b[38;5;241m=\u001b[39m train_classifier(grn, C\u001b[38;5;241m=\u001b[39m\u001b[38;5;241m0.1\u001b[39m, train_size\u001b[38;5;241m=\u001b[39m\u001b[38;5;241m0.5\u001b[39m, class_weight\u001b[38;5;241m=\u001b[39m{\n\u001b[1;32m    540\u001b[0m                           \u001b[38;5;241m1\u001b[39m: \u001b[38;5;241m100\u001b[39m, \u001b[38;5;241m0\u001b[39m: \u001b[38;5;241m1\u001b[39m}, shuffle\u001b[38;5;241m=\u001b[39m\u001b[38;5;28;01mFalse\u001b[39;00m, doplot\u001b[38;5;241m=\u001b[39m\u001b[38;5;28;01mFalse\u001b[39;00m)\n\u001b[1;32m    541\u001b[0m grn\u001b[38;5;241m.\u001b[39mvarp[\u001b[38;5;124m'\u001b[39m\u001b[38;5;124mGRN\u001b[39m\u001b[38;5;124m'\u001b[39m] \u001b[38;5;241m=\u001b[39m grn\u001b[38;5;241m.\u001b[39mvarp[\u001b[38;5;124m'\u001b[39m\u001b[38;5;124mclassified\u001b[39m\u001b[38;5;124m'\u001b[39m]\n\u001b[1;32m    542\u001b[0m grn\u001b[38;5;241m.\u001b[39mvar\u001b[38;5;241m.\u001b[39mindex \u001b[38;5;241m=\u001b[39m make_index_unique(grn\u001b[38;5;241m.\u001b[39mvar[\u001b[38;5;124m'\u001b[39m\u001b[38;5;124msymbol\u001b[39m\u001b[38;5;124m'\u001b[39m]\u001b[38;5;241m.\u001b[39mastype(\u001b[38;5;28mstr\u001b[39m))\n",
                                    "\u001b[0;31mValueError\u001b[0m: too many values to unpack (expected 2)"
                              ]
                        },
                        {
                              "ename": "",
                              "evalue": "",
                              "output_type": "error",
                              "traceback": [
                                    "\u001b[1;31mThe Kernel crashed while executing code in the current cell or a previous cell. \n",
                                    "\u001b[1;31mPlease review the code in the cell(s) to identify a possible cause of the failure. \n",
                                    "\u001b[1;31mClick <a href='https://aka.ms/vscodeJupyterKernelCrash'>here</a> for more info. \n",
                                    "\u001b[1;31mView Jupyter <a href='command:jupyter.viewOutput'>log</a> for further details."
                              ]
                        }
                  ],
                  "source": [
                        "default_benchmark(model, default_dataset=\"../data/yBCKp6HmXuHa0cZptMo7.h5ad\") #gwps, other"
                  ]
            },
            {
                  "cell_type": "code",
                  "execution_count": 9,
                  "metadata": {},
                  "outputs": [],
                  "source": [
                        "trainer.fit(model, datamodule=datamodule)"
                  ]
            },
            {
                  "cell_type": "code",
                  "execution_count": null,
                  "metadata": {},
                  "outputs": [],
                  "source": [
                        "weirdly, when input expression is set to 0 and pi is set to 1000. I get a loss of 0\n",
                        "when input expression is set to some set of values and pi=-10, disp=max, mean=input, I get 0.479, decreasing pi doesn't help, making it higher, makes it worse, max of disp is ~3M afterward it increases back (likely due to some overflow??). I am guessing that it would need to be set to infinity for it to work. might be better to use dispersion instead of inverse dispersion?\n",
                        "\n",
                        "all things equal, if disp is set to 2_700_000, I get loss tensor(3.8694, device='cuda:0')\n",
                        "if disp is 2_700_000+1 -> tensor(0.1994, device='cuda:0')\n",
                        "\n",
                        "basically it seems that at too high values or at too low values we get strong instabilities that are exacerbated by the fact that we are in float16.\n",
                        "could it also be because of the espilon? nope\n",
                        "\n",
                        "-> why doesn't my model go to this low loss value??\n",
                        "\n"
                  ]
            },
            {
                  "cell_type": "code",
                  "execution_count": null,
                  "metadata": {},
                  "outputs": [],
                  "source": [
                        "1. there seems to be an in-between value of disp that makes sense given the expression data\n",
                        "2. "
                  ]
            },
            {
                  "cell_type": "code",
                  "execution_count": null,
                  "metadata": {},
                  "outputs": [],
                  "source": [
                        "import torch.nn.functional as F"
                  ]
            },
            {
                  "cell_type": "code",
                  "execution_count": null,
                  "metadata": {},
                  "outputs": [],
                  "source": [
                        "F.mse_loss(expression, expression, reduction=\"mean\")"
                  ]
            },
            {
                  "cell_type": "code",
                  "execution_count": null,
                  "metadata": {},
                  "outputs": [],
                  "source": [
                        "loss.nb(\n",
                        "    theta=disp,\n",
                        "    mu=expression,\n",
                        "    target=expression,\n",
                        ")"
                  ]
            },
            {
                  "cell_type": "code",
                  "execution_count": null,
                  "metadata": {},
                  "outputs": [],
                  "source": [
                        "loss.zinb(\n",
                        "    theta=output[\"disp\"],\n",
                        "    pi=output[\"zero_logits\"],\n",
                        "    mu=output[\"mean\"],\n",
                        "    target=expression,\n",
                        ")"
                  ]
            },
            {
                  "cell_type": "code",
                  "execution_count": null,
                  "metadata": {},
                  "outputs": [],
                  "source": [
                        "loss.zinb(\n",
                        "    theta=output[\"disp\"] + 10000,\n",
                        "    pi=output[\"zero_logits\"]-3,\n",
                        "    mu=expression,\n",
                        "    target=expression,\n",
                        ")"
                  ]
            },
            {
                  "cell_type": "code",
                  "execution_count": null,
                  "metadata": {},
                  "outputs": [],
                  "source": [
                        "loss.nb(\n",
                        "    theta=output[\"disp\"],\n",
                        "    mu=output[\"mean\"],\n",
                        "    target=expression,\n",
                        ").mean()"
                  ]
            },
            {
                  "cell_type": "code",
                  "execution_count": null,
                  "metadata": {},
                  "outputs": [],
                  "source": [
                        "expr = expression.clone()\n",
                        "expr[:,-20:] = 0\n",
                        "expr[:,:20] +=1"
                  ]
            },
            {
                  "cell_type": "code",
                  "execution_count": null,
                  "metadata": {},
                  "outputs": [],
                  "source": [
                        "loss.zinb(\n",
                        "    theta=disp,\n",
                        "    pi=pi,\n",
                        "    mu=output[\"mean\"],\n",
                        "    target=expression,\n",
                        ")"
                  ]
            },
            {
                  "cell_type": "code",
                  "execution_count": null,
                  "metadata": {},
                  "outputs": [],
                  "source": [
                        "loss.zinb(\n",
                        "    theta=disp,\n",
                        "    pi=pi,\n",
                        "    mu=1e4*output[\"mean\"]/expression.sum(),\n",
                        "    target=1e4*expression/expression.sum(),\n",
                        ")"
                  ]
            },
            {
                  "cell_type": "code",
                  "execution_count": null,
                  "metadata": {},
                  "outputs": [],
                  "source": [
                        "loss.zinb(\n",
                        "    theta=disp,\n",
                        "    pi=pi,\n",
                        "    mu=1e4*expr/expression.sum(),\n",
                        "    target=1e4*expression/expression.sum(),\n",
                        ")"
                  ]
            },
            {
                  "cell_type": "code",
                  "execution_count": null,
                  "metadata": {},
                  "outputs": [],
                  "source": []
            },
            {
                  "cell_type": "code",
                  "execution_count": null,
                  "metadata": {},
                  "outputs": [],
                  "source": [
                        "exp(15)"
                  ]
            },
            {
                  "cell_type": "code",
                  "execution_count": null,
                  "metadata": {},
                  "outputs": [],
                  "source": [
                        "disp = torch.zeros_like(output[\"disp\"])\n",
                        "pi = torch.zeros_like(output[\"disp\"]) - 10"
                  ]
            },
            {
                  "cell_type": "code",
                  "execution_count": null,
                  "metadata": {},
                  "outputs": [],
                  "source": [
                        "# why if it is the inverse dispersion? does setting it to 3_000_000 works but not 10_000_000?\n",
                        "# maybe some overflow??"
                  ]
            },
            {
                  "cell_type": "code",
                  "execution_count": null,
                  "metadata": {},
                  "outputs": [],
                  "source": [
                        "loss.zinb(\n",
                        "    theta=disp,\n",
                        "    pi=pi,\n",
                        "    mu=output[\"mean\"],\n",
                        "    target=expression,\n",
                        ")"
                  ]
            },
            {
                  "cell_type": "code",
                  "execution_count": null,
                  "metadata": {},
                  "outputs": [],
                  "source": [
                        "loss.zinb(\n",
                        "    theta=disp,\n",
                        "    pi=pi,\n",
                        "    mu=expression,\n",
                        "    target=expression,\n",
                        ")"
                  ]
            },
            {
                  "cell_type": "code",
                  "execution_count": null,
                  "metadata": {},
                  "outputs": [],
                  "source": [
                        "loss.zinb(\n",
                        "    theta=output[\"disp\"],\n",
                        "    pi=output[\"zero_logits\"],\n",
                        "    mu=expression,\n",
                        "    target=expression,\n",
                        ")"
                  ]
            },
            {
                  "cell_type": "code",
                  "execution_count": null,
                  "metadata": {},
                  "outputs": [],
                  "source": [
                        "loss.zinb(\n",
                        "    theta=disp,\n",
                        "    pi=pi,\n",
                        "    mu=expression,\n",
                        "    target=expression,\n",
                        ")"
                  ]
            },
            {
                  "cell_type": "code",
                  "execution_count": null,
                  "metadata": {},
                  "outputs": [],
                  "source": [
                        "%reload_ext tensorboard\n",
                        "%tensorboard --logdir=\"../data/tensorboard\""
                  ]
            },
            {
                  "cell_type": "code",
                  "execution_count": null,
                  "metadata": {},
                  "outputs": [],
                  "source": [
                        "# wandb_logger.finalize(status=\"aborted\")\n",
                        "torch.cuda.empty_cache()"
                  ]
            }
      ],
      "metadata": {
            "kernelspec": {
                  "display_name": "scprint",
                  "language": "python",
                  "name": "python3"
            },
            "language_info": {
                  "codemirror_mode": {
                        "name": "ipython",
                        "version": 3
                  },
                  "file_extension": ".py",
                  "mimetype": "text/x-python",
                  "name": "python",
                  "nbconvert_exporter": "python",
                  "pygments_lexer": "ipython3",
                  "version": "3.10.15"
            }
      },
      "nbformat": 4,
      "nbformat_minor": 2
}
