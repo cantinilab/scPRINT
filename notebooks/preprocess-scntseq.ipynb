{
 "cells": [
  {
   "cell_type": "code",
   "execution_count": 8,
   "metadata": {},
   "outputs": [
    {
     "name": "stdout",
     "output_type": "stream",
     "text": [
      "\u001b[92m→\u001b[0m connected lamindb: jkobject/scprint2\n"
     ]
    }
   ],
   "source": [
    "import scanpy as sc\n",
    "\n",
    "from scprint import scPrint\n",
    "\n",
    "from scdataloader import Preprocessor\n",
    "from scdataloader.utils import load_genes, translate\n",
    "\n",
    "import numpy as np\n",
    "import pandas as pd\n",
    "from anndata import AnnData\n",
    "import matplotlib.pyplot as plt\n",
    "import scipy.sparse\n",
    "from collections import Counter\n",
    "\n",
    "%load_ext autoreload\n",
    "%autoreload 2\n",
    "\n",
    "import torch\n",
    "torch.set_float32_matmul_precision('medium')\n"
   ]
  },
  {
   "cell_type": "markdown",
   "metadata": {},
   "source": [
    "## Loading the data"
   ]
  },
  {
   "cell_type": "markdown",
   "metadata": {},
   "source": [
    "## https://www.nature.com/articles/s41592-020-0935-4#data-availability"
   ]
  },
  {
   "cell_type": "code",
   "execution_count": 1,
   "metadata": {},
   "outputs": [
    {
     "name": "stdout",
     "output_type": "stream",
     "text": [
      "--2025-01-21 17:31:40--  https://www.ncbi.nlm.nih.gov/geo/download/?acc=GSE141851&format=file\n",
      "Resolving maestro-squid.maestro.pasteur.fr (maestro-squid.maestro.pasteur.fr)... 192.168.148.66\n",
      "Connecting to maestro-squid.maestro.pasteur.fr (maestro-squid.maestro.pasteur.fr)|192.168.148.66|:3128... connected.\n",
      "Proxy request sent, awaiting response... 200 OK\n",
      "Length: 172615680 (165M) [application/x-tar]\n",
      "Saving to: ‘index.html?acc=GSE141851&format=file’\n",
      "\n",
      "index.html?acc=GSE1 100%[===================>] 164.62M  15.4MB/s    in 11s     \n",
      "\n",
      "2025-01-21 17:31:52 (14.4 MB/s) - ‘index.html?acc=GSE141851&format=file’ saved [172615680/172615680]\n",
      "\n"
     ]
    }
   ],
   "source": [
    "! mkdir -p /pasteur/zeus/projets/p02/ml4ig_hot/Users/jkalfon/data/temp\n",
    "! wget  https://www.ncbi.nlm.nih.gov/geo/download/\\?acc=GSE141851\\&format=file\n",
    "! mv index.html\\?acc=GSE141851\\&format=file /pasteur/zeus/projets/p02/ml4ig_hot/Users/jkalfon/data/temp/GSE141851.tar\n",
    "! cd /pasteur/zeus/projets/p02/ml4ig_hot/Users/jkalfon/data/temp/ && tar xf GSE141851.tar"
   ]
  },
  {
   "cell_type": "code",
   "execution_count": 19,
   "metadata": {},
   "outputs": [
    {
     "ename": "ValueError",
     "evalue": "invalid literal for int() with base 10: 'r'",
     "output_type": "error",
     "traceback": [
      "\u001b[0;31m---------------------------------------------------------------------------\u001b[0m",
      "\u001b[0;31mValueError\u001b[0m                                Traceback (most recent call last)",
      "Cell \u001b[0;32mIn[19], line 21\u001b[0m\n\u001b[1;32m     19\u001b[0m         time \u001b[38;5;241m=\u001b[39m \u001b[38;5;241m60\u001b[39m\u001b[38;5;241m*\u001b[39m\u001b[38;5;28mint\u001b[39m(time[:\u001b[38;5;241m-\u001b[39m\u001b[38;5;241m2\u001b[39m])\n\u001b[1;32m     20\u001b[0m     \u001b[38;5;28;01melse\u001b[39;00m:\n\u001b[0;32m---> 21\u001b[0m         time \u001b[38;5;241m=\u001b[39m \u001b[38;5;28;43mint\u001b[39;49m\u001b[43m(\u001b[49m\u001b[43mtime\u001b[49m\u001b[43m[\u001b[49m\u001b[43m:\u001b[49m\u001b[38;5;241;43m-\u001b[39;49m\u001b[38;5;241;43m3\u001b[39;49m\u001b[43m]\u001b[49m\u001b[43m)\u001b[49m\n\u001b[1;32m     22\u001b[0m \u001b[38;5;28;01melse\u001b[39;00m:\n\u001b[1;32m     23\u001b[0m     \u001b[38;5;28;01mcontinue\u001b[39;00m\n",
      "\u001b[0;31mValueError\u001b[0m: invalid literal for int() with base 10: 'r'"
     ]
    }
   ],
   "source": [
    "# Create list of all files\n",
    "files = ! ls /pasteur/zeus/projets/p02/ml4ig_hot/Users/jkalfon/data/temp/GSM451*\n",
    "\n",
    "# Read and concatenate all files into one AnnData object\n",
    "adatas_T = []\n",
    "adatas_C = []\n",
    "for i, file in enumerate(files[:]):\n",
    "    # Extract metadata from filename\n",
    "    basename = file.split('/')[-1].replace('.txt.gz','')\n",
    "    gsm = basename.split('_')[0]\n",
    "    condition = '_'.join(basename.split('_')[1:-1])\n",
    "    if \"Neu-Kcl\" in condition:\n",
    "        time = int(condition.split('-')[-1][:-3])\n",
    "        condition = \"neuron\"\n",
    "    elif \"mESC\" in condition:\n",
    "        if \"WT\" in condition:\n",
    "            time = 0\n",
    "            condition = \"WT\"\n",
    "        else:\n",
    "            time = condition.split('-')[-1]\n",
    "            condition = \"mESC\"\n",
    "            if \"hr\" in time:\n",
    "                time = 60*int(time[:-2])\n",
    "            else:\n",
    "                time = int(time[:-3])\n",
    "    else:\n",
    "        continue\n",
    "        \n",
    "    data_type = basename.split('_')[-1]  # C or T\n",
    "    \n",
    "    # Read data\n",
    "    df = pd.read_csv(file, sep='\\t', compression='gzip')\n",
    "    if data_type == 'T':\n",
    "        adata_T = AnnData(df.T)\n",
    "        # Add metadata\n",
    "        adata_T.obs['gsm'] = gsm\n",
    "        adata_T.obs['condition'] = condition\n",
    "        adata_T.obs['time'] = time\n",
    "        adata_T.obs['data_type'] = data_type\n",
    "        # Convert to sparse format\n",
    "        adata_T.X = scipy.sparse.csr_matrix(adata_T.X)\n",
    "        adatas_T.append(adata_T)\n",
    "    else:\n",
    "        adata_C = AnnData(df.T)\n",
    "        adata_C.obs['gsm'] = gsm\n",
    "        adata_C.obs['condition'] = condition\n",
    "        adata_C.obs['data_type'] = data_type\n",
    "        adata_C.obs['time'] = time\n",
    "        adata_C.X = scipy.sparse.csr_matrix(adata_C.X)\n",
    "        adatas_C.append(adata_C)\n",
    "\n",
    "adata_T = sc.concat(adatas_T)\n",
    "adata_C = sc.concat(adatas_C)"
   ]
  },
  {
   "cell_type": "code",
   "execution_count": null,
   "metadata": {},
   "outputs": [
    {
     "data": {
      "text/plain": [
       "{'K562-4SU',\n",
       " 'K562-4SU-N9',\n",
       " 'K562-4SU-TFEA',\n",
       " 'K562-4SU-TFEA-N9',\n",
       " 'K562-NTC-TFEA',\n",
       " 'K562-NTC-TFEA-N9',\n",
       " 'Neu-Kcl-0min',\n",
       " 'Neu-Kcl-120min',\n",
       " 'Neu-Kcl-15min',\n",
       " 'Neu-Kcl-30min',\n",
       " 'Neu-Kcl-60min',\n",
       " 'mESC-TetTKO-rep1',\n",
       " 'mESC-TetTKO-rep2',\n",
       " 'mESC-WT-rep1',\n",
       " 'mESC-WT-rep2',\n",
       " 'mESC-b1-Chase-0min',\n",
       " 'mESC-b1-Chase-12hr',\n",
       " 'mESC-b1-Chase-24hr',\n",
       " 'mESC-b1-Chase-30min',\n",
       " 'mESC-b1-Chase-3hr',\n",
       " 'mESC-b1-Chase-60min',\n",
       " 'mESC-b1-Chase-6hr',\n",
       " 'mESC-b2-Chase-0min',\n",
       " 'mESC-b2-Chase-12hr',\n",
       " 'mESC-b2-Chase-24hr',\n",
       " 'mESC-b2-Chase-30min',\n",
       " 'mESC-b2-Chase-3hr',\n",
       " 'mESC-b2-Chase-60min',\n",
       " 'mESC-b2-Chase-6hr'}"
      ]
     },
     "metadata": {},
     "output_type": "display_data"
    }
   ],
   "source": [
    "set([i.split('_')[-2] for i in files])"
   ]
  },
  {
   "cell_type": "code",
   "execution_count": 28,
   "metadata": {},
   "outputs": [
    {
     "data": {
      "text/plain": [
       "array([1707, 3315, 2475, ...,   39,   47,   43])"
      ]
     },
     "execution_count": 28,
     "metadata": {},
     "output_type": "execute_result"
    }
   ],
   "source": [
    "adatas_C[0].X.sum(1)"
   ]
  },
  {
   "cell_type": "code",
   "execution_count": 31,
   "metadata": {},
   "outputs": [
    {
     "data": {
      "text/plain": [
       "array([[0, 0, 0, ..., 0, 2, 1],\n",
       "       [0, 0, 0, ..., 0, 0, 0],\n",
       "       [0, 0, 0, ..., 0, 0, 0],\n",
       "       ...,\n",
       "       [0, 0, 0, ..., 0, 0, 0],\n",
       "       [0, 0, 0, ..., 0, 0, 0],\n",
       "       [0, 0, 0, ..., 0, 0, 0]])"
      ]
     },
     "execution_count": 31,
     "metadata": {},
     "output_type": "execute_result"
    }
   ],
   "source": [
    "adatas_T[3].X"
   ]
  },
  {
   "cell_type": "code",
   "execution_count": 22,
   "metadata": {},
   "outputs": [
    {
     "ename": "KeyboardInterrupt",
     "evalue": "",
     "output_type": "error",
     "traceback": [
      "\u001b[0;31m---------------------------------------------------------------------------\u001b[0m",
      "\u001b[0;31mKeyboardInterrupt\u001b[0m                         Traceback (most recent call last)",
      "Cell \u001b[0;32mIn[22], line 2\u001b[0m\n\u001b[1;32m      1\u001b[0m adata_T \u001b[38;5;241m=\u001b[39m sc\u001b[38;5;241m.\u001b[39mconcat(adatas_T)\n\u001b[0;32m----> 2\u001b[0m adata_C \u001b[38;5;241m=\u001b[39m \u001b[43msc\u001b[49m\u001b[38;5;241;43m.\u001b[39;49m\u001b[43mconcat\u001b[49m\u001b[43m(\u001b[49m\u001b[43madatas_C\u001b[49m\u001b[43m)\u001b[49m\n",
      "File \u001b[0;32m~/miniconda3/envs/scprint2/lib/python3.10/site-packages/anndata/_core/merge.py:1323\u001b[0m, in \u001b[0;36mconcat\u001b[0;34m(adatas, axis, join, merge, uns_merge, label, keys, index_unique, fill_value, pairwise)\u001b[0m\n\u001b[1;32m   1318\u001b[0m \u001b[38;5;66;03m# Annotation for other axis\u001b[39;00m\n\u001b[1;32m   1319\u001b[0m alt_annot \u001b[38;5;241m=\u001b[39m merge_dataframes(\n\u001b[1;32m   1320\u001b[0m     [\u001b[38;5;28mgetattr\u001b[39m(a, alt_axis_name) \u001b[38;5;28;01mfor\u001b[39;00m a \u001b[38;5;129;01min\u001b[39;00m adatas], alt_indices, merge\n\u001b[1;32m   1321\u001b[0m )\n\u001b[0;32m-> 1323\u001b[0m X \u001b[38;5;241m=\u001b[39m \u001b[43mconcat_Xs\u001b[49m\u001b[43m(\u001b[49m\u001b[43madatas\u001b[49m\u001b[43m,\u001b[49m\u001b[43m \u001b[49m\u001b[43mreindexers\u001b[49m\u001b[43m,\u001b[49m\u001b[43m \u001b[49m\u001b[43maxis\u001b[49m\u001b[38;5;241;43m=\u001b[39;49m\u001b[43maxis\u001b[49m\u001b[43m,\u001b[49m\u001b[43m \u001b[49m\u001b[43mfill_value\u001b[49m\u001b[38;5;241;43m=\u001b[39;49m\u001b[43mfill_value\u001b[49m\u001b[43m)\u001b[49m\n\u001b[1;32m   1325\u001b[0m \u001b[38;5;28;01mif\u001b[39;00m join \u001b[38;5;241m==\u001b[39m \u001b[38;5;124m\"\u001b[39m\u001b[38;5;124minner\u001b[39m\u001b[38;5;124m\"\u001b[39m:\n\u001b[1;32m   1326\u001b[0m     concat_aligned_mapping \u001b[38;5;241m=\u001b[39m inner_concat_aligned_mapping\n",
      "File \u001b[0;32m~/miniconda3/envs/scprint2/lib/python3.10/site-packages/anndata/_core/merge.py:1060\u001b[0m, in \u001b[0;36mconcat_Xs\u001b[0;34m(adatas, reindexers, axis, fill_value)\u001b[0m\n\u001b[1;32m   1054\u001b[0m     \u001b[38;5;28;01mraise\u001b[39;00m \u001b[38;5;167;01mNotImplementedError\u001b[39;00m(\n\u001b[1;32m   1055\u001b[0m         \u001b[38;5;124m\"\u001b[39m\u001b[38;5;124mSome (but not all) of the AnnData\u001b[39m\u001b[38;5;124m'\u001b[39m\u001b[38;5;124ms to be concatenated had no .X value. \u001b[39m\u001b[38;5;124m\"\u001b[39m\n\u001b[1;32m   1056\u001b[0m         \u001b[38;5;124m\"\u001b[39m\u001b[38;5;124mConcatenation is currently only implemented for cases where all or none of\u001b[39m\u001b[38;5;124m\"\u001b[39m\n\u001b[1;32m   1057\u001b[0m         \u001b[38;5;124m\"\u001b[39m\u001b[38;5;124m the AnnData\u001b[39m\u001b[38;5;124m'\u001b[39m\u001b[38;5;124ms have .X assigned.\u001b[39m\u001b[38;5;124m\"\u001b[39m\n\u001b[1;32m   1058\u001b[0m     )\n\u001b[1;32m   1059\u001b[0m \u001b[38;5;28;01melse\u001b[39;00m:\n\u001b[0;32m-> 1060\u001b[0m     \u001b[38;5;28;01mreturn\u001b[39;00m \u001b[43mconcat_arrays\u001b[49m\u001b[43m(\u001b[49m\u001b[43mXs\u001b[49m\u001b[43m,\u001b[49m\u001b[43m \u001b[49m\u001b[43mreindexers\u001b[49m\u001b[43m,\u001b[49m\u001b[43m \u001b[49m\u001b[43maxis\u001b[49m\u001b[38;5;241;43m=\u001b[39;49m\u001b[43maxis\u001b[49m\u001b[43m,\u001b[49m\u001b[43m \u001b[49m\u001b[43mfill_value\u001b[49m\u001b[38;5;241;43m=\u001b[39;49m\u001b[43mfill_value\u001b[49m\u001b[43m)\u001b[49m\n",
      "File \u001b[0;32m~/miniconda3/envs/scprint2/lib/python3.10/site-packages/anndata/_core/merge.py:847\u001b[0m, in \u001b[0;36mconcat_arrays\u001b[0;34m(arrays, reindexers, axis, index, fill_value)\u001b[0m\n\u001b[1;32m    834\u001b[0m     \u001b[38;5;28;01mreturn\u001b[39;00m sparse_stack(\n\u001b[1;32m    835\u001b[0m         [\n\u001b[1;32m    836\u001b[0m             f(\n\u001b[0;32m   (...)\u001b[0m\n\u001b[1;32m    843\u001b[0m         \u001b[38;5;28mformat\u001b[39m\u001b[38;5;241m=\u001b[39m\u001b[38;5;124m\"\u001b[39m\u001b[38;5;124mcsr\u001b[39m\u001b[38;5;124m\"\u001b[39m,\n\u001b[1;32m    844\u001b[0m     )\n\u001b[1;32m    845\u001b[0m \u001b[38;5;28;01melse\u001b[39;00m:\n\u001b[1;32m    846\u001b[0m     \u001b[38;5;28;01mreturn\u001b[39;00m np\u001b[38;5;241m.\u001b[39mconcatenate(\n\u001b[0;32m--> 847\u001b[0m         [\n\u001b[1;32m    848\u001b[0m             f(x, fill_value\u001b[38;5;241m=\u001b[39mfill_value, axis\u001b[38;5;241m=\u001b[39m\u001b[38;5;241m1\u001b[39m \u001b[38;5;241m-\u001b[39m axis)\n\u001b[1;32m    849\u001b[0m             \u001b[38;5;28;01mfor\u001b[39;00m f, x \u001b[38;5;129;01min\u001b[39;00m \u001b[38;5;28mzip\u001b[39m(reindexers, arrays)\n\u001b[1;32m    850\u001b[0m         ],\n\u001b[1;32m    851\u001b[0m         axis\u001b[38;5;241m=\u001b[39maxis,\n\u001b[1;32m    852\u001b[0m     )\n",
      "File \u001b[0;32m~/miniconda3/envs/scprint2/lib/python3.10/site-packages/anndata/_core/merge.py:848\u001b[0m, in \u001b[0;36m<listcomp>\u001b[0;34m(.0)\u001b[0m\n\u001b[1;32m    834\u001b[0m     \u001b[38;5;28;01mreturn\u001b[39;00m sparse_stack(\n\u001b[1;32m    835\u001b[0m         [\n\u001b[1;32m    836\u001b[0m             f(\n\u001b[0;32m   (...)\u001b[0m\n\u001b[1;32m    843\u001b[0m         \u001b[38;5;28mformat\u001b[39m\u001b[38;5;241m=\u001b[39m\u001b[38;5;124m\"\u001b[39m\u001b[38;5;124mcsr\u001b[39m\u001b[38;5;124m\"\u001b[39m,\n\u001b[1;32m    844\u001b[0m     )\n\u001b[1;32m    845\u001b[0m \u001b[38;5;28;01melse\u001b[39;00m:\n\u001b[1;32m    846\u001b[0m     \u001b[38;5;28;01mreturn\u001b[39;00m np\u001b[38;5;241m.\u001b[39mconcatenate(\n\u001b[1;32m    847\u001b[0m         [\n\u001b[0;32m--> 848\u001b[0m             \u001b[43mf\u001b[49m\u001b[43m(\u001b[49m\u001b[43mx\u001b[49m\u001b[43m,\u001b[49m\u001b[43m \u001b[49m\u001b[43mfill_value\u001b[49m\u001b[38;5;241;43m=\u001b[39;49m\u001b[43mfill_value\u001b[49m\u001b[43m,\u001b[49m\u001b[43m \u001b[49m\u001b[43maxis\u001b[49m\u001b[38;5;241;43m=\u001b[39;49m\u001b[38;5;241;43m1\u001b[39;49m\u001b[43m \u001b[49m\u001b[38;5;241;43m-\u001b[39;49m\u001b[43m \u001b[49m\u001b[43maxis\u001b[49m\u001b[43m)\u001b[49m\n\u001b[1;32m    849\u001b[0m             \u001b[38;5;28;01mfor\u001b[39;00m f, x \u001b[38;5;129;01min\u001b[39;00m \u001b[38;5;28mzip\u001b[39m(reindexers, arrays)\n\u001b[1;32m    850\u001b[0m         ],\n\u001b[1;32m    851\u001b[0m         axis\u001b[38;5;241m=\u001b[39maxis,\n\u001b[1;32m    852\u001b[0m     )\n",
      "File \u001b[0;32m~/miniconda3/envs/scprint2/lib/python3.10/site-packages/anndata/_core/merge.py:527\u001b[0m, in \u001b[0;36mReindexer.__call__\u001b[0;34m(self, el, axis, fill_value)\u001b[0m\n\u001b[1;32m    526\u001b[0m \u001b[38;5;28;01mdef\u001b[39;00m \u001b[38;5;21m__call__\u001b[39m(\u001b[38;5;28mself\u001b[39m, el, \u001b[38;5;241m*\u001b[39m, axis\u001b[38;5;241m=\u001b[39m\u001b[38;5;241m1\u001b[39m, fill_value\u001b[38;5;241m=\u001b[39m\u001b[38;5;28;01mNone\u001b[39;00m):\n\u001b[0;32m--> 527\u001b[0m     \u001b[38;5;28;01mreturn\u001b[39;00m \u001b[38;5;28;43mself\u001b[39;49m\u001b[38;5;241;43m.\u001b[39;49m\u001b[43mapply\u001b[49m\u001b[43m(\u001b[49m\u001b[43mel\u001b[49m\u001b[43m,\u001b[49m\u001b[43m \u001b[49m\u001b[43maxis\u001b[49m\u001b[38;5;241;43m=\u001b[39;49m\u001b[43maxis\u001b[49m\u001b[43m,\u001b[49m\u001b[43m \u001b[49m\u001b[43mfill_value\u001b[49m\u001b[38;5;241;43m=\u001b[39;49m\u001b[43mfill_value\u001b[49m\u001b[43m)\u001b[49m\n",
      "File \u001b[0;32m~/miniconda3/envs/scprint2/lib/python3.10/site-packages/anndata/_core/merge.py:548\u001b[0m, in \u001b[0;36mReindexer.apply\u001b[0;34m(self, el, axis, fill_value)\u001b[0m\n\u001b[1;32m    546\u001b[0m     \u001b[38;5;28;01mreturn\u001b[39;00m \u001b[38;5;28mself\u001b[39m\u001b[38;5;241m.\u001b[39m_apply_to_cupy_array(el, axis\u001b[38;5;241m=\u001b[39maxis, fill_value\u001b[38;5;241m=\u001b[39mfill_value)\n\u001b[1;32m    547\u001b[0m \u001b[38;5;28;01melse\u001b[39;00m:\n\u001b[0;32m--> 548\u001b[0m     \u001b[38;5;28;01mreturn\u001b[39;00m \u001b[38;5;28;43mself\u001b[39;49m\u001b[38;5;241;43m.\u001b[39;49m\u001b[43m_apply_to_array\u001b[49m\u001b[43m(\u001b[49m\u001b[43mel\u001b[49m\u001b[43m,\u001b[49m\u001b[43m \u001b[49m\u001b[43maxis\u001b[49m\u001b[38;5;241;43m=\u001b[39;49m\u001b[43maxis\u001b[49m\u001b[43m,\u001b[49m\u001b[43m \u001b[49m\u001b[43mfill_value\u001b[49m\u001b[38;5;241;43m=\u001b[39;49m\u001b[43mfill_value\u001b[49m\u001b[43m)\u001b[49m\n",
      "File \u001b[0;32m~/miniconda3/envs/scprint2/lib/python3.10/site-packages/anndata/_core/merge.py:612\u001b[0m, in \u001b[0;36mReindexer._apply_to_array\u001b[0;34m(self, el, axis, fill_value)\u001b[0m\n\u001b[1;32m    609\u001b[0m indexer \u001b[38;5;241m=\u001b[39m \u001b[38;5;28mself\u001b[39m\u001b[38;5;241m.\u001b[39mold_idx\u001b[38;5;241m.\u001b[39mget_indexer(\u001b[38;5;28mself\u001b[39m\u001b[38;5;241m.\u001b[39mnew_idx)\n\u001b[1;32m    611\u001b[0m \u001b[38;5;66;03m# Indexes real fast, and does outer indexing\u001b[39;00m\n\u001b[0;32m--> 612\u001b[0m \u001b[38;5;28;01mreturn\u001b[39;00m \u001b[43mpd\u001b[49m\u001b[38;5;241;43m.\u001b[39;49m\u001b[43mapi\u001b[49m\u001b[38;5;241;43m.\u001b[39;49m\u001b[43mextensions\u001b[49m\u001b[38;5;241;43m.\u001b[39;49m\u001b[43mtake\u001b[49m\u001b[43m(\u001b[49m\n\u001b[1;32m    613\u001b[0m \u001b[43m    \u001b[49m\u001b[43mel\u001b[49m\u001b[43m,\u001b[49m\u001b[43m \u001b[49m\u001b[43mindexer\u001b[49m\u001b[43m,\u001b[49m\u001b[43m \u001b[49m\u001b[43maxis\u001b[49m\u001b[38;5;241;43m=\u001b[39;49m\u001b[43maxis\u001b[49m\u001b[43m,\u001b[49m\u001b[43m \u001b[49m\u001b[43mallow_fill\u001b[49m\u001b[38;5;241;43m=\u001b[39;49m\u001b[38;5;28;43;01mTrue\u001b[39;49;00m\u001b[43m,\u001b[49m\u001b[43m \u001b[49m\u001b[43mfill_value\u001b[49m\u001b[38;5;241;43m=\u001b[39;49m\u001b[43mfill_value\u001b[49m\n\u001b[1;32m    614\u001b[0m \u001b[43m\u001b[49m\u001b[43m)\u001b[49m\n",
      "File \u001b[0;32m~/miniconda3/envs/scprint2/lib/python3.10/site-packages/pandas/core/algorithms.py:1234\u001b[0m, in \u001b[0;36mtake\u001b[0;34m(arr, indices, axis, allow_fill, fill_value)\u001b[0m\n\u001b[1;32m   1231\u001b[0m \u001b[38;5;28;01mif\u001b[39;00m allow_fill:\n\u001b[1;32m   1232\u001b[0m     \u001b[38;5;66;03m# Pandas style, -1 means NA\u001b[39;00m\n\u001b[1;32m   1233\u001b[0m     validate_indices(indices, arr\u001b[38;5;241m.\u001b[39mshape[axis])\n\u001b[0;32m-> 1234\u001b[0m     result \u001b[38;5;241m=\u001b[39m \u001b[43mtake_nd\u001b[49m\u001b[43m(\u001b[49m\n\u001b[1;32m   1235\u001b[0m \u001b[43m        \u001b[49m\u001b[43marr\u001b[49m\u001b[43m,\u001b[49m\u001b[43m \u001b[49m\u001b[43mindices\u001b[49m\u001b[43m,\u001b[49m\u001b[43m \u001b[49m\u001b[43maxis\u001b[49m\u001b[38;5;241;43m=\u001b[39;49m\u001b[43maxis\u001b[49m\u001b[43m,\u001b[49m\u001b[43m \u001b[49m\u001b[43mallow_fill\u001b[49m\u001b[38;5;241;43m=\u001b[39;49m\u001b[38;5;28;43;01mTrue\u001b[39;49;00m\u001b[43m,\u001b[49m\u001b[43m \u001b[49m\u001b[43mfill_value\u001b[49m\u001b[38;5;241;43m=\u001b[39;49m\u001b[43mfill_value\u001b[49m\n\u001b[1;32m   1236\u001b[0m \u001b[43m    \u001b[49m\u001b[43m)\u001b[49m\n\u001b[1;32m   1237\u001b[0m \u001b[38;5;28;01melse\u001b[39;00m:\n\u001b[1;32m   1238\u001b[0m     \u001b[38;5;66;03m# NumPy style\u001b[39;00m\n\u001b[1;32m   1239\u001b[0m     result \u001b[38;5;241m=\u001b[39m arr\u001b[38;5;241m.\u001b[39mtake(indices, axis\u001b[38;5;241m=\u001b[39maxis)\n",
      "File \u001b[0;32m~/miniconda3/envs/scprint2/lib/python3.10/site-packages/pandas/core/array_algos/take.py:117\u001b[0m, in \u001b[0;36mtake_nd\u001b[0;34m(arr, indexer, axis, fill_value, allow_fill)\u001b[0m\n\u001b[1;32m    114\u001b[0m     \u001b[38;5;28;01mreturn\u001b[39;00m arr\u001b[38;5;241m.\u001b[39mtake(indexer, fill_value\u001b[38;5;241m=\u001b[39mfill_value, allow_fill\u001b[38;5;241m=\u001b[39mallow_fill)\n\u001b[1;32m    116\u001b[0m arr \u001b[38;5;241m=\u001b[39m np\u001b[38;5;241m.\u001b[39masarray(arr)\n\u001b[0;32m--> 117\u001b[0m \u001b[38;5;28;01mreturn\u001b[39;00m \u001b[43m_take_nd_ndarray\u001b[49m\u001b[43m(\u001b[49m\u001b[43marr\u001b[49m\u001b[43m,\u001b[49m\u001b[43m \u001b[49m\u001b[43mindexer\u001b[49m\u001b[43m,\u001b[49m\u001b[43m \u001b[49m\u001b[43maxis\u001b[49m\u001b[43m,\u001b[49m\u001b[43m \u001b[49m\u001b[43mfill_value\u001b[49m\u001b[43m,\u001b[49m\u001b[43m \u001b[49m\u001b[43mallow_fill\u001b[49m\u001b[43m)\u001b[49m\n",
      "File \u001b[0;32m~/miniconda3/envs/scprint2/lib/python3.10/site-packages/pandas/core/array_algos/take.py:162\u001b[0m, in \u001b[0;36m_take_nd_ndarray\u001b[0;34m(arr, indexer, axis, fill_value, allow_fill)\u001b[0m\n\u001b[1;32m    157\u001b[0m     out \u001b[38;5;241m=\u001b[39m np\u001b[38;5;241m.\u001b[39mempty(out_shape, dtype\u001b[38;5;241m=\u001b[39mdtype)\n\u001b[1;32m    159\u001b[0m func \u001b[38;5;241m=\u001b[39m _get_take_nd_function(\n\u001b[1;32m    160\u001b[0m     arr\u001b[38;5;241m.\u001b[39mndim, arr\u001b[38;5;241m.\u001b[39mdtype, out\u001b[38;5;241m.\u001b[39mdtype, axis\u001b[38;5;241m=\u001b[39maxis, mask_info\u001b[38;5;241m=\u001b[39mmask_info\n\u001b[1;32m    161\u001b[0m )\n\u001b[0;32m--> 162\u001b[0m \u001b[43mfunc\u001b[49m\u001b[43m(\u001b[49m\u001b[43marr\u001b[49m\u001b[43m,\u001b[49m\u001b[43m \u001b[49m\u001b[43mindexer\u001b[49m\u001b[43m,\u001b[49m\u001b[43m \u001b[49m\u001b[43mout\u001b[49m\u001b[43m,\u001b[49m\u001b[43m \u001b[49m\u001b[43mfill_value\u001b[49m\u001b[43m)\u001b[49m\n\u001b[1;32m    164\u001b[0m \u001b[38;5;28;01mif\u001b[39;00m flip_order:\n\u001b[1;32m    165\u001b[0m     out \u001b[38;5;241m=\u001b[39m out\u001b[38;5;241m.\u001b[39mT\n",
      "\u001b[0;31mKeyboardInterrupt\u001b[0m: "
     ]
    }
   ],
   "source": [
    "adata = sc.concat(adatas_T)\n",
    "adata.layers['new'] = sc.concat(adatas_C).X\n",
    "adata.write_h5ad('/pasteur/zeus/projets/p02/ml4ig_hot/Users/jkalfon/data/temp/scntseq.h5ad')\n",
    "del adatas_C, adatas_T\n"
   ]
  },
  {
   "cell_type": "code",
   "execution_count": null,
   "metadata": {},
   "outputs": [],
   "source": []
  },
  {
   "cell_type": "code",
   "execution_count": null,
   "metadata": {},
   "outputs": [],
   "source": [
    "b"
   ]
  },
  {
   "cell_type": "code",
   "execution_count": null,
   "metadata": {},
   "outputs": [],
   "source": [
    "b"
   ]
  },
  {
   "cell_type": "code",
   "execution_count": null,
   "metadata": {},
   "outputs": [],
   "source": [
    "b"
   ]
  },
  {
   "cell_type": "code",
   "execution_count": null,
   "metadata": {},
   "outputs": [],
   "source": [
    "b"
   ]
  },
  {
   "cell_type": "code",
   "execution_count": null,
   "metadata": {},
   "outputs": [],
   "source": []
  }
 ],
 "metadata": {
  "kernelspec": {
   "display_name": ".venv",
   "language": "python",
   "name": "python3"
  },
  "language_info": {
   "codemirror_mode": {
    "name": "ipython",
    "version": 3
   },
   "file_extension": ".py",
   "mimetype": "text/x-python",
   "name": "python",
   "nbconvert_exporter": "python",
   "pygments_lexer": "ipython3",
   "version": "3.10.16"
  }
 },
 "nbformat": 4,
 "nbformat_minor": 2
}
