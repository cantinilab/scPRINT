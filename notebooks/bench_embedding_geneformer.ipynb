{
 "cells": [
  {
   "cell_type": "code",
   "execution_count": 1,
   "metadata": {},
   "outputs": [
    {
     "name": "stdout",
     "output_type": "stream",
     "text": [
      "\u001b[92m→\u001b[0m connected lamindb: jkobject/scprint\n"
     ]
    }
   ],
   "source": [
    "import scanpy as sc\n",
    "\n",
    "import numpy as np\n",
    "import pandas as pd\n",
    "\n",
    "\n",
    "import matplotlib.pyplot as plt\n",
    "from scib_metrics.benchmark import Benchmarker\n",
    "\n",
    "from scdataloader import utils as data_utils\n",
    "\n",
    "\n",
    "from collections import Counter\n",
    "\n",
    "%load_ext autoreload\n",
    "%autoreload 2\n",
    "\n",
    "import torch\n",
    "torch.set_float32_matmul_precision('medium')\n"
   ]
  },
  {
   "cell_type": "code",
   "execution_count": 2,
   "metadata": {},
   "outputs": [],
   "source": [
    "import shutil\n",
    "import os\n",
    "\n",
    "from geneformer import EmbExtractor\n",
    "from geneformer import TranscriptomeTokenizer\n",
    "from grnndata import GRNAnnData\n",
    "\n",
    "from geneformer import TOKEN_DICTIONARY_FILE\n",
    "import pickle\n",
    "\n",
    "with open(TOKEN_DICTIONARY_FILE, \"rb\") as f:\n",
    "    gene_mapping_dict = pickle.load(f)\n",
    "\n",
    "def compute_geneformer_embs(adata, model=\"../../Geneformer/fine_tuned_models/gf-12L-95M-i4096_MTLCellClassifier_CELLxGENE_240522/\", model_type=\"CellClassifier\", forward_batch_size=40, max_ncells=100_000, cache=False):\n",
    "    if not (cache and os.path.exists(\"/tmp/geneformer/test.h5ad\")):\n",
    "        adata = adata[:, adata.var.index.isin([u for u in gene_mapping_dict.keys() if u in adata.var.index])]\n",
    "\n",
    "        adata.var['ensembl_id'] = adata.var.index\n",
    "        adata.obs['n_counts'] = adata.X.sum(1)\n",
    "        # Create the geneformer folder if it doesn't exist\n",
    "        geneformer_folder = \"/tmp/geneformer\"\n",
    "        if not os.path.exists(geneformer_folder):\n",
    "            os.makedirs(geneformer_folder)\n",
    "        adata.write_h5ad(\"/tmp/geneformer/test.h5ad\")\n",
    "        tokenized_data_path = \"/tmp/geneformer/tokenized_data.dataset/\"\n",
    "        if os.path.exists(tokenized_data_path):\n",
    "            shutil.rmtree(tokenized_data_path)\n",
    "        tk = TranscriptomeTokenizer({\"cell_type\": \"cell_type\"}, nproc=16, model_input_size=4096)\n",
    "        tk.tokenize_data(\"/tmp/geneformer/\", \n",
    "                        \"/tmp/geneformer/\",\n",
    "                        \"tokenized_data\", \n",
    "                        file_format=\"h5ad\")\n",
    "    else:\n",
    "        adata = sc.read(\"/tmp/geneformer/test.h5ad\")\n",
    "\n",
    "    genelist = [gene_mapping_dict[u] for u in adata.var.index]\n",
    "\n",
    "    embex = EmbExtractor(model_type=model_type, #CellClassifier\n",
    "                     max_ncells=max_ncells,\n",
    "                     emb_mode=\"cell\",\n",
    "                     forward_batch_size=forward_batch_size,\n",
    "                     nproc=16,\n",
    "                     genelist=genelist)\n",
    "    embs, avg_attentions = embex.extract_embs(model, #../../../Geneformer/fine_tuned_models/gf-6L-30M-i2048_CellClassifier_cardiomyopathies_220224/\n",
    "                          \"/tmp/geneformer/tokenized_data.dataset/\",\n",
    "                          \"/tmp/geneformer\",\n",
    "                          \"geneformertest\",\n",
    "                          get_avg_attentions=False,\n",
    "                          )\n",
    "    return embs"
   ]
  },
  {
   "cell_type": "markdown",
   "metadata": {},
   "source": [
    "# pancreas"
   ]
  },
  {
   "cell_type": "code",
   "execution_count": 8,
   "metadata": {},
   "outputs": [],
   "source": [
    "adata = sc.read(\n",
    "    \"data/pancreas_atlas.h5ad\",\n",
    "    backup_url=\"https://figshare.com/ndownloader/files/24539828\",\n",
    ")\n"
   ]
  },
  {
   "cell_type": "code",
   "execution_count": 9,
   "metadata": {},
   "outputs": [],
   "source": [
    "# preprocess\n",
    "\n",
    "# Merge adata.var with genesdf\n",
    "# First, ensure the index of adata.var is named\n",
    "adata.obs['organism_ontology_term_id'] = \"NCBITaxon:9606\"\n",
    "genesdf = data_utils.load_genes(adata.obs.organism_ontology_term_id.iloc[0])\n",
    "adata.var.index.name = 'symbol'\n",
    "\n",
    "# Merge adata.var with genesdf\n",
    "# Merge adata.var with genesdf, keeping only the first instance of each symbol\n",
    "merged_var = adata.var.reset_index().merge(\n",
    "    genesdf.reset_index().drop_duplicates(subset='symbol', keep='first'),\n",
    "    left_on='symbol',\n",
    "    right_on='symbol',\n",
    "    how='left'\n",
    ")\n",
    "\n",
    "# Set the index back to 'symbol'\n",
    "merged_var.set_index('symbol', inplace=True)\n",
    "adata.var = merged_var\n",
    "adata.var['symbol'] =  adata.var.index\n",
    "adata.var.index = adata.var.ensembl_gene_id\n",
    "adata.var.drop(columns=['mt', 'ribo', 'hb'], inplace=True)"
   ]
  },
  {
   "cell_type": "code",
   "execution_count": 10,
   "metadata": {},
   "outputs": [],
   "source": [
    "adata.X = adata.layers['counts']\n",
    "del adata.layers['counts']"
   ]
  },
  {
   "cell_type": "code",
   "execution_count": 7,
   "metadata": {},
   "outputs": [
    {
     "name": "stderr",
     "output_type": "stream",
     "text": [
      "/tmp/ipykernel_2629171/19730043.py:18: ImplicitModificationWarning: Trying to modify attribute `.var` of view, initializing view as actual.\n",
      "  adata.var['ensembl_id'] = adata.var.index\n"
     ]
    },
    {
     "name": "stdout",
     "output_type": "stream",
     "text": [
      "Tokenizing /tmp/geneformer/test.h5ad\n"
     ]
    },
    {
     "name": "stderr",
     "output_type": "stream",
     "text": [
      "/home/ml4ig1/Documents code/Geneformer/geneformer/tokenizer.py:473: FutureWarning: Series.__getitem__ treating keys as positions is deprecated. In a future version, integer keys will always be treated as labels (consistent with DataFrame behavior). To access a value by position, use `ser.iloc[pos]`\n",
      "  for i in adata.var[\"ensembl_id_collapsed\"][coding_miRNA_loc]\n",
      "/home/ml4ig1/Documents code/Geneformer/geneformer/tokenizer.py:476: FutureWarning: Series.__getitem__ treating keys as positions is deprecated. In a future version, integer keys will always be treated as labels (consistent with DataFrame behavior). To access a value by position, use `ser.iloc[pos]`\n",
      "  coding_miRNA_ids = adata.var[\"ensembl_id_collapsed\"][coding_miRNA_loc]\n"
     ]
    },
    {
     "name": "stdout",
     "output_type": "stream",
     "text": [
      "/tmp/geneformer/test.h5ad has no column attribute 'filter_pass'; tokenizing all cells.\n",
      "Creating dataset.\n"
     ]
    },
    {
     "name": "stderr",
     "output_type": "stream",
     "text": [
      "Some weights of BertForSequenceClassification were not initialized from the model checkpoint at ../../Geneformer/fine_tuned_models/gf-12L-95M-i4096_MTLCellClassifier_CELLxGENE_240522/ and are newly initialized: ['classifier.bias', 'classifier.weight']\n",
      "You should probably TRAIN this model on a down-stream task to be able to use it for predictions and inference.\n",
      "[d3graph] WARNING> CLS token present in token dictionary, excluding from average.\n",
      "[d3graph] WARNING> EOS token present in token dictionary, excluding from average.\n"
     ]
    },
    {
     "data": {
      "application/vnd.jupyter.widget-view+json": {
       "model_id": "a80993d4d70942278284418356cca21c",
       "version_major": 2,
       "version_minor": 0
      },
      "text/plain": [
       "  0%|          | 0/820 [00:00<?, ?it/s]"
      ]
     },
     "metadata": {},
     "output_type": "display_data"
    }
   ],
   "source": [
    "embs = compute_geneformer_embs(adata, forward_batch_size=20, max_ncells=100_000, cache=False)\n",
    "adata.obsm['geneformer'] = embs.values"
   ]
  },
  {
   "cell_type": "code",
   "execution_count": 8,
   "metadata": {},
   "outputs": [],
   "source": [
    "adata.obsm['geneformer'] = embs.values"
   ]
  },
  {
   "cell_type": "code",
   "execution_count": 9,
   "metadata": {},
   "outputs": [],
   "source": [
    "sc.pp.pca(adata)"
   ]
  },
  {
   "cell_type": "code",
   "execution_count": 10,
   "metadata": {},
   "outputs": [
    {
     "name": "stderr",
     "output_type": "stream",
     "text": [
      "/home/ml4ig1/miniconda3/envs/geneformer/lib/python3.10/site-packages/scanpy/preprocessing/_pca.py:377: FutureWarning: Argument `use_highly_variable` is deprecated, consider using the mask argument. Use_highly_variable=True can be called through mask_var=\"highly_variable\". Use_highly_variable=False can be called through mask_var=None\n",
      "  warn(msg, FutureWarning)\n",
      "Computing neighbors: 100%|██████████| 2/2 [00:35<00:00, 17.80s/it]\n",
      "Embeddings:   0%|\u001b[32m          \u001b[0m| 0/2 [00:00<?, ?it/s][d3graph] WARNING> An NVIDIA GPU may be present on this machine, but a CUDA-enabled jaxlib is not installed. Falling back to cpu.\n",
      "/home/ml4ig1/miniconda3/envs/geneformer/lib/python3.10/site-packages/scib_metrics/_kbet.py:181: FutureWarning: pandas.value_counts is deprecated and will be removed in a future version. Use pd.Series(obj).value_counts() instead.\n",
      "  comp_size = pd.value_counts(labs)\n",
      "/home/ml4ig1/miniconda3/envs/geneformer/lib/python3.10/site-packages/scib_metrics/_kbet.py:181: FutureWarning: pandas.value_counts is deprecated and will be removed in a future version. Use pd.Series(obj).value_counts() instead.\n",
      "  comp_size = pd.value_counts(labs)\n",
      "/home/ml4ig1/miniconda3/envs/geneformer/lib/python3.10/site-packages/scib_metrics/_kbet.py:181: FutureWarning: pandas.value_counts is deprecated and will be removed in a future version. Use pd.Series(obj).value_counts() instead.\n",
      "  comp_size = pd.value_counts(labs)\n",
      "/home/ml4ig1/miniconda3/envs/geneformer/lib/python3.10/site-packages/scib_metrics/_kbet.py:181: FutureWarning: pandas.value_counts is deprecated and will be removed in a future version. Use pd.Series(obj).value_counts() instead.\n",
      "  comp_size = pd.value_counts(labs)\n",
      "/home/ml4ig1/miniconda3/envs/geneformer/lib/python3.10/site-packages/scib_metrics/_kbet.py:181: FutureWarning: pandas.value_counts is deprecated and will be removed in a future version. Use pd.Series(obj).value_counts() instead.\n",
      "  comp_size = pd.value_counts(labs)\n",
      "/home/ml4ig1/miniconda3/envs/geneformer/lib/python3.10/site-packages/scib_metrics/_kbet.py:181: FutureWarning: pandas.value_counts is deprecated and will be removed in a future version. Use pd.Series(obj).value_counts() instead.\n",
      "  comp_size = pd.value_counts(labs)\n",
      "/home/ml4ig1/miniconda3/envs/geneformer/lib/python3.10/site-packages/scib_metrics/_kbet.py:181: FutureWarning: pandas.value_counts is deprecated and will be removed in a future version. Use pd.Series(obj).value_counts() instead.\n",
      "  comp_size = pd.value_counts(labs)\n",
      "/home/ml4ig1/miniconda3/envs/geneformer/lib/python3.10/site-packages/scib_metrics/_kbet.py:181: FutureWarning: pandas.value_counts is deprecated and will be removed in a future version. Use pd.Series(obj).value_counts() instead.\n",
      "  comp_size = pd.value_counts(labs)\n",
      "/home/ml4ig1/miniconda3/envs/geneformer/lib/python3.10/site-packages/scib_metrics/_kbet.py:181: FutureWarning: pandas.value_counts is deprecated and will be removed in a future version. Use pd.Series(obj).value_counts() instead.\n",
      "  comp_size = pd.value_counts(labs)\n",
      "/home/ml4ig1/miniconda3/envs/geneformer/lib/python3.10/site-packages/scib_metrics/_kbet.py:181: FutureWarning: pandas.value_counts is deprecated and will be removed in a future version. Use pd.Series(obj).value_counts() instead.\n",
      "  comp_size = pd.value_counts(labs)\n"
     ]
    },
    {
     "name": "stdout",
     "output_type": "stream",
     "text": [
      "\u001b[34mINFO    \u001b[0m t_cell consists of a single batch or is too small. Skip.                                                  \n"
     ]
    },
    {
     "name": "stderr",
     "output_type": "stream",
     "text": [
      "/home/ml4ig1/miniconda3/envs/geneformer/lib/python3.10/site-packages/scib_metrics/_kbet.py:181: FutureWarning: pandas.value_counts is deprecated and will be removed in a future version. Use pd.Series(obj).value_counts() instead.\n",
      "  comp_size = pd.value_counts(labs)\n",
      "/home/ml4ig1/miniconda3/envs/geneformer/lib/python3.10/site-packages/scib_metrics/_graph_connectivity.py:30: FutureWarning: pandas.value_counts is deprecated and will be removed in a future version. Use pd.Series(obj).value_counts() instead.\n",
      "  tab = pd.value_counts(comps)\n",
      "Embeddings:  50%|\u001b[32m█████     \u001b[0m| 1/2 [01:30<01:30, 90.22s/it]/home/ml4ig1/miniconda3/envs/geneformer/lib/python3.10/site-packages/scib_metrics/_kbet.py:181: FutureWarning: pandas.value_counts is deprecated and will be removed in a future version. Use pd.Series(obj).value_counts() instead.\n",
      "  comp_size = pd.value_counts(labs)\n",
      "/home/ml4ig1/miniconda3/envs/geneformer/lib/python3.10/site-packages/scib_metrics/_kbet.py:181: FutureWarning: pandas.value_counts is deprecated and will be removed in a future version. Use pd.Series(obj).value_counts() instead.\n",
      "  comp_size = pd.value_counts(labs)\n",
      "/home/ml4ig1/miniconda3/envs/geneformer/lib/python3.10/site-packages/scib_metrics/_kbet.py:181: FutureWarning: pandas.value_counts is deprecated and will be removed in a future version. Use pd.Series(obj).value_counts() instead.\n",
      "  comp_size = pd.value_counts(labs)\n",
      "/home/ml4ig1/miniconda3/envs/geneformer/lib/python3.10/site-packages/scib_metrics/_kbet.py:181: FutureWarning: pandas.value_counts is deprecated and will be removed in a future version. Use pd.Series(obj).value_counts() instead.\n",
      "  comp_size = pd.value_counts(labs)\n",
      "/home/ml4ig1/miniconda3/envs/geneformer/lib/python3.10/site-packages/scib_metrics/_kbet.py:181: FutureWarning: pandas.value_counts is deprecated and will be removed in a future version. Use pd.Series(obj).value_counts() instead.\n",
      "  comp_size = pd.value_counts(labs)\n"
     ]
    },
    {
     "name": "stdout",
     "output_type": "stream",
     "text": [
      "\u001b[34mINFO    \u001b[0m t_cell consists of a single batch or is too small. Skip.                                                  \n"
     ]
    },
    {
     "name": "stderr",
     "output_type": "stream",
     "text": [
      "/home/ml4ig1/miniconda3/envs/geneformer/lib/python3.10/site-packages/scib_metrics/_kbet.py:181: FutureWarning: pandas.value_counts is deprecated and will be removed in a future version. Use pd.Series(obj).value_counts() instead.\n",
      "  comp_size = pd.value_counts(labs)/home/ml4ig1/miniconda3/envs/geneformer/lib/python3.10/site-packages/scib_metrics/_graph_connectivity.py:30: FutureWarning: pandas.value_counts is deprecated and will be removed in a future version. Use pd.Series(obj).value_counts() instead.\n",
      "  tab = pd.value_counts(comps)\n",
      "Embeddings: 100%|\u001b[32m██████████\u001b[0m| 2/2 [07:37<00:00, 228.74s/it]\n"
     ]
    }
   ],
   "source": [
    "bm = Benchmarker(\n",
    "    adata,\n",
    "    batch_key=\"tech\", #batch, tech\n",
    "    label_key=\"celltype\", #celltype\n",
    "    embedding_obsm_keys=[\"X_pca\", \"geneformer\"],\n",
    "    n_jobs=20,\n",
    ")\n",
    "bm.benchmark()"
   ]
  },
  {
   "cell_type": "code",
   "execution_count": 11,
   "metadata": {},
   "outputs": [
    {
     "data": {
      "text/html": [
       "<div>\n",
       "<style scoped>\n",
       "    .dataframe tbody tr th:only-of-type {\n",
       "        vertical-align: middle;\n",
       "    }\n",
       "\n",
       "    .dataframe tbody tr th {\n",
       "        vertical-align: top;\n",
       "    }\n",
       "\n",
       "    .dataframe thead th {\n",
       "        text-align: right;\n",
       "    }\n",
       "</style>\n",
       "<table border=\"1\" class=\"dataframe\">\n",
       "  <thead>\n",
       "    <tr style=\"text-align: right;\">\n",
       "      <th></th>\n",
       "      <th>Isolated labels</th>\n",
       "      <th>KMeans NMI</th>\n",
       "      <th>KMeans ARI</th>\n",
       "      <th>Silhouette label</th>\n",
       "      <th>cLISI</th>\n",
       "      <th>Silhouette batch</th>\n",
       "      <th>iLISI</th>\n",
       "      <th>KBET</th>\n",
       "      <th>Graph connectivity</th>\n",
       "      <th>PCR comparison</th>\n",
       "      <th>Batch correction</th>\n",
       "      <th>Bio conservation</th>\n",
       "      <th>Total</th>\n",
       "    </tr>\n",
       "    <tr>\n",
       "      <th>Embedding</th>\n",
       "      <th></th>\n",
       "      <th></th>\n",
       "      <th></th>\n",
       "      <th></th>\n",
       "      <th></th>\n",
       "      <th></th>\n",
       "      <th></th>\n",
       "      <th></th>\n",
       "      <th></th>\n",
       "      <th></th>\n",
       "      <th></th>\n",
       "      <th></th>\n",
       "      <th></th>\n",
       "    </tr>\n",
       "  </thead>\n",
       "  <tbody>\n",
       "    <tr>\n",
       "      <th>X_pca</th>\n",
       "      <td>0.986439</td>\n",
       "      <td>0.169171</td>\n",
       "      <td>-0.036007</td>\n",
       "      <td>0.14008</td>\n",
       "      <td>0.999789</td>\n",
       "      <td>0.723848</td>\n",
       "      <td>0.064154</td>\n",
       "      <td>0.125128</td>\n",
       "      <td>0.643397</td>\n",
       "      <td>0.0</td>\n",
       "      <td>0.311305</td>\n",
       "      <td>0.451894</td>\n",
       "      <td>0.395659</td>\n",
       "    </tr>\n",
       "    <tr>\n",
       "      <th>geneformer</th>\n",
       "      <td>0.457926</td>\n",
       "      <td>0.063174</td>\n",
       "      <td>0.023233</td>\n",
       "      <td>0.469323</td>\n",
       "      <td>0.828791</td>\n",
       "      <td>0.869874</td>\n",
       "      <td>0.191862</td>\n",
       "      <td>0.007704</td>\n",
       "      <td>0.168072</td>\n",
       "      <td>0.633788</td>\n",
       "      <td>0.37426</td>\n",
       "      <td>0.368489</td>\n",
       "      <td>0.370798</td>\n",
       "    </tr>\n",
       "    <tr>\n",
       "      <th>Metric Type</th>\n",
       "      <td>Bio conservation</td>\n",
       "      <td>Bio conservation</td>\n",
       "      <td>Bio conservation</td>\n",
       "      <td>Bio conservation</td>\n",
       "      <td>Bio conservation</td>\n",
       "      <td>Batch correction</td>\n",
       "      <td>Batch correction</td>\n",
       "      <td>Batch correction</td>\n",
       "      <td>Batch correction</td>\n",
       "      <td>Batch correction</td>\n",
       "      <td>Aggregate score</td>\n",
       "      <td>Aggregate score</td>\n",
       "      <td>Aggregate score</td>\n",
       "    </tr>\n",
       "  </tbody>\n",
       "</table>\n",
       "</div>"
      ],
      "text/plain": [
       "              Isolated labels        KMeans NMI        KMeans ARI  \\\n",
       "Embedding                                                           \n",
       "X_pca                0.986439          0.169171         -0.036007   \n",
       "geneformer           0.457926          0.063174          0.023233   \n",
       "Metric Type  Bio conservation  Bio conservation  Bio conservation   \n",
       "\n",
       "             Silhouette label             cLISI  Silhouette batch  \\\n",
       "Embedding                                                           \n",
       "X_pca                 0.14008          0.999789          0.723848   \n",
       "geneformer           0.469323          0.828791          0.869874   \n",
       "Metric Type  Bio conservation  Bio conservation  Batch correction   \n",
       "\n",
       "                        iLISI              KBET Graph connectivity  \\\n",
       "Embedding                                                            \n",
       "X_pca                0.064154          0.125128           0.643397   \n",
       "geneformer           0.191862          0.007704           0.168072   \n",
       "Metric Type  Batch correction  Batch correction   Batch correction   \n",
       "\n",
       "               PCR comparison Batch correction Bio conservation  \\\n",
       "Embedding                                                         \n",
       "X_pca                     0.0         0.311305         0.451894   \n",
       "geneformer           0.633788          0.37426         0.368489   \n",
       "Metric Type  Batch correction  Aggregate score  Aggregate score   \n",
       "\n",
       "                       Total  \n",
       "Embedding                     \n",
       "X_pca               0.395659  \n",
       "geneformer          0.370798  \n",
       "Metric Type  Aggregate score  "
      ]
     },
     "execution_count": 11,
     "metadata": {},
     "output_type": "execute_result"
    }
   ],
   "source": [
    "# pancreas\n",
    "bm.get_results(min_max_scale=False)"
   ]
  },
  {
   "cell_type": "code",
   "execution_count": 4,
   "metadata": {},
   "outputs": [],
   "source": [
    "import datetime\n",
    "from geneformer import Classifier"
   ]
  },
  {
   "cell_type": "code",
   "execution_count": 13,
   "metadata": {},
   "outputs": [
    {
     "name": "stderr",
     "output_type": "stream",
     "text": [
      "/tmp/ipykernel_2727852/1695375894.py:3: ImplicitModificationWarning: Trying to modify attribute `.var` of view, initializing view as actual.\n",
      "  adata.var['ensembl_id'] = adata.var.index\n"
     ]
    },
    {
     "name": "stdout",
     "output_type": "stream",
     "text": [
      "Tokenizing /tmp/geneformer/test.h5ad\n"
     ]
    },
    {
     "name": "stderr",
     "output_type": "stream",
     "text": [
      "/home/ml4ig1/Documents code/Geneformer/geneformer/tokenizer.py:473: FutureWarning: Series.__getitem__ treating keys as positions is deprecated. In a future version, integer keys will always be treated as labels (consistent with DataFrame behavior). To access a value by position, use `ser.iloc[pos]`\n",
      "  for i in adata.var[\"ensembl_id_collapsed\"][coding_miRNA_loc]\n",
      "/home/ml4ig1/Documents code/Geneformer/geneformer/tokenizer.py:476: FutureWarning: Series.__getitem__ treating keys as positions is deprecated. In a future version, integer keys will always be treated as labels (consistent with DataFrame behavior). To access a value by position, use `ser.iloc[pos]`\n",
      "  coding_miRNA_ids = adata.var[\"ensembl_id_collapsed\"][coding_miRNA_loc]\n"
     ]
    },
    {
     "name": "stdout",
     "output_type": "stream",
     "text": [
      "/tmp/geneformer/test.h5ad has no column attribute 'filter_pass'; tokenizing all cells.\n",
      "Creating dataset.\n"
     ]
    }
   ],
   "source": [
    "adata = adata[:, adata.var.index.isin([u for u in gene_mapping_dict.keys() if u in adata.var.index])]\n",
    "\n",
    "adata.var['ensembl_id'] = adata.var.index\n",
    "adata.obs['n_counts'] = adata.X.sum(1)\n",
    "# Create the geneformer folder if it doesn't exist\n",
    "geneformer_folder = \"/tmp/geneformer\"\n",
    "if not os.path.exists(geneformer_folder):\n",
    "    os.makedirs(geneformer_folder)\n",
    "adata.write_h5ad(\"/tmp/geneformer/test.h5ad\")\n",
    "tokenized_data_path = \"/tmp/geneformer/tokenized_data.dataset/\"\n",
    "if os.path.exists(tokenized_data_path):\n",
    "    shutil.rmtree(tokenized_data_path)\n",
    "tk = TranscriptomeTokenizer({\"celltype\": \"cell_type\"}, nproc=16, model_input_size=4096)\n",
    "tk.tokenize_data(\"/tmp/geneformer/\", \n",
    "                \"/tmp/geneformer/\",\n",
    "                \"tokenized_data\", \n",
    "                file_format=\"h5ad\")"
   ]
  },
  {
   "cell_type": "code",
   "execution_count": 5,
   "metadata": {},
   "outputs": [
    {
     "name": "stderr",
     "output_type": "stream",
     "text": [
      "[d3graph] WARNING> Hyperparameter tuning is highly recommended for optimal results. No training_args provided; using default hyperparameters.\n"
     ]
    }
   ],
   "source": [
    "cc = Classifier(classifier=\"cell\",\n",
    "    cell_state_dict = {\"state_key\": \"cell_type\", \"states\": \"all\"},\n",
    "    forward_batch_size=40,\n",
    "    nproc=16)"
   ]
  },
  {
   "cell_type": "code",
   "execution_count": 17,
   "metadata": {},
   "outputs": [
    {
     "name": "stdout",
     "output_type": "stream",
     "text": [
      "/tmp/geneformer/pancreas_atlas_labeled.dataset\n"
     ]
    }
   ],
   "source": [
    "cc.prepare_data(input_data_file=\"/tmp/geneformer/tokenized_data.dataset\",\n",
    "                output_directory=\"/tmp/geneformer/\",\n",
    "                test_size=1,\n",
    "                output_prefix=\"pancreas_atlas\",\n",
    "                split_id_dict=None)"
   ]
  },
  {
   "cell_type": "code",
   "execution_count": 18,
   "metadata": {},
   "outputs": [
    {
     "name": "stdout",
     "output_type": "stream",
     "text": [
      "geneformertest.csv                    \u001b[0m\u001b[01;34mpancreas_atlas_labeled_train.dataset\u001b[0m/\n",
      "pancreas_atlas_id_class_dict.pkl      test.h5ad\n",
      "\u001b[01;34mpancreas_atlas_labeled.dataset\u001b[0m/       \u001b[01;34mtokenized_data.dataset\u001b[0m/\n",
      "\u001b[01;34mpancreas_atlas_labeled_test.dataset\u001b[0m/\n"
     ]
    }
   ],
   "source": [
    "ls /tmp/geneformer/"
   ]
  },
  {
   "cell_type": "code",
   "execution_count": 6,
   "metadata": {},
   "outputs": [
    {
     "name": "stderr",
     "output_type": "stream",
     "text": [
      "Some weights of BertForSequenceClassification were not initialized from the model checkpoint at ../../Geneformer/fine_tuned_models/gf-12L-95M-i4096_MTLCellClassifier_CELLxGENE_240522/ and are newly initialized: ['classifier.bias', 'classifier.weight']\n",
      "You should probably TRAIN this model on a down-stream task to be able to use it for predictions and inference.\n"
     ]
    },
    {
     "data": {
      "application/vnd.jupyter.widget-view+json": {
       "model_id": "6f4104f8234142b1ab7b9479502ffdca",
       "version_major": 2,
       "version_minor": 0
      },
      "text/plain": [
       "  0%|          | 0/41 [00:00<?, ?it/s]"
      ]
     },
     "metadata": {},
     "output_type": "display_data"
    }
   ],
   "source": [
    "all_metrics_test = cc.validate(\n",
    "    model_directory=\"../../Geneformer/fine_tuned_models/gf-12L-95M-i4096_MTLCellClassifier_CELLxGENE_240522/\",\n",
    "    id_class_dict_file=\"/tmp/geneformer/pancreas_atlas_id_class_dict.pkl\",\n",
    "    test_data_file=\"/tmp/geneformer/pancreas_atlas_labeled_test.dataset\",\n",
    "    output_directory=\"/tmp/geneformer/\",\n",
    "    output_prefix=\"pancreas_atlas_proc\",\n",
    ")"
   ]
  },
  {
   "cell_type": "code",
   "execution_count": null,
   "metadata": {},
   "outputs": [],
   "source": [
    "# it seems we can't just do inference even with the fine tuned model... "
   ]
  },
  {
   "cell_type": "markdown",
   "metadata": {},
   "source": [
    "# lung"
   ]
  },
  {
   "cell_type": "code",
   "execution_count": 3,
   "metadata": {},
   "outputs": [],
   "source": [
    "adata = sc.read(\n",
    "    \"data/lung_atlas.h5ad\",\n",
    "    backup_url=\"https://figshare.com/ndownloader/files/24539942\",\n",
    ")"
   ]
  },
  {
   "cell_type": "code",
   "execution_count": 4,
   "metadata": {},
   "outputs": [],
   "source": [
    "# preprocess\n",
    "\n",
    "# Merge adata.var with genesdf\n",
    "# First, ensure the index of adata.var is named\n",
    "adata.obs['organism_ontology_term_id'] = \"NCBITaxon:9606\"\n",
    "genesdf = data_utils.load_genes(adata.obs.organism_ontology_term_id.iloc[0])\n",
    "adata.var.index.name = 'symbol'\n",
    "\n",
    "# Merge adata.var with genesdf\n",
    "# Merge adata.var with genesdf, keeping only the first instance of each symbol\n",
    "merged_var = adata.var.reset_index().merge(\n",
    "    genesdf.reset_index().drop_duplicates(subset='symbol', keep='first'),\n",
    "    left_on='symbol',\n",
    "    right_on='symbol',\n",
    "    how='left'\n",
    ")\n",
    "\n",
    "# Set the index back to 'symbol'\n",
    "merged_var.set_index('symbol', inplace=True)\n",
    "adata.var = merged_var\n",
    "adata.var['symbol'] =  adata.var.index\n",
    "adata.var.index = adata.var.ensembl_gene_id\n",
    "adata.var.drop(columns=['mt', 'ribo', 'hb'], inplace=True)"
   ]
  },
  {
   "cell_type": "code",
   "execution_count": 5,
   "metadata": {},
   "outputs": [],
   "source": [
    "adata.X = adata.layers['counts']\n",
    "del adata.layers['counts']"
   ]
  },
  {
   "cell_type": "code",
   "execution_count": 6,
   "metadata": {},
   "outputs": [
    {
     "name": "stderr",
     "output_type": "stream",
     "text": [
      "/tmp/ipykernel_2703648/19730043.py:18: ImplicitModificationWarning: Trying to modify attribute `.var` of view, initializing view as actual.\n",
      "  adata.var['ensembl_id'] = adata.var.index\n"
     ]
    },
    {
     "name": "stdout",
     "output_type": "stream",
     "text": [
      "Tokenizing /tmp/geneformer/test.h5ad\n"
     ]
    },
    {
     "name": "stderr",
     "output_type": "stream",
     "text": [
      "/home/ml4ig1/Documents code/Geneformer/geneformer/tokenizer.py:473: FutureWarning: Series.__getitem__ treating keys as positions is deprecated. In a future version, integer keys will always be treated as labels (consistent with DataFrame behavior). To access a value by position, use `ser.iloc[pos]`\n",
      "  for i in adata.var[\"ensembl_id_collapsed\"][coding_miRNA_loc]\n",
      "/home/ml4ig1/Documents code/Geneformer/geneformer/tokenizer.py:476: FutureWarning: Series.__getitem__ treating keys as positions is deprecated. In a future version, integer keys will always be treated as labels (consistent with DataFrame behavior). To access a value by position, use `ser.iloc[pos]`\n",
      "  coding_miRNA_ids = adata.var[\"ensembl_id_collapsed\"][coding_miRNA_loc]\n"
     ]
    },
    {
     "name": "stdout",
     "output_type": "stream",
     "text": [
      "/tmp/geneformer/test.h5ad has no column attribute 'filter_pass'; tokenizing all cells.\n",
      "Creating dataset.\n"
     ]
    },
    {
     "name": "stderr",
     "output_type": "stream",
     "text": [
      "Some weights of BertForSequenceClassification were not initialized from the model checkpoint at ../../Geneformer/fine_tuned_models/gf-12L-95M-i4096_MTLCellClassifier_CELLxGENE_240522/ and are newly initialized: ['classifier.bias', 'classifier.weight']\n",
      "You should probably TRAIN this model on a down-stream task to be able to use it for predictions and inference.\n",
      "[d3graph] WARNING> CLS token present in token dictionary, excluding from average.\n",
      "[d3graph] WARNING> EOS token present in token dictionary, excluding from average.\n"
     ]
    },
    {
     "data": {
      "application/vnd.jupyter.widget-view+json": {
       "model_id": "9dc64813bb0d4a74b58db7706b16a9ea",
       "version_major": 2,
       "version_minor": 0
      },
      "text/plain": [
       "  0%|          | 0/1624 [00:00<?, ?it/s]"
      ]
     },
     "metadata": {},
     "output_type": "display_data"
    }
   ],
   "source": [
    "embs = compute_geneformer_embs(adata, forward_batch_size=20, max_ncells=100_000, cache=False)\n",
    "adata.obsm['geneformer'] = embs.values"
   ]
  },
  {
   "cell_type": "code",
   "execution_count": 7,
   "metadata": {},
   "outputs": [],
   "source": [
    "sc.pp.pca(adata)"
   ]
  },
  {
   "cell_type": "code",
   "execution_count": 8,
   "metadata": {},
   "outputs": [
    {
     "name": "stderr",
     "output_type": "stream",
     "text": [
      "/home/ml4ig1/miniconda3/envs/geneformer/lib/python3.10/site-packages/scanpy/preprocessing/_pca.py:377: FutureWarning: Argument `use_highly_variable` is deprecated, consider using the mask argument. Use_highly_variable=True can be called through mask_var=\"highly_variable\". Use_highly_variable=False can be called through mask_var=None\n",
      "  warn(msg, FutureWarning)\n",
      "Computing neighbors: 100%|██████████| 2/2 [00:52<00:00, 26.39s/it]\n",
      "Embeddings:   0%|\u001b[32m          \u001b[0m| 0/2 [00:00<?, ?it/s][d3graph] WARNING> An NVIDIA GPU may be present on this machine, but a CUDA-enabled jaxlib is not installed. Falling back to cpu.\n",
      "/home/ml4ig1/miniconda3/envs/geneformer/lib/python3.10/site-packages/scib_metrics/_kbet.py:181: FutureWarning: pandas.value_counts is deprecated and will be removed in a future version. Use pd.Series(obj).value_counts() instead.\n",
      "  comp_size = pd.value_counts(labs)\n",
      "/home/ml4ig1/miniconda3/envs/geneformer/lib/python3.10/site-packages/scib_metrics/_kbet.py:181: FutureWarning: pandas.value_counts is deprecated and will be removed in a future version. Use pd.Series(obj).value_counts() instead.\n",
      "  comp_size = pd.value_counts(labs)\n",
      "/home/ml4ig1/miniconda3/envs/geneformer/lib/python3.10/site-packages/scib_metrics/_kbet.py:181: FutureWarning: pandas.value_counts is deprecated and will be removed in a future version. Use pd.Series(obj).value_counts() instead.\n",
      "  comp_size = pd.value_counts(labs)\n",
      "/home/ml4ig1/miniconda3/envs/geneformer/lib/python3.10/site-packages/scib_metrics/_kbet.py:181: FutureWarning: pandas.value_counts is deprecated and will be removed in a future version. Use pd.Series(obj).value_counts() instead.\n",
      "  comp_size = pd.value_counts(labs)\n",
      "/home/ml4ig1/miniconda3/envs/geneformer/lib/python3.10/site-packages/scib_metrics/_kbet.py:181: FutureWarning: pandas.value_counts is deprecated and will be removed in a future version. Use pd.Series(obj).value_counts() instead.\n",
      "  comp_size = pd.value_counts(labs)\n",
      "/home/ml4ig1/miniconda3/envs/geneformer/lib/python3.10/site-packages/scib_metrics/_kbet.py:181: FutureWarning: pandas.value_counts is deprecated and will be removed in a future version. Use pd.Series(obj).value_counts() instead.\n",
      "  comp_size = pd.value_counts(labs)\n",
      "/home/ml4ig1/miniconda3/envs/geneformer/lib/python3.10/site-packages/scib_metrics/_kbet.py:181: FutureWarning: pandas.value_counts is deprecated and will be removed in a future version. Use pd.Series(obj).value_counts() instead.\n",
      "  comp_size = pd.value_counts(labs)\n",
      "/home/ml4ig1/miniconda3/envs/geneformer/lib/python3.10/site-packages/scib_metrics/_kbet.py:181: FutureWarning: pandas.value_counts is deprecated and will be removed in a future version. Use pd.Series(obj).value_counts() instead.\n",
      "  comp_size = pd.value_counts(labs)\n",
      "/home/ml4ig1/miniconda3/envs/geneformer/lib/python3.10/site-packages/scib_metrics/_kbet.py:181: FutureWarning: pandas.value_counts is deprecated and will be removed in a future version. Use pd.Series(obj).value_counts() instead.\n",
      "  comp_size = pd.value_counts(labs)\n",
      "/home/ml4ig1/miniconda3/envs/geneformer/lib/python3.10/site-packages/scib_metrics/_kbet.py:181: FutureWarning: pandas.value_counts is deprecated and will be removed in a future version. Use pd.Series(obj).value_counts() instead.\n",
      "  comp_size = pd.value_counts(labs)\n",
      "/home/ml4ig1/miniconda3/envs/geneformer/lib/python3.10/site-packages/scib_metrics/_kbet.py:181: FutureWarning: pandas.value_counts is deprecated and will be removed in a future version. Use pd.Series(obj).value_counts() instead.\n",
      "  comp_size = pd.value_counts(labs)\n",
      "/home/ml4ig1/miniconda3/envs/geneformer/lib/python3.10/site-packages/scib_metrics/_kbet.py:181: FutureWarning: pandas.value_counts is deprecated and will be removed in a future version. Use pd.Series(obj).value_counts() instead.\n",
      "  comp_size = pd.value_counts(labs)\n",
      "/home/ml4ig1/miniconda3/envs/geneformer/lib/python3.10/site-packages/scib_metrics/_kbet.py:181: FutureWarning: pandas.value_counts is deprecated and will be removed in a future version. Use pd.Series(obj).value_counts() instead.\n",
      "  comp_size = pd.value_counts(labs)\n",
      "/home/ml4ig1/miniconda3/envs/geneformer/lib/python3.10/site-packages/scib_metrics/_kbet.py:181: FutureWarning: pandas.value_counts is deprecated and will be removed in a future version. Use pd.Series(obj).value_counts() instead.\n",
      "  comp_size = pd.value_counts(labs)\n",
      "/home/ml4ig1/miniconda3/envs/geneformer/lib/python3.10/site-packages/scib_metrics/_kbet.py:181: FutureWarning: pandas.value_counts is deprecated and will be removed in a future version. Use pd.Series(obj).value_counts() instead.\n",
      "  comp_size = pd.value_counts(labs)\n",
      "/home/ml4ig1/miniconda3/envs/geneformer/lib/python3.10/site-packages/scib_metrics/_kbet.py:181: FutureWarning: pandas.value_counts is deprecated and will be removed in a future version. Use pd.Series(obj).value_counts() instead.\n",
      "  comp_size = pd.value_counts(labs)\n",
      "/home/ml4ig1/miniconda3/envs/geneformer/lib/python3.10/site-packages/scib_metrics/_kbet.py:181: FutureWarning: pandas.value_counts is deprecated and will be removed in a future version. Use pd.Series(obj).value_counts() instead.\n",
      "  comp_size = pd.value_counts(labs)\n",
      "/home/ml4ig1/miniconda3/envs/geneformer/lib/python3.10/site-packages/scib_metrics/_graph_connectivity.py:30: FutureWarning: pandas.value_counts is deprecated and will be removed in a future version. Use pd.Series(obj).value_counts() instead.\n",
      "  tab = pd.value_counts(comps)\n",
      "Embeddings:  50%|\u001b[32m█████     \u001b[0m| 1/2 [03:29<03:29, 209.62s/it]/home/ml4ig1/miniconda3/envs/geneformer/lib/python3.10/site-packages/scib_metrics/_kbet.py:181: FutureWarning: pandas.value_counts is deprecated and will be removed in a future version. Use pd.Series(obj).value_counts() instead.\n",
      "  comp_size = pd.value_counts(labs)\n",
      "/home/ml4ig1/miniconda3/envs/geneformer/lib/python3.10/site-packages/scib_metrics/_kbet.py:181: FutureWarning: pandas.value_counts is deprecated and will be removed in a future version. Use pd.Series(obj).value_counts() instead.\n",
      "  comp_size = pd.value_counts(labs)\n",
      "/home/ml4ig1/miniconda3/envs/geneformer/lib/python3.10/site-packages/scib_metrics/_kbet.py:181: FutureWarning: pandas.value_counts is deprecated and will be removed in a future version. Use pd.Series(obj).value_counts() instead.\n",
      "  comp_size = pd.value_counts(labs)\n",
      "/home/ml4ig1/miniconda3/envs/geneformer/lib/python3.10/site-packages/scib_metrics/_kbet.py:181: FutureWarning: pandas.value_counts is deprecated and will be removed in a future version. Use pd.Series(obj).value_counts() instead.\n",
      "  comp_size = pd.value_counts(labs)\n",
      "/home/ml4ig1/miniconda3/envs/geneformer/lib/python3.10/site-packages/scib_metrics/_kbet.py:181: FutureWarning: pandas.value_counts is deprecated and will be removed in a future version. Use pd.Series(obj).value_counts() instead.\n",
      "  comp_size = pd.value_counts(labs)\n",
      "/home/ml4ig1/miniconda3/envs/geneformer/lib/python3.10/site-packages/scib_metrics/_kbet.py:181: FutureWarning: pandas.value_counts is deprecated and will be removed in a future version. Use pd.Series(obj).value_counts() instead.\n",
      "  comp_size = pd.value_counts(labs)\n",
      "/home/ml4ig1/miniconda3/envs/geneformer/lib/python3.10/site-packages/scib_metrics/_kbet.py:181: FutureWarning: pandas.value_counts is deprecated and will be removed in a future version. Use pd.Series(obj).value_counts() instead.\n",
      "  comp_size = pd.value_counts(labs)\n",
      "/home/ml4ig1/miniconda3/envs/geneformer/lib/python3.10/site-packages/scib_metrics/_kbet.py:181: FutureWarning: pandas.value_counts is deprecated and will be removed in a future version. Use pd.Series(obj).value_counts() instead.\n",
      "  comp_size = pd.value_counts(labs)\n",
      "/home/ml4ig1/miniconda3/envs/geneformer/lib/python3.10/site-packages/scib_metrics/_kbet.py:181: FutureWarning: pandas.value_counts is deprecated and will be removed in a future version. Use pd.Series(obj).value_counts() instead.\n",
      "  comp_size = pd.value_counts(labs)\n",
      "/home/ml4ig1/miniconda3/envs/geneformer/lib/python3.10/site-packages/scib_metrics/_kbet.py:181: FutureWarning: pandas.value_counts is deprecated and will be removed in a future version. Use pd.Series(obj).value_counts() instead.\n",
      "  comp_size = pd.value_counts(labs)\n",
      "/home/ml4ig1/miniconda3/envs/geneformer/lib/python3.10/site-packages/scib_metrics/_kbet.py:181: FutureWarning: pandas.value_counts is deprecated and will be removed in a future version. Use pd.Series(obj).value_counts() instead.\n",
      "  comp_size = pd.value_counts(labs)\n",
      "/home/ml4ig1/miniconda3/envs/geneformer/lib/python3.10/site-packages/scib_metrics/_kbet.py:181: FutureWarning: pandas.value_counts is deprecated and will be removed in a future version. Use pd.Series(obj).value_counts() instead.\n",
      "  comp_size = pd.value_counts(labs)\n",
      "/home/ml4ig1/miniconda3/envs/geneformer/lib/python3.10/site-packages/scib_metrics/_graph_connectivity.py:30: FutureWarning: pandas.value_counts is deprecated and will be removed in a future version. Use pd.Series(obj).value_counts() instead.\n",
      "  tab = pd.value_counts(comps)\n",
      "/home/ml4ig1/miniconda3/envs/geneformer/lib/python3.10/site-packages/scib_metrics/_pcr_comparison.py:49: UserWarning: PCR comparison score is negative, meaning variance contribution increased after integration. Setting to 0.\n",
      "  warnings.warn(\n",
      "Embeddings: 100%|\u001b[32m██████████\u001b[0m| 2/2 [22:07<00:00, 663.83s/it]\n"
     ]
    }
   ],
   "source": [
    "bm = Benchmarker(\n",
    "    adata,\n",
    "    batch_key=\"batch\", #batch, tech\n",
    "    label_key=\"cell_type\", #celltype\n",
    "    embedding_obsm_keys=[\"X_pca\", \"geneformer\"],\n",
    "    n_jobs=20,\n",
    ")\n",
    "bm.benchmark()"
   ]
  },
  {
   "cell_type": "code",
   "execution_count": 9,
   "metadata": {},
   "outputs": [
    {
     "data": {
      "text/html": [
       "<div>\n",
       "<style scoped>\n",
       "    .dataframe tbody tr th:only-of-type {\n",
       "        vertical-align: middle;\n",
       "    }\n",
       "\n",
       "    .dataframe tbody tr th {\n",
       "        vertical-align: top;\n",
       "    }\n",
       "\n",
       "    .dataframe thead th {\n",
       "        text-align: right;\n",
       "    }\n",
       "</style>\n",
       "<table border=\"1\" class=\"dataframe\">\n",
       "  <thead>\n",
       "    <tr style=\"text-align: right;\">\n",
       "      <th></th>\n",
       "      <th>Isolated labels</th>\n",
       "      <th>KMeans NMI</th>\n",
       "      <th>KMeans ARI</th>\n",
       "      <th>Silhouette label</th>\n",
       "      <th>cLISI</th>\n",
       "      <th>Silhouette batch</th>\n",
       "      <th>iLISI</th>\n",
       "      <th>KBET</th>\n",
       "      <th>Graph connectivity</th>\n",
       "      <th>PCR comparison</th>\n",
       "      <th>Batch correction</th>\n",
       "      <th>Bio conservation</th>\n",
       "      <th>Total</th>\n",
       "    </tr>\n",
       "    <tr>\n",
       "      <th>Embedding</th>\n",
       "      <th></th>\n",
       "      <th></th>\n",
       "      <th></th>\n",
       "      <th></th>\n",
       "      <th></th>\n",
       "      <th></th>\n",
       "      <th></th>\n",
       "      <th></th>\n",
       "      <th></th>\n",
       "      <th></th>\n",
       "      <th></th>\n",
       "      <th></th>\n",
       "      <th></th>\n",
       "    </tr>\n",
       "  </thead>\n",
       "  <tbody>\n",
       "    <tr>\n",
       "      <th>X_pca</th>\n",
       "      <td>0.469209</td>\n",
       "      <td>0.440155</td>\n",
       "      <td>0.236299</td>\n",
       "      <td>0.437615</td>\n",
       "      <td>0.999656</td>\n",
       "      <td>0.820083</td>\n",
       "      <td>0.00932</td>\n",
       "      <td>0.22938</td>\n",
       "      <td>0.766715</td>\n",
       "      <td>0.0</td>\n",
       "      <td>0.3651</td>\n",
       "      <td>0.516587</td>\n",
       "      <td>0.455992</td>\n",
       "    </tr>\n",
       "    <tr>\n",
       "      <th>geneformer</th>\n",
       "      <td>0.498888</td>\n",
       "      <td>0.13073</td>\n",
       "      <td>0.052578</td>\n",
       "      <td>0.45876</td>\n",
       "      <td>0.818367</td>\n",
       "      <td>0.906663</td>\n",
       "      <td>0.215395</td>\n",
       "      <td>0.436513</td>\n",
       "      <td>0.17932</td>\n",
       "      <td>0</td>\n",
       "      <td>0.347578</td>\n",
       "      <td>0.391864</td>\n",
       "      <td>0.37415</td>\n",
       "    </tr>\n",
       "    <tr>\n",
       "      <th>Metric Type</th>\n",
       "      <td>Bio conservation</td>\n",
       "      <td>Bio conservation</td>\n",
       "      <td>Bio conservation</td>\n",
       "      <td>Bio conservation</td>\n",
       "      <td>Bio conservation</td>\n",
       "      <td>Batch correction</td>\n",
       "      <td>Batch correction</td>\n",
       "      <td>Batch correction</td>\n",
       "      <td>Batch correction</td>\n",
       "      <td>Batch correction</td>\n",
       "      <td>Aggregate score</td>\n",
       "      <td>Aggregate score</td>\n",
       "      <td>Aggregate score</td>\n",
       "    </tr>\n",
       "  </tbody>\n",
       "</table>\n",
       "</div>"
      ],
      "text/plain": [
       "              Isolated labels        KMeans NMI        KMeans ARI  \\\n",
       "Embedding                                                           \n",
       "X_pca                0.469209          0.440155          0.236299   \n",
       "geneformer           0.498888           0.13073          0.052578   \n",
       "Metric Type  Bio conservation  Bio conservation  Bio conservation   \n",
       "\n",
       "             Silhouette label             cLISI  Silhouette batch  \\\n",
       "Embedding                                                           \n",
       "X_pca                0.437615          0.999656          0.820083   \n",
       "geneformer            0.45876          0.818367          0.906663   \n",
       "Metric Type  Bio conservation  Bio conservation  Batch correction   \n",
       "\n",
       "                        iLISI              KBET Graph connectivity  \\\n",
       "Embedding                                                            \n",
       "X_pca                 0.00932           0.22938           0.766715   \n",
       "geneformer           0.215395          0.436513            0.17932   \n",
       "Metric Type  Batch correction  Batch correction   Batch correction   \n",
       "\n",
       "               PCR comparison Batch correction Bio conservation  \\\n",
       "Embedding                                                         \n",
       "X_pca                     0.0           0.3651         0.516587   \n",
       "geneformer                  0         0.347578         0.391864   \n",
       "Metric Type  Batch correction  Aggregate score  Aggregate score   \n",
       "\n",
       "                       Total  \n",
       "Embedding                     \n",
       "X_pca               0.455992  \n",
       "geneformer           0.37415  \n",
       "Metric Type  Aggregate score  "
      ]
     },
     "execution_count": 9,
     "metadata": {},
     "output_type": "execute_result"
    }
   ],
   "source": [
    "# lung\n",
    "bm.get_results(min_max_scale=False)"
   ]
  },
  {
   "cell_type": "code",
   "execution_count": null,
   "metadata": {},
   "outputs": [],
   "source": [
    "fine = {\"gamma\": \"CL:0002275\",\n",
    "\"beta\": \"CL:0000169\", # \"CL:0008024\"\n",
    "\"epsilon\": \"CL:0005019\", # \"CL:0008024\"\n",
    "\"acinar\": \"CL:0000622\",\n",
    "'delta': 'CL:0000173', #\"CL:0008024\"\n",
    "'schwann': 'CL:0002573', # \"CL:0000125\"\n",
    "'activated_stellate': 'CL:0000057',\n",
    "'alpha': 'CL:0000171',# \"CL:0008024\"\n",
    "'mast': 'CL:0000097',\n",
    "'Mast cell': 'CL:0000097',\n",
    "'quiescent_stellate': 'CL:0000057',\n",
    "'t_cell': 'CL:0000084',\n",
    "'endothelial': 'CL:0000115',\n",
    "'Endothelium': 'CL:0000115',\n",
    "'ductal': 'CL:0002079', #CL:0000068\n",
    "'macrophage': 'CL:0000235',\n",
    "'Macrophage': 'CL:0000235',\n",
    "'B cell': 'CL:0000236',\n",
    "'Type 2': 'CL:0002063',\n",
    "'Type 1': 'CL:0002062',\n",
    "'Ciliated': 'CL:4030034', # respiratory ciliated\n",
    "'Dendritic cell': 'CL:0000451', #leukocyte\n",
    "'Secretory': 'CL:0000151',\n",
    "'Ionocytes': 'CL:0005006',\n",
    "'Basal 1': 'CL:0000646', # epithelial\n",
    "'Basal 2': 'CL:0000646',\n",
    "'Neutrophil_CD14_high': 'CL:0000775',\n",
    "'Neutrophils_IL1R2': 'CL:0000775',\n",
    "'Lymphatic': 'CL:0002138',\n",
    "'Fibroblast': 'CL:0000057',\n",
    "'T/NK cell': 'CL:0000814',\n",
    "\n",
    "'inDrop1': 'EFO:0008780',\n",
    "'inDrop3': 'EFO:0008780',\n",
    "'inDrop4': 'EFO:0008780',\n",
    "'inDrop2': 'EFO:0008780',\n",
    "'fluidigmc1': 'EFO:0010058', #fluidigm c1\n",
    "'smarter': 'EFO:0010058', #fluidigm c1\n",
    "'celseq2': 'EFO:0010010',\n",
    "'smartseq2': 'EFO:0008931',\n",
    "'celseq': 'EFO:0008679',\n",
    "}\n",
    "coarse = {\n",
    "\"beta\": \"CL:0008024\", #endocrine\n",
    "\"epsilon\": \"CL:0008024\",\n",
    "'delta': \"CL:0008024\",\n",
    "'alpha': \"CL:0008024\",\n",
    "\"gamma\": \"CL:0008024\",\n",
    "\"acinar\": \"CL:0000150\", #epithelial (gland)\n",
    "'ductal': \"CL:0000068\", #epithelial (duct)\n",
    "'schwann': \"CL:0000125\", # glial\n",
    "'endothelial': 'CL:0000115',\n",
    "'Endothelium': 'CL:0000115',\n",
    "'Lymphatic': 'CL:0000115',\n",
    "'macrophage': 'CL:0000235', #myeloid leukocyte (not) \n",
    "'Macrophage': 'CL:0000235', # myeloid leukocyte\n",
    "'mast': 'CL:0000097', #myeloid leukocyte (not)\n",
    "'Mast cell': 'CL:0000097', #myeloid leukocyte\n",
    "'Neutrophil_CD14_high': 'CL:0000775', #myeloid leukocyte\n",
    "'Neutrophils_IL1R2': 'CL:0000775', #myeloid leukocyte\n",
    "'t_cell': 'CL:0000084', #leukocyte, lymphocyte (not)\n",
    "'T/NK cell': 'CL:0000084', #leukocyte, lymphocyte (not)\n",
    "'B cell': 'CL:0000236', #leukocyte, lymphocyte (not)\n",
    "'Dendritic cell': 'CL:0000451', #leukocyte, lymphocyte\n",
    "'activated_stellate': 'CL:0000057', # fibroblast (not)\n",
    "'quiescent_stellate': 'CL:0000057', # fibroblast (not)\n",
    "'Fibroblast': 'CL:0000057',\n",
    "'Type 2': 'CL:0000066', # epithelial\n",
    "'Type 1': 'CL:0000066',\n",
    "'Ionocytes': 'CL:0000066', # epithelial\n",
    "'Basal 1': 'CL:0000066', # epithelial\n",
    "'Basal 2': 'CL:0000066',\n",
    "'Ciliated': 'CL:0000064', # ciliated\n",
    "'Secretory': 'CL:0000151',\n",
    "\n",
    "'inDrop1': 'EFO:0008780',\n",
    "'inDrop3': 'EFO:0008780',\n",
    "'inDrop4': 'EFO:0008780',\n",
    "'inDrop2': 'EFO:0008780',\n",
    "'fluidigmc1': 'EFO:0010058', #fluidigm c1\n",
    "'smarter': 'EFO:0010058', #fluidigm c1\n",
    "'celseq2': 'EFO:0010010',\n",
    "'smartseq2': 'EFO:0008931',\n",
    "'celseq': 'EFO:0008679',\n",
    "}\n"
   ]
  }
 ],
 "metadata": {
  "kernelspec": {
   "display_name": "scprint",
   "language": "python",
   "name": "python3"
  },
  "language_info": {
   "codemirror_mode": {
    "name": "ipython",
    "version": 3
   },
   "file_extension": ".py",
   "mimetype": "text/x-python",
   "name": "python",
   "nbconvert_exporter": "python",
   "pygments_lexer": "ipython3",
   "version": "3.10.15"
  }
 },
 "nbformat": 4,
 "nbformat_minor": 2
}
