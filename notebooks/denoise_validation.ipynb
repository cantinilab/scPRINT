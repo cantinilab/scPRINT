{
 "cells": [
  {
   "cell_type": "markdown",
   "metadata": {},
   "source": [
    "## Denoise Validation\n"
   ]
  },
  {
   "cell_type": "code",
   "execution_count": 2,
   "metadata": {},
   "outputs": [
    {
     "name": "stdout",
     "output_type": "stream",
     "text": [
      "💡 connected lamindb: jkobject/scprint\n"
     ]
    },
    {
     "name": "stderr",
     "output_type": "stream",
     "text": [
      "/home/ml4ig1/miniconda3/envs/scprint/lib/python3.10/site-packages/umap/__init__.py:9: ImportWarning: Tensorflow not installed; ParametricUMAP will be unavailable\n",
      "  warn(\n",
      "/home/ml4ig1/miniconda3/envs/scprint/lib/python3.10/site-packages/chex/_src/pytypes.py:53: DeprecationWarning: jax.core.Shape is deprecated. Use Shape = Sequence[int | Any].\n",
      "  Shape = jax.core.Shape\n",
      "/home/ml4ig1/miniconda3/envs/scprint/lib/python3.10/site-packages/chex/_src/pytypes.py:54: DeprecationWarning: jax.random.KeyArray is deprecated. Use jax.Array for annotations, and jax.dtypes.issubdtype(arr.dtype, jax.dtypes.prng_key) for runtime detection of typed prng keys (i.e. keys created with jax.random.key).\n",
      "For more information, see https://jax.readthedocs.io/en/latest/jep/9263-typed-keys.html\n",
      "  PRNGKey = jax.random.KeyArray\n",
      "/home/ml4ig1/miniconda3/envs/scprint/lib/python3.10/site-packages/scib_metrics/_types.py:9: DeprecationWarning: jax.random.KeyArray is deprecated. Use jax.Array for annotations, and jax.dtypes.issubdtype(arr.dtype, jax.dtypes.prng_key) for runtime detection of typed prng keys (i.e. keys created with jax.random.key).\n",
      "For more information, see https://jax.readthedocs.io/en/latest/jep/9263-typed-keys.html\n",
      "  IntOrKey = Union[int, jax.random.KeyArray]\n",
      "/home/ml4ig1/miniconda3/envs/scprint/lib/python3.10/site-packages/scib_metrics/utils/_utils.py:40: DeprecationWarning: jax.random.KeyArray is deprecated. Use jax.Array for annotations, and jax.dtypes.issubdtype(arr.dtype, jax.dtypes.prng_key) for runtime detection of typed prng keys (i.e. keys created with jax.random.key).\n",
      "For more information, see https://jax.readthedocs.io/en/latest/jep/9263-typed-keys.html\n",
      "  def validate_seed(seed: IntOrKey) -> jax.random.KeyArray:\n",
      "/home/ml4ig1/miniconda3/envs/scprint/lib/python3.10/site-packages/scib_metrics/utils/_kmeans.py:21: DeprecationWarning: jax.random.KeyArray is deprecated. Use jax.Array for annotations, and jax.dtypes.issubdtype(arr.dtype, jax.dtypes.prng_key) for runtime detection of typed prng keys (i.e. keys created with jax.random.key).\n",
      "For more information, see https://jax.readthedocs.io/en/latest/jep/9263-typed-keys.html\n",
      "  def _initialize_random(X: jnp.ndarray, n_clusters: int, key: jax.random.KeyArray) -> jnp.ndarray:\n",
      "/home/ml4ig1/miniconda3/envs/scprint/lib/python3.10/site-packages/scib_metrics/utils/_kmeans.py:31: DeprecationWarning: jax.random.KeyArray is deprecated. Use jax.Array for annotations, and jax.dtypes.issubdtype(arr.dtype, jax.dtypes.prng_key) for runtime detection of typed prng keys (i.e. keys created with jax.random.key).\n",
      "For more information, see https://jax.readthedocs.io/en/latest/jep/9263-typed-keys.html\n",
      "  def _initialize_plus_plus(X: jnp.ndarray, n_clusters: int, key: jax.random.KeyArray) -> jnp.ndarray:\n"
     ]
    }
   ],
   "source": [
    "import scanpy as sc\n",
    "from scprint import scPrint\n",
    "from scdataloader import Preprocessor\n",
    "\n",
    "import numpy as np\n",
    "import anndata as ad\n",
    "\n",
    "from scprint.tasks import Denoiser, withknn\n",
    "from scdataloader.utils import downsample_profile\n",
    "from scipy.stats import spearmanr\n",
    "\n",
    "%load_ext autoreload\n",
    "%autoreload 2\n",
    "\n",
    "import torch\n",
    "torch.set_float32_matmul_precision('medium')"
   ]
  },
  {
   "cell_type": "code",
   "execution_count": 3,
   "metadata": {},
   "outputs": [
    {
     "name": "stdout",
     "output_type": "stream",
     "text": [
      "RuntimeError caught: scPrint is not attached to a `Trainer`.\n",
      "\n"
     ]
    }
   ],
   "source": [
    "# model = scPrint.load_from_checkpoint('../../data/tensorboard/scprint_test/urxxwu28/checkpoints/epoch=0-step=20000.ckpt') #chocolate-surf-8\n",
    "# '../../data/main/gene_embeddings.parquet')\n",
    "model = scPrint.load_from_checkpoint(\n",
    "    '../data/temp/o2uniqsx/epoch=18-step=133000.ckpt', precpt_gene_emb=None)\n",
    "# ../../data/temp/epoch=4-step=12500.ckpt latest model maestro (fortuitous laugther)\n",
    "# ../../data/logs/scprint_test/f4vao230/checkpoints/epoch=10-step=27500.ckpt looked good as a training run (vermlillion noodle)\n",
    "# d1792z9k/epoch=3-step=10000.ckpt\n",
    "# '../../data/temp/d1792z9k/epoch=3-step=10000.ckpt'\n",
    "# '../../data/temp/6q3dzi3x/epoch=3-step=10000.ckpt'\n",
    "# '../../data/temp/grsachbg/epoch=2-step=15000.ckpt'\n",
    "# ../../data/temp/za9mg1w3/epoch=7-step=40000.ckpt\n",
    "# post debug\n",
    "# \"../lightning_logs/version_14/checkpoints/epoch=1-step=5000.ckpt\""
   ]
  },
  {
   "cell_type": "code",
   "execution_count": null,
   "metadata": {},
   "outputs": [],
   "source": [
    "#'/pasteur/appa/scratch/jkalfon/scprint/.lamindb/R4ZHoQegxXdSFNFY5LGe.h5ad', '/pasteur/appa/scratch/jkalfon/scprint/.lamindb/SHV11AEetZOms4Wh7Ehb.h5ad', '/pasteur/appa/scratch/jkalfon/scprint/.lamindb/V6DPJx8rP3wWRQ43LMHb.h5ad', '/pasteur/appa/scratch/jkalfon/scprint/.lamindb/Gz5G2ETTEuuRDgwm7brA.h5ad', '/pasteur/appa/scratch/jkalfon/scprint/.lamindb/YyBdEsN89p2aF4xJY1CW.h5ad', '/pasteur/appa/scratch/jkalfon/scprint/.lamindb/SO5yBTUDBgkAmz0QbG8K.h5ad', '/pasteur/appa/scratch/jkalfon/scprint/.lamindb/r4iCehg3Tw5IbCLiCIbl.h5ad', '/pasteur/appa/scratch/jkalfon/scprint/.lamindb/SqvXr3i3PGXM8toXzUf9.h5ad', '/pasteur/appa/scratch/jkalfon/scprint/.lamindb/REIyQZE6OMZm1S3W2Dxi.h5ad', '/pasteur/appa/scratch/jkalfon/scprint/.lamindb/rYZ7gs0E0cqPOLONC8ia.h5ad', '/pasteur/appa/scratch/jkalfon/scprint/.lamindb/FcwMDDbAQPNYIjcYNxoc.h5ad', '/pasteur/appa/scratch/jkalfon/scprint/.lamindb/fvU5BAMJrm7vrgDmZM0z.h5ad', '/pasteur/appa/scratch/jkalfon/scprint/.lamindb/gNNpgpo6gATjuxTE7CCp.h5ad'"
   ]
  },
  {
   "cell_type": "code",
   "execution_count": 4,
   "metadata": {},
   "outputs": [
    {
     "data": {
      "text/plain": [
       "AnnData object with n_obs × n_vars = 12590 × 70116\n",
       "    obs: 'hash_label', 'hash_cluster', 'n_genes', 'hashed', 'group', 'treatment', 'n_genes_by_counts', 'total_counts', 'total_counts_mt', 'pct_counts_mt', 'pct_counts_hb', 'batch', 'S_score', 'G2M_score', 'phase', 'leiden', 'lineage', 'type', 'cds', 'donor_region', 'dpt_pseudotime', 'tissue_ontology_term_id', 'assay_ontology_term_id', 'disease_ontology_term_id', 'cell_type_ontology_term_id', 'sex_ontology_term_id', 'development_stage_ontology_term_id', 'is_primary_data', 'organism_ontology_term_id', 'donor_id', 'self_reported_ethnicity_ontology_term_id', 'suspension_type', 'BMI', 'cell_type', 'assay', 'disease', 'organism', 'sex', 'tissue', 'self_reported_ethnicity', 'development_stage', 'nnz', 'log1p_n_genes_by_counts', 'log1p_total_counts', 'pct_counts_in_top_20_genes', 'log1p_total_counts_mt', 'total_counts_ribo', 'log1p_total_counts_ribo', 'pct_counts_ribo', 'total_counts_hb', 'log1p_total_counts_hb', 'outlier', 'mt_outlier', 'cell_culture'\n",
       "    var: 'highly_variable', 'means', 'dispersions', 'dispersions_norm', 'mean', 'std', 's_phase', 'g2m_phase', 'feature_types', 'genome', 'mt', 'Donor_2-n_cells', 'Donor_1-n_cells', 'Donor_3-n_cells', 'Donor_2-n_cells_by_counts', 'Donor_1-n_cells_by_counts', 'Donor_3-n_cells_by_counts', 'Donor_2-mean_counts', 'Donor_1-mean_counts', 'Donor_3-mean_counts', 'Donor_2-pct_dropout_by_counts', 'Donor_1-pct_dropout_by_counts', 'Donor_3-pct_dropout_by_counts', 'Donor_2-total_counts', 'Donor_1-total_counts', 'Donor_3-total_counts', 'feature_is_filtered', 'feature_name', 'feature_reference', 'feature_biotype', 'uid', 'symbol', 'ncbi_gene_ids', 'biotype', 'description', 'synonyms', 'organism_id', 'public_source_id', 'created_by_id', 'ribo', 'hb', 'organism', 'n_cells_by_counts', 'mean_counts', 'log1p_mean_counts', 'pct_dropout_by_counts', 'total_counts', 'log1p_total_counts'\n",
       "    uns: 'unseen_genes'\n",
       "    obsm: 'X_pca', 'X_pca_harmony', 'X_umap'\n",
       "    layers: 'clean', 'true'\n",
       "    obsp: 'connectivities', 'distances'"
      ]
     },
     "execution_count": 4,
     "metadata": {},
     "output_type": "execute_result"
    }
   ],
   "source": [
    "adata = sc.read_h5ad('/home/ml4ig1/scprint/.lamindb/R4ZHoQegxXdSFNFY5LGe.h5ad')\n",
    "adata.layers['true'] = adata.X.copy()\n",
    "adata"
   ]
  },
  {
   "cell_type": "code",
   "execution_count": null,
   "metadata": {},
   "outputs": [],
   "source": [
    "adata.obs.cell_type.value_counts()"
   ]
  },
  {
   "cell_type": "code",
   "execution_count": 15,
   "metadata": {},
   "outputs": [
    {
     "name": "stderr",
     "output_type": "stream",
     "text": [
      "Using 16bit Automatic Mixed Precision (AMP)\n",
      "GPU available: True (cuda), used: True\n",
      "TPU available: False, using: 0 TPU cores\n",
      "IPU available: False, using: 0 IPUs\n",
      "HPU available: False, using: 0 HPUs\n"
     ]
    },
    {
     "name": "stdout",
     "output_type": "stream",
     "text": [
      "4000\n"
     ]
    },
    {
     "name": "stderr",
     "output_type": "stream",
     "text": [
      "LOCAL_RANK: 0 - CUDA_VISIBLE_DEVICES: [0]\n"
     ]
    },
    {
     "data": {
      "application/vnd.jupyter.widget-view+json": {
       "model_id": "929f3fc83f71410da8bbe91a063b82b3",
       "version_major": 2,
       "version_minor": 0
      },
      "text/plain": [
       "Predicting: 0it [00:00, ?it/s]"
      ]
     },
     "metadata": {},
     "output_type": "display_data"
    },
    {
     "name": "stdout",
     "output_type": "stream",
     "text": [
      "adding on disk\n",
      "AnnData object with n_obs × n_vars = 10000 × 512\n",
      "    obs: 'pred_cell_type_ontology_term_id', 'pred_disease_ontology_term_id', 'pred_assay_ontology_term_id', 'pred_self_reported_ethnicity_ontology_term_id', 'pred_sex_ontology_term_id', 'pred_organism_ontology_term_id', 'conv_pred_cell_type_ontology_term_id', 'conv_pred_disease_ontology_term_id', 'conv_pred_assay_ontology_term_id', 'conv_pred_self_reported_ethnicity_ontology_term_id'\n"
     ]
    },
    {
     "data": {
      "text/plain": [
       "{'reco2noisy': 0.6086730447218587,\n",
       " 'reco2full': 0.7321227482160159,\n",
       " 'noisy2full': 0.395209734197323}"
      ]
     },
     "execution_count": 15,
     "metadata": {},
     "output_type": "execute_result"
    }
   ],
   "source": [
    "denoise = Denoiser(\n",
    "    model,\n",
    "    batch_size=40,\n",
    "    max_len=4000,\n",
    "    plot_corr_size=10_000,\n",
    "    doplot=False,\n",
    "    predict_depth_mult=10,\n",
    "    downsample = 0.7,\n",
    "    how=\"most var\"\n",
    ")\n",
    "metrics, idx, genes, expr = denoise(adata)\n",
    "metrics"
   ]
  },
  {
   "cell_type": "code",
   "execution_count": 13,
   "metadata": {},
   "outputs": [
    {
     "name": "stderr",
     "output_type": "stream",
     "text": [
      "Using 16bit Automatic Mixed Precision (AMP)\n",
      "GPU available: True (cuda), used: True\n",
      "TPU available: False, using: 0 TPU cores\n",
      "IPU available: False, using: 0 IPUs\n",
      "HPU available: False, using: 0 HPUs\n",
      "LOCAL_RANK: 0 - CUDA_VISIBLE_DEVICES: [0]\n"
     ]
    },
    {
     "data": {
      "application/vnd.jupyter.widget-view+json": {
       "model_id": "53e70cb6f34e49eb99e978b7ded04254",
       "version_major": 2,
       "version_minor": 0
      },
      "text/plain": [
       "Predicting: 0it [00:00, ?it/s]"
      ]
     },
     "metadata": {},
     "output_type": "display_data"
    },
    {
     "name": "stdout",
     "output_type": "stream",
     "text": [
      "adding on disk\n",
      "AnnData object with n_obs × n_vars = 1000 × 512\n",
      "    obs: 'pred_cell_type_ontology_term_id', 'pred_disease_ontology_term_id', 'pred_assay_ontology_term_id', 'pred_self_reported_ethnicity_ontology_term_id', 'pred_sex_ontology_term_id', 'pred_organism_ontology_term_id', 'conv_pred_cell_type_ontology_term_id', 'conv_pred_disease_ontology_term_id', 'conv_pred_assay_ontology_term_id', 'conv_pred_self_reported_ethnicity_ontology_term_id'\n"
     ]
    },
    {
     "data": {
      "text/plain": [
       "{'reco2noisy': 0.24730279116258655,\n",
       " 'reco2full': 0.6254299038367842,\n",
       " 'noisy2full': 0.30500453424991303}"
      ]
     },
     "execution_count": 13,
     "metadata": {},
     "output_type": "execute_result"
    }
   ],
   "source": [
    "denoise = Denoiser(\n",
    "    model,\n",
    "    batch_size=40,\n",
    "    max_len=2200,\n",
    "    plot_corr_size=1_000,\n",
    "    doplot=False,\n",
    "    predict_depth_mult=10,\n",
    "    downsample = 0.7,\n",
    "    how=\"random expr\"\n",
    ")\n",
    "metrics, idx, genes, expr = denoise(adata)\n",
    "metrics"
   ]
  },
  {
   "cell_type": "code",
   "execution_count": 16,
   "metadata": {},
   "outputs": [],
   "source": [
    "from anndata import AnnData\n",
    "subadata = AnnData(X=expr.cpu().numpy(), obs=adata.obs.iloc[idx], var=adata.var.loc[genes])"
   ]
  },
  {
   "cell_type": "code",
   "execution_count": 17,
   "metadata": {},
   "outputs": [
    {
     "name": "stdout",
     "output_type": "stream",
     "text": [
      "Performing kNN-smoothing v2.1 with k=20, d=10, and dither=0.030...\n",
      "\n",
      "Step 1/5: Smooth using k=2\n",
      "\tPCA took 0.5 s.\n",
      "\tThe fraction of variance explained by the top 10 PCs is 57.8 %.\n",
      "\tCalculating pair-wise distance matrix took 1.5 s.\n",
      "\tCalculating the smoothed expression matrix took 6.2 s.\n",
      "Step 2/5: Smooth using k=4\n",
      "\tPCA took 0.3 s.\n",
      "\tThe fraction of variance explained by the top 10 PCs is 67.7 %.\n",
      "\tCalculating pair-wise distance matrix took 1.2 s.\n",
      "\tCalculating the smoothed expression matrix took 6.6 s.\n",
      "Step 3/5: Smooth using k=8\n",
      "\tPCA took 0.3 s.\n",
      "\tThe fraction of variance explained by the top 10 PCs is 76.3 %.\n",
      "\tCalculating pair-wise distance matrix took 1.4 s.\n",
      "\tCalculating the smoothed expression matrix took 6.4 s.\n",
      "Step 4/5: Smooth using k=16\n",
      "\tPCA took 0.4 s.\n",
      "\tThe fraction of variance explained by the top 10 PCs is 83.1 %.\n",
      "\tCalculating pair-wise distance matrix took 1.5 s.\n",
      "\tCalculating the smoothed expression matrix took 6.7 s.\n",
      "Step 5/5: Smooth using k=20\n",
      "\tPCA took 0.3 s.\n",
      "\tThe fraction of variance explained by the top 10 PCs is 88.0 %.\n",
      "\tCalculating pair-wise distance matrix took 1.5 s.\n",
      "\tCalculating the smoothed expression matrix took 6.5 s.\n",
      "kNN-smoothing finished in 42.7 s.\n"
     ]
    }
   ],
   "source": [
    "nadata = withknn(subadata, seed=42, k=20)"
   ]
  },
  {
   "cell_type": "code",
   "execution_count": 18,
   "metadata": {},
   "outputs": [
    {
     "data": {
      "text/plain": [
       "{'reco2noisy': 0.32583052353787945,\n",
       " 'reco2full': 0.7416397216795672,\n",
       " 'noisy2full': 0.395209734197323}"
      ]
     },
     "execution_count": 18,
     "metadata": {},
     "output_type": "execute_result"
    }
   ],
   "source": [
    "reco = nadata.layers['denoised']\n",
    "true = adata.X[idx][:, adata.var.index.isin(genes)].toarray()\n",
    "noisy = np.loadtxt(\"collator_output.txt\")\n",
    "corr_coef, p_value = spearmanr(\n",
    "    np.vstack(\n",
    "        [reco[true != 0], noisy[true != 0], true[true != 0]]).T\n",
    ")\n",
    "{\n",
    "    \"reco2noisy\": corr_coef[0, 1],\n",
    "    \"reco2full\": corr_coef[0, 2],\n",
    "    \"noisy2full\": corr_coef[1, 2],\n",
    "}"
   ]
  },
  {
   "cell_type": "code",
   "execution_count": 8,
   "metadata": {},
   "outputs": [],
   "source": [
    "genes = torch.load('../../scPRINT/data/temp/vbd8bavn/epoch=17-step=90000.ckpt', map_location=torch.device('cpu'))['hyper_parameters']['genes']\n",
    "sc.pp.highly_variable_genes(\n",
    "    adata, flavor=\"seurat_v3\", n_top_genes=4000, span=0.99)"
   ]
  },
  {
   "cell_type": "code",
   "execution_count": 22,
   "metadata": {},
   "outputs": [],
   "source": [
    "random_indices = np.random.choice(\n",
    "    adata.shape[0], size=30, replace=False\n",
    ")\n",
    "subadata = adata[random_indices, adata.var.index.isin(genes) & adata.var.highly_variable].copy()\n",
    "subadata.X = downsample_profile(torch.Tensor(subadata.X.toarray()), 0.7)\n"
   ]
  },
  {
   "cell_type": "code",
   "execution_count": 23,
   "metadata": {},
   "outputs": [
    {
     "name": "stderr",
     "output_type": "stream",
     "text": [
      "/home/ml4ig1/.local/lib/python3.10/site-packages/magic/magic.py:650: DeprecationWarning: Call to deprecated method task. (Use TaskLogger.log_task instead) -- Deprecated since version 1.1.0.\n",
      "  with _logger.task(\"MAGIC\"):\n"
     ]
    },
    {
     "name": "stdout",
     "output_type": "stream",
     "text": [
      "Calculating MAGIC...\n"
     ]
    },
    {
     "name": "stderr",
     "output_type": "stream",
     "text": [
      "/home/ml4ig1/.local/lib/python3.10/site-packages/magic/magic.py:381: DeprecationWarning: Call to deprecated method info. (Use TaskLogger.log_info instead) -- Deprecated since version 1.1.0.\n",
      "  _logger.info(\n"
     ]
    },
    {
     "name": "stdout",
     "output_type": "stream",
     "text": [
      "  Running MAGIC on 30 cells and 3242 genes.\n"
     ]
    },
    {
     "name": "stderr",
     "output_type": "stream",
     "text": [
      "/home/ml4ig1/.local/lib/python3.10/site-packages/magic/magic.py:436: DeprecationWarning: Call to deprecated method task. (Use TaskLogger.log_task instead) -- Deprecated since version 1.1.0.\n",
      "  with _logger.task(\"graph and diffusion operator\"):\n"
     ]
    },
    {
     "name": "stdout",
     "output_type": "stream",
     "text": [
      "  Calculating graph and diffusion operator...\n"
     ]
    },
    {
     "name": "stderr",
     "output_type": "stream",
     "text": [
      "/home/ml4ig1/.local/lib/python3.10/site-packages/graphtools/base.py:165: RuntimeWarning: Cannot perform PCA to 100 dimensions on data with min(n_samples, n_features) = 30\n",
      "  warnings.warn(\n"
     ]
    },
    {
     "name": "stdout",
     "output_type": "stream",
     "text": [
      "    Calculating KNN search...\n",
      "    Calculated KNN search in 0.03 seconds.\n",
      "    Calculating affinities...\n",
      "    Calculated affinities in 0.30 seconds.\n",
      "  Calculated graph and diffusion operator in 0.35 seconds.\n"
     ]
    },
    {
     "name": "stderr",
     "output_type": "stream",
     "text": [
      "/home/ml4ig1/.local/lib/python3.10/site-packages/magic/magic.py:748: DeprecationWarning: Call to deprecated method task. (Use TaskLogger.log_task instead) -- Deprecated since version 1.1.0.\n",
      "  with _logger.task(\"imputation\"):\n"
     ]
    },
    {
     "name": "stdout",
     "output_type": "stream",
     "text": [
      "  Calculating imputation...\n",
      "Calculated MAGIC in 0.38 seconds.\n"
     ]
    }
   ],
   "source": [
    "denoised_adata = sc.external.pp.magic(subadata.copy(), copy=True, n_jobs=10, solver='approximate', verbose=True)"
   ]
  },
  {
   "cell_type": "code",
   "execution_count": 24,
   "metadata": {},
   "outputs": [
    {
     "data": {
      "text/plain": [
       "{'reco2noisy': 0.3418629568971068,\n",
       " 'reco2full': 0.6862156830852899,\n",
       " 'noisy2full': 0.3920137181504175}"
      ]
     },
     "execution_count": 24,
     "metadata": {},
     "output_type": "execute_result"
    }
   ],
   "source": [
    "reco = denoised_adata.X\n",
    "true = subadata.layers['true'].toarray()\n",
    "noisy = subadata.X\n",
    "corr_coef, p_value = spearmanr(\n",
    "    np.vstack(\n",
    "        [reco[true != 0], noisy[true != 0], true[true != 0]]).T\n",
    ")\n",
    "{\n",
    "    \"reco2noisy\": corr_coef[0, 1],\n",
    "    \"reco2full\": corr_coef[0, 2],\n",
    "    \"noisy2full\": corr_coef[1, 2],\n",
    "}"
   ]
  },
  {
   "cell_type": "code",
   "execution_count": 10,
   "metadata": {},
   "outputs": [
    {
     "name": "stdout",
     "output_type": "stream",
     "text": [
      "Performing kNN-smoothing v2.1 with k=10, d=10, and dither=0.030...\n",
      "Step 1/4: Smooth using k=2\n",
      "Step 1/4: Smooth using k=2\n",
      "\tPCA took 0.2 s.\n",
      "\tThe fraction of variance explained by the top 10 PCs is 28.9 %.\n",
      "\tCalculating pair-wise distance matrix took 0.1 s.\n",
      "\tCalculating the smoothed expression matrix took 0.4 s.\n",
      "Step 2/4: Smooth using k=4\n",
      "\tPCA took 0.1 s.\n",
      "\tThe fraction of variance explained by the top 10 PCs is 38.3 %.\n",
      "\tCalculating pair-wise distance matrix took 0.1 s.\n",
      "\tCalculating the smoothed expression matrix took 0.4 s.\n",
      "Step 3/4: Smooth using k=8\n",
      "\tPCA took 0.1 s.\n",
      "\tThe fraction of variance explained by the top 10 PCs is 50.4 %.\n",
      "\tCalculating pair-wise distance matrix took 0.1 s.\n",
      "\tCalculating the smoothed expression matrix took 0.4 s.\n",
      "Step 4/4: Smooth using k=10\n",
      "\tPCA took 0.1 s.\n",
      "\tThe fraction of variance explained by the top 10 PCs is 63.4 %.\n",
      "\tCalculating pair-wise distance matrix took 0.1 s.\n",
      "\tCalculating the smoothed expression matrix took 0.3 s.\n",
      "kNN-smoothing finished in 2.7 s.\n"
     ]
    }
   ],
   "source": [
    "nadata = withknn(adata[random_indices, adata.var.index.isin(genes) & adata.var.highly_variable], seed=42, k=10)"
   ]
  },
  {
   "cell_type": "code",
   "execution_count": 12,
   "metadata": {},
   "outputs": [
    {
     "data": {
      "text/plain": [
       "{'reco2noisy': 0.4186910168705911,\n",
       " 'reco2full': 0.5814697730904094,\n",
       " 'noisy2full': 0.368939772338998}"
      ]
     },
     "execution_count": 12,
     "metadata": {},
     "output_type": "execute_result"
    }
   ],
   "source": [
    "reco = adata.layers['denoised']#.toarray()\n",
    "true = adata.layers['true'].toarray()\n",
    "noisy = adata.X\n",
    "corr_coef, p_value = spearmanr(\n",
    "    np.vstack(\n",
    "        [reco[true != 0], noisy[true != 0], true[true != 0]]).T\n",
    ")\n",
    "{\n",
    "    \"reco2noisy\": corr_coef[0, 1],\n",
    "    \"reco2full\": corr_coef[0, 2],\n",
    "    \"noisy2full\": corr_coef[1, 2],\n",
    "}"
   ]
  },
  {
   "cell_type": "code",
   "execution_count": 21,
   "metadata": {},
   "outputs": [
    {
     "data": {
      "text/plain": [
       "1730.0648432937512"
      ]
     },
     "execution_count": 21,
     "metadata": {},
     "output_type": "execute_result"
    }
   ],
   "source": [
    "(adata.X!=0).sum(1).mean()"
   ]
  },
  {
   "cell_type": "code",
   "execution_count": 57,
   "metadata": {},
   "outputs": [
    {
     "data": {
      "text/plain": [
       "(147, 2556)"
      ]
     },
     "execution_count": 57,
     "metadata": {},
     "output_type": "execute_result"
    }
   ],
   "source": [
    "subadata[subadata.obs.cell_type==\"microglial cell\", subadata.var.index.isin(genes)].shape"
   ]
  },
  {
   "cell_type": "code",
   "execution_count": 52,
   "metadata": {},
   "outputs": [
    {
     "name": "stdout",
     "output_type": "stream",
     "text": [
      "Performing kNN-smoothing v2.1 with k=10, d=10, and dither=0.030...\n",
      "Step 1/4: Smooth using k=2\n"
     ]
    },
    {
     "ename": "ValueError",
     "evalue": "dimension mismatch",
     "output_type": "error",
     "traceback": [
      "\u001b[0;31m---------------------------------------------------------------------------\u001b[0m",
      "\u001b[0;31mValueError\u001b[0m                                Traceback (most recent call last)",
      "Cell \u001b[0;32mIn[52], line 1\u001b[0m\n\u001b[0;32m----> 1\u001b[0m nadata \u001b[38;5;241m=\u001b[39m \u001b[43mwithknn\u001b[49m\u001b[43m(\u001b[49m\u001b[43madata\u001b[49m\u001b[43m[\u001b[49m\u001b[43madata\u001b[49m\u001b[38;5;241;43m.\u001b[39;49m\u001b[43mobs\u001b[49m\u001b[38;5;241;43m.\u001b[39;49m\u001b[43mcell_type\u001b[49m\u001b[38;5;241;43m==\u001b[39;49m\u001b[38;5;124;43m\"\u001b[39;49m\u001b[38;5;124;43mmicroglial cell\u001b[39;49m\u001b[38;5;124;43m\"\u001b[39;49m\u001b[43m,\u001b[49m\u001b[43m \u001b[49m\u001b[43madata\u001b[49m\u001b[38;5;241;43m.\u001b[39;49m\u001b[43mvar\u001b[49m\u001b[38;5;241;43m.\u001b[39;49m\u001b[43mindex\u001b[49m\u001b[38;5;241;43m.\u001b[39;49m\u001b[43misin\u001b[49m\u001b[43m(\u001b[49m\u001b[43mgenes\u001b[49m\u001b[43m)\u001b[49m\u001b[43m]\u001b[49m\u001b[43m,\u001b[49m\u001b[43m \u001b[49m\u001b[43mseed\u001b[49m\u001b[38;5;241;43m=\u001b[39;49m\u001b[38;5;241;43m42\u001b[39;49m\u001b[43m,\u001b[49m\u001b[43m \u001b[49m\u001b[43mk\u001b[49m\u001b[38;5;241;43m=\u001b[39;49m\u001b[38;5;241;43m10\u001b[39;49m\u001b[43m)\u001b[49m\n",
      "File \u001b[0;32m~/Documents code/scPRINT/scprint/tasks/denoise.py:282\u001b[0m, in \u001b[0;36mwithknn\u001b[0;34m(adata, k, **kwargs)\u001b[0m\n\u001b[1;32m    281\u001b[0m \u001b[38;5;28;01mdef\u001b[39;00m \u001b[38;5;21mwithknn\u001b[39m(adata, k\u001b[38;5;241m=\u001b[39m\u001b[38;5;241m10\u001b[39m, \u001b[38;5;241m*\u001b[39m\u001b[38;5;241m*\u001b[39mkwargs):\n\u001b[0;32m--> 282\u001b[0m     adata\u001b[38;5;241m.\u001b[39mlayers[\u001b[38;5;124m'\u001b[39m\u001b[38;5;124mdenoised\u001b[39m\u001b[38;5;124m'\u001b[39m] \u001b[38;5;241m=\u001b[39m \u001b[43mknn_smooth\u001b[49m\u001b[38;5;241;43m.\u001b[39;49m\u001b[43mknn_smoothing\u001b[49m\u001b[43m(\u001b[49m\n\u001b[1;32m    283\u001b[0m \u001b[43m        \u001b[49m\u001b[43madata\u001b[49m\u001b[38;5;241;43m.\u001b[39;49m\u001b[43mX\u001b[49m\u001b[38;5;241;43m.\u001b[39;49m\u001b[43mtranspose\u001b[49m\u001b[43m(\u001b[49m\u001b[43m)\u001b[49m\u001b[43m,\u001b[49m\u001b[43m \u001b[49m\u001b[43mk\u001b[49m\u001b[38;5;241;43m=\u001b[39;49m\u001b[43mk\u001b[49m\u001b[43m,\u001b[49m\u001b[43m \u001b[49m\u001b[38;5;241;43m*\u001b[39;49m\u001b[38;5;241;43m*\u001b[39;49m\u001b[43mkwargs\u001b[49m\u001b[43m)\u001b[49m\u001b[38;5;241m.\u001b[39mtranspose()\n\u001b[1;32m    284\u001b[0m     \u001b[38;5;28;01mreturn\u001b[39;00m adata\n",
      "File \u001b[0;32m~/Documents code/scPRINT/scprint/tasks/knn_smooth.py:207\u001b[0m, in \u001b[0;36mknn_smoothing\u001b[0;34m(X, k, d, dither, seed)\u001b[0m\n\u001b[1;32m    204\u001b[0m \u001b[38;5;28mprint\u001b[39m(\u001b[38;5;124m'\u001b[39m\u001b[38;5;124mStep \u001b[39m\u001b[38;5;132;01m%d\u001b[39;00m\u001b[38;5;124m/\u001b[39m\u001b[38;5;132;01m%d\u001b[39;00m\u001b[38;5;124m: Smooth using k=\u001b[39m\u001b[38;5;132;01m%d\u001b[39;00m\u001b[38;5;124m'\u001b[39m \u001b[38;5;241m%\u001b[39m (t, num_steps, k_step))\n\u001b[1;32m    205\u001b[0m sys\u001b[38;5;241m.\u001b[39mstdout\u001b[38;5;241m.\u001b[39mflush()\n\u001b[0;32m--> 207\u001b[0m Y \u001b[38;5;241m=\u001b[39m \u001b[43m_calculate_pc_scores\u001b[49m\u001b[43m(\u001b[49m\u001b[43mS\u001b[49m\u001b[43m,\u001b[49m\u001b[43m \u001b[49m\u001b[43md\u001b[49m\u001b[43m,\u001b[49m\u001b[43m \u001b[49m\u001b[43mseed\u001b[49m\u001b[38;5;241;43m=\u001b[39;49m\u001b[43mseed\u001b[49m\u001b[43m)\u001b[49m\n\u001b[1;32m    208\u001b[0m \u001b[38;5;28;01mif\u001b[39;00m dither \u001b[38;5;241m>\u001b[39m \u001b[38;5;241m0\u001b[39m:\n\u001b[1;32m    209\u001b[0m     \u001b[38;5;28;01mfor\u001b[39;00m l \u001b[38;5;129;01min\u001b[39;00m \u001b[38;5;28mrange\u001b[39m(d):\n",
      "File \u001b[0;32m~/Documents code/scPRINT/scprint/tasks/knn_smooth.py:100\u001b[0m, in \u001b[0;36m_calculate_pc_scores\u001b[0;34m(matrix, d, seed)\u001b[0m\n\u001b[1;32m     71\u001b[0m \u001b[38;5;250m\u001b[39m\u001b[38;5;124;03m\"\"\"Projects the cells onto their first d principal components.\u001b[39;00m\n\u001b[1;32m     72\u001b[0m \n\u001b[1;32m     73\u001b[0m \u001b[38;5;124;03mInput\u001b[39;00m\n\u001b[0;32m   (...)\u001b[0m\n\u001b[1;32m     97\u001b[0m \u001b[38;5;124;03mcomponents. (We assume that d << min(p, n-1).)\u001b[39;00m\n\u001b[1;32m     98\u001b[0m \u001b[38;5;124;03m\"\"\"\u001b[39;00m\n\u001b[1;32m     99\u001b[0m \u001b[38;5;66;03m# median-normalize\u001b[39;00m\n\u001b[0;32m--> 100\u001b[0m tmatrix \u001b[38;5;241m=\u001b[39m \u001b[43m_median_normalize\u001b[49m\u001b[43m(\u001b[49m\u001b[43mmatrix\u001b[49m\u001b[43m)\u001b[49m\n\u001b[1;32m    101\u001b[0m \u001b[38;5;66;03m# Freeman-Tukey transform\u001b[39;00m\n\u001b[1;32m    102\u001b[0m tmatrix \u001b[38;5;241m=\u001b[39m _freeman_tukey_transform(tmatrix)\n",
      "File \u001b[0;32m~/Documents code/scPRINT/scprint/tasks/knn_smooth.py:42\u001b[0m, in \u001b[0;36m_median_normalize\u001b[0;34m(X)\u001b[0m\n\u001b[1;32m     21\u001b[0m \u001b[38;5;250m\u001b[39m\u001b[38;5;124;03m\"\"\"Performs median-normalization. \u001b[39;00m\n\u001b[1;32m     22\u001b[0m \n\u001b[1;32m     23\u001b[0m \u001b[38;5;124;03mParameters\u001b[39;00m\n\u001b[0;32m   (...)\u001b[0m\n\u001b[1;32m     39\u001b[0m \u001b[38;5;124;03mGrün et al., Nature Methods 2014).\u001b[39;00m\n\u001b[1;32m     40\u001b[0m \u001b[38;5;124;03m\"\"\"\u001b[39;00m\n\u001b[1;32m     41\u001b[0m num_transcripts \u001b[38;5;241m=\u001b[39m np\u001b[38;5;241m.\u001b[39msum(X, axis\u001b[38;5;241m=\u001b[39m\u001b[38;5;241m0\u001b[39m)\n\u001b[0;32m---> 42\u001b[0m X_norm \u001b[38;5;241m=\u001b[39m \u001b[43m(\u001b[49m\u001b[43mnp\u001b[49m\u001b[38;5;241;43m.\u001b[39;49m\u001b[43mmedian\u001b[49m\u001b[43m(\u001b[49m\u001b[43mnum_transcripts\u001b[49m\u001b[43m)\u001b[49m\u001b[43m \u001b[49m\u001b[38;5;241;43m/\u001b[39;49m\u001b[43m \u001b[49m\u001b[43mnum_transcripts\u001b[49m\u001b[43m)\u001b[49m\u001b[43m \u001b[49m\u001b[38;5;241;43m*\u001b[39;49m\u001b[43m \u001b[49m\u001b[43mX\u001b[49m\n\u001b[1;32m     43\u001b[0m \u001b[38;5;28;01mreturn\u001b[39;00m X_norm\n",
      "File \u001b[0;32m~/miniconda3/envs/scprint/lib/python3.10/site-packages/scipy/sparse/_matrix.py:51\u001b[0m, in \u001b[0;36mspmatrix.__rmul__\u001b[0;34m(self, other)\u001b[0m\n\u001b[1;32m     50\u001b[0m \u001b[38;5;28;01mdef\u001b[39;00m \u001b[38;5;21m__rmul__\u001b[39m(\u001b[38;5;28mself\u001b[39m, other):\n\u001b[0;32m---> 51\u001b[0m     \u001b[38;5;28;01mreturn\u001b[39;00m \u001b[38;5;28;43mself\u001b[39;49m\u001b[38;5;241;43m.\u001b[39;49m\u001b[43m_rmul_dispatch\u001b[49m\u001b[43m(\u001b[49m\u001b[43mother\u001b[49m\u001b[43m)\u001b[49m\n",
      "File \u001b[0;32m~/miniconda3/envs/scprint/lib/python3.10/site-packages/scipy/sparse/_base.py:608\u001b[0m, in \u001b[0;36m_spbase._rmul_dispatch\u001b[0;34m(self, other)\u001b[0m\n\u001b[1;32m    606\u001b[0m \u001b[38;5;28;01mexcept\u001b[39;00m \u001b[38;5;167;01mAttributeError\u001b[39;00m:\n\u001b[1;32m    607\u001b[0m     tr \u001b[38;5;241m=\u001b[39m np\u001b[38;5;241m.\u001b[39masarray(other)\u001b[38;5;241m.\u001b[39mtranspose()\n\u001b[0;32m--> 608\u001b[0m ret \u001b[38;5;241m=\u001b[39m \u001b[38;5;28;43mself\u001b[39;49m\u001b[38;5;241;43m.\u001b[39;49m\u001b[43mtranspose\u001b[49m\u001b[43m(\u001b[49m\u001b[43m)\u001b[49m\u001b[38;5;241;43m.\u001b[39;49m\u001b[43m_mul_dispatch\u001b[49m\u001b[43m(\u001b[49m\u001b[43mtr\u001b[49m\u001b[43m)\u001b[49m\n\u001b[1;32m    609\u001b[0m \u001b[38;5;28;01mif\u001b[39;00m ret \u001b[38;5;129;01mis\u001b[39;00m \u001b[38;5;28mNotImplemented\u001b[39m:\n\u001b[1;32m    610\u001b[0m     \u001b[38;5;28;01mreturn\u001b[39;00m \u001b[38;5;28mNotImplemented\u001b[39m\n",
      "File \u001b[0;32m~/miniconda3/envs/scprint/lib/python3.10/site-packages/scipy/sparse/_base.py:553\u001b[0m, in \u001b[0;36m_spbase._mul_dispatch\u001b[0;34m(self, other)\u001b[0m\n\u001b[1;32m    550\u001b[0m \u001b[38;5;28;01mif\u001b[39;00m other\u001b[38;5;241m.\u001b[39mndim \u001b[38;5;241m==\u001b[39m \u001b[38;5;241m1\u001b[39m \u001b[38;5;129;01mor\u001b[39;00m other\u001b[38;5;241m.\u001b[39mndim \u001b[38;5;241m==\u001b[39m \u001b[38;5;241m2\u001b[39m \u001b[38;5;129;01mand\u001b[39;00m other\u001b[38;5;241m.\u001b[39mshape[\u001b[38;5;241m1\u001b[39m] \u001b[38;5;241m==\u001b[39m \u001b[38;5;241m1\u001b[39m:\n\u001b[1;32m    551\u001b[0m     \u001b[38;5;66;03m# dense row or column vector\u001b[39;00m\n\u001b[1;32m    552\u001b[0m     \u001b[38;5;28;01mif\u001b[39;00m other\u001b[38;5;241m.\u001b[39mshape \u001b[38;5;241m!=\u001b[39m (N,) \u001b[38;5;129;01mand\u001b[39;00m other\u001b[38;5;241m.\u001b[39mshape \u001b[38;5;241m!=\u001b[39m (N, \u001b[38;5;241m1\u001b[39m):\n\u001b[0;32m--> 553\u001b[0m         \u001b[38;5;28;01mraise\u001b[39;00m \u001b[38;5;167;01mValueError\u001b[39;00m(\u001b[38;5;124m'\u001b[39m\u001b[38;5;124mdimension mismatch\u001b[39m\u001b[38;5;124m'\u001b[39m)\n\u001b[1;32m    555\u001b[0m     result \u001b[38;5;241m=\u001b[39m \u001b[38;5;28mself\u001b[39m\u001b[38;5;241m.\u001b[39m_mul_vector(np\u001b[38;5;241m.\u001b[39mravel(other))\n\u001b[1;32m    557\u001b[0m     \u001b[38;5;28;01mif\u001b[39;00m \u001b[38;5;28misinstance\u001b[39m(other, np\u001b[38;5;241m.\u001b[39mmatrix):\n",
      "\u001b[0;31mValueError\u001b[0m: dimension mismatch"
     ]
    }
   ],
   "source": [
    "nadata = withknn(adata[adata.obs.cell_type==\"microglial cell\", adata.var.index.isin(genes)], seed=42, k=10)"
   ]
  },
  {
   "cell_type": "code",
   "execution_count": null,
   "metadata": {},
   "outputs": [],
   "source": [
    "reco = adata.layers['denoised']#.toarray()\n",
    "true = adata.layers['true'].toarray()\n",
    "noisy = adata.X\n",
    "corr_coef, p_value = spearmanr(\n",
    "    np.vstack(\n",
    "        [reco[true != 0], noisy[true != 0], true[true != 0]]).T\n",
    ")\n",
    "{\n",
    "    \"reco2noisy\": corr_coef[0, 1],\n",
    "    \"reco2full\": corr_coef[0, 2],\n",
    "    \"noisy2full\": corr_coef[1, 2],\n",
    "}"
   ]
  },
  {
   "cell_type": "code",
   "execution_count": 59,
   "metadata": {},
   "outputs": [
    {
     "name": "stderr",
     "output_type": "stream",
     "text": [
      "/home/ml4ig1/.local/lib/python3.10/site-packages/magic/magic.py:650: DeprecationWarning: Call to deprecated method task. (Use TaskLogger.log_task instead) -- Deprecated since version 1.1.0.\n",
      "  with _logger.task(\"MAGIC\"):\n",
      "/home/ml4ig1/.local/lib/python3.10/site-packages/magic/magic.py:381: DeprecationWarning: Call to deprecated method info. (Use TaskLogger.log_info instead) -- Deprecated since version 1.1.0.\n",
      "  _logger.info(\n",
      "/home/ml4ig1/.local/lib/python3.10/site-packages/magic/magic.py:436: DeprecationWarning: Call to deprecated method task. (Use TaskLogger.log_task instead) -- Deprecated since version 1.1.0.\n",
      "  with _logger.task(\"graph and diffusion operator\"):\n",
      "/home/ml4ig1/.local/lib/python3.10/site-packages/graphtools/base.py:165: RuntimeWarning: Cannot perform PCA to 100 dimensions on data with min(n_samples, n_features) = 30\n",
      "  warnings.warn(\n",
      "/home/ml4ig1/.local/lib/python3.10/site-packages/magic/magic.py:381: DeprecationWarning: Call to deprecated method info. (Use TaskLogger.log_info instead) -- Deprecated since version 1.1.0.\n",
      "  _logger.info(\n",
      "/home/ml4ig1/.local/lib/python3.10/site-packages/magic/magic.py:436: DeprecationWarning: Call to deprecated method task. (Use TaskLogger.log_task instead) -- Deprecated since version 1.1.0.\n",
      "  with _logger.task(\"graph and diffusion operator\"):\n",
      "/home/ml4ig1/.local/lib/python3.10/site-packages/graphtools/base.py:165: RuntimeWarning: Cannot perform PCA to 100 dimensions on data with min(n_samples, n_features) = 30\n",
      "  warnings.warn(\n",
      "/home/ml4ig1/.local/lib/python3.10/site-packages/magic/magic.py:748: DeprecationWarning: Call to deprecated method task. (Use TaskLogger.log_task instead) -- Deprecated since version 1.1.0.\n",
      "  with _logger.task(\"imputation\"):\n"
     ]
    }
   ],
   "source": [
    "denoised_adata = sc.external.pp.magic(subadata[subadata.obs.cell_type==\"microglial cell\"][:30], knn=4, n_jobs=20, solver='approximate', copy=True)"
   ]
  },
  {
   "cell_type": "code",
   "execution_count": 61,
   "metadata": {},
   "outputs": [
    {
     "data": {
      "text/plain": [
       "{'reco2noisy': 0.32703778572115927,\n",
       " 'reco2full': 0.5298303075891487,\n",
       " 'noisy2full': 0.37553381324223367}"
      ]
     },
     "execution_count": 61,
     "metadata": {},
     "output_type": "execute_result"
    }
   ],
   "source": [
    "reco = denoised_adata.X\n",
    "true = subadata[subadata.obs.cell_type==\"microglial cell\"].layers['true'][:30].toarray()\n",
    "noisy = subadata[subadata.obs.cell_type==\"microglial cell\"][:30].X\n",
    "corr_coef, p_value = spearmanr(\n",
    "    np.vstack(\n",
    "        [reco[true != 0], noisy[true != 0], true[true != 0]]).T\n",
    ")\n",
    "{\n",
    "    \"reco2noisy\": corr_coef[0, 1],\n",
    "    \"reco2full\": corr_coef[0, 2],\n",
    "    \"noisy2full\": corr_coef[1, 2],\n",
    "}"
   ]
  },
  {
   "cell_type": "code",
   "execution_count": 62,
   "metadata": {},
   "outputs": [
    {
     "name": "stderr",
     "output_type": "stream",
     "text": [
      "Using 16bit Automatic Mixed Precision (AMP)\n",
      "GPU available: True (cuda), used: True\n",
      "TPU available: False, using: 0 TPU cores\n",
      "IPU available: False, using: 0 IPUs\n",
      "HPU available: False, using: 0 HPUs\n"
     ]
    },
    {
     "name": "stdout",
     "output_type": "stream",
     "text": [
      "4000\n"
     ]
    },
    {
     "name": "stderr",
     "output_type": "stream",
     "text": [
      "LOCAL_RANK: 0 - CUDA_VISIBLE_DEVICES: [0]\n"
     ]
    },
    {
     "data": {
      "application/vnd.jupyter.widget-view+json": {
       "model_id": "04326e05a59d425e88d22e459faf03a2",
       "version_major": 2,
       "version_minor": 0
      },
      "text/plain": [
       "Predicting: 0it [00:00, ?it/s]"
      ]
     },
     "metadata": {},
     "output_type": "display_data"
    },
    {
     "data": {
      "text/plain": [
       "{'reco2noisy': 0.723758502431356,\n",
       " 'reco2full': 0.5494338520810675,\n",
       " 'noisy2full': 0.36827173567423155}"
      ]
     },
     "execution_count": 62,
     "metadata": {},
     "output_type": "execute_result"
    }
   ],
   "source": [
    "denoise = Denoiser(\n",
    "    model,\n",
    "    batch_size=40,\n",
    "    max_len=4000,\n",
    "    plot_corr_size=30,\n",
    "    doplot=False,\n",
    "    predict_depth_mult=10,\n",
    "    downsample = 0.7,\n",
    "    how=\"most var\"\n",
    ")\n",
    "metrics, idx, genes, expr = denoise(adata[adata.obs.cell_type==\"microglial cell\"])\n",
    "metrics"
   ]
  }
 ],
 "metadata": {
  "kernelspec": {
   "display_name": "scprint",
   "language": "python",
   "name": "python3"
  },
  "language_info": {
   "codemirror_mode": {
    "name": "ipython",
    "version": 3
   },
   "file_extension": ".py",
   "mimetype": "text/x-python",
   "name": "python",
   "nbconvert_exporter": "python",
   "pygments_lexer": "ipython3",
   "version": "3.10.0"
  }
 },
 "nbformat": 4,
 "nbformat_minor": 2
}
