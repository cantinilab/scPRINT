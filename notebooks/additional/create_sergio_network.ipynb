{
 "cells": [
  {
   "cell_type": "code",
   "execution_count": 1,
   "metadata": {},
   "outputs": [],
   "source": [
    "import numpy as np\n",
    "import pandas as pd\n",
    "import sys\n",
    "\n",
    "loc = \"../../tools/SERGIO/\"\n",
    "sys.path.append(loc+\"SERGIO\")\n",
    "from sergio import sergio"
   ]
  },
  {
   "cell_type": "code",
   "execution_count": 2,
   "metadata": {},
   "outputs": [],
   "source": [
    "sim = sergio(number_genes=1200, number_bins = 9, number_sc = 1000, noise_params = 1, decays=0.8, sampling_state=15, noise_type='dpd')\n",
    "sim.build_graph(input_file_taregts =loc+'data_sets/De-noised_1200G_9T_300cPerT_6_DS3/Interaction_cID_6.txt', input_file_regs=loc+'data_sets/De-noised_1200G_9T_300cPerT_6_DS3/Regs_cID_6.txt', shared_coop_state=2)"
   ]
  },
  {
   "cell_type": "code",
   "execution_count": 3,
   "metadata": {},
   "outputs": [
    {
     "name": "stdout",
     "output_type": "stream",
     "text": [
      "Start simulating new level\n",
      "There are 2 genes to simulate in this layer\n",
      "Done with current level\n",
      "Start simulating new level\n",
      "There are 3 genes to simulate in this layer\n",
      "Done with current level\n",
      "Start simulating new level\n",
      "There are 5 genes to simulate in this layer\n",
      "Done with current level\n",
      "Start simulating new level\n",
      "There are 9 genes to simulate in this layer\n",
      "Done with current level\n",
      "Start simulating new level\n",
      "There are 26 genes to simulate in this layer\n",
      "Done with current level\n",
      "Start simulating new level\n",
      "There are 82 genes to simulate in this layer\n",
      "Done with current level\n",
      "Start simulating new level\n",
      "There are 1073 genes to simulate in this layer\n",
      "Done with current level\n"
     ]
    }
   ],
   "source": [
    "sim.simulate()\n",
    "\n",
    "expr = sim.getExpressions()\n",
    "expr = np.concatenate(expr, axis = 1)"
   ]
  },
  {
   "cell_type": "code",
   "execution_count": 9,
   "metadata": {},
   "outputs": [],
   "source": [
    "np.save(\"expr.npy\", expr)"
   ]
  },
  {
   "cell_type": "code",
   "execution_count": 33,
   "metadata": {},
   "outputs": [],
   "source": [
    "expr = np.load(\"expr.npy\")"
   ]
  },
  {
   "cell_type": "code",
   "execution_count": 20,
   "metadata": {},
   "outputs": [
    {
     "data": {
      "text/plain": [
       "(1200, 9000)"
      ]
     },
     "execution_count": 20,
     "metadata": {},
     "output_type": "execute_result"
    }
   ],
   "source": [
    "expr.shape"
   ]
  },
  {
   "cell_type": "code",
   "execution_count": 34,
   "metadata": {},
   "outputs": [],
   "source": [
    "expr = sim.outlier_effect(expr, outlier_prob=0.05, mean=10, scale=1)"
   ]
  },
  {
   "cell_type": "code",
   "execution_count": 26,
   "metadata": {},
   "outputs": [],
   "source": [
    "expr = np.concatenate(expr, axis = 1)"
   ]
  },
  {
   "cell_type": "code",
   "execution_count": 35,
   "metadata": {},
   "outputs": [],
   "source": [
    "se, expr = sim.lib_size_effect(expr, mean=10, scale=1)"
   ]
  },
  {
   "cell_type": "code",
   "execution_count": 36,
   "metadata": {},
   "outputs": [
    {
     "data": {
      "text/plain": [
       "(9, 1200, 1000)"
      ]
     },
     "execution_count": 36,
     "metadata": {},
     "output_type": "execute_result"
    }
   ],
   "source": [
    "expr.shape"
   ]
  },
  {
   "cell_type": "code",
   "execution_count": 37,
   "metadata": {},
   "outputs": [],
   "source": [
    "binary_ind = sim.dropout_indicator(expr, shape=1000, percentile=0.95)\n",
    "expr = np.multiply(binary_ind, expr)"
   ]
  },
  {
   "cell_type": "code",
   "execution_count": 38,
   "metadata": {},
   "outputs": [
    {
     "data": {
      "text/plain": [
       "(9, 1200, 1000)"
      ]
     },
     "execution_count": 38,
     "metadata": {},
     "output_type": "execute_result"
    }
   ],
   "source": [
    "expr.shape"
   ]
  },
  {
   "cell_type": "code",
   "execution_count": null,
   "metadata": {},
   "outputs": [],
   "source": [
    "expr = sim.convert_to_UMIcounts(expr)"
   ]
  },
  {
   "cell_type": "code",
   "execution_count": null,
   "metadata": {},
   "outputs": [],
   "source": [
    "val = pd.read_csv(loc+'data_sets/De-noised_1200G_9T_300cPerT_6_DS3/Regs_cID_6.txt', sep = '\\t')"
   ]
  },
  {
   "cell_type": "code",
   "execution_count": null,
   "metadata": {},
   "outputs": [],
   "source": [
    "from grnndata import from_anndata_\n",
    "from anndata import AnnData\n",
    "\n",
    "grn = from_anndata(AnnData(X=expr), longform=val, has_weights=False)\n",
    "grn.save_h5ad(loc+'data_sets/De-noised_1200G_9T_300cPerT_6_DS3/GRNAnnData.h5ad')"
   ]
  }
 ],
 "metadata": {
  "kernelspec": {
   "display_name": ".venv",
   "language": "python",
   "name": "python3"
  },
  "language_info": {
   "codemirror_mode": {
    "name": "ipython",
    "version": 3
   },
   "file_extension": ".py",
   "mimetype": "text/x-python",
   "name": "python",
   "nbconvert_exporter": "python",
   "pygments_lexer": "ipython3",
   "version": "3.10.15"
  }
 },
 "nbformat": 4,
 "nbformat_minor": 2
}
