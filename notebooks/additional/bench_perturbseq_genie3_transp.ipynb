{
 "cells": [
  {
   "cell_type": "markdown",
   "id": "6d1334d9",
   "metadata": {
    "papermill": {
     "duration": 0.003158,
     "end_time": "2024-10-29T17:23:55.896220",
     "exception": false,
     "start_time": "2024-10-29T17:23:55.893062",
     "status": "completed"
    },
    "tags": []
   },
   "source": [
    "# GENIE3"
   ]
  },
  {
   "cell_type": "code",
   "execution_count": 1,
   "id": "118146ce",
   "metadata": {
    "execution": {
     "iopub.execute_input": "2024-10-29T17:23:55.901371Z",
     "iopub.status.busy": "2024-10-29T17:23:55.901047Z",
     "iopub.status.idle": "2024-10-29T17:24:20.255897Z",
     "shell.execute_reply": "2024-10-29T17:24:20.255190Z"
    },
    "papermill": {
     "duration": 24.35861,
     "end_time": "2024-10-29T17:24:20.257245",
     "exception": false,
     "start_time": "2024-10-29T17:23:55.898635",
     "status": "completed"
    },
    "tags": []
   },
   "outputs": [
    {
     "name": "stdout",
     "output_type": "stream",
     "text": [
      "\u001b[92m→\u001b[0m connected lamindb: jkobject/scprint\n"
     ]
    }
   ],
   "source": [
    "from scprint import scPrint\n",
    "from scdataloader import Preprocessor\n",
    "\n",
    "from bengrn import BenGRN, get_perturb_gt\n",
    "\n",
    "from bengrn.base import train_classifier\n",
    "\n",
    "from bengrn import compute_genie3\n",
    "from grnndata import utils as grnutils\n",
    "from anndata.utils import make_index_unique\n",
    "import pandas as pd\n",
    "import numpy as np\n",
    "\n",
    "import scanpy as sc\n",
    "\n",
    "%load_ext autoreload\n",
    "%autoreload 2 \n",
    "\n",
    "import torch\n",
    "torch.set_float32_matmul_precision('medium')"
   ]
  },
  {
   "cell_type": "code",
   "execution_count": 2,
   "id": "3ece3365",
   "metadata": {},
   "outputs": [
    {
     "name": "stdout",
     "output_type": "stream",
     "text": [
      "Downloading BH-corrected data...\n"
     ]
    }
   ],
   "source": [
    "adata = get_perturb_gt()\n"
   ]
  },
  {
   "cell_type": "code",
   "execution_count": 0,
   "id": "1b6edf51",
   "metadata": {
    "execution": {
     "iopub.execute_input": "2024-10-29T17:24:20.266107Z",
     "iopub.status.busy": "2024-10-29T17:24:20.264921Z",
     "iopub.status.idle": "2024-10-29T17:24:57.754015Z",
     "shell.execute_reply": "2024-10-29T17:24:57.753381Z"
    },
    "papermill": {
     "duration": 37.492854,
     "end_time": "2024-10-29T17:24:57.754863",
     "exception": false,
     "start_time": "2024-10-29T17:24:20.262009",
     "status": "completed"
    },
    "tags": []
   },
   "outputs": [
    {
     "ename": "ModuleNotFoundError",
     "evalue": "No module named 'bengrn'",
     "output_type": "error",
     "traceback": [
      "\u001b[0;31m---------------------------------------------------------------------------\u001b[0m",
      "\u001b[0;31mModuleNotFoundError\u001b[0m                       Traceback (most recent call last)",
      "Cell \u001b[0;32mIn[1], line 1\u001b[0m\n\u001b[0;32m----> 1\u001b[0m \u001b[38;5;28;01mfrom\u001b[39;00m \u001b[38;5;21;01mbengrn\u001b[39;00m \u001b[38;5;28;01mimport\u001b[39;00m BenGRN, get_perturb_gt\n\u001b[1;32m      2\u001b[0m \u001b[38;5;28;01mfrom\u001b[39;00m \u001b[38;5;21;01mbengrn\u001b[39;00m \u001b[38;5;28;01mimport\u001b[39;00m compute_genie3\n\u001b[1;32m      3\u001b[0m \u001b[38;5;28;01mfrom\u001b[39;00m \u001b[38;5;21;01mgrnndata\u001b[39;00m \u001b[38;5;28;01mimport\u001b[39;00m utils \u001b[38;5;28;01mas\u001b[39;00m grnutils\n",
      "\u001b[0;31mModuleNotFoundError\u001b[0m: No module named 'bengrn'"
     ]
    }
   ],
   "source": [
    "from bengrn import BenGRN, get_perturb_gt\n",
    "from bengrn import compute_genie3\n",
    "from grnndata import utils as grnutils\n",
    "import scanpy as sc\n",
    "%load_ext autoreload\n",
    "%autoreload 2 \n",
    "import torch\n",
    "torch.set_float32_matmul_precision('medium')\n",
    "adata = get_perturb_gt()\n",
    "adata.var[\"isTF\"] = False\n",
    "adata.var.loc[adata.var.gene_name.isin(grnutils.TF), \"isTF\"] = True\n",
    "adata.var[\"isTF\"].sum()\n",
    "genes = torch.load('/pasteur/zeus/projets/p02/ml4ig_hot/Users/jkalfon/scprint_scale/o2uniqsx/checkpoints/epoch=18-step=133000.ckpt', map_location=torch.device('cpu'))['hyper_parameters']['genes']\n",
    "adata.var['symbol'] = adata.var[\"gene_name\"]\n",
    "adata.var['ensembl_id'] = adata.var.index\n",
    "subadata = adata[:, adata.var.index.isin(\n",
    "    genes)]\n",
    "del subadata.varp['GRN']\n",
    "sc.pp.normalize_total(subadata)\n",
    "sc.pp.log1p(subadata)\n",
    "genie_grn = compute_genie3(subadata, nthreads=64, ntrees=1000)\n",
    "genie_grn.var.index = subadata.var.index\n",
    "BenGRN(genie_grn, do_auc=True, doplot=True).compare_to(other=adata)"
   ]
  },
  {
   "cell_type": "code",
   "execution_count": 3,
   "id": "b5da480f",
   "metadata": {
    "execution": {
     "iopub.execute_input": "2024-10-29T17:24:57.762448Z",
     "iopub.status.busy": "2024-10-29T17:24:57.762105Z",
     "iopub.status.idle": "2024-10-29T17:25:09.610449Z",
     "shell.execute_reply": "2024-10-29T17:25:09.609868Z"
    },
    "papermill": {
     "duration": 11.852168,
     "end_time": "2024-10-29T17:25:09.611386",
     "exception": false,
     "start_time": "2024-10-29T17:24:57.759218",
     "status": "completed"
    },
    "tags": []
   },
   "outputs": [],
   "source": [
    "genes = torch.load('/pasteur/zeus/projets/p02/ml4ig_hot/Users/jkalfon/scprint_scale/o2uniqsx/checkpoints/epoch=18-step=133000.ckpt', map_location=torch.device('cpu'))['hyper_parameters']['genes']\n",
    "\n",
    "#genes = torch.load('../data/temp/vbd8bavn/epoch=17-step=90000.ckpt')['hyper_parameters']['genes']"
   ]
  },
  {
   "cell_type": "code",
   "execution_count": 4,
   "id": "136e7aa8",
   "metadata": {
    "execution": {
     "iopub.execute_input": "2024-10-29T17:25:09.621934Z",
     "iopub.status.busy": "2024-10-29T17:25:09.621612Z",
     "iopub.status.idle": "2024-10-29T17:25:17.995203Z",
     "shell.execute_reply": "2024-10-29T17:25:17.994605Z"
    },
    "papermill": {
     "duration": 8.377391,
     "end_time": "2024-10-29T17:25:17.995992",
     "exception": false,
     "start_time": "2024-10-29T17:25:09.618601",
     "status": "completed"
    },
    "tags": []
   },
   "outputs": [
    {
     "name": "stdout",
     "output_type": "stream",
     "text": [
      "Dropping layers:  KeysView(Layers with keys: )\n",
      "checking raw counts\n"
     ]
    },
    {
     "name": "stdout",
     "output_type": "stream",
     "text": [
      "removed 0 non primary cells, 10691 renamining\n"
     ]
    },
    {
     "name": "stdout",
     "output_type": "stream",
     "text": [
      "filtered out 0 cells, 10691 renamining\n",
      "Removed 1 genes.\n"
     ]
    },
    {
     "name": "stdout",
     "output_type": "stream",
     "text": [
      "startin QC\n"
     ]
    },
    {
     "name": "stdout",
     "output_type": "stream",
     "text": [
      "Seeing 10066 outliers (94.15% of total dataset):\n"
     ]
    },
    {
     "name": "stdout",
     "output_type": "stream",
     "text": [
      "done\n"
     ]
    },
    {
     "data": {
      "text/plain": [
       "GRnnData object with n_obs × n_vars = 10691 × 8563\n",
       "    obs: 'gem_group', 'gene', 'gene_id', 'transcript', 'gene_transcript', 'sgID_AB', 'mitopercent', 'UMI_count', 'z_gemgroup_UMI', 'core_scale_factor', 'core_adjusted_UMI_count', 'organism_ontology_term_id'\n",
       "    var: 'gene_name', 'chr', 'start', 'end', 'class', 'strand', 'length', 'in_matrix', 'mean', 'std', 'cv', 'fano', 'isTF'\n",
       "    varp: 'GRN'\n",
       "    with a grn of 1115065 elements"
      ]
     },
     "execution_count": 4,
     "metadata": {},
     "output_type": "execute_result"
    }
   ],
   "source": [
    "preprocessor = Preprocessor(force_preprocess=True, skip_validate=True,\n",
    "                            do_postp=False, min_valid_genes_id=5000, min_dataset_size=64)\n",
    "nadata = preprocessor(adata.copy())\n",
    "NUM_GENES = 5000\n",
    "NUM_CELLS = 1024\n",
    "adata"
   ]
  },
  {
   "cell_type": "code",
   "execution_count": 5,
   "id": "632665b3",
   "metadata": {
    "execution": {
     "iopub.execute_input": "2024-10-29T17:25:18.003005Z",
     "iopub.status.busy": "2024-10-29T17:25:18.002731Z",
     "iopub.status.idle": "2024-10-29T17:25:21.430777Z",
     "shell.execute_reply": "2024-10-29T17:25:21.430120Z"
    },
    "papermill": {
     "duration": 3.432413,
     "end_time": "2024-10-29T17:25:21.432013",
     "exception": false,
     "start_time": "2024-10-29T17:25:17.999600",
     "status": "completed"
    },
    "tags": []
   },
   "outputs": [],
   "source": [
    "sc.pp.highly_variable_genes(adata, flavor=\"seurat_v3\", n_top_genes=NUM_GENES)\n",
    "adata.var['symbol'] = adata.var[\"gene_name\"]\n",
    "adata.var['ensembl_id'] = adata.var.index\n",
    "subadata = adata[:, adata.var.index.isin(\n",
    "    genes)]\n",
    "del subadata.varp['GRN']\n",
    "sc.pp.normalize_total(subadata)\n",
    "sc.pp.log1p(subadata)"
   ]
  },
  {
   "cell_type": "code",
   "execution_count": 6,
   "id": "073670a8",
   "metadata": {
    "execution": {
     "iopub.execute_input": "2024-10-29T17:25:21.439733Z",
     "iopub.status.busy": "2024-10-29T17:25:21.439532Z"
    },
    "papermill": {
     "duration": 145397.380107,
     "end_time": "2024-10-31T09:48:38.816359",
     "exception": false,
     "start_time": "2024-10-29T17:25:21.436252",
     "status": "completed"
    },
    "tags": []
   },
   "outputs": [
    {
     "name": "stdout",
     "output_type": "stream",
     "text": [
      "Tree method: RF\n",
      "K: sqrt\n",
      "Number of trees: 1000\n",
      "\n",
      "\n",
      "running jobs on 64 threads\n"
     ]
    }
   ],
   "source": [
    "genie_grn = compute_genie3(subadata, nthreads=64, ntrees=1000)\n",
    "genie_grn.var.index = subadata.var.index\n",
    "BenGRN(genie_grn, do_auc=True, doplot=True).compare_to(other=adata)"
   ]
  },
  {
   "cell_type": "code",
   "execution_count": null,
   "id": "b1447e65",
   "metadata": {
    "execution": {
     "iopub.execute_input": "2024-06-28T15:26:13.024769Z",
     "iopub.status.busy": "2024-06-28T15:26:13.024445Z",
     "iopub.status.idle": "2024-06-28T15:27:39.737693Z",
     "shell.execute_reply": "2024-06-28T15:27:39.737036Z"
    },
    "papermill": {
     "duration": null,
     "end_time": null,
     "exception": null,
     "start_time": null,
     "status": "pending"
    },
    "tags": []
   },
   "outputs": [],
   "source": [
    "genie_grn.var.index = make_index_unique(genie_grn.var['symbol'].astype(str))\n",
    "BenGRN(genie_grn, do_auc=True, doplot=True).scprint_benchmark()"
   ]
  }
 ],
 "metadata": {
  "kernelspec": {
   "display_name": "scprint",
   "language": "python",
   "name": "python3"
  },
  "language_info": {
   "codemirror_mode": {
    "name": "ipython",
    "version": 3
   },
   "file_extension": ".py",
   "mimetype": "text/x-python",
   "name": "python",
   "nbconvert_exporter": "python",
   "pygments_lexer": "ipython3",
   "version": "3.10.15"
  },
  "papermill": {
   "default_parameters": {},
   "duration": null,
   "end_time": null,
   "environment_variables": {},
   "exception": null,
   "input_path": "notebooks/additional/bench_perturbseq_genie3_transp.ipynb",
   "output_path": "notebooks/additional/bench_perturbseq_genie3_transp.ipynb",
   "parameters": {},
   "start_time": "2024-10-29T17:23:54.328801",
   "version": "2.6.0"
  }
 },
 "nbformat": 4,
 "nbformat_minor": 5
}
