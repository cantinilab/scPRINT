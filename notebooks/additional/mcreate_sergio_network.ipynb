{
 "cells": [
  {
   "cell_type": "code",
   "execution_count": 1,
   "metadata": {},
   "outputs": [],
   "source": [
    "import numpy as np\n",
    "import pandas as pd\n",
    "import sys\n",
    "\n",
    "loc = \"../../tools/SERGIO/\"\n",
    "sys.path.append(loc+\"SERGIO\")\n",
    "from sergio import sergio"
   ]
  },
  {
   "cell_type": "code",
   "execution_count": 2,
   "metadata": {},
   "outputs": [],
   "source": [
    "sim = sergio(number_genes=1200, number_bins = 2, number_sc = 500, noise_params = 1, decays=0.8, sampling_state=15, noise_type='dpd')\n",
    "sim.build_graph(input_file_taregts =loc+'data_sets/De-noised_1200G_9T_300cPerT_6_DS3/Interaction_cID_6.txt', input_file_regs=loc+'data_sets/De-noised_1200G_9T_300cPerT_6_DS3/Regs_cID_6.txt', shared_coop_state=2)"
   ]
  },
  {
   "cell_type": "code",
   "execution_count": 49,
   "metadata": {},
   "outputs": [],
   "source": [
    "import decoupler as dc\n",
    "\n",
    "net = dc.get_dorothea(organism=\"human\")"
   ]
  },
  {
   "cell_type": "code",
   "execution_count": 50,
   "metadata": {},
   "outputs": [
    {
     "data": {
      "text/plain": [
       "target\n",
       "MYC       48\n",
       "CDKN1A    42\n",
       "CCND1     40\n",
       "BCL2      32\n",
       "RUNX1     31\n",
       "          ..\n",
       "AMZ1       1\n",
       "GDAP1      1\n",
       "A4GALT     1\n",
       "GEN1       1\n",
       "GGH        1\n",
       "Name: count, Length: 5150, dtype: int64"
      ]
     },
     "execution_count": 50,
     "metadata": {},
     "output_type": "execute_result"
    }
   ],
   "source": [
    "net[net.confidence != 'C'].target.value_counts()"
   ]
  },
  {
   "cell_type": "code",
   "execution_count": 37,
   "metadata": {},
   "outputs": [
    {
     "data": {
      "text/plain": [
       "263"
      ]
     },
     "execution_count": 37,
     "metadata": {},
     "output_type": "execute_result"
    }
   ],
   "source": [
    "s = net.source.value_counts()[(net.source.value_counts()>5) & (net.source.value_counts()<200)].index.tolist()\n",
    "len(s)"
   ]
  },
  {
   "cell_type": "code",
   "execution_count": 42,
   "metadata": {},
   "outputs": [],
   "source": [
    "t = net[net.source.isin(s)].target.value_counts()[net[net.source.isin(s)].target.value_counts()>3].index.tolist()\n",
    "net = net[net.source.isin(s) & (net.target.isin(t))]"
   ]
  },
  {
   "cell_type": "code",
   "execution_count": 45,
   "metadata": {},
   "outputs": [
    {
     "data": {
      "text/plain": [
       "weight\n",
       " 0.333333    6218\n",
       " 1.000000     952\n",
       " 0.500000     399\n",
       "-1.000000     154\n",
       "Name: count, dtype: int64"
      ]
     },
     "execution_count": 45,
     "metadata": {},
     "output_type": "execute_result"
    }
   ],
   "source": [
    "net.weight.value_counts()"
   ]
  },
  {
   "cell_type": "code",
   "execution_count": null,
   "metadata": {},
   "outputs": [],
   "source": [
    "nnet = []\n",
    "net.sort_values(by=\"weight\", ascending=False)\n",
    "for i in set(net.target):\n",
    "    for n, j in enumerate(net.loc[net.target == i].iterrows()):\n",
    "        toa = [i, \"\"]\n",
    "        if j.weight > 0:\n",
    "            toa[1] += \" or \" + j.source\n",
    "                nnet.append([j.source, j.target])\n",
    "        else:\n",
    "            toa[1] += \" or not(\" + j.source + \")\"\n",
    "        \n",
    "net = pd.DataFrame(nnet, columns = ['source', 'target', 'weight'])\n",
    "        "
   ]
  },
  {
   "cell_type": "code",
   "execution_count": 43,
   "metadata": {},
   "outputs": [
    {
     "data": {
      "text/html": [
       "<div>\n",
       "<style scoped>\n",
       "    .dataframe tbody tr th:only-of-type {\n",
       "        vertical-align: middle;\n",
       "    }\n",
       "\n",
       "    .dataframe tbody tr th {\n",
       "        vertical-align: top;\n",
       "    }\n",
       "\n",
       "    .dataframe thead th {\n",
       "        text-align: right;\n",
       "    }\n",
       "</style>\n",
       "<table border=\"1\" class=\"dataframe\">\n",
       "  <thead>\n",
       "    <tr style=\"text-align: right;\">\n",
       "      <th></th>\n",
       "      <th>source</th>\n",
       "      <th>confidence</th>\n",
       "      <th>target</th>\n",
       "      <th>weight</th>\n",
       "    </tr>\n",
       "  </thead>\n",
       "  <tbody>\n",
       "    <tr>\n",
       "      <th>13</th>\n",
       "      <td>FLI1</td>\n",
       "      <td>A</td>\n",
       "      <td>ID2</td>\n",
       "      <td>1.000000</td>\n",
       "    </tr>\n",
       "    <tr>\n",
       "      <th>15</th>\n",
       "      <td>ETV4</td>\n",
       "      <td>A</td>\n",
       "      <td>TNF</td>\n",
       "      <td>1.000000</td>\n",
       "    </tr>\n",
       "    <tr>\n",
       "      <th>16</th>\n",
       "      <td>ETV4</td>\n",
       "      <td>A</td>\n",
       "      <td>TIMP2</td>\n",
       "      <td>1.000000</td>\n",
       "    </tr>\n",
       "    <tr>\n",
       "      <th>17</th>\n",
       "      <td>ETV4</td>\n",
       "      <td>A</td>\n",
       "      <td>BDKRB1</td>\n",
       "      <td>1.000000</td>\n",
       "    </tr>\n",
       "    <tr>\n",
       "      <th>19</th>\n",
       "      <td>ETS2</td>\n",
       "      <td>A</td>\n",
       "      <td>VWF</td>\n",
       "      <td>1.000000</td>\n",
       "    </tr>\n",
       "    <tr>\n",
       "      <th>...</th>\n",
       "      <td>...</td>\n",
       "      <td>...</td>\n",
       "      <td>...</td>\n",
       "      <td>...</td>\n",
       "    </tr>\n",
       "    <tr>\n",
       "      <th>32264</th>\n",
       "      <td>LEF1</td>\n",
       "      <td>C</td>\n",
       "      <td>PRUNE2</td>\n",
       "      <td>0.333333</td>\n",
       "    </tr>\n",
       "    <tr>\n",
       "      <th>32266</th>\n",
       "      <td>LEF1</td>\n",
       "      <td>C</td>\n",
       "      <td>PRKCH</td>\n",
       "      <td>0.333333</td>\n",
       "    </tr>\n",
       "    <tr>\n",
       "      <th>32269</th>\n",
       "      <td>LEF1</td>\n",
       "      <td>C</td>\n",
       "      <td>NLGN1</td>\n",
       "      <td>0.333333</td>\n",
       "    </tr>\n",
       "    <tr>\n",
       "      <th>32270</th>\n",
       "      <td>LEF1</td>\n",
       "      <td>C</td>\n",
       "      <td>NKD1</td>\n",
       "      <td>0.333333</td>\n",
       "    </tr>\n",
       "    <tr>\n",
       "      <th>32273</th>\n",
       "      <td>LEF1</td>\n",
       "      <td>C</td>\n",
       "      <td>PHLDB2</td>\n",
       "      <td>0.333333</td>\n",
       "    </tr>\n",
       "  </tbody>\n",
       "</table>\n",
       "<p>7723 rows × 4 columns</p>\n",
       "</div>"
      ],
      "text/plain": [
       "      source confidence  target    weight\n",
       "13      FLI1          A     ID2  1.000000\n",
       "15      ETV4          A     TNF  1.000000\n",
       "16      ETV4          A   TIMP2  1.000000\n",
       "17      ETV4          A  BDKRB1  1.000000\n",
       "19      ETS2          A     VWF  1.000000\n",
       "...      ...        ...     ...       ...\n",
       "32264   LEF1          C  PRUNE2  0.333333\n",
       "32266   LEF1          C   PRKCH  0.333333\n",
       "32269   LEF1          C   NLGN1  0.333333\n",
       "32270   LEF1          C    NKD1  0.333333\n",
       "32273   LEF1          C  PHLDB2  0.333333\n",
       "\n",
       "[7723 rows x 4 columns]"
      ]
     },
     "execution_count": 43,
     "metadata": {},
     "output_type": "execute_result"
    }
   ],
   "source": [
    "# make it ready for boolODE\n",
    "for i in net.iterrows():\n",
    "    if i.weight < 0:\n",
    "        net.at[i.Index, 'target'] = \"not(\"+i.Rule+\")\"\n",
    "net = net.drop(columns = ['confidence', 'weight']).rename(columns = {'source':'Gene', 'target':'Rule'})\n"
   ]
  },
  {
   "cell_type": "code",
   "execution_count": 1,
   "metadata": {},
   "outputs": [
    {
     "ename": "ImportError",
     "evalue": "cannot import name 'regnetwork_download' from 'omnipath' (/home/ml4ig1/Documents code/scPRINT/.venv/lib/python3.10/site-packages/omnipath/__init__.py)",
     "output_type": "error",
     "traceback": [
      "\u001b[0;31m---------------------------------------------------------------------------\u001b[0m",
      "\u001b[0;31mImportError\u001b[0m                               Traceback (most recent call last)",
      "Cell \u001b[0;32mIn[1], line 1\u001b[0m\n\u001b[0;32m----> 1\u001b[0m \u001b[38;5;28;01mfrom\u001b[39;00m \u001b[38;5;21;01momnipath\u001b[39;00m \u001b[38;5;28;01mimport\u001b[39;00m regnetwork_download\n",
      "\u001b[0;31mImportError\u001b[0m: cannot import name 'regnetwork_download' from 'omnipath' (/home/ml4ig1/Documents code/scPRINT/.venv/lib/python3.10/site-packages/omnipath/__init__.py)"
     ]
    }
   ],
   "source": [
    "from omnipath import regnetwork_download"
   ]
  },
  {
   "cell_type": "code",
   "execution_count": null,
   "metadata": {},
   "outputs": [],
   "source": [
    "regnetwork_download(organism = \"human\")"
   ]
  },
  {
   "cell_type": "code",
   "execution_count": 3,
   "metadata": {},
   "outputs": [
    {
     "name": "stdout",
     "output_type": "stream",
     "text": [
      "Start simulating new level\n",
      "There are 2 genes to simulate in this layer\n",
      "Done with current level\n",
      "Start simulating new level\n",
      "There are 3 genes to simulate in this layer\n",
      "Done with current level\n",
      "Start simulating new level\n",
      "There are 5 genes to simulate in this layer\n",
      "Done with current level\n",
      "Start simulating new level\n",
      "There are 9 genes to simulate in this layer\n",
      "Done with current level\n",
      "Start simulating new level\n",
      "There are 26 genes to simulate in this layer\n",
      "Done with current level\n",
      "Start simulating new level\n",
      "There are 82 genes to simulate in this layer\n",
      "Done with current level\n",
      "Start simulating new level\n",
      "There are 1073 genes to simulate in this layer\n",
      "Done with current level\n"
     ]
    }
   ],
   "source": [
    "sim.simulate()\n",
    "\n",
    "expr = sim.getExpressions()\n",
    "expr = np.concatenate(expr, axis = 1)"
   ]
  },
  {
   "cell_type": "code",
   "execution_count": 9,
   "metadata": {},
   "outputs": [],
   "source": [
    "np.save(\"expr.npy\", expr)"
   ]
  },
  {
   "cell_type": "code",
   "execution_count": 76,
   "metadata": {},
   "outputs": [],
   "source": [
    "expr = np.load(\"expr.npy\")"
   ]
  },
  {
   "cell_type": "code",
   "execution_count": 77,
   "metadata": {},
   "outputs": [],
   "source": [
    "expr = sim.outlier_effect(expr, outlier_prob=0.05, mean=10, scale=1)\n",
    "se, expr = sim.lib_size_effect(expr, mean=8, scale=0.3)\n",
    "binary_ind = sim.dropout_indicator(expr, shape=1000, percentile=0.9)\n",
    "expr = np.multiply(binary_ind, expr)\n",
    "expr = sim.convert_to_UMIcounts(expr)\n",
    "expr = np.concatenate(expr, axis = 1).T"
   ]
  },
  {
   "cell_type": "code",
   "execution_count": 83,
   "metadata": {},
   "outputs": [
    {
     "data": {
      "text/html": [
       "<div>\n",
       "<style scoped>\n",
       "    .dataframe tbody tr th:only-of-type {\n",
       "        vertical-align: middle;\n",
       "    }\n",
       "\n",
       "    .dataframe tbody tr th {\n",
       "        vertical-align: top;\n",
       "    }\n",
       "\n",
       "    .dataframe thead th {\n",
       "        text-align: right;\n",
       "    }\n",
       "</style>\n",
       "<table border=\"1\" class=\"dataframe\">\n",
       "  <thead>\n",
       "    <tr style=\"text-align: right;\">\n",
       "      <th></th>\n",
       "      <th>1</th>\n",
       "      <th>2</th>\n",
       "    </tr>\n",
       "  </thead>\n",
       "  <tbody>\n",
       "    <tr>\n",
       "      <th>0</th>\n",
       "      <td>1</td>\n",
       "      <td>0</td>\n",
       "    </tr>\n",
       "    <tr>\n",
       "      <th>1</th>\n",
       "      <td>4</td>\n",
       "      <td>7</td>\n",
       "    </tr>\n",
       "    <tr>\n",
       "      <th>2</th>\n",
       "      <td>4</td>\n",
       "      <td>15</td>\n",
       "    </tr>\n",
       "    <tr>\n",
       "      <th>3</th>\n",
       "      <td>4</td>\n",
       "      <td>13</td>\n",
       "    </tr>\n",
       "    <tr>\n",
       "      <th>4</th>\n",
       "      <td>4</td>\n",
       "      <td>16</td>\n",
       "    </tr>\n",
       "    <tr>\n",
       "      <th>...</th>\n",
       "      <td>...</td>\n",
       "      <td>...</td>\n",
       "    </tr>\n",
       "    <tr>\n",
       "      <th>2707</th>\n",
       "      <td>1177</td>\n",
       "      <td>1190</td>\n",
       "    </tr>\n",
       "    <tr>\n",
       "      <th>2708</th>\n",
       "      <td>1177</td>\n",
       "      <td>842</td>\n",
       "    </tr>\n",
       "    <tr>\n",
       "      <th>2709</th>\n",
       "      <td>1177</td>\n",
       "      <td>1195</td>\n",
       "    </tr>\n",
       "    <tr>\n",
       "      <th>2710</th>\n",
       "      <td>1177</td>\n",
       "      <td>552</td>\n",
       "    </tr>\n",
       "    <tr>\n",
       "      <th>2711</th>\n",
       "      <td>1177</td>\n",
       "      <td>811</td>\n",
       "    </tr>\n",
       "  </tbody>\n",
       "</table>\n",
       "<p>2712 rows × 2 columns</p>\n",
       "</div>"
      ],
      "text/plain": [
       "         1     2\n",
       "0        1     0\n",
       "1        4     7\n",
       "2        4    15\n",
       "3        4    13\n",
       "4        4    16\n",
       "...    ...   ...\n",
       "2707  1177  1190\n",
       "2708  1177   842\n",
       "2709  1177  1195\n",
       "2710  1177   552\n",
       "2711  1177   811\n",
       "\n",
       "[2712 rows x 2 columns]"
      ]
     },
     "execution_count": 83,
     "metadata": {},
     "output_type": "execute_result"
    }
   ],
   "source": [
    "val = pd.read_csv(loc+'data_sets/De-noised_1200G_9T_300cPerT_6_DS3/gt_GRN.csv')\n",
    "val"
   ]
  },
  {
   "cell_type": "code",
   "execution_count": 95,
   "metadata": {},
   "outputs": [],
   "source": [
    "val = val.astype(str)"
   ]
  },
  {
   "cell_type": "code",
   "execution_count": 96,
   "metadata": {},
   "outputs": [
    {
     "name": "stderr",
     "output_type": "stream",
     "text": [
      "  0%|          | 0/2712 [00:00<?, ?it/s]"
     ]
    },
    {
     "name": "stderr",
     "output_type": "stream",
     "text": [
      "100%|██████████| 2712/2712 [00:00<00:00, 19992.01it/s]\n"
     ]
    }
   ],
   "source": [
    "from grnndata import from_adata_and_longform\n",
    "from anndata import AnnData\n",
    "\n",
    "grn = from_adata_and_longform(AnnData(X=expr), val, has_weight=False)"
   ]
  },
  {
   "cell_type": "code",
   "execution_count": 97,
   "metadata": {},
   "outputs": [
    {
     "data": {
      "text/plain": [
       "GRnnData object with n_obs × n_vars = 9000 × 1200\n",
       "    varp: 'GRN'\n",
       "    with a grn of 2712 elements"
      ]
     },
     "execution_count": 97,
     "metadata": {},
     "output_type": "execute_result"
    }
   ],
   "source": [
    "grn"
   ]
  },
  {
   "cell_type": "code",
   "execution_count": 99,
   "metadata": {},
   "outputs": [],
   "source": [
    "grn.write_h5ad(\"../../data/SERGIO_GRN.h5ad\")"
   ]
  },
  {
   "cell_type": "code",
   "execution_count": null,
   "metadata": {},
   "outputs": [],
   "source": []
  },
  {
   "cell_type": "code",
   "execution_count": null,
   "metadata": {},
   "outputs": [],
   "source": []
  }
 ],
 "metadata": {
  "kernelspec": {
   "display_name": ".venv",
   "language": "python",
   "name": "python3"
  },
  "language_info": {
   "codemirror_mode": {
    "name": "ipython",
    "version": 3
   },
   "file_extension": ".py",
   "mimetype": "text/x-python",
   "name": "python",
   "nbconvert_exporter": "python",
   "pygments_lexer": "ipython3",
   "version": "3.10.15"
  }
 },
 "nbformat": 4,
 "nbformat_minor": 2
}
