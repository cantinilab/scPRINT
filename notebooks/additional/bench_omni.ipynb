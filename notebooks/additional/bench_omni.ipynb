{
 "cells": [
  {
   "cell_type": "markdown",
   "metadata": {},
   "source": [
    "# benchmarking on omnipath\n"
   ]
  },
  {
   "cell_type": "code",
   "execution_count": 1,
   "metadata": {},
   "outputs": [
    {
     "name": "stdout",
     "output_type": "stream",
     "text": [
      "💡 connected lamindb: jkobject/scprint\n"
     ]
    },
    {
     "name": "stderr",
     "output_type": "stream",
     "text": [
      "2024-05-22 14:35:58,757:INFO - Downloading data from `https://omnipathdb.org/queries/enzsub?format=json`\n",
      "2024-05-22 14:35:58,879:INFO - Downloading data from `https://omnipathdb.org/queries/interactions?format=json`\n",
      "2024-05-22 14:35:58,969:INFO - Downloading data from `https://omnipathdb.org/queries/complexes?format=json`\n",
      "2024-05-22 14:35:59,063:INFO - Downloading data from `https://omnipathdb.org/queries/annotations?format=json`\n",
      "2024-05-22 14:35:59,150:INFO - Downloading data from `https://omnipathdb.org/queries/intercell?format=json`\n",
      "2024-05-22 14:35:59,361:INFO - Downloading data from `https://omnipathdb.org/about?format=text`\n",
      "/home/ml4ig1/miniconda3/envs/scprint/lib/python3.10/site-packages/umap/__init__.py:9: ImportWarning: Tensorflow not installed; ParametricUMAP will be unavailable\n",
      "  warn(\n",
      "/home/ml4ig1/miniconda3/envs/scprint/lib/python3.10/site-packages/chex/_src/pytypes.py:53: DeprecationWarning: jax.core.Shape is deprecated. Use Shape = Sequence[int | Any].\n",
      "  Shape = jax.core.Shape\n",
      "/home/ml4ig1/miniconda3/envs/scprint/lib/python3.10/site-packages/chex/_src/pytypes.py:54: DeprecationWarning: jax.random.KeyArray is deprecated. Use jax.Array for annotations, and jax.dtypes.issubdtype(arr.dtype, jax.dtypes.prng_key) for runtime detection of typed prng keys (i.e. keys created with jax.random.key).\n",
      "For more information, see https://jax.readthedocs.io/en/latest/jep/9263-typed-keys.html\n",
      "  PRNGKey = jax.random.KeyArray\n",
      "/home/ml4ig1/miniconda3/envs/scprint/lib/python3.10/site-packages/scib_metrics/_types.py:9: DeprecationWarning: jax.random.KeyArray is deprecated. Use jax.Array for annotations, and jax.dtypes.issubdtype(arr.dtype, jax.dtypes.prng_key) for runtime detection of typed prng keys (i.e. keys created with jax.random.key).\n",
      "For more information, see https://jax.readthedocs.io/en/latest/jep/9263-typed-keys.html\n",
      "  IntOrKey = Union[int, jax.random.KeyArray]\n",
      "/home/ml4ig1/miniconda3/envs/scprint/lib/python3.10/site-packages/scib_metrics/utils/_utils.py:40: DeprecationWarning: jax.random.KeyArray is deprecated. Use jax.Array for annotations, and jax.dtypes.issubdtype(arr.dtype, jax.dtypes.prng_key) for runtime detection of typed prng keys (i.e. keys created with jax.random.key).\n",
      "For more information, see https://jax.readthedocs.io/en/latest/jep/9263-typed-keys.html\n",
      "  def validate_seed(seed: IntOrKey) -> jax.random.KeyArray:\n",
      "/home/ml4ig1/miniconda3/envs/scprint/lib/python3.10/site-packages/scib_metrics/utils/_kmeans.py:21: DeprecationWarning: jax.random.KeyArray is deprecated. Use jax.Array for annotations, and jax.dtypes.issubdtype(arr.dtype, jax.dtypes.prng_key) for runtime detection of typed prng keys (i.e. keys created with jax.random.key).\n",
      "For more information, see https://jax.readthedocs.io/en/latest/jep/9263-typed-keys.html\n",
      "  def _initialize_random(X: jnp.ndarray, n_clusters: int, key: jax.random.KeyArray) -> jnp.ndarray:\n",
      "/home/ml4ig1/miniconda3/envs/scprint/lib/python3.10/site-packages/scib_metrics/utils/_kmeans.py:31: DeprecationWarning: jax.random.KeyArray is deprecated. Use jax.Array for annotations, and jax.dtypes.issubdtype(arr.dtype, jax.dtypes.prng_key) for runtime detection of typed prng keys (i.e. keys created with jax.random.key).\n",
      "For more information, see https://jax.readthedocs.io/en/latest/jep/9263-typed-keys.html\n",
      "  def _initialize_plus_plus(X: jnp.ndarray, n_clusters: int, key: jax.random.KeyArray) -> jnp.ndarray:\n"
     ]
    }
   ],
   "source": [
    "from scprint import scPrint\n",
    "from scprint.tasks import GRNfer\n",
    "\n",
    "from bengrn import BenGRN\n",
    "import scanpy as sc\n",
    "\n",
    "from bengrn.base import train_classifier\n",
    "\n",
    "from anndata.utils import make_index_unique\n",
    "from bengrn import compute_genie3\n",
    "from grnndata import utils as grnutils\n",
    "\n",
    "%load_ext autoreload\n",
    "%autoreload 2 \n",
    "\n",
    "import torch\n",
    "torch.set_float32_matmul_precision('medium')"
   ]
  },
  {
   "cell_type": "code",
   "execution_count": null,
   "metadata": {},
   "outputs": [],
   "source": [
    "model = scPrint.load_from_checkpoint(\n",
    "    '../data/temp/vbd8bavn/epoch=17-step=90000.ckpt', precpt_gene_emb=None)\n",
    "NUM_GENES = 4000"
   ]
  },
  {
   "cell_type": "code",
   "execution_count": null,
   "metadata": {},
   "outputs": [],
   "source": [
    "CELLTYPES = [\n",
    "    'kidney distal convoluted tubule epithelial cell',\n",
    "    'kidney loop of Henle thick ascending limb epithelial cell',\n",
    "    'kidney collecting duct principal cell',\n",
    "    'mesangial cell',\n",
    "    'blood vessel smooth muscle cell',\n",
    "    'podocyte',\n",
    "    'macrophage',\n",
    "    'leukocyte',\n",
    "    'kidney interstitial fibroblast',\n",
    "    'endothelial cell'\n",
    "]"
   ]
  },
  {
   "cell_type": "code",
   "execution_count": null,
   "metadata": {},
   "outputs": [],
   "source": [
    "adata = sc.read_h5ad('/home/ml4ig1/scprint/.lamindb/yBCKp6HmXuHa0cZptMo7.h5ad')\n",
    "adata.var[\"isTF\"] = False\n",
    "adata.var.loc[adata.var.symbol.isin(grnutils.TF), \"isTF\"] = True\n",
    "adata"
   ]
  },
  {
   "cell_type": "code",
   "execution_count": null,
   "metadata": {},
   "outputs": [],
   "source": [
    "sc.tl.rank_genes_groups(\n",
    "    adata, groupby=\"cell_type\"\n",
    ")\n",
    "adata.var['ensembl_id'] = adata.var.index\n",
    "metrics = {}\n",
    "for celltype in CELLTYPES:\n",
    "    to_use = adata.uns[\"rank_genes_groups\"][\"names\"][celltype][\n",
    "        : NUM_GENES\n",
    "    ].tolist()\n",
    "    subadata = adata[adata.obs.cell_type == celltype][:1024, adata.var.index.isin(\n",
    "        model.genes) & adata.var.index.isin(to_use)]\n",
    "    print(subadata)\n",
    "    genie_grn = compute_genie3(\n",
    "        subadata, nthreads=32, regulators=adata.var[adata.var.isTF].index.tolist())\n",
    "    genie_grn.var.index = make_index_unique(\n",
    "        genie_grn.var['symbol'].astype(str))\n",
    "    metrics['genie3_tf_'+celltype] = BenGRN(genie_grn,\n",
    "                                            do_auc=True, doplot=True).scprint_benchmark()\n",
    "    genie_grn = compute_genie3(subadata, nthreads=32)\n",
    "    genie_grn.var.index = make_index_unique(\n",
    "        genie_grn.var['symbol'].astype(str))\n",
    "    metrics['genie3_'+celltype] = BenGRN(genie_grn,\n",
    "                                         do_auc=True, doplot=True).scprint_benchmark()"
   ]
  },
  {
   "cell_type": "code",
   "execution_count": null,
   "metadata": {},
   "outputs": [],
   "source": [
    "metrics"
   ]
  },
  {
   "cell_type": "code",
   "execution_count": null,
   "metadata": {},
   "outputs": [],
   "source": [
    "metrics = {}\n",
    "for celltype in CELLTYPES:\n",
    "    grn_inferer = GRNfer(model, adata[adata.X.sum(1) > 500],\n",
    "                         how=\"random expr\",\n",
    "                         preprocess=\"softmax\",\n",
    "                         head_agg='max',\n",
    "                         filtration=\"none\",\n",
    "                         forward_mode=\"none\",\n",
    "                         organisms=adata.obs['organism_ontology_term_id'][0],\n",
    "                         num_genes=3000,\n",
    "                         max_cells=1024,\n",
    "                         doplot=False,\n",
    "                         batch_size=32,\n",
    "                         )\n",
    "    grn = grn_inferer(layer=list(range(model.nlayers))[8:], cell_type=celltype)\n",
    "    grn.var.index = make_index_unique(grn.var['symbol'].astype(str))\n",
    "    metrics[celltype+'_scprint'] = BenGRN(grn).scprint_benchmark()\n",
    "    grn_inferer = GRNfer(model, adata[adata.X.sum(1) > 500],\n",
    "                         how=\"most var across\",\n",
    "                         preprocess=\"softmax\",\n",
    "                         head_agg='none',\n",
    "                         filtration=\"none\",\n",
    "                         forward_mode=\"none\",\n",
    "                         organisms=adata.obs['organism_ontology_term_id'][0],\n",
    "                         num_genes=NUM_GENES,\n",
    "                         max_cells=1024,\n",
    "                         doplot=False,\n",
    "                         batch_size=32,\n",
    "                         )\n",
    "    grn = grn_inferer(layer=list(range(model.nlayers))[:], cell_type=celltype)\n",
    "    grn, m, clf_omni = train_classifier(grn, C=0.3, train_size=0.5, class_weight={\n",
    "                                        1: 100, 0: 1}, shuffle=False)\n",
    "    grn.varp['GRN'] = grn.varp['classified']\n",
    "    grn.var.index = make_index_unique(grn.var['symbol'].astype(str))\n",
    "    metrics[celltype+'_scprint_class'] = BenGRN(grn).scprint_benchmark()\n",
    "    grn.varp['GRN'][~grn.var.index.isin(grnutils.TF),:] = 0\n",
    "    metrics[celltype+'_scprint_class_TF'] = BenGRN(grn).scprint_benchmark()"
   ]
  },
  {
   "cell_type": "markdown",
   "metadata": {},
   "source": [
    "### we have 50% of the omnipath coming from protein interaction type stuff. the model doesn't get necessarily a ton better without it.\n",
    "\n",
    "### we have 75% less sources in the transcript only dataset and similar amount of targets.\n",
    "\n",
    "### in the end we get that most transcript level ground truth doesn't overlap the ppi level one. so dropping it would help in the results but on both side. and it should not help too much with EPR\n"
   ]
  },
  {
   "cell_type": "code",
   "execution_count": null,
   "metadata": {},
   "outputs": [],
   "source": [
    "metrics"
   ]
  },
  {
   "cell_type": "code",
   "execution_count": null,
   "metadata": {},
   "outputs": [],
   "source": [
    "0,000999, 4.7 2nd axis-> cls\n",
    "0.00327, 9.1 1st axis -> cls\n"
   ]
  },
  {
   "cell_type": "code",
   "execution_count": null,
   "metadata": {},
   "outputs": [],
   "source": [
    "grn.varp['GRN'][~grn.var.index.isin(grnutils.TF),:] = 0\n",
    "BenGRN(grn).scprint_benchmark()"
   ]
  }
 ],
 "metadata": {
  "kernelspec": {
   "display_name": "scprint",
   "language": "python",
   "name": "python3"
  },
  "language_info": {
   "codemirror_mode": {
    "name": "ipython",
    "version": 3
   },
   "file_extension": ".py",
   "mimetype": "text/x-python",
   "name": "python",
   "nbconvert_exporter": "python",
   "pygments_lexer": "ipython3",
   "version": "3.10.0"
  }
 },
 "nbformat": 4,
 "nbformat_minor": 2
}
