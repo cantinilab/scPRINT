{
 "cells": [
  {
   "cell_type": "code",
   "execution_count": null,
   "metadata": {},
   "outputs": [],
   "source": [
    "# update lamindb and bionty..."
   ]
  },
  {
   "cell_type": "code",
   "execution_count": 1,
   "metadata": {},
   "outputs": [
    {
     "name": "stdout",
     "output_type": "stream",
     "text": [
      "\u001b[92m→\u001b[0m connected lamindb: jkobject/scprint\n",
      "\u001b[0m"
     ]
    }
   ],
   "source": [
    "! lamin load scprint"
   ]
  },
  {
   "cell_type": "code",
   "execution_count": 2,
   "metadata": {},
   "outputs": [
    {
     "name": "stdout",
     "output_type": "stream",
     "text": [
      "\u001b[36;1mOperations to perform:\u001b[0m\n",
      "\u001b[1m  Apply all migrations: \u001b[0mbionty, lnschema_core\n",
      "Running pre-migrate handlers for application lnschema_core\n",
      "Running pre-migrate handlers for application bionty\n",
      "\u001b[36;1mRunning migrations:\u001b[0m\n",
      "  Applying lnschema_core.0065_remove_collection_feature_sets_and_more...\u001b[32;1m OK (1.386s)\u001b[0m\n",
      "  Applying lnschema_core.0066_alter_artifact__feature_values_and_more...\u001b[32;1m OK (3.067s)\u001b[0m\n",
      "  Applying bionty.0038_alter_artifactcellline_created_by_and_more...\u001b[32;1m OK (4.517s)\u001b[0m\n",
      "  Applying bionty.0039_alter_cellline_source_alter_cellmarker_source_and_more...\u001b[32;1m OK (1.847s)\u001b[0m\n",
      "Running post-migrate handlers for application lnschema_core\n",
      "Running post-migrate handlers for application bionty\n"
     ]
    }
   ],
   "source": [
    "! lamin migrate deploy"
   ]
  },
  {
   "cell_type": "markdown",
   "metadata": {},
   "source": [
    "# we will check it works and reset the bionty sources"
   ]
  },
  {
   "cell_type": "code",
   "execution_count": 1,
   "metadata": {},
   "outputs": [
    {
     "name": "stdout",
     "output_type": "stream",
     "text": [
      "\u001b[92m→\u001b[0m connected lamindb: jkobject/scprint\n"
     ]
    }
   ],
   "source": [
    "import lamindb as ln\n",
    "import bionty as bt\n",
    "from scdataloader.utils import populate_my_ontology\n",
    "%load_ext autoreload\n",
    "%autoreload 2\n"
   ]
  },
  {
   "cell_type": "code",
   "execution_count": 5,
   "metadata": {},
   "outputs": [
    {
     "data": {
      "text/plain": [
       "937"
      ]
     },
     "execution_count": 5,
     "metadata": {},
     "output_type": "execute_result"
    }
   ],
   "source": [
    "len(ln.Artifact.filter())"
   ]
  },
  {
   "cell_type": "code",
   "execution_count": 6,
   "metadata": {},
   "outputs": [],
   "source": [
    "bt.base.reset_sources()"
   ]
  },
  {
   "cell_type": "code",
   "execution_count": 6,
   "metadata": {},
   "outputs": [
    {
     "name": "stdout",
     "output_type": "stream",
     "text": [
      "\u001b[93m!\u001b[0m please reload your instance to reflect the updates!\n"
     ]
    }
   ],
   "source": [
    "bt.core.sync_all_sources_to_latest()"
   ]
  },
  {
   "cell_type": "markdown",
   "metadata": {},
   "source": [
    "# load them in my personnal ontology"
   ]
  },
  {
   "cell_type": "code",
   "execution_count": null,
   "metadata": {},
   "outputs": [],
   "source": [
    "bt.DevelopmentalStage.artifacts.through.objects.all().delete()\n",
    "bt.DevelopmentalStage.filter().delete()"
   ]
  },
  {
   "cell_type": "code",
   "execution_count": 6,
   "metadata": {},
   "outputs": [],
   "source": [
    "#bt.Tissue.import_from_source() \n",
    "bt.DevelopmentalStage.import_from_source() "
   ]
  },
  {
   "cell_type": "code",
   "execution_count": null,
   "metadata": {},
   "outputs": [
    {
     "data": {
      "text/plain": [
       "array(['HsapDv:0000000', 'HsapDv:0000240', 'HsapDv:0000267',\n",
       "       'HsapDv:0000226', 'HsapDv:0000258', 'HsapDv:0010000',\n",
       "       'HsapDv:0000001'], dtype=object)"
      ]
     },
     "metadata": {},
     "output_type": "display_data"
    }
   ],
   "source": [
    "bt.DevelopmentalStage.public().df().loc[\"HsapDv:0000144\"].parents"
   ]
  },
  {
   "cell_type": "code",
   "execution_count": null,
   "metadata": {},
   "outputs": [],
   "source": [
    "# we have a match between the sources"
   ]
  },
  {
   "cell_type": "code",
   "execution_count": null,
   "metadata": {},
   "outputs": [
    {
     "data": {
      "text/plain": [
       "['HsapDv:0000000',\n",
       " 'HsapDv:0000240',\n",
       " 'HsapDv:0000267',\n",
       " 'HsapDv:0000226',\n",
       " 'HsapDv:0000258',\n",
       " 'HsapDv:0010000',\n",
       " 'HsapDv:0000001']"
      ]
     },
     "metadata": {},
     "output_type": "display_data"
    }
   ],
   "source": [
    "bt.DevelopmentalStage.filter().df(include=[\"parents__ontology_id\"]).set_index(\"ontology_id\").loc[\"HsapDv:0000144\"].parents__ontology_id"
   ]
  },
  {
   "cell_type": "code",
   "execution_count": 15,
   "metadata": {},
   "outputs": [],
   "source": [
    "source = bt.PublicSource.filter(organism=\"mouse\", name=\"mmusdv\").last()"
   ]
  },
  {
   "cell_type": "code",
   "execution_count": 16,
   "metadata": {},
   "outputs": [],
   "source": [
    "bt.DevelopmentalStage.import_from_source(source=source)"
   ]
  },
  {
   "cell_type": "code",
   "execution_count": 20,
   "metadata": {},
   "outputs": [],
   "source": [
    "# delete all old artifacts\n",
    "bt.Tissue.artifacts.through.objects.all().delete()\n",
    "bt.Tissue.filter().delete()\n",
    "bt.Disease.artifacts.through.objects.all().delete()\n",
    "bt.Disease.filter().delete()\n",
    "bt.CellType.artifacts.through.objects.all().delete()\n",
    "bt.CellType.filter().delete()\n",
    "bt.ExperimentalFactor.artifacts.through.objects.all().delete()\n",
    "bt.ExperimentalFactor.filter().delete()\n",
    "bt.Ethnicity.artifacts.through.objects.all().delete()\n",
    "bt.Ethnicity.filter().delete()"
   ]
  },
  {
   "cell_type": "code",
   "execution_count": 21,
   "metadata": {},
   "outputs": [
    {
     "name": "stdout",
     "output_type": "stream",
     "text": [
      "\u001b[92m→\u001b[0m returning existing Organism record with same name: 'unknown'\n",
      "\u001b[92m→\u001b[0m returning existing Phenotype record with same name: 'unknown'\n",
      "\u001b[93m!\u001b[0m record with similar name exists! did you mean to load it?\n"
     ]
    },
    {
     "data": {
      "text/html": [
       "<div>\n",
       "<style scoped>\n",
       "    .dataframe tbody tr th:only-of-type {\n",
       "        vertical-align: middle;\n",
       "    }\n",
       "\n",
       "    .dataframe tbody tr th {\n",
       "        vertical-align: top;\n",
       "    }\n",
       "\n",
       "    .dataframe thead th {\n",
       "        text-align: right;\n",
       "    }\n",
       "</style>\n",
       "<table border=\"1\" class=\"dataframe\">\n",
       "  <thead>\n",
       "    <tr style=\"text-align: right;\">\n",
       "      <th></th>\n",
       "      <th>uid</th>\n",
       "      <th>name</th>\n",
       "      <th>ontology_id</th>\n",
       "      <th>abbr</th>\n",
       "      <th>synonyms</th>\n",
       "      <th>description</th>\n",
       "      <th>molecule</th>\n",
       "      <th>instrument</th>\n",
       "      <th>measurement</th>\n",
       "      <th>source_id</th>\n",
       "      <th>run_id</th>\n",
       "      <th>created_by_id</th>\n",
       "      <th>updated_at</th>\n",
       "    </tr>\n",
       "    <tr>\n",
       "      <th>id</th>\n",
       "      <th></th>\n",
       "      <th></th>\n",
       "      <th></th>\n",
       "      <th></th>\n",
       "      <th></th>\n",
       "      <th></th>\n",
       "      <th></th>\n",
       "      <th></th>\n",
       "      <th></th>\n",
       "      <th></th>\n",
       "      <th></th>\n",
       "      <th></th>\n",
       "      <th></th>\n",
       "    </tr>\n",
       "  </thead>\n",
       "  <tbody>\n",
       "    <tr>\n",
       "      <th>21073</th>\n",
       "      <td>63btPuBB</td>\n",
       "      <td>fever of unknown origin</td>\n",
       "      <td>EFO:0003952</td>\n",
       "      <td>None</td>\n",
       "      <td>Unknown Origin Fever|Unknown Origin Fevers</td>\n",
       "      <td>Fever In Which The Etiology Cannot Be Ascertai...</td>\n",
       "      <td>None</td>\n",
       "      <td>None</td>\n",
       "      <td>None</td>\n",
       "      <td>78</td>\n",
       "      <td>None</td>\n",
       "      <td>1</td>\n",
       "      <td>2024-09-12 12:22:42.173128+00:00</td>\n",
       "    </tr>\n",
       "  </tbody>\n",
       "</table>\n",
       "</div>"
      ],
      "text/plain": [
       "            uid                     name  ontology_id  abbr  \\\n",
       "id                                                            \n",
       "21073  63btPuBB  fever of unknown origin  EFO:0003952  None   \n",
       "\n",
       "                                         synonyms  \\\n",
       "id                                                  \n",
       "21073  Unknown Origin Fever|Unknown Origin Fevers   \n",
       "\n",
       "                                             description molecule instrument  \\\n",
       "id                                                                             \n",
       "21073  Fever In Which The Etiology Cannot Be Ascertai...     None       None   \n",
       "\n",
       "      measurement  source_id run_id  created_by_id  \\\n",
       "id                                                   \n",
       "21073        None         78   None              1   \n",
       "\n",
       "                            updated_at  \n",
       "id                                      \n",
       "21073 2024-09-12 12:22:42.173128+00:00  "
      ]
     },
     "metadata": {},
     "output_type": "display_data"
    },
    {
     "name": "stdout",
     "output_type": "stream",
     "text": [
      "\u001b[93m!\u001b[0m DevelopmentalStage records from source (hsapdv, 2024-05-28) are already in the database!\n",
      "   → pass `update=True` to update the records\n",
      "\u001b[93m!\u001b[0m DevelopmentalStage records from source (mmusdv, 2024-05-28) are already in the database!\n",
      "   → pass `update=True` to update the records\n",
      "\u001b[92m→\u001b[0m returning existing DevelopmentalStage record with same name: 'unknown'\n",
      "\u001b[93m!\u001b[0m records with similar names exist! did you mean to load one of them?\n"
     ]
    },
    {
     "data": {
      "text/html": [
       "<div>\n",
       "<style scoped>\n",
       "    .dataframe tbody tr th:only-of-type {\n",
       "        vertical-align: middle;\n",
       "    }\n",
       "\n",
       "    .dataframe tbody tr th {\n",
       "        vertical-align: top;\n",
       "    }\n",
       "\n",
       "    .dataframe thead th {\n",
       "        text-align: right;\n",
       "    }\n",
       "</style>\n",
       "<table border=\"1\" class=\"dataframe\">\n",
       "  <thead>\n",
       "    <tr style=\"text-align: right;\">\n",
       "      <th></th>\n",
       "      <th>uid</th>\n",
       "      <th>name</th>\n",
       "      <th>ontology_id</th>\n",
       "      <th>abbr</th>\n",
       "      <th>synonyms</th>\n",
       "      <th>description</th>\n",
       "      <th>source_id</th>\n",
       "      <th>run_id</th>\n",
       "      <th>created_by_id</th>\n",
       "      <th>updated_at</th>\n",
       "    </tr>\n",
       "    <tr>\n",
       "      <th>id</th>\n",
       "      <th></th>\n",
       "      <th></th>\n",
       "      <th></th>\n",
       "      <th></th>\n",
       "      <th></th>\n",
       "      <th></th>\n",
       "      <th></th>\n",
       "      <th></th>\n",
       "      <th></th>\n",
       "      <th></th>\n",
       "    </tr>\n",
       "  </thead>\n",
       "  <tbody>\n",
       "    <tr>\n",
       "      <th>27075</th>\n",
       "      <td>7CKxLDlu</td>\n",
       "      <td>obsolete congenital abnormality</td>\n",
       "      <td>MONDO:0000839</td>\n",
       "      <td>None</td>\n",
       "      <td>congenital abnormality|congenital anatomic Abn...</td>\n",
       "      <td>Obsolete. Any Abnormality, Anatomical Or Bioch...</td>\n",
       "      <td>69</td>\n",
       "      <td>None</td>\n",
       "      <td>1</td>\n",
       "      <td>2024-09-12 12:22:55.501725+00:00</td>\n",
       "    </tr>\n",
       "    <tr>\n",
       "      <th>27117</th>\n",
       "      <td>5pHdg2Ic</td>\n",
       "      <td>obsolete myeloid and lymphoid neoplasms with e...</td>\n",
       "      <td>MONDO:0000881</td>\n",
       "      <td>None</td>\n",
       "      <td>None</td>\n",
       "      <td>None</td>\n",
       "      <td>69</td>\n",
       "      <td>None</td>\n",
       "      <td>1</td>\n",
       "      <td>2024-09-12 12:22:55.504418+00:00</td>\n",
       "    </tr>\n",
       "    <tr>\n",
       "      <th>27120</th>\n",
       "      <td>5lzQM8ub</td>\n",
       "      <td>myeloid and lymphoid neoplasms associated with...</td>\n",
       "      <td>MONDO:0000884</td>\n",
       "      <td>None</td>\n",
       "      <td>None</td>\n",
       "      <td>None</td>\n",
       "      <td>69</td>\n",
       "      <td>None</td>\n",
       "      <td>1</td>\n",
       "      <td>2024-09-12 12:22:55.504609+00:00</td>\n",
       "    </tr>\n",
       "  </tbody>\n",
       "</table>\n",
       "</div>"
      ],
      "text/plain": [
       "            uid                                               name  \\\n",
       "id                                                                   \n",
       "27075  7CKxLDlu                    obsolete congenital abnormality   \n",
       "27117  5pHdg2Ic  obsolete myeloid and lymphoid neoplasms with e...   \n",
       "27120  5lzQM8ub  myeloid and lymphoid neoplasms associated with...   \n",
       "\n",
       "         ontology_id  abbr                                           synonyms  \\\n",
       "id                                                                              \n",
       "27075  MONDO:0000839  None  congenital abnormality|congenital anatomic Abn...   \n",
       "27117  MONDO:0000881  None                                               None   \n",
       "27120  MONDO:0000884  None                                               None   \n",
       "\n",
       "                                             description  source_id run_id  \\\n",
       "id                                                                           \n",
       "27075  Obsolete. Any Abnormality, Anatomical Or Bioch...         69   None   \n",
       "27117                                               None         69   None   \n",
       "27120                                               None         69   None   \n",
       "\n",
       "       created_by_id                       updated_at  \n",
       "id                                                     \n",
       "27075              1 2024-09-12 12:22:55.501725+00:00  \n",
       "27117              1 2024-09-12 12:22:55.504418+00:00  \n",
       "27120              1 2024-09-12 12:22:55.504609+00:00  "
      ]
     },
     "metadata": {},
     "output_type": "display_data"
    },
    {
     "name": "stdout",
     "output_type": "stream",
     "text": [
      "\u001b[93m!\u001b[0m records with similar names exist! did you mean to load one of them?\n"
     ]
    },
    {
     "data": {
      "text/html": [
       "<div>\n",
       "<style scoped>\n",
       "    .dataframe tbody tr th:only-of-type {\n",
       "        vertical-align: middle;\n",
       "    }\n",
       "\n",
       "    .dataframe tbody tr th {\n",
       "        vertical-align: top;\n",
       "    }\n",
       "\n",
       "    .dataframe thead th {\n",
       "        text-align: right;\n",
       "    }\n",
       "</style>\n",
       "<table border=\"1\" class=\"dataframe\">\n",
       "  <thead>\n",
       "    <tr style=\"text-align: right;\">\n",
       "      <th></th>\n",
       "      <th>uid</th>\n",
       "      <th>name</th>\n",
       "      <th>ontology_id</th>\n",
       "      <th>abbr</th>\n",
       "      <th>synonyms</th>\n",
       "      <th>description</th>\n",
       "      <th>source_id</th>\n",
       "      <th>run_id</th>\n",
       "      <th>created_by_id</th>\n",
       "      <th>updated_at</th>\n",
       "    </tr>\n",
       "    <tr>\n",
       "      <th>id</th>\n",
       "      <th></th>\n",
       "      <th></th>\n",
       "      <th></th>\n",
       "      <th></th>\n",
       "      <th></th>\n",
       "      <th></th>\n",
       "      <th></th>\n",
       "      <th></th>\n",
       "      <th></th>\n",
       "      <th></th>\n",
       "    </tr>\n",
       "  </thead>\n",
       "  <tbody>\n",
       "    <tr>\n",
       "      <th>33941</th>\n",
       "      <td>1wpjcCa5</td>\n",
       "      <td>hemoglobin--variants for which the chain carry...</td>\n",
       "      <td>MONDO:0007717</td>\n",
       "      <td>None</td>\n",
       "      <td>None</td>\n",
       "      <td>None</td>\n",
       "      <td>69</td>\n",
       "      <td>None</td>\n",
       "      <td>1</td>\n",
       "      <td>2024-09-12 12:22:56.435466+00:00</td>\n",
       "    </tr>\n",
       "    <tr>\n",
       "      <th>42811</th>\n",
       "      <td>2C05jMg9</td>\n",
       "      <td>sporadic adult-onset ataxia of unknown etiology</td>\n",
       "      <td>MONDO:0016591</td>\n",
       "      <td>None</td>\n",
       "      <td>SAOA|idiopathic late-onset cerebellar ataxia</td>\n",
       "      <td>Sporadic Adult-Onset Ataxia Of Unknown Etiolog...</td>\n",
       "      <td>69</td>\n",
       "      <td>None</td>\n",
       "      <td>1</td>\n",
       "      <td>2024-09-12 12:22:57.181985+00:00</td>\n",
       "    </tr>\n",
       "    <tr>\n",
       "      <th>42924</th>\n",
       "      <td>4sqESY3D</td>\n",
       "      <td>obsolete glial tumor of neuroepithelial tissue...</td>\n",
       "      <td>MONDO:0016704</td>\n",
       "      <td>None</td>\n",
       "      <td>None</td>\n",
       "      <td>None</td>\n",
       "      <td>69</td>\n",
       "      <td>None</td>\n",
       "      <td>1</td>\n",
       "      <td>2024-09-12 12:22:57.190972+00:00</td>\n",
       "    </tr>\n",
       "  </tbody>\n",
       "</table>\n",
       "</div>"
      ],
      "text/plain": [
       "            uid                                               name  \\\n",
       "id                                                                   \n",
       "33941  1wpjcCa5  hemoglobin--variants for which the chain carry...   \n",
       "42811  2C05jMg9    sporadic adult-onset ataxia of unknown etiology   \n",
       "42924  4sqESY3D  obsolete glial tumor of neuroepithelial tissue...   \n",
       "\n",
       "         ontology_id  abbr                                      synonyms  \\\n",
       "id                                                                         \n",
       "33941  MONDO:0007717  None                                          None   \n",
       "42811  MONDO:0016591  None  SAOA|idiopathic late-onset cerebellar ataxia   \n",
       "42924  MONDO:0016704  None                                          None   \n",
       "\n",
       "                                             description  source_id run_id  \\\n",
       "id                                                                           \n",
       "33941                                               None         69   None   \n",
       "42811  Sporadic Adult-Onset Ataxia Of Unknown Etiolog...         69   None   \n",
       "42924                                               None         69   None   \n",
       "\n",
       "       created_by_id                       updated_at  \n",
       "id                                                     \n",
       "33941              1 2024-09-12 12:22:56.435466+00:00  \n",
       "42811              1 2024-09-12 12:22:57.181985+00:00  \n",
       "42924              1 2024-09-12 12:22:57.190972+00:00  "
      ]
     },
     "metadata": {},
     "output_type": "display_data"
    }
   ],
   "source": [
    "# more straightforward\n",
    "populate_my_ontology(organisms=[\"NCBITaxon:9544\", \"NCBITaxon:9483\", \"NCBITaxon:10090\", \"NCBITaxon:9606\"])"
   ]
  },
  {
   "cell_type": "code",
   "execution_count": 22,
   "metadata": {},
   "outputs": [
    {
     "data": {
      "text/plain": [
       "[Disease(uid='4oYaDnBG', name='alopecia', ontology_id='MONDO:0004907', synonyms='alopecia|hair loss|loss Of hair', description='Hair Loss Usually From The Scalp. It May Result In Bald Spots Or Spread To The Entire Scalp Or The Entire Epidermis. It May Be Androgenetic Or Caused By Chemotherapeutic Agents, Compulsive Hair Pulling, Autoimmune Disorders Or Congenital Conditions.', created_by_id=1, source_id=69, updated_at='2024-09-12 12:22:56 UTC'),\n",
       " Disease(uid='1KQgvwK8', name='hereditary skin disorder', ontology_id='MONDO:0100118', synonyms='genodermatosis|diseases, genetic skin|skin disease, genetic|genetic skin diseases|disease, genetic skin|genetic skin disease', description='An Instance Of Skin Disease That Is Caused By A Modification Of The Individual'S Genome.', created_by_id=1, source_id=69, updated_at='2024-09-12 12:22:58 UTC')]"
      ]
     },
     "execution_count": 22,
     "metadata": {},
     "output_type": "execute_result"
    }
   ],
   "source": [
    "list(bt.Disease.filter(ontology_id=\"MONDO:0000005\").one().parents.filter())"
   ]
  },
  {
   "cell_type": "code",
   "execution_count": 23,
   "metadata": {},
   "outputs": [
    {
     "data": {
      "text/plain": [
       "array(['MONDO:0100118', 'MONDO:0004907'], dtype=object)"
      ]
     },
     "execution_count": 23,
     "metadata": {},
     "output_type": "execute_result"
    }
   ],
   "source": [
    "bt.Disease.public().df().loc[\"MONDO:0000005\"].parents"
   ]
  },
  {
   "cell_type": "markdown",
   "metadata": {},
   "source": [
    "# load the latest datasets / load datasets that were initially dropped"
   ]
  },
  {
   "cell_type": "code",
   "execution_count": 24,
   "metadata": {},
   "outputs": [
    {
     "data": {
      "text/plain": [
       "[Collection(uid='dMyEX3NTfKOEYXyMu591', version='2023-12-15', is_latest=False, name='cellxgene-census', hash='0NB32iVKG5ttaW5XILvG', visibility=1, created_by_id=1, transform_id=19, run_id=24, updated_at='2024-01-30 09:09:49 UTC'),\n",
       " Collection(uid='dMyEX3NTfKOEYXyMKDAQ', version='2023-07-25', is_latest=False, name='cellxgene-census', hash='pEJ9uvIeTLvHkZW2TBT5', visibility=1, created_by_id=1, transform_id=18, run_id=23, updated_at='2024-01-30 09:06:05 UTC'),\n",
       " Collection(uid='dMyEX3NTfKOEYXyMKDD7', version='2024-07-01', is_latest=True, name='cellxgene-census', hash='nI8Ag-HANeOpZOz-8CSn', visibility=1, created_by_id=1, transform_id=22, run_id=27, updated_at='2024-07-16 12:24:38 UTC')]"
      ]
     },
     "execution_count": 24,
     "metadata": {},
     "output_type": "execute_result"
    }
   ],
   "source": [
    "list(ln.Collection.using(instance=\"laminlabs/cellxgene\").filter(name=\"cellxgene-census\").all())"
   ]
  },
  {
   "cell_type": "code",
   "execution_count": 26,
   "metadata": {},
   "outputs": [
    {
     "name": "stdout",
     "output_type": "stream",
     "text": [
      "\u001b[93m!\u001b[0m no run & transform get linked, consider calling ln.context.track()\n"
     ]
    },
    {
     "data": {
      "text/plain": [
       "(Collection(uid='dMyEX3NTfKOEYXyMKDD7', version='2024-07-01', is_latest=True, name='cellxgene-census', hash='nI8Ag-HANeOpZOz-8CSn', visibility=1, created_by_id=1, transform_id=22, run_id=27, updated_at='2024-07-16 12:24:38 UTC'),\n",
       " 812)"
      ]
     },
     "execution_count": 26,
     "metadata": {},
     "output_type": "execute_result"
    }
   ],
   "source": [
    "cx_dataset = ln.Collection.using(instance=\"laminlabs/cellxgene\").filter(name=\"cellxgene-census\", version='2024-07-01').one()\n",
    "cx_dataset, len(cx_dataset.artifacts.all())"
   ]
  },
  {
   "cell_type": "code",
   "execution_count": null,
   "metadata": {},
   "outputs": [],
   "source": []
  }
 ],
 "metadata": {
  "kernelspec": {
   "display_name": "scprint",
   "language": "python",
   "name": "python3"
  },
  "language_info": {
   "codemirror_mode": {
    "name": "ipython",
    "version": 3
   },
   "file_extension": ".py",
   "mimetype": "text/x-python",
   "name": "python",
   "nbconvert_exporter": "python",
   "pygments_lexer": "ipython3",
   "version": "3.10.14"
  }
 },
 "nbformat": 4,
 "nbformat_minor": 2
}
