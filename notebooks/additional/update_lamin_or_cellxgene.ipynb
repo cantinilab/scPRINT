{
 "cells": [
  {
   "cell_type": "code",
   "execution_count": null,
   "metadata": {},
   "outputs": [],
   "source": [
    "# update lamindb and bionty..."
   ]
  },
  {
   "cell_type": "code",
   "execution_count": 1,
   "metadata": {},
   "outputs": [
    {
     "name": "stdout",
     "output_type": "stream",
     "text": [
      "\u001b[92m→\u001b[0m connected lamindb: jkobject/scprint\n",
      "\u001b[0m"
     ]
    }
   ],
   "source": [
    "! lamin load scprint"
   ]
  },
  {
   "cell_type": "code",
   "execution_count": 2,
   "metadata": {},
   "outputs": [
    {
     "name": "stdout",
     "output_type": "stream",
     "text": [
      "\u001b[36;1mOperations to perform:\u001b[0m\n",
      "\u001b[1m  Apply all migrations: \u001b[0mbionty, lnschema_core\n",
      "Running pre-migrate handlers for application lnschema_core\n",
      "Running pre-migrate handlers for application bionty\n",
      "\u001b[36;1mRunning migrations:\u001b[0m\n",
      "  Applying lnschema_core.0065_remove_collection_feature_sets_and_more...\u001b[32;1m OK (1.386s)\u001b[0m\n",
      "  Applying lnschema_core.0066_alter_artifact__feature_values_and_more...\u001b[32;1m OK (3.067s)\u001b[0m\n",
      "  Applying bionty.0038_alter_artifactcellline_created_by_and_more...\u001b[32;1m OK (4.517s)\u001b[0m\n",
      "  Applying bionty.0039_alter_cellline_source_alter_cellmarker_source_and_more...\u001b[32;1m OK (1.847s)\u001b[0m\n",
      "Running post-migrate handlers for application lnschema_core\n",
      "Running post-migrate handlers for application bionty\n"
     ]
    }
   ],
   "source": [
    "! lamin migrate deploy"
   ]
  },
  {
   "cell_type": "markdown",
   "metadata": {},
   "source": [
    "# we will check it works and reset the bionty sources"
   ]
  },
  {
   "cell_type": "code",
   "execution_count": 3,
   "metadata": {},
   "outputs": [
    {
     "name": "stdout",
     "output_type": "stream",
     "text": [
      "\u001b[92m→\u001b[0m connected lamindb: jkobject/scprint\n"
     ]
    }
   ],
   "source": [
    "import lamindb as ln\n",
    "import bionty as bt\n",
    "from scdataloader.utils import populate_my_ontology\n",
    "%load_ext autoreload\n",
    "%autoreload 2\n"
   ]
  },
  {
   "cell_type": "code",
   "execution_count": 4,
   "metadata": {},
   "outputs": [
    {
     "data": {
      "text/plain": [
       "937"
      ]
     },
     "execution_count": 4,
     "metadata": {},
     "output_type": "execute_result"
    }
   ],
   "source": [
    "len(ln.Artifact.filter())"
   ]
  },
  {
   "cell_type": "code",
   "execution_count": 6,
   "metadata": {},
   "outputs": [],
   "source": [
    "bt.base.reset_sources()"
   ]
  },
  {
   "cell_type": "code",
   "execution_count": 6,
   "metadata": {},
   "outputs": [
    {
     "name": "stdout",
     "output_type": "stream",
     "text": [
      "\u001b[93m!\u001b[0m please reload your instance to reflect the updates!\n"
     ]
    }
   ],
   "source": [
    "bt.core.sync_all_sources_to_latest()"
   ]
  },
  {
   "cell_type": "markdown",
   "metadata": {},
   "source": [
    "# load them in my personnal ontology"
   ]
  },
  {
   "cell_type": "code",
   "execution_count": 7,
   "metadata": {},
   "outputs": [
    {
     "data": {
      "text/html": [
       "<div>\n",
       "<style scoped>\n",
       "    .dataframe tbody tr th:only-of-type {\n",
       "        vertical-align: middle;\n",
       "    }\n",
       "\n",
       "    .dataframe tbody tr th {\n",
       "        vertical-align: top;\n",
       "    }\n",
       "\n",
       "    .dataframe thead th {\n",
       "        text-align: right;\n",
       "    }\n",
       "</style>\n",
       "<table border=\"1\" class=\"dataframe\">\n",
       "  <thead>\n",
       "    <tr style=\"text-align: right;\">\n",
       "      <th></th>\n",
       "      <th>name</th>\n",
       "      <th>definition</th>\n",
       "      <th>synonyms</th>\n",
       "      <th>parents</th>\n",
       "    </tr>\n",
       "    <tr>\n",
       "      <th>ontology_id</th>\n",
       "      <th></th>\n",
       "      <th></th>\n",
       "      <th></th>\n",
       "      <th></th>\n",
       "    </tr>\n",
       "  </thead>\n",
       "  <tbody>\n",
       "    <tr>\n",
       "      <th>CL:0000000</th>\n",
       "      <td>cell</td>\n",
       "      <td>A Material Entity Of Anatomical Origin (Part O...</td>\n",
       "      <td>None</td>\n",
       "      <td>[]</td>\n",
       "    </tr>\n",
       "    <tr>\n",
       "      <th>CL:0000001</th>\n",
       "      <td>primary cultured cell</td>\n",
       "      <td>A Cultured Cell That Is Freshly Isolated From ...</td>\n",
       "      <td>primary cell culture cell|unpassaged cultured ...</td>\n",
       "      <td>[CL:0000010]</td>\n",
       "    </tr>\n",
       "    <tr>\n",
       "      <th>CL:0000002</th>\n",
       "      <td>obsolete immortal cell line cell</td>\n",
       "      <td>Obsolete: A Cell Line Cell That Is Expected To...</td>\n",
       "      <td>permanent cell line cell|continuous cell line ...</td>\n",
       "      <td>[]</td>\n",
       "    </tr>\n",
       "    <tr>\n",
       "      <th>CL:0000003</th>\n",
       "      <td>obsolete native cell</td>\n",
       "      <td>Obsolete. A Cell That Is Found In A Natural Se...</td>\n",
       "      <td>None</td>\n",
       "      <td>[]</td>\n",
       "    </tr>\n",
       "    <tr>\n",
       "      <th>CL:0000004</th>\n",
       "      <td>obsolete cell by organism</td>\n",
       "      <td>Obsolete: A Classification Of Cells By The Org...</td>\n",
       "      <td>None</td>\n",
       "      <td>[]</td>\n",
       "    </tr>\n",
       "    <tr>\n",
       "      <th>...</th>\n",
       "      <td>...</td>\n",
       "      <td>...</td>\n",
       "      <td>...</td>\n",
       "      <td>...</td>\n",
       "    </tr>\n",
       "    <tr>\n",
       "      <th>CL:4042007</th>\n",
       "      <td>protoplasmic astrocyte</td>\n",
       "      <td>An Astrocyte With Highly Branched Protrusions,...</td>\n",
       "      <td>None</td>\n",
       "      <td>[CL:0000029, CL:0002605, CL:0010012]</td>\n",
       "    </tr>\n",
       "    <tr>\n",
       "      <th>CL:4042008</th>\n",
       "      <td>fibrous astrocyte</td>\n",
       "      <td>A Cell Type Located In The First Layer Of The ...</td>\n",
       "      <td>None</td>\n",
       "      <td>[CL:0000029, CL:2000029, CL:0000127]</td>\n",
       "    </tr>\n",
       "    <tr>\n",
       "      <th>CL:4042009</th>\n",
       "      <td>interlaminar astrocyte</td>\n",
       "      <td>An Astrocyte Type That Presents Radial Protrus...</td>\n",
       "      <td>None</td>\n",
       "      <td>[CL:0000029, CL:0002605, CL:0010012]</td>\n",
       "    </tr>\n",
       "    <tr>\n",
       "      <th>CL:4042010</th>\n",
       "      <td>pial interlaminar astrocyte</td>\n",
       "      <td>An Interlaminar Astrocyte Whose Soma Is Part O...</td>\n",
       "      <td>None</td>\n",
       "      <td>[CL:4042009]</td>\n",
       "    </tr>\n",
       "    <tr>\n",
       "      <th>CL:4042011</th>\n",
       "      <td>subpial interlaminar astrocyte</td>\n",
       "      <td>An Interlaminar Astrocyte Type Whose Soma Is P...</td>\n",
       "      <td>None</td>\n",
       "      <td>[CL:4042009]</td>\n",
       "    </tr>\n",
       "  </tbody>\n",
       "</table>\n",
       "<p>2931 rows × 4 columns</p>\n",
       "</div>"
      ],
      "text/plain": [
       "                                         name  \\\n",
       "ontology_id                                     \n",
       "CL:0000000                               cell   \n",
       "CL:0000001              primary cultured cell   \n",
       "CL:0000002   obsolete immortal cell line cell   \n",
       "CL:0000003               obsolete native cell   \n",
       "CL:0000004          obsolete cell by organism   \n",
       "...                                       ...   \n",
       "CL:4042007             protoplasmic astrocyte   \n",
       "CL:4042008                  fibrous astrocyte   \n",
       "CL:4042009             interlaminar astrocyte   \n",
       "CL:4042010        pial interlaminar astrocyte   \n",
       "CL:4042011     subpial interlaminar astrocyte   \n",
       "\n",
       "                                                    definition  \\\n",
       "ontology_id                                                      \n",
       "CL:0000000   A Material Entity Of Anatomical Origin (Part O...   \n",
       "CL:0000001   A Cultured Cell That Is Freshly Isolated From ...   \n",
       "CL:0000002   Obsolete: A Cell Line Cell That Is Expected To...   \n",
       "CL:0000003   Obsolete. A Cell That Is Found In A Natural Se...   \n",
       "CL:0000004   Obsolete: A Classification Of Cells By The Org...   \n",
       "...                                                        ...   \n",
       "CL:4042007   An Astrocyte With Highly Branched Protrusions,...   \n",
       "CL:4042008   A Cell Type Located In The First Layer Of The ...   \n",
       "CL:4042009   An Astrocyte Type That Presents Radial Protrus...   \n",
       "CL:4042010   An Interlaminar Astrocyte Whose Soma Is Part O...   \n",
       "CL:4042011   An Interlaminar Astrocyte Type Whose Soma Is P...   \n",
       "\n",
       "                                                      synonyms  \\\n",
       "ontology_id                                                      \n",
       "CL:0000000                                                None   \n",
       "CL:0000001   primary cell culture cell|unpassaged cultured ...   \n",
       "CL:0000002   permanent cell line cell|continuous cell line ...   \n",
       "CL:0000003                                                None   \n",
       "CL:0000004                                                None   \n",
       "...                                                        ...   \n",
       "CL:4042007                                                None   \n",
       "CL:4042008                                                None   \n",
       "CL:4042009                                                None   \n",
       "CL:4042010                                                None   \n",
       "CL:4042011                                                None   \n",
       "\n",
       "                                          parents  \n",
       "ontology_id                                        \n",
       "CL:0000000                                     []  \n",
       "CL:0000001                           [CL:0000010]  \n",
       "CL:0000002                                     []  \n",
       "CL:0000003                                     []  \n",
       "CL:0000004                                     []  \n",
       "...                                           ...  \n",
       "CL:4042007   [CL:0000029, CL:0002605, CL:0010012]  \n",
       "CL:4042008   [CL:0000029, CL:2000029, CL:0000127]  \n",
       "CL:4042009   [CL:0000029, CL:0002605, CL:0010012]  \n",
       "CL:4042010                           [CL:4042009]  \n",
       "CL:4042011                           [CL:4042009]  \n",
       "\n",
       "[2931 rows x 4 columns]"
      ]
     },
     "execution_count": 7,
     "metadata": {},
     "output_type": "execute_result"
    }
   ],
   "source": [
    "names = bt.CellType.public().df()\n",
    "names"
   ]
  },
  {
   "cell_type": "code",
   "execution_count": 48,
   "metadata": {},
   "outputs": [
    {
     "name": "stdout",
     "output_type": "stream",
     "text": [
      "\u001b[92m→\u001b[0m returning existing Organism record with same name: 'unknown'\n"
     ]
    }
   ],
   "source": [
    "populate_my_ontology(organisms=[\"NCBITaxon:9544\", \"NCBITaxon:9483\", \"NCBITaxon:10090\", \"NCBITaxon:9606\"])"
   ]
  },
  {
   "cell_type": "code",
   "execution_count": 61,
   "metadata": {},
   "outputs": [],
   "source": [
    "bt.Tissue.import_from_source() \n",
    "bt.DevelopmentalStage.import_from_source() "
   ]
  },
  {
   "cell_type": "code",
   "execution_count": 62,
   "metadata": {},
   "outputs": [
    {
     "data": {
      "text/plain": [
       "name                                        intra-acinar venule\n",
       "definition    A Venule That Receives Drainage From The Capil...\n",
       "synonyms                                                   None\n",
       "parents        [UBERON:8600024, UBERON:0008874, UBERON:0010369]\n",
       "Name: UBERON:8600061, dtype: object"
      ]
     },
     "execution_count": 62,
     "metadata": {},
     "output_type": "execute_result"
    }
   ],
   "source": [
    "bt.Tissue.public().df().loc[\"UBERON:8600061\"]"
   ]
  },
  {
   "cell_type": "code",
   "execution_count": 64,
   "metadata": {},
   "outputs": [],
   "source": [
    "names = bt.Tissue.public().df().index\n",
    "records = bt.Tissue.from_values(names, field=\"ontology_id\")\n",
    "ln.save(records)\n",
    "#bt.Tissue(name=\"unknown\", ontology_id=\"unknown\").save()"
   ]
  },
  {
   "cell_type": "code",
   "execution_count": 66,
   "metadata": {},
   "outputs": [
    {
     "data": {
      "image/svg+xml": [
       "<?xml version=\"1.0\" encoding=\"UTF-8\" standalone=\"no\"?>\n",
       "<!DOCTYPE svg PUBLIC \"-//W3C//DTD SVG 1.1//EN\"\n",
       " \"http://www.w3.org/Graphics/SVG/1.1/DTD/svg11.dtd\">\n",
       "<!-- Generated by graphviz version 2.43.0 (0)\n",
       " -->\n",
       "<!-- Title: 1BNq2HpI Pages: 1 -->\n",
       "<svg width=\"117pt\" height=\"116pt\"\n",
       " viewBox=\"0.00 0.00 117.00 116.00\" xmlns=\"http://www.w3.org/2000/svg\" xmlns:xlink=\"http://www.w3.org/1999/xlink\">\n",
       "<g id=\"graph0\" class=\"graph\" transform=\"scale(1 1) rotate(0) translate(4 112)\">\n",
       "<title>1BNq2HpI</title>\n",
       "<polygon fill=\"white\" stroke=\"transparent\" points=\"-4,4 -4,-112 113,-112 113,4 -4,4\"/>\n",
       "<!-- 1BNq2HpI -->\n",
       "<g id=\"node1\" class=\"node\">\n",
       "<title>1BNq2HpI</title>\n",
       "<path fill=\"#10b981\" stroke=\"#065f46\" d=\"M97,-36C97,-36 12,-36 12,-36 6,-36 0,-30 0,-24 0,-24 0,-12 0,-12 0,-6 6,0 12,0 12,0 97,0 97,0 103,0 109,-6 109,-12 109,-12 109,-24 109,-24 109,-30 103,-36 97,-36\"/>\n",
       "<text text-anchor=\"start\" x=\"8\" y=\"-21\" font-family=\"Helvetica,sans-Serif\" font-size=\"10.00\">intra&#45;acinar venule</text>\n",
       "<text text-anchor=\"start\" x=\"18\" y=\"-11\" font-family=\"Monospace\" font-size=\"10.00\" fill=\"GREY\">uid=1BNq2HpI</text>\n",
       "</g>\n",
       "<!-- 6XhlhdZp -->\n",
       "<g id=\"node2\" class=\"node\">\n",
       "<title>6XhlhdZp</title>\n",
       "<path fill=\"honeydew\" stroke=\"#065f46\" d=\"M95,-108C95,-108 14,-108 14,-108 8,-108 2,-102 2,-96 2,-96 2,-84 2,-84 2,-78 8,-72 14,-72 14,-72 95,-72 95,-72 101,-72 107,-78 107,-84 107,-84 107,-96 107,-96 107,-102 101,-108 95,-108\"/>\n",
       "<text text-anchor=\"start\" x=\"10\" y=\"-93\" font-family=\"Helvetica,sans-Serif\" font-size=\"10.00\">pulmonary venule</text>\n",
       "<text text-anchor=\"start\" x=\"18\" y=\"-83\" font-family=\"Monospace\" font-size=\"10.00\" fill=\"GREY\">uid=6XhlhdZp</text>\n",
       "</g>\n",
       "<!-- 6XhlhdZp&#45;&gt;1BNq2HpI -->\n",
       "<g id=\"edge1\" class=\"edge\">\n",
       "<title>6XhlhdZp&#45;&gt;1BNq2HpI</title>\n",
       "<path fill=\"none\" stroke=\"dimgrey\" d=\"M54.5,-71.7C54.5,-62.46 54.5,-50.98 54.5,-41.11\"/>\n",
       "<polygon fill=\"dimgrey\" stroke=\"dimgrey\" points=\"56.25,-41.1 54.5,-36.1 52.75,-41.1 56.25,-41.1\"/>\n",
       "</g>\n",
       "</g>\n",
       "</svg>\n"
      ]
     },
     "metadata": {},
     "output_type": "display_data"
    }
   ],
   "source": [
    "bt.Tissue.filter(ontology_id=\"UBERON:8600061\").one().view_parents()"
   ]
  },
  {
   "cell_type": "code",
   "execution_count": 68,
   "metadata": {},
   "outputs": [
    {
     "data": {
      "image/svg+xml": [
       "<?xml version=\"1.0\" encoding=\"UTF-8\" standalone=\"no\"?>\n",
       "<!DOCTYPE svg PUBLIC \"-//W3C//DTD SVG 1.1//EN\"\n",
       " \"http://www.w3.org/Graphics/SVG/1.1/DTD/svg11.dtd\">\n",
       "<!-- Generated by graphviz version 2.43.0 (0)\n",
       " -->\n",
       "<!-- Title: 1BNq2HpI Pages: 1 -->\n",
       "<svg width=\"117pt\" height=\"116pt\"\n",
       " viewBox=\"0.00 0.00 117.00 116.00\" xmlns=\"http://www.w3.org/2000/svg\" xmlns:xlink=\"http://www.w3.org/1999/xlink\">\n",
       "<g id=\"graph0\" class=\"graph\" transform=\"scale(1 1) rotate(0) translate(4 112)\">\n",
       "<title>1BNq2HpI</title>\n",
       "<polygon fill=\"white\" stroke=\"transparent\" points=\"-4,4 -4,-112 113,-112 113,4 -4,4\"/>\n",
       "<!-- 1BNq2HpI -->\n",
       "<g id=\"node1\" class=\"node\">\n",
       "<title>1BNq2HpI</title>\n",
       "<path fill=\"#10b981\" stroke=\"#065f46\" d=\"M97,-36C97,-36 12,-36 12,-36 6,-36 0,-30 0,-24 0,-24 0,-12 0,-12 0,-6 6,0 12,0 12,0 97,0 97,0 103,0 109,-6 109,-12 109,-12 109,-24 109,-24 109,-30 103,-36 97,-36\"/>\n",
       "<text text-anchor=\"start\" x=\"8\" y=\"-21\" font-family=\"Helvetica,sans-Serif\" font-size=\"10.00\">intra&#45;acinar venule</text>\n",
       "<text text-anchor=\"start\" x=\"18\" y=\"-11\" font-family=\"Monospace\" font-size=\"10.00\" fill=\"GREY\">uid=1BNq2HpI</text>\n",
       "</g>\n",
       "<!-- 6XhlhdZp -->\n",
       "<g id=\"node2\" class=\"node\">\n",
       "<title>6XhlhdZp</title>\n",
       "<path fill=\"honeydew\" stroke=\"#065f46\" d=\"M95,-108C95,-108 14,-108 14,-108 8,-108 2,-102 2,-96 2,-96 2,-84 2,-84 2,-78 8,-72 14,-72 14,-72 95,-72 95,-72 101,-72 107,-78 107,-84 107,-84 107,-96 107,-96 107,-102 101,-108 95,-108\"/>\n",
       "<text text-anchor=\"start\" x=\"10\" y=\"-93\" font-family=\"Helvetica,sans-Serif\" font-size=\"10.00\">pulmonary venule</text>\n",
       "<text text-anchor=\"start\" x=\"18\" y=\"-83\" font-family=\"Monospace\" font-size=\"10.00\" fill=\"GREY\">uid=6XhlhdZp</text>\n",
       "</g>\n",
       "<!-- 6XhlhdZp&#45;&gt;1BNq2HpI -->\n",
       "<g id=\"edge1\" class=\"edge\">\n",
       "<title>6XhlhdZp&#45;&gt;1BNq2HpI</title>\n",
       "<path fill=\"none\" stroke=\"dimgrey\" d=\"M54.5,-71.7C54.5,-62.46 54.5,-50.98 54.5,-41.11\"/>\n",
       "<polygon fill=\"dimgrey\" stroke=\"dimgrey\" points=\"56.25,-41.1 54.5,-36.1 52.75,-41.1 56.25,-41.1\"/>\n",
       "</g>\n",
       "</g>\n",
       "</svg>\n"
      ]
     },
     "metadata": {},
     "output_type": "display_data"
    }
   ],
   "source": [
    "bt.Tissue.from_values([\"UBERON:8600061\"], field=\"ontology_id\")[0].view_parents()"
   ]
  },
  {
   "cell_type": "code",
   "execution_count": 72,
   "metadata": {},
   "outputs": [
    {
     "data": {
      "text/plain": [
       "array(['UBERON:8600024', 'UBERON:0008874', 'UBERON:0010369'], dtype=object)"
      ]
     },
     "execution_count": 72,
     "metadata": {},
     "output_type": "execute_result"
    }
   ],
   "source": [
    "bt.Tissue.public().df().loc[\"UBERON:8600061\"].parents"
   ]
  },
  {
   "cell_type": "code",
   "execution_count": 65,
   "metadata": {},
   "outputs": [
    {
     "data": {
      "text/html": [
       "<div>\n",
       "<style scoped>\n",
       "    .dataframe tbody tr th:only-of-type {\n",
       "        vertical-align: middle;\n",
       "    }\n",
       "\n",
       "    .dataframe tbody tr th {\n",
       "        vertical-align: top;\n",
       "    }\n",
       "\n",
       "    .dataframe thead th {\n",
       "        text-align: right;\n",
       "    }\n",
       "</style>\n",
       "<table border=\"1\" class=\"dataframe\">\n",
       "  <thead>\n",
       "    <tr style=\"text-align: right;\">\n",
       "      <th></th>\n",
       "      <th>parents__ontology_id</th>\n",
       "      <th>uid</th>\n",
       "      <th>name</th>\n",
       "      <th>ontology_id</th>\n",
       "      <th>abbr</th>\n",
       "      <th>synonyms</th>\n",
       "      <th>description</th>\n",
       "      <th>source_id</th>\n",
       "      <th>run_id</th>\n",
       "      <th>created_by_id</th>\n",
       "      <th>updated_at</th>\n",
       "    </tr>\n",
       "  </thead>\n",
       "  <tbody>\n",
       "    <tr>\n",
       "      <th>27</th>\n",
       "      <td>[UBERON:0001560, UBERON:0005156]</td>\n",
       "      <td>20geV8TQ</td>\n",
       "      <td>uterine cervix</td>\n",
       "      <td>UBERON:0000002</td>\n",
       "      <td>None</td>\n",
       "      <td>neck of uterus|uterine cervix|cervical canal o...</td>\n",
       "      <td>Lower, Narrow Portion Of The Uterus Where It J...</td>\n",
       "      <td>24.0</td>\n",
       "      <td>None</td>\n",
       "      <td>1</td>\n",
       "      <td>2023-11-22 12:56:57.143896+00:00</td>\n",
       "    </tr>\n",
       "    <tr>\n",
       "      <th>28</th>\n",
       "      <td>[UBERON:0004121, UBERON:0002268, UBERON:001031...</td>\n",
       "      <td>7adwnYzJ</td>\n",
       "      <td>nose</td>\n",
       "      <td>UBERON:0000004</td>\n",
       "      <td>None</td>\n",
       "      <td>nasal sac|peripheral olfactory organ|nose</td>\n",
       "      <td>The Olfactory Organ Of Vertebrates, Consisting...</td>\n",
       "      <td>24.0</td>\n",
       "      <td>None</td>\n",
       "      <td>1</td>\n",
       "      <td>2023-11-22 12:56:57.143959+00:00</td>\n",
       "    </tr>\n",
       "    <tr>\n",
       "      <th>29</th>\n",
       "      <td>[UBERON:0004119, UBERON:0034922]</td>\n",
       "      <td>1H8ChOUN</td>\n",
       "      <td>islet of Langerhans</td>\n",
       "      <td>UBERON:0000006</td>\n",
       "      <td>None</td>\n",
       "      <td>pancreatic insula|pancreatic islet</td>\n",
       "      <td>The Clusters Of Hormone-Producing Cells That A...</td>\n",
       "      <td>24.0</td>\n",
       "      <td>None</td>\n",
       "      <td>1</td>\n",
       "      <td>2023-11-22 12:56:57.144013+00:00</td>\n",
       "    </tr>\n",
       "    <tr>\n",
       "      <th>30</th>\n",
       "      <td>[UBERON:0004121, UBERON:0034944]</td>\n",
       "      <td>4At9Dys5</td>\n",
       "      <td>zone of skin</td>\n",
       "      <td>UBERON:0000014</td>\n",
       "      <td>None</td>\n",
       "      <td>skin|skin region|portion of skin|skin zone|reg...</td>\n",
       "      <td>Any Portion Of The Organ That Covers That Body...</td>\n",
       "      <td>24.0</td>\n",
       "      <td>None</td>\n",
       "      <td>1</td>\n",
       "      <td>2023-11-22 12:56:57.144065+00:00</td>\n",
       "    </tr>\n",
       "    <tr>\n",
       "      <th>31</th>\n",
       "      <td>[UBERON:0004119, UBERON:0000471]</td>\n",
       "      <td>6Pa15wyu</td>\n",
       "      <td>endocrine pancreas</td>\n",
       "      <td>UBERON:0000016</td>\n",
       "      <td>None</td>\n",
       "      <td>endocrine pancreas|pars endocrina pancreatis</td>\n",
       "      <td>The Part Of The Pancreas That Is Part Of The E...</td>\n",
       "      <td>24.0</td>\n",
       "      <td>None</td>\n",
       "      <td>1</td>\n",
       "      <td>2023-11-22 12:56:57.144116+00:00</td>\n",
       "    </tr>\n",
       "    <tr>\n",
       "      <th>...</th>\n",
       "      <td>...</td>\n",
       "      <td>...</td>\n",
       "      <td>...</td>\n",
       "      <td>...</td>\n",
       "      <td>...</td>\n",
       "      <td>...</td>\n",
       "      <td>...</td>\n",
       "      <td>...</td>\n",
       "      <td>...</td>\n",
       "      <td>...</td>\n",
       "      <td>...</td>\n",
       "    </tr>\n",
       "    <tr>\n",
       "      <th>15571</th>\n",
       "      <td>[UBERON:8600030]</td>\n",
       "      <td>2Odu6v1J</td>\n",
       "      <td>chorionic terminal villous capillary</td>\n",
       "      <td>UBERON:8600041</td>\n",
       "      <td>None</td>\n",
       "      <td>None</td>\n",
       "      <td>A Capillary That Is Part Of A Chorionic Termin...</td>\n",
       "      <td>96.0</td>\n",
       "      <td>None</td>\n",
       "      <td>1</td>\n",
       "      <td>2024-09-09 10:50:12.721936+00:00</td>\n",
       "    </tr>\n",
       "    <tr>\n",
       "      <th>15574</th>\n",
       "      <td>[UBERON:8600043]</td>\n",
       "      <td>3y3Ugd1z</td>\n",
       "      <td>left lateral wall of urinary bladder</td>\n",
       "      <td>UBERON:8600044</td>\n",
       "      <td>None</td>\n",
       "      <td>left wall of urinary bladder</td>\n",
       "      <td>A Lateral Wall Of The Urinary Bladder That Is ...</td>\n",
       "      <td>96.0</td>\n",
       "      <td>None</td>\n",
       "      <td>1</td>\n",
       "      <td>2024-09-09 10:50:12.722297+00:00</td>\n",
       "    </tr>\n",
       "    <tr>\n",
       "      <th>15575</th>\n",
       "      <td>[UBERON:8600043]</td>\n",
       "      <td>3RQjC3wG</td>\n",
       "      <td>right lateral wall of urinary bladder</td>\n",
       "      <td>UBERON:8600045</td>\n",
       "      <td>None</td>\n",
       "      <td>right wall of urinary bladder</td>\n",
       "      <td>A Lateral Wall Of The Urinary Bladder That Is ...</td>\n",
       "      <td>96.0</td>\n",
       "      <td>None</td>\n",
       "      <td>1</td>\n",
       "      <td>2024-09-09 10:50:12.722417+00:00</td>\n",
       "    </tr>\n",
       "    <tr>\n",
       "      <th>15591</th>\n",
       "      <td>[UBERON:8600024]</td>\n",
       "      <td>1BNq2HpI</td>\n",
       "      <td>intra-acinar venule</td>\n",
       "      <td>UBERON:8600061</td>\n",
       "      <td>None</td>\n",
       "      <td>None</td>\n",
       "      <td>A Venule That Receives Drainage From The Capil...</td>\n",
       "      <td>96.0</td>\n",
       "      <td>None</td>\n",
       "      <td>1</td>\n",
       "      <td>2024-09-09 10:50:12.724339+00:00</td>\n",
       "    </tr>\n",
       "    <tr>\n",
       "      <th>15597</th>\n",
       "      <td>[UBERON:8600024]</td>\n",
       "      <td>HNELNNmR</td>\n",
       "      <td>bronchial venule</td>\n",
       "      <td>UBERON:8600067</td>\n",
       "      <td>None</td>\n",
       "      <td>None</td>\n",
       "      <td>A Venule That Is Tributary Of The Bronchial Ve...</td>\n",
       "      <td>96.0</td>\n",
       "      <td>None</td>\n",
       "      <td>1</td>\n",
       "      <td>2024-09-09 10:50:12.725057+00:00</td>\n",
       "    </tr>\n",
       "  </tbody>\n",
       "</table>\n",
       "<p>566 rows × 11 columns</p>\n",
       "</div>"
      ],
      "text/plain": [
       "                                    parents__ontology_id       uid  \\\n",
       "27                      [UBERON:0001560, UBERON:0005156]  20geV8TQ   \n",
       "28     [UBERON:0004121, UBERON:0002268, UBERON:001031...  7adwnYzJ   \n",
       "29                      [UBERON:0004119, UBERON:0034922]  1H8ChOUN   \n",
       "30                      [UBERON:0004121, UBERON:0034944]  4At9Dys5   \n",
       "31                      [UBERON:0004119, UBERON:0000471]  6Pa15wyu   \n",
       "...                                                  ...       ...   \n",
       "15571                                   [UBERON:8600030]  2Odu6v1J   \n",
       "15574                                   [UBERON:8600043]  3y3Ugd1z   \n",
       "15575                                   [UBERON:8600043]  3RQjC3wG   \n",
       "15591                                   [UBERON:8600024]  1BNq2HpI   \n",
       "15597                                   [UBERON:8600024]  HNELNNmR   \n",
       "\n",
       "                                        name     ontology_id  abbr  \\\n",
       "27                            uterine cervix  UBERON:0000002  None   \n",
       "28                                      nose  UBERON:0000004  None   \n",
       "29                       islet of Langerhans  UBERON:0000006  None   \n",
       "30                              zone of skin  UBERON:0000014  None   \n",
       "31                        endocrine pancreas  UBERON:0000016  None   \n",
       "...                                      ...             ...   ...   \n",
       "15571   chorionic terminal villous capillary  UBERON:8600041  None   \n",
       "15574   left lateral wall of urinary bladder  UBERON:8600044  None   \n",
       "15575  right lateral wall of urinary bladder  UBERON:8600045  None   \n",
       "15591                    intra-acinar venule  UBERON:8600061  None   \n",
       "15597                       bronchial venule  UBERON:8600067  None   \n",
       "\n",
       "                                                synonyms  \\\n",
       "27     neck of uterus|uterine cervix|cervical canal o...   \n",
       "28             nasal sac|peripheral olfactory organ|nose   \n",
       "29                    pancreatic insula|pancreatic islet   \n",
       "30     skin|skin region|portion of skin|skin zone|reg...   \n",
       "31          endocrine pancreas|pars endocrina pancreatis   \n",
       "...                                                  ...   \n",
       "15571                                               None   \n",
       "15574                       left wall of urinary bladder   \n",
       "15575                      right wall of urinary bladder   \n",
       "15591                                               None   \n",
       "15597                                               None   \n",
       "\n",
       "                                             description  source_id run_id  \\\n",
       "27     Lower, Narrow Portion Of The Uterus Where It J...       24.0   None   \n",
       "28     The Olfactory Organ Of Vertebrates, Consisting...       24.0   None   \n",
       "29     The Clusters Of Hormone-Producing Cells That A...       24.0   None   \n",
       "30     Any Portion Of The Organ That Covers That Body...       24.0   None   \n",
       "31     The Part Of The Pancreas That Is Part Of The E...       24.0   None   \n",
       "...                                                  ...        ...    ...   \n",
       "15571  A Capillary That Is Part Of A Chorionic Termin...       96.0   None   \n",
       "15574  A Lateral Wall Of The Urinary Bladder That Is ...       96.0   None   \n",
       "15575  A Lateral Wall Of The Urinary Bladder That Is ...       96.0   None   \n",
       "15591  A Venule That Receives Drainage From The Capil...       96.0   None   \n",
       "15597  A Venule That Is Tributary Of The Bronchial Ve...       96.0   None   \n",
       "\n",
       "       created_by_id                       updated_at  \n",
       "27                 1 2023-11-22 12:56:57.143896+00:00  \n",
       "28                 1 2023-11-22 12:56:57.143959+00:00  \n",
       "29                 1 2023-11-22 12:56:57.144013+00:00  \n",
       "30                 1 2023-11-22 12:56:57.144065+00:00  \n",
       "31                 1 2023-11-22 12:56:57.144116+00:00  \n",
       "...              ...                              ...  \n",
       "15571              1 2024-09-09 10:50:12.721936+00:00  \n",
       "15574              1 2024-09-09 10:50:12.722297+00:00  \n",
       "15575              1 2024-09-09 10:50:12.722417+00:00  \n",
       "15591              1 2024-09-09 10:50:12.724339+00:00  \n",
       "15597              1 2024-09-09 10:50:12.725057+00:00  \n",
       "\n",
       "[566 rows x 11 columns]"
      ]
     },
     "execution_count": 65,
     "metadata": {},
     "output_type": "execute_result"
    }
   ],
   "source": [
    "bt.Tissue.filter().df(include=[\"parents__ontology_id\"])"
   ]
  },
  {
   "cell_type": "code",
   "execution_count": 11,
   "metadata": {},
   "outputs": [
    {
     "ename": "ProtectedError",
     "evalue": "(\"Cannot delete some instances of model 'DevelopmentalStage' because they are referenced through protected foreign keys: 'ArtifactDevelopmentalStage.developmentalstage'.\", {ArtifactDevelopmentalStage(created_by_id=1, artifact_id=13, developmentalstage_id=1), ArtifactDevelopmentalStage(created_by_id=1, artifact_id=1, developmentalstage_id=1), ArtifactDevelopmentalStage(created_by_id=1, artifact_id=4, developmentalstage_id=1)})",
     "output_type": "error",
     "traceback": [
      "\u001b[0;31m---------------------------------------------------------------------------\u001b[0m",
      "\u001b[0;31mProtectedError\u001b[0m                            Traceback (most recent call last)",
      "Cell \u001b[0;32mIn[11], line 1\u001b[0m\n\u001b[0;32m----> 1\u001b[0m [i\u001b[38;5;241m.\u001b[39mdelete() \u001b[38;5;28;01mfor\u001b[39;00m i \u001b[38;5;129;01min\u001b[39;00m bt\u001b[38;5;241m.\u001b[39mDevelopmentalStage\u001b[38;5;241m.\u001b[39mfilter()]\n",
      "Cell \u001b[0;32mIn[11], line 1\u001b[0m, in \u001b[0;36m<listcomp>\u001b[0;34m(.0)\u001b[0m\n\u001b[0;32m----> 1\u001b[0m [\u001b[43mi\u001b[49m\u001b[38;5;241;43m.\u001b[39;49m\u001b[43mdelete\u001b[49m\u001b[43m(\u001b[49m\u001b[43m)\u001b[49m \u001b[38;5;28;01mfor\u001b[39;00m i \u001b[38;5;129;01min\u001b[39;00m bt\u001b[38;5;241m.\u001b[39mDevelopmentalStage\u001b[38;5;241m.\u001b[39mfilter()]\n",
      "File \u001b[0;32m~/miniconda3/envs/scprint/lib/python3.10/site-packages/lamindb/_record.py:623\u001b[0m, in \u001b[0;36mdelete\u001b[0;34m(self)\u001b[0m\n\u001b[1;32m    621\u001b[0m         logger\u001b[38;5;241m.\u001b[39mwarning(\u001b[38;5;124mf\u001b[39m\u001b[38;5;124m\"\u001b[39m\u001b[38;5;124mnew latest version is \u001b[39m\u001b[38;5;132;01m{\u001b[39;00mnew_latest\u001b[38;5;132;01m}\u001b[39;00m\u001b[38;5;124m\"\u001b[39m)\n\u001b[1;32m    622\u001b[0m         \u001b[38;5;28;01mreturn\u001b[39;00m \u001b[38;5;28;01mNone\u001b[39;00m\n\u001b[0;32m--> 623\u001b[0m \u001b[38;5;28;43msuper\u001b[39;49m\u001b[43m(\u001b[49m\u001b[43mRecord\u001b[49m\u001b[43m,\u001b[49m\u001b[43m \u001b[49m\u001b[38;5;28;43mself\u001b[39;49m\u001b[43m)\u001b[49m\u001b[38;5;241;43m.\u001b[39;49m\u001b[43mdelete\u001b[49m\u001b[43m(\u001b[49m\u001b[43m)\u001b[49m\n",
      "File \u001b[0;32m~/miniconda3/envs/scprint/lib/python3.10/site-packages/django/db/models/base.py:1182\u001b[0m, in \u001b[0;36mModel.delete\u001b[0;34m(self, using, keep_parents)\u001b[0m\n\u001b[1;32m   1180\u001b[0m using \u001b[38;5;241m=\u001b[39m using \u001b[38;5;129;01mor\u001b[39;00m router\u001b[38;5;241m.\u001b[39mdb_for_write(\u001b[38;5;28mself\u001b[39m\u001b[38;5;241m.\u001b[39m\u001b[38;5;18m__class__\u001b[39m, instance\u001b[38;5;241m=\u001b[39m\u001b[38;5;28mself\u001b[39m)\n\u001b[1;32m   1181\u001b[0m collector \u001b[38;5;241m=\u001b[39m Collector(using\u001b[38;5;241m=\u001b[39musing, origin\u001b[38;5;241m=\u001b[39m\u001b[38;5;28mself\u001b[39m)\n\u001b[0;32m-> 1182\u001b[0m \u001b[43mcollector\u001b[49m\u001b[38;5;241;43m.\u001b[39;49m\u001b[43mcollect\u001b[49m\u001b[43m(\u001b[49m\u001b[43m[\u001b[49m\u001b[38;5;28;43mself\u001b[39;49m\u001b[43m]\u001b[49m\u001b[43m,\u001b[49m\u001b[43m \u001b[49m\u001b[43mkeep_parents\u001b[49m\u001b[38;5;241;43m=\u001b[39;49m\u001b[43mkeep_parents\u001b[49m\u001b[43m)\u001b[49m\n\u001b[1;32m   1183\u001b[0m \u001b[38;5;28;01mreturn\u001b[39;00m collector\u001b[38;5;241m.\u001b[39mdelete()\n",
      "File \u001b[0;32m~/miniconda3/envs/scprint/lib/python3.10/site-packages/django/db/models/deletion.py:355\u001b[0m, in \u001b[0;36mCollector.collect\u001b[0;34m(self, objs, source, nullable, collect_related, source_attr, reverse_dependency, keep_parents, fail_on_restricted)\u001b[0m\n\u001b[1;32m    353\u001b[0m                 protected_objects[key] \u001b[38;5;241m+\u001b[39m\u001b[38;5;241m=\u001b[39m error\u001b[38;5;241m.\u001b[39mprotected_objects\n\u001b[1;32m    354\u001b[0m \u001b[38;5;28;01mif\u001b[39;00m protected_objects:\n\u001b[0;32m--> 355\u001b[0m     \u001b[38;5;28;01mraise\u001b[39;00m ProtectedError(\n\u001b[1;32m    356\u001b[0m         \u001b[38;5;124m\"\u001b[39m\u001b[38;5;124mCannot delete some instances of model \u001b[39m\u001b[38;5;132;01m%r\u001b[39;00m\u001b[38;5;124m because they are \u001b[39m\u001b[38;5;124m\"\u001b[39m\n\u001b[1;32m    357\u001b[0m         \u001b[38;5;124m\"\u001b[39m\u001b[38;5;124mreferenced through protected foreign keys: \u001b[39m\u001b[38;5;132;01m%s\u001b[39;00m\u001b[38;5;124m.\u001b[39m\u001b[38;5;124m\"\u001b[39m\n\u001b[1;32m    358\u001b[0m         \u001b[38;5;241m%\u001b[39m (\n\u001b[1;32m    359\u001b[0m             model\u001b[38;5;241m.\u001b[39m\u001b[38;5;18m__name__\u001b[39m,\n\u001b[1;32m    360\u001b[0m             \u001b[38;5;124m\"\u001b[39m\u001b[38;5;124m, \u001b[39m\u001b[38;5;124m\"\u001b[39m\u001b[38;5;241m.\u001b[39mjoin(protected_objects),\n\u001b[1;32m    361\u001b[0m         ),\n\u001b[1;32m    362\u001b[0m         \u001b[38;5;28mset\u001b[39m(chain\u001b[38;5;241m.\u001b[39mfrom_iterable(protected_objects\u001b[38;5;241m.\u001b[39mvalues())),\n\u001b[1;32m    363\u001b[0m     )\n\u001b[1;32m    364\u001b[0m \u001b[38;5;28;01mfor\u001b[39;00m related_model, related_fields \u001b[38;5;129;01min\u001b[39;00m model_fast_deletes\u001b[38;5;241m.\u001b[39mitems():\n\u001b[1;32m    365\u001b[0m     batches \u001b[38;5;241m=\u001b[39m \u001b[38;5;28mself\u001b[39m\u001b[38;5;241m.\u001b[39mget_del_batches(new_objs, related_fields)\n",
      "\u001b[0;31mProtectedError\u001b[0m: (\"Cannot delete some instances of model 'DevelopmentalStage' because they are referenced through protected foreign keys: 'ArtifactDevelopmentalStage.developmentalstage'.\", {ArtifactDevelopmentalStage(created_by_id=1, artifact_id=13, developmentalstage_id=1), ArtifactDevelopmentalStage(created_by_id=1, artifact_id=1, developmentalstage_id=1), ArtifactDevelopmentalStage(created_by_id=1, artifact_id=4, developmentalstage_id=1)})"
     ]
    }
   ],
   "source": [
    "[i.delete() for i in bt.DevelopmentalStage.filter()]"
   ]
  },
  {
   "cell_type": "markdown",
   "metadata": {},
   "source": [
    "# load the latest datasets / load datasets that were initially dropped"
   ]
  },
  {
   "cell_type": "code",
   "execution_count": 5,
   "metadata": {},
   "outputs": [
    {
     "data": {
      "text/plain": [
       "array(['HsapDv:0000000', 'HsapDv:0000240', 'HsapDv:0000267',\n",
       "       'HsapDv:0000226', 'HsapDv:0000258', 'HsapDv:0010000',\n",
       "       'HsapDv:0000001'], dtype=object)"
      ]
     },
     "execution_count": 5,
     "metadata": {},
     "output_type": "execute_result"
    }
   ],
   "source": [
    "bt.DevelopmentalStage.public().df().loc[\"HsapDv:0000144\"].parents"
   ]
  },
  {
   "cell_type": "code",
   "execution_count": 8,
   "metadata": {},
   "outputs": [
    {
     "data": {
      "image/svg+xml": [
       "<?xml version=\"1.0\" encoding=\"UTF-8\" standalone=\"no\"?>\n",
       "<!DOCTYPE svg PUBLIC \"-//W3C//DTD SVG 1.1//EN\"\n",
       " \"http://www.w3.org/Graphics/SVG/1.1/DTD/svg11.dtd\">\n",
       "<!-- Generated by graphviz version 2.43.0 (0)\n",
       " -->\n",
       "<!-- Title: 2iDmILg8 Pages: 1 -->\n",
       "<svg width=\"627pt\" height=\"44pt\"\n",
       " viewBox=\"0.00 0.00 627.00 44.00\" xmlns=\"http://www.w3.org/2000/svg\" xmlns:xlink=\"http://www.w3.org/1999/xlink\">\n",
       "<g id=\"graph0\" class=\"graph\" transform=\"scale(1 1) rotate(0) translate(4 40)\">\n",
       "<title>2iDmILg8</title>\n",
       "<polygon fill=\"white\" stroke=\"transparent\" points=\"-4,4 -4,-40 623,-40 623,4 -4,4\"/>\n",
       "<!-- 2iDmILg8 -->\n",
       "<g id=\"node1\" class=\"node\">\n",
       "<title>2iDmILg8</title>\n",
       "<path fill=\"#10b981\" stroke=\"#065f46\" d=\"M607,-36C607,-36 12,-36 12,-36 6,-36 0,-30 0,-24 0,-24 0,-12 0,-12 0,-6 6,0 12,0 12,0 607,0 607,0 613,0 619,-6 619,-12 619,-12 619,-24 619,-24 619,-30 613,-36 607,-36\"/>\n",
       "<text text-anchor=\"middle\" x=\"309.5\" y=\"-15.5\" font-family=\"Helvetica,sans-Serif\" font-size=\"10.00\"> &lt;50&#45;year&#45;old human stage&lt;BR/&gt;&lt;FONT COLOR=&quot;GREY&quot; POINT&#45;SIZE=&quot;10&quot; FACE=&quot;Monospace&quot;&gt;uid=2iDmILg8&lt;/FONT&gt;&gt;</text>\n",
       "</g>\n",
       "</g>\n",
       "</svg>\n"
      ]
     },
     "metadata": {},
     "output_type": "display_data"
    }
   ],
   "source": [
    "bt.DevelopmentalStage.filter(ontology_id=\"HsapDv:0000144\").one().view_parents()#.df(include=[\"parents\"])"
   ]
  },
  {
   "cell_type": "code",
   "execution_count": 9,
   "metadata": {},
   "outputs": [
    {
     "data": {
      "text/plain": [
       "<QuerySet []>"
      ]
     },
     "execution_count": 9,
     "metadata": {},
     "output_type": "execute_result"
    }
   ],
   "source": [
    "bt.DevelopmentalStage.filter(ontology_id=\"HsapDv:0000144\").one().parents.filter()"
   ]
  },
  {
   "cell_type": "code",
   "execution_count": 7,
   "metadata": {},
   "outputs": [],
   "source": [
    "bt.DevelopmentalStage.import_from_source(update=True)"
   ]
  },
  {
   "cell_type": "code",
   "execution_count": 25,
   "metadata": {},
   "outputs": [
    {
     "ename": "ProtectedError",
     "evalue": "(\"Cannot delete some instances of model 'DevelopmentalStage' because they are referenced through protected foreign keys: 'ArtifactDevelopmentalStage.developmentalstage'.\", {ArtifactDevelopmentalStage(created_by_id=1, artifact_id=13, developmentalstage_id=1), ArtifactDevelopmentalStage(created_by_id=1, artifact_id=1, developmentalstage_id=1), ArtifactDevelopmentalStage(created_by_id=1, artifact_id=4, developmentalstage_id=1)})",
     "output_type": "error",
     "traceback": [
      "\u001b[0;31m---------------------------------------------------------------------------\u001b[0m",
      "\u001b[0;31mProtectedError\u001b[0m                            Traceback (most recent call last)",
      "Cell \u001b[0;32mIn[25], line 1\u001b[0m\n\u001b[0;32m----> 1\u001b[0m [i\u001b[38;5;241m.\u001b[39mdelete() \u001b[38;5;28;01mfor\u001b[39;00m i \u001b[38;5;129;01min\u001b[39;00m bt\u001b[38;5;241m.\u001b[39mDevelopmentalStage\u001b[38;5;241m.\u001b[39mfilter()]\u001b[38;5;66;03m#.delete()\u001b[39;00m\n\u001b[1;32m      2\u001b[0m \u001b[38;5;66;03m#bt.DevelopmentalStage.import_from_source()\u001b[39;00m\n",
      "Cell \u001b[0;32mIn[25], line 1\u001b[0m, in \u001b[0;36m<listcomp>\u001b[0;34m(.0)\u001b[0m\n\u001b[0;32m----> 1\u001b[0m [\u001b[43mi\u001b[49m\u001b[38;5;241;43m.\u001b[39;49m\u001b[43mdelete\u001b[49m\u001b[43m(\u001b[49m\u001b[43m)\u001b[49m \u001b[38;5;28;01mfor\u001b[39;00m i \u001b[38;5;129;01min\u001b[39;00m bt\u001b[38;5;241m.\u001b[39mDevelopmentalStage\u001b[38;5;241m.\u001b[39mfilter()]\u001b[38;5;66;03m#.delete()\u001b[39;00m\n\u001b[1;32m      2\u001b[0m \u001b[38;5;66;03m#bt.DevelopmentalStage.import_from_source()\u001b[39;00m\n",
      "File \u001b[0;32m~/miniconda3/envs/scprint/lib/python3.10/site-packages/lamindb/_record.py:600\u001b[0m, in \u001b[0;36mdelete\u001b[0;34m(self)\u001b[0m\n\u001b[1;32m    598\u001b[0m         logger\u001b[38;5;241m.\u001b[39mwarning(\u001b[38;5;124mf\u001b[39m\u001b[38;5;124m\"\u001b[39m\u001b[38;5;124mnew latest version is \u001b[39m\u001b[38;5;132;01m{\u001b[39;00mnew_latest\u001b[38;5;132;01m}\u001b[39;00m\u001b[38;5;124m\"\u001b[39m)\n\u001b[1;32m    599\u001b[0m         \u001b[38;5;28;01mreturn\u001b[39;00m \u001b[38;5;28;01mNone\u001b[39;00m\n\u001b[0;32m--> 600\u001b[0m \u001b[38;5;28;43msuper\u001b[39;49m\u001b[43m(\u001b[49m\u001b[43mRecord\u001b[49m\u001b[43m,\u001b[49m\u001b[43m \u001b[49m\u001b[38;5;28;43mself\u001b[39;49m\u001b[43m)\u001b[49m\u001b[38;5;241;43m.\u001b[39;49m\u001b[43mdelete\u001b[49m\u001b[43m(\u001b[49m\u001b[43m)\u001b[49m\n",
      "File \u001b[0;32m~/miniconda3/envs/scprint/lib/python3.10/site-packages/django/db/models/base.py:1182\u001b[0m, in \u001b[0;36mModel.delete\u001b[0;34m(self, using, keep_parents)\u001b[0m\n\u001b[1;32m   1180\u001b[0m using \u001b[38;5;241m=\u001b[39m using \u001b[38;5;129;01mor\u001b[39;00m router\u001b[38;5;241m.\u001b[39mdb_for_write(\u001b[38;5;28mself\u001b[39m\u001b[38;5;241m.\u001b[39m\u001b[38;5;18m__class__\u001b[39m, instance\u001b[38;5;241m=\u001b[39m\u001b[38;5;28mself\u001b[39m)\n\u001b[1;32m   1181\u001b[0m collector \u001b[38;5;241m=\u001b[39m Collector(using\u001b[38;5;241m=\u001b[39musing, origin\u001b[38;5;241m=\u001b[39m\u001b[38;5;28mself\u001b[39m)\n\u001b[0;32m-> 1182\u001b[0m \u001b[43mcollector\u001b[49m\u001b[38;5;241;43m.\u001b[39;49m\u001b[43mcollect\u001b[49m\u001b[43m(\u001b[49m\u001b[43m[\u001b[49m\u001b[38;5;28;43mself\u001b[39;49m\u001b[43m]\u001b[49m\u001b[43m,\u001b[49m\u001b[43m \u001b[49m\u001b[43mkeep_parents\u001b[49m\u001b[38;5;241;43m=\u001b[39;49m\u001b[43mkeep_parents\u001b[49m\u001b[43m)\u001b[49m\n\u001b[1;32m   1183\u001b[0m \u001b[38;5;28;01mreturn\u001b[39;00m collector\u001b[38;5;241m.\u001b[39mdelete()\n",
      "File \u001b[0;32m~/miniconda3/envs/scprint/lib/python3.10/site-packages/django/db/models/deletion.py:355\u001b[0m, in \u001b[0;36mCollector.collect\u001b[0;34m(self, objs, source, nullable, collect_related, source_attr, reverse_dependency, keep_parents, fail_on_restricted)\u001b[0m\n\u001b[1;32m    353\u001b[0m                 protected_objects[key] \u001b[38;5;241m+\u001b[39m\u001b[38;5;241m=\u001b[39m error\u001b[38;5;241m.\u001b[39mprotected_objects\n\u001b[1;32m    354\u001b[0m \u001b[38;5;28;01mif\u001b[39;00m protected_objects:\n\u001b[0;32m--> 355\u001b[0m     \u001b[38;5;28;01mraise\u001b[39;00m ProtectedError(\n\u001b[1;32m    356\u001b[0m         \u001b[38;5;124m\"\u001b[39m\u001b[38;5;124mCannot delete some instances of model \u001b[39m\u001b[38;5;132;01m%r\u001b[39;00m\u001b[38;5;124m because they are \u001b[39m\u001b[38;5;124m\"\u001b[39m\n\u001b[1;32m    357\u001b[0m         \u001b[38;5;124m\"\u001b[39m\u001b[38;5;124mreferenced through protected foreign keys: \u001b[39m\u001b[38;5;132;01m%s\u001b[39;00m\u001b[38;5;124m.\u001b[39m\u001b[38;5;124m\"\u001b[39m\n\u001b[1;32m    358\u001b[0m         \u001b[38;5;241m%\u001b[39m (\n\u001b[1;32m    359\u001b[0m             model\u001b[38;5;241m.\u001b[39m\u001b[38;5;18m__name__\u001b[39m,\n\u001b[1;32m    360\u001b[0m             \u001b[38;5;124m\"\u001b[39m\u001b[38;5;124m, \u001b[39m\u001b[38;5;124m\"\u001b[39m\u001b[38;5;241m.\u001b[39mjoin(protected_objects),\n\u001b[1;32m    361\u001b[0m         ),\n\u001b[1;32m    362\u001b[0m         \u001b[38;5;28mset\u001b[39m(chain\u001b[38;5;241m.\u001b[39mfrom_iterable(protected_objects\u001b[38;5;241m.\u001b[39mvalues())),\n\u001b[1;32m    363\u001b[0m     )\n\u001b[1;32m    364\u001b[0m \u001b[38;5;28;01mfor\u001b[39;00m related_model, related_fields \u001b[38;5;129;01min\u001b[39;00m model_fast_deletes\u001b[38;5;241m.\u001b[39mitems():\n\u001b[1;32m    365\u001b[0m     batches \u001b[38;5;241m=\u001b[39m \u001b[38;5;28mself\u001b[39m\u001b[38;5;241m.\u001b[39mget_del_batches(new_objs, related_fields)\n",
      "\u001b[0;31mProtectedError\u001b[0m: (\"Cannot delete some instances of model 'DevelopmentalStage' because they are referenced through protected foreign keys: 'ArtifactDevelopmentalStage.developmentalstage'.\", {ArtifactDevelopmentalStage(created_by_id=1, artifact_id=13, developmentalstage_id=1), ArtifactDevelopmentalStage(created_by_id=1, artifact_id=1, developmentalstage_id=1), ArtifactDevelopmentalStage(created_by_id=1, artifact_id=4, developmentalstage_id=1)})"
     ]
    }
   ],
   "source": [
    "[i.delete() for i in bt.DevelopmentalStage.filter()]#.delete()\n",
    "#bt.DevelopmentalStage.import_from_source()"
   ]
  },
  {
   "cell_type": "code",
   "execution_count": 80,
   "metadata": {},
   "outputs": [
    {
     "data": {
      "text/plain": [
       "1"
      ]
     },
     "execution_count": 80,
     "metadata": {},
     "output_type": "execute_result"
    }
   ],
   "source": [
    "len(list(bt.Disease.filter(ontology_id=\"MONDO:0000005\").one().parents.filter()))"
   ]
  },
  {
   "cell_type": "code",
   "execution_count": 75,
   "metadata": {},
   "outputs": [
    {
     "data": {
      "text/plain": [
       "array(['MONDO:0100118', 'MONDO:0004907'], dtype=object)"
      ]
     },
     "execution_count": 75,
     "metadata": {},
     "output_type": "execute_result"
    }
   ],
   "source": [
    "bt.Disease.public().df().loc[\"MONDO:0000005\"].parents"
   ]
  },
  {
   "cell_type": "code",
   "execution_count": null,
   "metadata": {},
   "outputs": [],
   "source": []
  },
  {
   "cell_type": "code",
   "execution_count": null,
   "metadata": {},
   "outputs": [],
   "source": []
  }
 ],
 "metadata": {
  "kernelspec": {
   "display_name": "scprint",
   "language": "python",
   "name": "python3"
  },
  "language_info": {
   "codemirror_mode": {
    "name": "ipython",
    "version": 3
   },
   "file_extension": ".py",
   "mimetype": "text/x-python",
   "name": "python",
   "nbconvert_exporter": "python",
   "pygments_lexer": "ipython3",
   "version": "3.10.14"
  }
 },
 "nbformat": 4,
 "nbformat_minor": 2
}
