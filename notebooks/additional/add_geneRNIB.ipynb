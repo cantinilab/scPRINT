{
 "cells": [
  {
   "cell_type": "code",
   "execution_count": 5,
   "metadata": {},
   "outputs": [
    {
     "name": "stdout",
     "output_type": "stream",
     "text": [
      "The autoreload extension is already loaded. To reload it, use:\n",
      "  %reload_ext autoreload\n"
     ]
    }
   ],
   "source": [
    "import scanpy as sc\n",
    "\n",
    "from scprint import scPrint\n",
    "from scprint.tasks import Embedder, Denoiser, GNInfer\n",
    "\n",
    "from scdataloader import Preprocessor\n",
    "from scdataloader.utils import load_genes\n",
    "\n",
    "import numpy as np\n",
    "import pandas as pd\n",
    "\n",
    "from collections import Counter\n",
    "from scprint.model.utils import downsample_profile\n",
    "from scipy.stats import spearmanr\n",
    "\n",
    "from scdataloader import DataModule\n",
    "from scprint.tasks import GNInfer\n",
    "from anndata.utils import make_index_unique\n",
    "from bengrn import BenGRN\n",
    "import lamindb as ln\n",
    "import json\n",
    "\n",
    "%load_ext autoreload\n",
    "%autoreload 2\n",
    "\n",
    "import torch\n",
    "torch.set_float32_matmul_precision('medium')"
   ]
  },
  {
   "cell_type": "code",
   "execution_count": null,
   "metadata": {},
   "outputs": [
    {
     "name": "stdout",
     "output_type": "stream",
     "text": [
      "\u001b[93m!\u001b[0m no run & transform got linked, call `ln.track()` & re-run\n"
     ]
    }
   ],
   "source": [
    "for n in ['adamson', 'nakatake', 'op_perturbation_sc_counts', 'replogle_K562_gwps_raw_singlecell', 'norman']:\n",
    "    ln.Artifact.from_anndata(f\"s3://openproblems-data/resources/grn/datasets_raw/{n}.h5ad\", description=f\"{n} geneRNIB dataset\").save()"
   ]
  },
  {
   "cell_type": "code",
   "execution_count": 107,
   "metadata": {},
   "outputs": [
    {
     "ename": "AttributeError",
     "evalue": "'_CSRDataset' object has no attribute 'toarray'",
     "output_type": "error",
     "traceback": [
      "\u001b[0;31m---------------------------------------------------------------------------\u001b[0m",
      "\u001b[0;31mAttributeError\u001b[0m                            Traceback (most recent call last)",
      "Cell \u001b[0;32mIn[107], line 1\u001b[0m\n\u001b[0;32m----> 1\u001b[0m \u001b[38;5;241m2.0\u001b[39m\u001b[38;5;241m*\u001b[39m\u001b[38;5;241m*\u001b[39m\u001b[43madata\u001b[49m\u001b[38;5;241;43m.\u001b[39;49m\u001b[43mX\u001b[49m\u001b[38;5;241;43m.\u001b[39;49m\u001b[43mtoarray\u001b[49m()\n",
      "\u001b[0;31mAttributeError\u001b[0m: '_CSRDataset' object has no attribute 'toarray'"
     ]
    }
   ],
   "source": [
    "2.0**adata.X.toarray()\n"
   ]
  },
  {
   "cell_type": "code",
   "execution_count": 55,
   "metadata": {},
   "outputs": [
    {
     "name": "stdout",
     "output_type": "stream",
     "text": [
      "\u001b[93m!\u001b[0m run input wasn't tracked, call `ln.track()` and re-run\n"
     ]
    }
   ],
   "source": [
    "adata = ln.Artifact.filter(description=f\"op_perturbation_sc_counts geneRNIB dataset\").one().open()\n",
    "adata = adata[adata.obs['split']=='control']\n",
    "adata = adata.to_memory()\n",
    "if adata.layers is not None and 'counts' in adata.layers:\n",
    "    adata.X = adata.layers['counts']\n",
    "    del adata.layers['counts']\n",
    "adata.write_h5ad('../data/op_perturbation_sc_counts.h5ad')\n",
    "\n",
    "adata = ln.Artifact.filter(description=f\"norman geneRNIB dataset\").one().open()\n",
    "adata = adata[adata.obs['control']==1]\n",
    "adata = adata.to_memory()\n",
    "if adata.layers is not None and 'counts' in adata.layers:\n",
    "    adata.X = adata.layers['counts']\n",
    "    del adata.layers['counts']\n",
    "adata.write_h5ad('../data/norman.h5ad')\n",
    "\n"
   ]
  },
  {
   "cell_type": "code",
   "execution_count": null,
   "metadata": {},
   "outputs": [],
   "source": [
    "aws s3 cp --no-sign-request s3://openproblems-data/resources/grn/grn_benchmark/prior/regulators_consensus_nakatake.json ../data/regulators_consensus_nakatake.json\n",
    "aws s3 cp --no-sign-request s3://openproblems-data/resources/grn/grn_benchmark/evaluation_data/norman_bulk.h5ad ../data/norman_bulk.h5ad\n",
    "\n",
    "aws s3 cp --no-sign-request s3://openproblems-data/resources/grn/grn_benchmark/prior/regulators_consensus_op.json ../data/regulators_consensus_op.json\n",
    "aws s3 cp --no-sign-request s3://openproblems-data/resources/grn/grn_benchmark/evaluation_data/op_bulk.h5ad ../data/op_bulk.h5ad\n",
    "\n",
    "aws s3 cp --no-sign-request s3://openproblems-data/resources/grn/grn_benchmark/prior/regulators_consensus_norman.json ../data/regulators_consensus_norman.json"
   ]
  },
  {
   "cell_type": "code",
   "execution_count": 117,
   "metadata": {},
   "outputs": [],
   "source": [
    "FOLDER = '/home/ml4ig1/task_grn_inference/resources/grn_benchmark/'\n",
    "adata = sc.read_h5ad(FOLDER+'evaluation_data/op_bulk.h5ad')\n",
    "reg = json.load(open(FOLDER+'prior/regulators_consensus_op.json'))"
   ]
  },
  {
   "cell_type": "code",
   "execution_count": 118,
   "metadata": {},
   "outputs": [],
   "source": [
    "n_features_theta_min = np.asarray(\n",
    "    [reg[gene_name][\"0\"] for gene_name in adata.var_names], dtype=int\n",
    ")\n",
    "n_features_theta_median = np.asarray(\n",
    "    [reg[gene_name][\"0.5\"] for gene_name in adata.var_names], dtype=int\n",
    ")\n",
    "n_features_theta_max = np.asarray(\n",
    "    [reg[gene_name][\"1\"] for gene_name in adata.var_names], dtype=int\n",
    ")"
   ]
  },
  {
   "cell_type": "code",
   "execution_count": 119,
   "metadata": {},
   "outputs": [],
   "source": [
    "adata.var[\"n_features_theta_\"+str(0.0)] = n_features_theta_min\n",
    "adata.var[\"n_features_theta_\"+str(0.5)] = n_features_theta_median\n",
    "adata.var[\"n_features_theta_\"+str(1.0)] = n_features_theta_max"
   ]
  },
  {
   "cell_type": "code",
   "execution_count": 120,
   "metadata": {},
   "outputs": [],
   "source": [
    "adata.write_h5ad('../../benGRN/data/replogle_rna_test.h5ad')"
   ]
  }
 ],
 "metadata": {
  "kernelspec": {
   "display_name": "scprnt2",
   "language": "python",
   "name": "python3"
  },
  "language_info": {
   "codemirror_mode": {
    "name": "ipython",
    "version": 3
   },
   "file_extension": ".py",
   "mimetype": "text/x-python",
   "name": "python",
   "nbconvert_exporter": "python",
   "pygments_lexer": "ipython3",
   "version": "3.10.16"
  }
 },
 "nbformat": 4,
 "nbformat_minor": 2
}
