{
 "cells": [
  {
   "cell_type": "code",
   "execution_count": 5,
   "metadata": {},
   "outputs": [
    {
     "name": "stdout",
     "output_type": "stream",
     "text": [
      "The autoreload extension is already loaded. To reload it, use:\n",
      "  %reload_ext autoreload\n"
     ]
    }
   ],
   "source": [
    "# running geneformer and deepSem\n",
    "\n",
    "from geneformer import EmbExtractor\n",
    "from geneformer import TranscriptomeTokenizer\n",
    "\n",
    "import anndata as ad\n",
    "import torch\n",
    "import scanpy as sc\n",
    "\n",
    "from bengrn import BenGRN, get_perturb_gt\n",
    "from grnndata import GRNAnnData\n",
    "from grnndata import utils as grnutils\n",
    "\n",
    "%load_ext autoreload\n",
    "%autoreload 2\n",
    "\n",
    "FOLDER = \"../../../Geneformer/\"\n",
    "NUM_GENES=5000\n"
   ]
  },
  {
   "cell_type": "code",
   "execution_count": 2,
   "metadata": {},
   "outputs": [
    {
     "name": "stdout",
     "output_type": "stream",
     "text": [
      "dataset.arrow already exists in ../../data/human_dcm_hcm_nf/dataset.arrow\n",
      "dataset_info.json already exists in ../../data/human_dcm_hcm_nf/dataset_info.json\n",
      "state.json already exists in ../../data/human_dcm_hcm_nf/state.json\n",
      "Download complete!\n"
     ]
    }
   ],
   "source": [
    "import os\n",
    "import requests\n",
    "\n",
    "# Create a directory to store the downloaded files\n",
    "os.makedirs(\"../../data/human_dcm_hcm_nf\", exist_ok=True)\n",
    "\n",
    "# URLs for the files to download\n",
    "base_url = \"https://huggingface.co/datasets/ctheodoris/Genecorpus-30M/resolve/main/example_input_files/cell_classification/disease_classification/human_dcm_hcm_nf.dataset/\"\n",
    "files_to_download = [\"dataset.arrow\", \"dataset_info.json\", \"state.json\"]\n",
    "\n",
    "# Download the files\n",
    "for file in files_to_download:\n",
    "    url = base_url + file\n",
    "    output_path = os.path.join(\"../../data/human_dcm_hcm_nf\", file)\n",
    "    \n",
    "    if not os.path.exists(output_path):\n",
    "        print(f\"Downloading {file}...\")\n",
    "        response = requests.get(url)\n",
    "        if response.status_code == 200:\n",
    "            with open(output_path, 'wb') as f:\n",
    "                f.write(response.content)\n",
    "            print(f\"\\nDownloaded {file} to {output_path}\")\n",
    "        else:\n",
    "            print(f\"Failed to download {file}. Status code: {response.status_code}\")\n",
    "    else:\n",
    "        print(f\"{file} already exists in {output_path}\")\n",
    "\n",
    "print(\"Download complete!\")\n",
    "\n"
   ]
  },
  {
   "cell_type": "code",
   "execution_count": 2,
   "metadata": {},
   "outputs": [
    {
     "name": "stderr",
     "output_type": "stream",
     "text": [
      "/tmp/ipykernel_2132580/1970222934.py:1: FutureWarning: You are using `torch.load` with `weights_only=False` (the current default value), which uses the default pickle module implicitly. It is possible to construct malicious pickle data which will execute arbitrary code during unpickling (See https://github.com/pytorch/pytorch/blob/main/SECURITY.md#untrusted-models for more details). In a future release, the default value for `weights_only` will be flipped to `True`. This limits the functions that could be executed during unpickling. Arbitrary objects will no longer be allowed to be loaded via this mode unless they are explicitly allowlisted by the user via `torch.serialization.add_safe_globals`. We recommend you start setting `weights_only=True` for any use case where you don't have full control of the loaded file. Please open an issue on GitHub for any issues related to this experimental feature.\n",
      "  genes = torch.load('../../data/temp/vbd8bavn/epoch=17-step=90000.ckpt')['hyper_parameters']['genes']\n"
     ]
    }
   ],
   "source": [
    "genes = torch.load('../../data/temp/vbd8bavn/epoch=17-step=90000.ckpt')['hyper_parameters']['genes']"
   ]
  },
  {
   "cell_type": "code",
   "execution_count": 3,
   "metadata": {},
   "outputs": [],
   "source": [
    "from geneformer import TOKEN_DICTIONARY_FILE\n",
    "import pickle\n",
    "\n",
    "with open(TOKEN_DICTIONARY_FILE, \"rb\") as f:\n",
    "    gene_mapping_dict = pickle.load(f)"
   ]
  },
  {
   "cell_type": "code",
   "execution_count": 4,
   "metadata": {},
   "outputs": [
    {
     "name": "stderr",
     "output_type": "stream",
     "text": [
      "/home/ml4ig1/Documents code/benGRN/bengrn/base.py:624: ImplicitModificationWarning: Trying to modify attribute `.obs` of view, initializing view as actual.\n",
      "  adata_sc.obs[\"organism_ontology_term_id\"] = \"NCBITaxon:9606\"\n"
     ]
    },
    {
     "ename": "NameError",
     "evalue": "name 'grnutils' is not defined",
     "output_type": "error",
     "traceback": [
      "\u001b[0;31m---------------------------------------------------------------------------\u001b[0m",
      "\u001b[0;31mNameError\u001b[0m                                 Traceback (most recent call last)",
      "Cell \u001b[0;32mIn[4], line 4\u001b[0m\n\u001b[1;32m      1\u001b[0m adata \u001b[38;5;241m=\u001b[39m get_perturb_gt()\n\u001b[1;32m      3\u001b[0m adata\u001b[38;5;241m.\u001b[39mvar[\u001b[38;5;124m\"\u001b[39m\u001b[38;5;124misTF\u001b[39m\u001b[38;5;124m\"\u001b[39m] \u001b[38;5;241m=\u001b[39m \u001b[38;5;28;01mFalse\u001b[39;00m\n\u001b[0;32m----> 4\u001b[0m adata\u001b[38;5;241m.\u001b[39mvar\u001b[38;5;241m.\u001b[39mloc[adata\u001b[38;5;241m.\u001b[39mvar\u001b[38;5;241m.\u001b[39mgene_name\u001b[38;5;241m.\u001b[39misin(\u001b[43mgrnutils\u001b[49m\u001b[38;5;241m.\u001b[39mTF), \u001b[38;5;124m\"\u001b[39m\u001b[38;5;124misTF\u001b[39m\u001b[38;5;124m\"\u001b[39m] \u001b[38;5;241m=\u001b[39m \u001b[38;5;28;01mTrue\u001b[39;00m\n\u001b[1;32m      5\u001b[0m adata\u001b[38;5;241m.\u001b[39mvar[\u001b[38;5;124m\"\u001b[39m\u001b[38;5;124misTF\u001b[39m\u001b[38;5;124m\"\u001b[39m]\u001b[38;5;241m.\u001b[39msum()\n",
      "\u001b[0;31mNameError\u001b[0m: name 'grnutils' is not defined"
     ]
    }
   ],
   "source": [
    "adata = get_perturb_gt()\n",
    "\n",
    "adata.var[\"isTF\"] = False\n",
    "adata.var.loc[adata.var.gene_name.isin(grnutils.TF), \"isTF\"] = True\n",
    "adata.var[\"isTF\"].sum()"
   ]
  },
  {
   "cell_type": "code",
   "execution_count": 7,
   "metadata": {},
   "outputs": [],
   "source": [
    "adata.var['ensembl_id'] = adata.var.index\n",
    "adata.obs['n_counts'] = adata.X.sum(1)"
   ]
  },
  {
   "cell_type": "code",
   "execution_count": 9,
   "metadata": {},
   "outputs": [],
   "source": [
    "sc.pp.highly_variable_genes(adata, flavor=\"seurat_v3\", n_top_genes=4000)\n",
    "subadata = adata[:, adata.var.index.isin(genes) & adata.var.highly_variable]"
   ]
  },
  {
   "cell_type": "code",
   "execution_count": 12,
   "metadata": {},
   "outputs": [],
   "source": [
    "subadata[:, subadata.var.index.isin([u for u in gene_mapping_dict.keys() if u in subadata.var.index])]"
   ]
  },
  {
   "cell_type": "code",
   "execution_count": 13,
   "metadata": {},
   "outputs": [
    {
     "name": "stderr",
     "output_type": "stream",
     "text": [
      "/home/ml4ig1/miniconda3/envs/geneformer/lib/python3.10/site-packages/anndata/_core/anndata.py:1145: ImplicitModificationWarning: Trying to modify attribute `.obs` of view, initializing view as actual.\n",
      "  df[key] = c\n"
     ]
    }
   ],
   "source": [
    "subadata.write_h5ad(\"test.h5ad\")"
   ]
  },
  {
   "cell_type": "code",
   "execution_count": null,
   "metadata": {},
   "outputs": [],
   "source": [
    "genelist = [gene_mapping_dict[u] for u in subadata.var.index]"
   ]
  },
  {
   "cell_type": "code",
   "execution_count": 14,
   "metadata": {},
   "outputs": [
    {
     "name": "stdout",
     "output_type": "stream",
     "text": [
      "Tokenizing test.h5ad\n",
      "test.h5ad has no column attribute 'filter_pass'; tokenizing all cells.\n"
     ]
    },
    {
     "name": "stderr",
     "output_type": "stream",
     "text": [
      "/home/ml4ig1/Documents code/Geneformer/geneformer/tokenizer.py:473: FutureWarning: Series.__getitem__ treating keys as positions is deprecated. In a future version, integer keys will always be treated as labels (consistent with DataFrame behavior). To access a value by position, use `ser.iloc[pos]`\n",
      "  for i in adata.var[\"ensembl_id_collapsed\"][coding_miRNA_loc]\n",
      "/home/ml4ig1/Documents code/Geneformer/geneformer/tokenizer.py:476: FutureWarning: Series.__getitem__ treating keys as positions is deprecated. In a future version, integer keys will always be treated as labels (consistent with DataFrame behavior). To access a value by position, use `ser.iloc[pos]`\n",
      "  coding_miRNA_ids = adata.var[\"ensembl_id_collapsed\"][coding_miRNA_loc]\n"
     ]
    },
    {
     "name": "stdout",
     "output_type": "stream",
     "text": [
      "Creating dataset.\n"
     ]
    }
   ],
   "source": [
    "tk = TranscriptomeTokenizer(nproc=16)\n",
    "tk.tokenize_data(\"./\", \n",
    "                 \"../../data/\",\n",
    "                 \"tokenized_data\", \n",
    "                 file_format=\"h5ad\")"
   ]
  },
  {
   "cell_type": "code",
   "execution_count": null,
   "metadata": {},
   "outputs": [],
   "source": [
    "avg_attentions = torch.mean(torch.stack(attentions), dim=(0, 2))"
   ]
  },
  {
   "cell_type": "code",
   "execution_count": null,
   "metadata": {},
   "outputs": [],
   "source": [
    "filtered_input_data.features['input_ids']"
   ]
  },
  {
   "cell_type": "code",
   "execution_count": 17,
   "metadata": {},
   "outputs": [],
   "source": [
    "embex = EmbExtractor(model_type=\"CellClassifier\",\n",
    "                     num_classes=3,\n",
    "                     filter_data={\"cell_type\":[\"Cardiomyocyte1\",\"Cardiomyocyte2\",\"Cardiomyocyte3\"]},\n",
    "                     max_ncells=1000,\n",
    "                     emb_layer=0,\n",
    "                     emb_mode=\"cell\",\n",
    "                     emb_label=[\"disease\",\"cell_type\"],\n",
    "                     labels_to_plot=[\"disease\"],\n",
    "                     forward_batch_size=10,\n",
    "                     nproc=16)\n"
   ]
  },
  {
   "cell_type": "code",
   "execution_count": null,
   "metadata": {},
   "outputs": [],
   "source": [
    "embex"
   ]
  },
  {
   "cell_type": "code",
   "execution_count": null,
   "metadata": {},
   "outputs": [],
   "source": []
  }
 ],
 "metadata": {
  "kernelspec": {
   "display_name": ".venv",
   "language": "python",
   "name": "python3"
  },
  "language_info": {
   "codemirror_mode": {
    "name": "ipython",
    "version": 3
   },
   "file_extension": ".py",
   "mimetype": "text/x-python",
   "name": "python",
   "nbconvert_exporter": "python",
   "pygments_lexer": "ipython3",
   "version": "3.10.15"
  }
 },
 "nbformat": 4,
 "nbformat_minor": 2
}
