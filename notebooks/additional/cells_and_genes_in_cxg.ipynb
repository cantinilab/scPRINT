{
 "cells": [
  {
   "cell_type": "code",
   "execution_count": 1,
   "metadata": {},
   "outputs": [],
   "source": [
    "import cellxgene_census\n"
   ]
  },
  {
   "cell_type": "code",
   "execution_count": 3,
   "metadata": {},
   "outputs": [
    {
     "name": "stderr",
     "output_type": "stream",
     "text": [
      "The \"stable\" release is currently 2024-07-01. Specify 'census_version=\"2024-07-01\"' in future calls to open_soma() to ensure data consistency.\n"
     ]
    }
   ],
   "source": [
    "# or, directly open the census (don't forget to close it!)\n",
    "census = cellxgene_census.open_soma()"
   ]
  },
  {
   "cell_type": "code",
   "execution_count": 5,
   "metadata": {},
   "outputs": [],
   "source": [
    "var_df = cellxgene_census.get_var(census, \"homo_sapiens\")"
   ]
  },
  {
   "cell_type": "code",
   "execution_count": 6,
   "metadata": {},
   "outputs": [
    {
     "data": {
      "text/html": [
       "<div>\n",
       "<style scoped>\n",
       "    .dataframe tbody tr th:only-of-type {\n",
       "        vertical-align: middle;\n",
       "    }\n",
       "\n",
       "    .dataframe tbody tr th {\n",
       "        vertical-align: top;\n",
       "    }\n",
       "\n",
       "    .dataframe thead th {\n",
       "        text-align: right;\n",
       "    }\n",
       "</style>\n",
       "<table border=\"1\" class=\"dataframe\">\n",
       "  <thead>\n",
       "    <tr style=\"text-align: right;\">\n",
       "      <th></th>\n",
       "      <th>soma_joinid</th>\n",
       "      <th>feature_id</th>\n",
       "      <th>feature_name</th>\n",
       "      <th>feature_length</th>\n",
       "      <th>nnz</th>\n",
       "      <th>n_measured_obs</th>\n",
       "    </tr>\n",
       "  </thead>\n",
       "  <tbody>\n",
       "    <tr>\n",
       "      <th>0</th>\n",
       "      <td>0</td>\n",
       "      <td>ENSG00000000003</td>\n",
       "      <td>TSPAN6</td>\n",
       "      <td>4530</td>\n",
       "      <td>4530448</td>\n",
       "      <td>73855064</td>\n",
       "    </tr>\n",
       "    <tr>\n",
       "      <th>1</th>\n",
       "      <td>1</td>\n",
       "      <td>ENSG00000000005</td>\n",
       "      <td>TNMD</td>\n",
       "      <td>1476</td>\n",
       "      <td>236059</td>\n",
       "      <td>61201828</td>\n",
       "    </tr>\n",
       "    <tr>\n",
       "      <th>2</th>\n",
       "      <td>2</td>\n",
       "      <td>ENSG00000000419</td>\n",
       "      <td>DPM1</td>\n",
       "      <td>9276</td>\n",
       "      <td>17576462</td>\n",
       "      <td>74159149</td>\n",
       "    </tr>\n",
       "    <tr>\n",
       "      <th>3</th>\n",
       "      <td>3</td>\n",
       "      <td>ENSG00000000457</td>\n",
       "      <td>SCYL3</td>\n",
       "      <td>6883</td>\n",
       "      <td>9117322</td>\n",
       "      <td>73988868</td>\n",
       "    </tr>\n",
       "    <tr>\n",
       "      <th>4</th>\n",
       "      <td>4</td>\n",
       "      <td>ENSG00000000460</td>\n",
       "      <td>C1orf112</td>\n",
       "      <td>5970</td>\n",
       "      <td>6287794</td>\n",
       "      <td>73636201</td>\n",
       "    </tr>\n",
       "    <tr>\n",
       "      <th>...</th>\n",
       "      <td>...</td>\n",
       "      <td>...</td>\n",
       "      <td>...</td>\n",
       "      <td>...</td>\n",
       "      <td>...</td>\n",
       "      <td>...</td>\n",
       "    </tr>\n",
       "    <tr>\n",
       "      <th>60525</th>\n",
       "      <td>60525</td>\n",
       "      <td>ENSG00000288718</td>\n",
       "      <td>ENSG00000288718.1</td>\n",
       "      <td>1070</td>\n",
       "      <td>4</td>\n",
       "      <td>1248980</td>\n",
       "    </tr>\n",
       "    <tr>\n",
       "      <th>60526</th>\n",
       "      <td>60526</td>\n",
       "      <td>ENSG00000288719</td>\n",
       "      <td>ENSG00000288719.1</td>\n",
       "      <td>4252</td>\n",
       "      <td>2826</td>\n",
       "      <td>1248980</td>\n",
       "    </tr>\n",
       "    <tr>\n",
       "      <th>60527</th>\n",
       "      <td>60527</td>\n",
       "      <td>ENSG00000288724</td>\n",
       "      <td>ENSG00000288724.1</td>\n",
       "      <td>625</td>\n",
       "      <td>36</td>\n",
       "      <td>1248980</td>\n",
       "    </tr>\n",
       "    <tr>\n",
       "      <th>60528</th>\n",
       "      <td>60528</td>\n",
       "      <td>ENSG00000290791</td>\n",
       "      <td>ENSG00000290791.1</td>\n",
       "      <td>3612</td>\n",
       "      <td>1642</td>\n",
       "      <td>43485</td>\n",
       "    </tr>\n",
       "    <tr>\n",
       "      <th>60529</th>\n",
       "      <td>60529</td>\n",
       "      <td>ENSG00000290146</td>\n",
       "      <td>ENSG00000290146.1</td>\n",
       "      <td>1292</td>\n",
       "      <td>7958</td>\n",
       "      <td>43485</td>\n",
       "    </tr>\n",
       "  </tbody>\n",
       "</table>\n",
       "<p>60530 rows × 6 columns</p>\n",
       "</div>"
      ],
      "text/plain": [
       "       soma_joinid       feature_id       feature_name  feature_length  \\\n",
       "0                0  ENSG00000000003             TSPAN6            4530   \n",
       "1                1  ENSG00000000005               TNMD            1476   \n",
       "2                2  ENSG00000000419               DPM1            9276   \n",
       "3                3  ENSG00000000457              SCYL3            6883   \n",
       "4                4  ENSG00000000460           C1orf112            5970   \n",
       "...            ...              ...                ...             ...   \n",
       "60525        60525  ENSG00000288718  ENSG00000288718.1            1070   \n",
       "60526        60526  ENSG00000288719  ENSG00000288719.1            4252   \n",
       "60527        60527  ENSG00000288724  ENSG00000288724.1             625   \n",
       "60528        60528  ENSG00000290791  ENSG00000290791.1            3612   \n",
       "60529        60529  ENSG00000290146  ENSG00000290146.1            1292   \n",
       "\n",
       "            nnz  n_measured_obs  \n",
       "0       4530448        73855064  \n",
       "1        236059        61201828  \n",
       "2      17576462        74159149  \n",
       "3       9117322        73988868  \n",
       "4       6287794        73636201  \n",
       "...         ...             ...  \n",
       "60525         4         1248980  \n",
       "60526      2826         1248980  \n",
       "60527        36         1248980  \n",
       "60528      1642           43485  \n",
       "60529      7958           43485  \n",
       "\n",
       "[60530 rows x 6 columns]"
      ]
     },
     "execution_count": 6,
     "metadata": {},
     "output_type": "execute_result"
    }
   ],
   "source": [
    "var_df"
   ]
  },
  {
   "cell_type": "code",
   "execution_count": 10,
   "metadata": {},
   "outputs": [
    {
     "data": {
      "text/plain": [
       "74322510"
      ]
     },
     "execution_count": 10,
     "metadata": {},
     "output_type": "execute_result"
    }
   ],
   "source": [
    "var_df.n_measured_obs.max()"
   ]
  },
  {
   "cell_type": "code",
   "execution_count": 17,
   "metadata": {},
   "outputs": [
    {
     "data": {
      "text/plain": [
       "20044"
      ]
     },
     "execution_count": 17,
     "metadata": {},
     "output_type": "execute_result"
    }
   ],
   "source": [
    "var_df.feature_name.str.contains(\"ENSG\").sum() # 40k cannonical genes"
   ]
  },
  {
   "cell_type": "code",
   "execution_count": 15,
   "metadata": {},
   "outputs": [
    {
     "data": {
      "text/plain": [
       "59957"
      ]
     },
     "execution_count": 15,
     "metadata": {},
     "output_type": "execute_result"
    }
   ],
   "source": [
    "(var_df.n_measured_obs > 1_000_000).sum() # measured means the dataset has it but doesn't mean it really measured it"
   ]
  },
  {
   "cell_type": "code",
   "execution_count": 12,
   "metadata": {},
   "outputs": [
    {
     "data": {
      "text/plain": [
       "29079"
      ]
     },
     "execution_count": 12,
     "metadata": {},
     "output_type": "execute_result"
    }
   ],
   "source": [
    "(var_df.nnz > 100_000).sum() # very few datasets with ncRNAseq"
   ]
  },
  {
   "cell_type": "code",
   "execution_count": 7,
   "metadata": {},
   "outputs": [],
   "source": [
    "census.close()"
   ]
  },
  {
   "cell_type": "code",
   "execution_count": null,
   "metadata": {},
   "outputs": [],
   "source": [
    "with cellxgene_census.open_soma() as census:\n",
    "    mouse = census[\"census_data\"][\"mus_musculus\"]\n",
    "    with mouse.axis_query(\n",
    "        measurement_name=\"RNA\",\n",
    "        obs_query=soma.AxisQuery(value_filter=\"tissue=='brain' and sex=='male' and is_primary_data==True\"),\n",
    "    ) as query:\n",
    "        var_df = query.var().concat().to_pandas().set_index(\"soma_joinid\")\n",
    "        n_vars = len(var_df)\n",
    "\n",
    "        raw_n = np.zeros((n_vars,), dtype=np.int64)  # accumulate number of non-zero X values\n",
    "        raw_sum = np.zeros((n_vars,), dtype=np.float64)  # accumulate the sum of expression\n",
    "\n",
    "        # query.X() returns an iterator of pyarrow.Table, with X data in COO format.\n",
    "        # You can request an indexer from the query that will map it to positional indices\n",
    "        indexer = query.indexer\n",
    "        for arrow_tbl in query.X(\"raw\").tables():\n",
    "            var_dim = indexer.by_var(arrow_tbl[\"soma_dim_1\"])\n",
    "            data = arrow_tbl[\"soma_data\"]\n",
    "            np.add.at(raw_n, var_dim, 1)\n",
    "            np.add.at(raw_sum, var_dim, data)\n",
    "\n",
    "    with np.errstate(divide=\"ignore\", invalid=\"ignore\"):\n",
    "        raw_mean = raw_sum / query.n_obs\n",
    "    raw_mean[np.isnan(raw_mean)] = 0\n",
    "\n",
    "    var_df = var_df.assign(raw_n=pd.Series(data=raw_n, index=var_df.index))\n",
    "    var_df = var_df.assign(raw_mean=pd.Series(data=raw_mean, index=var_df.index))\n",
    "\n",
    "    display(var_df)"
   ]
  }
 ],
 "metadata": {
  "kernelspec": {
   "display_name": "scprint",
   "language": "python",
   "name": "python3"
  },
  "language_info": {
   "codemirror_mode": {
    "name": "ipython",
    "version": 3
   },
   "file_extension": ".py",
   "mimetype": "text/x-python",
   "name": "python",
   "nbconvert_exporter": "python",
   "pygments_lexer": "ipython3",
   "version": "3.10.14"
  }
 },
 "nbformat": 4,
 "nbformat_minor": 2
}
