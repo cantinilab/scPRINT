{
 "cells": [
  {
   "cell_type": "markdown",
   "metadata": {},
   "source": [
    "# gene location comp"
   ]
  },
  {
   "cell_type": "code",
   "execution_count": 2,
   "metadata": {},
   "outputs": [
    {
     "name": "stdout",
     "output_type": "stream",
     "text": [
      "\u001b[92m→\u001b[0m connected lamindb: jkobject/scprint2\n"
     ]
    }
   ],
   "source": [
    "from scprint.tokenizers import protein_embeddings_generator\n",
    "from scprint.utils.get_seq import load_fasta_species\n",
    "%reload_ext autoreload\n",
    "%autoreload 2\n",
    "\n",
    "from scprint.utils.utils import run_command\n",
    "import pandas as pd\n",
    "from Bio import SeqIO\n"
   ]
  },
  {
   "cell_type": "code",
   "execution_count": 3,
   "metadata": {},
   "outputs": [],
   "source": [
    "names = {\n",
    "    #\"homo_sapiens\": \"NCBITaxon:9606\",\n",
    "    \"mus_musculus\": \"NCBITaxon:10090\",\n",
    "    \"arabidopsis_thaliana\": \"NCBITaxon:3702\",\n",
    "    \"bos_taurus\": \"NCBITaxon:9913\",\n",
    "    \"caenorhabditis_elegans\": \"NCBITaxon:6239\",\n",
    "    \"callithrix_jacchus\": \"NCBITaxon:9483\",\n",
    "    \"danio_rerio\": \"NCBITaxon:7955\",\n",
    "    \"drosophila_melanogaster\": \"NCBITaxon:7227\",\n",
    "    \"gallus_gallus\": \"NCBITaxon:9031\",\n",
    "    \"heterocephalus_glaber_male\": \"NCBITaxon:10181\",\n",
    "    \"macaca_mulatta\": \"NCBITaxon:9544\",\n",
    "    \"oryctolagus_cuniculus\": \"NCBITaxon:9986\",\n",
    "    #\"oryza_sativa\": \"NCBITaxon:39947\",\n",
    "    \"ovis_aries\": \"NCBITaxon:9940\",\n",
    "    \"pan_troglodytes\": \"NCBITaxon:9598\",\n",
    "    \"sus_scrofa\": \"NCBITaxon:9823\",\n",
    "    \"zea_mays\": \"NCBITaxon:4577\"\n",
    "}"
   ]
  },
  {
   "cell_type": "code",
   "execution_count": 6,
   "metadata": {},
   "outputs": [],
   "source": [
    "def get_locs(file):\n",
    "    locs= []\n",
    "    dup = set()\n",
    "    noloc = 0\n",
    "    for record in SeqIO.parse(file[:-3], \"fasta\"):\n",
    "        name = record.description.split(' gene:')[1].split(' ')[0].split('.')[0]\n",
    "        if \"chromosome:\" in record.description:\n",
    "            val = record.description.split(' chromosome:')[1].split(' ')[0]\n",
    "            ref, chrom, start, end, _ = val.split(':')\n",
    "        elif \"primary_assembly\" in record.description:\n",
    "            val = record.description.split(' primary_assembly:')[1].split(' ')[0]\n",
    "            ref, chrom, start, end, _ = val.split(':')\n",
    "        else:\n",
    "            noloc += 1\n",
    "            continue\n",
    "        if name in dup:\n",
    "            continue\n",
    "        dup.add(name)\n",
    "        locs.append([name, chrom, start, end])\n",
    "    print(len(dup), \" genes had duplicates\")\n",
    "    print(noloc, \" genes had no location\")\n",
    "    df = pd.DataFrame(locs, columns=['name', 'chrom', 'start', 'end'])\n",
    "    df = df.astype({'start': 'int32', 'end': 'int32'})\n",
    "    df = df.sort_values(by=['chrom', 'start']).reset_index(drop=True)\n",
    "    return df\n"
   ]
  },
  {
   "cell_type": "markdown",
   "metadata": {},
   "source": [
    "# test on humans"
   ]
  },
  {
   "cell_type": "code",
   "execution_count": 4,
   "metadata": {},
   "outputs": [],
   "source": [
    "file = load_fasta_species(species=\"homo_sapiens\", load=[\"cdna\"])"
   ]
  },
  {
   "cell_type": "code",
   "execution_count": 5,
   "metadata": {},
   "outputs": [
    {
     "name": "stderr",
     "output_type": "stream",
     "text": [
      "gzip: /tmp/data/fasta/Homo_sapiens.GRCh38.cdna.all.fa already exists;\tnot overwritten\n"
     ]
    },
    {
     "data": {
      "text/plain": [
       "2"
      ]
     },
     "execution_count": 5,
     "metadata": {},
     "output_type": "execute_result"
    }
   ],
   "source": [
    "file = file[0]\n",
    "fname = file.split(\"/\")[-1]\n",
    "run_command([\"gunzip\", file])"
   ]
  },
  {
   "cell_type": "code",
   "execution_count": null,
   "metadata": {},
   "outputs": [],
   "source": [
    "df = get_locs(file)\n"
   ]
  },
  {
   "cell_type": "code",
   "execution_count": 9,
   "metadata": {},
   "outputs": [],
   "source": [
    "import os\n",
    "os.makedirs(\"../data/main/gene_locs\", exist_ok=True)"
   ]
  },
  {
   "cell_type": "code",
   "execution_count": 13,
   "metadata": {},
   "outputs": [],
   "source": [
    "df.set_index(\"name\").to_parquet(\"../data/main/gene_locs/homo.parquet\")"
   ]
  },
  {
   "cell_type": "code",
   "execution_count": 7,
   "metadata": {},
   "outputs": [
    {
     "name": "stderr",
     "output_type": "stream",
     "text": [
      "gzip: /tmp/data/fasta/Mus_musculus.GRCm39.cdna.all.fa already exists;\tnot overwritten\n"
     ]
    },
    {
     "name": "stdout",
     "output_type": "stream",
     "text": [
      "35937  genes had duplicates\n",
      "54  genes had no location\n"
     ]
    },
    {
     "name": "stderr",
     "output_type": "stream",
     "text": [
      "gzip: /tmp/data/fasta/Arabidopsis_thaliana.TAIR10.cdna.all.fa already exists;\tnot overwritten\n"
     ]
    },
    {
     "name": "stdout",
     "output_type": "stream",
     "text": [
      "27655  genes had duplicates\n",
      "0  genes had no location\n"
     ]
    },
    {
     "name": "stderr",
     "output_type": "stream",
     "text": [
      "gzip: /tmp/data/fasta/Bos_taurus.ARS-UCD1.2.cdna.all.fa already exists;\tnot overwritten\n"
     ]
    },
    {
     "name": "stdout",
     "output_type": "stream",
     "text": [
      "22372  genes had duplicates\n",
      "0  genes had no location\n"
     ]
    },
    {
     "name": "stderr",
     "output_type": "stream",
     "text": [
      "gzip: /tmp/data/fasta/Caenorhabditis_elegans.WBcel235.cdna.all.fa already exists;\tnot overwritten\n"
     ]
    },
    {
     "name": "stdout",
     "output_type": "stream",
     "text": [
      "22113  genes had duplicates\n",
      "0  genes had no location\n"
     ]
    },
    {
     "name": "stderr",
     "output_type": "stream",
     "text": [
      "gzip: /tmp/data/fasta/Callithrix_jacchus.mCalJac1.pat.X.cdna.all.fa already exists;\tnot overwritten\n"
     ]
    },
    {
     "name": "stdout",
     "output_type": "stream",
     "text": [
      "23373  genes had duplicates\n",
      "0  genes had no location\n"
     ]
    },
    {
     "name": "stderr",
     "output_type": "stream",
     "text": [
      "gzip: /tmp/data/fasta/Danio_rerio.GRCz11.cdna.all.fa already exists;\tnot overwritten\n"
     ]
    },
    {
     "name": "stdout",
     "output_type": "stream",
     "text": [
      "30302  genes had duplicates\n",
      "428  genes had no location\n"
     ]
    },
    {
     "name": "stderr",
     "output_type": "stream",
     "text": [
      "gzip: /tmp/data/fasta/Drosophila_melanogaster.BDGP6.32.cdna.all.fa already exists;\tnot overwritten\n"
     ]
    },
    {
     "name": "stdout",
     "output_type": "stream",
     "text": [
      "14310  genes had duplicates\n",
      "0  genes had no location\n"
     ]
    },
    {
     "name": "stderr",
     "output_type": "stream",
     "text": [
      "gzip: /tmp/data/fasta/Gallus_gallus.bGalGal1.mat.broiler.GRCg7b.cdna.all.fa already exists;\tnot overwritten\n"
     ]
    },
    {
     "name": "stdout",
     "output_type": "stream",
     "text": [
      "17068  genes had duplicates\n",
      "0  genes had no location\n"
     ]
    },
    {
     "name": "stderr",
     "output_type": "stream",
     "text": [
      "gzip: /tmp/data/fasta/Heterocephalus_glaber_male.Naked_mole-rat_paternal.cdna.all.fa already exists;\tnot overwritten\n"
     ]
    },
    {
     "name": "stdout",
     "output_type": "stream",
     "text": [
      "24687  genes had duplicates\n",
      "0  genes had no location\n"
     ]
    },
    {
     "name": "stderr",
     "output_type": "stream",
     "text": [
      "gzip: /tmp/data/fasta/Macaca_mulatta.Mmul_10.cdna.all.fa already exists;\tnot overwritten\n"
     ]
    },
    {
     "name": "stdout",
     "output_type": "stream",
     "text": [
      "22528  genes had duplicates\n",
      "0  genes had no location\n"
     ]
    },
    {
     "name": "stderr",
     "output_type": "stream",
     "text": [
      "gzip: /tmp/data/fasta/Oryctolagus_cuniculus.OryCun2.0.cdna.all.fa already exists;\tnot overwritten\n"
     ]
    },
    {
     "name": "stdout",
     "output_type": "stream",
     "text": [
      "15523  genes had duplicates\n",
      "10474  genes had no location\n"
     ]
    },
    {
     "name": "stderr",
     "output_type": "stream",
     "text": [
      "gzip: /tmp/data/fasta/Ovis_aries.Oar_v3.1.cdna.all.fa already exists;\tnot overwritten\n"
     ]
    },
    {
     "name": "stdout",
     "output_type": "stream",
     "text": [
      "20440  genes had duplicates\n",
      "788  genes had no location\n"
     ]
    },
    {
     "name": "stderr",
     "output_type": "stream",
     "text": [
      "gzip: /tmp/data/fasta/Pan_troglodytes.Pan_tro_3.0.cdna.all.fa already exists;\tnot overwritten\n"
     ]
    },
    {
     "name": "stdout",
     "output_type": "stream",
     "text": [
      "22505  genes had duplicates\n",
      "2393  genes had no location\n"
     ]
    },
    {
     "name": "stderr",
     "output_type": "stream",
     "text": [
      "gzip: /tmp/data/fasta/Sus_scrofa.Sscrofa11.1.cdna.all.fa already exists;\tnot overwritten\n"
     ]
    },
    {
     "name": "stdout",
     "output_type": "stream",
     "text": [
      "22516  genes had duplicates\n",
      "0  genes had no location\n"
     ]
    },
    {
     "name": "stderr",
     "output_type": "stream",
     "text": [
      "gzip: /tmp/data/fasta/Zea_mays.Zm-B73-REFERENCE-NAM-5.0.cdna.all.fa already exists;\tnot overwritten\n"
     ]
    },
    {
     "name": "stdout",
     "output_type": "stream",
     "text": [
      "39035  genes had duplicates\n",
      "748  genes had no location\n"
     ]
    }
   ],
   "source": [
    "for species in names.keys():\n",
    "    file = load_fasta_species(species=species, load=[\"cdna\"])\n",
    "    file = file[0]\n",
    "    fname = file.split(\"/\")[-1]\n",
    "    run_command([\"gunzip\", file])\n",
    "    df = get_locs(file)\n",
    "    df.set_index(\"name\").to_parquet(f\"../data/main/gene_locs/{species.split('_')[0]}.parquet\")"
   ]
  },
  {
   "cell_type": "code",
   "execution_count": null,
   "metadata": {},
   "outputs": [],
   "source": [
    "get_locs(\"/tmp/data/fasta/Bos_taurus.ARS-UCD1.2.cdna.all.fa.gz\")"
   ]
  },
  {
   "cell_type": "code",
   "execution_count": 29,
   "metadata": {},
   "outputs": [
    {
     "data": {
      "text/plain": [
       "'bos_taurus'"
      ]
     },
     "execution_count": 29,
     "metadata": {},
     "output_type": "execute_result"
    }
   ],
   "source": [
    "list(names.keys())[2]"
   ]
  },
  {
   "cell_type": "code",
   "execution_count": 13,
   "metadata": {},
   "outputs": [
    {
     "data": {
      "text/html": [
       "<div>\n",
       "<style scoped>\n",
       "    .dataframe tbody tr th:only-of-type {\n",
       "        vertical-align: middle;\n",
       "    }\n",
       "\n",
       "    .dataframe tbody tr th {\n",
       "        vertical-align: top;\n",
       "    }\n",
       "\n",
       "    .dataframe thead th {\n",
       "        text-align: right;\n",
       "    }\n",
       "</style>\n",
       "<table border=\"1\" class=\"dataframe\">\n",
       "  <thead>\n",
       "    <tr style=\"text-align: right;\">\n",
       "      <th></th>\n",
       "      <th>chrom</th>\n",
       "      <th>start</th>\n",
       "      <th>end</th>\n",
       "    </tr>\n",
       "    <tr>\n",
       "      <th>name</th>\n",
       "      <th></th>\n",
       "      <th></th>\n",
       "      <th></th>\n",
       "    </tr>\n",
       "  </thead>\n",
       "  <tbody>\n",
       "    <tr>\n",
       "      <th>ENSMUSG00000051951</th>\n",
       "      <td>1</td>\n",
       "      <td>3276124</td>\n",
       "      <td>3286567</td>\n",
       "    </tr>\n",
       "    <tr>\n",
       "      <th>ENSMUSG00000102851</th>\n",
       "      <td>1</td>\n",
       "      <td>3322980</td>\n",
       "      <td>3323459</td>\n",
       "    </tr>\n",
       "    <tr>\n",
       "      <th>ENSMUSG00000103147</th>\n",
       "      <td>1</td>\n",
       "      <td>3602018</td>\n",
       "      <td>3602943</td>\n",
       "    </tr>\n",
       "    <tr>\n",
       "      <th>ENSMUSG00000025900</th>\n",
       "      <td>1</td>\n",
       "      <td>4069780</td>\n",
       "      <td>4479464</td>\n",
       "    </tr>\n",
       "    <tr>\n",
       "      <th>ENSMUSG00000102948</th>\n",
       "      <td>1</td>\n",
       "      <td>4326457</td>\n",
       "      <td>4330742</td>\n",
       "    </tr>\n",
       "    <tr>\n",
       "      <th>...</th>\n",
       "      <td>...</td>\n",
       "      <td>...</td>\n",
       "      <td>...</td>\n",
       "    </tr>\n",
       "    <tr>\n",
       "      <th>ENSMUSG00000100246</th>\n",
       "      <td>Y</td>\n",
       "      <td>90010986</td>\n",
       "      <td>90011680</td>\n",
       "    </tr>\n",
       "    <tr>\n",
       "      <th>ENSMUSG00000096178</th>\n",
       "      <td>Y</td>\n",
       "      <td>90412517</td>\n",
       "      <td>90444532</td>\n",
       "    </tr>\n",
       "    <tr>\n",
       "      <th>ENSMUSG00000100964</th>\n",
       "      <td>Y</td>\n",
       "      <td>90510316</td>\n",
       "      <td>90542914</td>\n",
       "    </tr>\n",
       "    <tr>\n",
       "      <th>ENSMUSG00000095134</th>\n",
       "      <td>Y</td>\n",
       "      <td>90764326</td>\n",
       "      <td>90774754</td>\n",
       "    </tr>\n",
       "    <tr>\n",
       "      <th>ENSMUSG00000099871</th>\n",
       "      <td>Y</td>\n",
       "      <td>90848682</td>\n",
       "      <td>90855309</td>\n",
       "    </tr>\n",
       "  </tbody>\n",
       "</table>\n",
       "<p>35937 rows × 3 columns</p>\n",
       "</div>"
      ],
      "text/plain": [
       "                   chrom     start       end\n",
       "name                                        \n",
       "ENSMUSG00000051951     1   3276124   3286567\n",
       "ENSMUSG00000102851     1   3322980   3323459\n",
       "ENSMUSG00000103147     1   3602018   3602943\n",
       "ENSMUSG00000025900     1   4069780   4479464\n",
       "ENSMUSG00000102948     1   4326457   4330742\n",
       "...                  ...       ...       ...\n",
       "ENSMUSG00000100246     Y  90010986  90011680\n",
       "ENSMUSG00000096178     Y  90412517  90444532\n",
       "ENSMUSG00000100964     Y  90510316  90542914\n",
       "ENSMUSG00000095134     Y  90764326  90774754\n",
       "ENSMUSG00000099871     Y  90848682  90855309\n",
       "\n",
       "[35937 rows x 3 columns]"
      ]
     },
     "execution_count": 13,
     "metadata": {},
     "output_type": "execute_result"
    }
   ],
   "source": [
    "pd.read_parquet(f\"../data/main/gene_locs/{list(names.keys())[0].split('_')[0]}.parquet\")"
   ]
  },
  {
   "cell_type": "code",
   "execution_count": 15,
   "metadata": {},
   "outputs": [
    {
     "name": "stdout",
     "output_type": "stream",
     "text": [
      "arabidopsis.parquet     gallus.parquet          ovis.parquet\n",
      "bos.parquet             heterocephalus.parquet  pan.parquet\n",
      "caenorhabditis.parquet  homo.parquet            sus.parquet\n",
      "callithrix.parquet      macaca.parquet          zea.parquet\n",
      "danio.parquet           mus.parquet\n",
      "drosophila.parquet      oryctolagus.parquet\n"
     ]
    }
   ],
   "source": [
    "ls ../data/main/gene_locs/"
   ]
  },
  {
   "cell_type": "code",
   "execution_count": 5,
   "metadata": {},
   "outputs": [],
   "source": [
    "import glob\n",
    "\n",
    "# Get all parquet files in the directory\n",
    "parquet_files = glob.glob(\"../data/main/gene_locs/*.parquet\")\n",
    "\n",
    "# Read all files and add a column with the filename (without path and extension)\n",
    "import os\n",
    "\n",
    "dfs = []\n",
    "for f in parquet_files:\n",
    "    df = pd.read_parquet(f)\n",
    "    # Add a column with the filename (without extension)\n",
    "    df[\"filename\"] = os.path.splitext(os.path.basename(f))[0]\n",
    "    dfs.append(df)\n",
    "\n",
    "# Concatenate all dataframes\n",
    "locs = pd.concat(dfs)"
   ]
  },
  {
   "cell_type": "code",
   "execution_count": 7,
   "metadata": {},
   "outputs": [
    {
     "data": {
      "text/html": [
       "<div>\n",
       "<style scoped>\n",
       "    .dataframe tbody tr th:only-of-type {\n",
       "        vertical-align: middle;\n",
       "    }\n",
       "\n",
       "    .dataframe tbody tr th {\n",
       "        vertical-align: top;\n",
       "    }\n",
       "\n",
       "    .dataframe thead th {\n",
       "        text-align: right;\n",
       "    }\n",
       "</style>\n",
       "<table border=\"1\" class=\"dataframe\">\n",
       "  <thead>\n",
       "    <tr style=\"text-align: right;\">\n",
       "      <th></th>\n",
       "      <th>chrom</th>\n",
       "      <th>start</th>\n",
       "      <th>end</th>\n",
       "      <th>filename</th>\n",
       "    </tr>\n",
       "    <tr>\n",
       "      <th>name</th>\n",
       "      <th></th>\n",
       "      <th></th>\n",
       "      <th></th>\n",
       "      <th></th>\n",
       "    </tr>\n",
       "  </thead>\n",
       "  <tbody>\n",
       "    <tr>\n",
       "      <th>ENSMUSG00000051951</th>\n",
       "      <td>1</td>\n",
       "      <td>3276124</td>\n",
       "      <td>3286567</td>\n",
       "      <td>mus</td>\n",
       "    </tr>\n",
       "    <tr>\n",
       "      <th>ENSMUSG00000102851</th>\n",
       "      <td>1</td>\n",
       "      <td>3322980</td>\n",
       "      <td>3323459</td>\n",
       "      <td>mus</td>\n",
       "    </tr>\n",
       "    <tr>\n",
       "      <th>ENSMUSG00000103147</th>\n",
       "      <td>1</td>\n",
       "      <td>3602018</td>\n",
       "      <td>3602943</td>\n",
       "      <td>mus</td>\n",
       "    </tr>\n",
       "    <tr>\n",
       "      <th>ENSMUSG00000025900</th>\n",
       "      <td>1</td>\n",
       "      <td>4069780</td>\n",
       "      <td>4479464</td>\n",
       "      <td>mus</td>\n",
       "    </tr>\n",
       "    <tr>\n",
       "      <th>ENSMUSG00000102948</th>\n",
       "      <td>1</td>\n",
       "      <td>4326457</td>\n",
       "      <td>4330742</td>\n",
       "      <td>mus</td>\n",
       "    </tr>\n",
       "    <tr>\n",
       "      <th>...</th>\n",
       "      <td>...</td>\n",
       "      <td>...</td>\n",
       "      <td>...</td>\n",
       "      <td>...</td>\n",
       "    </tr>\n",
       "    <tr>\n",
       "      <th>ENSOARG00000002575</th>\n",
       "      <td>X</td>\n",
       "      <td>133931633</td>\n",
       "      <td>133935348</td>\n",
       "      <td>ovis</td>\n",
       "    </tr>\n",
       "    <tr>\n",
       "      <th>ENSOARG00000002583</th>\n",
       "      <td>X</td>\n",
       "      <td>134413131</td>\n",
       "      <td>134415171</td>\n",
       "      <td>ovis</td>\n",
       "    </tr>\n",
       "    <tr>\n",
       "      <th>ENSOARG00000002599</th>\n",
       "      <td>X</td>\n",
       "      <td>134630071</td>\n",
       "      <td>134677540</td>\n",
       "      <td>ovis</td>\n",
       "    </tr>\n",
       "    <tr>\n",
       "      <th>ENSOARG00000010238</th>\n",
       "      <td>X</td>\n",
       "      <td>134842697</td>\n",
       "      <td>134843194</td>\n",
       "      <td>ovis</td>\n",
       "    </tr>\n",
       "    <tr>\n",
       "      <th>ENSOARG00000010260</th>\n",
       "      <td>X</td>\n",
       "      <td>135115101</td>\n",
       "      <td>135116249</td>\n",
       "      <td>ovis</td>\n",
       "    </tr>\n",
       "  </tbody>\n",
       "</table>\n",
       "<p>396054 rows × 4 columns</p>\n",
       "</div>"
      ],
      "text/plain": [
       "                   chrom      start        end filename\n",
       "name                                                   \n",
       "ENSMUSG00000051951     1    3276124    3286567      mus\n",
       "ENSMUSG00000102851     1    3322980    3323459      mus\n",
       "ENSMUSG00000103147     1    3602018    3602943      mus\n",
       "ENSMUSG00000025900     1    4069780    4479464      mus\n",
       "ENSMUSG00000102948     1    4326457    4330742      mus\n",
       "...                  ...        ...        ...      ...\n",
       "ENSOARG00000002575     X  133931633  133935348     ovis\n",
       "ENSOARG00000002583     X  134413131  134415171     ovis\n",
       "ENSOARG00000002599     X  134630071  134677540     ovis\n",
       "ENSOARG00000010238     X  134842697  134843194     ovis\n",
       "ENSOARG00000010260     X  135115101  135116249     ovis\n",
       "\n",
       "[396054 rows x 4 columns]"
      ]
     },
     "execution_count": 7,
     "metadata": {},
     "output_type": "execute_result"
    }
   ],
   "source": [
    "locs"
   ]
  },
  {
   "cell_type": "code",
   "execution_count": 22,
   "metadata": {},
   "outputs": [
    {
     "name": "stdout",
     "output_type": "stream",
     "text": [
      "mus\n",
      "0.8145365500737402\n",
      "zea\n",
      "0.6519277571410272\n",
      "heterocephalus\n",
      "0.8497184753108924\n",
      "drosophila\n",
      "0.6994409503843466\n",
      "macaca\n",
      "0.8736683238636364\n",
      "pan\n",
      "0.8767829371250833\n",
      "callithrix\n",
      "0.8828562871689556\n",
      "bos\n",
      "0.862238512426247\n",
      "gallus\n",
      "0.7230489805483946\n",
      "oryctolagus\n",
      "0.8861044901114475\n",
      "danio\n",
      "0.801498250940532\n",
      "caenorhabditis\n",
      "0.7014425903314793\n",
      "arabidopsis\n",
      "0.762285301030555\n",
      "sus\n",
      "0.8676940842067863\n",
      "homo\n",
      "0.797114037545531\n",
      "ovis\n",
      "0.8772504892367906\n"
     ]
    }
   ],
   "source": [
    "prevname = \"\"\n",
    "c = []\n",
    "for _, r in locs.iterrows():\n",
    "    if r[\"filename\"] != prevname:\n",
    "        prev_position = -100000\n",
    "        prev_chromosome = None\n",
    "        gene_position_tolerance = 10_000 if r['filename'] not in ['drosophila', 'caenorhabditis', 'arabidopsis'] else 2_000\n",
    "        i = 0\n",
    "    if r[\"chrom\"] != prev_chromosome:\n",
    "        i+=100\n",
    "    if r[\"start\"] - prev_position > gene_position_tolerance:\n",
    "        i += 1\n",
    "    c.append(i)\n",
    "    prev_position = r[\"start\"]\n",
    "    prev_chromosome = r[\"chrom\"]\n",
    "    prevname = r[\"filename\"]\n",
    "locs[\"pos\"] = c\n",
    "for i in locs[\"filename\"].unique():\n",
    "    # print reduced per filename\n",
    "    print(i)\n",
    "    l = locs[locs[\"filename\"] == i]\n",
    "    print(len(set(l[\"pos\"])) / len(l))"
   ]
  },
  {
   "cell_type": "code",
   "execution_count": 25,
   "metadata": {},
   "outputs": [],
   "source": [
    "locs.to_parquet(\"../data/main/gene_locs/all_locs.parquet\")"
   ]
  }
 ],
 "metadata": {
  "kernelspec": {
   "display_name": "scprint2",
   "language": "python",
   "name": "python3"
  },
  "language_info": {
   "codemirror_mode": {
    "name": "ipython",
    "version": 3
   },
   "file_extension": ".py",
   "mimetype": "text/x-python",
   "name": "python",
   "nbconvert_exporter": "python",
   "pygments_lexer": "ipython3",
   "version": "3.10.16"
  }
 },
 "nbformat": 4,
 "nbformat_minor": 2
}
