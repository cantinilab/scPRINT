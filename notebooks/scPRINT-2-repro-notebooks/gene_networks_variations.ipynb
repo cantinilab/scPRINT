{
 "cells": [
  {
   "cell_type": "code",
   "execution_count": 9,
   "id": "b13310b3",
   "metadata": {},
   "outputs": [
    {
     "name": "stdout",
     "output_type": "stream",
     "text": [
      "The autoreload extension is already loaded. To reload it, use:\n",
      "  %reload_ext autoreload\n"
     ]
    }
   ],
   "source": [
    "import pandas as pd\n",
    "\n",
    "from bengrn import get_GT_db, get_perturb_gt, get_sroy_gt, BenGRN, FILEDIR\n",
    "\n",
    "import numpy as np\n",
    "import tqdm\n",
    "import scanpy as sc\n",
    "import os\n",
    "\n",
    "from huggingface_hub import hf_hub_download\n",
    "\n",
    "from scprint import scPrint\n",
    "from scprint.tasks import GNInfer\n",
    "from scdataloader import Preprocessor\n",
    "\n",
    "from bengrn import BenGRN\n",
    "from anndata.utils import make_index_unique\n",
    "\n",
    "from bengrn.base import train_classifier\n",
    "from bengrn import compute_genie3\n",
    "from grnndata import utils as grnutils\n",
    "import joblib\n",
    "\n",
    "from scdataloader.utils import revert_to_raw\n",
    "\n",
    "import scipy.sparse\n",
    "\n",
    "import torch\n",
    "\n",
    "torch.set_float32_matmul_precision(\"medium\")\n",
    "\n",
    "%load_ext autoreload\n",
    "%autoreload 2"
   ]
  },
  {
   "cell_type": "markdown",
   "id": "25114152",
   "metadata": {},
   "source": [
    "## load gt"
   ]
  },
  {
   "cell_type": "code",
   "execution_count": null,
   "id": "42f9fb18",
   "metadata": {},
   "outputs": [
    {
     "name": "stderr",
     "output_type": "stream",
     "text": [
      "/home/ml4ig1/Documents code/benGRN/bengrn/base.py:657: ImplicitModificationWarning: Trying to modify attribute `.obs` of view, initializing view as actual.\n",
      "  adata_sc.obs[\"organism_ontology_term_id\"] = \"NCBITaxon:9606\"\n"
     ]
    }
   ],
   "source": [
    "gwps = get_perturb_gt()\n",
    "gwps.var.index = gwps.var.gene_name\n",
    "omni = get_GT_db(\"omnipath\")\n",
    "collectri = get_GT_db(\"collectri\")"
   ]
  },
  {
   "cell_type": "code",
   "execution_count": null,
   "id": "5d1e0cd4",
   "metadata": {},
   "outputs": [],
   "source": [
    "gwps = gwps.extract_links()"
   ]
  },
  {
   "cell_type": "code",
   "execution_count": null,
   "id": "56e8ea12",
   "metadata": {},
   "outputs": [],
   "source": [
    "# extracting PPI data from \"computing the human interactome\"\n",
    "humaninter = pd.read_csv(\n",
    "    \"http://prodata.swmed.edu/humanPPI/bulk_download/GoodPairs.txt\",\n",
    "    sep=\"\\t\",\n",
    "    skiprows=4,\n",
    ")"
   ]
  },
  {
   "cell_type": "code",
   "execution_count": null,
   "id": "30c44d15",
   "metadata": {},
   "outputs": [
    {
     "name": "stdout",
     "output_type": "stream",
     "text": [
      "Name: U2OS AP-MS network\n",
      "Number of nodes: 7543\n",
      "Number of nodes: 36842\n"
     ]
    }
   ],
   "source": [
    "# getting U2OS cell map data\n",
    "import json\n",
    "\n",
    "try:\n",
    "    import ndex2\n",
    "except ImportError:\n",
    "    os.system(\"uv pip install ndex2\")\n",
    "    import ndex2\n",
    "from ndex2.cx2 import RawCX2NetworkFactory, CX2NetworkXFactory\n",
    "from ndex2.cx2 import CX2NetworkPandasDataFrameFactory\n",
    "\n",
    "# Create NDEx2 python client\n",
    "client = ndex2.client.Ndex2()\n",
    "\n",
    "# Create CX2Network factory\n",
    "factory = RawCX2NetworkFactory()\n",
    "\n",
    "# Download BioGRID: Protein-Protein Interactions (SARS-CoV) from NDEx\n",
    "# https://www.ndexbio.org/viewer/networks/669f30a3-cee6-11ea-aaef-0ac135e8bacf\n",
    "client_resp = client.get_network_as_cx2_stream(\"95bc75d5-d1d1-11ee-8a40-005056ae23aa\")\n",
    "\n",
    "# Convert downloaded network to CX2Network object\n",
    "net_cx = factory.get_cx2network(json.loads(client_resp.content))\n",
    "\n",
    "# Display information about network and output 1st 100 characters of CX2\n",
    "print(\"Name: \" + net_cx.get_name())\n",
    "print(\"Number of nodes: \" + str(len(net_cx.get_nodes())))\n",
    "print(\"Number of nodes: \" + str(len(net_cx.get_edges())))\n",
    "\n",
    "# Creating an instance of CX2NetworkPandasDataFrameFactory\n",
    "factory = CX2NetworkPandasDataFrameFactory()\n",
    "\n",
    "# Converting CX2Network to DataFrame\n",
    "cellmap = factory.get_dataframe(net_cx)\n"
   ]
  },
  {
   "cell_type": "markdown",
   "id": "ec45e8e3",
   "metadata": {},
   "source": [
    "## load data"
   ]
  },
  {
   "cell_type": "code",
   "execution_count": 3,
   "id": "514fcef1",
   "metadata": {},
   "outputs": [
    {
     "name": "stdout",
     "output_type": "stream",
     "text": [
      " \u001b[0m\u001b[01;34mone2one_orthologs\u001b[0m/            task4_human.h5ad   task8_frog.h5ad\n",
      " README                        task4_mouse.h5ad   task9-1_ant.h5ad\n",
      "'Supplementary Table 3.xlsx'   task6_nema.h5ad    task9-1_mouse2_adult.h5ad\n",
      " task36_sea_urchin.h5ad        task6_sty.h5ad     task9_ant.h5ad\n",
      " task36_zebrafish.h5ad         task7_cat.h5ad     task9_mouse.h5ad\n",
      " task3_cat.h5ad                task7_dog.h5ad\n",
      " task3_tiger.h5ad              task8_fish.h5ad\n"
     ]
    }
   ],
   "source": [
    "ls ./normalize_log"
   ]
  },
  {
   "cell_type": "code",
   "execution_count": 6,
   "id": "e3130f59",
   "metadata": {},
   "outputs": [],
   "source": [
    "human = sc.read(\"./normalize_log/task4_human.h5ad\")\n",
    "mouse = sc.read(\"./normalize_log/task4_mouse.h5ad\")"
   ]
  },
  {
   "cell_type": "code",
   "execution_count": 7,
   "id": "bb57da65",
   "metadata": {},
   "outputs": [],
   "source": [
    "human.obs[\"organism_ontology_term_id\"] = \"NCBITaxon:9606\"\n",
    "mouse.obs[\"organism_ontology_term_id\"] = \"NCBITaxon:10090\""
   ]
  },
  {
   "cell_type": "code",
   "execution_count": 11,
   "id": "fad792e6",
   "metadata": {},
   "outputs": [],
   "source": [
    "mouse = revert_to_raw(mouse)\n",
    "human = revert_to_raw(human)"
   ]
  },
  {
   "cell_type": "code",
   "execution_count": 20,
   "id": "8a351c5c",
   "metadata": {},
   "outputs": [],
   "source": [
    "commonset = set(mouse.var.index.str.upper()) & set(human.var.index)"
   ]
  },
  {
   "cell_type": "code",
   "execution_count": 23,
   "id": "42586194",
   "metadata": {},
   "outputs": [
    {
     "data": {
      "text/plain": [
       "AdultBladder_1.CCATCTAGCGAGTTTAGG    Bladder\n",
       "AdultBladder_1.GAGGAGCGCTTGATACAG    Bladder\n",
       "AdultBladder_1.CCAGACACAATAGAATTA    Bladder\n",
       "AdultBladder_1.CCGACGGGACATATGGCG    Bladder\n",
       "AdultBladder_1.TAGCATTCAAAGATTCCA    Bladder\n",
       "                                      ...   \n",
       "AdultMuscle_1.CCAGACATGCTTCGCACC      Muscle\n",
       "AdultMuscle_1.TCGGGTACAATAAAGTAC      Muscle\n",
       "AdultMuscle_1.TGCAATTCGTAACATCCC      Muscle\n",
       "AdultMuscle_1.TCGGGTTTAACTGTCGGT      Muscle\n",
       "AdultMuscle_1.AAAGTTGTAATGGCAGGA      Muscle\n",
       "Name: tissue, Length: 31474, dtype: category\n",
       "Categories (6, object): ['Bladder', 'Brain', 'Heart', 'Kidney', 'Liver', 'Muscle']"
      ]
     },
     "execution_count": 23,
     "metadata": {},
     "output_type": "execute_result"
    }
   ],
   "source": [
    "mouse.obs.tissue"
   ]
  },
  {
   "cell_type": "code",
   "execution_count": 30,
   "id": "b0245792",
   "metadata": {},
   "outputs": [
    {
     "data": {
      "text/plain": [
       "['Epithelial cell',\n",
       " 'Dendritic cell',\n",
       " 'Macrophage',\n",
       " 'Monocyte',\n",
       " 'Basal cell',\n",
       " 'T cell',\n",
       " 'Fibroblast',\n",
       " 'Neutrophil',\n",
       " 'Smooth muscle cell',\n",
       " 'Endothelial cell',\n",
       " 'Erythroid cell',\n",
       " 'B cell',\n",
       " 'Gastric epithelial cell',\n",
       " 'Unknown',\n",
       " 'Secretory alveoli cell',\n",
       " 'Myocyte',\n",
       " 'Ependymal cell',\n",
       " 'Glia',\n",
       " 'Astrocyte',\n",
       " 'Oligodendrocyte',\n",
       " 'Microglia',\n",
       " 'Mesenchymal cell',\n",
       " 'Plasma cell',\n",
       " 'Mast cell',\n",
       " 'Neural progenitor cell',\n",
       " 'Cardiomyocyte',\n",
       " 'Proliferating cell',\n",
       " 'Adipocyte cell',\n",
       " 'Renal epithelial cell',\n",
       " 'Chondrocyte',\n",
       " 'Erythroblast',\n",
       " 'Megakaryocyte',\n",
       " 'Proximal tubule cell',\n",
       " 'Intercalated cells of collecting duct',\n",
       " 'Ascending loop of Henle',\n",
       " 'Connecting tubule cell',\n",
       " 'Striated muscle cell',\n",
       " 'Distal convoluted tubule',\n",
       " 'Hepatocyte',\n",
       " 'Enterocyte',\n",
       " 'Goblet cell']"
      ]
     },
     "execution_count": 30,
     "metadata": {},
     "output_type": "execute_result"
    }
   ],
   "source": [
    "mouse.obs.celltype.unique().tolist()"
   ]
  },
  {
   "cell_type": "code",
   "execution_count": null,
   "id": "baf51def",
   "metadata": {},
   "outputs": [],
   "source": [
    "macr"
   ]
  },
  {
   "cell_type": "code",
   "execution_count": null,
   "id": "d4ce1279",
   "metadata": {},
   "outputs": [],
   "source": [
    "\"Fibroblast\" | \"Macrophage\""
   ]
  },
  {
   "cell_type": "code",
   "execution_count": null,
   "id": "2691cf48",
   "metadata": {},
   "outputs": [],
   "source": [
    "\"stromal cell\", \"fetal stromal\""
   ]
  },
  {
   "cell_type": "code",
   "execution_count": null,
   "id": "f816161c",
   "metadata": {},
   "outputs": [],
   "source": [
    "'B cell', \"T cell\""
   ]
  },
  {
   "cell_type": "code",
   "execution_count": 27,
   "id": "f4b00e0d",
   "metadata": {},
   "outputs": [
    {
     "data": {
      "text/plain": [
       "['Stromal cell',\n",
       " 'Fibroblast',\n",
       " 'Endothelial cell (APC)',\n",
       " 'Smooth muscle cell',\n",
       " 'Epithelial cell (intermediated)',\n",
       " 'B cell (Plasmocyte)',\n",
       " 'Macrophage',\n",
       " 'Endothelial cell',\n",
       " 'Endothelial cell (endothelial to mesenchymal transition)',\n",
       " 'Mast cell',\n",
       " 'Monocyte',\n",
       " 'Dendritic cell',\n",
       " 'Intermediated cell',\n",
       " 'T cell',\n",
       " 'Gastric endocrine cell',\n",
       " 'Basal cell',\n",
       " 'Fetal fibroblast',\n",
       " 'Epithelial cell',\n",
       " 'Ventricle cardiomyocyte',\n",
       " 'Antigen presenting cell (RPS high)',\n",
       " 'M2 Macrophage',\n",
       " 'Sinusoidal endothelial cell',\n",
       " 'Neutrophil',\n",
       " 'B cell',\n",
       " 'Fasciculata cell',\n",
       " 'Myeloid cell',\n",
       " 'Intercalated cell',\n",
       " 'Loop of Henle',\n",
       " 'Erythroid progenitor cell (RP high)',\n",
       " 'Fetal epithelial progenitor',\n",
       " 'Ureteric bud cell',\n",
       " 'hESC',\n",
       " 'Stratified epithelial cell',\n",
       " 'Proximal tubule progenitor',\n",
       " 'Fetal enterocyte ',\n",
       " 'Proliferating T cell',\n",
       " 'CB CD34+',\n",
       " 'Fetal stromal cell',\n",
       " 'Fetal mesenchymal progenitor',\n",
       " 'Neutrophil (RPS high)',\n",
       " 'Pancreas exocrine cell',\n",
       " 'Enterocyte progenitor',\n",
       " 'Goblet cell',\n",
       " 'Erythroid cell',\n",
       " 'Fetal skeletal muscle cell']"
      ]
     },
     "execution_count": 27,
     "metadata": {},
     "output_type": "execute_result"
    }
   ],
   "source": [
    "human.obs.celltype.unique().tolist()"
   ]
  },
  {
   "cell_type": "code",
   "execution_count": 22,
   "id": "0bd3d2aa",
   "metadata": {},
   "outputs": [
    {
     "data": {
      "text/plain": [
       "AdultBladder_1.CTCGCACAACAAGCTGTG-0    Bladder\n",
       "AdultBladder_1.CTCGCAATTTGCGGTACA-0    Bladder\n",
       "AdultBladder_1.AGGACTCGGCAGATTTGC-0    Bladder\n",
       "AdultBladder_1.ACAATACGGCAGCGGCAG-0    Bladder\n",
       "AdultBladder_1.AAGCGGAAAACGCGCACC-0    Bladder\n",
       "                                        ...   \n",
       "AdultKidney_4.TAGTCGTAAGGGGACACT2-1     Kidney\n",
       "AdultKidney_4.TTCATACGAGTATCGGGT2-1     Kidney\n",
       "AdultKidney_4.ACGTTGTAGTCGAACGCC2-1     Kidney\n",
       "AdultKidney_4.AACGCCAAAACGTGCAAT2-1     Kidney\n",
       "AdultKidney_4.AAGTACCCGACGGGGTTT2-1     Kidney\n",
       "Name: tissue, Length: 52816, dtype: category\n",
       "Categories (5, object): ['Bladder', 'Heart', 'Kidney', 'Liver', 'Muscle']"
      ]
     },
     "execution_count": 22,
     "metadata": {},
     "output_type": "execute_result"
    }
   ],
   "source": [
    "human.obs.tissue"
   ]
  },
  {
   "cell_type": "code",
   "execution_count": 12,
   "id": "219a3b01",
   "metadata": {},
   "outputs": [],
   "source": [
    "human.X = scipy.sparse.csr_matrix(human.X)\n",
    "mouse.X = scipy.sparse.csr_matrix(mouse.X)"
   ]
  },
  {
   "cell_type": "code",
   "execution_count": null,
   "id": "7ba7ec69",
   "metadata": {},
   "outputs": [
    {
     "name": "stdout",
     "output_type": "stream",
     "text": [
      "Dropping layers:  KeysView(Layers with keys: )\n",
      "checking raw counts\n",
      "removed 0 non primary cells, 52816 renamining\n",
      "filtered out 5 cells, 52811 renamining\n",
      "Removed 4336 genes not known to the ontology\n",
      "Removed 0 duplicate genes\n",
      "Added 53976 genes in the ontology but not present in the dataset\n",
      "starting QC\n",
      "Seeing 5689 outliers (10.77% of total dataset):\n",
      "done\n",
      "AnnData object with n_obs × n_vars = 52811 × 70611\n",
      "    obs: 'orig.ident', 'nCount_RNA', 'nFeature_RNA', 'tissue', 'n_genes', 'n_counts', 'sample', 'stage', 'celltype', 'batch', 'organism_ontology_term_id', 'nnz', 'n_genes_by_counts', 'log1p_n_genes_by_counts', 'total_counts', 'log1p_total_counts', 'pct_counts_in_top_20_genes', 'total_counts_mt', 'log1p_total_counts_mt', 'pct_counts_mt', 'total_counts_ribo', 'log1p_total_counts_ribo', 'pct_counts_ribo', 'total_counts_hb', 'log1p_total_counts_hb', 'pct_counts_hb', 'outlier', 'mt_outlier'\n",
      "    var: 'n_cells', 'uid', 'symbol', 'biotype', 'organism_id', 'branch_id', 'mt', 'ribo', 'hb', 'organism', 'ensembl_gene_id', 'n_cells_by_counts', 'mean_counts', 'log1p_mean_counts', 'pct_dropout_by_counts', 'total_counts', 'log1p_total_counts'\n",
      "    uns: 'unseen_genes'\n",
      "Dropping layers:  KeysView(Layers with keys: )\n",
      "checking raw counts\n",
      "removed 0 non primary cells, 31474 renamining\n",
      "filtered out 0 cells, 31474 renamining\n",
      "Removed 1256 genes not known to the ontology\n",
      "Removed 0 duplicate genes\n",
      "Added 39268 genes in the ontology but not present in the dataset\n",
      "starting QC\n",
      "Seeing 4049 outliers (12.86% of total dataset):\n",
      "done\n",
      "AnnData object with n_obs × n_vars = 31474 × 57186\n",
      "    obs: 'orig.ident', 'nCount_RNA', 'nFeature_RNA', 'tissue', 'stage', 'celltype', 'cell_lineage', 'n_genes', 'batch', 'organism_ontology_term_id', 'nnz', 'n_genes_by_counts', 'log1p_n_genes_by_counts', 'total_counts', 'log1p_total_counts', 'pct_counts_in_top_20_genes', 'total_counts_mt', 'log1p_total_counts_mt', 'pct_counts_mt', 'total_counts_ribo', 'log1p_total_counts_ribo', 'pct_counts_ribo', 'total_counts_hb', 'log1p_total_counts_hb', 'pct_counts_hb', 'outlier', 'mt_outlier'\n",
      "    var: 'n_cells', 'uid', 'symbol', 'biotype', 'organism_id', 'branch_id', 'mt', 'ribo', 'hb', 'organism', 'ensembl_gene_id', 'n_cells_by_counts', 'mean_counts', 'log1p_mean_counts', 'pct_dropout_by_counts', 'total_counts', 'log1p_total_counts'\n",
      "    uns: 'unseen_genes'\n"
     ]
    }
   ],
   "source": [
    "preprocessor = Preprocessor(\n",
    "    is_symbol=True, force_preprocess=True, skip_validate=True, do_postp=False\n",
    ")\n",
    "human_p = preprocessor(human.copy())\n",
    "mouse_p = preprocessor(mouse.copy())"
   ]
  },
  {
   "cell_type": "code",
   "execution_count": null,
   "id": "8260d87c",
   "metadata": {},
   "outputs": [],
   "source": []
  },
  {
   "cell_type": "code",
   "execution_count": null,
   "id": "5ef8df0f",
   "metadata": {},
   "outputs": [],
   "source": []
  },
  {
   "cell_type": "markdown",
   "id": "bf5189da",
   "metadata": {},
   "source": [
    "## generate results"
   ]
  },
  {
   "cell_type": "code",
   "execution_count": null,
   "id": "7b892ebd",
   "metadata": {},
   "outputs": [],
   "source": [
    "model_checkpoint_file = \"../../../w937u4o1.ckpt\"  # w937u4o1.ckpt\"\n"
   ]
  },
  {
   "cell_type": "code",
   "execution_count": null,
   "id": "d8a0ee29",
   "metadata": {},
   "outputs": [
    {
     "name": "stdout",
     "output_type": "stream",
     "text": [
      "Gene position encoding has changed in the dataloader compared to last time, trying to revert\n",
      "FYI: scPrint is not attached to a `Trainer`.\n"
     ]
    }
   ],
   "source": [
    "model = scPrint.load_from_checkpoint(model_checkpoint_file, precpt_gene_emb=None)\n",
    "model = model.to(\"cuda\")"
   ]
  },
  {
   "cell_type": "code",
   "execution_count": null,
   "id": "c8023267",
   "metadata": {},
   "outputs": [],
   "source": [
    "CELLTYPES = [\"oligodendrocyte\"]\n",
    "\n",
    "NUM_GENES = 5000\n",
    "MAXCELLS = 1024\n",
    "LOC = \"../..data/temp/\"  #"
   ]
  },
  {
   "cell_type": "code",
   "execution_count": null,
   "id": "6a186a61",
   "metadata": {},
   "outputs": [
    {
     "data": {
      "text/plain": [
       "AnnData object with n_obs × n_vars = 3589 × 22149\n",
       "    obs: 'Sample.type', 'Selection', 'Location', 'Sample.name', 'Total_reads', 'Unique_reads', 'Unique_reads_percent', 'Splice_sites_total', 'Splice_sites_Annotated', 'Splice_sites_GT.AG', 'Splice_sites_GC.AG', 'Splice_sites_AT.AC', 'Splice_sites_non_canonical', 'Multimapping_reads_percent', 'Unmapped_mismatch', 'Unmapped_short', 'Unmapped_other', 'ERCC_reads', 'Non_ERCC_reads', 'ERCC_to_non_ERCC', 'Genes_detected', 'housekeeping_cluster', 'Cluster_2d', 'Cluster_2d_color', 'tissue_ontology_term_id', 'assay_ontology_term_id', 'disease_ontology_term_id', 'cell_type_ontology_term_id', 'self_reported_ethnicity_ontology_term_id', 'development_stage_ontology_term_id', 'sex_ontology_term_id', 'is_primary_data', 'organism_ontology_term_id', 'donor_id', 'suspension_type', 'tissue_type', 'cell_type', 'assay', 'disease', 'organism', 'sex', 'tissue', 'self_reported_ethnicity', 'development_stage', 'observation_joinid'\n",
       "    var: 'feature_is_filtered', 'feature_name', 'feature_reference', 'feature_biotype', 'feature_length', 'feature_type', 'isTF'\n",
       "    uns: 'Location_colors', 'Sample.name_colors', 'Selection_colors', 'citation', 'schema_reference', 'schema_version', 'title'\n",
       "    obsm: 'X_tsne'"
      ]
     },
     "metadata": {},
     "output_type": "display_data"
    }
   ],
   "source": [
    "# only dataset dropped\n",
    "adata = sc.read(\n",
    "    LOC + \"glio_smart_highdepth\" + \".h5ad\",\n",
    "    backup_url=\"https://datasets.cellxgene.cziscience.com/6ec440b4-542a-4022-ac01-56f812e25593.h5ad\",\n",
    ")\n",
    "\n",
    "adata.var[\"isTF\"] = False\n",
    "adata.var.loc[adata.var.feature_name.isin(grnutils.TF), \"isTF\"] = True\n",
    "adata"
   ]
  },
  {
   "cell_type": "code",
   "execution_count": null,
   "id": "5008e551",
   "metadata": {},
   "outputs": [
    {
     "data": {
      "text/plain": [
       "cell_type\n",
       "myeloid cell                      1842\n",
       "neoplastic cell                   1079\n",
       "oligodendrocyte precursor cell     406\n",
       "astrocyte                           88\n",
       "oligodendrocyte                     81\n",
       "vascular lymphangioblast            50\n",
       "neuron                              21\n",
       "Name: count, dtype: int64"
      ]
     },
     "metadata": {},
     "output_type": "display_data"
    }
   ],
   "source": [
    "adata.obs.cell_type.value_counts()"
   ]
  },
  {
   "cell_type": "code",
   "execution_count": null,
   "id": "5180e00a",
   "metadata": {},
   "outputs": [
    {
     "name": "stdout",
     "output_type": "stream",
     "text": [
      "Dropping layers:  KeysView(Layers with keys: )\n",
      "checking raw counts\n",
      "removed 0 non primary cells, 3589 renamining\n",
      "filtered out 22 cells, 3567 renamining\n",
      "Removed 7 genes not known to the ontology\n",
      "Removed 0 duplicate genes\n",
      "Added 48469 genes in the ontology but not present in the dataset\n",
      "starting QC\n",
      "Seeing 71 outliers (1.99% of total dataset):\n",
      "done\n",
      "AnnData object with n_obs × n_vars = 3567 × 70611\n",
      "    obs: 'Sample.type', 'Selection', 'Location', 'Sample.name', 'Total_reads', 'Unique_reads', 'Unique_reads_percent', 'Splice_sites_total', 'Splice_sites_Annotated', 'Splice_sites_GT.AG', 'Splice_sites_GC.AG', 'Splice_sites_AT.AC', 'Splice_sites_non_canonical', 'Multimapping_reads_percent', 'Unmapped_mismatch', 'Unmapped_short', 'Unmapped_other', 'ERCC_reads', 'Non_ERCC_reads', 'ERCC_to_non_ERCC', 'Genes_detected', 'housekeeping_cluster', 'Cluster_2d', 'Cluster_2d_color', 'tissue_ontology_term_id', 'assay_ontology_term_id', 'disease_ontology_term_id', 'cell_type_ontology_term_id', 'self_reported_ethnicity_ontology_term_id', 'development_stage_ontology_term_id', 'sex_ontology_term_id', 'is_primary_data', 'organism_ontology_term_id', 'donor_id', 'suspension_type', 'tissue_type', 'cell_type', 'assay', 'disease', 'organism', 'sex', 'tissue', 'self_reported_ethnicity', 'development_stage', 'observation_joinid', 'nnz', 'n_genes', 'n_genes_by_counts', 'log1p_n_genes_by_counts', 'total_counts', 'log1p_total_counts', 'pct_counts_in_top_20_genes', 'total_counts_mt', 'log1p_total_counts_mt', 'pct_counts_mt', 'total_counts_ribo', 'log1p_total_counts_ribo', 'pct_counts_ribo', 'total_counts_hb', 'log1p_total_counts_hb', 'pct_counts_hb', 'outlier', 'mt_outlier'\n",
      "    var: 'feature_is_filtered', 'feature_name', 'feature_reference', 'feature_biotype', 'feature_length', 'feature_type', 'isTF', 'uid', 'symbol', 'biotype', 'organism_id', 'branch_id', 'mt', 'ribo', 'hb', 'organism', 'ensembl_gene_id', 'n_cells_by_counts', 'mean_counts', 'log1p_mean_counts', 'pct_dropout_by_counts', 'total_counts', 'log1p_total_counts'\n",
      "    uns: 'unseen_genes'\n"
     ]
    }
   ],
   "source": [
    "preprocessor = Preprocessor(force_preprocess=True, skip_validate=True, do_postp=False)\n",
    "adata = preprocessor(adata.copy())"
   ]
  },
  {
   "cell_type": "code",
   "execution_count": null,
   "id": "19156491",
   "metadata": {},
   "outputs": [
    {
     "name": "stdout",
     "output_type": "stream",
     "text": [
      "number of expressed genes in this cell type: 20704\n",
      "not on wandb, could not set name\n"
     ]
    },
    {
     "name": "stderr",
     "output_type": "stream",
     "text": [
      "100%|██████████| 128/128 [00:07<00:00, 16.07it/s]\n",
      "... storing 'biotype' as categorical\n",
      "... storing 'organism' as categorical\n"
     ]
    },
    {
     "name": "stdout",
     "output_type": "stream",
     "text": [
      "avg link count: 3549456, sparsity: 1.0\n"
     ]
    },
    {
     "ename": "IndexError",
     "evalue": "too many indices for array: array is 2-dimensional, but 3 were indexed",
     "output_type": "error",
     "traceback": [
      "\u001b[31m---------------------------------------------------------------------------\u001b[39m\n",
      "\u001b[31mIndexError\u001b[39m                                Traceback (most recent call last)\n",
      "\u001b[36mCell\u001b[39m\u001b[36m \u001b[39m\u001b[32mIn[21]\u001b[39m\u001b[32m, line 18\u001b[39m\n",
      "\u001b[32m     16\u001b[39m grn.var.index = make_index_unique(grn.var[\u001b[33m\"\u001b[39m\u001b[33msymbol\u001b[39m\u001b[33m\"\u001b[39m].astype(\u001b[38;5;28mstr\u001b[39m))\n",
      "\u001b[32m     17\u001b[39m \u001b[38;5;66;03m#grn.varp[\"all\"] = grn.varp[\"GRN\"]\u001b[39;00m\n",
      "\u001b[32m---> \u001b[39m\u001b[32m18\u001b[39m grn.varp[\u001b[33m\"\u001b[39m\u001b[33mGRN\u001b[39m\u001b[33m\"\u001b[39m] = \u001b[43mgrn\u001b[49m\u001b[43m.\u001b[49m\u001b[43mvarp\u001b[49m\u001b[43m[\u001b[49m\u001b[33;43m\"\u001b[39;49m\u001b[33;43mGRN\u001b[39;49m\u001b[33;43m\"\u001b[39;49m\u001b[43m]\u001b[49m\u001b[43m[\u001b[49m\u001b[43m:\u001b[49m\u001b[43m,\u001b[49m\u001b[43m \u001b[49m\u001b[43m:\u001b[49m\u001b[43m,\u001b[49m\u001b[43m \u001b[49m\u001b[43m:\u001b[49m\u001b[43m]\u001b[49m.mean(-\u001b[32m1\u001b[39m)\n",
      "\u001b[32m     19\u001b[39m \u001b[38;5;66;03m#metrics[celltype + \"_scprint_mean\"] = BenGRN(grn).scprint_benchmark()\u001b[39;00m\n",
      "\n",
      "\u001b[31mIndexError\u001b[39m: too many indices for array: array is 2-dimensional, but 3 were indexed"
     ]
    }
   ],
   "source": [
    "metrics = {}\n",
    "clf_omni = None\n",
    "shapes = []\n",
    "grn_inferer = GNInfer(\n",
    "    how=\"most var within\",\n",
    "    preprocess=\"softmax\",\n",
    "    head_agg=\"mean\",\n",
    "    filtration=\"none\",\n",
    "    num_genes=2000,\n",
    "    max_cells=256,\n",
    "    num_workers=8,\n",
    "    batch_size=2,\n",
    ")\n",
    "grn = grn_inferer(model, adata[(adata.X.sum(1) > 500)])\n",
    "grn.var.index = make_index_unique(grn.var[\"symbol\"].astype(str))\n",
    "# grn.varp[\"all\"] = grn.varp[\"GRN\"]\n",
    "# grn.varp[\"GRN\"] = grn.varp[\"GRN\"][:, :, :].mean(-1)\n",
    "# metrics[celltype + \"_scprint_mean\"] = BenGRN(grn).scprint_benchmark()"
   ]
  },
  {
   "cell_type": "code",
   "execution_count": null,
   "id": "2627e44a",
   "metadata": {},
   "outputs": [],
   "source": []
  },
  {
   "cell_type": "code",
   "execution_count": null,
   "id": "f5f56e9a",
   "metadata": {},
   "outputs": [],
   "source": []
  },
  {
   "cell_type": "markdown",
   "id": "64cde26c",
   "metadata": {},
   "source": [
    "## bench variations"
   ]
  },
  {
   "cell_type": "code",
   "execution_count": null,
   "id": "cb9c4d49",
   "metadata": {},
   "outputs": [],
   "source": []
  },
  {
   "cell_type": "code",
   "execution_count": null,
   "id": "2afb19d2",
   "metadata": {},
   "outputs": [],
   "source": []
  },
  {
   "cell_type": "code",
   "execution_count": null,
   "id": "bc2b4197",
   "metadata": {},
   "outputs": [],
   "source": []
  }
 ],
 "metadata": {
  "kernelspec": {
   "display_name": "scPRINT",
   "language": "python",
   "name": "python3"
  },
  "language_info": {
   "codemirror_mode": {
    "name": "ipython",
    "version": 3
   },
   "file_extension": ".py",
   "mimetype": "text/x-python",
   "name": "python",
   "nbconvert_exporter": "python",
   "pygments_lexer": "ipython3",
   "version": "3.11.4"
  }
 },
 "nbformat": 4,
 "nbformat_minor": 5
}
