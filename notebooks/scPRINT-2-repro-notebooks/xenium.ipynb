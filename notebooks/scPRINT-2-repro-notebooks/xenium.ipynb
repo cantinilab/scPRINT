{
 "cells": [
  {
   "cell_type": "code",
   "execution_count": 1,
   "metadata": {},
   "outputs": [
    {
     "name": "stdout",
     "output_type": "stream",
     "text": [
      "\u001b[92m→\u001b[0m connected lamindb: jkobject/scprint2\n"
     ]
    }
   ],
   "source": [
    "#! lamin init --storage ./lamin-intro --schema bionty \n",
    "\n",
    "import scanpy as sc\n",
    "from scprint import scPrint\n",
    "from scdataloader import Preprocessor\n",
    "from scdataloader.utils import load_genes\n",
    "import numpy as np\n",
    "import anndata as ad\n",
    "from huggingface_hub import hf_hub_download\n",
    "\n",
    "from scprint.tasks import Denoiser, withknn\n",
    "from scprint.model.utils import downsample_profile\n",
    "from scipy.stats import spearmanr\n",
    "from anndata import AnnData\n",
    "\n",
    "import seaborn as sns\n",
    "%load_ext autoreload\n",
    "%autoreload 2\n",
    "\n",
    "import torch\n",
    "torch.set_float32_matmul_precision('medium')"
   ]
  },
  {
   "cell_type": "code",
   "execution_count": 2,
   "metadata": {},
   "outputs": [],
   "source": [
    "#model_checkpoint_file = hf_hub_download(\n",
    "#    repo_id=\"jkobject/scPRINT\", filename=f\"v2-medium.ckpt\"\n",
    "#)\n",
    "#model_checkpoint_file = ../data/\n",
    "model_checkpoint_file = '../../../wmpzj506.ckpt' "
   ]
  },
  {
   "cell_type": "code",
   "execution_count": 14,
   "metadata": {},
   "outputs": [],
   "source": [
    "m = torch.load(model_checkpoint_file)\n",
    "m['hyper_parameters']['label_decoders'] = {k:{u: str(w) for u,w in v.items()} for k,v in m['hyper_parameters']['label_decoders'].items()}\n",
    "m['hyper_parameters']['organisms'] = [\"NCBITaxon:10090\", \"NCBITaxon:9606\"]\n",
    "torch.save(m, model_checkpoint_file)"
   ]
  },
  {
   "cell_type": "code",
   "execution_count": 3,
   "metadata": {},
   "outputs": [
    {
     "name": "stdout",
     "output_type": "stream",
     "text": [
      "FYI: scPrint is not attached to a `Trainer`.\n"
     ]
    }
   ],
   "source": [
    "model = scPrint.load_from_checkpoint(model_checkpoint_file, use_metacell_token=True, precpt_gene_emb=None)"
   ]
  },
  {
   "cell_type": "code",
   "execution_count": null,
   "metadata": {},
   "outputs": [],
   "source": [
    "m = torch.load(model_checkpoint_file)\n",
    "if \"prenorm\" in m['hyper_parameters']:\n",
    "    m['hyper_parameters'].pop(\"prenorm\")\n",
    "    torch.save(m, model_checkpoint_file)\n",
    "if \"label_counts\" in m['hyper_parameters']:\n",
    "    model = scPrint.load_from_checkpoint(model_checkpoint_file, precpt_gene_emb=None, classes=m['hyper_parameters']['label_counts'])\n",
    "else:\n",
    "    model = scPrint.load_from_checkpoint(model_checkpoint_file, precpt_gene_emb=None)"
   ]
  },
  {
   "cell_type": "code",
   "execution_count": null,
   "metadata": {},
   "outputs": [
    {
     "name": "stderr",
     "output_type": "stream",
     "text": [
      "/home/ml4ig1/Documents code/scDataLoader/scdataloader/utils.py:372: FutureWarning: The behavior of DataFrame concatenation with empty or all-NA entries is deprecated. In a future version, this will no longer exclude empty or all-NA columns when determining the result dtypes. To retain the old behavior, exclude the relevant entries before the concat operation.\n",
      "  organismdf = pd.concat(organismdf)\n"
     ]
    },
    {
     "data": {
      "text/plain": [
       "set()"
      ]
     },
     "metadata": {},
     "output_type": "display_data"
    }
   ],
   "source": [
    "genes = load_genes(model.organisms)\n",
    "set(model.genes) - set(genes.index)"
   ]
  },
  {
   "cell_type": "code",
   "execution_count": null,
   "metadata": {},
   "outputs": [],
   "source": [
    "#Get indices of genes that exist in genes. index\n",
    "valid_indices = [i for i in range(len(model.genes)) if model.genes[i] in genes.index]\n",
    "# Create-new •embedding-weights tensor with only valid genes new _weights -=-model.gene_encoder[01.embeddings.weight[valid_indices]\n",
    "# Create- new-embedding layer with-correct size\n",
    "new_embeddings = torch.nn.Embedding(len(valid_indices), model.gene_encoder[0].embeddings.embedding_dim, device=model.device)\n",
    "#Copy the-weights-to-the new-embedding-layer new_embeddings.weight.data.= new_weights\n",
    "#-Replace the old •embeddings with the new one\n",
    "model.gene_encoder[0].embeddings = new_embeddings\n",
    "model.genes = [i for i in model.genes if i in genes.index]\n",
    "\n",
    "model = model.to(model.device)"
   ]
  }
 ],
 "metadata": {
  "kernelspec": {
   "display_name": "scprnt2",
   "language": "python",
   "name": "python3"
  },
  "language_info": {
   "codemirror_mode": {
    "name": "ipython",
    "version": 3
   },
   "file_extension": ".py",
   "mimetype": "text/x-python",
   "name": "python",
   "nbconvert_exporter": "python",
   "pygments_lexer": "ipython3",
   "version": "3.10.16"
  }
 },
 "nbformat": 4,
 "nbformat_minor": 2
}
