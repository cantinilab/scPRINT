{
 "cells": [
  {
   "cell_type": "markdown",
   "id": "3106536c",
   "metadata": {
    "tags": [
     "papermill-error-cell-tag"
    ]
   },
   "source": [
    "<span style=\"color:red; font-family:Helvetica Neue, Helvetica, Arial, sans-serif; font-size:2em;\">An Exception was encountered at '<a href=\"#papermill-error-cell\">In [3]</a>'.</span>"
   ]
  },
  {
   "cell_type": "markdown",
   "id": "9c733119",
   "metadata": {
    "papermill": {
     "duration": 0.008028,
     "end_time": "2025-09-12T08:33:24.696775",
     "exception": false,
     "start_time": "2025-09-12T08:33:24.688747",
     "status": "completed"
    },
    "tags": []
   },
   "source": [
    "## Impact of denoising as one increases\n"
   ]
  },
  {
   "cell_type": "code",
   "execution_count": 1,
   "id": "2ca38832",
   "metadata": {
    "execution": {
     "iopub.execute_input": "2025-09-12T08:33:24.709909Z",
     "iopub.status.busy": "2025-09-12T08:33:24.709746Z",
     "iopub.status.idle": "2025-09-12T08:34:04.041353Z",
     "shell.execute_reply": "2025-09-12T08:34:04.040713Z"
    },
    "papermill": {
     "duration": 39.338556,
     "end_time": "2025-09-12T08:34:04.042535",
     "exception": false,
     "start_time": "2025-09-12T08:33:24.703979",
     "status": "completed"
    },
    "tags": []
   },
   "outputs": [
    {
     "name": "stdout",
     "output_type": "stream",
     "text": [
      "\u001b[92m→\u001b[0m connected lamindb: jkobject/scprint2\n"
     ]
    },
    {
     "name": "stderr",
     "output_type": "stream",
     "text": [
      "/pasteur/appa/homes/jkalfon/simpler_flash/src/simpler_flash/layer_norm.py:1044: FutureWarning: `torch.cuda.amp.custom_fwd(args...)` is deprecated. Please use `torch.amp.custom_fwd(args..., device_type='cuda')` instead.\n",
      "  @custom_fwd\n",
      "/pasteur/appa/homes/jkalfon/simpler_flash/src/simpler_flash/layer_norm.py:1107: FutureWarning: `torch.cuda.amp.custom_bwd(args...)` is deprecated. Please use `torch.amp.custom_bwd(args..., device_type='cuda')` instead.\n",
      "  @custom_bwd\n"
     ]
    }
   ],
   "source": [
    "#! lamin init --storage ./lamin-intro --schema bionty\n",
    "\n",
    "import scanpy as sc\n",
    "from scprint import scPrint\n",
    "from scdataloader import Preprocessor\n",
    "from scdataloader.utils import load_genes\n",
    "import numpy as np\n",
    "import anndata as ad\n",
    "from huggingface_hub import hf_hub_download\n",
    "\n",
    "from scprint.tasks import Denoiser, withknn\n",
    "from scprint.model.utils import downsample_profile\n",
    "from scipy.stats import spearmanr\n",
    "from anndata import AnnData\n",
    "from scprint.tasks.denoise import plot_cell_depth_wise_corr_improvement\n",
    "\n",
    "import matplotlib.pyplot as plt\n",
    "\n",
    "%load_ext autoreload\n",
    "%autoreload 2\n",
    "\n",
    "import torch\n",
    "\n",
    "torch.set_float32_matmul_precision(\"medium\")"
   ]
  },
  {
   "cell_type": "code",
   "execution_count": 2,
   "id": "b0f5788f",
   "metadata": {
    "execution": {
     "iopub.execute_input": "2025-09-12T08:34:04.064754Z",
     "iopub.status.busy": "2025-09-12T08:34:04.064038Z",
     "iopub.status.idle": "2025-09-12T08:34:10.743753Z",
     "shell.execute_reply": "2025-09-12T08:34:10.743193Z"
    },
    "papermill": {
     "duration": 6.694676,
     "end_time": "2025-09-12T08:34:10.744913",
     "exception": false,
     "start_time": "2025-09-12T08:34:04.050237",
     "status": "completed"
    },
    "tags": []
   },
   "outputs": [],
   "source": [
    "# model_checkpoint_file = hf_hub_download(\n",
    "#    repo_id=\"jkobject/scPRINT\", filename=f\"v2-medium.ckpt\"\n",
    "# )\n",
    "# model_checkpoint_file = ../data/\n",
    "model_checkpoint_file = \"../../../w937u4o1.ckpt\"\n",
    "# w937u4o1"
   ]
  },
  {
   "cell_type": "markdown",
   "id": "ad1a9ba1",
   "metadata": {
    "tags": [
     "papermill-error-cell-tag"
    ]
   },
   "source": [
    "<span id=\"papermill-error-cell\" style=\"color:red; font-family:Helvetica Neue, Helvetica, Arial, sans-serif; font-size:2em;\">Execution using papermill encountered an exception here and stopped:</span>"
   ]
  },
  {
   "cell_type": "code",
   "execution_count": 3,
   "id": "ff4be45c",
   "metadata": {
    "execution": {
     "iopub.execute_input": "2025-09-12T08:34:10.762729Z",
     "iopub.status.busy": "2025-09-12T08:34:10.762575Z",
     "iopub.status.idle": "2025-09-12T08:38:35.228128Z",
     "shell.execute_reply": "2025-09-12T08:38:35.227448Z"
    },
    "papermill": {
     "duration": 264.474328,
     "end_time": "2025-09-12T08:38:35.228795",
     "exception": true,
     "start_time": "2025-09-12T08:34:10.754467",
     "status": "failed"
    },
    "tags": []
   },
   "outputs": [
    {
     "name": "stdout",
     "output_type": "stream",
     "text": [
      "Gene position encoding has changed in the dataloader compared to last time, trying to revert\n"
     ]
    },
    {
     "name": "stderr",
     "output_type": "stream",
     "text": [
      "/pasteur/appa/homes/jkalfon/scdataloader/scdataloader/utils.py:427: FutureWarning: The behavior of DataFrame concatenation with empty or all-NA entries is deprecated. In a future version, this will no longer exclude empty or all-NA columns when determining the result dtypes. To retain the old behavior, exclude the relevant entries before the concat operation.\n",
      "  organismdf = pd.concat(organismdf)\n"
     ]
    },
    {
     "name": "stdout",
     "output_type": "stream",
     "text": [
      "FYI: scPrint is not attached to a `Trainer`.\n"
     ]
    },
    {
     "ename": "RuntimeError",
     "evalue": "Error(s) in loading state_dict for scPrint:\n\tMissing key(s) in state_dict: \"expr_encoder.gene_encoder.embeddings.weight\", \"expr_encoder.expr_encoder.encoder.0.weight\", \"expr_encoder.expr_encoder.encoder.0.bias\", \"expr_encoder.expr_encoder.encoder.1.weight\", \"expr_encoder.expr_encoder.encoder.1.bias\", \"expr_encoder.expr_encoder.encoder.4.weight\", \"expr_encoder.expr_encoder.encoder.4.bias\", \"expr_encoder.expr_encoder.encoder.5.weight\", \"expr_encoder.expr_encoder.encoder.5.bias\", \"expr_encoder.expr_encoder.encoder.8.weight\", \"expr_encoder.expr_encoder.encoder.8.bias\", \"gene_encoder.embeddings.weight\". \n\tUnexpected key(s) in state_dict: \"gene_encoder.0.embeddings.weight\", \"gene_encoder.1.weight\", \"gene_encoder.1.bias\", \"gene_encoder.3.weight\", \"gene_encoder.3.bias\". \n\tsize mismatch for expr_encoder.encoder.0.weight: copying a param with shape torch.Size([512, 1]) from checkpoint, the shape in current model is torch.Size([768, 576]).\n\tsize mismatch for expr_encoder.encoder.0.bias: copying a param with shape torch.Size([512]) from checkpoint, the shape in current model is torch.Size([768]).\n\tsize mismatch for expr_encoder.encoder.1.weight: copying a param with shape torch.Size([512]) from checkpoint, the shape in current model is torch.Size([768]).\n\tsize mismatch for expr_encoder.encoder.1.bias: copying a param with shape torch.Size([512]) from checkpoint, the shape in current model is torch.Size([768]).\n\tsize mismatch for expr_encoder.encoder.4.weight: copying a param with shape torch.Size([512, 512]) from checkpoint, the shape in current model is torch.Size([768, 768]).\n\tsize mismatch for expr_encoder.encoder.4.bias: copying a param with shape torch.Size([512]) from checkpoint, the shape in current model is torch.Size([768]).\n\tsize mismatch for expr_encoder.encoder.5.weight: copying a param with shape torch.Size([512]) from checkpoint, the shape in current model is torch.Size([768]).\n\tsize mismatch for expr_encoder.encoder.5.bias: copying a param with shape torch.Size([512]) from checkpoint, the shape in current model is torch.Size([768]).\n\tsize mismatch for expr_encoder.encoder.8.weight: copying a param with shape torch.Size([512, 512]) from checkpoint, the shape in current model is torch.Size([512, 768]).",
     "output_type": "error",
     "traceback": [
      "\u001b[31m---------------------------------------------------------------------------\u001b[39m",
      "\u001b[31mRuntimeError\u001b[39m                              Traceback (most recent call last)",
      "\u001b[36mCell\u001b[39m\u001b[36m \u001b[39m\u001b[32mIn[3]\u001b[39m\u001b[32m, line 1\u001b[39m\n\u001b[32m----> \u001b[39m\u001b[32m1\u001b[39m model = \u001b[43mscPrint\u001b[49m\u001b[43m.\u001b[49m\u001b[43mload_from_checkpoint\u001b[49m\u001b[43m(\u001b[49m\n\u001b[32m      2\u001b[39m \u001b[43m    \u001b[49m\u001b[43mmodel_checkpoint_file\u001b[49m\u001b[43m,\u001b[49m\u001b[43m \u001b[49m\u001b[43mprecpt_gene_emb\u001b[49m\u001b[43m=\u001b[49m\u001b[38;5;28;43;01mNone\u001b[39;49;00m\u001b[43m,\u001b[49m\u001b[43m \u001b[49m\u001b[43mmax_cont_len\u001b[49m\u001b[43m=\u001b[49m\u001b[32;43m10_000\u001b[39;49m\n\u001b[32m      3\u001b[39m \u001b[43m)\u001b[49m\n\u001b[32m      4\u001b[39m model = model.to(\u001b[33m\"\u001b[39m\u001b[33mcuda\u001b[39m\u001b[33m\"\u001b[39m)\n",
      "\u001b[36mFile \u001b[39m\u001b[32m~/scPRINT/.venv/lib/python3.11/site-packages/lightning/pytorch/utilities/model_helpers.py:125\u001b[39m, in \u001b[36m_restricted_classmethod_impl.__get__.<locals>.wrapper\u001b[39m\u001b[34m(*args, **kwargs)\u001b[39m\n\u001b[32m    120\u001b[39m \u001b[38;5;28;01mif\u001b[39;00m instance \u001b[38;5;129;01mis\u001b[39;00m \u001b[38;5;129;01mnot\u001b[39;00m \u001b[38;5;28;01mNone\u001b[39;00m \u001b[38;5;129;01mand\u001b[39;00m \u001b[38;5;129;01mnot\u001b[39;00m is_scripting:\n\u001b[32m    121\u001b[39m     \u001b[38;5;28;01mraise\u001b[39;00m \u001b[38;5;167;01mTypeError\u001b[39;00m(\n\u001b[32m    122\u001b[39m         \u001b[33mf\u001b[39m\u001b[33m\"\u001b[39m\u001b[33mThe classmethod `\u001b[39m\u001b[38;5;132;01m{\u001b[39;00m\u001b[38;5;28mcls\u001b[39m.\u001b[34m__name__\u001b[39m\u001b[38;5;132;01m}\u001b[39;00m\u001b[33m.\u001b[39m\u001b[38;5;132;01m{\u001b[39;00m\u001b[38;5;28mself\u001b[39m.method.\u001b[34m__name__\u001b[39m\u001b[38;5;132;01m}\u001b[39;00m\u001b[33m` cannot be called on an instance.\u001b[39m\u001b[33m\"\u001b[39m\n\u001b[32m    123\u001b[39m         \u001b[33m\"\u001b[39m\u001b[33m Please call it on the class type and make sure the return value is used.\u001b[39m\u001b[33m\"\u001b[39m\n\u001b[32m    124\u001b[39m     )\n\u001b[32m--> \u001b[39m\u001b[32m125\u001b[39m \u001b[38;5;28;01mreturn\u001b[39;00m \u001b[38;5;28;43mself\u001b[39;49m\u001b[43m.\u001b[49m\u001b[43mmethod\u001b[49m\u001b[43m(\u001b[49m\u001b[38;5;28;43mcls\u001b[39;49m\u001b[43m,\u001b[49m\u001b[43m \u001b[49m\u001b[43m*\u001b[49m\u001b[43margs\u001b[49m\u001b[43m,\u001b[49m\u001b[43m \u001b[49m\u001b[43m*\u001b[49m\u001b[43m*\u001b[49m\u001b[43mkwargs\u001b[49m\u001b[43m)\u001b[49m\n",
      "\u001b[36mFile \u001b[39m\u001b[32m~/scPRINT/.venv/lib/python3.11/site-packages/lightning/pytorch/core/module.py:1611\u001b[39m, in \u001b[36mLightningModule.load_from_checkpoint\u001b[39m\u001b[34m(cls, checkpoint_path, map_location, hparams_file, strict, **kwargs)\u001b[39m\n\u001b[32m   1522\u001b[39m \u001b[38;5;129m@_restricted_classmethod\u001b[39m\n\u001b[32m   1523\u001b[39m \u001b[38;5;28;01mdef\u001b[39;00m\u001b[38;5;250m \u001b[39m\u001b[34mload_from_checkpoint\u001b[39m(\n\u001b[32m   1524\u001b[39m     \u001b[38;5;28mcls\u001b[39m,\n\u001b[32m   (...)\u001b[39m\u001b[32m   1529\u001b[39m     **kwargs: Any,\n\u001b[32m   1530\u001b[39m ) -> Self:\n\u001b[32m   1531\u001b[39m \u001b[38;5;250m    \u001b[39m\u001b[33mr\u001b[39m\u001b[33;03m\"\"\"Primary way of loading a model from a checkpoint. When Lightning saves a checkpoint it stores the arguments\u001b[39;00m\n\u001b[32m   1532\u001b[39m \u001b[33;03m    passed to ``__init__``  in the checkpoint under ``\"hyper_parameters\"``.\u001b[39;00m\n\u001b[32m   1533\u001b[39m \n\u001b[32m   (...)\u001b[39m\u001b[32m   1609\u001b[39m \n\u001b[32m   1610\u001b[39m \u001b[33;03m    \"\"\"\u001b[39;00m\n\u001b[32m-> \u001b[39m\u001b[32m1611\u001b[39m     loaded = \u001b[43m_load_from_checkpoint\u001b[49m\u001b[43m(\u001b[49m\n\u001b[32m   1612\u001b[39m \u001b[43m        \u001b[49m\u001b[38;5;28;43mcls\u001b[39;49m\u001b[43m,\u001b[49m\n\u001b[32m   1613\u001b[39m \u001b[43m        \u001b[49m\u001b[43mcheckpoint_path\u001b[49m\u001b[43m,\u001b[49m\n\u001b[32m   1614\u001b[39m \u001b[43m        \u001b[49m\u001b[43mmap_location\u001b[49m\u001b[43m,\u001b[49m\n\u001b[32m   1615\u001b[39m \u001b[43m        \u001b[49m\u001b[43mhparams_file\u001b[49m\u001b[43m,\u001b[49m\n\u001b[32m   1616\u001b[39m \u001b[43m        \u001b[49m\u001b[43mstrict\u001b[49m\u001b[43m,\u001b[49m\n\u001b[32m   1617\u001b[39m \u001b[43m        \u001b[49m\u001b[43m*\u001b[49m\u001b[43m*\u001b[49m\u001b[43mkwargs\u001b[49m\u001b[43m,\u001b[49m\n\u001b[32m   1618\u001b[39m \u001b[43m    \u001b[49m\u001b[43m)\u001b[49m\n\u001b[32m   1619\u001b[39m     \u001b[38;5;28;01mreturn\u001b[39;00m cast(Self, loaded)\n",
      "\u001b[36mFile \u001b[39m\u001b[32m~/scPRINT/.venv/lib/python3.11/site-packages/lightning/pytorch/core/saving.py:91\u001b[39m, in \u001b[36m_load_from_checkpoint\u001b[39m\u001b[34m(cls, checkpoint_path, map_location, hparams_file, strict, **kwargs)\u001b[39m\n\u001b[32m     89\u001b[39m     \u001b[38;5;28;01mreturn\u001b[39;00m _load_state(\u001b[38;5;28mcls\u001b[39m, checkpoint, **kwargs)\n\u001b[32m     90\u001b[39m \u001b[38;5;28;01mif\u001b[39;00m \u001b[38;5;28missubclass\u001b[39m(\u001b[38;5;28mcls\u001b[39m, pl.LightningModule):\n\u001b[32m---> \u001b[39m\u001b[32m91\u001b[39m     model = \u001b[43m_load_state\u001b[49m\u001b[43m(\u001b[49m\u001b[38;5;28;43mcls\u001b[39;49m\u001b[43m,\u001b[49m\u001b[43m \u001b[49m\u001b[43mcheckpoint\u001b[49m\u001b[43m,\u001b[49m\u001b[43m \u001b[49m\u001b[43mstrict\u001b[49m\u001b[43m=\u001b[49m\u001b[43mstrict\u001b[49m\u001b[43m,\u001b[49m\u001b[43m \u001b[49m\u001b[43m*\u001b[49m\u001b[43m*\u001b[49m\u001b[43mkwargs\u001b[49m\u001b[43m)\u001b[49m\n\u001b[32m     92\u001b[39m     state_dict = checkpoint[\u001b[33m\"\u001b[39m\u001b[33mstate_dict\u001b[39m\u001b[33m\"\u001b[39m]\n\u001b[32m     93\u001b[39m     \u001b[38;5;28;01mif\u001b[39;00m \u001b[38;5;129;01mnot\u001b[39;00m state_dict:\n",
      "\u001b[36mFile \u001b[39m\u001b[32m~/scPRINT/.venv/lib/python3.11/site-packages/lightning/pytorch/core/saving.py:187\u001b[39m, in \u001b[36m_load_state\u001b[39m\u001b[34m(cls, checkpoint, strict, **cls_kwargs_new)\u001b[39m\n\u001b[32m    184\u001b[39m     obj.on_load_checkpoint(checkpoint)\n\u001b[32m    186\u001b[39m \u001b[38;5;66;03m# load the state_dict on the model automatically\u001b[39;00m\n\u001b[32m--> \u001b[39m\u001b[32m187\u001b[39m keys = \u001b[43mobj\u001b[49m\u001b[43m.\u001b[49m\u001b[43mload_state_dict\u001b[49m\u001b[43m(\u001b[49m\u001b[43mcheckpoint\u001b[49m\u001b[43m[\u001b[49m\u001b[33;43m\"\u001b[39;49m\u001b[33;43mstate_dict\u001b[39;49m\u001b[33;43m\"\u001b[39;49m\u001b[43m]\u001b[49m\u001b[43m,\u001b[49m\u001b[43m \u001b[49m\u001b[43mstrict\u001b[49m\u001b[43m=\u001b[49m\u001b[43mstrict\u001b[49m\u001b[43m)\u001b[49m  \u001b[38;5;66;03m# type: ignore[arg-type]\u001b[39;00m\n\u001b[32m    189\u001b[39m \u001b[38;5;28;01mif\u001b[39;00m \u001b[38;5;129;01mnot\u001b[39;00m strict:\n\u001b[32m    190\u001b[39m     \u001b[38;5;28;01mif\u001b[39;00m keys.missing_keys:\n",
      "\u001b[36mFile \u001b[39m\u001b[32m~/scPRINT/.venv/lib/python3.11/site-packages/torch/nn/modules/module.py:2624\u001b[39m, in \u001b[36mModule.load_state_dict\u001b[39m\u001b[34m(self, state_dict, strict, assign)\u001b[39m\n\u001b[32m   2616\u001b[39m         error_msgs.insert(\n\u001b[32m   2617\u001b[39m             \u001b[32m0\u001b[39m,\n\u001b[32m   2618\u001b[39m             \u001b[33m\"\u001b[39m\u001b[33mMissing key(s) in state_dict: \u001b[39m\u001b[38;5;132;01m{}\u001b[39;00m\u001b[33m. \u001b[39m\u001b[33m\"\u001b[39m.format(\n\u001b[32m   2619\u001b[39m                 \u001b[33m\"\u001b[39m\u001b[33m, \u001b[39m\u001b[33m\"\u001b[39m.join(\u001b[33mf\u001b[39m\u001b[33m'\u001b[39m\u001b[33m\"\u001b[39m\u001b[38;5;132;01m{\u001b[39;00mk\u001b[38;5;132;01m}\u001b[39;00m\u001b[33m\"\u001b[39m\u001b[33m'\u001b[39m \u001b[38;5;28;01mfor\u001b[39;00m k \u001b[38;5;129;01min\u001b[39;00m missing_keys)\n\u001b[32m   2620\u001b[39m             ),\n\u001b[32m   2621\u001b[39m         )\n\u001b[32m   2623\u001b[39m \u001b[38;5;28;01mif\u001b[39;00m \u001b[38;5;28mlen\u001b[39m(error_msgs) > \u001b[32m0\u001b[39m:\n\u001b[32m-> \u001b[39m\u001b[32m2624\u001b[39m     \u001b[38;5;28;01mraise\u001b[39;00m \u001b[38;5;167;01mRuntimeError\u001b[39;00m(\n\u001b[32m   2625\u001b[39m         \u001b[33m\"\u001b[39m\u001b[33mError(s) in loading state_dict for \u001b[39m\u001b[38;5;132;01m{}\u001b[39;00m\u001b[33m:\u001b[39m\u001b[38;5;130;01m\\n\u001b[39;00m\u001b[38;5;130;01m\\t\u001b[39;00m\u001b[38;5;132;01m{}\u001b[39;00m\u001b[33m\"\u001b[39m.format(\n\u001b[32m   2626\u001b[39m             \u001b[38;5;28mself\u001b[39m.\u001b[34m__class__\u001b[39m.\u001b[34m__name__\u001b[39m, \u001b[33m\"\u001b[39m\u001b[38;5;130;01m\\n\u001b[39;00m\u001b[38;5;130;01m\\t\u001b[39;00m\u001b[33m\"\u001b[39m.join(error_msgs)\n\u001b[32m   2627\u001b[39m         )\n\u001b[32m   2628\u001b[39m     )\n\u001b[32m   2629\u001b[39m \u001b[38;5;28;01mreturn\u001b[39;00m _IncompatibleKeys(missing_keys, unexpected_keys)\n",
      "\u001b[31mRuntimeError\u001b[39m: Error(s) in loading state_dict for scPrint:\n\tMissing key(s) in state_dict: \"expr_encoder.gene_encoder.embeddings.weight\", \"expr_encoder.expr_encoder.encoder.0.weight\", \"expr_encoder.expr_encoder.encoder.0.bias\", \"expr_encoder.expr_encoder.encoder.1.weight\", \"expr_encoder.expr_encoder.encoder.1.bias\", \"expr_encoder.expr_encoder.encoder.4.weight\", \"expr_encoder.expr_encoder.encoder.4.bias\", \"expr_encoder.expr_encoder.encoder.5.weight\", \"expr_encoder.expr_encoder.encoder.5.bias\", \"expr_encoder.expr_encoder.encoder.8.weight\", \"expr_encoder.expr_encoder.encoder.8.bias\", \"gene_encoder.embeddings.weight\". \n\tUnexpected key(s) in state_dict: \"gene_encoder.0.embeddings.weight\", \"gene_encoder.1.weight\", \"gene_encoder.1.bias\", \"gene_encoder.3.weight\", \"gene_encoder.3.bias\". \n\tsize mismatch for expr_encoder.encoder.0.weight: copying a param with shape torch.Size([512, 1]) from checkpoint, the shape in current model is torch.Size([768, 576]).\n\tsize mismatch for expr_encoder.encoder.0.bias: copying a param with shape torch.Size([512]) from checkpoint, the shape in current model is torch.Size([768]).\n\tsize mismatch for expr_encoder.encoder.1.weight: copying a param with shape torch.Size([512]) from checkpoint, the shape in current model is torch.Size([768]).\n\tsize mismatch for expr_encoder.encoder.1.bias: copying a param with shape torch.Size([512]) from checkpoint, the shape in current model is torch.Size([768]).\n\tsize mismatch for expr_encoder.encoder.4.weight: copying a param with shape torch.Size([512, 512]) from checkpoint, the shape in current model is torch.Size([768, 768]).\n\tsize mismatch for expr_encoder.encoder.4.bias: copying a param with shape torch.Size([512]) from checkpoint, the shape in current model is torch.Size([768]).\n\tsize mismatch for expr_encoder.encoder.5.weight: copying a param with shape torch.Size([512]) from checkpoint, the shape in current model is torch.Size([768]).\n\tsize mismatch for expr_encoder.encoder.5.bias: copying a param with shape torch.Size([512]) from checkpoint, the shape in current model is torch.Size([768]).\n\tsize mismatch for expr_encoder.encoder.8.weight: copying a param with shape torch.Size([512, 512]) from checkpoint, the shape in current model is torch.Size([512, 768])."
     ]
    }
   ],
   "source": [
    "model = scPrint.load_from_checkpoint(\n",
    "    model_checkpoint_file, precpt_gene_emb=None, max_cont_len=10_000\n",
    ")\n",
    "model = model.to(\"cuda\")"
   ]
  },
  {
   "cell_type": "markdown",
   "id": "0842d770",
   "metadata": {
    "papermill": {
     "duration": null,
     "end_time": null,
     "exception": null,
     "start_time": null,
     "status": "pending"
    },
    "tags": []
   },
   "source": [
    "# run denoising as depth increase"
   ]
  },
  {
   "cell_type": "code",
   "execution_count": null,
   "id": "40848556",
   "metadata": {
    "papermill": {
     "duration": null,
     "end_time": null,
     "exception": null,
     "start_time": null,
     "status": "pending"
    },
    "tags": []
   },
   "outputs": [],
   "source": [
    "#import lamindb as ln\n",
    "\n",
    "#res = ln.Artifact.filter(uid=\"vhwQPOwZ3kyGtOv00001\")[0]\n",
    "#print(res.key)\n",
    "#print(res.path)\n",
    "#print()\n",
    "#res = ln.Artifact.filter(uid=\"Q1fKksCKtOAgigiT0001\")[0]\n",
    "#print(res.key)\n",
    "#print(res.path)\n",
    "\n",
    "# 2025-02-25/h5ad/Velocyto/Homo_sapiens/SRX24486462.h5ad\n",
    "# /pasteur/appa/scratch/jkalfon/scprint2/.lamindb/vhwQPOwZ3kyGtOv00001.h5ad\n",
    "\n",
    "# 2025-02-25/h5ad/Velocyto/Homo_sapiens/SRX22526970.h5ad\n",
    "# /pasteur/appa/scratch/jkalfon/scprint2/.lamindb/Q1fKksCKtOAgigiT0001.h5ad"
   ]
  },
  {
   "cell_type": "code",
   "execution_count": null,
   "id": "799edb8f",
   "metadata": {
    "papermill": {
     "duration": null,
     "end_time": null,
     "exception": null,
     "start_time": null,
     "status": "pending"
    },
    "tags": []
   },
   "outputs": [],
   "source": [
    "LOC = \"../../data/temp/\"  #\n",
    "\n",
    "datasets = {\n",
    "    \"retina\": \"https://datasets.cellxgene.cziscience.com/53bd4177-79c6-40c8-b84d-ff300dcf1b5b.h5ad\",  # gNNpgpo6gATjuxTE7CCp\n",
    "    \"kidney\": \"https://datasets.cellxgene.cziscience.com/01bc7039-961f-4c24-b407-d535a2a7ba2c.h5ad\",\n",
    "    \"glio_smart_highdepth\": \"https://datasets.cellxgene.cziscience.com/6ec440b4-542a-4022-ac01-56f812e25593.h5ad\",  # s8x0Idi587LQtXCo0Pif\n",
    "    \"lung_smart\": \"https://datasets.cellxgene.cziscience.com/6ebba0e0-a159-406f-8095-451115673a2c.h5ad\",\n",
    "    # additional (see origin from block above)\n",
    "    \"SRX24486462\": None,\n",
    "    \"SRX22526970\": None,\n",
    "    #\n",
    "}"
   ]
  },
  {
   "cell_type": "code",
   "execution_count": null,
   "id": "a6a28338",
   "metadata": {
    "papermill": {
     "duration": null,
     "end_time": null,
     "exception": null,
     "start_time": null,
     "status": "pending"
    },
    "tags": []
   },
   "outputs": [],
   "source": [
    "adata = sc.read(LOC + \"lung_smart\" + \".h5ad\")\n"
   ]
  },
  {
   "cell_type": "code",
   "execution_count": null,
   "id": "cba42d97",
   "metadata": {
    "papermill": {
     "duration": null,
     "end_time": null,
     "exception": null,
     "start_time": null,
     "status": "pending"
    },
    "tags": []
   },
   "outputs": [],
   "source": [
    "adata = sc.read(LOC + \"lung_smart\" + \".h5ad\")\n",
    "print((adata.X > 0).sum(1).mean(), adata.X.sum(1).mean(), adata.shape[0])\n",
    "plt.hist(np.array(adata.X.sum(1)).T[0], bins=50)\n",
    "plt.title(\"reads per cells\")\n",
    "plt.show()\n",
    "plt.hist(np.array(adata.X.sum(0))[0], bins=50)\n",
    "plt.yscale(\"log\")\n",
    "plt.title(\"reads per genes\")\n",
    "plt.show()\n",
    "# 4x"
   ]
  },
  {
   "cell_type": "code",
   "execution_count": null,
   "id": "f32bc90c",
   "metadata": {
    "papermill": {
     "duration": null,
     "end_time": null,
     "exception": null,
     "start_time": null,
     "status": "pending"
    },
    "tags": []
   },
   "outputs": [],
   "source": [
    "adata = sc.read(LOC + \"glio_smart_highdepth\" + \".h5ad\")\n",
    "print((adata.X > 0).sum(1).mean(), adata.X.sum(1).mean(), adata.shape[0])\n",
    "plt.hist(np.array(adata.X.sum(1)).T[0], bins=50)\n",
    "plt.title(\"reads per cells\")\n",
    "plt.show()\n",
    "plt.hist(np.array(adata.X.sum(0))[0], bins=50)\n",
    "plt.yscale(\"log\")\n",
    "plt.title(\"reads per genes\")\n",
    "plt.show()\n",
    "# 14x"
   ]
  },
  {
   "cell_type": "code",
   "execution_count": null,
   "id": "3e42ecbb",
   "metadata": {
    "papermill": {
     "duration": null,
     "end_time": null,
     "exception": null,
     "start_time": null,
     "status": "pending"
    },
    "tags": []
   },
   "outputs": [],
   "source": [
    "adata = sc.read(LOC + \"SRX24486462\" + \".h5ad\")\n",
    "print((adata.X > 0).sum(1).mean(), adata.X.sum(1).mean(), adata.shape[0])\n",
    "plt.hist(np.array(adata.X.sum(1)).T[0], bins=50)\n",
    "plt.title(\"reads per cells\")\n",
    "plt.show()\n",
    "plt.hist(np.array(adata.X.sum(0))[0], bins=50)\n",
    "plt.yscale(\"log\")\n",
    "plt.title(\"reads per genes\")\n",
    "plt.show()\n",
    "# 7x"
   ]
  },
  {
   "cell_type": "code",
   "execution_count": null,
   "id": "d0438715",
   "metadata": {
    "papermill": {
     "duration": null,
     "end_time": null,
     "exception": null,
     "start_time": null,
     "status": "pending"
    },
    "tags": []
   },
   "outputs": [],
   "source": [
    "adata = sc.read(LOC + \"SRX22526970\" + \".h5ad\")\n",
    "print((adata.X > 0).sum(1).mean(), adata.X.sum(1).mean(), adata.shape[0])\n",
    "plt.hist(np.array(adata.X.sum(1)).T[0], bins=50)\n",
    "plt.title(\"reads per cells\")\n",
    "plt.show()\n",
    "plt.hist(np.array(adata.X.sum(0))[0], bins=50)\n",
    "plt.title(\"reads per genes\")\n",
    "plt.yscale(\"log\")\n",
    "plt.show()\n",
    "# 5x"
   ]
  },
  {
   "cell_type": "code",
   "execution_count": null,
   "id": "8216dabf",
   "metadata": {
    "papermill": {
     "duration": null,
     "end_time": null,
     "exception": null,
     "start_time": null,
     "status": "pending"
    },
    "tags": []
   },
   "outputs": [],
   "source": [
    "adata = sc.read(LOC + \"kidney\" + \".h5ad\")\n",
    "print((adata.X > 0).sum(1).mean(), adata.X.sum(1).mean(), adata.shape[0])\n",
    "plt.hist(np.array(adata.X.sum(1)).T[0], bins=50)\n",
    "plt.title(\"reads per cells\")\n",
    "plt.show()\n",
    "plt.hist(np.array(adata.X.sum(0))[0], bins=50)\n",
    "plt.title(\"reads per genes\")\n",
    "plt.yscale(\"log\")\n",
    "plt.show()\n",
    "# 1x"
   ]
  },
  {
   "cell_type": "code",
   "execution_count": null,
   "id": "13833598",
   "metadata": {
    "papermill": {
     "duration": null,
     "end_time": null,
     "exception": null,
     "start_time": null,
     "status": "pending"
    },
    "tags": []
   },
   "outputs": [],
   "source": [
    "res = {}\n",
    "for name, url in datasets.items():\n",
    "    print(\"doing \", name)\n",
    "\n",
    "    adata = sc.read(LOC + name + \".h5ad\", backup_url=url)\n",
    "    max_len = 3000 if (adata.X > 0).sum(1).mean() < 3_000 else 5000\n",
    "    preprocessor = Preprocessor(\n",
    "        force_preprocess=True,\n",
    "        skip_validate=True,\n",
    "        # drop_non_primary=False,\n",
    "        do_postp=False,\n",
    "    )\n",
    "    print(\"\")\n",
    "    adata = adata[adata.X.sum(1) > 1000]\n",
    "    print(adata.X.sum(1).mean())\n",
    "    adata = preprocessor(adata)\n",
    "    adata.layers[\"true\"] = adata.X.copy()\n",
    "    denoise = Denoiser(\n",
    "        batch_size=40 if (adata.X > 0).sum(1).mean() < 3_000 else 20,\n",
    "        max_len=max_len,\n",
    "        max_cells=5_000,\n",
    "        doplot=False,\n",
    "        num_workers=8,\n",
    "        predict_depth_mult=10,\n",
    "        downsample_expr=0.7,\n",
    "        additional_info=True,\n",
    "        apply_zero_pred=True,\n",
    "    )\n",
    "    res[\"scprint_\" + name], idx, nadata = denoise(model, adata)\n",
    "    print(res[\"scprint_\" + name])\n",
    "\n",
    "    # doing magic\n",
    "    subadata = (\n",
    "        adata[idx, adata.var.index.isin(model.genes) & adata.var.highly_variable].copy()\n",
    "        if idx is not None\n",
    "        else adata[\n",
    "            :, adata.var.index.isin(model.genes) & adata.var.highly_variable\n",
    "        ].copy()\n",
    "    )\n",
    "    print(subadata.shape)\n",
    "    subadata.X = downsample_profile(torch.Tensor(subadata.X.toarray()), 0.7)\n",
    "    denoised_adata = sc.external.pp.magic(\n",
    "        subadata.copy(), copy=True, n_jobs=10, solver=\"approximate\", verbose=True\n",
    "    )\n",
    "\n",
    "    reco = denoised_adata.X\n",
    "    true = subadata.layers[\"true\"].toarray()\n",
    "    noisy = subadata.X\n",
    "    corr_coef, p_value = spearmanr(\n",
    "        np.vstack([reco[true != 0], noisy[true != 0], true[true != 0]]).T\n",
    "    )\n",
    "    res[\"magic_\" + name] = {\n",
    "        \"reco2noisy\": corr_coef[0, 1],\n",
    "        \"reco2full\": corr_coef[0, 2],\n",
    "        \"noisy2full\": corr_coef[1, 2],\n",
    "    }\n",
    "    if reco.shape[0] <= 3000:\n",
    "        indices = np.random.choice(reco.shape[0], 3000, replace=False)\n",
    "        reco = reco[indices]\n",
    "        noisy = noisy[indices]\n",
    "        true = true[indices]\n",
    "    corr, p_value = spearmanr(\n",
    "        np.vstack(\n",
    "            [\n",
    "                reco.flatten(),\n",
    "                noisy.flatten(),\n",
    "                true.flatten(),\n",
    "            ]\n",
    "        ).T\n",
    "    )\n",
    "    m = {\n",
    "        \"reco2full\": corr[0, 2],\n",
    "        \"noisy2full\": corr[1, 2],\n",
    "    }\n",
    "    print(\"corr with zeros: \")\n",
    "    print(m)\n",
    "    cell_wise = np.array(\n",
    "        [\n",
    "            spearmanr(reco[i][true[i] != 0], true[i][true[i] != 0])[0]\n",
    "            for i in range(reco.shape[0])\n",
    "        ]\n",
    "    )\n",
    "    torm = np.array(\n",
    "        [\n",
    "            spearmanr(noisy[i][true[i] != 0], true[i][true[i] != 0])[0]\n",
    "            for i in range(reco.shape[0])\n",
    "        ]\n",
    "    )\n",
    "    cell_wise -= torm\n",
    "    cell_wise_zero = np.mean(\n",
    "        [spearmanr(reco[i], true[i])[0] for i in range(reco.shape[0])]\n",
    "    )\n",
    "    print(\"cell_wise self corr (reco, noisy, true)\")\n",
    "    print(\n",
    "        {\n",
    "            \"cell_wise_w_zero\": cell_wise_zero,\n",
    "            \"cell_wise_to_noisy\": np.mean(cell_wise),\n",
    "        }\n",
    "    )\n",
    "    print(\"depth-wise plot\")\n",
    "    plot_cell_depth_wise_corr_improvement(cell_wise, (true > 0).sum(1))\n",
    "    print(res[\"magic_\" + name])\n",
    "    print(\"--------------------------------\")\n",
    "    print(\"\")\n"
   ]
  },
  {
   "cell_type": "code",
   "execution_count": null,
   "id": "c158558d",
   "metadata": {
    "papermill": {
     "duration": null,
     "end_time": null,
     "exception": null,
     "start_time": null,
     "status": "pending"
    },
    "tags": []
   },
   "outputs": [],
   "source": [
    "import pandas as pd\n",
    "import matplotlib.pyplot as plt\n",
    "import numpy as np\n",
    "from scipy.optimize import curve_fit\n",
    "\n",
    "# Create a DataFrame\n",
    "# from prevmodel\n",
    "# data = {\n",
    "#    'depth': [2736, 1888, 388362, 10360],\n",
    "#    'magic': [30.4, 26.3, 6.4, 27.0],\n",
    "#    'scprint': [19.3, 21.5, 33.2, 36.1]\n",
    "# }\n",
    "data = {\n",
    "    \"depth\": [2736, 1888, 388362, 10360, 21693, 38469],\n",
    "    \"magic\": [28.5, 26.3, 6.4, 22.0, 49, 39],\n",
    "    \"scprint\": [29.5, 28.5, 35.7, 36.3, 43.6, 31],\n",
    "}\n",
    "df = pd.DataFrame(data)\n",
    "\n",
    "# Convert depth to log scale\n",
    "df[\"log_depth\"] = np.log(df[\"depth\"])\n",
    "\n",
    "\n",
    "# Define a linear function for curve fitting\n",
    "def linear_func(x, a, b):\n",
    "    return a * x + b\n",
    "\n",
    "\n",
    "# Fit the linear curves on log scale\n",
    "popt_magic, _ = curve_fit(linear_func, df[\"log_depth\"], df[\"magic\"])\n",
    "popt_scprint, _ = curve_fit(linear_func, df[\"log_depth\"], df[\"scprint\"])\n",
    "\n",
    "# Plot the data points\n",
    "plt.scatter(df[\"log_depth\"], df[\"magic\"], label=\"Magic\", color=\"blue\")\n",
    "plt.scatter(df[\"log_depth\"], df[\"scprint\"], label=\"scPRINT\", color=\"red\")\n",
    "\n",
    "# Plot the fitted linear curves\n",
    "x_values = np.linspace(min(df[\"log_depth\"]), max(df[\"log_depth\"]), 100)\n",
    "plt.plot(\n",
    "    x_values,\n",
    "    linear_func(x_values, *popt_magic),\n",
    "    label=\"Linear Fit (Magic)\",\n",
    "    color=\"blue\",\n",
    "    linestyle=\"--\",\n",
    ")\n",
    "plt.plot(\n",
    "    x_values,\n",
    "    linear_func(x_values, *popt_scprint),\n",
    "    label=\"Linear Fit (scPRINT)\",\n",
    "    color=\"red\",\n",
    "    linestyle=\"--\",\n",
    ")\n",
    "\n",
    "# Add labels and legend\n",
    "plt.xlabel(\"Log Depth\")\n",
    "plt.ylabel(\"Values\")\n",
    "plt.legend()\n",
    "plt.title(\"Log Depth vs Magic and scPRINT with Linear Fits\")\n",
    "plt.show()"
   ]
  },
  {
   "cell_type": "code",
   "execution_count": null,
   "id": "6f23d007",
   "metadata": {
    "papermill": {
     "duration": null,
     "end_time": null,
     "exception": null,
     "start_time": null,
     "status": "pending"
    },
    "tags": []
   },
   "outputs": [],
   "source": [
    "import pandas as pd\n",
    "import matplotlib.pyplot as plt\n",
    "import numpy as np\n",
    "from scipy.optimize import curve_fit\n",
    "\n",
    "# Create a DataFrame\n",
    "# from prevmodel\n",
    "# data = {\n",
    "#    'depth': [2736, 1888, 388362, 10360],\n",
    "#    'magic': [30.4, 26.3, 6.4, 27.0],\n",
    "#    'scprint': [19.3, 21.5, 33.2, 36.1]\n",
    "# }\n",
    "data = {\n",
    "    \"depth\": [2736, 1888, 388362, 10360],\n",
    "    \"magic\": [30.5, 26.3, 6.4, 22.0],\n",
    "    \"scprint\": [29.5, 26.5, 35.7, 36.3],\n",
    "}\n",
    "df = pd.DataFrame(data)\n",
    "\n",
    "# Convert depth to log scale\n",
    "df[\"log_depth\"] = np.log(df[\"depth\"])\n",
    "\n",
    "\n",
    "# Define a linear function for curve fitting\n",
    "def linear_func(x, a, b):\n",
    "    return a * x + b\n",
    "\n",
    "\n",
    "# Fit the linear curves on log scale\n",
    "popt_magic, _ = curve_fit(linear_func, df[\"log_depth\"], df[\"magic\"])\n",
    "popt_scprint, _ = curve_fit(linear_func, df[\"log_depth\"], df[\"scprint\"])\n",
    "\n",
    "# Plot the data points\n",
    "plt.scatter(df[\"log_depth\"], df[\"magic\"], label=\"Magic\", color=\"blue\")\n",
    "plt.scatter(df[\"log_depth\"], df[\"scprint\"], label=\"scPRINT\", color=\"red\")\n",
    "\n",
    "# Plot the fitted linear curves\n",
    "x_values = np.linspace(min(df[\"log_depth\"]), max(df[\"log_depth\"]), 100)\n",
    "plt.plot(\n",
    "    x_values,\n",
    "    linear_func(x_values, *popt_magic),\n",
    "    label=\"Linear Fit (Magic)\",\n",
    "    color=\"blue\",\n",
    "    linestyle=\"--\",\n",
    ")\n",
    "plt.plot(\n",
    "    x_values,\n",
    "    linear_func(x_values, *popt_scprint),\n",
    "    label=\"Linear Fit (scPRINT)\",\n",
    "    color=\"red\",\n",
    "    linestyle=\"--\",\n",
    ")\n",
    "\n",
    "# Add labels and legend\n",
    "plt.xlabel(\"Log Depth\")\n",
    "plt.ylabel(\"Values\")\n",
    "plt.legend()\n",
    "plt.title(\"Log Depth vs Magic and scPRINT with Linear Fits\")\n",
    "plt.show()\n"
   ]
  },
  {
   "cell_type": "code",
   "execution_count": null,
   "id": "67e01308",
   "metadata": {
    "papermill": {
     "duration": null,
     "end_time": null,
     "exception": null,
     "start_time": null,
     "status": "pending"
    },
    "tags": []
   },
   "outputs": [],
   "source": [
    "adata = sc.read(LOC + \"lung_smart\" + \".h5ad\")"
   ]
  },
  {
   "cell_type": "code",
   "execution_count": null,
   "id": "3776463f",
   "metadata": {
    "papermill": {
     "duration": null,
     "end_time": null,
     "exception": null,
     "start_time": null,
     "status": "pending"
    },
    "tags": []
   },
   "outputs": [],
   "source": [
    "preprocessor = Preprocessor(\n",
    "    force_preprocess=True, skip_validate=True, drop_non_primary=False, do_postp=False\n",
    ")\n",
    "preprocessor = Preprocessor(do_postp=False)\n",
    "adata = preprocessor(adata)\n",
    "adata.layers[\"true\"] = adata.X.copy()"
   ]
  },
  {
   "cell_type": "code",
   "execution_count": null,
   "id": "d5198254",
   "metadata": {
    "papermill": {
     "duration": null,
     "end_time": null,
     "exception": null,
     "start_time": null,
     "status": "pending"
    },
    "tags": []
   },
   "outputs": [],
   "source": [
    "denoise = Denoiser(\n",
    "    batch_size=40 if adata.X.sum(1).mean() < 50_000 else 20,\n",
    "    max_len=8_000,\n",
    "    max_cells=100_000,\n",
    "    doplot=False,\n",
    "    num_workers=8,\n",
    "    predict_depth_mult=5,\n",
    "    downsample_expr=0.7,\n",
    ")"
   ]
  },
  {
   "cell_type": "code",
   "execution_count": null,
   "id": "4b8818ae",
   "metadata": {
    "papermill": {
     "duration": null,
     "end_time": null,
     "exception": null,
     "start_time": null,
     "status": "pending"
    },
    "tags": []
   },
   "outputs": [],
   "source": [
    "_, idx, nadata = denoise(model, adata)"
   ]
  },
  {
   "cell_type": "code",
   "execution_count": null,
   "id": "fcd5dc24",
   "metadata": {
    "papermill": {
     "duration": null,
     "end_time": null,
     "exception": null,
     "start_time": null,
     "status": "pending"
    },
    "tags": []
   },
   "outputs": [],
   "source": [
    "nadata = nadata[:, nadata.var.index.isin(adata.var.index)]\n",
    "adata = adata[:, adata.var.index.isin(nadata.var.index)]"
   ]
  },
  {
   "cell_type": "code",
   "execution_count": null,
   "id": "66f0753e",
   "metadata": {
    "papermill": {
     "duration": null,
     "end_time": null,
     "exception": null,
     "start_time": null,
     "status": "pending"
    },
    "tags": []
   },
   "outputs": [],
   "source": [
    "# Get min and max from adata\n",
    "adata_min = np.array([1] * adata.X.shape[0])\n",
    "adata_max = adata.X.max(1).data\n",
    "\n",
    "# Get min and max for each row in nadata\n",
    "nadata_min = nadata.layers[\"scprint_mu\"].data.reshape(adata.X.shape[0], -1).min(axis=1)\n",
    "nadata_max = nadata.layers[\"scprint_mu\"].data.reshape(adata.X.shape[0], -1).max(axis=1)\n",
    "\n",
    "# Rescale each row to match adata range\n",
    "# Reshape the min/max arrays to match the matrix dimensions for broadcasting\n",
    "nadata_min = nadata_min.reshape(-1, 1)\n",
    "nadata_max = nadata_max.reshape(-1, 1)\n",
    "adata_min = adata_min.reshape(-1, 1)\n",
    "adata_max = adata_max.reshape(-1, 1)\n",
    "\n",
    "# Perform the rescaling with properly shaped arrays\n",
    "nadata.layers[\"scprint_mu\"].data = (\n",
    "    (nadata.layers[\"scprint_mu\"].data.reshape(adata.X.shape[0], -1) - nadata_min)\n",
    "    / (nadata_max - nadata_min)\n",
    "    * (adata_max - adata_min)\n",
    "    + adata_min\n",
    ").flatten()\n"
   ]
  },
  {
   "cell_type": "code",
   "execution_count": null,
   "id": "78849d5f",
   "metadata": {
    "papermill": {
     "duration": null,
     "end_time": null,
     "exception": null,
     "start_time": null,
     "status": "pending"
    },
    "tags": []
   },
   "outputs": [],
   "source": [
    "# Create a mask for where scprint_mu is 0\n",
    "zero_mask = nadata.layers[\"scprint_mu\"] == 0\n",
    "# Replace zeros with corresponding values from adata.X\n",
    "nadata.layers[\"scprint_mu\"][zero_mask] = adata.X[zero_mask]\n"
   ]
  },
  {
   "cell_type": "code",
   "execution_count": null,
   "id": "0ffd24aa",
   "metadata": {
    "papermill": {
     "duration": null,
     "end_time": null,
     "exception": null,
     "start_time": null,
     "status": "pending"
    },
    "tags": []
   },
   "outputs": [],
   "source": [
    "nadata.obs[\"cell_type\"] = adata.obs[\"cell_type\"].tolist()"
   ]
  },
  {
   "cell_type": "code",
   "execution_count": null,
   "id": "5b3d4081",
   "metadata": {
    "papermill": {
     "duration": null,
     "end_time": null,
     "exception": null,
     "start_time": null,
     "status": "pending"
    },
    "tags": []
   },
   "outputs": [],
   "source": [
    "# Create UMAP visualization of scprint_mu layer\n",
    "import scanpy as sc\n",
    "\n",
    "# Compute UMAP\n",
    "# Compute PCA first\n",
    "sc.pp.pca(nadata, layer=\"scprint_mu\", n_comps=40)\n",
    "\n",
    "sc.pp.neighbors(nadata, use_rep=\"X_pca\", n_neighbors=15)\n",
    "sc.tl.umap(nadata, n_components=2, min_dist=0.2, spread=1.5)\n",
    "nadata.obs[\"cell_type\"] = adata.obs[\"cell_type\"].tolist()\n",
    "\n",
    "# Plot UMAP colored by cell type\n",
    "sc.pl.umap(\n",
    "    nadata,\n",
    "    color=\"cell_type\",\n",
    "    title=\"UMAP of scPRINT denoised data\",\n",
    "    frameon=False,\n",
    "    legend_fontsize=8,\n",
    ")\n"
   ]
  },
  {
   "cell_type": "code",
   "execution_count": null,
   "id": "3e3e99e0",
   "metadata": {
    "papermill": {
     "duration": null,
     "end_time": null,
     "exception": null,
     "start_time": null,
     "status": "pending"
    },
    "tags": []
   },
   "outputs": [],
   "source": [
    "sc.pl.umap(\n",
    "    nadata,\n",
    "    color=\"cell_type\",\n",
    "    title=\"UMAP of scPRINT denoised data\",\n",
    "    frameon=False,\n",
    "    legend_fontsize=8,\n",
    ")"
   ]
  },
  {
   "cell_type": "code",
   "execution_count": null,
   "id": "16ca859c",
   "metadata": {
    "papermill": {
     "duration": null,
     "end_time": null,
     "exception": null,
     "start_time": null,
     "status": "pending"
    },
    "tags": []
   },
   "outputs": [],
   "source": [
    "sc.pl.umap(\n",
    "    nadata,\n",
    "    color=\"cell_type\",\n",
    "    title=\"UMAP of scPRINT denoised data\",\n",
    "    frameon=False,\n",
    "    legend_fontsize=8,\n",
    ")"
   ]
  },
  {
   "cell_type": "code",
   "execution_count": null,
   "id": "f40056f9",
   "metadata": {
    "papermill": {
     "duration": null,
     "end_time": null,
     "exception": null,
     "start_time": null,
     "status": "pending"
    },
    "tags": []
   },
   "outputs": [],
   "source": [
    "adata.X = downsample_profile(torch.Tensor(adata.X.toarray()), 0.7).numpy()"
   ]
  },
  {
   "cell_type": "code",
   "execution_count": null,
   "id": "e423aa48",
   "metadata": {
    "papermill": {
     "duration": null,
     "end_time": null,
     "exception": null,
     "start_time": null,
     "status": "pending"
    },
    "tags": []
   },
   "outputs": [],
   "source": [
    "sc.pp.pca(adata)\n",
    "sc.pp.neighbors(adata, use_rep=\"X_pca\")\n",
    "sc.tl.umap(adata)\n",
    "\n",
    "# Plot UMAP colored by cell type\n",
    "sc.pl.umap(\n",
    "    adata,\n",
    "    color=\"cell_type\",\n",
    "    title=\"UMAP of noisy data\",\n",
    "    frameon=False,\n",
    "    legend_fontsize=8,\n",
    "    palette=nadata.uns[\"cell_type_colors\"],\n",
    ")"
   ]
  },
  {
   "cell_type": "code",
   "execution_count": null,
   "id": "dad9a5c4",
   "metadata": {
    "papermill": {
     "duration": null,
     "end_time": null,
     "exception": null,
     "start_time": null,
     "status": "pending"
    },
    "tags": []
   },
   "outputs": [],
   "source": [
    "adata"
   ]
  },
  {
   "cell_type": "code",
   "execution_count": null,
   "id": "a07fd9d9",
   "metadata": {
    "papermill": {
     "duration": null,
     "end_time": null,
     "exception": null,
     "start_time": null,
     "status": "pending"
    },
    "tags": []
   },
   "outputs": [],
   "source": [
    "adata.layers[\"true\"].sum(1).mean(), adata.X.sum(1).mean()"
   ]
  },
  {
   "cell_type": "code",
   "execution_count": null,
   "id": "d48c6bfa",
   "metadata": {
    "papermill": {
     "duration": null,
     "end_time": null,
     "exception": null,
     "start_time": null,
     "status": "pending"
    },
    "tags": []
   },
   "outputs": [],
   "source": [
    "adata.obsm[\"X_pca\"] = sc.pp.pca(adata.layers[\"true\"])\n",
    "sc.pp.neighbors(adata, use_rep=\"X_pca\")\n",
    "sc.tl.umap(adata)\n",
    "\n",
    "# Plot UMAP colored by cell type\n",
    "sc.pl.umap(\n",
    "    adata,\n",
    "    color=\"cell_type\",\n",
    "    title=\"UMAP of ground truth data\",\n",
    "    frameon=False,\n",
    "    legend_fontsize=8,\n",
    "    palette=nadata.uns[\"cell_type_colors\"],\n",
    ")"
   ]
  },
  {
   "cell_type": "code",
   "execution_count": null,
   "id": "ec11c387",
   "metadata": {
    "papermill": {
     "duration": null,
     "end_time": null,
     "exception": null,
     "start_time": null,
     "status": "pending"
    },
    "tags": []
   },
   "outputs": [],
   "source": [
    "scprint vs magic (full vs rare)\n",
    "33.6 vs 37.7 - 28.2 vs 26.4\n",
    "30 vs 20 - 28.5 vs 17.5\n",
    "22.3 vs 23.5 - 23.4 vs 5.0"
   ]
  },
  {
   "cell_type": "markdown",
   "id": "458e4bea",
   "metadata": {
    "papermill": {
     "duration": null,
     "end_time": null,
     "exception": null,
     "start_time": null,
     "status": "pending"
    },
    "tags": []
   },
   "source": [
    "## with MAGIC rare cells"
   ]
  },
  {
   "cell_type": "code",
   "execution_count": null,
   "id": "63f05081",
   "metadata": {
    "papermill": {
     "duration": null,
     "end_time": null,
     "exception": null,
     "start_time": null,
     "status": "pending"
    },
    "tags": []
   },
   "outputs": [],
   "source": [
    "ct = \"pericyte\"\n",
    "subadata.obs.cell_type.value_counts()\n",
    "# microglial cell, microfold cell of epithelium of small intestine, mesangial cell, pericyte"
   ]
  },
  {
   "cell_type": "code",
   "execution_count": null,
   "id": "c1f58c6f",
   "metadata": {
    "papermill": {
     "duration": null,
     "end_time": null,
     "exception": null,
     "start_time": null,
     "status": "pending"
    },
    "tags": []
   },
   "outputs": [],
   "source": [
    "reco = denoised_adata[subadata.obs.cell_type == ct].X\n",
    "true = subadata[subadata.obs.cell_type == ct].layers[\"true\"].toarray()\n",
    "noisy = subadata[subadata.obs.cell_type == ct].X\n",
    "corr_coef, p_value = spearmanr(\n",
    "    np.vstack([reco[true != 0], noisy[true != 0], true[true != 0]]).T\n",
    ")\n",
    "{\n",
    "    \"reco2noisy\": corr_coef[0, 1],\n",
    "    \"reco2full\": corr_coef[0, 2],\n",
    "    \"noisy2full\": corr_coef[1, 2],\n",
    "}"
   ]
  },
  {
   "cell_type": "markdown",
   "id": "7984e733",
   "metadata": {
    "papermill": {
     "duration": null,
     "end_time": null,
     "exception": null,
     "start_time": null,
     "status": "pending"
    },
    "tags": []
   },
   "source": [
    "## scPRINT rare cells"
   ]
  },
  {
   "cell_type": "code",
   "execution_count": null,
   "id": "12d53c07",
   "metadata": {
    "papermill": {
     "duration": null,
     "end_time": null,
     "exception": null,
     "start_time": null,
     "status": "pending"
    },
    "tags": []
   },
   "outputs": [],
   "source": [
    "denoise = Denoiser(\n",
    "    batch_size=40,\n",
    "    max_len=5000,\n",
    "    max_cells=200,\n",
    "    doplot=False,\n",
    "    predict_depth_mult=6,\n",
    "    downsample=0.7,\n",
    "    how=\"most var\",\n",
    ")\n",
    "metrics, idx, genes, expr = denoise(model, adata[adata.obs.cell_type == ct])\n",
    "metrics"
   ]
  }
 ],
 "metadata": {
  "kernelspec": {
   "display_name": "scPRINT",
   "language": "python",
   "name": "python3"
  },
  "language_info": {
   "codemirror_mode": {
    "name": "ipython",
    "version": 3
   },
   "file_extension": ".py",
   "mimetype": "text/x-python",
   "name": "python",
   "nbconvert_exporter": "python",
   "pygments_lexer": "ipython3",
   "version": "3.11.11"
  },
  "papermill": {
   "default_parameters": {},
   "duration": 318.233843,
   "end_time": "2025-09-12T08:38:40.206946",
   "environment_variables": {},
   "exception": true,
   "input_path": "denoising_V2.ipynb",
   "output_path": "denoising_V2.ipynb",
   "parameters": {},
   "start_time": "2025-09-12T08:33:21.973103",
   "version": "2.6.0"
  }
 },
 "nbformat": 4,
 "nbformat_minor": 5
}