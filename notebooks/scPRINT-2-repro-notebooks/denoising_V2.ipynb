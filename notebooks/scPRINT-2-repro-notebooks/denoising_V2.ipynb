{
 "cells": [
  {
   "cell_type": "markdown",
   "id": "9c733119",
   "metadata": {
    "papermill": {
     "duration": 0.012051,
     "end_time": "2025-09-12T14:29:28.104014",
     "exception": false,
     "start_time": "2025-09-12T14:29:28.091963",
     "status": "completed"
    },
    "tags": []
   },
   "source": [
    "## Impact of denoising as one increases\n"
   ]
  },
  {
   "cell_type": "code",
   "execution_count": 7,
   "id": "2ca38832",
   "metadata": {
    "execution": {
     "iopub.execute_input": "2025-09-12T14:29:28.128924Z",
     "iopub.status.busy": "2025-09-12T14:29:28.128778Z",
     "iopub.status.idle": "2025-09-12T14:30:00.179118Z",
     "shell.execute_reply": "2025-09-12T14:30:00.178588Z"
    },
    "papermill": {
     "duration": 32.060832,
     "end_time": "2025-09-12T14:30:00.180294",
     "exception": false,
     "start_time": "2025-09-12T14:29:28.119462",
     "status": "completed"
    },
    "tags": []
   },
   "outputs": [
    {
     "name": "stdout",
     "output_type": "stream",
     "text": [
      "The autoreload extension is already loaded. To reload it, use:\n",
      "  %reload_ext autoreload\n"
     ]
    }
   ],
   "source": [
    "#! lamin init --storage ./lamin-intro --schema bionty\n",
    "\n",
    "import scanpy as sc\n",
    "from scprint import scPrint\n",
    "from scdataloader import Preprocessor\n",
    "from scdataloader.utils import load_genes\n",
    "import numpy as np\n",
    "import anndata as ad\n",
    "from huggingface_hub import hf_hub_download\n",
    "\n",
    "from scprint.tasks import Denoiser, withknn\n",
    "from scprint.model.utils import downsample_profile\n",
    "from scipy.stats import spearmanr\n",
    "from anndata import AnnData\n",
    "from scprint.tasks.denoise import plot_cell_depth_wise_corr_improvement\n",
    "\n",
    "import matplotlib.pyplot as plt\n",
    "\n",
    "%load_ext autoreload\n",
    "%autoreload 2\n",
    "\n",
    "import torch\n",
    "\n",
    "torch.set_float32_matmul_precision(\"medium\")"
   ]
  },
  {
   "cell_type": "code",
   "execution_count": 2,
   "id": "b0f5788f",
   "metadata": {
    "execution": {
     "iopub.execute_input": "2025-09-12T14:30:00.201858Z",
     "iopub.status.busy": "2025-09-12T14:30:00.201244Z",
     "iopub.status.idle": "2025-09-12T14:30:05.724608Z",
     "shell.execute_reply": "2025-09-12T14:30:05.724160Z"
    },
    "papermill": {
     "duration": 5.534351,
     "end_time": "2025-09-12T14:30:05.725813",
     "exception": false,
     "start_time": "2025-09-12T14:30:00.191462",
     "status": "completed"
    },
    "tags": []
   },
   "outputs": [],
   "source": [
    "# model_checkpoint_file = hf_hub_download(\n",
    "#    repo_id=\"jkobject/scPRINT\", filename=f\"v2-medium.ckpt\"\n",
    "# )\n",
    "# model_checkpoint_file = ../data/\n",
    "model_checkpoint_file = \"../models/l2su2z5q.ckpt\"\n",
    "# w937u4o1"
   ]
  },
  {
   "cell_type": "code",
   "execution_count": 3,
   "id": "ff4be45c",
   "metadata": {
    "execution": {
     "iopub.execute_input": "2025-09-12T14:30:05.751561Z",
     "iopub.status.busy": "2025-09-12T14:30:05.751407Z",
     "iopub.status.idle": "2025-09-12T14:34:16.815345Z",
     "shell.execute_reply": "2025-09-12T14:34:16.814690Z"
    },
    "papermill": {
     "duration": 251.077999,
     "end_time": "2025-09-12T14:34:16.816153",
     "exception": false,
     "start_time": "2025-09-12T14:30:05.738154",
     "status": "completed"
    },
    "tags": []
   },
   "outputs": [
    {
     "name": "stdout",
     "output_type": "stream",
     "text": [
      "FYI: scPrint is not attached to a `Trainer`.\n"
     ]
    }
   ],
   "source": [
    "model = scPrint.load_from_checkpoint(\n",
    "    model_checkpoint_file, precpt_gene_emb=None, gene_pos_file=None\n",
    ")\n",
    "model = model.to(\"cuda\")"
   ]
  },
  {
   "cell_type": "markdown",
   "id": "0842d770",
   "metadata": {
    "papermill": {
     "duration": 0.00917,
     "end_time": "2025-09-12T14:34:16.839767",
     "exception": false,
     "start_time": "2025-09-12T14:34:16.830597",
     "status": "completed"
    },
    "tags": []
   },
   "source": [
    "# run denoising as depth increase"
   ]
  },
  {
   "cell_type": "code",
   "execution_count": 6,
   "id": "40848556",
   "metadata": {
    "execution": {
     "iopub.execute_input": "2025-09-12T14:34:16.859039Z",
     "iopub.status.busy": "2025-09-12T14:34:16.858872Z",
     "iopub.status.idle": "2025-09-12T14:34:20.500070Z",
     "shell.execute_reply": "2025-09-12T14:34:20.499499Z"
    },
    "papermill": {
     "duration": 3.652239,
     "end_time": "2025-09-12T14:34:20.501051",
     "exception": false,
     "start_time": "2025-09-12T14:34:16.848812",
     "status": "completed"
    },
    "tags": []
   },
   "outputs": [],
   "source": [
    "#import lamindb as ln\n",
    "\n",
    "#res = ln.Artifact.filter(uid=\"vhwQPOwZ3kyGtOv00001\")[0]\n",
    "#print(res.key)\n",
    "#print(res.path)\n",
    "#print()\n",
    "#res = ln.Artifact.filter(uid=\"Q1fKksCKtOAgigiT0001\")[0]\n",
    "#print(res.key)\n",
    "#print(res.path)\n",
    "\n",
    "# 2025-02-25/h5ad/Velocyto/Homo_sapiens/SRX24486462.h5ad\n",
    "# /pasteur/appa/scratch/jkalfon/scprint2/.lamindb/vhwQPOwZ3kyGtOv00001.h5ad\n",
    "\n",
    "# 2025-02-25/h5ad/Velocyto/Homo_sapiens/SRX22526970.h5ad\n",
    "# /pasteur/appa/scratch/jkalfon/scprint2/.lamindb/Q1fKksCKtOAgigiT0001.h5ad"
   ]
  },
  {
   "cell_type": "code",
   "execution_count": null,
   "id": "799edb8f",
   "metadata": {
    "execution": {
     "iopub.execute_input": "2025-09-12T14:34:20.523705Z",
     "iopub.status.busy": "2025-09-12T14:34:20.523539Z",
     "iopub.status.idle": "2025-09-12T14:34:23.938590Z",
     "shell.execute_reply": "2025-09-12T14:34:23.938039Z"
    },
    "papermill": {
     "duration": 3.427993,
     "end_time": "2025-09-12T14:34:23.939573",
     "exception": false,
     "start_time": "2025-09-12T14:34:20.511580",
     "status": "completed"
    },
    "tags": []
   },
   "outputs": [],
   "source": [
    "LOC = \"/pasteur/appa/scratch/jkalfon/data/spcrint_data/\"#\"../../data/temp/\"  #\n",
    "\n",
    "datasets = {\n",
    "    \"retina\": \"https://datasets.cellxgene.cziscience.com/53bd4177-79c6-40c8-b84d-ff300dcf1b5b.h5ad\",  # gNNpgpo6gATjuxTE7CCp\n",
    "    \"kidney\": \"https://datasets.cellxgene.cziscience.com/01bc7039-961f-4c24-b407-d535a2a7ba2c.h5ad\",\n",
    "    \"intestine\": \"https://datasets.cellxgene.cziscience.com/d9a99b4a-3755-47c4-8eb5-09821ffbde17.h5ad\",  # R4ZHoQegxXdSFNFY5LGe in my case # R4ZHoQegxXdSFNFYMaIQ\n",
    "    \"glio_smart_highdepth\": \"https://datasets.cellxgene.cziscience.com/6ec440b4-542a-4022-ac01-56f812e25593.h5ad\",  # s8x0Idi587LQtXCo0Pif\n",
    "    \"lung_smart\": \"https://datasets.cellxgene.cziscience.com/6ebba0e0-a159-406f-8095-451115673a2c.h5ad\",\n",
    "    # additional (see origin from block above)\n",
    "    \"SRX24486462\": None,\n",
    "    \"SRX22526970\": None,\n",
    "    #\n",
    "}"
   ]
  },
  {
   "cell_type": "code",
   "execution_count": 15,
   "id": "8a3e16db",
   "metadata": {},
   "outputs": [
    {
     "data": {
      "text/plain": [
       "1466"
      ]
     },
     "execution_count": 15,
     "metadata": {},
     "output_type": "execute_result"
    }
   ],
   "source": [
    "min(5_000, adata.shape[0])"
   ]
  },
  {
   "cell_type": "code",
   "execution_count": null,
   "id": "4c01c6b4",
   "metadata": {},
   "outputs": [
    {
     "name": "stdout",
     "output_type": "stream",
     "text": [
      "doing  intestine\n",
      "\n"
     ]
    },
    {
     "name": "stderr",
     "output_type": "stream",
     "text": [
      "/pasteur/appa/homes/jkalfon/scPRINT/.venv/lib/python3.11/site-packages/anndata/_core/anndata.py:602: FutureWarning: You are attempting to set `X` to a matrix on a view which has non-unique indices. The resulting `adata.X` will likely not equal the value to which you set it. To avoid this potential issue, please make a copy of the data first. In the future, this operation will throw an error.\n",
      "  warnings.warn(msg, FutureWarning, stacklevel=1)\n"
     ]
    },
    {
     "name": "stdout",
     "output_type": "stream",
     "text": [
      "Dropping layers:  KeysView(Layers with keys: ln_rpdm-normalized, raw_rpdm-normalized)\n",
      "checking raw counts\n",
      "removed 0 non primary cells, 1466 renamining\n",
      "filtered out 0 cells, 1466 renamining\n",
      "Removed 0 genes not known to the ontology\n",
      "Removed 0 duplicate genes\n",
      "Added 47132 genes in the ontology but not present in the dataset\n",
      "starting QC\n",
      "Seeing 1354 outliers (92.30% of total dataset):\n",
      "normalize\n",
      "starting PCA\n",
      "done\n",
      "AnnData object with n_obs × n_vars = 1466 × 70116\n",
      "    obs: 'hash_label', 'hash_cluster', 'n_genes', 'hashed', 'group', 'treatment', 'n_genes_by_counts', 'total_counts', 'total_counts_mt', 'pct_counts_mt', 'pct_counts_hb', 'batch', 'S_score', 'G2M_score', 'phase', 'leiden', 'lineage', 'type', 'cds', 'donor_region', 'dpt_pseudotime', 'tissue_ontology_term_id', 'assay_ontology_term_id', 'disease_ontology_term_id', 'cell_type_ontology_term_id', 'sex_ontology_term_id', 'development_stage_ontology_term_id', 'is_primary_data', 'organism_ontology_term_id', 'donor_id', 'self_reported_ethnicity_ontology_term_id', 'suspension_type', 'BMI', 'tissue_type', 'cell_type', 'assay', 'disease', 'organism', 'sex', 'tissue', 'self_reported_ethnicity', 'development_stage', 'observation_joinid', 'nnz', 'log1p_n_genes_by_counts', 'log1p_total_counts', 'pct_counts_in_top_20_genes', 'log1p_total_counts_mt', 'total_counts_ribo', 'log1p_total_counts_ribo', 'pct_counts_ribo', 'total_counts_hb', 'log1p_total_counts_hb', 'outlier', 'mt_outlier', 'batches'\n",
      "    var: 'means', 'dispersions', 'dispersions_norm', 'mean', 'std', 's_phase', 'g2m_phase', 'feature_types', 'genome', 'mt_x', 'Donor_2-n_cells', 'Donor_1-n_cells', 'Donor_3-n_cells', 'Donor_2-n_cells_by_counts', 'Donor_1-n_cells_by_counts', 'Donor_3-n_cells_by_counts', 'Donor_2-mean_counts', 'Donor_1-mean_counts', 'Donor_3-mean_counts', 'Donor_2-pct_dropout_by_counts', 'Donor_1-pct_dropout_by_counts', 'Donor_3-pct_dropout_by_counts', 'Donor_2-total_counts', 'Donor_1-total_counts', 'Donor_3-total_counts', 'feature_is_filtered', 'feature_name', 'feature_reference', 'feature_biotype', 'feature_length', 'feature_type', 'uid', 'symbol', 'biotype', 'organism_id', 'branch_id', 'mt_y', 'ribo', 'hb', 'organism', 'ensembl_gene_id', 'mt', 'n_cells_by_counts', 'mean_counts', 'log1p_mean_counts', 'pct_dropout_by_counts', 'total_counts', 'log1p_total_counts'\n",
      "    uns: 'unseen_genes'\n",
      "    obsm: 'X_pca'\n",
      "    layers: 'norm'\n",
      "13013.164\n",
      "working on 4024 accepted genes\n"
     ]
    },
    {
     "name": "stderr",
     "output_type": "stream",
     "text": [
      "/pasteur/appa/homes/jkalfon/scdataloader/scdataloader/utils.py:427: FutureWarning: The behavior of DataFrame concatenation with empty or all-NA entries is deprecated. In a future version, this will no longer exclude empty or all-NA columns when determining the result dtypes. To retain the old behavior, exclude the relevant entries before the concat operation.\n",
      "  organismdf = pd.concat(organismdf)\n"
     ]
    },
    {
     "name": "stdout",
     "output_type": "stream",
     "text": [
      "not on wandb, could not set name\n"
     ]
    },
    {
     "name": "stderr",
     "output_type": "stream",
     "text": [
      "100%|██████████| 74/74 [00:11<00:00,  6.52it/s]\n"
     ]
    },
    {
     "name": "stdout",
     "output_type": "stream",
     "text": [
      "logging the anndata\n",
      "AnnData object with n_obs × n_vars = 1465 × 4024\n",
      "    obs: 'pred_cell_type_ontology_term_id', 'pred_tissue_ontology_term_id', 'pred_disease_ontology_term_id', 'pred_assay_ontology_term_id', 'pred_self_reported_ethnicity_ontology_term_id', 'pred_sex_ontology_term_id', 'pred_organism_ontology_term_id', 'conv_pred_cell_type_ontology_term_id', 'conv_pred_tissue_ontology_term_id', 'conv_pred_disease_ontology_term_id', 'conv_pred_assay_ontology_term_id', 'conv_pred_self_reported_ethnicity_ontology_term_id'\n",
      "    obsm: 'scprint_emb_cell_type_ontology_term_id'\n",
      "    layers: 'scprint_mu', 'scprint_theta', 'scprint_pi'\n"
     ]
    },
    {
     "ename": "ValueError",
     "evalue": "Cannot take a larger sample than population when 'replace=False'",
     "output_type": "error",
     "traceback": [
      "\u001b[31m---------------------------------------------------------------------------\u001b[39m",
      "\u001b[31mValueError\u001b[39m                                Traceback (most recent call last)",
      "\u001b[36mCell\u001b[39m\u001b[36m \u001b[39m\u001b[32mIn[16]\u001b[39m\u001b[32m, line 30\u001b[39m\n\u001b[32m     18\u001b[39m adata.layers[\u001b[33m\"\u001b[39m\u001b[33mtrue\u001b[39m\u001b[33m\"\u001b[39m] = adata.X.copy()\n\u001b[32m     19\u001b[39m denoise = Denoiser(\n\u001b[32m     20\u001b[39m     batch_size=\u001b[32m40\u001b[39m \u001b[38;5;28;01mif\u001b[39;00m (adata.X > \u001b[32m0\u001b[39m).sum(\u001b[32m1\u001b[39m).mean() < \u001b[32m2_000\u001b[39m \u001b[38;5;28;01melse\u001b[39;00m \u001b[32m20\u001b[39m,\n\u001b[32m     21\u001b[39m     max_len=max_len,\n\u001b[32m   (...)\u001b[39m\u001b[32m     28\u001b[39m     apply_zero_pred=\u001b[38;5;28;01mTrue\u001b[39;00m,\n\u001b[32m     29\u001b[39m )\n\u001b[32m---> \u001b[39m\u001b[32m30\u001b[39m res[\u001b[33m\"\u001b[39m\u001b[33mscprint_\u001b[39m\u001b[33m\"\u001b[39m + name], idx, nadata = \u001b[43mdenoise\u001b[49m\u001b[43m(\u001b[49m\u001b[43mmodel\u001b[49m\u001b[43m,\u001b[49m\u001b[43m \u001b[49m\u001b[43madata\u001b[49m\u001b[43m)\u001b[49m\n\u001b[32m     31\u001b[39m \u001b[38;5;28mprint\u001b[39m(res[\u001b[33m\"\u001b[39m\u001b[33mscprint_\u001b[39m\u001b[33m\"\u001b[39m + name])\n\u001b[32m     33\u001b[39m \u001b[38;5;66;03m# doing magic\u001b[39;00m\n",
      "\u001b[36mFile \u001b[39m\u001b[32m~/scPRINT/scprint/tasks/denoise.py:268\u001b[39m, in \u001b[36mDenoiser.__call__\u001b[39m\u001b[34m(self, model, adata)\u001b[39m\n\u001b[32m    265\u001b[39m \u001b[38;5;28;01mif\u001b[39;00m \u001b[38;5;28mself\u001b[39m.additional_info:\n\u001b[32m    266\u001b[39m     \u001b[38;5;66;03m# Sample only 3000 elements for correlation calculation\u001b[39;00m\n\u001b[32m    267\u001b[39m     \u001b[38;5;28;01mif\u001b[39;00m reco.shape[\u001b[32m0\u001b[39m] <= \u001b[32m3000\u001b[39m:\n\u001b[32m--> \u001b[39m\u001b[32m268\u001b[39m         indices = np.random.choice(reco.shape[\u001b[32m0\u001b[39m], \u001b[32m3000\u001b[39m, replace=\u001b[38;5;28;01mFalse\u001b[39;00m)\n\u001b[32m    269\u001b[39m         reco = reco[indices]\n\u001b[32m    270\u001b[39m         stored_noisy = stored_noisy[indices]\n",
      "\u001b[36mFile \u001b[39m\u001b[32mnumpy/random/mtrand.pyx:1001\u001b[39m, in \u001b[36mnumpy.random.mtrand.RandomState.choice\u001b[39m\u001b[34m()\u001b[39m\n",
      "\u001b[31mValueError\u001b[39m: Cannot take a larger sample than population when 'replace=False'"
     ]
    }
   ],
   "source": [
    "for name, url in {\"intestine\": \"https://datasets.cellxgene.cziscience.com/d9a99b4a-3755-47c4-8eb5-09821ffbde17.h5ad\"}.items():\n",
    "    print(\"doing \", name)\n",
    "\n",
    "    adata = sc.read(LOC + name + \".h5ad\", backup_url=url)\n",
    "    max_len = 3000 if (adata.X > 0).sum(1).mean() < 2_000 else 5000\n",
    "    preprocessor = Preprocessor(\n",
    "        force_preprocess=True,\n",
    "        skip_validate=True,\n",
    "        # drop_non_primary=False,\n",
    "        do_postp=model.expr_emb_style == \"metacell\",\n",
    "    )\n",
    "    print(\"\")\n",
    "    adata = adata[adata.X.sum(1) > 1000]\n",
    "    adata = preprocessor(adata)\n",
    "    if model.expr_emb_style == \"metacell\":\n",
    "        sc.pp.neighbors(adata, use_rep=\"X_pca\")\n",
    "    print(adata.X.sum(1).mean())\n",
    "    adata.layers[\"true\"] = adata.X.copy()\n",
    "    denoise = Denoiser(\n",
    "        batch_size=40 if (adata.X > 0).sum(1).mean() < 2_000 else 20,\n",
    "        max_len=max_len,\n",
    "        max_cells=5_000,\n",
    "        doplot=False,\n",
    "        num_workers=8,\n",
    "        predict_depth_mult=10,\n",
    "        downsample_expr=0.7,\n",
    "        additional_info=True,\n",
    "        apply_zero_pred=True,\n",
    "    )\n",
    "    res[\"scprint_\" + name], idx, nadata = denoise(model, adata)\n",
    "    print(res[\"scprint_\" + name])\n",
    "\n",
    "    # doing magic\n",
    "    subadata = (\n",
    "        adata[idx, adata.var.index.isin(model.genes) & adata.var.highly_variable].copy()\n",
    "        if idx is not None\n",
    "        else adata[\n",
    "            :, adata.var.index.isin(model.genes) & adata.var.highly_variable\n",
    "        ].copy()\n",
    "    )\n",
    "    print(subadata.shape)\n",
    "    subadata.X = downsample_profile(torch.Tensor(subadata.X.toarray()), 0.7)\n",
    "    denoised_adata = sc.external.pp.magic(\n",
    "        subadata.copy(), copy=True, n_jobs=10, solver=\"approximate\", verbose=True\n",
    "    )\n",
    "\n",
    "    reco = denoised_adata.X\n",
    "    true = subadata.layers[\"true\"].toarray()\n",
    "    noisy = subadata.X\n",
    "    corr_coef, p_value = spearmanr(\n",
    "        np.vstack([reco[true != 0], noisy[true != 0], true[true != 0]]).T\n",
    "    )\n",
    "    res[\"magic_\" + name] = {\n",
    "        \"reco2noisy\": corr_coef[0, 1],\n",
    "        \"reco2full\": corr_coef[0, 2],\n",
    "        \"noisy2full\": corr_coef[1, 2],\n",
    "    }\n",
    "    if reco.shape[0] <= 3000:\n",
    "        indices = np.random.choice(reco.shape[0], 3000, replace=False)\n",
    "        reco = reco[indices]\n",
    "        noisy = noisy[indices]\n",
    "        true = true[indices]\n",
    "    corr, p_value = spearmanr(\n",
    "        np.vstack(\n",
    "            [\n",
    "                reco.flatten(),\n",
    "                noisy.flatten(),\n",
    "                true.flatten(),\n",
    "            ]\n",
    "        ).T\n",
    "    )\n",
    "    m = {\n",
    "        \"reco2full\": corr[0, 2],\n",
    "        \"noisy2full\": corr[1, 2],\n",
    "    }\n",
    "    print(\"corr with zeros: \")\n",
    "    print(m)\n",
    "    cell_wise = np.array(\n",
    "        [\n",
    "            spearmanr(reco[i][true[i] != 0], true[i][true[i] != 0])[0]\n",
    "            for i in range(reco.shape[0])\n",
    "        ]\n",
    "    )\n",
    "    torm = np.array(\n",
    "        [\n",
    "            spearmanr(noisy[i][true[i] != 0], true[i][true[i] != 0])[0]\n",
    "            for i in range(reco.shape[0])\n",
    "        ]\n",
    "    )\n",
    "    cell_wise -= torm\n",
    "    cell_wise_zero = np.mean(\n",
    "        [spearmanr(reco[i], true[i])[0] for i in range(reco.shape[0])]\n",
    "    )\n",
    "    print(\"cell_wise self corr (reco, noisy, true)\")\n",
    "    print(\n",
    "        {\n",
    "            \"cell_wise_w_zero\": cell_wise_zero,\n",
    "            \"cell_wise_to_noisy\": np.mean(cell_wise),\n",
    "        }\n",
    "    )\n",
    "    print(\"depth-wise plot\")\n",
    "    plot_cell_depth_wise_corr_improvement(cell_wise, (true > 0).sum(1))\n",
    "    print(res[\"magic_\" + name])\n",
    "    print(\"--------------------------------\")\n",
    "    print(\"\")\n"
   ]
  },
  {
   "cell_type": "code",
   "execution_count": null,
   "id": "13833598",
   "metadata": {
    "execution": {
     "iopub.execute_input": "2025-09-12T14:34:23.960825Z",
     "iopub.status.busy": "2025-09-12T14:34:23.960672Z",
     "iopub.status.idle": "2025-09-12T14:49:19.395345Z",
     "shell.execute_reply": "2025-09-12T14:49:19.394811Z"
    },
    "papermill": {
     "duration": 895.460728,
     "end_time": "2025-09-12T14:49:19.411401",
     "exception": false,
     "start_time": "2025-09-12T14:34:23.950673",
     "status": "completed"
    },
    "tags": []
   },
   "outputs": [
    {
     "name": "stdout",
     "output_type": "stream",
     "text": [
      "doing  retina\n",
      "\n"
     ]
    },
    {
     "name": "stderr",
     "output_type": "stream",
     "text": [
      "/pasteur/appa/homes/jkalfon/scPRINT/.venv/lib/python3.11/site-packages/anndata/_core/anndata.py:602: FutureWarning: You are attempting to set `X` to a matrix on a view which has non-unique indices. The resulting `adata.X` will likely not equal the value to which you set it. To avoid this potential issue, please make a copy of the data first. In the future, this operation will throw an error.\n",
      "  warnings.warn(msg, FutureWarning, stacklevel=1)\n"
     ]
    },
    {
     "name": "stdout",
     "output_type": "stream",
     "text": [
      "Dropping layers:  KeysView(Layers with keys: )\n",
      "checking raw counts\n",
      "removed 0 non primary cells, 51531 renamining\n",
      "filtered out 0 cells, 51531 renamining\n",
      "Removed 0 genes not known to the ontology\n",
      "Removed 0 duplicate genes\n",
      "Added 33737 genes in the ontology but not present in the dataset\n",
      "starting QC\n",
      "Seeing 24011 outliers (46.59% of total dataset):\n",
      "normalize\n",
      "starting PCA\n"
     ]
    }
   ],
   "source": [
    "res = {}\n",
    "for name, url in datasets.items():\n",
    "    print(\"doing \", name)\n",
    "\n",
    "    adata = sc.read(LOC + name + \".h5ad\", backup_url=url)\n",
    "    max_len = 3000 if (adata.X > 0).sum(1).mean() < 2_000 else 5000\n",
    "    preprocessor = Preprocessor(\n",
    "        force_preprocess=True,\n",
    "        skip_validate=True,\n",
    "        # drop_non_primary=False,\n",
    "        do_postp=model.expr_emb_style == \"metacell\",\n",
    "    )\n",
    "    print(\"\")\n",
    "    adata = adata[adata.X.sum(1) > 1000]\n",
    "    adata = preprocessor(adata)\n",
    "    if model.expr_emb_style == \"metacell\":\n",
    "        sc.pp.neighbors(adata, use_rep=\"X_pca\")\n",
    "    print(adata.X.sum(1).mean())\n",
    "    adata.layers[\"true\"] = adata.X.copy()\n",
    "    denoise = Denoiser(\n",
    "        batch_size=40 if (adata.X > 0).sum(1).mean() < 2_000 else 20,\n",
    "        max_len=max_len,\n",
    "        max_cells=5_000,\n",
    "        doplot=False,\n",
    "        num_workers=8,\n",
    "        predict_depth_mult=10,\n",
    "        downsample_expr=0.7,\n",
    "        additional_info=True,\n",
    "        apply_zero_pred=True,\n",
    "    )\n",
    "    res[\"scprint_\" + name], idx, nadata = denoise(model, adata)\n",
    "    print(res[\"scprint_\" + name])\n",
    "\n",
    "    # doing magic\n",
    "    subadata = (\n",
    "        adata[idx, adata.var.index.isin(model.genes) & adata.var.highly_variable].copy()\n",
    "        if idx is not None\n",
    "        else adata[\n",
    "            :, adata.var.index.isin(model.genes) & adata.var.highly_variable\n",
    "        ].copy()\n",
    "    )\n",
    "    print(subadata.shape)\n",
    "    subadata.X = downsample_profile(torch.Tensor(subadata.X.toarray()), 0.7)\n",
    "    denoised_adata = sc.external.pp.magic(\n",
    "        subadata.copy(), copy=True, n_jobs=10, solver=\"approximate\", verbose=True\n",
    "    )\n",
    "\n",
    "    reco = denoised_adata.X\n",
    "    true = subadata.layers[\"true\"].toarray()\n",
    "    noisy = subadata.X\n",
    "    corr_coef, p_value = spearmanr(\n",
    "        np.vstack([reco[true != 0], noisy[true != 0], true[true != 0]]).T\n",
    "    )\n",
    "    res[\"magic_\" + name] = {\n",
    "        \"reco2noisy\": corr_coef[0, 1],\n",
    "        \"reco2full\": corr_coef[0, 2],\n",
    "        \"noisy2full\": corr_coef[1, 2],\n",
    "    }\n",
    "    if reco.shape[0] <= 3000:\n",
    "        indices = np.random.choice(reco.shape[0], 3000, replace=False)\n",
    "        reco = reco[indices]\n",
    "        noisy = noisy[indices]\n",
    "        true = true[indices]\n",
    "    corr, p_value = spearmanr(\n",
    "        np.vstack(\n",
    "            [\n",
    "                reco.flatten(),\n",
    "                noisy.flatten(),\n",
    "                true.flatten(),\n",
    "            ]\n",
    "        ).T\n",
    "    )\n",
    "    m = {\n",
    "        \"reco2full\": corr[0, 2],\n",
    "        \"noisy2full\": corr[1, 2],\n",
    "    }\n",
    "    print(\"corr with zeros: \")\n",
    "    print(m)\n",
    "    cell_wise = np.array(\n",
    "        [\n",
    "            spearmanr(reco[i][true[i] != 0], true[i][true[i] != 0])[0]\n",
    "            for i in range(reco.shape[0])\n",
    "        ]\n",
    "    )\n",
    "    torm = np.array(\n",
    "        [\n",
    "            spearmanr(noisy[i][true[i] != 0], true[i][true[i] != 0])[0]\n",
    "            for i in range(reco.shape[0])\n",
    "        ]\n",
    "    )\n",
    "    cell_wise -= torm\n",
    "    cell_wise_zero = np.mean(\n",
    "        [spearmanr(reco[i], true[i])[0] for i in range(reco.shape[0])]\n",
    "    )\n",
    "    print(\"cell_wise self corr (reco, noisy, true)\")\n",
    "    print(\n",
    "        {\n",
    "            \"cell_wise_w_zero\": cell_wise_zero,\n",
    "            \"cell_wise_to_noisy\": np.mean(cell_wise),\n",
    "        }\n",
    "    )\n",
    "    print(\"depth-wise plot\")\n",
    "    plot_cell_depth_wise_corr_improvement(cell_wise, (true > 0).sum(1))\n",
    "    print(res[\"magic_\" + name])\n",
    "    print(\"--------------------------------\")\n",
    "    print(\"\")\n"
   ]
  },
  {
   "cell_type": "code",
   "execution_count": 9,
   "id": "d7625e66",
   "metadata": {
    "execution": {
     "iopub.execute_input": "2025-09-12T14:49:19.551219Z",
     "iopub.status.busy": "2025-09-12T14:49:19.549097Z",
     "iopub.status.idle": "2025-09-12T14:49:24.140589Z",
     "shell.execute_reply": "2025-09-12T14:49:24.140200Z"
    },
    "papermill": {
     "duration": 4.661008,
     "end_time": "2025-09-12T14:49:24.141291",
     "exception": false,
     "start_time": "2025-09-12T14:49:19.480283",
     "status": "completed"
    },
    "tags": []
   },
   "outputs": [
    {
     "data": {
      "text/plain": [
       "{'scprint_retina': {'reco2noisy': 0.12835546418504326,\n",
       "  'reco2full': 0.634676338338404,\n",
       "  'noisy2full': 0.3754403325655061},\n",
       " 'magic_retina': {'reco2noisy': 0.28661029362155677,\n",
       "  'reco2full': 0.6619770104132843,\n",
       "  'noisy2full': 0.37624206798491955},\n",
       " 'scprint_kidney': {'reco2noisy': 0.16448473097425817,\n",
       "  'reco2full': 0.6271697467409807,\n",
       "  'noisy2full': 0.36493137370647466},\n",
       " 'magic_kidney': {'reco2noisy': 0.2494145736892564,\n",
       "  'reco2full': 0.6115572201518081,\n",
       "  'noisy2full': 0.36178533343045804},\n",
       " 'scprint_glio_smart_highdepth': {'reco2noisy': 0.36720441107122964,\n",
       "  'reco2full': 0.8022288884150133,\n",
       "  'noisy2full': 0.4132499769357176},\n",
       " 'magic_glio_smart_highdepth': {'reco2noisy': 0.23311556742027326,\n",
       "  'reco2full': 0.5357117574462856,\n",
       "  'noisy2full': 0.4113662839365645},\n",
       " 'scprint_lung_smart': {'reco2noisy': 0.37105622367144786,\n",
       "  'reco2full': 0.8448493043916464,\n",
       "  'noisy2full': 0.40579962356208504},\n",
       " 'magic_lung_smart': {'reco2noisy': 0.27777249795864106,\n",
       "  'reco2full': 0.6551237091768727,\n",
       "  'noisy2full': 0.4042987154108209},\n",
       " 'scprint_SRX24486462': {'reco2noisy': 0.22278968739438465,\n",
       "  'reco2full': 0.8360587415508179,\n",
       "  'noisy2full': 0.40552544745414737},\n",
       " 'magic_SRX24486462': {'reco2noisy': 0.3228484127749159,\n",
       "  'reco2full': 0.7767888400961681,\n",
       "  'noisy2full': 0.40593485713646354},\n",
       " 'scprint_SRX22526970': {'reco2noisy': 0.3875432237755638,\n",
       "  'reco2full': 0.9363996164139204,\n",
       "  'noisy2full': 0.4215539212741207},\n",
       " 'magic_SRX22526970': {'reco2noisy': 0.39012783901308784,\n",
       "  'reco2full': 0.9123203045626905,\n",
       "  'noisy2full': 0.4221239938775344}}"
      ]
     },
     "execution_count": 9,
     "metadata": {},
     "output_type": "execute_result"
    }
   ],
   "source": [
    "res"
   ]
  },
  {
   "cell_type": "code",
   "execution_count": 10,
   "id": "c158558d",
   "metadata": {
    "execution": {
     "iopub.execute_input": "2025-09-12T14:49:24.283645Z",
     "iopub.status.busy": "2025-09-12T14:49:24.283434Z",
     "iopub.status.idle": "2025-09-12T14:49:28.045552Z",
     "shell.execute_reply": "2025-09-12T14:49:28.045161Z"
    },
    "papermill": {
     "duration": 3.832316,
     "end_time": "2025-09-12T14:49:28.046244",
     "exception": false,
     "start_time": "2025-09-12T14:49:24.213928",
     "status": "completed"
    },
    "tags": []
   },
   "outputs": [
    {
     "data": {
      "image/png": "[encoded data removed]",
      "text/plain": [
       "<Figure size 640x480 with 1 Axes>"
      ]
     },
     "metadata": {},
     "output_type": "display_data"
    }
   ],
   "source": [
    "import pandas as pd\n",
    "import matplotlib.pyplot as plt\n",
    "import numpy as np\n",
    "from scipy.optimize import curve_fit\n",
    "\n",
    "# Create a DataFrame\n",
    "# from prevmodel\n",
    "# data = {\n",
    "#    'depth': [2736, 1888, 388362, 10360],\n",
    "#    'magic': [30.4, 26.3, 6.4, 27.0],\n",
    "#    'scprint': [19.3, 21.5, 33.2, 36.1]\n",
    "# }\n",
    "# from the prevmodel\n",
    "#data = {\n",
    "#    \"depth\": [1888, 2736, 388362, 10360, 21693, 38469],\n",
    "#    \"magic\": [25, 28.7, 17.6, 27.6, 49, 37.1],\n",
    "#    \"scprint\": [26, 27.6, 29.8, 28.2, 47.7, 37.1],\n",
    "#}\n",
    "\n",
    "data = {\n",
    "    \"depth\": [1888, 2736, 388362, 10360, 21693, 38469],\n",
    "    \"magic\": [25, 28.6, 12.6, 25.1, 49, 37.1],\n",
    "    \"scprint\": [26, 25, 39, 43.8, 51.5, 43.1],\n",
    "}\n",
    "df = pd.DataFrame(data)\n",
    "\n",
    "# Convert depth to log scale\n",
    "df[\"log_depth\"] = np.log(df[\"depth\"])\n",
    "\n",
    "\n",
    "# Define a linear function for curve fitting\n",
    "def linear_func(x, a, b):\n",
    "    return a * x + b\n",
    "\n",
    "\n",
    "# Fit the linear curves on log scale\n",
    "popt_magic, _ = curve_fit(linear_func, df[\"log_depth\"], df[\"magic\"])\n",
    "popt_scprint, _ = curve_fit(linear_func, df[\"log_depth\"], df[\"scprint\"])\n",
    "\n",
    "# Plot the data points\n",
    "plt.scatter(df[\"log_depth\"], df[\"magic\"], label=\"Magic\", color=\"blue\")\n",
    "plt.scatter(df[\"log_depth\"], df[\"scprint\"], label=\"scPRINT\", color=\"red\")\n",
    "\n",
    "# Plot the fitted linear curves\n",
    "x_values = np.linspace(min(df[\"log_depth\"]), max(df[\"log_depth\"]), 100)\n",
    "plt.plot(\n",
    "    x_values,\n",
    "    linear_func(x_values, *popt_magic),\n",
    "    label=\"Linear Fit (Magic)\",\n",
    "    color=\"blue\",\n",
    "    linestyle=\"--\",\n",
    ")\n",
    "plt.plot(\n",
    "    x_values,\n",
    "    linear_func(x_values, *popt_scprint),\n",
    "    label=\"Linear Fit (scPRINT)\",\n",
    "    color=\"red\",\n",
    "    linestyle=\"--\",\n",
    ")\n",
    "\n",
    "# Add labels and legend\n",
    "plt.xlabel(\"Log Depth\")\n",
    "plt.ylabel(\"Values\")\n",
    "plt.legend()\n",
    "plt.title(\"Log Depth vs Magic and scPRINT with Linear Fits\")\n",
    "plt.show()"
   ]
  },
  {
   "cell_type": "code",
   "execution_count": null,
   "id": "5a70596d",
   "metadata": {},
   "outputs": [],
   "source": []
  },
  {
   "cell_type": "code",
   "execution_count": 9,
   "id": "6f23d007",
   "metadata": {
    "execution": {
     "iopub.execute_input": "2025-09-12T14:49:28.199804Z",
     "iopub.status.busy": "2025-09-12T14:49:28.199583Z",
     "iopub.status.idle": "2025-09-12T14:49:31.975983Z",
     "shell.execute_reply": "2025-09-12T14:49:31.975524Z"
    },
    "papermill": {
     "duration": 3.847945,
     "end_time": "2025-09-12T14:49:31.976698",
     "exception": false,
     "start_time": "2025-09-12T14:49:28.128753",
     "status": "completed"
    },
    "tags": []
   },
   "outputs": [
    {
     "data": {
      "image/png": "[encoded data removed]",
      "text/plain": [
       "<Figure size 640x480 with 1 Axes>"
      ]
     },
     "metadata": {},
     "output_type": "display_data"
    }
   ],
   "source": [
    "import pandas as pd\n",
    "import matplotlib.pyplot as plt\n",
    "import numpy as np\n",
    "from scipy.optimize import curve_fit\n",
    "\n",
    "# Create a DataFrame\n",
    "# from prevmodel\n",
    "# data = {\n",
    "#    'depth': [2736, 1888, 388362, 10360],\n",
    "#    'magic': [30.4, 26.3, 6.4, 27.0],\n",
    "#    'scprint': [19.3, 21.5, 33.2, 36.1]\n",
    "# }\n",
    "data = {\n",
    "    \"depth\": [2736, 1888, 388362, 10360],\n",
    "    \"magic\": [30.5, 26.3, 6.4, 22.0],\n",
    "    \"scprint\": [29.5, 26.5, 35.7, 36.3],\n",
    "}\n",
    "df = pd.DataFrame(data)\n",
    "\n",
    "# Convert depth to log scale\n",
    "df[\"log_depth\"] = np.log(df[\"depth\"])\n",
    "\n",
    "\n",
    "# Define a linear function for curve fitting\n",
    "def linear_func(x, a, b):\n",
    "    return a * x + b\n",
    "\n",
    "\n",
    "# Fit the linear curves on log scale\n",
    "popt_magic, _ = curve_fit(linear_func, df[\"log_depth\"], df[\"magic\"])\n",
    "popt_scprint, _ = curve_fit(linear_func, df[\"log_depth\"], df[\"scprint\"])\n",
    "\n",
    "# Plot the data points\n",
    "plt.scatter(df[\"log_depth\"], df[\"magic\"], label=\"Magic\", color=\"blue\")\n",
    "plt.scatter(df[\"log_depth\"], df[\"scprint\"], label=\"scPRINT\", color=\"red\")\n",
    "\n",
    "# Plot the fitted linear curves\n",
    "x_values = np.linspace(min(df[\"log_depth\"]), max(df[\"log_depth\"]), 100)\n",
    "plt.plot(\n",
    "    x_values,\n",
    "    linear_func(x_values, *popt_magic),\n",
    "    label=\"Linear Fit (Magic)\",\n",
    "    color=\"blue\",\n",
    "    linestyle=\"--\",\n",
    ")\n",
    "plt.plot(\n",
    "    x_values,\n",
    "    linear_func(x_values, *popt_scprint),\n",
    "    label=\"Linear Fit (scPRINT)\",\n",
    "    color=\"red\",\n",
    "    linestyle=\"--\",\n",
    ")\n",
    "\n",
    "# Add labels and legend\n",
    "plt.xlabel(\"Log Depth\")\n",
    "plt.ylabel(\"Values\")\n",
    "plt.legend()\n",
    "plt.title(\"Log Depth vs Magic and scPRINT with Linear Fits\")\n",
    "plt.show()\n"
   ]
  },
  {
   "cell_type": "code",
   "execution_count": 10,
   "id": "b84e2aec",
   "metadata": {
    "execution": {
     "iopub.execute_input": "2025-09-12T14:49:32.119025Z",
     "iopub.status.busy": "2025-09-12T14:49:32.118804Z",
     "iopub.status.idle": "2025-09-12T14:49:38.524897Z",
     "shell.execute_reply": "2025-09-12T14:49:38.524482Z"
    },
    "papermill": {
     "duration": 6.477176,
     "end_time": "2025-09-12T14:49:38.525610",
     "exception": false,
     "start_time": "2025-09-12T14:49:32.048434",
     "status": "completed"
    },
    "tags": []
   },
   "outputs": [
    {
     "name": "stdout",
     "output_type": "stream",
     "text": [
      "2498.7604421298756 10360.862 9409\n"
     ]
    },
    {
     "data": {
      "image/png": "[encoded data removed]",
      "text/plain": [
       "<Figure size 640x480 with 1 Axes>"
      ]
     },
     "metadata": {},
     "output_type": "display_data"
    },
    {
     "data": {
      "image/png": "[encoded data removed]",
      "text/plain": [
       "<Figure size 640x480 with 1 Axes>"
      ]
     },
     "metadata": {},
     "output_type": "display_data"
    }
   ],
   "source": [
    "adata = sc.read(LOC + \"lung_smart\" + \".h5ad\")\n",
    "print((adata.X > 0).sum(1).mean(), adata.X.sum(1).mean(), adata.shape[0])\n",
    "plt.hist(np.array(adata.X.sum(1)).T[0], bins=50)\n",
    "plt.title(\"reads per cells\")\n",
    "plt.show()\n",
    "plt.hist(np.array(adata.X.sum(0))[0], bins=50)\n",
    "plt.yscale(\"log\")\n",
    "plt.title(\"reads per genes\")\n",
    "plt.show()\n",
    "# 4x"
   ]
  },
  {
   "cell_type": "code",
   "execution_count": 11,
   "id": "0c26c3a1",
   "metadata": {
    "execution": {
     "iopub.execute_input": "2025-09-12T14:49:38.665310Z",
     "iopub.status.busy": "2025-09-12T14:49:38.665100Z",
     "iopub.status.idle": "2025-09-12T14:49:43.339946Z",
     "shell.execute_reply": "2025-09-12T14:49:43.339457Z"
    },
    "papermill": {
     "duration": 4.745034,
     "end_time": "2025-09-12T14:49:43.340645",
     "exception": false,
     "start_time": "2025-09-12T14:49:38.595611",
     "status": "completed"
    },
    "tags": []
   },
   "outputs": [
    {
     "name": "stdout",
     "output_type": "stream",
     "text": [
      "2510.0482028420174 388362.5 3589\n"
     ]
    },
    {
     "data": {
      "image/png": "[encoded data removed]",
      "text/plain": [
       "<Figure size 640x480 with 1 Axes>"
      ]
     },
     "metadata": {},
     "output_type": "display_data"
    },
    {
     "data": {
      "image/png": "[encoded data removed]",
      "text/plain": [
       "<Figure size 640x480 with 1 Axes>"
      ]
     },
     "metadata": {},
     "output_type": "display_data"
    }
   ],
   "source": [
    "adata = sc.read(LOC + \"glio_smart_highdepth\" + \".h5ad\")\n",
    "print((adata.X > 0).sum(1).mean(), adata.X.sum(1).mean(), adata.shape[0])\n",
    "plt.hist(np.array(adata.X.sum(1)).T[0], bins=50)\n",
    "plt.title(\"reads per cells\")\n",
    "plt.show()\n",
    "plt.hist(np.array(adata.X.sum(0))[0], bins=50)\n",
    "plt.yscale(\"log\")\n",
    "plt.title(\"reads per genes\")\n",
    "plt.show()\n",
    "# 14x"
   ]
  },
  {
   "cell_type": "code",
   "execution_count": 12,
   "id": "981b434e",
   "metadata": {
    "execution": {
     "iopub.execute_input": "2025-09-12T14:49:43.483132Z",
     "iopub.status.busy": "2025-09-12T14:49:43.482902Z",
     "iopub.status.idle": "2025-09-12T14:49:50.304120Z",
     "shell.execute_reply": "2025-09-12T14:49:50.303675Z"
    },
    "papermill": {
     "duration": 6.892041,
     "end_time": "2025-09-12T14:49:50.304796",
     "exception": false,
     "start_time": "2025-09-12T14:49:43.412755",
     "status": "completed"
    },
    "tags": []
   },
   "outputs": [
    {
     "name": "stdout",
     "output_type": "stream",
     "text": [
      "5190.719223565469 38469.57 5873\n"
     ]
    },
    {
     "data": {
      "image/png": "[encoded data removed]",
      "text/plain": [
       "<Figure size 640x480 with 1 Axes>"
      ]
     },
     "metadata": {},
     "output_type": "display_data"
    },
    {
     "data": {
      "image/png": "[encoded data removed]",
      "text/plain": [
       "<Figure size 640x480 with 1 Axes>"
      ]
     },
     "metadata": {},
     "output_type": "display_data"
    }
   ],
   "source": [
    "adata = sc.read(LOC + \"SRX24486462\" + \".h5ad\")\n",
    "print((adata.X > 0).sum(1).mean(), adata.X.sum(1).mean(), adata.shape[0])\n",
    "plt.hist(np.array(adata.X.sum(1)).T[0], bins=50)\n",
    "plt.title(\"reads per cells\")\n",
    "plt.show()\n",
    "plt.hist(np.array(adata.X.sum(0))[0], bins=50)\n",
    "plt.yscale(\"log\")\n",
    "plt.title(\"reads per genes\")\n",
    "plt.show()\n",
    "# 7x"
   ]
  },
  {
   "cell_type": "code",
   "execution_count": 13,
   "id": "34cafedd",
   "metadata": {
    "execution": {
     "iopub.execute_input": "2025-09-12T14:49:50.450571Z",
     "iopub.status.busy": "2025-09-12T14:49:50.450354Z",
     "iopub.status.idle": "2025-09-12T14:49:55.889286Z",
     "shell.execute_reply": "2025-09-12T14:49:55.888867Z"
    },
    "papermill": {
     "duration": 5.513208,
     "end_time": "2025-09-12T14:49:55.890025",
     "exception": false,
     "start_time": "2025-09-12T14:49:50.376817",
     "status": "completed"
    },
    "tags": []
   },
   "outputs": [
    {
     "name": "stdout",
     "output_type": "stream",
     "text": [
      "4145.619956883277 21693.55 3247\n"
     ]
    },
    {
     "data": {
      "image/png": "[encoded data removed]",
      "text/plain": [
       "<Figure size 640x480 with 1 Axes>"
      ]
     },
     "metadata": {},
     "output_type": "display_data"
    },
    {
     "data": {
      "image/png": "[encoded data removed]",
      "text/plain": [
       "<Figure size 640x480 with 1 Axes>"
      ]
     },
     "metadata": {},
     "output_type": "display_data"
    }
   ],
   "source": [
    "adata = sc.read(LOC + \"SRX22526970\" + \".h5ad\")\n",
    "print((adata.X > 0).sum(1).mean(), adata.X.sum(1).mean(), adata.shape[0])\n",
    "plt.hist(np.array(adata.X.sum(1)).T[0], bins=50)\n",
    "plt.title(\"reads per cells\")\n",
    "plt.show()\n",
    "plt.hist(np.array(adata.X.sum(0))[0], bins=50)\n",
    "plt.title(\"reads per genes\")\n",
    "plt.yscale(\"log\")\n",
    "plt.show()\n",
    "# 5x"
   ]
  },
  {
   "cell_type": "code",
   "execution_count": 14,
   "id": "dff30ef7",
   "metadata": {
    "execution": {
     "iopub.execute_input": "2025-09-12T14:49:56.032102Z",
     "iopub.status.busy": "2025-09-12T14:49:56.031895Z",
     "iopub.status.idle": "2025-09-12T14:50:05.693497Z",
     "shell.execute_reply": "2025-09-12T14:50:05.693041Z"
    },
    "papermill": {
     "duration": 9.732115,
     "end_time": "2025-09-12T14:50:05.694193",
     "exception": false,
     "start_time": "2025-09-12T14:49:55.962078",
     "status": "completed"
    },
    "tags": []
   },
   "outputs": [
    {
     "name": "stdout",
     "output_type": "stream",
     "text": [
      "1982.6642332040024 1888.9308 39176\n"
     ]
    },
    {
     "data": {
      "image/png": "[encoded data removed]",
      "text/plain": [
       "<Figure size 640x480 with 1 Axes>"
      ]
     },
     "metadata": {},
     "output_type": "display_data"
    },
    {
     "data": {
      "image/png": "[encoded data removed]",
      "text/plain": [
       "<Figure size 640x480 with 1 Axes>"
      ]
     },
     "metadata": {},
     "output_type": "display_data"
    }
   ],
   "source": [
    "adata = sc.read(LOC + \"kidney\" + \".h5ad\")\n",
    "print((adata.X > 0).sum(1).mean(), adata.X.sum(1).mean(), adata.shape[0])\n",
    "plt.hist(np.array(adata.X.sum(1)).T[0], bins=50)\n",
    "plt.title(\"reads per cells\")\n",
    "plt.show()\n",
    "plt.hist(np.array(adata.X.sum(0))[0], bins=50)\n",
    "plt.title(\"reads per genes\")\n",
    "plt.yscale(\"log\")\n",
    "plt.show()\n",
    "# 1x"
   ]
  },
  {
   "cell_type": "code",
   "execution_count": 15,
   "id": "67e01308",
   "metadata": {
    "execution": {
     "iopub.execute_input": "2025-09-12T14:50:05.865893Z",
     "iopub.status.busy": "2025-09-12T14:50:05.865671Z",
     "iopub.status.idle": "2025-09-12T14:50:14.280137Z",
     "shell.execute_reply": "2025-09-12T14:50:14.279673Z"
    },
    "papermill": {
     "duration": 8.497943,
     "end_time": "2025-09-12T14:50:14.281102",
     "exception": false,
     "start_time": "2025-09-12T14:50:05.783159",
     "status": "completed"
    },
    "tags": []
   },
   "outputs": [],
   "source": [
    "adata = sc.read(LOC + \"lung_smart\" + \".h5ad\")"
   ]
  },
  {
   "cell_type": "code",
   "execution_count": 16,
   "id": "3776463f",
   "metadata": {
    "execution": {
     "iopub.execute_input": "2025-09-12T14:50:14.439279Z",
     "iopub.status.busy": "2025-09-12T14:50:14.439063Z",
     "iopub.status.idle": "2025-09-12T14:50:22.660629Z",
     "shell.execute_reply": "2025-09-12T14:50:22.660218Z"
    },
    "papermill": {
     "duration": 8.300192,
     "end_time": "2025-09-12T14:50:22.661322",
     "exception": false,
     "start_time": "2025-09-12T14:50:14.361130",
     "status": "completed"
    },
    "tags": []
   },
   "outputs": [
    {
     "name": "stdout",
     "output_type": "stream",
     "text": [
      "Dropping layers:  KeysView(Layers with keys: )\n",
      "checking raw counts\n"
     ]
    },
    {
     "name": "stdout",
     "output_type": "stream",
     "text": [
      "removed 0 non primary cells, 9409 renamining\n"
     ]
    },
    {
     "name": "stdout",
     "output_type": "stream",
     "text": [
      "filtered out 0 cells, 9409 renamining\n"
     ]
    },
    {
     "name": "stdout",
     "output_type": "stream",
     "text": [
      "Removed 0 genes not known to the ontology\n"
     ]
    },
    {
     "name": "stdout",
     "output_type": "stream",
     "text": [
      "Removed 0 duplicate genes\n",
      "Added 15701 genes in the ontology but not present in the dataset\n"
     ]
    },
    {
     "name": "stdout",
     "output_type": "stream",
     "text": [
      "starting QC\n"
     ]
    },
    {
     "name": "stdout",
     "output_type": "stream",
     "text": [
      "Seeing 5471 outliers (58.14% of total dataset):\n"
     ]
    },
    {
     "name": "stdout",
     "output_type": "stream",
     "text": [
      "done\n",
      "AnnData object with n_obs × n_vars = 9409 × 70116\n",
      "    obs: 'nGene', 'nReads', 'plate.barcode', 'cell.id', 'region', 'label', 'sorter', 'sort.location', 'sample', 'location', 'donor_id', 'percent.ercc', 'percent.ribo', 'gating', 'free_annotation', 'Number of splices: Total', 'Number of splices: Annotated (sjdb)', 'Number of splices: GT-AG', 'Number of splices: GC-AG', 'Number of splices: AT-AC', 'Number of splices: Non-canonical', 'Mapping speed, Million of reads per hour', 'Average input read length', 'compartment', 'tissue_ontology_term_id', 'disease_ontology_term_id', 'development_stage_ontology_term_id', 'assay_ontology_term_id', 'cell_type_ontology_term_id', 'self_reported_ethnicity_ontology_term_id', 'sex_ontology_term_id', 'is_primary_data', 'organism_ontology_term_id', 'suspension_type', 'tissue_type', 'cell_type', 'assay', 'disease', 'organism', 'sex', 'tissue', 'self_reported_ethnicity', 'development_stage', 'observation_joinid', 'nnz', 'n_genes', 'n_genes_by_counts', 'log1p_n_genes_by_counts', 'total_counts', 'log1p_total_counts', 'pct_counts_in_top_20_genes', 'total_counts_mt', 'log1p_total_counts_mt', 'pct_counts_mt', 'total_counts_ribo', 'log1p_total_counts_ribo', 'pct_counts_ribo', 'total_counts_hb', 'log1p_total_counts_hb', 'pct_counts_hb', 'outlier', 'mt_outlier'\n",
      "    var: 'feature_is_filtered', 'feature_name', 'feature_reference', 'feature_biotype', 'feature_length', 'feature_type', 'uid', 'symbol', 'biotype', 'organism_id', 'branch_id', 'mt', 'ribo', 'hb', 'organism', 'ensembl_gene_id', 'n_cells_by_counts', 'mean_counts', 'log1p_mean_counts', 'pct_dropout_by_counts', 'total_counts', 'log1p_total_counts'\n",
      "    uns: 'unseen_genes'\n"
     ]
    }
   ],
   "source": [
    "preprocessor = Preprocessor(\n",
    "    force_preprocess=True, skip_validate=True, drop_non_primary=False, do_postp=False\n",
    ")\n",
    "preprocessor = Preprocessor(do_postp=False)\n",
    "adata = preprocessor(adata)\n",
    "adata.layers[\"true\"] = adata.X.copy()"
   ]
  },
  {
   "cell_type": "code",
   "execution_count": 17,
   "id": "d5198254",
   "metadata": {
    "execution": {
     "iopub.execute_input": "2025-09-12T14:50:22.809948Z",
     "iopub.status.busy": "2025-09-12T14:50:22.809742Z",
     "iopub.status.idle": "2025-09-12T14:50:26.425759Z",
     "shell.execute_reply": "2025-09-12T14:50:26.425170Z"
    },
    "papermill": {
     "duration": 3.690415,
     "end_time": "2025-09-12T14:50:26.426748",
     "exception": false,
     "start_time": "2025-09-12T14:50:22.736333",
     "status": "completed"
    },
    "tags": []
   },
   "outputs": [],
   "source": [
    "denoise = Denoiser(\n",
    "    batch_size=40 if adata.X.sum(1).mean() < 50_000 else 20,\n",
    "    max_len=8_000,\n",
    "    max_cells=100_000,\n",
    "    doplot=False,\n",
    "    num_workers=8,\n",
    "    predict_depth_mult=5,\n",
    "    downsample_expr=0.7,\n",
    ")"
   ]
  },
  {
   "cell_type": "code",
   "execution_count": 18,
   "id": "4b8818ae",
   "metadata": {
    "execution": {
     "iopub.execute_input": "2025-09-12T14:50:26.647279Z",
     "iopub.status.busy": "2025-09-12T14:50:26.647125Z",
     "iopub.status.idle": "2025-09-12T14:52:42.826855Z",
     "shell.execute_reply": "2025-09-12T14:52:42.826183Z"
    },
    "papermill": {
     "duration": 136.328,
     "end_time": "2025-09-12T14:52:42.827773",
     "exception": false,
     "start_time": "2025-09-12T14:50:26.499773",
     "status": "completed"
    },
    "tags": []
   },
   "outputs": [
    {
     "name": "stdout",
     "output_type": "stream",
     "text": [
      "working on 4288 accepted genes\n"
     ]
    },
    {
     "name": "stderr",
     "output_type": "stream",
     "text": [
      "/pasteur/appa/homes/jkalfon/scdataloader/scdataloader/utils.py:427: FutureWarning: The behavior of DataFrame concatenation with empty or all-NA entries is deprecated. In a future version, this will no longer exclude empty or all-NA columns when determining the result dtypes. To retain the old behavior, exclude the relevant entries before the concat operation.\n",
      "  organismdf = pd.concat(organismdf)\n"
     ]
    },
    {
     "name": "stdout",
     "output_type": "stream",
     "text": [
      "not on wandb, could not set name\n"
     ]
    },
    {
     "name": "stderr",
     "output_type": "stream",
     "text": [
      "\r\n",
      "  0%|          | 0/471 [00:00<?, ?it/s]"
     ]
    },
    {
     "name": "stderr",
     "output_type": "stream",
     "text": [
      "\r\n",
      "  0%|          | 1/471 [00:01<11:11,  1.43s/it]"
     ]
    },
    {
     "name": "stderr",
     "output_type": "stream",
     "text": [
      "\r\n",
      "  0%|          | 2/471 [00:01<05:28,  1.43it/s]"
     ]
    },
    {
     "name": "stderr",
     "output_type": "stream",
     "text": [
      "\r\n",
      "  1%|          | 3/471 [00:01<03:36,  2.16it/s]"
     ]
    },
    {
     "name": "stderr",
     "output_type": "stream",
     "text": [
      "\r\n",
      "  1%|          | 4/471 [00:01<02:44,  2.84it/s]"
     ]
    },
    {
     "name": "stderr",
     "output_type": "stream",
     "text": [
      "\r\n",
      "  1%|          | 5/471 [00:02<02:14,  3.46it/s]"
     ]
    },
    {
     "name": "stderr",
     "output_type": "stream",
     "text": [
      "\r\n",
      "  1%|▏         | 6/471 [00:02<01:57,  3.97it/s]"
     ]
    },
    {
     "name": "stderr",
     "output_type": "stream",
     "text": [
      "\r\n",
      "  1%|▏         | 7/471 [00:02<01:45,  4.39it/s]"
     ]
    },
    {
     "name": "stderr",
     "output_type": "stream",
     "text": [
      "\r\n",
      "  2%|▏         | 8/471 [00:02<01:38,  4.69it/s]"
     ]
    },
    {
     "name": "stderr",
     "output_type": "stream",
     "text": [
      "\r\n",
      "  2%|▏         | 9/471 [00:02<01:33,  4.92it/s]"
     ]
    },
    {
     "name": "stderr",
     "output_type": "stream",
     "text": [
      "\r\n",
      "  2%|▏         | 10/471 [00:03<01:30,  5.10it/s]"
     ]
    },
    {
     "name": "stderr",
     "output_type": "stream",
     "text": [
      "\r\n",
      "  2%|▏         | 11/471 [00:03<01:27,  5.26it/s]"
     ]
    },
    {
     "name": "stderr",
     "output_type": "stream",
     "text": [
      "\r\n",
      "  3%|▎         | 12/471 [00:03<01:26,  5.33it/s]"
     ]
    },
    {
     "name": "stderr",
     "output_type": "stream",
     "text": [
      "\r\n",
      "  3%|▎         | 13/471 [00:03<01:25,  5.38it/s]"
     ]
    },
    {
     "name": "stderr",
     "output_type": "stream",
     "text": [
      "\r\n",
      "  3%|▎         | 14/471 [00:03<01:24,  5.42it/s]"
     ]
    },
    {
     "name": "stderr",
     "output_type": "stream",
     "text": [
      "\r\n",
      "  3%|▎         | 15/471 [00:03<01:23,  5.43it/s]"
     ]
    },
    {
     "name": "stderr",
     "output_type": "stream",
     "text": [
      "\r\n",
      "  3%|▎         | 16/471 [00:04<01:23,  5.44it/s]"
     ]
    },
    {
     "name": "stderr",
     "output_type": "stream",
     "text": [
      "\r\n",
      "  4%|▎         | 17/471 [00:04<01:22,  5.49it/s]"
     ]
    },
    {
     "name": "stderr",
     "output_type": "stream",
     "text": [
      "\r\n",
      "  4%|▍         | 18/471 [00:04<01:21,  5.53it/s]"
     ]
    },
    {
     "name": "stderr",
     "output_type": "stream",
     "text": [
      "\r\n",
      "  4%|▍         | 19/471 [00:04<01:22,  5.50it/s]"
     ]
    },
    {
     "name": "stderr",
     "output_type": "stream",
     "text": [
      "\r\n",
      "  4%|▍         | 20/471 [00:04<01:22,  5.48it/s]"
     ]
    },
    {
     "name": "stderr",
     "output_type": "stream",
     "text": [
      "\r\n",
      "  4%|▍         | 21/471 [00:05<01:21,  5.51it/s]"
     ]
    },
    {
     "name": "stderr",
     "output_type": "stream",
     "text": [
      "\r\n",
      "  5%|▍         | 22/471 [00:05<01:20,  5.56it/s]"
     ]
    },
    {
     "name": "stderr",
     "output_type": "stream",
     "text": [
      "\r\n",
      "  5%|▍         | 23/471 [00:05<01:21,  5.50it/s]"
     ]
    },
    {
     "name": "stderr",
     "output_type": "stream",
     "text": [
      "\r\n",
      "  5%|▌         | 24/471 [00:05<01:20,  5.54it/s]"
     ]
    },
    {
     "name": "stderr",
     "output_type": "stream",
     "text": [
      "\r\n",
      "  5%|▌         | 25/471 [00:05<01:20,  5.52it/s]"
     ]
    },
    {
     "name": "stderr",
     "output_type": "stream",
     "text": [
      "\r\n",
      "  6%|▌         | 26/471 [00:05<01:19,  5.59it/s]"
     ]
    },
    {
     "name": "stderr",
     "output_type": "stream",
     "text": [
      "\r\n",
      "  6%|▌         | 27/471 [00:06<01:40,  4.40it/s]"
     ]
    },
    {
     "name": "stderr",
     "output_type": "stream",
     "text": [
      "\r\n",
      "  6%|▌         | 28/471 [00:06<01:35,  4.63it/s]"
     ]
    },
    {
     "name": "stderr",
     "output_type": "stream",
     "text": [
      "\r\n",
      "  6%|▌         | 29/471 [00:06<01:31,  4.81it/s]"
     ]
    },
    {
     "name": "stderr",
     "output_type": "stream",
     "text": [
      "\r\n",
      "  6%|▋         | 30/471 [00:06<01:27,  5.02it/s]"
     ]
    },
    {
     "name": "stderr",
     "output_type": "stream",
     "text": [
      "\r\n",
      "  7%|▋         | 31/471 [00:07<01:24,  5.18it/s]"
     ]
    },
    {
     "name": "stderr",
     "output_type": "stream",
     "text": [
      "\r\n",
      "  7%|▋         | 32/471 [00:07<01:22,  5.31it/s]"
     ]
    },
    {
     "name": "stderr",
     "output_type": "stream",
     "text": [
      "\r\n",
      "  7%|▋         | 33/471 [00:07<01:21,  5.39it/s]"
     ]
    },
    {
     "name": "stderr",
     "output_type": "stream",
     "text": [
      "\r\n",
      "  7%|▋         | 34/471 [00:07<01:20,  5.46it/s]"
     ]
    },
    {
     "name": "stderr",
     "output_type": "stream",
     "text": [
      "\r\n",
      "  7%|▋         | 35/471 [00:07<01:19,  5.50it/s]"
     ]
    },
    {
     "name": "stderr",
     "output_type": "stream",
     "text": [
      "\r\n",
      "  8%|▊         | 36/471 [00:07<01:20,  5.41it/s]"
     ]
    },
    {
     "name": "stderr",
     "output_type": "stream",
     "text": [
      "\r\n",
      "  8%|▊         | 37/471 [00:08<01:19,  5.46it/s]"
     ]
    },
    {
     "name": "stderr",
     "output_type": "stream",
     "text": [
      "\r\n",
      "  8%|▊         | 38/471 [00:08<01:18,  5.52it/s]"
     ]
    },
    {
     "name": "stderr",
     "output_type": "stream",
     "text": [
      "\r\n",
      "  8%|▊         | 39/471 [00:08<01:19,  5.40it/s]"
     ]
    },
    {
     "name": "stderr",
     "output_type": "stream",
     "text": [
      "\r\n",
      "  8%|▊         | 40/471 [00:08<01:21,  5.32it/s]"
     ]
    },
    {
     "name": "stderr",
     "output_type": "stream",
     "text": [
      "\r\n",
      "  9%|▊         | 41/471 [00:08<01:20,  5.37it/s]"
     ]
    },
    {
     "name": "stderr",
     "output_type": "stream",
     "text": [
      "\r\n",
      "  9%|▉         | 42/471 [00:09<01:18,  5.48it/s]"
     ]
    },
    {
     "name": "stderr",
     "output_type": "stream",
     "text": [
      "\r\n",
      "  9%|▉         | 43/471 [00:09<01:17,  5.49it/s]"
     ]
    },
    {
     "name": "stderr",
     "output_type": "stream",
     "text": [
      "\r\n",
      "  9%|▉         | 44/471 [00:09<01:17,  5.53it/s]"
     ]
    },
    {
     "name": "stderr",
     "output_type": "stream",
     "text": [
      "\r\n",
      " 10%|▉         | 45/471 [00:09<01:16,  5.56it/s]"
     ]
    },
    {
     "name": "stderr",
     "output_type": "stream",
     "text": [
      "\r\n",
      " 10%|▉         | 46/471 [00:09<01:16,  5.55it/s]"
     ]
    },
    {
     "name": "stderr",
     "output_type": "stream",
     "text": [
      "\r\n",
      " 10%|▉         | 47/471 [00:09<01:16,  5.57it/s]"
     ]
    },
    {
     "name": "stderr",
     "output_type": "stream",
     "text": [
      "\r\n",
      " 10%|█         | 48/471 [00:10<01:15,  5.59it/s]"
     ]
    },
    {
     "name": "stderr",
     "output_type": "stream",
     "text": [
      "\r\n",
      " 10%|█         | 49/471 [00:10<01:15,  5.56it/s]"
     ]
    },
    {
     "name": "stderr",
     "output_type": "stream",
     "text": [
      "\r\n",
      " 11%|█         | 50/471 [00:10<01:15,  5.60it/s]"
     ]
    },
    {
     "name": "stderr",
     "output_type": "stream",
     "text": [
      "\r\n",
      " 11%|█         | 51/471 [00:10<01:14,  5.60it/s]"
     ]
    },
    {
     "name": "stderr",
     "output_type": "stream",
     "text": [
      "\r\n",
      " 11%|█         | 52/471 [00:10<01:15,  5.57it/s]"
     ]
    },
    {
     "name": "stderr",
     "output_type": "stream",
     "text": [
      "\r\n",
      " 11%|█▏        | 53/471 [00:10<01:14,  5.59it/s]"
     ]
    },
    {
     "name": "stderr",
     "output_type": "stream",
     "text": [
      "\r\n",
      " 11%|█▏        | 54/471 [00:11<01:14,  5.60it/s]"
     ]
    },
    {
     "name": "stderr",
     "output_type": "stream",
     "text": [
      "\r\n",
      " 12%|█▏        | 55/471 [00:11<01:16,  5.43it/s]"
     ]
    },
    {
     "name": "stderr",
     "output_type": "stream",
     "text": [
      "\r\n",
      " 12%|█▏        | 56/471 [00:11<01:15,  5.48it/s]"
     ]
    },
    {
     "name": "stderr",
     "output_type": "stream",
     "text": [
      "\r\n",
      " 12%|█▏        | 57/471 [00:11<01:15,  5.52it/s]"
     ]
    },
    {
     "name": "stderr",
     "output_type": "stream",
     "text": [
      "\r\n",
      " 12%|█▏        | 58/471 [00:11<01:14,  5.52it/s]"
     ]
    },
    {
     "name": "stderr",
     "output_type": "stream",
     "text": [
      "\r\n",
      " 13%|█▎        | 59/471 [00:12<01:14,  5.56it/s]"
     ]
    },
    {
     "name": "stderr",
     "output_type": "stream",
     "text": [
      "\r\n",
      " 13%|█▎        | 60/471 [00:12<01:13,  5.58it/s]"
     ]
    },
    {
     "name": "stderr",
     "output_type": "stream",
     "text": [
      "\r\n",
      " 13%|█▎        | 61/471 [00:12<01:13,  5.58it/s]"
     ]
    },
    {
     "name": "stderr",
     "output_type": "stream",
     "text": [
      "\r\n",
      " 13%|█▎        | 62/471 [00:12<01:13,  5.58it/s]"
     ]
    },
    {
     "name": "stderr",
     "output_type": "stream",
     "text": [
      "\r\n",
      " 13%|█▎        | 63/471 [00:12<01:12,  5.59it/s]"
     ]
    },
    {
     "name": "stderr",
     "output_type": "stream",
     "text": [
      "\r\n",
      " 14%|█▎        | 64/471 [00:12<01:12,  5.59it/s]"
     ]
    },
    {
     "name": "stderr",
     "output_type": "stream",
     "text": [
      "\r\n",
      " 14%|█▍        | 65/471 [00:13<01:12,  5.59it/s]"
     ]
    },
    {
     "name": "stderr",
     "output_type": "stream",
     "text": [
      "\r\n",
      " 14%|█▍        | 66/471 [00:13<01:12,  5.59it/s]"
     ]
    },
    {
     "name": "stderr",
     "output_type": "stream",
     "text": [
      "\r\n",
      " 14%|█▍        | 67/471 [00:13<01:12,  5.59it/s]"
     ]
    },
    {
     "name": "stderr",
     "output_type": "stream",
     "text": [
      "\r\n",
      " 14%|█▍        | 68/471 [00:13<01:12,  5.59it/s]"
     ]
    },
    {
     "name": "stderr",
     "output_type": "stream",
     "text": [
      "\r\n",
      " 15%|█▍        | 69/471 [00:13<01:11,  5.60it/s]"
     ]
    },
    {
     "name": "stderr",
     "output_type": "stream",
     "text": [
      "\r\n",
      " 15%|█▍        | 70/471 [00:14<01:11,  5.58it/s]"
     ]
    },
    {
     "name": "stderr",
     "output_type": "stream",
     "text": [
      "\r\n",
      " 15%|█▌        | 71/471 [00:14<01:11,  5.59it/s]"
     ]
    },
    {
     "name": "stderr",
     "output_type": "stream",
     "text": [
      "\r\n",
      " 15%|█▌        | 72/471 [00:14<01:11,  5.59it/s]"
     ]
    },
    {
     "name": "stderr",
     "output_type": "stream",
     "text": [
      "\r\n",
      " 15%|█▌        | 73/471 [00:14<01:11,  5.58it/s]"
     ]
    },
    {
     "name": "stderr",
     "output_type": "stream",
     "text": [
      "\r\n",
      " 16%|█▌        | 74/471 [00:14<01:11,  5.58it/s]"
     ]
    },
    {
     "name": "stderr",
     "output_type": "stream",
     "text": [
      "\r\n",
      " 16%|█▌        | 75/471 [00:14<01:10,  5.59it/s]"
     ]
    },
    {
     "name": "stderr",
     "output_type": "stream",
     "text": [
      "\r\n",
      " 16%|█▌        | 76/471 [00:15<01:10,  5.58it/s]"
     ]
    },
    {
     "name": "stderr",
     "output_type": "stream",
     "text": [
      "\r\n",
      " 16%|█▋        | 77/471 [00:15<01:10,  5.58it/s]"
     ]
    },
    {
     "name": "stderr",
     "output_type": "stream",
     "text": [
      "\r\n",
      " 17%|█▋        | 78/471 [00:15<01:10,  5.58it/s]"
     ]
    },
    {
     "name": "stderr",
     "output_type": "stream",
     "text": [
      "\r\n",
      " 17%|█▋        | 79/471 [00:15<01:10,  5.58it/s]"
     ]
    },
    {
     "name": "stderr",
     "output_type": "stream",
     "text": [
      "\r\n",
      " 17%|█▋        | 80/471 [00:15<01:10,  5.57it/s]"
     ]
    },
    {
     "name": "stderr",
     "output_type": "stream",
     "text": [
      "\r\n",
      " 17%|█▋        | 81/471 [00:16<01:09,  5.58it/s]"
     ]
    },
    {
     "name": "stderr",
     "output_type": "stream",
     "text": [
      "\r\n",
      " 17%|█▋        | 82/471 [00:16<01:09,  5.58it/s]"
     ]
    },
    {
     "name": "stderr",
     "output_type": "stream",
     "text": [
      "\r\n",
      " 18%|█▊        | 83/471 [00:16<01:09,  5.58it/s]"
     ]
    },
    {
     "name": "stderr",
     "output_type": "stream",
     "text": [
      "\r\n",
      " 18%|█▊        | 84/471 [00:16<01:09,  5.58it/s]"
     ]
    },
    {
     "name": "stderr",
     "output_type": "stream",
     "text": [
      "\r\n",
      " 18%|█▊        | 85/471 [00:16<01:09,  5.57it/s]"
     ]
    },
    {
     "name": "stderr",
     "output_type": "stream",
     "text": [
      "\r\n",
      " 18%|█▊        | 86/471 [00:16<01:09,  5.57it/s]"
     ]
    },
    {
     "name": "stderr",
     "output_type": "stream",
     "text": [
      "\r\n",
      " 18%|█▊        | 87/471 [00:17<01:08,  5.57it/s]"
     ]
    },
    {
     "name": "stderr",
     "output_type": "stream",
     "text": [
      "\r\n",
      " 19%|█▊        | 88/471 [00:17<01:08,  5.57it/s]"
     ]
    },
    {
     "name": "stderr",
     "output_type": "stream",
     "text": [
      "\r\n",
      " 19%|█▉        | 89/471 [00:17<01:08,  5.57it/s]"
     ]
    },
    {
     "name": "stderr",
     "output_type": "stream",
     "text": [
      "\r\n",
      " 19%|█▉        | 90/471 [00:17<01:08,  5.57it/s]"
     ]
    },
    {
     "name": "stderr",
     "output_type": "stream",
     "text": [
      "\r\n",
      " 19%|█▉        | 91/471 [00:17<01:08,  5.57it/s]"
     ]
    },
    {
     "name": "stderr",
     "output_type": "stream",
     "text": [
      "\r\n",
      " 20%|█▉        | 92/471 [00:18<01:08,  5.57it/s]"
     ]
    },
    {
     "name": "stderr",
     "output_type": "stream",
     "text": [
      "\r\n",
      " 20%|█▉        | 93/471 [00:18<01:07,  5.57it/s]"
     ]
    },
    {
     "name": "stderr",
     "output_type": "stream",
     "text": [
      "\r\n",
      " 20%|█▉        | 94/471 [00:18<01:07,  5.57it/s]"
     ]
    },
    {
     "name": "stderr",
     "output_type": "stream",
     "text": [
      "\r\n",
      " 20%|██        | 95/471 [00:18<01:07,  5.57it/s]"
     ]
    },
    {
     "name": "stderr",
     "output_type": "stream",
     "text": [
      "\r\n",
      " 20%|██        | 96/471 [00:18<01:07,  5.57it/s]"
     ]
    },
    {
     "name": "stderr",
     "output_type": "stream",
     "text": [
      "\r\n",
      " 21%|██        | 97/471 [00:18<01:07,  5.57it/s]"
     ]
    },
    {
     "name": "stderr",
     "output_type": "stream",
     "text": [
      "\r\n",
      " 21%|██        | 98/471 [00:19<01:06,  5.57it/s]"
     ]
    },
    {
     "name": "stderr",
     "output_type": "stream",
     "text": [
      "\r\n",
      " 21%|██        | 99/471 [00:19<01:07,  5.52it/s]"
     ]
    },
    {
     "name": "stderr",
     "output_type": "stream",
     "text": [
      "\r\n",
      " 21%|██        | 100/471 [00:19<01:07,  5.52it/s]"
     ]
    },
    {
     "name": "stderr",
     "output_type": "stream",
     "text": [
      "\r\n",
      " 21%|██▏       | 101/471 [00:19<01:07,  5.49it/s]"
     ]
    },
    {
     "name": "stderr",
     "output_type": "stream",
     "text": [
      "\r\n",
      " 22%|██▏       | 102/471 [00:19<01:07,  5.50it/s]"
     ]
    },
    {
     "name": "stderr",
     "output_type": "stream",
     "text": [
      "\r\n",
      " 22%|██▏       | 103/471 [00:19<01:07,  5.48it/s]"
     ]
    },
    {
     "name": "stderr",
     "output_type": "stream",
     "text": [
      "\r\n",
      " 22%|██▏       | 104/471 [00:20<01:06,  5.50it/s]"
     ]
    },
    {
     "name": "stderr",
     "output_type": "stream",
     "text": [
      "\r\n",
      " 22%|██▏       | 105/471 [00:20<01:07,  5.45it/s]"
     ]
    },
    {
     "name": "stderr",
     "output_type": "stream",
     "text": [
      "\r\n",
      " 23%|██▎       | 106/471 [00:20<01:06,  5.47it/s]"
     ]
    },
    {
     "name": "stderr",
     "output_type": "stream",
     "text": [
      "\r\n",
      " 23%|██▎       | 107/471 [00:20<01:06,  5.45it/s]"
     ]
    },
    {
     "name": "stderr",
     "output_type": "stream",
     "text": [
      "\r\n",
      " 23%|██▎       | 108/471 [00:20<01:06,  5.48it/s]"
     ]
    },
    {
     "name": "stderr",
     "output_type": "stream",
     "text": [
      "\r\n",
      " 23%|██▎       | 109/471 [00:21<01:06,  5.46it/s]"
     ]
    },
    {
     "name": "stderr",
     "output_type": "stream",
     "text": [
      "\r\n",
      " 23%|██▎       | 110/471 [00:21<01:05,  5.48it/s]"
     ]
    },
    {
     "name": "stderr",
     "output_type": "stream",
     "text": [
      "\r\n",
      " 24%|██▎       | 111/471 [00:21<01:06,  5.45it/s]"
     ]
    },
    {
     "name": "stderr",
     "output_type": "stream",
     "text": [
      "\r\n",
      " 24%|██▍       | 112/471 [00:21<01:05,  5.47it/s]"
     ]
    },
    {
     "name": "stderr",
     "output_type": "stream",
     "text": [
      "\r\n",
      " 24%|██▍       | 113/471 [00:21<01:05,  5.44it/s]"
     ]
    },
    {
     "name": "stderr",
     "output_type": "stream",
     "text": [
      "\r\n",
      " 24%|██▍       | 114/471 [00:22<01:05,  5.47it/s]"
     ]
    },
    {
     "name": "stderr",
     "output_type": "stream",
     "text": [
      "\r\n",
      " 24%|██▍       | 115/471 [00:22<01:05,  5.45it/s]"
     ]
    },
    {
     "name": "stderr",
     "output_type": "stream",
     "text": [
      "\r\n",
      " 25%|██▍       | 116/471 [00:22<01:04,  5.48it/s]"
     ]
    },
    {
     "name": "stderr",
     "output_type": "stream",
     "text": [
      "\r\n",
      " 25%|██▍       | 117/471 [00:22<01:05,  5.44it/s]"
     ]
    },
    {
     "name": "stderr",
     "output_type": "stream",
     "text": [
      "\r\n",
      " 25%|██▌       | 118/471 [00:22<01:04,  5.46it/s]"
     ]
    },
    {
     "name": "stderr",
     "output_type": "stream",
     "text": [
      "\r\n",
      " 25%|██▌       | 119/471 [00:22<01:04,  5.44it/s]"
     ]
    },
    {
     "name": "stderr",
     "output_type": "stream",
     "text": [
      "\r\n",
      " 25%|██▌       | 120/471 [00:23<01:04,  5.48it/s]"
     ]
    },
    {
     "name": "stderr",
     "output_type": "stream",
     "text": [
      "\r\n",
      " 26%|██▌       | 121/471 [00:23<01:04,  5.44it/s]"
     ]
    },
    {
     "name": "stderr",
     "output_type": "stream",
     "text": [
      "\r\n",
      " 26%|██▌       | 122/471 [00:23<01:03,  5.46it/s]"
     ]
    },
    {
     "name": "stderr",
     "output_type": "stream",
     "text": [
      "\r\n",
      " 26%|██▌       | 123/471 [00:23<01:04,  5.43it/s]"
     ]
    },
    {
     "name": "stderr",
     "output_type": "stream",
     "text": [
      "\r\n",
      " 26%|██▋       | 124/471 [00:23<01:03,  5.45it/s]"
     ]
    },
    {
     "name": "stderr",
     "output_type": "stream",
     "text": [
      "\r\n",
      " 27%|██▋       | 125/471 [00:24<01:03,  5.44it/s]"
     ]
    },
    {
     "name": "stderr",
     "output_type": "stream",
     "text": [
      "\r\n",
      " 27%|██▋       | 126/471 [00:24<01:03,  5.46it/s]"
     ]
    },
    {
     "name": "stderr",
     "output_type": "stream",
     "text": [
      "\r\n",
      " 27%|██▋       | 127/471 [00:24<01:03,  5.44it/s]"
     ]
    },
    {
     "name": "stderr",
     "output_type": "stream",
     "text": [
      "\r\n",
      " 27%|██▋       | 128/471 [00:24<01:02,  5.46it/s]"
     ]
    },
    {
     "name": "stderr",
     "output_type": "stream",
     "text": [
      "\r\n",
      " 27%|██▋       | 129/471 [00:24<01:03,  5.43it/s]"
     ]
    },
    {
     "name": "stderr",
     "output_type": "stream",
     "text": [
      "\r\n",
      " 28%|██▊       | 130/471 [00:24<01:02,  5.45it/s]"
     ]
    },
    {
     "name": "stderr",
     "output_type": "stream",
     "text": [
      "\r\n",
      " 28%|██▊       | 131/471 [00:25<01:02,  5.43it/s]"
     ]
    },
    {
     "name": "stderr",
     "output_type": "stream",
     "text": [
      "\r\n",
      " 28%|██▊       | 132/471 [00:25<01:02,  5.45it/s]"
     ]
    },
    {
     "name": "stderr",
     "output_type": "stream",
     "text": [
      "\r\n",
      " 28%|██▊       | 133/471 [00:25<01:02,  5.43it/s]"
     ]
    },
    {
     "name": "stderr",
     "output_type": "stream",
     "text": [
      "\r\n",
      " 28%|██▊       | 134/471 [00:25<01:01,  5.45it/s]"
     ]
    },
    {
     "name": "stderr",
     "output_type": "stream",
     "text": [
      "\r\n",
      " 29%|██▊       | 135/471 [00:25<01:03,  5.30it/s]"
     ]
    },
    {
     "name": "stderr",
     "output_type": "stream",
     "text": [
      "\r\n",
      " 29%|██▉       | 136/471 [00:26<01:02,  5.35it/s]"
     ]
    },
    {
     "name": "stderr",
     "output_type": "stream",
     "text": [
      "\r\n",
      " 29%|██▉       | 137/471 [00:26<01:02,  5.36it/s]"
     ]
    },
    {
     "name": "stderr",
     "output_type": "stream",
     "text": [
      "\r\n",
      " 29%|██▉       | 138/471 [00:26<01:01,  5.40it/s]"
     ]
    },
    {
     "name": "stderr",
     "output_type": "stream",
     "text": [
      "\r\n",
      " 30%|██▉       | 139/471 [00:26<01:01,  5.38it/s]"
     ]
    },
    {
     "name": "stderr",
     "output_type": "stream",
     "text": [
      "\r\n",
      " 30%|██▉       | 140/471 [00:26<01:01,  5.41it/s]"
     ]
    },
    {
     "name": "stderr",
     "output_type": "stream",
     "text": [
      "\r\n",
      " 30%|██▉       | 141/471 [00:26<01:01,  5.39it/s]"
     ]
    },
    {
     "name": "stderr",
     "output_type": "stream",
     "text": [
      "\r\n",
      " 30%|███       | 142/471 [00:27<01:00,  5.41it/s]"
     ]
    },
    {
     "name": "stderr",
     "output_type": "stream",
     "text": [
      "\r\n",
      " 30%|███       | 143/471 [00:27<01:00,  5.40it/s]"
     ]
    },
    {
     "name": "stderr",
     "output_type": "stream",
     "text": [
      "\r\n",
      " 31%|███       | 144/471 [00:27<01:00,  5.43it/s]"
     ]
    },
    {
     "name": "stderr",
     "output_type": "stream",
     "text": [
      "\r\n",
      " 31%|███       | 145/471 [00:27<01:00,  5.40it/s]"
     ]
    },
    {
     "name": "stderr",
     "output_type": "stream",
     "text": [
      "\r\n",
      " 31%|███       | 146/471 [00:27<00:59,  5.42it/s]"
     ]
    },
    {
     "name": "stderr",
     "output_type": "stream",
     "text": [
      "\r\n",
      " 31%|███       | 147/471 [00:28<01:00,  5.40it/s]"
     ]
    },
    {
     "name": "stderr",
     "output_type": "stream",
     "text": [
      "\r\n",
      " 31%|███▏      | 148/471 [00:28<00:59,  5.41it/s]"
     ]
    },
    {
     "name": "stderr",
     "output_type": "stream",
     "text": [
      "\r\n",
      " 32%|███▏      | 149/471 [00:28<00:59,  5.38it/s]"
     ]
    },
    {
     "name": "stderr",
     "output_type": "stream",
     "text": [
      "\r\n",
      " 32%|███▏      | 150/471 [00:28<00:59,  5.39it/s]"
     ]
    },
    {
     "name": "stderr",
     "output_type": "stream",
     "text": [
      "\r\n",
      " 32%|███▏      | 151/471 [00:28<00:59,  5.37it/s]"
     ]
    },
    {
     "name": "stderr",
     "output_type": "stream",
     "text": [
      "\r\n",
      " 32%|███▏      | 152/471 [00:29<00:59,  5.40it/s]"
     ]
    },
    {
     "name": "stderr",
     "output_type": "stream",
     "text": [
      "\r\n",
      " 32%|███▏      | 153/471 [00:29<00:59,  5.38it/s]"
     ]
    },
    {
     "name": "stderr",
     "output_type": "stream",
     "text": [
      "\r\n",
      " 33%|███▎      | 154/471 [00:29<00:58,  5.40it/s]"
     ]
    },
    {
     "name": "stderr",
     "output_type": "stream",
     "text": [
      "\r\n",
      " 33%|███▎      | 155/471 [00:29<00:58,  5.37it/s]"
     ]
    },
    {
     "name": "stderr",
     "output_type": "stream",
     "text": [
      "\r\n",
      " 33%|███▎      | 156/471 [00:29<00:58,  5.39it/s]"
     ]
    },
    {
     "name": "stderr",
     "output_type": "stream",
     "text": [
      "\r\n",
      " 33%|███▎      | 157/471 [00:29<00:58,  5.37it/s]"
     ]
    },
    {
     "name": "stderr",
     "output_type": "stream",
     "text": [
      "\r\n",
      " 34%|███▎      | 158/471 [00:30<00:58,  5.32it/s]"
     ]
    },
    {
     "name": "stderr",
     "output_type": "stream",
     "text": [
      "\r\n",
      " 34%|███▍      | 159/471 [00:30<00:59,  5.26it/s]"
     ]
    },
    {
     "name": "stderr",
     "output_type": "stream",
     "text": [
      "\r\n",
      " 34%|███▍      | 160/471 [00:30<00:58,  5.28it/s]"
     ]
    },
    {
     "name": "stderr",
     "output_type": "stream",
     "text": [
      "\r\n",
      " 34%|███▍      | 161/471 [00:30<00:58,  5.28it/s]"
     ]
    },
    {
     "name": "stderr",
     "output_type": "stream",
     "text": [
      "\r\n",
      " 34%|███▍      | 162/471 [00:30<00:58,  5.27it/s]"
     ]
    },
    {
     "name": "stderr",
     "output_type": "stream",
     "text": [
      "\r\n",
      " 35%|███▍      | 163/471 [00:31<00:58,  5.25it/s]"
     ]
    },
    {
     "name": "stderr",
     "output_type": "stream",
     "text": [
      "\r\n",
      " 35%|███▍      | 164/471 [00:31<00:58,  5.24it/s]"
     ]
    },
    {
     "name": "stderr",
     "output_type": "stream",
     "text": [
      "\r\n",
      " 35%|███▌      | 165/471 [00:31<00:58,  5.22it/s]"
     ]
    },
    {
     "name": "stderr",
     "output_type": "stream",
     "text": [
      "\r\n",
      " 35%|███▌      | 166/471 [00:31<00:58,  5.23it/s]"
     ]
    },
    {
     "name": "stderr",
     "output_type": "stream",
     "text": [
      "\r\n",
      " 35%|███▌      | 167/471 [00:31<00:58,  5.23it/s]"
     ]
    },
    {
     "name": "stderr",
     "output_type": "stream",
     "text": [
      "\r\n",
      " 36%|███▌      | 168/471 [00:32<00:57,  5.24it/s]"
     ]
    },
    {
     "name": "stderr",
     "output_type": "stream",
     "text": [
      "\r\n",
      " 36%|███▌      | 169/471 [00:32<00:57,  5.23it/s]"
     ]
    },
    {
     "name": "stderr",
     "output_type": "stream",
     "text": [
      "\r\n",
      " 36%|███▌      | 170/471 [00:32<00:57,  5.23it/s]"
     ]
    },
    {
     "name": "stderr",
     "output_type": "stream",
     "text": [
      "\r\n",
      " 36%|███▋      | 171/471 [00:32<00:57,  5.22it/s]"
     ]
    },
    {
     "name": "stderr",
     "output_type": "stream",
     "text": [
      "\r\n",
      " 37%|███▋      | 172/471 [00:32<00:57,  5.23it/s]"
     ]
    },
    {
     "name": "stderr",
     "output_type": "stream",
     "text": [
      "\r\n",
      " 37%|███▋      | 173/471 [00:33<00:56,  5.23it/s]"
     ]
    },
    {
     "name": "stderr",
     "output_type": "stream",
     "text": [
      "\r\n",
      " 37%|███▋      | 174/471 [00:33<00:56,  5.24it/s]"
     ]
    },
    {
     "name": "stderr",
     "output_type": "stream",
     "text": [
      "\r\n",
      " 37%|███▋      | 175/471 [00:33<00:56,  5.23it/s]"
     ]
    },
    {
     "name": "stderr",
     "output_type": "stream",
     "text": [
      "\r\n",
      " 37%|███▋      | 176/471 [00:33<00:56,  5.22it/s]"
     ]
    },
    {
     "name": "stderr",
     "output_type": "stream",
     "text": [
      "\r\n",
      " 38%|███▊      | 177/471 [00:33<00:56,  5.20it/s]"
     ]
    },
    {
     "name": "stderr",
     "output_type": "stream",
     "text": [
      "\r\n",
      " 38%|███▊      | 178/471 [00:33<00:56,  5.21it/s]"
     ]
    },
    {
     "name": "stderr",
     "output_type": "stream",
     "text": [
      "\r\n",
      " 38%|███▊      | 179/471 [00:34<00:55,  5.22it/s]"
     ]
    },
    {
     "name": "stderr",
     "output_type": "stream",
     "text": [
      "\r\n",
      " 38%|███▊      | 180/471 [00:34<00:55,  5.21it/s]"
     ]
    },
    {
     "name": "stderr",
     "output_type": "stream",
     "text": [
      "\r\n",
      " 38%|███▊      | 181/471 [00:34<00:55,  5.21it/s]"
     ]
    },
    {
     "name": "stderr",
     "output_type": "stream",
     "text": [
      "\r\n",
      " 39%|███▊      | 182/471 [00:34<00:55,  5.20it/s]"
     ]
    },
    {
     "name": "stderr",
     "output_type": "stream",
     "text": [
      "\r\n",
      " 39%|███▉      | 183/471 [00:34<00:55,  5.19it/s]"
     ]
    },
    {
     "name": "stderr",
     "output_type": "stream",
     "text": [
      "\r\n",
      " 39%|███▉      | 184/471 [00:35<00:55,  5.19it/s]"
     ]
    },
    {
     "name": "stderr",
     "output_type": "stream",
     "text": [
      "\r\n",
      " 39%|███▉      | 185/471 [00:35<00:54,  5.21it/s]"
     ]
    },
    {
     "name": "stderr",
     "output_type": "stream",
     "text": [
      "\r\n",
      " 39%|███▉      | 186/471 [00:35<00:54,  5.21it/s]"
     ]
    },
    {
     "name": "stderr",
     "output_type": "stream",
     "text": [
      "\r\n",
      " 40%|███▉      | 187/471 [00:35<00:54,  5.21it/s]"
     ]
    },
    {
     "name": "stderr",
     "output_type": "stream",
     "text": [
      "\r\n",
      " 40%|███▉      | 188/471 [00:35<00:54,  5.19it/s]"
     ]
    },
    {
     "name": "stderr",
     "output_type": "stream",
     "text": [
      "\r\n",
      " 40%|████      | 189/471 [00:36<00:54,  5.20it/s]"
     ]
    },
    {
     "name": "stderr",
     "output_type": "stream",
     "text": [
      "\r\n",
      " 40%|████      | 190/471 [00:36<00:54,  5.20it/s]"
     ]
    },
    {
     "name": "stderr",
     "output_type": "stream",
     "text": [
      "\r\n",
      " 41%|████      | 191/471 [00:36<00:53,  5.22it/s]"
     ]
    },
    {
     "name": "stderr",
     "output_type": "stream",
     "text": [
      "\r\n",
      " 41%|████      | 192/471 [00:36<00:53,  5.21it/s]"
     ]
    },
    {
     "name": "stderr",
     "output_type": "stream",
     "text": [
      "\r\n",
      " 41%|████      | 193/471 [00:36<00:53,  5.20it/s]"
     ]
    },
    {
     "name": "stderr",
     "output_type": "stream",
     "text": [
      "\r\n",
      " 41%|████      | 194/471 [00:37<00:53,  5.18it/s]"
     ]
    },
    {
     "name": "stderr",
     "output_type": "stream",
     "text": [
      "\r\n",
      " 41%|████▏     | 195/471 [00:37<00:53,  5.19it/s]"
     ]
    },
    {
     "name": "stderr",
     "output_type": "stream",
     "text": [
      "\r\n",
      " 42%|████▏     | 196/471 [00:37<00:53,  5.19it/s]"
     ]
    },
    {
     "name": "stderr",
     "output_type": "stream",
     "text": [
      "\r\n",
      " 42%|████▏     | 197/471 [00:37<00:52,  5.21it/s]"
     ]
    },
    {
     "name": "stderr",
     "output_type": "stream",
     "text": [
      "\r\n",
      " 42%|████▏     | 198/471 [00:37<00:52,  5.20it/s]"
     ]
    },
    {
     "name": "stderr",
     "output_type": "stream",
     "text": [
      "\r\n",
      " 42%|████▏     | 199/471 [00:38<00:52,  5.20it/s]"
     ]
    },
    {
     "name": "stderr",
     "output_type": "stream",
     "text": [
      "\r\n",
      " 42%|████▏     | 200/471 [00:38<00:52,  5.18it/s]"
     ]
    },
    {
     "name": "stderr",
     "output_type": "stream",
     "text": [
      "\r\n",
      " 43%|████▎     | 201/471 [00:38<00:52,  5.18it/s]"
     ]
    },
    {
     "name": "stderr",
     "output_type": "stream",
     "text": [
      "\r\n",
      " 43%|████▎     | 202/471 [00:38<00:51,  5.18it/s]"
     ]
    },
    {
     "name": "stderr",
     "output_type": "stream",
     "text": [
      "\r\n",
      " 43%|████▎     | 203/471 [00:38<00:51,  5.19it/s]"
     ]
    },
    {
     "name": "stderr",
     "output_type": "stream",
     "text": [
      "\r\n",
      " 43%|████▎     | 204/471 [00:38<00:51,  5.19it/s]"
     ]
    },
    {
     "name": "stderr",
     "output_type": "stream",
     "text": [
      "\r\n",
      " 44%|████▎     | 205/471 [00:39<00:51,  5.19it/s]"
     ]
    },
    {
     "name": "stderr",
     "output_type": "stream",
     "text": [
      "\r\n",
      " 44%|████▎     | 206/471 [00:39<00:51,  5.18it/s]"
     ]
    },
    {
     "name": "stderr",
     "output_type": "stream",
     "text": [
      "\r\n",
      " 44%|████▍     | 207/471 [00:39<00:51,  5.15it/s]"
     ]
    },
    {
     "name": "stderr",
     "output_type": "stream",
     "text": [
      "\r\n",
      " 44%|████▍     | 208/471 [00:39<00:50,  5.17it/s]"
     ]
    },
    {
     "name": "stderr",
     "output_type": "stream",
     "text": [
      "\r\n",
      " 44%|████▍     | 209/471 [00:39<00:50,  5.18it/s]"
     ]
    },
    {
     "name": "stderr",
     "output_type": "stream",
     "text": [
      "\r\n",
      " 45%|████▍     | 210/471 [00:40<00:50,  5.17it/s]"
     ]
    },
    {
     "name": "stderr",
     "output_type": "stream",
     "text": [
      "\r\n",
      " 45%|████▍     | 211/471 [00:40<00:50,  5.17it/s]"
     ]
    },
    {
     "name": "stderr",
     "output_type": "stream",
     "text": [
      "\r\n",
      " 45%|████▌     | 212/471 [00:40<00:50,  5.16it/s]"
     ]
    },
    {
     "name": "stderr",
     "output_type": "stream",
     "text": [
      "\r\n",
      " 45%|████▌     | 213/471 [00:40<00:50,  5.16it/s]"
     ]
    },
    {
     "name": "stderr",
     "output_type": "stream",
     "text": [
      "\r\n",
      " 45%|████▌     | 214/471 [00:40<00:50,  5.14it/s]"
     ]
    },
    {
     "name": "stderr",
     "output_type": "stream",
     "text": [
      "\r\n",
      " 46%|████▌     | 215/471 [00:41<00:49,  5.14it/s]"
     ]
    },
    {
     "name": "stderr",
     "output_type": "stream",
     "text": [
      "\r\n",
      " 46%|████▌     | 216/471 [00:41<00:49,  5.17it/s]"
     ]
    },
    {
     "name": "stderr",
     "output_type": "stream",
     "text": [
      "\r\n",
      " 46%|████▌     | 217/471 [00:41<00:49,  5.16it/s]"
     ]
    },
    {
     "name": "stderr",
     "output_type": "stream",
     "text": [
      "\r\n",
      " 46%|████▋     | 218/471 [00:41<00:49,  5.15it/s]"
     ]
    },
    {
     "name": "stderr",
     "output_type": "stream",
     "text": [
      "\r\n",
      " 46%|████▋     | 219/471 [00:41<00:48,  5.14it/s]"
     ]
    },
    {
     "name": "stderr",
     "output_type": "stream",
     "text": [
      "\r\n",
      " 47%|████▋     | 220/471 [00:42<00:48,  5.15it/s]"
     ]
    },
    {
     "name": "stderr",
     "output_type": "stream",
     "text": [
      "\r\n",
      " 47%|████▋     | 221/471 [00:42<00:48,  5.16it/s]"
     ]
    },
    {
     "name": "stderr",
     "output_type": "stream",
     "text": [
      "\r\n",
      " 47%|████▋     | 222/471 [00:42<00:48,  5.16it/s]"
     ]
    },
    {
     "name": "stderr",
     "output_type": "stream",
     "text": [
      "\r\n",
      " 47%|████▋     | 223/471 [00:42<00:48,  5.16it/s]"
     ]
    },
    {
     "name": "stderr",
     "output_type": "stream",
     "text": [
      "\r\n",
      " 48%|████▊     | 224/471 [00:42<00:48,  5.15it/s]"
     ]
    },
    {
     "name": "stderr",
     "output_type": "stream",
     "text": [
      "\r\n",
      " 48%|████▊     | 225/471 [00:43<00:47,  5.13it/s]"
     ]
    },
    {
     "name": "stderr",
     "output_type": "stream",
     "text": [
      "\r\n",
      " 48%|████▊     | 226/471 [00:43<00:47,  5.12it/s]"
     ]
    },
    {
     "name": "stderr",
     "output_type": "stream",
     "text": [
      "\r\n",
      " 48%|████▊     | 227/471 [00:43<00:47,  5.13it/s]"
     ]
    },
    {
     "name": "stderr",
     "output_type": "stream",
     "text": [
      "\r\n",
      " 48%|████▊     | 228/471 [00:43<00:47,  5.13it/s]"
     ]
    },
    {
     "name": "stderr",
     "output_type": "stream",
     "text": [
      "\r\n",
      " 49%|████▊     | 229/471 [00:43<00:47,  5.13it/s]"
     ]
    },
    {
     "name": "stderr",
     "output_type": "stream",
     "text": [
      "\r\n",
      " 49%|████▉     | 230/471 [00:44<00:47,  5.13it/s]"
     ]
    },
    {
     "name": "stderr",
     "output_type": "stream",
     "text": [
      "\r\n",
      " 49%|████▉     | 231/471 [00:44<00:46,  5.12it/s]"
     ]
    },
    {
     "name": "stderr",
     "output_type": "stream",
     "text": [
      "\r\n",
      " 49%|████▉     | 232/471 [00:44<00:46,  5.11it/s]"
     ]
    },
    {
     "name": "stderr",
     "output_type": "stream",
     "text": [
      "\r\n",
      " 49%|████▉     | 233/471 [00:44<00:46,  5.11it/s]"
     ]
    },
    {
     "name": "stderr",
     "output_type": "stream",
     "text": [
      "\r\n",
      " 50%|████▉     | 234/471 [00:44<00:46,  5.12it/s]"
     ]
    },
    {
     "name": "stderr",
     "output_type": "stream",
     "text": [
      "\r\n",
      " 50%|████▉     | 235/471 [00:45<00:46,  5.12it/s]"
     ]
    },
    {
     "name": "stderr",
     "output_type": "stream",
     "text": [
      "\r\n",
      " 50%|█████     | 236/471 [00:45<00:46,  5.08it/s]"
     ]
    },
    {
     "name": "stderr",
     "output_type": "stream",
     "text": [
      "\r\n",
      " 50%|█████     | 237/471 [00:45<00:45,  5.12it/s]"
     ]
    },
    {
     "name": "stderr",
     "output_type": "stream",
     "text": [
      "\r\n",
      " 51%|█████     | 238/471 [00:45<00:45,  5.10it/s]"
     ]
    },
    {
     "name": "stderr",
     "output_type": "stream",
     "text": [
      "\r\n",
      " 51%|█████     | 239/471 [00:45<00:45,  5.11it/s]"
     ]
    },
    {
     "name": "stderr",
     "output_type": "stream",
     "text": [
      "\r\n",
      " 51%|█████     | 240/471 [00:45<00:45,  5.11it/s]"
     ]
    },
    {
     "name": "stderr",
     "output_type": "stream",
     "text": [
      "\r\n",
      " 51%|█████     | 241/471 [00:46<00:44,  5.11it/s]"
     ]
    },
    {
     "name": "stderr",
     "output_type": "stream",
     "text": [
      "\r\n",
      " 51%|█████▏    | 242/471 [00:46<00:44,  5.12it/s]"
     ]
    },
    {
     "name": "stderr",
     "output_type": "stream",
     "text": [
      "\r\n",
      " 52%|█████▏    | 243/471 [00:46<00:44,  5.11it/s]"
     ]
    },
    {
     "name": "stderr",
     "output_type": "stream",
     "text": [
      "\r\n",
      " 52%|█████▏    | 244/471 [00:46<00:44,  5.09it/s]"
     ]
    },
    {
     "name": "stderr",
     "output_type": "stream",
     "text": [
      "\r\n",
      " 52%|█████▏    | 245/471 [00:46<00:44,  5.10it/s]"
     ]
    },
    {
     "name": "stderr",
     "output_type": "stream",
     "text": [
      "\r\n",
      " 52%|█████▏    | 246/471 [00:47<00:44,  5.11it/s]"
     ]
    },
    {
     "name": "stderr",
     "output_type": "stream",
     "text": [
      "\r\n",
      " 52%|█████▏    | 247/471 [00:47<00:43,  5.11it/s]"
     ]
    },
    {
     "name": "stderr",
     "output_type": "stream",
     "text": [
      "\r\n",
      " 53%|█████▎    | 248/471 [00:47<00:43,  5.11it/s]"
     ]
    },
    {
     "name": "stderr",
     "output_type": "stream",
     "text": [
      "\r\n",
      " 53%|█████▎    | 249/471 [00:47<00:43,  5.10it/s]"
     ]
    },
    {
     "name": "stderr",
     "output_type": "stream",
     "text": [
      "\r\n",
      " 53%|█████▎    | 250/471 [00:47<00:43,  5.09it/s]"
     ]
    },
    {
     "name": "stderr",
     "output_type": "stream",
     "text": [
      "\r\n",
      " 53%|█████▎    | 251/471 [00:48<00:43,  5.10it/s]"
     ]
    },
    {
     "name": "stderr",
     "output_type": "stream",
     "text": [
      "\r\n",
      " 54%|█████▎    | 252/471 [00:48<00:42,  5.10it/s]"
     ]
    },
    {
     "name": "stderr",
     "output_type": "stream",
     "text": [
      "\r\n",
      " 54%|█████▎    | 253/471 [00:48<00:42,  5.10it/s]"
     ]
    },
    {
     "name": "stderr",
     "output_type": "stream",
     "text": [
      "\r\n",
      " 54%|█████▍    | 254/471 [00:48<00:42,  5.09it/s]"
     ]
    },
    {
     "name": "stderr",
     "output_type": "stream",
     "text": [
      "\r\n",
      " 54%|█████▍    | 255/471 [00:48<00:42,  5.09it/s]"
     ]
    },
    {
     "name": "stderr",
     "output_type": "stream",
     "text": [
      "\r\n",
      " 54%|█████▍    | 256/471 [00:49<00:42,  5.08it/s]"
     ]
    },
    {
     "name": "stderr",
     "output_type": "stream",
     "text": [
      "\r\n",
      " 55%|█████▍    | 257/471 [00:49<00:42,  5.08it/s]"
     ]
    },
    {
     "name": "stderr",
     "output_type": "stream",
     "text": [
      "\r\n",
      " 55%|█████▍    | 258/471 [00:49<00:41,  5.09it/s]"
     ]
    },
    {
     "name": "stderr",
     "output_type": "stream",
     "text": [
      "\r\n",
      " 55%|█████▍    | 259/471 [00:49<00:41,  5.09it/s]"
     ]
    },
    {
     "name": "stderr",
     "output_type": "stream",
     "text": [
      "\r\n",
      " 55%|█████▌    | 260/471 [00:49<00:41,  5.09it/s]"
     ]
    },
    {
     "name": "stderr",
     "output_type": "stream",
     "text": [
      "\r\n",
      " 55%|█████▌    | 261/471 [00:50<00:41,  5.09it/s]"
     ]
    },
    {
     "name": "stderr",
     "output_type": "stream",
     "text": [
      "\r\n",
      " 56%|█████▌    | 262/471 [00:50<00:41,  5.05it/s]"
     ]
    },
    {
     "name": "stderr",
     "output_type": "stream",
     "text": [
      "\r\n",
      " 56%|█████▌    | 263/471 [00:50<00:40,  5.09it/s]"
     ]
    },
    {
     "name": "stderr",
     "output_type": "stream",
     "text": [
      "\r\n",
      " 56%|█████▌    | 264/471 [00:50<00:42,  4.87it/s]"
     ]
    },
    {
     "name": "stderr",
     "output_type": "stream",
     "text": [
      "\r\n",
      " 56%|█████▋    | 265/471 [00:50<00:39,  5.17it/s]"
     ]
    },
    {
     "name": "stderr",
     "output_type": "stream",
     "text": [
      "\r\n",
      " 56%|█████▋    | 266/471 [00:51<00:39,  5.14it/s]"
     ]
    },
    {
     "name": "stderr",
     "output_type": "stream",
     "text": [
      "\r\n",
      " 57%|█████▋    | 267/471 [00:51<00:39,  5.12it/s]"
     ]
    },
    {
     "name": "stderr",
     "output_type": "stream",
     "text": [
      "\r\n",
      " 57%|█████▋    | 268/471 [00:51<00:39,  5.09it/s]"
     ]
    },
    {
     "name": "stderr",
     "output_type": "stream",
     "text": [
      "\r\n",
      " 57%|█████▋    | 269/471 [00:51<00:39,  5.09it/s]"
     ]
    },
    {
     "name": "stderr",
     "output_type": "stream",
     "text": [
      "\r\n",
      " 57%|█████▋    | 270/471 [00:51<00:39,  5.09it/s]"
     ]
    },
    {
     "name": "stderr",
     "output_type": "stream",
     "text": [
      "\r\n",
      " 58%|█████▊    | 271/471 [00:52<00:39,  5.09it/s]"
     ]
    },
    {
     "name": "stderr",
     "output_type": "stream",
     "text": [
      "\r\n",
      " 58%|█████▊    | 272/471 [00:52<00:39,  5.09it/s]"
     ]
    },
    {
     "name": "stderr",
     "output_type": "stream",
     "text": [
      "\r\n",
      " 58%|█████▊    | 273/471 [00:52<00:39,  5.08it/s]"
     ]
    },
    {
     "name": "stderr",
     "output_type": "stream",
     "text": [
      "\r\n",
      " 58%|█████▊    | 274/471 [00:52<00:38,  5.06it/s]"
     ]
    },
    {
     "name": "stderr",
     "output_type": "stream",
     "text": [
      "\r\n",
      " 58%|█████▊    | 275/471 [00:52<00:38,  5.03it/s]"
     ]
    },
    {
     "name": "stderr",
     "output_type": "stream",
     "text": [
      "\r\n",
      " 59%|█████▊    | 276/471 [00:53<00:38,  5.07it/s]"
     ]
    },
    {
     "name": "stderr",
     "output_type": "stream",
     "text": [
      "\r\n",
      " 59%|█████▉    | 277/471 [00:53<00:38,  5.09it/s]"
     ]
    },
    {
     "name": "stderr",
     "output_type": "stream",
     "text": [
      "\r\n",
      " 59%|█████▉    | 278/471 [00:53<00:37,  5.10it/s]"
     ]
    },
    {
     "name": "stderr",
     "output_type": "stream",
     "text": [
      "\r\n",
      " 59%|█████▉    | 279/471 [00:53<00:37,  5.09it/s]"
     ]
    },
    {
     "name": "stderr",
     "output_type": "stream",
     "text": [
      "\r\n",
      " 59%|█████▉    | 280/471 [00:53<00:37,  5.09it/s]"
     ]
    },
    {
     "name": "stderr",
     "output_type": "stream",
     "text": [
      "\r\n",
      " 60%|█████▉    | 281/471 [00:54<00:37,  5.07it/s]"
     ]
    },
    {
     "name": "stderr",
     "output_type": "stream",
     "text": [
      "\r\n",
      " 60%|█████▉    | 282/471 [00:54<00:37,  5.07it/s]"
     ]
    },
    {
     "name": "stderr",
     "output_type": "stream",
     "text": [
      "\r\n",
      " 60%|██████    | 283/471 [00:54<00:36,  5.09it/s]"
     ]
    },
    {
     "name": "stderr",
     "output_type": "stream",
     "text": [
      "\r\n",
      " 60%|██████    | 284/471 [00:54<00:36,  5.10it/s]"
     ]
    },
    {
     "name": "stderr",
     "output_type": "stream",
     "text": [
      "\r\n",
      " 61%|██████    | 285/471 [00:54<00:36,  5.09it/s]"
     ]
    },
    {
     "name": "stderr",
     "output_type": "stream",
     "text": [
      "\r\n",
      " 61%|██████    | 286/471 [00:55<00:36,  5.08it/s]"
     ]
    },
    {
     "name": "stderr",
     "output_type": "stream",
     "text": [
      "\r\n",
      " 61%|██████    | 287/471 [00:55<00:36,  5.07it/s]"
     ]
    },
    {
     "name": "stderr",
     "output_type": "stream",
     "text": [
      "\r\n",
      " 61%|██████    | 288/471 [00:55<00:36,  5.04it/s]"
     ]
    },
    {
     "name": "stderr",
     "output_type": "stream",
     "text": [
      "\r\n",
      " 61%|██████▏   | 289/471 [00:55<00:35,  5.09it/s]"
     ]
    },
    {
     "name": "stderr",
     "output_type": "stream",
     "text": [
      "\r\n",
      " 62%|██████▏   | 290/471 [00:55<00:35,  5.09it/s]"
     ]
    },
    {
     "name": "stderr",
     "output_type": "stream",
     "text": [
      "\r\n",
      " 62%|██████▏   | 291/471 [00:56<00:35,  5.09it/s]"
     ]
    },
    {
     "name": "stderr",
     "output_type": "stream",
     "text": [
      "\r\n",
      " 62%|██████▏   | 292/471 [00:56<00:35,  5.08it/s]"
     ]
    },
    {
     "name": "stderr",
     "output_type": "stream",
     "text": [
      "\r\n",
      " 62%|██████▏   | 293/471 [00:56<00:35,  5.06it/s]"
     ]
    },
    {
     "name": "stderr",
     "output_type": "stream",
     "text": [
      "\r\n",
      " 62%|██████▏   | 294/471 [00:56<00:34,  5.07it/s]"
     ]
    },
    {
     "name": "stderr",
     "output_type": "stream",
     "text": [
      "\r\n",
      " 63%|██████▎   | 295/471 [00:56<00:34,  5.08it/s]"
     ]
    },
    {
     "name": "stderr",
     "output_type": "stream",
     "text": [
      "\r\n",
      " 63%|██████▎   | 296/471 [00:57<00:34,  5.08it/s]"
     ]
    },
    {
     "name": "stderr",
     "output_type": "stream",
     "text": [
      "\r\n",
      " 63%|██████▎   | 297/471 [00:57<00:34,  5.08it/s]"
     ]
    },
    {
     "name": "stderr",
     "output_type": "stream",
     "text": [
      "\r\n",
      " 63%|██████▎   | 298/471 [00:57<00:34,  5.07it/s]"
     ]
    },
    {
     "name": "stderr",
     "output_type": "stream",
     "text": [
      "\r\n",
      " 63%|██████▎   | 299/471 [00:57<00:34,  5.06it/s]"
     ]
    },
    {
     "name": "stderr",
     "output_type": "stream",
     "text": [
      "\r\n",
      " 64%|██████▎   | 300/471 [00:57<00:33,  5.06it/s]"
     ]
    },
    {
     "name": "stderr",
     "output_type": "stream",
     "text": [
      "\r\n",
      " 64%|██████▍   | 301/471 [00:57<00:33,  5.06it/s]"
     ]
    },
    {
     "name": "stderr",
     "output_type": "stream",
     "text": [
      "\r\n",
      " 64%|██████▍   | 302/471 [00:58<00:33,  5.07it/s]"
     ]
    },
    {
     "name": "stderr",
     "output_type": "stream",
     "text": [
      "\r\n",
      " 64%|██████▍   | 303/471 [00:58<00:33,  5.07it/s]"
     ]
    },
    {
     "name": "stderr",
     "output_type": "stream",
     "text": [
      "\r\n",
      " 65%|██████▍   | 304/471 [00:58<00:32,  5.07it/s]"
     ]
    },
    {
     "name": "stderr",
     "output_type": "stream",
     "text": [
      "\r\n",
      " 65%|██████▍   | 305/471 [00:58<00:32,  5.05it/s]"
     ]
    },
    {
     "name": "stderr",
     "output_type": "stream",
     "text": [
      "\r\n",
      " 65%|██████▍   | 306/471 [00:58<00:32,  5.06it/s]"
     ]
    },
    {
     "name": "stderr",
     "output_type": "stream",
     "text": [
      "\r\n",
      " 65%|██████▌   | 307/471 [00:59<00:32,  5.07it/s]"
     ]
    },
    {
     "name": "stderr",
     "output_type": "stream",
     "text": [
      "\r\n",
      " 65%|██████▌   | 308/471 [00:59<00:32,  5.07it/s]"
     ]
    },
    {
     "name": "stderr",
     "output_type": "stream",
     "text": [
      "\r\n",
      " 66%|██████▌   | 309/471 [00:59<00:32,  5.06it/s]"
     ]
    },
    {
     "name": "stderr",
     "output_type": "stream",
     "text": [
      "\r\n",
      " 66%|██████▌   | 310/471 [00:59<00:31,  5.05it/s]"
     ]
    },
    {
     "name": "stderr",
     "output_type": "stream",
     "text": [
      "\r\n",
      " 66%|██████▌   | 311/471 [00:59<00:31,  5.04it/s]"
     ]
    },
    {
     "name": "stderr",
     "output_type": "stream",
     "text": [
      "\r\n",
      " 66%|██████▌   | 312/471 [01:00<00:31,  5.04it/s]"
     ]
    },
    {
     "name": "stderr",
     "output_type": "stream",
     "text": [
      "\r\n",
      " 66%|██████▋   | 313/471 [01:00<00:31,  5.05it/s]"
     ]
    },
    {
     "name": "stderr",
     "output_type": "stream",
     "text": [
      "\r\n",
      " 67%|██████▋   | 314/471 [01:00<00:31,  5.01it/s]"
     ]
    },
    {
     "name": "stderr",
     "output_type": "stream",
     "text": [
      "\r\n",
      " 67%|██████▋   | 315/471 [01:00<00:30,  5.06it/s]"
     ]
    },
    {
     "name": "stderr",
     "output_type": "stream",
     "text": [
      "\r\n",
      " 67%|██████▋   | 316/471 [01:00<00:30,  5.04it/s]"
     ]
    },
    {
     "name": "stderr",
     "output_type": "stream",
     "text": [
      "\r\n",
      " 67%|██████▋   | 317/471 [01:01<00:30,  5.03it/s]"
     ]
    },
    {
     "name": "stderr",
     "output_type": "stream",
     "text": [
      "\r\n",
      " 68%|██████▊   | 318/471 [01:01<00:30,  5.03it/s]"
     ]
    },
    {
     "name": "stderr",
     "output_type": "stream",
     "text": [
      "\r\n",
      " 68%|██████▊   | 319/471 [01:01<00:30,  5.05it/s]"
     ]
    },
    {
     "name": "stderr",
     "output_type": "stream",
     "text": [
      "\r\n",
      " 68%|██████▊   | 320/471 [01:01<00:29,  5.05it/s]"
     ]
    },
    {
     "name": "stderr",
     "output_type": "stream",
     "text": [
      "\r\n",
      " 68%|██████▊   | 321/471 [01:01<00:29,  5.04it/s]"
     ]
    },
    {
     "name": "stderr",
     "output_type": "stream",
     "text": [
      "\r\n",
      " 68%|██████▊   | 322/471 [01:02<00:29,  5.03it/s]"
     ]
    },
    {
     "name": "stderr",
     "output_type": "stream",
     "text": [
      "\r\n",
      " 69%|██████▊   | 323/471 [01:02<00:29,  5.02it/s]"
     ]
    },
    {
     "name": "stderr",
     "output_type": "stream",
     "text": [
      "\r\n",
      " 69%|██████▉   | 324/471 [01:02<00:29,  5.02it/s]"
     ]
    },
    {
     "name": "stderr",
     "output_type": "stream",
     "text": [
      "\r\n",
      " 69%|██████▉   | 325/471 [01:02<00:29,  5.03it/s]"
     ]
    },
    {
     "name": "stderr",
     "output_type": "stream",
     "text": [
      "\r\n",
      " 69%|██████▉   | 326/471 [01:02<00:28,  5.03it/s]"
     ]
    },
    {
     "name": "stderr",
     "output_type": "stream",
     "text": [
      "\r\n",
      " 69%|██████▉   | 327/471 [01:03<00:28,  5.03it/s]"
     ]
    },
    {
     "name": "stderr",
     "output_type": "stream",
     "text": [
      "\r\n",
      " 70%|██████▉   | 328/471 [01:03<00:28,  5.03it/s]"
     ]
    },
    {
     "name": "stderr",
     "output_type": "stream",
     "text": [
      "\r\n",
      " 70%|██████▉   | 329/471 [01:03<00:28,  5.01it/s]"
     ]
    },
    {
     "name": "stderr",
     "output_type": "stream",
     "text": [
      "\r\n",
      " 70%|███████   | 330/471 [01:03<00:28,  5.00it/s]"
     ]
    },
    {
     "name": "stderr",
     "output_type": "stream",
     "text": [
      "\r\n",
      " 70%|███████   | 331/471 [01:03<00:27,  5.00it/s]"
     ]
    },
    {
     "name": "stderr",
     "output_type": "stream",
     "text": [
      "\r\n",
      " 70%|███████   | 332/471 [01:04<00:27,  5.01it/s]"
     ]
    },
    {
     "name": "stderr",
     "output_type": "stream",
     "text": [
      "\r\n",
      " 71%|███████   | 333/471 [01:04<00:27,  5.02it/s]"
     ]
    },
    {
     "name": "stderr",
     "output_type": "stream",
     "text": [
      "\r\n",
      " 71%|███████   | 334/471 [01:04<00:27,  5.01it/s]"
     ]
    },
    {
     "name": "stderr",
     "output_type": "stream",
     "text": [
      "\r\n",
      " 71%|███████   | 335/471 [01:04<00:27,  5.01it/s]"
     ]
    },
    {
     "name": "stderr",
     "output_type": "stream",
     "text": [
      "\r\n",
      " 71%|███████▏  | 336/471 [01:04<00:27,  5.00it/s]"
     ]
    },
    {
     "name": "stderr",
     "output_type": "stream",
     "text": [
      "\r\n",
      " 72%|███████▏  | 337/471 [01:05<00:26,  5.00it/s]"
     ]
    },
    {
     "name": "stderr",
     "output_type": "stream",
     "text": [
      "\r\n",
      " 72%|███████▏  | 338/471 [01:05<00:26,  5.01it/s]"
     ]
    },
    {
     "name": "stderr",
     "output_type": "stream",
     "text": [
      "\r\n",
      " 72%|███████▏  | 339/471 [01:05<00:26,  5.02it/s]"
     ]
    },
    {
     "name": "stderr",
     "output_type": "stream",
     "text": [
      "\r\n",
      " 72%|███████▏  | 340/471 [01:05<00:26,  5.01it/s]"
     ]
    },
    {
     "name": "stderr",
     "output_type": "stream",
     "text": [
      "\r\n",
      " 72%|███████▏  | 341/471 [01:05<00:26,  4.99it/s]"
     ]
    },
    {
     "name": "stderr",
     "output_type": "stream",
     "text": [
      "\r\n",
      " 73%|███████▎  | 342/471 [01:06<00:32,  3.97it/s]"
     ]
    },
    {
     "name": "stderr",
     "output_type": "stream",
     "text": [
      "\r\n",
      " 73%|███████▎  | 343/471 [01:06<00:30,  4.24it/s]"
     ]
    },
    {
     "name": "stderr",
     "output_type": "stream",
     "text": [
      "\r\n",
      " 73%|███████▎  | 344/471 [01:06<00:28,  4.42it/s]"
     ]
    },
    {
     "name": "stderr",
     "output_type": "stream",
     "text": [
      "\r\n",
      " 73%|███████▎  | 345/471 [01:06<00:27,  4.58it/s]"
     ]
    },
    {
     "name": "stderr",
     "output_type": "stream",
     "text": [
      "\r\n",
      " 73%|███████▎  | 346/471 [01:07<00:26,  4.69it/s]"
     ]
    },
    {
     "name": "stderr",
     "output_type": "stream",
     "text": [
      "\r\n",
      " 74%|███████▎  | 347/471 [01:07<00:25,  4.77it/s]"
     ]
    },
    {
     "name": "stderr",
     "output_type": "stream",
     "text": [
      "\r\n",
      " 74%|███████▍  | 348/471 [01:07<00:25,  4.82it/s]"
     ]
    },
    {
     "name": "stderr",
     "output_type": "stream",
     "text": [
      "\r\n",
      " 74%|███████▍  | 349/471 [01:07<00:25,  4.87it/s]"
     ]
    },
    {
     "name": "stderr",
     "output_type": "stream",
     "text": [
      "\r\n",
      " 74%|███████▍  | 350/471 [01:07<00:24,  4.91it/s]"
     ]
    },
    {
     "name": "stderr",
     "output_type": "stream",
     "text": [
      "\r\n",
      " 75%|███████▍  | 351/471 [01:08<00:24,  4.93it/s]"
     ]
    },
    {
     "name": "stderr",
     "output_type": "stream",
     "text": [
      "\r\n",
      " 75%|███████▍  | 352/471 [01:08<00:24,  4.95it/s]"
     ]
    },
    {
     "name": "stderr",
     "output_type": "stream",
     "text": [
      "\r\n",
      " 75%|███████▍  | 353/471 [01:08<00:23,  4.95it/s]"
     ]
    },
    {
     "name": "stderr",
     "output_type": "stream",
     "text": [
      "\r\n",
      " 75%|███████▌  | 354/471 [01:08<00:23,  4.95it/s]"
     ]
    },
    {
     "name": "stderr",
     "output_type": "stream",
     "text": [
      "\r\n",
      " 75%|███████▌  | 355/471 [01:08<00:23,  4.96it/s]"
     ]
    },
    {
     "name": "stderr",
     "output_type": "stream",
     "text": [
      "\r\n",
      " 76%|███████▌  | 356/471 [01:09<00:23,  4.97it/s]"
     ]
    },
    {
     "name": "stderr",
     "output_type": "stream",
     "text": [
      "\r\n",
      " 76%|███████▌  | 357/471 [01:09<00:22,  4.97it/s]"
     ]
    },
    {
     "name": "stderr",
     "output_type": "stream",
     "text": [
      "\r\n",
      " 76%|███████▌  | 358/471 [01:09<00:22,  4.97it/s]"
     ]
    },
    {
     "name": "stderr",
     "output_type": "stream",
     "text": [
      "\r\n",
      " 76%|███████▌  | 359/471 [01:09<00:22,  4.97it/s]"
     ]
    },
    {
     "name": "stderr",
     "output_type": "stream",
     "text": [
      "\r\n",
      " 76%|███████▋  | 360/471 [01:09<00:22,  4.96it/s]"
     ]
    },
    {
     "name": "stderr",
     "output_type": "stream",
     "text": [
      "\r\n",
      " 77%|███████▋  | 361/471 [01:10<00:22,  4.96it/s]"
     ]
    },
    {
     "name": "stderr",
     "output_type": "stream",
     "text": [
      "\r\n",
      " 77%|███████▋  | 362/471 [01:10<00:21,  4.98it/s]"
     ]
    },
    {
     "name": "stderr",
     "output_type": "stream",
     "text": [
      "\r\n",
      " 77%|███████▋  | 363/471 [01:10<00:21,  4.98it/s]"
     ]
    },
    {
     "name": "stderr",
     "output_type": "stream",
     "text": [
      "\r\n",
      " 77%|███████▋  | 364/471 [01:10<00:21,  4.98it/s]"
     ]
    },
    {
     "name": "stderr",
     "output_type": "stream",
     "text": [
      "\r\n",
      " 77%|███████▋  | 365/471 [01:10<00:21,  4.97it/s]"
     ]
    },
    {
     "name": "stderr",
     "output_type": "stream",
     "text": [
      "\r\n",
      " 78%|███████▊  | 366/471 [01:11<00:21,  4.96it/s]"
     ]
    },
    {
     "name": "stderr",
     "output_type": "stream",
     "text": [
      "\r\n",
      " 78%|███████▊  | 367/471 [01:11<00:21,  4.95it/s]"
     ]
    },
    {
     "name": "stderr",
     "output_type": "stream",
     "text": [
      "\r\n",
      " 78%|███████▊  | 368/471 [01:11<00:20,  4.96it/s]"
     ]
    },
    {
     "name": "stderr",
     "output_type": "stream",
     "text": [
      "\r\n",
      " 78%|███████▊  | 369/471 [01:11<00:20,  4.96it/s]"
     ]
    },
    {
     "name": "stderr",
     "output_type": "stream",
     "text": [
      "\r\n",
      " 79%|███████▊  | 370/471 [01:11<00:20,  4.96it/s]"
     ]
    },
    {
     "name": "stderr",
     "output_type": "stream",
     "text": [
      "\r\n",
      " 79%|███████▉  | 371/471 [01:12<00:20,  4.96it/s]"
     ]
    },
    {
     "name": "stderr",
     "output_type": "stream",
     "text": [
      "\r\n",
      " 79%|███████▉  | 372/471 [01:12<00:20,  4.91it/s]"
     ]
    },
    {
     "name": "stderr",
     "output_type": "stream",
     "text": [
      "\r\n",
      " 79%|███████▉  | 373/471 [01:12<00:19,  4.93it/s]"
     ]
    },
    {
     "name": "stderr",
     "output_type": "stream",
     "text": [
      "\r\n",
      " 79%|███████▉  | 374/471 [01:12<00:19,  4.94it/s]"
     ]
    },
    {
     "name": "stderr",
     "output_type": "stream",
     "text": [
      "\r\n",
      " 80%|███████▉  | 375/471 [01:12<00:19,  4.95it/s]"
     ]
    },
    {
     "name": "stderr",
     "output_type": "stream",
     "text": [
      "\r\n",
      " 80%|███████▉  | 376/471 [01:13<00:19,  4.95it/s]"
     ]
    },
    {
     "name": "stderr",
     "output_type": "stream",
     "text": [
      "\r\n",
      " 80%|████████  | 377/471 [01:13<00:19,  4.94it/s]"
     ]
    },
    {
     "name": "stderr",
     "output_type": "stream",
     "text": [
      "\r\n",
      " 80%|████████  | 378/471 [01:13<00:18,  4.94it/s]"
     ]
    },
    {
     "name": "stderr",
     "output_type": "stream",
     "text": [
      "\r\n",
      " 80%|████████  | 379/471 [01:13<00:19,  4.73it/s]"
     ]
    },
    {
     "name": "stderr",
     "output_type": "stream",
     "text": [
      "\r\n",
      " 81%|████████  | 380/471 [01:13<00:18,  4.98it/s]"
     ]
    },
    {
     "name": "stderr",
     "output_type": "stream",
     "text": [
      "\r\n",
      " 81%|████████  | 381/471 [01:14<00:18,  4.98it/s]"
     ]
    },
    {
     "name": "stderr",
     "output_type": "stream",
     "text": [
      "\r\n",
      " 81%|████████  | 382/471 [01:14<00:17,  4.96it/s]"
     ]
    },
    {
     "name": "stderr",
     "output_type": "stream",
     "text": [
      "\r\n",
      " 81%|████████▏ | 383/471 [01:14<00:17,  4.96it/s]"
     ]
    },
    {
     "name": "stderr",
     "output_type": "stream",
     "text": [
      "\r\n",
      " 82%|████████▏ | 384/471 [01:14<00:17,  4.94it/s]"
     ]
    },
    {
     "name": "stderr",
     "output_type": "stream",
     "text": [
      "\r\n",
      " 82%|████████▏ | 385/471 [01:14<00:17,  4.93it/s]"
     ]
    },
    {
     "name": "stderr",
     "output_type": "stream",
     "text": [
      "\r\n",
      " 82%|████████▏ | 386/471 [01:15<00:17,  4.93it/s]"
     ]
    },
    {
     "name": "stderr",
     "output_type": "stream",
     "text": [
      "\r\n",
      " 82%|████████▏ | 387/471 [01:15<00:17,  4.92it/s]"
     ]
    },
    {
     "name": "stderr",
     "output_type": "stream",
     "text": [
      "\r\n",
      " 82%|████████▏ | 388/471 [01:15<00:16,  4.94it/s]"
     ]
    },
    {
     "name": "stderr",
     "output_type": "stream",
     "text": [
      "\r\n",
      " 83%|████████▎ | 389/471 [01:15<00:16,  4.94it/s]"
     ]
    },
    {
     "name": "stderr",
     "output_type": "stream",
     "text": [
      "\r\n",
      " 83%|████████▎ | 390/471 [01:16<00:16,  4.93it/s]"
     ]
    },
    {
     "name": "stderr",
     "output_type": "stream",
     "text": [
      "\r\n",
      " 83%|████████▎ | 391/471 [01:16<00:16,  4.92it/s]"
     ]
    },
    {
     "name": "stderr",
     "output_type": "stream",
     "text": [
      "\r\n",
      " 83%|████████▎ | 392/471 [01:16<00:16,  4.91it/s]"
     ]
    },
    {
     "name": "stderr",
     "output_type": "stream",
     "text": [
      "\r\n",
      " 83%|████████▎ | 393/471 [01:16<00:16,  4.87it/s]"
     ]
    },
    {
     "name": "stderr",
     "output_type": "stream",
     "text": [
      "\r\n",
      " 84%|████████▎ | 394/471 [01:16<00:15,  4.89it/s]"
     ]
    },
    {
     "name": "stderr",
     "output_type": "stream",
     "text": [
      "\r\n",
      " 84%|████████▍ | 395/471 [01:17<00:15,  4.90it/s]"
     ]
    },
    {
     "name": "stderr",
     "output_type": "stream",
     "text": [
      "\r\n",
      " 84%|████████▍ | 396/471 [01:17<00:15,  4.90it/s]"
     ]
    },
    {
     "name": "stderr",
     "output_type": "stream",
     "text": [
      "\r\n",
      " 84%|████████▍ | 397/471 [01:17<00:15,  4.89it/s]"
     ]
    },
    {
     "name": "stderr",
     "output_type": "stream",
     "text": [
      "\r\n",
      " 85%|████████▍ | 398/471 [01:17<00:14,  4.92it/s]"
     ]
    },
    {
     "name": "stderr",
     "output_type": "stream",
     "text": [
      "\r\n",
      " 85%|████████▍ | 399/471 [01:17<00:14,  4.92it/s]"
     ]
    },
    {
     "name": "stderr",
     "output_type": "stream",
     "text": [
      "\r\n",
      " 85%|████████▍ | 400/471 [01:18<00:14,  4.92it/s]"
     ]
    },
    {
     "name": "stderr",
     "output_type": "stream",
     "text": [
      "\r\n",
      " 85%|████████▌ | 401/471 [01:18<00:14,  4.92it/s]"
     ]
    },
    {
     "name": "stderr",
     "output_type": "stream",
     "text": [
      "\r\n",
      " 85%|████████▌ | 402/471 [01:18<00:14,  4.91it/s]"
     ]
    },
    {
     "name": "stderr",
     "output_type": "stream",
     "text": [
      "\r\n",
      " 86%|████████▌ | 403/471 [01:18<00:13,  4.90it/s]"
     ]
    },
    {
     "name": "stderr",
     "output_type": "stream",
     "text": [
      "\r\n",
      " 86%|████████▌ | 404/471 [01:18<00:13,  4.90it/s]"
     ]
    },
    {
     "name": "stderr",
     "output_type": "stream",
     "text": [
      "\r\n",
      " 86%|████████▌ | 405/471 [01:19<00:13,  4.91it/s]"
     ]
    },
    {
     "name": "stderr",
     "output_type": "stream",
     "text": [
      "\r\n",
      " 86%|████████▌ | 406/471 [01:19<00:13,  4.92it/s]"
     ]
    },
    {
     "name": "stderr",
     "output_type": "stream",
     "text": [
      "\r\n",
      " 86%|████████▋ | 407/471 [01:19<00:13,  4.91it/s]"
     ]
    },
    {
     "name": "stderr",
     "output_type": "stream",
     "text": [
      "\r\n",
      " 87%|████████▋ | 408/471 [01:19<00:12,  4.90it/s]"
     ]
    },
    {
     "name": "stderr",
     "output_type": "stream",
     "text": [
      "\r\n",
      " 87%|████████▋ | 409/471 [01:19<00:12,  4.89it/s]"
     ]
    },
    {
     "name": "stderr",
     "output_type": "stream",
     "text": [
      "\r\n",
      " 87%|████████▋ | 410/471 [01:20<00:12,  4.90it/s]"
     ]
    },
    {
     "name": "stderr",
     "output_type": "stream",
     "text": [
      "\r\n",
      " 87%|████████▋ | 411/471 [01:20<00:12,  4.91it/s]"
     ]
    },
    {
     "name": "stderr",
     "output_type": "stream",
     "text": [
      "\r\n",
      " 87%|████████▋ | 412/471 [01:20<00:12,  4.91it/s]"
     ]
    },
    {
     "name": "stderr",
     "output_type": "stream",
     "text": [
      "\r\n",
      " 88%|████████▊ | 413/471 [01:20<00:11,  4.90it/s]"
     ]
    },
    {
     "name": "stderr",
     "output_type": "stream",
     "text": [
      "\r\n",
      " 88%|████████▊ | 414/471 [01:20<00:11,  4.89it/s]"
     ]
    },
    {
     "name": "stderr",
     "output_type": "stream",
     "text": [
      "\r\n",
      " 88%|████████▊ | 415/471 [01:21<00:11,  4.89it/s]"
     ]
    },
    {
     "name": "stderr",
     "output_type": "stream",
     "text": [
      "\r\n",
      " 88%|████████▊ | 416/471 [01:21<00:11,  4.89it/s]"
     ]
    },
    {
     "name": "stderr",
     "output_type": "stream",
     "text": [
      "\r\n",
      " 89%|████████▊ | 417/471 [01:21<00:11,  4.90it/s]"
     ]
    },
    {
     "name": "stderr",
     "output_type": "stream",
     "text": [
      "\r\n",
      " 89%|████████▊ | 418/471 [01:21<00:10,  4.90it/s]"
     ]
    },
    {
     "name": "stderr",
     "output_type": "stream",
     "text": [
      "\r\n",
      " 89%|████████▉ | 419/471 [01:21<00:10,  4.89it/s]"
     ]
    },
    {
     "name": "stderr",
     "output_type": "stream",
     "text": [
      "\r\n",
      " 89%|████████▉ | 420/471 [01:22<00:10,  4.89it/s]"
     ]
    },
    {
     "name": "stderr",
     "output_type": "stream",
     "text": [
      "\r\n",
      " 89%|████████▉ | 421/471 [01:22<00:10,  4.88it/s]"
     ]
    },
    {
     "name": "stderr",
     "output_type": "stream",
     "text": [
      "\r\n",
      " 90%|████████▉ | 422/471 [01:22<00:10,  4.89it/s]"
     ]
    },
    {
     "name": "stderr",
     "output_type": "stream",
     "text": [
      "\r\n",
      " 90%|████████▉ | 423/471 [01:22<00:09,  4.89it/s]"
     ]
    },
    {
     "name": "stderr",
     "output_type": "stream",
     "text": [
      "\r\n",
      " 90%|█████████ | 424/471 [01:22<00:09,  4.88it/s]"
     ]
    },
    {
     "name": "stderr",
     "output_type": "stream",
     "text": [
      "\r\n",
      " 90%|█████████ | 425/471 [01:23<00:09,  4.89it/s]"
     ]
    },
    {
     "name": "stderr",
     "output_type": "stream",
     "text": [
      "\r\n",
      " 90%|█████████ | 426/471 [01:23<00:09,  4.88it/s]"
     ]
    },
    {
     "name": "stderr",
     "output_type": "stream",
     "text": [
      "\r\n",
      " 91%|█████████ | 427/471 [01:23<00:09,  4.87it/s]"
     ]
    },
    {
     "name": "stderr",
     "output_type": "stream",
     "text": [
      "\r\n",
      " 91%|█████████ | 428/471 [01:23<00:08,  4.88it/s]"
     ]
    },
    {
     "name": "stderr",
     "output_type": "stream",
     "text": [
      "\r\n",
      " 91%|█████████ | 429/471 [01:23<00:08,  4.88it/s]"
     ]
    },
    {
     "name": "stderr",
     "output_type": "stream",
     "text": [
      "\r\n",
      " 91%|█████████▏| 430/471 [01:24<00:08,  4.89it/s]"
     ]
    },
    {
     "name": "stderr",
     "output_type": "stream",
     "text": [
      "\r\n",
      " 92%|█████████▏| 431/471 [01:24<00:08,  4.88it/s]"
     ]
    },
    {
     "name": "stderr",
     "output_type": "stream",
     "text": [
      "\r\n",
      " 92%|█████████▏| 432/471 [01:24<00:07,  4.88it/s]"
     ]
    },
    {
     "name": "stderr",
     "output_type": "stream",
     "text": [
      "\r\n",
      " 92%|█████████▏| 433/471 [01:24<00:07,  4.87it/s]"
     ]
    },
    {
     "name": "stderr",
     "output_type": "stream",
     "text": [
      "\r\n",
      " 92%|█████████▏| 434/471 [01:25<00:07,  4.85it/s]"
     ]
    },
    {
     "name": "stderr",
     "output_type": "stream",
     "text": [
      "\r\n",
      " 92%|█████████▏| 435/471 [01:25<00:07,  4.85it/s]"
     ]
    },
    {
     "name": "stderr",
     "output_type": "stream",
     "text": [
      "\r\n",
      " 93%|█████████▎| 436/471 [01:25<00:07,  4.86it/s]"
     ]
    },
    {
     "name": "stderr",
     "output_type": "stream",
     "text": [
      "\r\n",
      " 93%|█████████▎| 437/471 [01:25<00:06,  4.87it/s]"
     ]
    },
    {
     "name": "stderr",
     "output_type": "stream",
     "text": [
      "\r\n",
      " 93%|█████████▎| 438/471 [01:25<00:06,  4.86it/s]"
     ]
    },
    {
     "name": "stderr",
     "output_type": "stream",
     "text": [
      "\r\n",
      " 93%|█████████▎| 439/471 [01:26<00:06,  4.86it/s]"
     ]
    },
    {
     "name": "stderr",
     "output_type": "stream",
     "text": [
      "\r\n",
      " 93%|█████████▎| 440/471 [01:26<00:06,  4.84it/s]"
     ]
    },
    {
     "name": "stderr",
     "output_type": "stream",
     "text": [
      "\r\n",
      " 94%|█████████▎| 441/471 [01:26<00:06,  4.85it/s]"
     ]
    },
    {
     "name": "stderr",
     "output_type": "stream",
     "text": [
      "\r\n",
      " 94%|█████████▍| 442/471 [01:26<00:05,  4.85it/s]"
     ]
    },
    {
     "name": "stderr",
     "output_type": "stream",
     "text": [
      "\r\n",
      " 94%|█████████▍| 443/471 [01:26<00:05,  4.86it/s]"
     ]
    },
    {
     "name": "stderr",
     "output_type": "stream",
     "text": [
      "\r\n",
      " 94%|█████████▍| 444/471 [01:27<00:05,  4.85it/s]"
     ]
    },
    {
     "name": "stderr",
     "output_type": "stream",
     "text": [
      "\r\n",
      " 94%|█████████▍| 445/471 [01:27<00:05,  4.85it/s]"
     ]
    },
    {
     "name": "stderr",
     "output_type": "stream",
     "text": [
      "\r\n",
      " 95%|█████████▍| 446/471 [01:27<00:05,  4.84it/s]"
     ]
    },
    {
     "name": "stderr",
     "output_type": "stream",
     "text": [
      "\r\n",
      " 95%|█████████▍| 447/471 [01:27<00:04,  4.84it/s]"
     ]
    },
    {
     "name": "stderr",
     "output_type": "stream",
     "text": [
      "\r\n",
      " 95%|█████████▌| 448/471 [01:27<00:04,  4.85it/s]"
     ]
    },
    {
     "name": "stderr",
     "output_type": "stream",
     "text": [
      "\r\n",
      " 95%|█████████▌| 449/471 [01:28<00:04,  4.85it/s]"
     ]
    },
    {
     "name": "stderr",
     "output_type": "stream",
     "text": [
      "\r\n",
      " 96%|█████████▌| 450/471 [01:28<00:04,  4.85it/s]"
     ]
    },
    {
     "name": "stderr",
     "output_type": "stream",
     "text": [
      "\r\n",
      " 96%|█████████▌| 451/471 [01:28<00:04,  4.84it/s]"
     ]
    },
    {
     "name": "stderr",
     "output_type": "stream",
     "text": [
      "\r\n",
      " 96%|█████████▌| 452/471 [01:28<00:03,  4.83it/s]"
     ]
    },
    {
     "name": "stderr",
     "output_type": "stream",
     "text": [
      "\r\n",
      " 96%|█████████▌| 453/471 [01:28<00:03,  4.83it/s]"
     ]
    },
    {
     "name": "stderr",
     "output_type": "stream",
     "text": [
      "\r\n",
      " 96%|█████████▋| 454/471 [01:29<00:03,  4.84it/s]"
     ]
    },
    {
     "name": "stderr",
     "output_type": "stream",
     "text": [
      "\r\n",
      " 97%|█████████▋| 455/471 [01:29<00:03,  4.85it/s]"
     ]
    },
    {
     "name": "stderr",
     "output_type": "stream",
     "text": [
      "\r\n",
      " 97%|█████████▋| 456/471 [01:29<00:03,  4.85it/s]"
     ]
    },
    {
     "name": "stderr",
     "output_type": "stream",
     "text": [
      "\r\n",
      " 97%|█████████▋| 457/471 [01:29<00:02,  4.84it/s]"
     ]
    },
    {
     "name": "stderr",
     "output_type": "stream",
     "text": [
      "\r\n",
      " 97%|█████████▋| 458/471 [01:29<00:02,  4.83it/s]"
     ]
    },
    {
     "name": "stderr",
     "output_type": "stream",
     "text": [
      "\r\n",
      " 97%|█████████▋| 459/471 [01:30<00:02,  4.84it/s]"
     ]
    },
    {
     "name": "stderr",
     "output_type": "stream",
     "text": [
      "\r\n",
      " 98%|█████████▊| 460/471 [01:30<00:02,  4.84it/s]"
     ]
    },
    {
     "name": "stderr",
     "output_type": "stream",
     "text": [
      "\r\n",
      " 98%|█████████▊| 461/471 [01:30<00:02,  4.84it/s]"
     ]
    },
    {
     "name": "stderr",
     "output_type": "stream",
     "text": [
      "\r\n",
      " 98%|█████████▊| 462/471 [01:30<00:01,  4.84it/s]"
     ]
    },
    {
     "name": "stderr",
     "output_type": "stream",
     "text": [
      "\r\n",
      " 98%|█████████▊| 463/471 [01:30<00:01,  4.84it/s]"
     ]
    },
    {
     "name": "stderr",
     "output_type": "stream",
     "text": [
      "\r\n",
      " 99%|█████████▊| 464/471 [01:31<00:01,  4.83it/s]"
     ]
    },
    {
     "name": "stderr",
     "output_type": "stream",
     "text": [
      "\r\n",
      " 99%|█████████▊| 465/471 [01:31<00:01,  4.83it/s]"
     ]
    },
    {
     "name": "stderr",
     "output_type": "stream",
     "text": [
      "\r\n",
      " 99%|█████████▉| 466/471 [01:31<00:01,  4.84it/s]"
     ]
    },
    {
     "name": "stderr",
     "output_type": "stream",
     "text": [
      "\r\n",
      " 99%|█████████▉| 467/471 [01:31<00:00,  4.83it/s]"
     ]
    },
    {
     "name": "stderr",
     "output_type": "stream",
     "text": [
      "\r\n",
      " 99%|█████████▉| 468/471 [01:32<00:00,  4.83it/s]"
     ]
    },
    {
     "name": "stderr",
     "output_type": "stream",
     "text": [
      "\r\n",
      "100%|█████████▉| 469/471 [01:32<00:00,  4.82it/s]"
     ]
    },
    {
     "name": "stderr",
     "output_type": "stream",
     "text": [
      "\r\n",
      "100%|█████████▉| 470/471 [01:32<00:00,  4.82it/s]"
     ]
    },
    {
     "name": "stderr",
     "output_type": "stream",
     "text": [
      "\r\n",
      "100%|██████████| 471/471 [01:32<00:00,  4.79it/s]"
     ]
    },
    {
     "name": "stderr",
     "output_type": "stream",
     "text": [
      "\r\n",
      "100%|██████████| 471/471 [01:32<00:00,  5.07it/s]"
     ]
    },
    {
     "name": "stderr",
     "output_type": "stream",
     "text": [
      "\n"
     ]
    },
    {
     "name": "stdout",
     "output_type": "stream",
     "text": [
      "logging the anndata\n"
     ]
    },
    {
     "name": "stdout",
     "output_type": "stream",
     "text": [
      "AnnData object with n_obs × n_vars = 9409 × 4288\n",
      "    obs: 'pred_cell_type_ontology_term_id', 'pred_tissue_ontology_term_id', 'pred_disease_ontology_term_id', 'pred_age_group', 'pred_assay_ontology_term_id', 'pred_self_reported_ethnicity_ontology_term_id', 'pred_sex_ontology_term_id', 'pred_organism_ontology_term_id', 'pred_cell_culture', 'conv_pred_cell_type_ontology_term_id', 'conv_pred_tissue_ontology_term_id', 'conv_pred_disease_ontology_term_id', 'conv_pred_age_group', 'conv_pred_assay_ontology_term_id', 'conv_pred_self_reported_ethnicity_ontology_term_id'\n",
      "    obsm: 'scprint_emb_cell_type_ontology_term_id'\n",
      "    layers: 'scprint_mu', 'scprint_theta', 'scprint_pi'\n"
     ]
    }
   ],
   "source": [
    "_, idx, nadata = denoise(model, adata)"
   ]
  },
  {
   "cell_type": "code",
   "execution_count": 19,
   "id": "fcd5dc24",
   "metadata": {
    "execution": {
     "iopub.execute_input": "2025-09-12T14:52:43.012597Z",
     "iopub.status.busy": "2025-09-12T14:52:43.012341Z",
     "iopub.status.idle": "2025-09-12T14:52:46.639697Z",
     "shell.execute_reply": "2025-09-12T14:52:46.639140Z"
    },
    "papermill": {
     "duration": 3.719947,
     "end_time": "2025-09-12T14:52:46.640625",
     "exception": false,
     "start_time": "2025-09-12T14:52:42.920678",
     "status": "completed"
    },
    "tags": []
   },
   "outputs": [],
   "source": [
    "nadata = nadata[:, nadata.var.index.isin(adata.var.index)]\n",
    "adata = adata[:, adata.var.index.isin(nadata.var.index)]"
   ]
  },
  {
   "cell_type": "code",
   "execution_count": 20,
   "id": "66f0753e",
   "metadata": {
    "execution": {
     "iopub.execute_input": "2025-09-12T14:52:46.825857Z",
     "iopub.status.busy": "2025-09-12T14:52:46.825616Z",
     "iopub.status.idle": "2025-09-12T14:52:50.942970Z",
     "shell.execute_reply": "2025-09-12T14:52:50.942221Z"
    },
    "papermill": {
     "duration": 4.210356,
     "end_time": "2025-09-12T14:52:50.943649",
     "exception": true,
     "start_time": "2025-09-12T14:52:46.733293",
     "status": "failed"
    },
    "tags": []
   },
   "outputs": [
    {
     "ename": "AttributeError",
     "evalue": "'memoryview' object has no attribute 'reshape'",
     "output_type": "error",
     "traceback": [
      "\u001b[31m---------------------------------------------------------------------------\u001b[39m",
      "\u001b[31mAttributeError\u001b[39m                            Traceback (most recent call last)",
      "\u001b[36mCell\u001b[39m\u001b[36m \u001b[39m\u001b[32mIn[20]\u001b[39m\u001b[32m, line 6\u001b[39m\n\u001b[32m      3\u001b[39m adata_max = adata.X.max(\u001b[32m1\u001b[39m).data\n\u001b[32m      5\u001b[39m \u001b[38;5;66;03m# Get min and max for each row in nadata\u001b[39;00m\n\u001b[32m----> \u001b[39m\u001b[32m6\u001b[39m nadata_min = \u001b[43mnadata\u001b[49m\u001b[43m.\u001b[49m\u001b[43mlayers\u001b[49m\u001b[43m[\u001b[49m\u001b[33;43m\"\u001b[39;49m\u001b[33;43mscprint_mu\u001b[39;49m\u001b[33;43m\"\u001b[39;49m\u001b[43m]\u001b[49m\u001b[43m.\u001b[49m\u001b[43mdata\u001b[49m\u001b[43m.\u001b[49m\u001b[43mreshape\u001b[49m(adata.X.shape[\u001b[32m0\u001b[39m], -\u001b[32m1\u001b[39m).min(axis=\u001b[32m1\u001b[39m)\n\u001b[32m      7\u001b[39m nadata_max = nadata.layers[\u001b[33m\"\u001b[39m\u001b[33mscprint_mu\u001b[39m\u001b[33m\"\u001b[39m].data.reshape(adata.X.shape[\u001b[32m0\u001b[39m], -\u001b[32m1\u001b[39m).max(axis=\u001b[32m1\u001b[39m)\n\u001b[32m      9\u001b[39m \u001b[38;5;66;03m# Rescale each row to match adata range\u001b[39;00m\n\u001b[32m     10\u001b[39m \u001b[38;5;66;03m# Reshape the min/max arrays to match the matrix dimensions for broadcasting\u001b[39;00m\n",
      "\u001b[31mAttributeError\u001b[39m: 'memoryview' object has no attribute 'reshape'"
     ]
    }
   ],
   "source": [
    "# Get min and max from adata\n",
    "adata_min = np.array([1] * adata.X.shape[0])\n",
    "adata_max = adata.X.max(1).data\n",
    "\n",
    "# Get min and max for each row in nadata\n",
    "nadata_min = nadata.layers[\"scprint_mu\"].data.reshape(adata.X.shape[0], -1).min(axis=1)\n",
    "nadata_max = nadata.layers[\"scprint_mu\"].data.reshape(adata.X.shape[0], -1).max(axis=1)\n",
    "\n",
    "# Rescale each row to match adata range\n",
    "# Reshape the min/max arrays to match the matrix dimensions for broadcasting\n",
    "nadata_min = nadata_min.reshape(-1, 1)\n",
    "nadata_max = nadata_max.reshape(-1, 1)\n",
    "adata_min = adata_min.reshape(-1, 1)\n",
    "adata_max = adata_max.reshape(-1, 1)\n",
    "\n",
    "# Perform the rescaling with properly shaped arrays\n",
    "nadata.layers[\"scprint_mu\"].data = (\n",
    "    (nadata.layers[\"scprint_mu\"].data.reshape(adata.X.shape[0], -1) - nadata_min)\n",
    "    / (nadata_max - nadata_min)\n",
    "    * (adata_max - adata_min)\n",
    "    + adata_min\n",
    ").flatten()\n"
   ]
  },
  {
   "cell_type": "code",
   "execution_count": null,
   "id": "78849d5f",
   "metadata": {
    "papermill": {
     "duration": null,
     "end_time": null,
     "exception": null,
     "start_time": null,
     "status": "pending"
    },
    "tags": []
   },
   "outputs": [],
   "source": [
    "# Create a mask for where scprint_mu is 0\n",
    "zero_mask = nadata.layers[\"scprint_mu\"] == 0\n",
    "# Replace zeros with corresponding values from adata.X\n",
    "nadata.layers[\"scprint_mu\"][zero_mask] = adata.X[zero_mask]\n"
   ]
  },
  {
   "cell_type": "code",
   "execution_count": null,
   "id": "0ffd24aa",
   "metadata": {
    "papermill": {
     "duration": null,
     "end_time": null,
     "exception": null,
     "start_time": null,
     "status": "pending"
    },
    "tags": []
   },
   "outputs": [],
   "source": [
    "nadata.obs[\"cell_type\"] = adata.obs[\"cell_type\"].tolist()"
   ]
  },
  {
   "cell_type": "code",
   "execution_count": null,
   "id": "5b3d4081",
   "metadata": {
    "papermill": {
     "duration": null,
     "end_time": null,
     "exception": null,
     "start_time": null,
     "status": "pending"
    },
    "tags": []
   },
   "outputs": [],
   "source": [
    "# Create UMAP visualization of scprint_mu layer\n",
    "import scanpy as sc\n",
    "\n",
    "# Compute UMAP\n",
    "# Compute PCA first\n",
    "sc.pp.pca(nadata, layer=\"scprint_mu\", n_comps=40)\n",
    "\n",
    "sc.pp.neighbors(nadata, use_rep=\"X_pca\", n_neighbors=15)\n",
    "sc.tl.umap(nadata, n_components=2, min_dist=0.2, spread=1.5)\n",
    "nadata.obs[\"cell_type\"] = adata.obs[\"cell_type\"].tolist()\n",
    "\n",
    "# Plot UMAP colored by cell type\n",
    "sc.pl.umap(\n",
    "    nadata,\n",
    "    color=\"cell_type\",\n",
    "    title=\"UMAP of scPRINT denoised data\",\n",
    "    frameon=False,\n",
    "    legend_fontsize=8,\n",
    ")\n"
   ]
  },
  {
   "cell_type": "code",
   "execution_count": null,
   "id": "3e3e99e0",
   "metadata": {
    "papermill": {
     "duration": null,
     "end_time": null,
     "exception": null,
     "start_time": null,
     "status": "pending"
    },
    "tags": []
   },
   "outputs": [],
   "source": [
    "sc.pl.umap(\n",
    "    nadata,\n",
    "    color=\"cell_type\",\n",
    "    title=\"UMAP of scPRINT denoised data\",\n",
    "    frameon=False,\n",
    "    legend_fontsize=8,\n",
    ")"
   ]
  },
  {
   "cell_type": "code",
   "execution_count": null,
   "id": "16ca859c",
   "metadata": {
    "papermill": {
     "duration": null,
     "end_time": null,
     "exception": null,
     "start_time": null,
     "status": "pending"
    },
    "tags": []
   },
   "outputs": [],
   "source": [
    "sc.pl.umap(\n",
    "    nadata,\n",
    "    color=\"cell_type\",\n",
    "    title=\"UMAP of scPRINT denoised data\",\n",
    "    frameon=False,\n",
    "    legend_fontsize=8,\n",
    ")"
   ]
  },
  {
   "cell_type": "code",
   "execution_count": null,
   "id": "f40056f9",
   "metadata": {
    "papermill": {
     "duration": null,
     "end_time": null,
     "exception": null,
     "start_time": null,
     "status": "pending"
    },
    "tags": []
   },
   "outputs": [],
   "source": [
    "adata.X = downsample_profile(torch.Tensor(adata.X.toarray()), 0.7).numpy()"
   ]
  },
  {
   "cell_type": "code",
   "execution_count": null,
   "id": "e423aa48",
   "metadata": {
    "papermill": {
     "duration": null,
     "end_time": null,
     "exception": null,
     "start_time": null,
     "status": "pending"
    },
    "tags": []
   },
   "outputs": [],
   "source": [
    "sc.pp.pca(adata)\n",
    "sc.pp.neighbors(adata, use_rep=\"X_pca\")\n",
    "sc.tl.umap(adata)\n",
    "\n",
    "# Plot UMAP colored by cell type\n",
    "sc.pl.umap(\n",
    "    adata,\n",
    "    color=\"cell_type\",\n",
    "    title=\"UMAP of noisy data\",\n",
    "    frameon=False,\n",
    "    legend_fontsize=8,\n",
    "    palette=nadata.uns[\"cell_type_colors\"],\n",
    ")"
   ]
  },
  {
   "cell_type": "code",
   "execution_count": null,
   "id": "dad9a5c4",
   "metadata": {
    "papermill": {
     "duration": null,
     "end_time": null,
     "exception": null,
     "start_time": null,
     "status": "pending"
    },
    "tags": []
   },
   "outputs": [],
   "source": [
    "adata"
   ]
  },
  {
   "cell_type": "code",
   "execution_count": null,
   "id": "a07fd9d9",
   "metadata": {
    "papermill": {
     "duration": null,
     "end_time": null,
     "exception": null,
     "start_time": null,
     "status": "pending"
    },
    "tags": []
   },
   "outputs": [],
   "source": [
    "adata.layers[\"true\"].sum(1).mean(), adata.X.sum(1).mean()"
   ]
  },
  {
   "cell_type": "code",
   "execution_count": null,
   "id": "d48c6bfa",
   "metadata": {
    "papermill": {
     "duration": null,
     "end_time": null,
     "exception": null,
     "start_time": null,
     "status": "pending"
    },
    "tags": []
   },
   "outputs": [],
   "source": [
    "adata.obsm[\"X_pca\"] = sc.pp.pca(adata.layers[\"true\"])\n",
    "sc.pp.neighbors(adata, use_rep=\"X_pca\")\n",
    "sc.tl.umap(adata)\n",
    "\n",
    "# Plot UMAP colored by cell type\n",
    "sc.pl.umap(\n",
    "    adata,\n",
    "    color=\"cell_type\",\n",
    "    title=\"UMAP of ground truth data\",\n",
    "    frameon=False,\n",
    "    legend_fontsize=8,\n",
    "    palette=nadata.uns[\"cell_type_colors\"],\n",
    ")"
   ]
  },
  {
   "cell_type": "code",
   "execution_count": null,
   "id": "ec11c387",
   "metadata": {
    "papermill": {
     "duration": null,
     "end_time": null,
     "exception": null,
     "start_time": null,
     "status": "pending"
    },
    "tags": []
   },
   "outputs": [],
   "source": [
    "scprint vs magic (full vs rare)\n",
    "33.6 vs 37.7 - 28.2 vs 26.4\n",
    "30 vs 20 - 28.5 vs 17.5\n",
    "22.3 vs 23.5 - 23.4 vs 5.0"
   ]
  },
  {
   "cell_type": "markdown",
   "id": "458e4bea",
   "metadata": {
    "papermill": {
     "duration": null,
     "end_time": null,
     "exception": null,
     "start_time": null,
     "status": "pending"
    },
    "tags": []
   },
   "source": [
    "## with MAGIC rare cells"
   ]
  },
  {
   "cell_type": "code",
   "execution_count": null,
   "id": "63f05081",
   "metadata": {
    "papermill": {
     "duration": null,
     "end_time": null,
     "exception": null,
     "start_time": null,
     "status": "pending"
    },
    "tags": []
   },
   "outputs": [],
   "source": [
    "ct = \"pericyte\"\n",
    "subadata.obs.cell_type.value_counts()\n",
    "# microglial cell, microfold cell of epithelium of small intestine, mesangial cell, pericyte"
   ]
  },
  {
   "cell_type": "code",
   "execution_count": null,
   "id": "c1f58c6f",
   "metadata": {
    "papermill": {
     "duration": null,
     "end_time": null,
     "exception": null,
     "start_time": null,
     "status": "pending"
    },
    "tags": []
   },
   "outputs": [],
   "source": [
    "reco = denoised_adata[subadata.obs.cell_type == ct].X\n",
    "true = subadata[subadata.obs.cell_type == ct].layers[\"true\"].toarray()\n",
    "noisy = subadata[subadata.obs.cell_type == ct].X\n",
    "corr_coef, p_value = spearmanr(\n",
    "    np.vstack([reco[true != 0], noisy[true != 0], true[true != 0]]).T\n",
    ")\n",
    "{\n",
    "    \"reco2noisy\": corr_coef[0, 1],\n",
    "    \"reco2full\": corr_coef[0, 2],\n",
    "    \"noisy2full\": corr_coef[1, 2],\n",
    "}"
   ]
  },
  {
   "cell_type": "markdown",
   "id": "7984e733",
   "metadata": {
    "papermill": {
     "duration": null,
     "end_time": null,
     "exception": null,
     "start_time": null,
     "status": "pending"
    },
    "tags": []
   },
   "source": [
    "## scPRINT rare cells"
   ]
  },
  {
   "cell_type": "code",
   "execution_count": null,
   "id": "12d53c07",
   "metadata": {
    "papermill": {
     "duration": null,
     "end_time": null,
     "exception": null,
     "start_time": null,
     "status": "pending"
    },
    "tags": []
   },
   "outputs": [],
   "source": [
    "denoise = Denoiser(\n",
    "    batch_size=40,\n",
    "    max_len=5000,\n",
    "    max_cells=200,\n",
    "    doplot=False,\n",
    "    predict_depth_mult=6,\n",
    "    downsample=0.7,\n",
    "    how=\"most var\",\n",
    ")\n",
    "metrics, idx, genes, expr = denoise(model, adata[adata.obs.cell_type == ct])\n",
    "metrics"
   ]
  }
 ],
 "metadata": {
  "kernelspec": {
   "display_name": "scPRINT (.venv)",
   "language": "python",
   "name": "scprint-venv"
  },
  "papermill": {
   "default_parameters": {},
   "duration": 1410.493666,
   "end_time": "2025-09-12T14:52:56.001452",
   "environment_variables": {},
   "exception": true,
   "input_path": "denoising_V2.ipynb",
   "output_path": "denoising_V2.ipynb",
   "parameters": {},
   "start_time": "2025-09-12T14:29:25.507786",
   "version": "2.6.0"
  },
  "widgets": {
   "application/vnd.jupyter.widget-state+json": {
    "state": {
     "013042b0acf3477d840f8468402684f7": {
      "model_module": "@jupyter-widgets/controls",
      "model_module_version": "2.0.0",
      "model_name": "HTMLStyleModel",
      "state": {
       "_model_module": "@jupyter-widgets/controls",
       "_model_module_version": "2.0.0",
       "_model_name": "HTMLStyleModel",
       "_view_count": null,
       "_view_module": "@jupyter-widgets/base",
       "_view_module_version": "2.0.0",
       "_view_name": "StyleView",
       "background": null,
       "description_width": "",
       "font_size": null,
       "text_color": null
      }
     },
     "08944f309ab04c289639b8bb559ddd3a": {
      "model_module": "@jupyter-widgets/base",
      "model_module_version": "2.0.0",
      "model_name": "LayoutModel",
      "state": {
       "_model_module": "@jupyter-widgets/base",
       "_model_module_version": "2.0.0",
       "_model_name": "LayoutModel",
       "_view_count": null,
       "_view_module": "@jupyter-widgets/base",
       "_view_module_version": "2.0.0",
       "_view_name": "LayoutView",
       "align_content": null,
       "align_items": null,
       "align_self": null,
       "border_bottom": null,
       "border_left": null,
       "border_right": null,
       "border_top": null,
       "bottom": null,
       "display": null,
       "flex": null,
       "flex_flow": null,
       "grid_area": null,
       "grid_auto_columns": null,
       "grid_auto_flow": null,
       "grid_auto_rows": null,
       "grid_column": null,
       "grid_gap": null,
       "grid_row": null,
       "grid_template_areas": null,
       "grid_template_columns": null,
       "grid_template_rows": null,
       "height": null,
       "justify_content": null,
       "justify_items": null,
       "left": null,
       "margin": null,
       "max_height": null,
       "max_width": null,
       "min_height": null,
       "min_width": null,
       "object_fit": null,
       "object_position": null,
       "order": null,
       "overflow": null,
       "padding": null,
       "right": null,
       "top": null,
       "visibility": null,
       "width": null
      }
     },
     "1cbf19afe115406791771715cb3bcd99": {
      "model_module": "@jupyter-widgets/base",
      "model_module_version": "2.0.0",
      "model_name": "LayoutModel",
      "state": {
       "_model_module": "@jupyter-widgets/base",
       "_model_module_version": "2.0.0",
       "_model_name": "LayoutModel",
       "_view_count": null,
       "_view_module": "@jupyter-widgets/base",
       "_view_module_version": "2.0.0",
       "_view_name": "LayoutView",
       "align_content": null,
       "align_items": null,
       "align_self": null,
       "border_bottom": null,
       "border_left": null,
       "border_right": null,
       "border_top": null,
       "bottom": null,
       "display": null,
       "flex": null,
       "flex_flow": null,
       "grid_area": null,
       "grid_auto_columns": null,
       "grid_auto_flow": null,
       "grid_auto_rows": null,
       "grid_column": null,
       "grid_gap": null,
       "grid_row": null,
       "grid_template_areas": null,
       "grid_template_columns": null,
       "grid_template_rows": null,
       "height": null,
       "justify_content": null,
       "justify_items": null,
       "left": null,
       "margin": null,
       "max_height": null,
       "max_width": null,
       "min_height": null,
       "min_width": null,
       "object_fit": null,
       "object_position": null,
       "order": null,
       "overflow": null,
       "padding": null,
       "right": null,
       "top": null,
       "visibility": null,
       "width": null
      }
     },
     "1d21b5f84f74493fbba69ba0569eb008": {
      "model_module": "@jupyter-widgets/base",
      "model_module_version": "2.0.0",
      "model_name": "LayoutModel",
      "state": {
       "_model_module": "@jupyter-widgets/base",
       "_model_module_version": "2.0.0",
       "_model_name": "LayoutModel",
       "_view_count": null,
       "_view_module": "@jupyter-widgets/base",
       "_view_module_version": "2.0.0",
       "_view_name": "LayoutView",
       "align_content": null,
       "align_items": null,
       "align_self": null,
       "border_bottom": null,
       "border_left": null,
       "border_right": null,
       "border_top": null,
       "bottom": null,
       "display": null,
       "flex": null,
       "flex_flow": null,
       "grid_area": null,
       "grid_auto_columns": null,
       "grid_auto_flow": null,
       "grid_auto_rows": null,
       "grid_column": null,
       "grid_gap": null,
       "grid_row": null,
       "grid_template_areas": null,
       "grid_template_columns": null,
       "grid_template_rows": null,
       "height": null,
       "justify_content": null,
       "justify_items": null,
       "left": null,
       "margin": null,
       "max_height": null,
       "max_width": null,
       "min_height": null,
       "min_width": null,
       "object_fit": null,
       "object_position": null,
       "order": null,
       "overflow": null,
       "padding": null,
       "right": null,
       "top": null,
       "visibility": null,
       "width": null
      }
     },
     "218ece807e7d431d96cf78c27df34dec": {
      "model_module": "@jupyter-widgets/controls",
      "model_module_version": "2.0.0",
      "model_name": "HTMLStyleModel",
      "state": {
       "_model_module": "@jupyter-widgets/controls",
       "_model_module_version": "2.0.0",
       "_model_name": "HTMLStyleModel",
       "_view_count": null,
       "_view_module": "@jupyter-widgets/base",
       "_view_module_version": "2.0.0",
       "_view_name": "StyleView",
       "background": null,
       "description_width": "",
       "font_size": null,
       "text_color": null
      }
     },
     "26865b2e9c6a455b978be742d0b2c057": {
      "model_module": "@jupyter-widgets/controls",
      "model_module_version": "2.0.0",
      "model_name": "ProgressStyleModel",
      "state": {
       "_model_module": "@jupyter-widgets/controls",
       "_model_module_version": "2.0.0",
       "_model_name": "ProgressStyleModel",
       "_view_count": null,
       "_view_module": "@jupyter-widgets/base",
       "_view_module_version": "2.0.0",
       "_view_name": "StyleView",
       "bar_color": null,
       "description_width": ""
      }
     },
     "2bf756549e3c4606bb274baf1d057985": {
      "model_module": "@jupyter-widgets/controls",
      "model_module_version": "2.0.0",
      "model_name": "HTMLStyleModel",
      "state": {
       "_model_module": "@jupyter-widgets/controls",
       "_model_module_version": "2.0.0",
       "_model_name": "HTMLStyleModel",
       "_view_count": null,
       "_view_module": "@jupyter-widgets/base",
       "_view_module_version": "2.0.0",
       "_view_name": "StyleView",
       "background": null,
       "description_width": "",
       "font_size": null,
       "text_color": null
      }
     },
     "3999a460b071444ab7b549775f2564d5": {
      "model_module": "@jupyter-widgets/controls",
      "model_module_version": "2.0.0",
      "model_name": "HTMLModel",
      "state": {
       "_dom_classes": [],
       "_model_module": "@jupyter-widgets/controls",
       "_model_module_version": "2.0.0",
       "_model_name": "HTMLModel",
       "_view_count": null,
       "_view_module": "@jupyter-widgets/controls",
       "_view_module_version": "2.0.0",
       "_view_name": "HTMLView",
       "description": "",
       "description_allow_html": false,
       "layout": "IPY_MODEL_bd25bffeb38743c39f3d660b87729045",
       "placeholder": "​",
       "style": "IPY_MODEL_013042b0acf3477d840f8468402684f7",
       "tabbable": null,
       "tooltip": null,
       "value": " 396M/396M [00:14&lt;00:00, 30.5MB/s]"
      }
     },
     "3fbb92f8b51a440f94cdb50e537f1681": {
      "model_module": "@jupyter-widgets/controls",
      "model_module_version": "2.0.0",
      "model_name": "ProgressStyleModel",
      "state": {
       "_model_module": "@jupyter-widgets/controls",
       "_model_module_version": "2.0.0",
       "_model_name": "ProgressStyleModel",
       "_view_count": null,
       "_view_module": "@jupyter-widgets/base",
       "_view_module_version": "2.0.0",
       "_view_name": "StyleView",
       "bar_color": null,
       "description_width": ""
      }
     },
     "45f681e049a84158b6753112873ef5d0": {
      "model_module": "@jupyter-widgets/controls",
      "model_module_version": "2.0.0",
      "model_name": "HBoxModel",
      "state": {
       "_dom_classes": [],
       "_model_module": "@jupyter-widgets/controls",
       "_model_module_version": "2.0.0",
       "_model_name": "HBoxModel",
       "_view_count": null,
       "_view_module": "@jupyter-widgets/controls",
       "_view_module_version": "2.0.0",
       "_view_name": "HBoxView",
       "box_style": "",
       "children": [
        "IPY_MODEL_6356a3496efa43bd87b825c43d687561",
        "IPY_MODEL_fba734b5e9e049cf8400e3d3d342a997",
        "IPY_MODEL_3999a460b071444ab7b549775f2564d5"
       ],
       "layout": "IPY_MODEL_8413673089794985956ec51ffc6ab28a",
       "tabbable": null,
       "tooltip": null
      }
     },
     "5c68ceb0e6844a35a464fde5f4fb923b": {
      "model_module": "@jupyter-widgets/base",
      "model_module_version": "2.0.0",
      "model_name": "LayoutModel",
      "state": {
       "_model_module": "@jupyter-widgets/base",
       "_model_module_version": "2.0.0",
       "_model_name": "LayoutModel",
       "_view_count": null,
       "_view_module": "@jupyter-widgets/base",
       "_view_module_version": "2.0.0",
       "_view_name": "LayoutView",
       "align_content": null,
       "align_items": null,
       "align_self": null,
       "border_bottom": null,
       "border_left": null,
       "border_right": null,
       "border_top": null,
       "bottom": null,
       "display": null,
       "flex": null,
       "flex_flow": null,
       "grid_area": null,
       "grid_auto_columns": null,
       "grid_auto_flow": null,
       "grid_auto_rows": null,
       "grid_column": null,
       "grid_gap": null,
       "grid_row": null,
       "grid_template_areas": null,
       "grid_template_columns": null,
       "grid_template_rows": null,
       "height": null,
       "justify_content": null,
       "justify_items": null,
       "left": null,
       "margin": null,
       "max_height": null,
       "max_width": null,
       "min_height": null,
       "min_width": null,
       "object_fit": null,
       "object_position": null,
       "order": null,
       "overflow": null,
       "padding": null,
       "right": null,
       "top": null,
       "visibility": null,
       "width": null
      }
     },
     "6356a3496efa43bd87b825c43d687561": {
      "model_module": "@jupyter-widgets/controls",
      "model_module_version": "2.0.0",
      "model_name": "HTMLModel",
      "state": {
       "_dom_classes": [],
       "_model_module": "@jupyter-widgets/controls",
       "_model_module_version": "2.0.0",
       "_model_name": "HTMLModel",
       "_view_count": null,
       "_view_module": "@jupyter-widgets/controls",
       "_view_module_version": "2.0.0",
       "_view_name": "HTMLView",
       "description": "",
       "description_allow_html": false,
       "layout": "IPY_MODEL_1d21b5f84f74493fbba69ba0569eb008",
       "placeholder": "​",
       "style": "IPY_MODEL_fe1e86f59204474fbeed0fd41b6b72ae",
       "tabbable": null,
       "tooltip": null,
       "value": "100%"
      }
     },
     "6b2397e8759443539410436b491ae3a9": {
      "model_module": "@jupyter-widgets/controls",
      "model_module_version": "2.0.0",
      "model_name": "HTMLModel",
      "state": {
       "_dom_classes": [],
       "_model_module": "@jupyter-widgets/controls",
       "_model_module_version": "2.0.0",
       "_model_name": "HTMLModel",
       "_view_count": null,
       "_view_module": "@jupyter-widgets/controls",
       "_view_module_version": "2.0.0",
       "_view_name": "HTMLView",
       "description": "",
       "description_allow_html": false,
       "layout": "IPY_MODEL_1cbf19afe115406791771715cb3bcd99",
       "placeholder": "​",
       "style": "IPY_MODEL_218ece807e7d431d96cf78c27df34dec",
       "tabbable": null,
       "tooltip": null,
       "value": "100%"
      }
     },
     "7ac50b57fe2145be89b7360e54d778f5": {
      "model_module": "@jupyter-widgets/controls",
      "model_module_version": "2.0.0",
      "model_name": "HTMLStyleModel",
      "state": {
       "_model_module": "@jupyter-widgets/controls",
       "_model_module_version": "2.0.0",
       "_model_name": "HTMLStyleModel",
       "_view_count": null,
       "_view_module": "@jupyter-widgets/base",
       "_view_module_version": "2.0.0",
       "_view_name": "StyleView",
       "background": null,
       "description_width": "",
       "font_size": null,
       "text_color": null
      }
     },
     "8262326699704dd8ad09fbcc793fb166": {
      "model_module": "@jupyter-widgets/base",
      "model_module_version": "2.0.0",
      "model_name": "LayoutModel",
      "state": {
       "_model_module": "@jupyter-widgets/base",
       "_model_module_version": "2.0.0",
       "_model_name": "LayoutModel",
       "_view_count": null,
       "_view_module": "@jupyter-widgets/base",
       "_view_module_version": "2.0.0",
       "_view_name": "LayoutView",
       "align_content": null,
       "align_items": null,
       "align_self": null,
       "border_bottom": null,
       "border_left": null,
       "border_right": null,
       "border_top": null,
       "bottom": null,
       "display": null,
       "flex": null,
       "flex_flow": null,
       "grid_area": null,
       "grid_auto_columns": null,
       "grid_auto_flow": null,
       "grid_auto_rows": null,
       "grid_column": null,
       "grid_gap": null,
       "grid_row": null,
       "grid_template_areas": null,
       "grid_template_columns": null,
       "grid_template_rows": null,
       "height": null,
       "justify_content": null,
       "justify_items": null,
       "left": null,
       "margin": null,
       "max_height": null,
       "max_width": null,
       "min_height": null,
       "min_width": null,
       "object_fit": null,
       "object_position": null,
       "order": null,
       "overflow": null,
       "padding": null,
       "right": null,
       "top": null,
       "visibility": null,
       "width": null
      }
     },
     "8413673089794985956ec51ffc6ab28a": {
      "model_module": "@jupyter-widgets/base",
      "model_module_version": "2.0.0",
      "model_name": "LayoutModel",
      "state": {
       "_model_module": "@jupyter-widgets/base",
       "_model_module_version": "2.0.0",
       "_model_name": "LayoutModel",
       "_view_count": null,
       "_view_module": "@jupyter-widgets/base",
       "_view_module_version": "2.0.0",
       "_view_name": "LayoutView",
       "align_content": null,
       "align_items": null,
       "align_self": null,
       "border_bottom": null,
       "border_left": null,
       "border_right": null,
       "border_top": null,
       "bottom": null,
       "display": null,
       "flex": null,
       "flex_flow": null,
       "grid_area": null,
       "grid_auto_columns": null,
       "grid_auto_flow": null,
       "grid_auto_rows": null,
       "grid_column": null,
       "grid_gap": null,
       "grid_row": null,
       "grid_template_areas": null,
       "grid_template_columns": null,
       "grid_template_rows": null,
       "height": null,
       "justify_content": null,
       "justify_items": null,
       "left": null,
       "margin": null,
       "max_height": null,
       "max_width": null,
       "min_height": null,
       "min_width": null,
       "object_fit": null,
       "object_position": null,
       "order": null,
       "overflow": null,
       "padding": null,
       "right": null,
       "top": null,
       "visibility": null,
       "width": null
      }
     },
     "851eef83ce914e0793354de4a137083a": {
      "model_module": "@jupyter-widgets/controls",
      "model_module_version": "2.0.0",
      "model_name": "ProgressStyleModel",
      "state": {
       "_model_module": "@jupyter-widgets/controls",
       "_model_module_version": "2.0.0",
       "_model_name": "ProgressStyleModel",
       "_view_count": null,
       "_view_module": "@jupyter-widgets/base",
       "_view_module_version": "2.0.0",
       "_view_name": "StyleView",
       "bar_color": null,
       "description_width": ""
      }
     },
     "87d5bf48549e440785af61da97800eb1": {
      "model_module": "@jupyter-widgets/controls",
      "model_module_version": "2.0.0",
      "model_name": "HTMLModel",
      "state": {
       "_dom_classes": [],
       "_model_module": "@jupyter-widgets/controls",
       "_model_module_version": "2.0.0",
       "_model_name": "HTMLModel",
       "_view_count": null,
       "_view_module": "@jupyter-widgets/controls",
       "_view_module_version": "2.0.0",
       "_view_name": "HTMLView",
       "description": "",
       "description_allow_html": false,
       "layout": "IPY_MODEL_e10f7c2e22f74fae92363ab9121da73b",
       "placeholder": "​",
       "style": "IPY_MODEL_b5b19097e721491c840d5668a750e6e3",
       "tabbable": null,
       "tooltip": null,
       "value": "100%"
      }
     },
     "8a265c7957664c7f9d7fa52d4dad2c5e": {
      "model_module": "@jupyter-widgets/base",
      "model_module_version": "2.0.0",
      "model_name": "LayoutModel",
      "state": {
       "_model_module": "@jupyter-widgets/base",
       "_model_module_version": "2.0.0",
       "_model_name": "LayoutModel",
       "_view_count": null,
       "_view_module": "@jupyter-widgets/base",
       "_view_module_version": "2.0.0",
       "_view_name": "LayoutView",
       "align_content": null,
       "align_items": null,
       "align_self": null,
       "border_bottom": null,
       "border_left": null,
       "border_right": null,
       "border_top": null,
       "bottom": null,
       "display": null,
       "flex": null,
       "flex_flow": null,
       "grid_area": null,
       "grid_auto_columns": null,
       "grid_auto_flow": null,
       "grid_auto_rows": null,
       "grid_column": null,
       "grid_gap": null,
       "grid_row": null,
       "grid_template_areas": null,
       "grid_template_columns": null,
       "grid_template_rows": null,
       "height": null,
       "justify_content": null,
       "justify_items": null,
       "left": null,
       "margin": null,
       "max_height": null,
       "max_width": null,
       "min_height": null,
       "min_width": null,
       "object_fit": null,
       "object_position": null,
       "order": null,
       "overflow": null,
       "padding": null,
       "right": null,
       "top": null,
       "visibility": null,
       "width": null
      }
     },
     "908244e53304402b9e89203fdcde69ae": {
      "model_module": "@jupyter-widgets/base",
      "model_module_version": "2.0.0",
      "model_name": "LayoutModel",
      "state": {
       "_model_module": "@jupyter-widgets/base",
       "_model_module_version": "2.0.0",
       "_model_name": "LayoutModel",
       "_view_count": null,
       "_view_module": "@jupyter-widgets/base",
       "_view_module_version": "2.0.0",
       "_view_name": "LayoutView",
       "align_content": null,
       "align_items": null,
       "align_self": null,
       "border_bottom": null,
       "border_left": null,
       "border_right": null,
       "border_top": null,
       "bottom": null,
       "display": null,
       "flex": null,
       "flex_flow": null,
       "grid_area": null,
       "grid_auto_columns": null,
       "grid_auto_flow": null,
       "grid_auto_rows": null,
       "grid_column": null,
       "grid_gap": null,
       "grid_row": null,
       "grid_template_areas": null,
       "grid_template_columns": null,
       "grid_template_rows": null,
       "height": null,
       "justify_content": null,
       "justify_items": null,
       "left": null,
       "margin": null,
       "max_height": null,
       "max_width": null,
       "min_height": null,
       "min_width": null,
       "object_fit": null,
       "object_position": null,
       "order": null,
       "overflow": null,
       "padding": null,
       "right": null,
       "top": null,
       "visibility": null,
       "width": null
      }
     },
     "9d809f5bd58846bd8c074287fee8dbc8": {
      "model_module": "@jupyter-widgets/controls",
      "model_module_version": "2.0.0",
      "model_name": "HTMLModel",
      "state": {
       "_dom_classes": [],
       "_model_module": "@jupyter-widgets/controls",
       "_model_module_version": "2.0.0",
       "_model_name": "HTMLModel",
       "_view_count": null,
       "_view_module": "@jupyter-widgets/controls",
       "_view_module_version": "2.0.0",
       "_view_name": "HTMLView",
       "description": "",
       "description_allow_html": false,
       "layout": "IPY_MODEL_af746205e77d46aabe46f4beb1cd0250",
       "placeholder": "​",
       "style": "IPY_MODEL_2bf756549e3c4606bb274baf1d057985",
       "tabbable": null,
       "tooltip": null,
       "value": " 31.9M/31.9M [00:01&lt;00:00, 28.2MB/s]"
      }
     },
     "a24e3017d891498f98bebf01a8f89d2d": {
      "model_module": "@jupyter-widgets/controls",
      "model_module_version": "2.0.0",
      "model_name": "HTMLModel",
      "state": {
       "_dom_classes": [],
       "_model_module": "@jupyter-widgets/controls",
       "_model_module_version": "2.0.0",
       "_model_name": "HTMLModel",
       "_view_count": null,
       "_view_module": "@jupyter-widgets/controls",
       "_view_module_version": "2.0.0",
       "_view_name": "HTMLView",
       "description": "",
       "description_allow_html": false,
       "layout": "IPY_MODEL_908244e53304402b9e89203fdcde69ae",
       "placeholder": "​",
       "style": "IPY_MODEL_7ac50b57fe2145be89b7360e54d778f5",
       "tabbable": null,
       "tooltip": null,
       "value": " 179M/179M [00:06&lt;00:00, 31.2MB/s]"
      }
     },
     "a4ef01081a9643678d974d518abed9e0": {
      "model_module": "@jupyter-widgets/controls",
      "model_module_version": "2.0.0",
      "model_name": "HBoxModel",
      "state": {
       "_dom_classes": [],
       "_model_module": "@jupyter-widgets/controls",
       "_model_module_version": "2.0.0",
       "_model_name": "HBoxModel",
       "_view_count": null,
       "_view_module": "@jupyter-widgets/controls",
       "_view_module_version": "2.0.0",
       "_view_name": "HBoxView",
       "box_style": "",
       "children": [
        "IPY_MODEL_87d5bf48549e440785af61da97800eb1",
        "IPY_MODEL_d4293278f26841ae855db81441df2613",
        "IPY_MODEL_a24e3017d891498f98bebf01a8f89d2d"
       ],
       "layout": "IPY_MODEL_8a265c7957664c7f9d7fa52d4dad2c5e",
       "tabbable": null,
       "tooltip": null
      }
     },
     "af746205e77d46aabe46f4beb1cd0250": {
      "model_module": "@jupyter-widgets/base",
      "model_module_version": "2.0.0",
      "model_name": "LayoutModel",
      "state": {
       "_model_module": "@jupyter-widgets/base",
       "_model_module_version": "2.0.0",
       "_model_name": "LayoutModel",
       "_view_count": null,
       "_view_module": "@jupyter-widgets/base",
       "_view_module_version": "2.0.0",
       "_view_name": "LayoutView",
       "align_content": null,
       "align_items": null,
       "align_self": null,
       "border_bottom": null,
       "border_left": null,
       "border_right": null,
       "border_top": null,
       "bottom": null,
       "display": null,
       "flex": null,
       "flex_flow": null,
       "grid_area": null,
       "grid_auto_columns": null,
       "grid_auto_flow": null,
       "grid_auto_rows": null,
       "grid_column": null,
       "grid_gap": null,
       "grid_row": null,
       "grid_template_areas": null,
       "grid_template_columns": null,
       "grid_template_rows": null,
       "height": null,
       "justify_content": null,
       "justify_items": null,
       "left": null,
       "margin": null,
       "max_height": null,
       "max_width": null,
       "min_height": null,
       "min_width": null,
       "object_fit": null,
       "object_position": null,
       "order": null,
       "overflow": null,
       "padding": null,
       "right": null,
       "top": null,
       "visibility": null,
       "width": null
      }
     },
     "b0d2d6b4f7a246dfaef38b7a26aef67d": {
      "model_module": "@jupyter-widgets/controls",
      "model_module_version": "2.0.0",
      "model_name": "FloatProgressModel",
      "state": {
       "_dom_classes": [],
       "_model_module": "@jupyter-widgets/controls",
       "_model_module_version": "2.0.0",
       "_model_name": "FloatProgressModel",
       "_view_count": null,
       "_view_module": "@jupyter-widgets/controls",
       "_view_module_version": "2.0.0",
       "_view_name": "ProgressView",
       "bar_style": "success",
       "description": "",
       "description_allow_html": false,
       "layout": "IPY_MODEL_bad578ff25c1499eb4e191b3ed918941",
       "max": 33483052,
       "min": 0,
       "orientation": "horizontal",
       "style": "IPY_MODEL_26865b2e9c6a455b978be742d0b2c057",
       "tabbable": null,
       "tooltip": null,
       "value": 33483052
      }
     },
     "b5b19097e721491c840d5668a750e6e3": {
      "model_module": "@jupyter-widgets/controls",
      "model_module_version": "2.0.0",
      "model_name": "HTMLStyleModel",
      "state": {
       "_model_module": "@jupyter-widgets/controls",
       "_model_module_version": "2.0.0",
       "_model_name": "HTMLStyleModel",
       "_view_count": null,
       "_view_module": "@jupyter-widgets/base",
       "_view_module_version": "2.0.0",
       "_view_name": "StyleView",
       "background": null,
       "description_width": "",
       "font_size": null,
       "text_color": null
      }
     },
     "bad578ff25c1499eb4e191b3ed918941": {
      "model_module": "@jupyter-widgets/base",
      "model_module_version": "2.0.0",
      "model_name": "LayoutModel",
      "state": {
       "_model_module": "@jupyter-widgets/base",
       "_model_module_version": "2.0.0",
       "_model_name": "LayoutModel",
       "_view_count": null,
       "_view_module": "@jupyter-widgets/base",
       "_view_module_version": "2.0.0",
       "_view_name": "LayoutView",
       "align_content": null,
       "align_items": null,
       "align_self": null,
       "border_bottom": null,
       "border_left": null,
       "border_right": null,
       "border_top": null,
       "bottom": null,
       "display": null,
       "flex": null,
       "flex_flow": null,
       "grid_area": null,
       "grid_auto_columns": null,
       "grid_auto_flow": null,
       "grid_auto_rows": null,
       "grid_column": null,
       "grid_gap": null,
       "grid_row": null,
       "grid_template_areas": null,
       "grid_template_columns": null,
       "grid_template_rows": null,
       "height": null,
       "justify_content": null,
       "justify_items": null,
       "left": null,
       "margin": null,
       "max_height": null,
       "max_width": null,
       "min_height": null,
       "min_width": null,
       "object_fit": null,
       "object_position": null,
       "order": null,
       "overflow": null,
       "padding": null,
       "right": null,
       "top": null,
       "visibility": null,
       "width": null
      }
     },
     "bd25bffeb38743c39f3d660b87729045": {
      "model_module": "@jupyter-widgets/base",
      "model_module_version": "2.0.0",
      "model_name": "LayoutModel",
      "state": {
       "_model_module": "@jupyter-widgets/base",
       "_model_module_version": "2.0.0",
       "_model_name": "LayoutModel",
       "_view_count": null,
       "_view_module": "@jupyter-widgets/base",
       "_view_module_version": "2.0.0",
       "_view_name": "LayoutView",
       "align_content": null,
       "align_items": null,
       "align_self": null,
       "border_bottom": null,
       "border_left": null,
       "border_right": null,
       "border_top": null,
       "bottom": null,
       "display": null,
       "flex": null,
       "flex_flow": null,
       "grid_area": null,
       "grid_auto_columns": null,
       "grid_auto_flow": null,
       "grid_auto_rows": null,
       "grid_column": null,
       "grid_gap": null,
       "grid_row": null,
       "grid_template_areas": null,
       "grid_template_columns": null,
       "grid_template_rows": null,
       "height": null,
       "justify_content": null,
       "justify_items": null,
       "left": null,
       "margin": null,
       "max_height": null,
       "max_width": null,
       "min_height": null,
       "min_width": null,
       "object_fit": null,
       "object_position": null,
       "order": null,
       "overflow": null,
       "padding": null,
       "right": null,
       "top": null,
       "visibility": null,
       "width": null
      }
     },
     "d4293278f26841ae855db81441df2613": {
      "model_module": "@jupyter-widgets/controls",
      "model_module_version": "2.0.0",
      "model_name": "FloatProgressModel",
      "state": {
       "_dom_classes": [],
       "_model_module": "@jupyter-widgets/controls",
       "_model_module_version": "2.0.0",
       "_model_name": "FloatProgressModel",
       "_view_count": null,
       "_view_module": "@jupyter-widgets/controls",
       "_view_module_version": "2.0.0",
       "_view_name": "ProgressView",
       "bar_style": "success",
       "description": "",
       "description_allow_html": false,
       "layout": "IPY_MODEL_08944f309ab04c289639b8bb559ddd3a",
       "max": 187868736,
       "min": 0,
       "orientation": "horizontal",
       "style": "IPY_MODEL_3fbb92f8b51a440f94cdb50e537f1681",
       "tabbable": null,
       "tooltip": null,
       "value": 187868736
      }
     },
     "d817ce5228e34b118371d5105d6c9c7a": {
      "model_module": "@jupyter-widgets/controls",
      "model_module_version": "2.0.0",
      "model_name": "HBoxModel",
      "state": {
       "_dom_classes": [],
       "_model_module": "@jupyter-widgets/controls",
       "_model_module_version": "2.0.0",
       "_model_name": "HBoxModel",
       "_view_count": null,
       "_view_module": "@jupyter-widgets/controls",
       "_view_module_version": "2.0.0",
       "_view_name": "HBoxView",
       "box_style": "",
       "children": [
        "IPY_MODEL_6b2397e8759443539410436b491ae3a9",
        "IPY_MODEL_b0d2d6b4f7a246dfaef38b7a26aef67d",
        "IPY_MODEL_9d809f5bd58846bd8c074287fee8dbc8"
       ],
       "layout": "IPY_MODEL_8262326699704dd8ad09fbcc793fb166",
       "tabbable": null,
       "tooltip": null
      }
     },
     "e10f7c2e22f74fae92363ab9121da73b": {
      "model_module": "@jupyter-widgets/base",
      "model_module_version": "2.0.0",
      "model_name": "LayoutModel",
      "state": {
       "_model_module": "@jupyter-widgets/base",
       "_model_module_version": "2.0.0",
       "_model_name": "LayoutModel",
       "_view_count": null,
       "_view_module": "@jupyter-widgets/base",
       "_view_module_version": "2.0.0",
       "_view_name": "LayoutView",
       "align_content": null,
       "align_items": null,
       "align_self": null,
       "border_bottom": null,
       "border_left": null,
       "border_right": null,
       "border_top": null,
       "bottom": null,
       "display": null,
       "flex": null,
       "flex_flow": null,
       "grid_area": null,
       "grid_auto_columns": null,
       "grid_auto_flow": null,
       "grid_auto_rows": null,
       "grid_column": null,
       "grid_gap": null,
       "grid_row": null,
       "grid_template_areas": null,
       "grid_template_columns": null,
       "grid_template_rows": null,
       "height": null,
       "justify_content": null,
       "justify_items": null,
       "left": null,
       "margin": null,
       "max_height": null,
       "max_width": null,
       "min_height": null,
       "min_width": null,
       "object_fit": null,
       "object_position": null,
       "order": null,
       "overflow": null,
       "padding": null,
       "right": null,
       "top": null,
       "visibility": null,
       "width": null
      }
     },
     "fba734b5e9e049cf8400e3d3d342a997": {
      "model_module": "@jupyter-widgets/controls",
      "model_module_version": "2.0.0",
      "model_name": "FloatProgressModel",
      "state": {
       "_dom_classes": [],
       "_model_module": "@jupyter-widgets/controls",
       "_model_module_version": "2.0.0",
       "_model_name": "FloatProgressModel",
       "_view_count": null,
       "_view_module": "@jupyter-widgets/controls",
       "_view_module_version": "2.0.0",
       "_view_name": "ProgressView",
       "bar_style": "success",
       "description": "",
       "description_allow_html": false,
       "layout": "IPY_MODEL_5c68ceb0e6844a35a464fde5f4fb923b",
       "max": 415053119,
       "min": 0,
       "orientation": "horizontal",
       "style": "IPY_MODEL_851eef83ce914e0793354de4a137083a",
       "tabbable": null,
       "tooltip": null,
       "value": 415053119
      }
     },
     "fe1e86f59204474fbeed0fd41b6b72ae": {
      "model_module": "@jupyter-widgets/controls",
      "model_module_version": "2.0.0",
      "model_name": "HTMLStyleModel",
      "state": {
       "_model_module": "@jupyter-widgets/controls",
       "_model_module_version": "2.0.0",
       "_model_name": "HTMLStyleModel",
       "_view_count": null,
       "_view_module": "@jupyter-widgets/base",
       "_view_module_version": "2.0.0",
       "_view_name": "StyleView",
       "background": null,
       "description_width": "",
       "font_size": null,
       "text_color": null
      }
     }
    },
    "version_major": 2,
    "version_minor": 0
   }
  }
 },
 "nbformat": 4,
 "nbformat_minor": 5
}
