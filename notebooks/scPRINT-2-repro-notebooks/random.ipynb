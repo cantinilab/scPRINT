{
 "cells": [
  {
   "cell_type": "code",
   "execution_count": null,
   "id": "81d8805e",
   "metadata": {},
   "outputs": [],
   "source": []
  },
  {
   "cell_type": "code",
   "execution_count": 1,
   "id": "5a3d1953",
   "metadata": {},
   "outputs": [
    {
     "name": "stdout",
     "output_type": "stream",
     "text": [
      "\u001b[92m→\u001b[0m connected lamindb: jkobject/scprint_v2\n"
     ]
    }
   ],
   "source": [
    "#! lamin init --storage ./lamin-intro --schema bionty\n",
    "\n",
    "import scanpy as sc\n",
    "from scprint import scPrint\n",
    "from scdataloader import Preprocessor\n",
    "from scdataloader.utils import load_genes\n",
    "import numpy as np\n",
    "import anndata as ad\n",
    "from huggingface_hub import hf_hub_download\n",
    "\n",
    "from scprint.tasks import Denoiser, withknn\n",
    "from scprint.model.utils import downsample_profile\n",
    "from scipy.stats import spearmanr\n",
    "from anndata import AnnData\n",
    "\n",
    "%load_ext autoreload\n",
    "%autoreload 2\n",
    "\n",
    "import torch\n",
    "\n",
    "torch.set_float32_matmul_precision(\"medium\")"
   ]
  },
  {
   "cell_type": "code",
   "execution_count": 2,
   "id": "e3d671b6",
   "metadata": {},
   "outputs": [],
   "source": [
    "# model_checkpoint_file = hf_hub_download(\n",
    "#    repo_id=\"jkobject/scPRINT\", filename=f\"v2-medium.ckpt\"\n",
    "# )\n",
    "# model_checkpoint_file = ../data/\n",
    "model_checkpoint_file = \"../../../w937u4o1.ckpt\"\n",
    "# w937u4o1"
   ]
  },
  {
   "cell_type": "code",
   "execution_count": 3,
   "id": "16e859f7",
   "metadata": {},
   "outputs": [
    {
     "name": "stdout",
     "output_type": "stream",
     "text": [
      "label decoders have changed, be careful\n",
      "FYI: scPrint is not attached to a `Trainer`.\n"
     ]
    }
   ],
   "source": [
    "model = scPrint.load_from_checkpoint(model_checkpoint_file, precpt_gene_emb=None)"
   ]
  }
 ],
 "metadata": {
  "kernelspec": {
   "display_name": "scprnt3",
   "language": "python",
   "name": "python3"
  },
  "language_info": {
   "codemirror_mode": {
    "name": "ipython",
    "version": 3
   },
   "file_extension": ".py",
   "mimetype": "text/x-python",
   "name": "python",
   "nbconvert_exporter": "python",
   "pygments_lexer": "ipython3",
   "version": "3.11.11"
  }
 },
 "nbformat": 4,
 "nbformat_minor": 5
}
