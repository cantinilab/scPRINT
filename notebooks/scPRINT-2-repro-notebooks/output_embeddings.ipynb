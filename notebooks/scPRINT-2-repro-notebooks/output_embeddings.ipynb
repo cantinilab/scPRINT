{
 "cells": [
  {
   "cell_type": "markdown",
   "id": "3921bd86",
   "metadata": {},
   "source": [
    "# generating embeddings with model trained with cls-pooling vs Xpressor layers"
   ]
  },
  {
   "cell_type": "code",
   "execution_count": null,
   "id": "9684f5f1",
   "metadata": {},
   "outputs": [
    {
     "name": "stderr",
     "output_type": "stream",
     "text": [
      "/home/ml4ig1/Documents code/scPRINT/.venv/lib/python3.12/site-packages/louvain/__init__.py:54: UserWarning: pkg_resources is deprecated as an API. See https://setuptools.pypa.io/en/latest/pkg_resources.html. The pkg_resources package is slated for removal as early as 2025-11-30. Refrain from using this package or pin to Setuptools<81.\n",
      "  from pkg_resources import get_distribution, DistributionNotFound\n"
     ]
    },
    {
     "name": "stdout",
     "output_type": "stream",
     "text": [
      "\u001b[92m→\u001b[0m connected lamindb: jkobject/scprint_v2\n"
     ]
    }
   ],
   "source": [
    "#! lamin init --storage ./lamin-intro --schema bionty\n",
    "\n",
    "import scanpy as sc\n",
    "from scprint import scPrint\n",
    "from scprint.tasks import extract_gene_embeddings\n",
    "from scdataloader import Preprocessor\n",
    "from scdataloader.utils import load_genes\n",
    "import numpy as np\n",
    "import anndata as ad\n",
    "from huggingface_hub import hf_hub_download\n",
    "\n",
    "from scipy.stats import spearmanr\n",
    "from anndata import AnnData\n",
    "\n",
    "%load_ext autoreload\n",
    "%autoreload 2\n",
    "\n",
    "import torch\n",
    "\n",
    "torch.set_float32_matmul_precision(\"medium\")\n",
    "\n",
    "\n",
    "LOC = \"../..data/temp/\"  #"
   ]
  },
  {
   "cell_type": "code",
   "execution_count": null,
   "id": "ccbfa8db",
   "metadata": {},
   "outputs": [
    {
     "name": "stdout",
     "output_type": "stream",
     "text": [
      "\n",
      "388362.5\n",
      "Dropping layers:  KeysView(Layers with keys: )\n",
      "checking raw counts\n",
      "removed 0 non primary cells, 3589 renamining\n",
      "filtered out 22 cells, 3567 renamining\n",
      "Removed 7 genes not known to the ontology\n",
      "Removed 0 duplicate genes\n",
      "Added 48469 genes in the ontology but not present in the dataset\n",
      "starting QC\n",
      "Seeing 71 outliers (1.99% of total dataset):\n",
      "done\n",
      "AnnData object with n_obs × n_vars = 3567 × 70611\n",
      "    obs: 'Sample.type', 'Selection', 'Location', 'Sample.name', 'Total_reads', 'Unique_reads', 'Unique_reads_percent', 'Splice_sites_total', 'Splice_sites_Annotated', 'Splice_sites_GT.AG', 'Splice_sites_GC.AG', 'Splice_sites_AT.AC', 'Splice_sites_non_canonical', 'Multimapping_reads_percent', 'Unmapped_mismatch', 'Unmapped_short', 'Unmapped_other', 'ERCC_reads', 'Non_ERCC_reads', 'ERCC_to_non_ERCC', 'Genes_detected', 'housekeeping_cluster', 'Cluster_2d', 'Cluster_2d_color', 'tissue_ontology_term_id', 'assay_ontology_term_id', 'disease_ontology_term_id', 'cell_type_ontology_term_id', 'self_reported_ethnicity_ontology_term_id', 'development_stage_ontology_term_id', 'sex_ontology_term_id', 'is_primary_data', 'organism_ontology_term_id', 'donor_id', 'suspension_type', 'tissue_type', 'cell_type', 'assay', 'disease', 'organism', 'sex', 'tissue', 'self_reported_ethnicity', 'development_stage', 'observation_joinid', 'nnz', 'n_genes', 'n_genes_by_counts', 'log1p_n_genes_by_counts', 'total_counts', 'log1p_total_counts', 'pct_counts_in_top_20_genes', 'total_counts_mt', 'log1p_total_counts_mt', 'pct_counts_mt', 'total_counts_ribo', 'log1p_total_counts_ribo', 'pct_counts_ribo', 'total_counts_hb', 'log1p_total_counts_hb', 'pct_counts_hb', 'outlier', 'mt_outlier'\n",
      "    var: 'feature_is_filtered', 'feature_name', 'feature_reference', 'feature_biotype', 'feature_length', 'feature_type', 'uid', 'symbol', 'biotype', 'organism_id', 'branch_id', 'mt', 'ribo', 'hb', 'organism', 'ensembl_gene_id', 'n_cells_by_counts', 'mean_counts', 'log1p_mean_counts', 'pct_dropout_by_counts', 'total_counts', 'log1p_total_counts'\n",
      "    uns: 'unseen_genes'\n"
     ]
    }
   ],
   "source": [
    "adata = sc.read(\n",
    "    LOC + \"glio_smart_highdepth\" + \".h5ad\",\n",
    "    backup_url=\"https://datasets.cellxgene.cziscience.com/6ec440b4-542a-4022-ac01-56f812e25593.h5ad\",\n",
    ")\n",
    "\n",
    "max_len = 4000 if adata.X.sum(1).mean() < 10_000 else 8000\n",
    "preprocessor = Preprocessor(\n",
    "    force_preprocess=True,\n",
    "    skip_validate=True,\n",
    "    # drop_non_primary=False,\n",
    "    do_postp=False,\n",
    ")\n",
    "print(\"\")\n",
    "print(adata.X.sum(1).mean())\n",
    "adata = preprocessor(adata)"
   ]
  },
  {
   "cell_type": "code",
   "execution_count": null,
   "id": "8d636d71",
   "metadata": {},
   "outputs": [],
   "source": [
    "# model_checkpoint_file = hf_hub_download(\n",
    "#    repo_id=\"jkobject/scPRINT\", filename=f\"v2-medium.ckpt\"\n",
    "# )\n",
    "# model_checkpoint_file = ../data/\n",
    "model_checkpoint_file = \"../../../w937u4o1.ckpt\"\n",
    "# w937u4o1"
   ]
  },
  {
   "cell_type": "code",
   "execution_count": 4,
   "id": "56cd0b0f",
   "metadata": {},
   "outputs": [
    {
     "name": "stdout",
     "output_type": "stream",
     "text": [
      "FYI: scPrint is not attached to a `Trainer`.\n"
     ]
    }
   ],
   "source": [
    "model = scPrint.load_from_checkpoint(model_checkpoint_file, precpt_gene_emb=None)"
   ]
  },
  {
   "cell_type": "code",
   "execution_count": 5,
   "id": "36ff505f",
   "metadata": {},
   "outputs": [
    {
     "data": {
      "text/plain": [
       "cell_type\n",
       "myeloid cell                      1842\n",
       "neoplastic cell                   1079\n",
       "oligodendrocyte precursor cell     406\n",
       "astrocyte                           88\n",
       "oligodendrocyte                     81\n",
       "vascular lymphangioblast            50\n",
       "neuron                              21\n",
       "Name: count, dtype: int64"
      ]
     },
     "execution_count": 5,
     "metadata": {},
     "output_type": "execute_result"
    }
   ],
   "source": [
    "adata.obs.cell_type.value_counts()"
   ]
  },
  {
   "cell_type": "code",
   "execution_count": null,
   "id": "0a60a97a",
   "metadata": {},
   "outputs": [],
   "source": [
    "extractor = GeneEmbeddingExtractor(\n",
    "    genelist=gemb_da.var.index.tolist(),\n",
    "    batch_size=64,\n",
    "    num_workers=8,\n",
    "    max_len=2000,\n",
    "    average=False,\n",
    ")"
   ]
  },
  {
   "cell_type": "code",
   "execution_count": null,
   "id": "06a89ee3",
   "metadata": {},
   "outputs": [],
   "source": [
    "gemb_da = extractor(model, adata[adata.obs.cell_type == \"neuron\", :])"
   ]
  },
  {
   "cell_type": "code",
   "execution_count": null,
   "id": "db155be3",
   "metadata": {},
   "outputs": [],
   "source": [
    "sc.pp.neighbors(\n",
    "    gemb_da,\n",
    "    use_rep=gemb_da.varm[''],            # can be a plain NumPy / sparse array\n",
    "    n_neighbors=15,\n",
    "    key_added=\"gene_neighbors\" # keeps it separate from the cell graph\n",
    ")"
   ]
  },
  {
   "cell_type": "code",
   "execution_count": null,
   "id": "7e51fe9f",
   "metadata": {},
   "outputs": [],
   "source": [
    "sc.tl.umap(\n",
    "    adata,\n",
    "    neighbors_key=\"gene_neighbors\",  # tells Scanpy which graph to use\n",
    "    init_pos=\"spectral\",\n",
    "    random_state=0,\n",
    "    min_dist=0.3\n",
    ")"
   ]
  },
  {
   "cell_type": "code",
   "execution_count": null,
   "id": "5112a7a4",
   "metadata": {},
   "outputs": [],
   "source": [
    "load_genes([])"
   ]
  },
  {
   "cell_type": "code",
   "execution_count": null,
   "id": "4ca581c6",
   "metadata": {},
   "outputs": [],
   "source": [
    "sc.pl.umap(\n",
    "    adata,\n",
    "    color=[\"\", \"n_genes_by_counts\"],\n",
    "    frameon=False,\n",
    "    wspace=0.4,\n",
    ")"
   ]
  },
  {
   "cell_type": "code",
   "execution_count": null,
   "id": "4d8141db",
   "metadata": {},
   "outputs": [],
   "source": []
  }
 ],
 "metadata": {
  "kernelspec": {
   "display_name": "scPRINT",
   "language": "python",
   "name": "python3"
  },
  "language_info": {
   "codemirror_mode": {
    "name": "ipython",
    "version": 3
   },
   "file_extension": ".py",
   "mimetype": "text/x-python",
   "name": "python",
   "nbconvert_exporter": "python",
   "pygments_lexer": "ipython3",
   "version": "3.12.7"
  }
 },
 "nbformat": 4,
 "nbformat_minor": 5
}
