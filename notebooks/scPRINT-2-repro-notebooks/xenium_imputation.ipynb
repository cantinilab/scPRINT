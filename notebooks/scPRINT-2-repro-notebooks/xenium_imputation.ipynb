{
 "cells": [
  {
   "cell_type": "code",
   "execution_count": null,
   "metadata": {},
   "outputs": [
    {
     "name": "stdout",
     "output_type": "stream",
     "text": [
      "\u001b[92m→\u001b[0m connected lamindb: jkobject/scprint2\n"
     ]
    }
   ],
   "source": [
    "#! lamin init --storage ./lamin-intro --schema bionty \n",
    "\n",
    "import scanpy as sc\n",
    "from scprint import scPrint\n",
    "from scdataloader import Preprocessor\n",
    "from scdataloader.utils import load_genes\n",
    "import numpy as np\n",
    "import anndata as ad\n",
    "from huggingface_hub import hf_hub_download\n",
    "\n",
    "from scprint.tasks import Denoiser, withknn\n",
    "from scprint.model.utils import downsample_profile\n",
    "from scipy.stats import spearmanr\n",
    "from anndata import AnnData\n",
    "\n",
    "import seaborn as sns\n",
    "%load_ext autoreload\n",
    "%autoreload 2\n",
    "\n",
    "import torch\n",
    "torch.set_float32_matmul_precision('medium')"
   ]
  },
  {
   "cell_type": "code",
   "execution_count": null,
   "metadata": {},
   "outputs": [],
   "source": [
    "#model_checkpoint_file = hf_hub_download(\n",
    "#    repo_id=\"jkobject/scPRINT\", filename=f\"v2-medium.ckpt\"\n",
    "#)\n",
    "#model_checkpoint_file = ../data/\n",
    "model_checkpoint_file = '../../../80vhz9uh.ckpt'"
   ]
  },
  {
   "cell_type": "code",
   "execution_count": null,
   "metadata": {},
   "outputs": [],
   "source": [
    "m = torch.load(model_checkpoint_file)\n",
    "if \"prenorm\" in m['hyper_parameters']:\n",
    "    m['hyper_parameters'].pop(\"prenorm\")\n",
    "    torch.save(m, model_checkpoint_file)\n",
    "if \"label_counts\" in m['hyper_parameters']:\n",
    "    model = scPrint.load_from_checkpoint(model_checkpoint_file, precpt_gene_emb=None, classes=m['hyper_parameters']['label_counts'])\n",
    "else:\n",
    "    model = scPrint.load_from_checkpoint(model_checkpoint_file, precpt_gene_emb=None)"
   ]
  },
  {
   "cell_type": "code",
   "execution_count": null,
   "metadata": {},
   "outputs": [
    {
     "name": "stdout",
     "output_type": "stream",
     "text": [
      "FYI: scPrint is not attached to a `Trainer`.\n"
     ]
    }
   ],
   "source": [
    "model = scPrint.load_from_checkpoint(model_checkpoint_file, precpt_gene_emb=None)"
   ]
  },
  {
   "cell_type": "code",
   "execution_count": null,
   "metadata": {},
   "outputs": [],
   "source": []
  },
  {
   "cell_type": "code",
   "execution_count": null,
   "metadata": {},
   "outputs": [],
   "source": [
    "stdata = stdata[:, [\"BLANK\" not in i and \"NegControl\" not in i for i in stdata.var.index.tolist()]]"
   ]
  },
  {
   "cell_type": "code",
   "execution_count": null,
   "metadata": {},
   "outputs": [],
   "source": [
    "fig, axs = plt.subplots(1, 2, figsize=(15, 4))\n",
    "\n",
    "axs[0].set_title(\"Total transcripts per cell\")\n",
    "sns.histplot(\n",
    "    stdata.obs[\"total_counts\"],\n",
    "    kde=False,\n",
    "    ax=axs[0],\n",
    ")\n",
    "\n",
    "axs[1].set_title(\"Unique transcripts per cell\")\n",
    "sns.histplot(\n",
    "    stdata.obs[\"n_genes_by_counts\"],\n",
    "    kde=False,\n",
    "    ax=axs[1],\n",
    ")"
   ]
  },
  {
   "cell_type": "code",
   "execution_count": null,
   "metadata": {},
   "outputs": [],
   "source": [
    "# spec xenium \n",
    "stdata = stdata[:, [\"BLANK\" not in i and \"NegControl\" not in i for i in stdata.var.index.tolist()]]\n",
    "\n",
    "# set to 300, 1 for visium\n",
    "sc.pp.filter_cells(stdata, min_counts=50, )\n",
    "sc.pp.filter_genes(stdata, min_cells=5)\n",
    "\n",
    "stdata.layers[\"counts\"] = stdata.X.copy()\n",
    "sc.pp.normalize_total(stdata, inplace=True)\n",
    "sc.pp.log1p(stdata)\n",
    "sc.pp.pca(stdata)\n",
    "sc.pp.neighbors(stdata)\n",
    "sc.tl.umap(stdata)\n",
    "sc.tl.leiden(stdata)"
   ]
  },
  {
   "cell_type": "code",
   "execution_count": null,
   "metadata": {},
   "outputs": [],
   "source": [
    "sq.pl.spatial_scatter(\n",
    "    stdata,\n",
    "    library_id=\"spatial\",\n",
    "    shape=None,\n",
    "    color=[\n",
    "        \"leiden\",\n",
    "        \"total_counts\",\n",
    "    ],\n",
    "    wspace=0.4,\n",
    "    ncols=1,\n",
    ")"
   ]
  },
  {
   "cell_type": "code",
   "execution_count": null,
   "metadata": {},
   "outputs": [],
   "source": [
    "stdata = stdata[stdata.obs.leiden != \"0\", :]\n",
    "stdata = stdata.copy()\n",
    "stdata"
   ]
  },
  {
   "cell_type": "code",
   "execution_count": null,
   "metadata": {},
   "outputs": [],
   "source": [
    "# preprocess"
   ]
  },
  {
   "cell_type": "code",
   "execution_count": null,
   "metadata": {},
   "outputs": [],
   "source": [
    "embed = Embedder(how=\"most var\", max_len=500, add_zero_genes=0, num_workers=16, pred_embedding = [\"cell_type_ontology_term_id\"], keep_all_cls_pred=False, output_expression=\"none\", batch_size=64)\n"
   ]
  }
 ],
 "metadata": {
  "language_info": {
   "name": "python"
  }
 },
 "nbformat": 4,
 "nbformat_minor": 2
}
