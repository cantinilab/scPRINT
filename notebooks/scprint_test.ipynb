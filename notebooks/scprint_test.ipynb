{
      "cells": [
            {
                  "cell_type": "code",
                  "execution_count": 24,
                  "metadata": {},
                  "outputs": [
                        {
                              "name": "stdout",
                              "output_type": "stream",
                              "text": [
                                    "^C\n",
                                    "Traceback (most recent call last):\n",
                                    "  File \"/home/ml4ig1/miniconda3/envs/scprint/bin/lamin\", line 5, in <module>\n",
                                    "    from lamin_cli.__main__ import main\n",
                                    "  File \"/home/ml4ig1/miniconda3/envs/scprint/lib/python3.10/site-packages/lamin_cli/__main__.py\", line 11, in <module>\n",
                                    "    import rich_click as click\n",
                                    "  File \"/home/ml4ig1/miniconda3/envs/scprint/lib/python3.10/site-packages/rich_click/__init__.py\", line 73, in <module>\n",
                                    "    from . import rich_click as rich_click\n",
                                    "  File \"/home/ml4ig1/miniconda3/envs/scprint/lib/python3.10/site-packages/rich_click/rich_click.py\", line 6, in <module>\n",
                                    "    import rich.columns\n",
                                    "  File \"/home/ml4ig1/miniconda3/envs/scprint/lib/python3.10/site-packages/rich/columns.py\", line 7, in <module>\n",
                                    "    from .console import Console, ConsoleOptions, RenderableType, RenderResult\n",
                                    "  File \"/home/ml4ig1/miniconda3/envs/scprint/lib/python3.10/site-packages/rich/console.py\", line 57, in <module>\n",
                                    "    from .markup import render as render_markup\n",
                                    "  File \"<frozen importlib._bootstrap>\", line 1027, in _find_and_load\n",
                                    "  File \"<frozen importlib._bootstrap>\", line 1006, in _find_and_load_unlocked\n",
                                    "  File \"<frozen importlib._bootstrap>\", line 674, in _load_unlocked\n",
                                    "  File \"<frozen importlib._bootstrap>\", line 577, in module_from_spec\n",
                                    "  File \"<frozen importlib._bootstrap>\", line 541, in _init_module_attrs\n",
                                    "KeyboardInterrupt\n"
                              ]
                        }
                  ],
                  "source": [
                        "! lamin load scprint"
                  ]
            },
            {
                  "cell_type": "code",
                  "execution_count": 1,
                  "metadata": {},
                  "outputs": [
                        {
                              "name": "stderr",
                              "output_type": "stream",
                              "text": [
                                    "Global seed set to 42\n"
                              ]
                        },
                        {
                              "name": "stdout",
                              "output_type": "stream",
                              "text": [
                                    "💡 connected lamindb: jkobject/scprint\n"
                              ]
                        }
                  ],
                  "source": [
                        "from lightning.pytorch import Trainer, seed_everything\n",
                        "from lightning.pytorch.callbacks import ModelCheckpoint, StochasticWeightAveraging, EarlyStopping, LearningRateMonitor, LearningRateFinder\n",
                        "\n",
                        "seed_everything(42, workers=True)\n",
                        "\n",
                        "from scprint import scPrint\n",
                        "from scprint.trainer import TrainingMode\n",
                        "from scdataloader import DataModule \n",
                        "import pandas as pd\n",
                        "from scdataloader.utils import load_genes\n",
                        "\n",
                        "import torch\n",
                        "torch.set_float32_matmul_precision('medium')\n",
                        "\n",
                        "%load_ext autoreload\n",
                        "%autoreload 2"
                  ]
            },
            {
                  "cell_type": "code",
                  "execution_count": 2,
                  "metadata": {},
                  "outputs": [],
                  "source": [
                        "# TODO: drop tissue & dev stage until part or is taken in account\n",
                        "\n",
                        "hierarchical_labels = [\n",
                        "    \"cell_type_ontology_term_id\", #1\n",
                        "    # \"tissue_ontology_term_id\",\n",
                        "    \"disease_ontology_term_id\", # 2\n",
                        "#    \"development_stage_ontology_term_id\",\n",
                        "    \"assay_ontology_term_id\", #3\n",
                        "    'self_reported_ethnicity_ontology_term_id', #4\n",
                        "]\n",
                        "labels_to_pred = hierarchical_labels+[\n",
                        "    'sex_ontology_term_id', #5\n",
                        "    \"organism_ontology_term_id\", #6\n",
                        "]\n",
                        "all_labels = labels_to_pred+[\n",
                        "    #'dataset_id',\n",
                        "    'cell_culture',\n",
                        "  #  \"heat_diff\",\n",
                        "  #  \"total_counts\",\n",
                        "  # \"nnz\",\n",
                        "  #  \"dpt_group\",\n",
                        "]\n",
                        "\n",
                        "gene_emb = '../data/main/gene_embeddings.parquet'\n",
                        "d_model=128"
                  ]
            },
            {
                  "cell_type": "markdown",
                  "metadata": {},
                  "source": []
            },
            {
                  "cell_type": "code",
                  "execution_count": 3,
                  "metadata": {},
                  "outputs": [
                        {
                              "name": "stdout",
                              "output_type": "stream",
                              "text": [
                                    "won't do any check but we recommend to have your dataset coming from local storage\n",
                                    "\n",
                                    "100.0% are aligned\n",
                                    "total dataset size is 134.0236856 Gb\n",
                                    "---\n",
                                    "dataset contains:\n",
                                    "     5884587 cells\n",
                                    "     127057 genes\n",
                                    "     7 labels\n",
                                    "     6 clss_to_pred\n",
                                    "     4 hierarchical_clss\n",
                                    "     2 organisms\n",
                                    "dataset contains 270 classes to predict\n",
                                    "\n",
                                    "seeing a string: loading gene positions as biomart parquet file\n",
                                    "these files will be considered test datasets:\n",
                                    "    /home/ml4ig1/scprint/.lamindb/R4ZHoQegxXdSFNFY5LGe.h5ad\n",
                                    "    /home/ml4ig1/scprint/.lamindb/SHV11AEetZOms4Wh7Ehb.h5ad\n",
                                    "    /home/ml4ig1/scprint/.lamindb/V6DPJx8rP3wWRQ43LMHb.h5ad\n",
                                    "    /home/ml4ig1/scprint/.lamindb/Gz5G2ETTEuuRDgwm7brA.h5ad\n",
                                    "    /home/ml4ig1/scprint/.lamindb/YyBdEsN89p2aF4xJY1CW.h5ad\n",
                                    "    /home/ml4ig1/scprint/.lamindb/SO5yBTUDBgkAmz0QbG8K.h5ad\n",
                                    "    /home/ml4ig1/scprint/.lamindb/r4iCehg3Tw5IbCLiCIbl.h5ad\n",
                                    "perc test:  0.041448618229282704\n"
                              ]
                        }
                  ],
                  "source": [
                        "datamodule = DataModule(\n",
                        "    collection_name=\"some\",\n",
                        "    gene_embeddings=gene_emb,\n",
                        "    all_labels=all_labels,\n",
                        "    hierarchical_labels=hierarchical_labels,\n",
                        "    organisms=[\"NCBITaxon:9606\", \"NCBITaxon:10090\"],\n",
                        "    how=\"random expr\",\n",
                        "    max_len=1200,\n",
                        "    add_zero_genes=0,\n",
                        "    # how much more you will see the most present vs less present category \n",
                        "    weight_scaler=10,\n",
                        "    label_to_weight=labels_to_pred,\n",
                        "    label_to_pred=labels_to_pred,\n",
                        "    batch_size=64,\n",
                        "    num_workers=16,\n",
                        "    #train_oversampling=2,\n",
                        "    validation_split=0.05,\n",
                        "    do_gene_pos='../data/main/biomart_pos.parquet',\n",
                        "    test_split=0.05)\n",
                        "testfiles = datamodule.setup()"
                  ]
            },
            {
                  "cell_type": "code",
                  "execution_count": 4,
                  "metadata": {},
                  "outputs": [
                        {
                              "data": {
                                    "text/plain": [
                                          "{'cell_type_ontology_term_id': {'CL:0005012': 0,\n",
                                          "  'CL:0000038': 218,\n",
                                          "  'CL:0000763': 219,\n",
                                          "  'CL:0008034': 220,\n",
                                          "  'CL:1000692': 1,\n",
                                          "  'CL:0002063': 2,\n",
                                          "  'CL:0000837': 221,\n",
                                          "  'CL:0000623': 222,\n",
                                          "  'CL:0000630': 223,\n",
                                          "  'CL:0002355': 3,\n",
                                          "  'CL:0005009': 224,\n",
                                          "  'CL:4023070': 4,\n",
                                          "  'CL:0000169': 5,\n",
                                          "  'CL:1001107': 6,\n",
                                          "  'CL:0000878': 225,\n",
                                          "  'CL:0000751': 7,\n",
                                          "  'CL:0001029': 8,\n",
                                          "  'CL:4023041': 9,\n",
                                          "  'CL:0000186': 10,\n",
                                          "  'CL:0000545': 11,\n",
                                          "  'CL:0000057': 226,\n",
                                          "  'CL:0002303': 12,\n",
                                          "  'CL:1000223': 13,\n",
                                          "  'CL:0000084': 227,\n",
                                          "  'CL:0000077': 228,\n",
                                          "  'CL:1001433': 14,\n",
                                          "  'CL:0002250': 229,\n",
                                          "  'CL:0000653': 15,\n",
                                          "  'CL:0000827': 230,\n",
                                          "  'CL:0001049': 16,\n",
                                          "  'CL:0000954': 17,\n",
                                          "  'CL:0009009': 18,\n",
                                          "  'CL:0002377': 19,\n",
                                          "  'CL:0000148': 20,\n",
                                          "  'CL:0002144': 21,\n",
                                          "  'CL:4030026': 22,\n",
                                          "  'CL:0000449': 23,\n",
                                          "  'CL:1000343': 24,\n",
                                          "  'CL:0019032': 231,\n",
                                          "  'CL:0000785': 232,\n",
                                          "  'CL:4023051': 25,\n",
                                          "  'CL:0000558': 26,\n",
                                          "  'CL:0011007': 27,\n",
                                          "  'CL:0002010': 28,\n",
                                          "  'CL:1001111': 29,\n",
                                          "  'CL:0005010': 233,\n",
                                          "  'CL:0000875': 234,\n",
                                          "  'CL:0000232': 30,\n",
                                          "  'CL:0000235': 235,\n",
                                          "  'CL:2000042': 31,\n",
                                          "  'CL:0000909': 236,\n",
                                          "  'CL:0000131': 32,\n",
                                          "  'CL:0002365': 33,\n",
                                          "  'CL:0002320': 237,\n",
                                          "  'CL:0000838': 238,\n",
                                          "  'CL:0009041': 34,\n",
                                          "  'CL:0009002': 35,\n",
                                          "  'CL:0002201': 36,\n",
                                          "  'CL:1001431': 37,\n",
                                          "  'CL:0000738': 239,\n",
                                          "  'CL:0001054': 240,\n",
                                          "  'CL:0000573': 38,\n",
                                          "  'CL:0000079': 39,\n",
                                          "  'CL:0000984': 40,\n",
                                          "  'CL:1000597': 41,\n",
                                          "  'CL:0002319': 241,\n",
                                          "  'CL:1000909': 242,\n",
                                          "  'CL:0000542': 243,\n",
                                          "  'CL:0000897': 244,\n",
                                          "  'CL:0000359': 245,\n",
                                          "  'CL:0009006': 42,\n",
                                          "  'CL:0002304': 43,\n",
                                          "  'CL:0000127': 246,\n",
                                          "  'CL:1000892': 44,\n",
                                          "  'CL:0011025': 45,\n",
                                          "  'CL:0002046': 46,\n",
                                          "  'CL:0000065': 247,\n",
                                          "  'CL:0000765': 47,\n",
                                          "  'CL:0000970': 48,\n",
                                          "  'CL:1000838': 49,\n",
                                          "  'CL:0000669': 248,\n",
                                          "  'CL:0000839': 249,\n",
                                          "  'CL:4023040': 50,\n",
                                          "  'CL:0000648': 51,\n",
                                          "  'CL:0000163': 250,\n",
                                          "  'CL:0001056': 251,\n",
                                          "  'CL:0000155': 52,\n",
                                          "  'CL:0000115': 252,\n",
                                          "  'CL:0002028': 53,\n",
                                          "  'CL:1001318': 54,\n",
                                          "  'CL:0000222': 253,\n",
                                          "  'CL:0000750': 55,\n",
                                          "  'CL:0000934': 56,\n",
                                          "  'CL:0000982': 57,\n",
                                          "  'CL:0000066': 254,\n",
                                          "  'CL:0000821': 58,\n",
                                          "  'CL:0002327': 255,\n",
                                          "  'CL:0001058': 59,\n",
                                          "  'CL:0019018': 60,\n",
                                          "  'CL:0001064': 61,\n",
                                          "  'CL:0000749': 256,\n",
                                          "  'CL:2000064': 62,\n",
                                          "  'CL:1001432': 63,\n",
                                          "  'CL:0000775': 257,\n",
                                          "  'CL:0001081': 64,\n",
                                          "  'CL:0000913': 65,\n",
                                          "  'CL:0000890': 66,\n",
                                          "  'CL:0000559': 67,\n",
                                          "  'CL:0000899': 68,\n",
                                          "  'CL:0002258': 69,\n",
                                          "  'CL:0000233': 70,\n",
                                          "  'CL:0002601': 71,\n",
                                          "  'CL:0011108': 258,\n",
                                          "  'CL:0000900': 72,\n",
                                          "  'CL:1001106': 73,\n",
                                          "  'CL:0008019': 74,\n",
                                          "  'CL:0000745': 75,\n",
                                          "  'CL:0000576': 259,\n",
                                          "  'CL:0000514': 76,\n",
                                          "  'CL:0002335': 77,\n",
                                          "  'CL:0002254': 260,\n",
                                          "  'CL:0000836': 261,\n",
                                          "  'CL:0019019': 78,\n",
                                          "  'CL:0000787': 262,\n",
                                          "  'CL:0002489': 79,\n",
                                          "  'CL:0000767': 80,\n",
                                          "  'CL:0002071': 263,\n",
                                          "  'CL:0000650': 81,\n",
                                          "  'CL:4023036': 82,\n",
                                          "  'CL:0000188': 264,\n",
                                          "  'CL:0000561': 83,\n",
                                          "  'CL:0000670': 84,\n",
                                          "  'CL:0000134': 85,\n",
                                          "  'CL:0000815': 86,\n",
                                          "  'CL:0000171': 87,\n",
                                          "  'CL:0000050': 88,\n",
                                          "  'CL:1000347': 89,\n",
                                          "  'CL:0000546': 90,\n",
                                          "  'CL:0005000': 91,\n",
                                          "  'CL:0000557': 92,\n",
                                          "  'CL:0002306': 265,\n",
                                          "  'CL:0009017': 93,\n",
                                          "  'CL:0002326': 94,\n",
                                          "  'CL:0000049': 95,\n",
                                          "  'CL:0008001': 266,\n",
                                          "  'CL:0000255': 267,\n",
                                          "  'CL:0002275': 96,\n",
                                          "  'CL:0002375': 97,\n",
                                          "  'CL:0001065': 268,\n",
                                          "  'CL:0002092': 269,\n",
                                          "  'CL:0000893': 270,\n",
                                          "  'CL:0000644': 98,\n",
                                          "  'CL:0000216': 99,\n",
                                          "  'CL:0000826': 271,\n",
                                          "  'CL:0002553': 272,\n",
                                          "  'CL:0000499': 273,\n",
                                          "  'CL:0001069': 274,\n",
                                          "  'CL:0000037': 275,\n",
                                          "  'CL:0000584': 276,\n",
                                          "  'CL:0000548': 277,\n",
                                          "  'CL:0000158': 100,\n",
                                          "  'CL:2000060': 278,\n",
                                          "  'CL:0000809': 101,\n",
                                          "  'CL:0000492': 279,\n",
                                          "  'CL:0002399': 102,\n",
                                          "  'CL:0000513': 103,\n",
                                          "  'CL:0002371': 280,\n",
                                          "  'CL:0000125': 281,\n",
                                          "  'CL:0002094': 104,\n",
                                          "  'CL:0019031': 282,\n",
                                          "  'CL:1000413': 283,\n",
                                          "  'CL:0002322': 105,\n",
                                          "  'CL:0011026': 284,\n",
                                          "  'CL:0000818': 106,\n",
                                          "  'CL:0000771': 107,\n",
                                          "  'CL:0009092': 108,\n",
                                          "  'CL:4023011': 109,\n",
                                          "  'CL:4023016': 110,\n",
                                          "  'CL:0000940': 111,\n",
                                          "  'CL:0000957': 112,\n",
                                          "  'CL:1000334': 113,\n",
                                          "  'CL:1000768': 114,\n",
                                          "  'CL:2000046': 115,\n",
                                          "  'CL:0000895': 116,\n",
                                          "  'CL:0009042': 117,\n",
                                          "  'CL:0002419': 285,\n",
                                          "  'CL:0000972': 118,\n",
                                          "  'CL:0001024': 119,\n",
                                          "  'CL:1000353': 120,\n",
                                          "  'CL:0000915': 121,\n",
                                          "  'CL:0000679': 286,\n",
                                          "  'CL:0000164': 287,\n",
                                          "  'CL:0000129': 122,\n",
                                          "  'CL:0000076': 288,\n",
                                          "  'CL:4023018': 289,\n",
                                          "  'CL:0002488': 123,\n",
                                          "  'CL:0000939': 124,\n",
                                          "  'CL:0000003': 290,\n",
                                          "  'CL:0000956': 125,\n",
                                          "  'CL:0002605': 126,\n",
                                          "  'CL:0001061': 291,\n",
                                          "  'CL:0009012': 127,\n",
                                          "  'CL:0002045': 128,\n",
                                          "  'CL:0009095': 129,\n",
                                          "  'CL:0000990': 292,\n",
                                          "  'CL:0000173': 130,\n",
                                          "  'CL:1000849': 131,\n",
                                          "  'CL:0001071': 132,\n",
                                          "  'CL:0000740': 133,\n",
                                          "  'CL:0000556': 134,\n",
                                          "  'CL:1001568': 135,\n",
                                          "  'CL:0005011': 136,\n",
                                          "  'CL:1001602': 137,\n",
                                          "  'CL:0008036': 138,\n",
                                          "  'CL:0000051': 139,\n",
                                          "  'CL:0002138': 140,\n",
                                          "  'CL:0011020': 141,\n",
                                          "  'CL:0000625': 293,\n",
                                          "  'CL:0000987': 142,\n",
                                          "  'CL:0000988': 294,\n",
                                          "  'CL:0000138': 143,\n",
                                          "  'CL:4023015': 144,\n",
                                          "  'CL:0000501': 145,\n",
                                          "  'CL:1000443': 146,\n",
                                          "  'CL:0002368': 295,\n",
                                          "  'CL:0000784': 296,\n",
                                          "  'CL:0000094': 297,\n",
                                          "  'CL:0000980': 298,\n",
                                          "  'CL:0002396': 147,\n",
                                          "  'CL:0000788': 148,\n",
                                          "  'CL:0002496': 299,\n",
                                          "  'CL:0011012': 149,\n",
                                          "  'CL:0000904': 150,\n",
                                          "  'CL:0000192': 300,\n",
                                          "  'CL:0000178': 151,\n",
                                          "  'CL:4023038': 152,\n",
                                          "  'CL:1000839': 153,\n",
                                          "  'CL:0000442': 154,\n",
                                          "  'CL:0002048': 155,\n",
                                          "  'CL:0002193': 156,\n",
                                          "  'CL:0009039': 157,\n",
                                          "  'CL:2000093': 158,\n",
                                          "  'CL:0000798': 159,\n",
                                          "  'CL:1000272': 301,\n",
                                          "  'CL:0002573': 302,\n",
                                          "  'CL:0000622': 160,\n",
                                          "  'CL:0001043': 161,\n",
                                          "  'CL:0000986': 162,\n",
                                          "  'CL:0000145': 303,\n",
                                          "  'CL:0000820': 163,\n",
                                          "  'CL:0002038': 164,\n",
                                          "  'CL:0000540': 304,\n",
                                          "  'CL:0008002': 165,\n",
                                          "  'CL:0000160': 305,\n",
                                          "  'CL:0002453': 166,\n",
                                          "  'CL:0000071': 306,\n",
                                          "  'CL:0001082': 307,\n",
                                          "  'CL:0000583': 167,\n",
                                          "  'CL:0000646': 168,\n",
                                          "  'CL:0002543': 169,\n",
                                          "  'CL:0000706': 170,\n",
                                          "  'CL:1000495': 171,\n",
                                          "  'CL:0000936': 172,\n",
                                          "  'CL:1000452': 173,\n",
                                          "  'CL:0000236': 308,\n",
                                          "  'CL:4023017': 174,\n",
                                          "  'CL:0002548': 175,\n",
                                          "  'CL:0001077': 176,\n",
                                          "  'CL:0002293': 309,\n",
                                          "  'CL:0000082': 310,\n",
                                          "  'CL:0002364': 177,\n",
                                          "  'CL:1000500': 311,\n",
                                          "  'CL:0000034': 312,\n",
                                          "  'CL:0002154': 178,\n",
                                          "  'CL:0002617': 179,\n",
                                          "  'CL:0000006': 313,\n",
                                          "  'CL:0002241': 180,\n",
                                          "  'CL:0001042': 181,\n",
                                          "  'CL:0000817': 314,\n",
                                          "  'CL:0002151': 182,\n",
                                          "  'CL:0000816': 183,\n",
                                          "  'CL:0002425': 184,\n",
                                          "  'CL:0000553': 185,\n",
                                          "  'CL:0000624': 315,\n",
                                          "  'CL:0001066': 186,\n",
                                          "  'CL:0000907': 187,\n",
                                          "  'CL:0002343': 188,\n",
                                          "  'CL:4023013': 189,\n",
                                          "  'CL:2000095': 190,\n",
                                          "  'CL:0000898': 316,\n",
                                          "  'CL:4023012': 191,\n",
                                          "  'CL:0002062': 192,\n",
                                          "  'CL:0002586': 193,\n",
                                          "  'CL:0000128': 194,\n",
                                          "  'CL:1000271': 195,\n",
                                          "  'CL:0000604': 196,\n",
                                          "  'CL:0002504': 197,\n",
                                          "  'CL:0000985': 198,\n",
                                          "  'CL:0000786': 317,\n",
                                          "  'CL:0000776': 199,\n",
                                          "  'CL:0009043': 200,\n",
                                          "  'CL:0000097': 201,\n",
                                          "  'CL:0009010': 318,\n",
                                          "  'CL:0000937': 202,\n",
                                          "  'CL:1000850': 203,\n",
                                          "  'CL:0009011': 204,\n",
                                          "  'CL:0000782': 319,\n",
                                          "  'CL:0000525': 205,\n",
                                          "  'CL:0000814': 206,\n",
                                          "  'CL:3000001': 207,\n",
                                          "  'CL:0000682': 320,\n",
                                          "  'CL:0000451': 321,\n",
                                          "  'CL:0001074': 208,\n",
                                          "  'CL:0002088': 209,\n",
                                          "  'CL:0000905': 210,\n",
                                          "  'CL:0002139': 322,\n",
                                          "  'CL:0010008': 211,\n",
                                          "  'CL:0000586': 212,\n",
                                          "  'CL:0000636': 213,\n",
                                          "  'CL:0000789': 323,\n",
                                          "  'CL:0001050': 214,\n",
                                          "  'CL:0007011': 215,\n",
                                          "  'CL:0000764': 324,\n",
                                          "  'CL:0000938': 216,\n",
                                          "  'CL:0000860': 217,\n",
                                          "  'CL:0002563': 325,\n",
                                          "  'CL:0000056': 326,\n",
                                          "  'CL:0000055': 327,\n",
                                          "  'CL:0000151': 328,\n",
                                          "  'CL:0000211': 329},\n",
                                          " 'disease_ontology_term_id': {'MONDO:0005068': 0,\n",
                                          "  'MONDO:0005061': 1,\n",
                                          "  'MONDO:0012419': 2,\n",
                                          "  'MONDO:0005005': 3,\n",
                                          "  'MONDO:0004970': 24,\n",
                                          "  'MONDO:0021211': 4,\n",
                                          "  'MONDO:0001627': 5,\n",
                                          "  'MONDO:0005129': 6,\n",
                                          "  'MONDO:0002492': 7,\n",
                                          "  'MONDO:0005016': 8,\n",
                                          "  'MONDO:0000001': 25,\n",
                                          "  'MONDO:0005097': 9,\n",
                                          "  'MONDO:0100096': 10,\n",
                                          "  'MONDO:0005027': 11,\n",
                                          "  'MONDO:0018906': 12,\n",
                                          "  'MONDO:0004691': 13,\n",
                                          "  'MONDO:0007472': 14,\n",
                                          "  'MONDO:0005191': 15,\n",
                                          "  'MONDO:0005233': 26,\n",
                                          "  'MONDO:0004947': 16,\n",
                                          "  'PATO:0000461': 17,\n",
                                          "  'MONDO:0005011': 18,\n",
                                          "  'MONDO:0005087': 27,\n",
                                          "  'MONDO:0005002': 19,\n",
                                          "  'MONDO:0001150': 20,\n",
                                          "  'MONDO:0005300': 28,\n",
                                          "  'MONDO:0005070': 29,\n",
                                          "  'MONDO:0019040': 21,\n",
                                          "  'MONDO:0005550': 30,\n",
                                          "  'MONDO:0044970': 22,\n",
                                          "  'MONDO:0002025': 31,\n",
                                          "  'MONDO:0021147': 32,\n",
                                          "  'MONDO:0021166': 23,\n",
                                          "  'MONDO:0005066': 33},\n",
                                          " 'assay_ontology_term_id': {'EFO:0010961': 0,\n",
                                          "  'EFO:0700003': 1,\n",
                                          "  'EFO:0030059': 2,\n",
                                          "  'EFO:0008780': 3,\n",
                                          "  'EFO:0700011': 4,\n",
                                          "  'EFO:0008919': 5,\n",
                                          "  'EFO:0008931': 6,\n",
                                          "  'EFO:0008722': 7,\n",
                                          "  'EFO:0009901': 8,\n",
                                          "  'EFO:0008853': 9,\n",
                                          "  'EFO:0009922': 10,\n",
                                          "  'EFO:0011025': 11,\n",
                                          "  'EFO:0030062': 12,\n",
                                          "  'EFO:0030002': 13,\n",
                                          "  'EFO:0009899': 14,\n",
                                          "  'EFO:0009900': 15,\n",
                                          "  'EFO:0030003': 17,\n",
                                          "  'EFO:0030007': 16,\n",
                                          "  'EFO:0030004': 18,\n",
                                          "  'EFO:0008994': 19},\n",
                                          " 'self_reported_ethnicity_ontology_term_id': {'unknown': -1,\n",
                                          "  'HANCESTRO:0005': 0,\n",
                                          "  'HANCESTRO:0015': 1,\n",
                                          "  'HANCESTRO:0027': 2,\n",
                                          "  'HANCESTRO:0014': 3,\n",
                                          "  'HANCESTRO:0008': 7,\n",
                                          "  'HANCESTRO:0595': 4,\n",
                                          "  'HANCESTRO:0568': 5,\n",
                                          "  'HANCESTRO:0306': 6},\n",
                                          " 'sex_ontology_term_id': {'unknown': -1, 'PATO:0000383': 0, 'PATO:0000384': 1},\n",
                                          " 'organism_ontology_term_id': {'NCBITaxon:9606': 0, 'NCBITaxon:10090': 1}}"
                                    ]
                              },
                              "execution_count": 4,
                              "metadata": {},
                              "output_type": "execute_result"
                        }
                  ],
                  "source": [
                        "datamodule.dataset.encoder"
                  ]
            },
            {
                  "cell_type": "code",
                  "execution_count": null,
                  "metadata": {},
                  "outputs": [],
                  "source": [
                        "# create a function to transform an scGPT checkpoint to an scPrint's\n",
                        "# ckpt = torch.load(\"../../scGPT/save/model_e6.pt\")\n",
                        "# scPrint.load_from_checkpoint(\"../../scGPT/save/model_e6.pt\")"
                  ]
            },
            {
                  "cell_type": "code",
                  "execution_count": null,
                  "metadata": {},
                  "outputs": [
                        {
                              "name": "stderr",
                              "output_type": "stream",
                              "text": [
                                    "2024-03-14 09:16:21,556:ERROR - Failed to detect the name of this notebook, you can set it manually with the WANDB_NOTEBOOK_NAME environment variable to enable code saving.\n",
                                    "wandb: Currently logged in as: jkobject (ml4ig). Use `wandb login --relogin` to force relogin\n"
                              ]
                        },
                        {
                              "data": {
                                    "text/html": [
                                          "wandb version 0.16.4 is available!  To upgrade, please run:\n",
                                          " $ pip install wandb --upgrade"
                                    ],
                                    "text/plain": [
                                          "<IPython.core.display.HTML object>"
                                    ]
                              },
                              "metadata": {},
                              "output_type": "display_data"
                        },
                        {
                              "data": {
                                    "text/html": [
                                          "Tracking run with wandb version 0.16.2"
                                    ],
                                    "text/plain": [
                                          "<IPython.core.display.HTML object>"
                                    ]
                              },
                              "metadata": {},
                              "output_type": "display_data"
                        },
                        {
                              "data": {
                                    "text/html": [
                                          "Run data is saved locally in <code>../data/tensorboard/wandb/run-20240314_091623-heig0ijx</code>"
                                    ],
                                    "text/plain": [
                                          "<IPython.core.display.HTML object>"
                                    ]
                              },
                              "metadata": {},
                              "output_type": "display_data"
                        },
                        {
                              "data": {
                                    "text/html": [
                                          "Syncing run <strong><a href='https://wandb.ai/ml4ig/scprint_test/runs/heig0ijx' target=\"_blank\">buttermilk-flambee-65</a></strong> to <a href='https://wandb.ai/ml4ig/scprint_test' target=\"_blank\">Weights & Biases</a> (<a href='https://wandb.me/run' target=\"_blank\">docs</a>)<br/>"
                                    ],
                                    "text/plain": [
                                          "<IPython.core.display.HTML object>"
                                    ]
                              },
                              "metadata": {},
                              "output_type": "display_data"
                        },
                        {
                              "data": {
                                    "text/html": [
                                          " View project at <a href='https://wandb.ai/ml4ig/scprint_test' target=\"_blank\">https://wandb.ai/ml4ig/scprint_test</a>"
                                    ],
                                    "text/plain": [
                                          "<IPython.core.display.HTML object>"
                                    ]
                              },
                              "metadata": {},
                              "output_type": "display_data"
                        },
                        {
                              "data": {
                                    "text/html": [
                                          " View run at <a href='https://wandb.ai/ml4ig/scprint_test/runs/heig0ijx' target=\"_blank\">https://wandb.ai/ml4ig/scprint_test/runs/heig0ijx</a>"
                                    ],
                                    "text/plain": [
                                          "<IPython.core.display.HTML object>"
                                    ]
                              },
                              "metadata": {},
                              "output_type": "display_data"
                        },
                        {
                              "ename": "NameError",
                              "evalue": "name 'model' is not defined",
                              "output_type": "error",
                              "traceback": [
                                    "\u001b[0;31m---------------------------------------------------------------------------\u001b[0m",
                                    "\u001b[0;31mNameError\u001b[0m                                 Traceback (most recent call last)",
                                    "Cell \u001b[0;32mIn[5], line 5\u001b[0m\n\u001b[1;32m      2\u001b[0m \u001b[38;5;28;01mfrom\u001b[39;00m \u001b[38;5;21;01mlightning\u001b[39;00m\u001b[38;5;21;01m.\u001b[39;00m\u001b[38;5;21;01mpytorch\u001b[39;00m\u001b[38;5;21;01m.\u001b[39;00m\u001b[38;5;21;01mloggers\u001b[39;00m \u001b[38;5;28;01mimport\u001b[39;00m WandbLogger\n\u001b[1;32m      4\u001b[0m wandb_logger \u001b[38;5;241m=\u001b[39m WandbLogger(project\u001b[38;5;241m=\u001b[39m\u001b[38;5;124m\"\u001b[39m\u001b[38;5;124mscprint_test\u001b[39m\u001b[38;5;124m\"\u001b[39m, save_dir\u001b[38;5;241m=\u001b[39m\u001b[38;5;124m\"\u001b[39m\u001b[38;5;124m../data/tensorboard\u001b[39m\u001b[38;5;124m\"\u001b[39m)\n\u001b[0;32m----> 5\u001b[0m wandb_logger\u001b[38;5;241m.\u001b[39mwatch(\u001b[43mmodel\u001b[49m, log\u001b[38;5;241m=\u001b[39m\u001b[38;5;124m'\u001b[39m\u001b[38;5;124mall\u001b[39m\u001b[38;5;124m'\u001b[39m, log_freq\u001b[38;5;241m=\u001b[39m\u001b[38;5;241m50\u001b[39m, log_graph\u001b[38;5;241m=\u001b[39m\u001b[38;5;28;01mTrue\u001b[39;00m)\n\u001b[1;32m      7\u001b[0m \u001b[38;5;66;03m#tlogger = TensorBoardLogger(save_dir=\"../data/tensorboard\")\u001b[39;00m\n\u001b[1;32m      8\u001b[0m \u001b[38;5;66;03m#tlogger.log_graph(model)\u001b[39;00m\n",
                                    "\u001b[0;31mNameError\u001b[0m: name 'model' is not defined"
                              ]
                        }
                  ],
                  "source": [
                        "from lightning.pytorch.loggers import TensorBoardLogger\n",
                        "from lightning.pytorch.loggers import WandbLogger\n",
                        "\n",
                        "wandb_logger = WandbLogger(project=\"scprint_test\", save_dir=\"../data/tensorboard\")\n",
                        "wandb_logger.watch(model, log='all', log_freq=50, log_graph=True)\n",
                        "\n",
                        "#tlogger = TensorBoardLogger(save_dir=\"../data/tensorboard\")\n",
                        "#tlogger.log_graph(model)\n"
                  ]
            },
            {
                  "cell_type": "code",
                  "execution_count": null,
                  "metadata": {},
                  "outputs": [],
                  "source": [
                        "#from lightning.pytorch.profilers import PyTorchProfiler\n",
                        "#pytorch_prof = PyTorchProfiler(\"../data/tensorboard\", emit_nvtx=False, group_by_input_shape=True, record_shapes=True, profile_memory=True, with_stack=True, on_trace_ready=torch.profiler.tensorboard_trace_handler(\"../data/tensorboard/\"),)"
                  ]
            },
            {
                  "cell_type": "code",
                  "execution_count": 12,
                  "metadata": {},
                  "outputs": [
                        {
                              "name": "stderr",
                              "output_type": "stream",
                              "text": [
                                    "Using 16bit Automatic Mixed Precision (AMP)\n",
                                    "GPU available: True (cuda), used: True\n",
                                    "TPU available: False, using: 0 TPU cores\n",
                                    "IPU available: False, using: 0 IPUs\n",
                                    "HPU available: False, using: 0 HPUs\n"
                              ]
                        }
                  ],
                  "source": [
                        "chckp = ModelCheckpoint(monitor=\"val_loss\", save_top_k=-1)\n",
                        "trainingmode = TrainingMode(\n",
                        "    do_denoise=True, \n",
                        "    noise=[0.4],\n",
                        "    do_cce=True, \n",
                        "    cce_sim=0.6, \n",
                        "    do_ecs=True, \n",
                        "    ecs_threshold = 0.4, \n",
                        "    ecs_scale = 0.05,\n",
                        "    class_scale = 0.08,\n",
                        "    do_mvc=False, \n",
                        "    do_adv_cls=True,\n",
                        "    do_next_tp=False, \n",
                        "    mask_ratio=[0.3], \n",
                        "    warmup_duration= 500, \n",
                        "    weight_decay= 0.01, \n",
                        "    fused_adam= True,\n",
                        "    lr_patience= 1)\n",
                        "es = EarlyStopping(patience=2, monitor='val_loss')\n",
                        "swa = StochasticWeightAveraging(swa_lrs= 0.01)\n",
                        "lrm = LearningRateMonitor(logging_interval=\"step\")\n",
                        "#lrf = LearningRateFinder(mode=\"exponential\",)\n",
                        "# TODO: to check that the class hierarchy are really ordered from 1-2-3-4... as well (oredered dict)\n",
                        "trainer = Trainer(precision=\"16-mixed\", gradient_clip_val=100, max_time={\"hours\": 2}, limit_train_batches=50, limit_val_batches=10, callbacks=[chckp, es, lrm,  swa, trainingmode], accumulate_grad_batches=1, reload_dataloaders_every_n_epochs=1)#, logger=tlogger) #detect_anomaly=True, fast_dev_run=20, overfit_batches=10, limit_train_batches=1, limit_val_batches=0\n",
                        "#logger=wandb_logger,"
                  ]
            },
            {
                  "cell_type": "code",
                  "execution_count": null,
                  "metadata": {},
                  "outputs": [
                        {
                              "data": {
                                    "text/plain": [
                                          "['cell_type_ontology_term_id',\n",
                                          " 'disease_ontology_term_id',\n",
                                          " 'assay_ontology_term_id',\n",
                                          " 'self_reported_ethnicity_ontology_term_id',\n",
                                          " 'sex_ontology_term_id',\n",
                                          " 'organism_ontology_term_id']"
                                    ]
                              },
                              "execution_count": 44,
                              "metadata": {},
                              "output_type": "execute_result"
                        }
                  ],
                  "source": [
                        "model.labels"
                  ]
            },
            {
                  "cell_type": "code",
                  "execution_count": 13,
                  "metadata": {},
                  "outputs": [
                        {
                              "name": "stderr",
                              "output_type": "stream",
                              "text": [
                                    "Using 16bit Automatic Mixed Precision (AMP)\n",
                                    "GPU available: True (cuda), used: True\n",
                                    "TPU available: False, using: 0 TPU cores\n",
                                    "IPU available: False, using: 0 IPUs\n",
                                    "HPU available: False, using: 0 HPUs\n"
                              ]
                        }
                  ],
                  "source": [
                        "# sanity. should be overfiting.\n",
                        "trainer = Trainer(precision=\"16-mixed\", max_epochs=1000, limit_val_batches=0, check_val_every_n_epoch=1000, log_every_n_steps=1000, detect_anomaly=True, overfit_batches=30, gradient_clip_val=100,\n",
                        "reload_dataloaders_every_n_epochs=1000) #logger=wandb_logger) limit_train_batches=1"
                  ]
            },
            {
                  "cell_type": "code",
                  "execution_count": 14,
                  "metadata": {},
                  "outputs": [],
                  "source": [
                        "model = scPrint(\n",
                        "    genes = datamodule.genes,\n",
                        "    d_model = d_model,\n",
                        "    nhead = 4,\n",
                        "    nlayers = 4,\n",
                        "    layers_cls = [d_model],\n",
                        "    labels = datamodule.labels,\n",
                        "    cls_hierarchy = datamodule.cls_hierarchy,\n",
                        "    dropout= 0.1,\n",
                        "    transformer = \"flash\",\n",
                        "    precpt_gene_emb = gene_emb,\n",
                        "    gene_pos_enc = datamodule.gene_pos,\n",
                        "    mvc_decoder = \"inner product\",\n",
                        "    label_decoders = datamodule.decoders,\n",
                        "    fused_dropout_add_ln = False,\n",
                        "    num_batch_labels = datamodule.num_datasets,\n",
                        "    checkpointing=True,\n",
                        "    prenorm=True,\n",
                        "    num_heads_kv=None,\n",
                        ")\n",
                        "\n",
                        "model.do_denoise = True\n",
                        "model.noise = [.5]\n",
                        "model.do_cce = True\n",
                        "model.do_mvc = False\n",
                        "model.do_adv_cls = False\n",
                        "model.do_generate = True\n",
                        "model.weight_decay = 1e-4\n",
                        "model.fused_adam = True\n",
                        "model.lr_patience = 1\n",
                        "model.optim = \"adamW\""
                  ]
            },
            {
                  "cell_type": "code",
                  "execution_count": 33,
                  "metadata": {},
                  "outputs": [
                        {
                              "name": "stdout",
                              "output_type": "stream",
                              "text": [
                                    "these files will be considered test datasets:\n",
                                    "    /home/ml4ig1/scprint/.lamindb/R4ZHoQegxXdSFNFY5LGe.h5ad\n",
                                    "    /home/ml4ig1/scprint/.lamindb/SHV11AEetZOms4Wh7Ehb.h5ad\n",
                                    "    /home/ml4ig1/scprint/.lamindb/V6DPJx8rP3wWRQ43LMHb.h5ad\n",
                                    "    /home/ml4ig1/scprint/.lamindb/Gz5G2ETTEuuRDgwm7brA.h5ad\n",
                                    "    /home/ml4ig1/scprint/.lamindb/YyBdEsN89p2aF4xJY1CW.h5ad\n",
                                    "    /home/ml4ig1/scprint/.lamindb/SO5yBTUDBgkAmz0QbG8K.h5ad\n",
                                    "    /home/ml4ig1/scprint/.lamindb/r4iCehg3Tw5IbCLiCIbl.h5ad\n",
                                    "perc test:  0.041448618229282704\n"
                              ]
                        },
                        {
                              "name": "stderr",
                              "output_type": "stream",
                              "text": [
                                    "LOCAL_RANK: 0 - CUDA_VISIBLE_DEVICES: [0]\n",
                                    "\n",
                                    "   | Name                            | Type                         | Params\n",
                                    "----------------------------------------------------------------------------------\n",
                                    "0  | gene_encoder                    | GeneEncoder                  | 5.7 M \n",
                                    "1  | expr_encoder                    | ContinuousValueEncoder       | 17.0 K\n",
                                    "2  | pos_encoder                     | PositionalEncoding           | 0     \n",
                                    "3  | label_encoder                   | CategoryValueEncoder         | 1.0 K \n",
                                    "4  | depth_encoder                   | ContinuousValueEncoder       | 17.0 K\n",
                                    "5  | norm_and_dropout                | Sequential                   | 256   \n",
                                    "6  | transformer                     | FlashTransformerEncoder      | 793 K \n",
                                    "7  | expr_decoder                    | ExprDecoder                  | 33.7 K\n",
                                    "8  | cls_decoders                    | ModuleDict                   | 135 K \n",
                                    "9  | grad_reverse_discriminator_loss | AdversarialDiscriminatorLoss | 45.1 K\n",
                                    "10 | mvc_decoder                     | MVCDecoder                   | 65.7 K\n",
                                    "----------------------------------------------------------------------------------\n",
                                    "1.1 M     Trainable params\n",
                                    "5.7 M     Non-trainable params\n",
                                    "6.8 M     Total params\n",
                                    "27.349    Total estimated model params size (MB)\n"
                              ]
                        },
                        {
                              "data": {
                                    "application/vnd.jupyter.widget-view+json": {
                                          "model_id": "0fe837b0642048ffbf1a716ce9002fa5",
                                          "version_major": 2,
                                          "version_minor": 0
                                    },
                                    "text/plain": [
                                          "Sanity Checking: 0it [00:00, ?it/s]"
                                    ]
                              },
                              "metadata": {},
                              "output_type": "display_data"
                        },
                        {
                              "name": "stdout",
                              "output_type": "stream",
                              "text": [
                                    "> /home/ml4ig1/Documents code/scPRINT/scprint/model/utils.py(54)make_adata()\n",
                                    "     52 \n",
                                    "     53         pdb./home/ml4ig1/Documents code/scPRINT/scprint/model/utils.py(54)make_adata()\n",
                                    "     52 \n",
                                    "     53         pdb.set_trace()\n",
                                    "---> 54         obs = np.array(\n",
                                    "     55             [\n",
                                    "     56                 [label_decoders[labels[i]][n] for n in name]\n",
                                    "\n"
                              ]
                        }
                  ],
                  "source": [
                        "trainer.fit(model, datamodule=datamodule)"
                  ]
            },
            {
                  "cell_type": "code",
                  "execution_count": null,
                  "metadata": {},
                  "outputs": [],
                  "source": [
                        "%reload_ext tensorboard\n",
                        "%tensorboard --logdir=\"../data/tensorboard\""
                  ]
            },
            {
                  "cell_type": "code",
                  "execution_count": null,
                  "metadata": {},
                  "outputs": [],
                  "source": [
                        "#wandb_logger.finalize(status=\"aborted\")\n",
                        "torch.cuda.empty_cache()"
                  ]
            }
      ],
      "metadata": {
            "kernelspec": {
                  "display_name": "scprint",
                  "language": "python",
                  "name": "python3"
            },
            "language_info": {
                  "codemirror_mode": {
                        "name": "ipython",
                        "version": 3
                  },
                  "file_extension": ".py",
                  "mimetype": "text/x-python",
                  "name": "python",
                  "nbconvert_exporter": "python",
                  "pygments_lexer": "ipython3",
                  "version": "3.10.0"
            }
      },
      "nbformat": 4,
      "nbformat_minor": 2
}
