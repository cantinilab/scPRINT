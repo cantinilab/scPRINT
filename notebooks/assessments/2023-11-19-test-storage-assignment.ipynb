{
 "cells": [
  {
   "cell_type": "markdown",
   "metadata": {},
   "source": [
    "# Test storage re-assignment"
   ]
  },
  {
   "cell_type": "code",
   "execution_count": 1,
   "metadata": {},
   "outputs": [
    {
     "name": "stdout",
     "output_type": "stream",
     "text": [
      "✅ saved: User(uid='a3keNAVX', handle='jkobject', updated_at=2023-11-21 21:35:51 UTC)\n",
      "✅ saved: Storage(uid='d9usNZRL', root='/home/ml4ig1/Documents code/scPRINT/notebooks/assessments/mytest2', type='local', updated_at=2023-11-21 21:35:51 UTC, created_by_id=1)\n",
      "💡 loaded instance: jkobject/mytest2\n",
      "💡 did not register local instance on hub\n",
      "\u001b[0m"
     ]
    }
   ],
   "source": [
    "!lamin init --storage mytest2 --schema bionty"
   ]
  },
  {
   "cell_type": "code",
   "execution_count": 1,
   "metadata": {},
   "outputs": [
    {
     "name": "stdout",
     "output_type": "stream",
     "text": [
      "💡 lamindb instance: jkobject/mytest2\n"
     ]
    }
   ],
   "source": [
    "import lamindb as ln\n",
    "import lnschema_bionty as lb\n",
    "\n",
    "lb.settings.organism = \"human\""
   ]
  },
  {
   "cell_type": "code",
   "execution_count": 3,
   "metadata": {},
   "outputs": [
    {
     "data": {
      "text/plain": [
       "File(uid='YdQ7CKrqy1YtXhs8Me58', key='cell-census/2023-07-25/h5ads/0d2ee4ac-05ee-40b2-afb6-ebb584caa867.h5ad', suffix='.h5ad', accessor='AnnData', description='Tabula Sapiens - Lung|0d2ee4ac-05ee-40b2-afb6-ebb584caa867', size=956851025, hash='hGVVgGbXP1IGDTI2PLg01A-115', hash_type='md5-n', visibility=0, key_is_virtual=False, updated_at=2023-10-16 15:04:08 UTC, storage_id=2, transform_id=1, run_id=1, created_by_id=1)"
      ]
     },
     "execution_count": 3,
     "metadata": {},
     "output_type": "execute_result"
    }
   ],
   "source": [
    "files_census = ln.Artifact.using(\"laminlabs/cellxgene-census\")\n",
    "file = files_census.filter(description__icontains=\"tabula sapiens - lung\").one()\n",
    "file"
   ]
  },
  {
   "cell_type": "code",
   "execution_count": 4,
   "metadata": {},
   "outputs": [
    {
     "name": "stdout",
     "output_type": "stream",
     "text": [
      "❗ no run & transform get linked, consider passing a `run` or calling ln.track()\n"
     ]
    }
   ],
   "source": [
    "file.save()"
   ]
  },
  {
   "cell_type": "code",
   "execution_count": 5,
   "metadata": {},
   "outputs": [
    {
     "data": {
      "text/plain": [
       "Storage(uid='oIYGbD74', root='s3://cellxgene-data-public', type='s3', region='us-west-2', updated_at=2023-11-20 12:37:11 UTC, created_by_id=1)"
      ]
     },
     "execution_count": 5,
     "metadata": {},
     "output_type": "execute_result"
    }
   ],
   "source": [
    "file.storage"
   ]
  },
  {
   "cell_type": "code",
   "execution_count": 6,
   "metadata": {},
   "outputs": [
    {
     "data": {
      "text/plain": [
       "'cell-census/2023-07-25/h5ads/0d2ee4ac-05ee-40b2-afb6-ebb584caa867.h5ad'"
      ]
     },
     "execution_count": 6,
     "metadata": {},
     "output_type": "execute_result"
    }
   ],
   "source": [
    "file.key"
   ]
  },
  {
   "cell_type": "code",
   "execution_count": 7,
   "metadata": {},
   "outputs": [],
   "source": [
    "file.path.download_to(f\"./mytest/{file.key}\")"
   ]
  },
  {
   "cell_type": "code",
   "execution_count": 8,
   "metadata": {},
   "outputs": [
    {
     "name": "stdout",
     "output_type": "stream",
     "text": [
      "total 289M\n",
      "drwxrwxr-x 2 ml4ig1 ml4ig1 4,0K nov.  21 22:38 .\n",
      "drwxrwxr-x 3 ml4ig1 ml4ig1 4,0K nov.  21 22:37 ..\n",
      "-rw-rw-r-- 1 ml4ig1 ml4ig1  16M nov.  21 22:38 1075c26e-5c47-43ba-902c-5b6cb864dd10.h5ad\n",
      "-rw-rw-r-- 1 ml4ig1 ml4ig1  34M nov.  21 22:38 1492eb6b-7d50-4c4d-94ac-c801a7d5555c.h5ad\n",
      "-rw-rw-r-- 1 ml4ig1 ml4ig1  37M nov.  21 22:38 b9b4cf27-9c22-410d-8bd8-5d43e379485b.h5ad\n",
      "-rw-rw-r-- 1 ml4ig1 ml4ig1  22M nov.  21 22:38 cd3c693e-64e1-4009-a941-ba3f340c7434.h5ad\n",
      "-rw-rw-r-- 1 ml4ig1 ml4ig1 182M nov.  21 22:38 d5c67a4e-a8d9-456d-a273-fa01adb1b308.h5ad\n"
     ]
    }
   ],
   "source": [
    "!ls -alh ./mytest2/cell-census/2023-07-25/h5ads/"
   ]
  },
  {
   "cell_type": "code",
   "execution_count": 9,
   "metadata": {},
   "outputs": [
    {
     "data": {
      "text/html": [
       "<div>\n",
       "<style scoped>\n",
       "    .dataframe tbody tr th:only-of-type {\n",
       "        vertical-align: middle;\n",
       "    }\n",
       "\n",
       "    .dataframe tbody tr th {\n",
       "        vertical-align: top;\n",
       "    }\n",
       "\n",
       "    .dataframe thead th {\n",
       "        text-align: right;\n",
       "    }\n",
       "</style>\n",
       "<table border=\"1\" class=\"dataframe\">\n",
       "  <thead>\n",
       "    <tr style=\"text-align: right;\">\n",
       "      <th></th>\n",
       "      <th>uid</th>\n",
       "      <th>root</th>\n",
       "      <th>type</th>\n",
       "      <th>region</th>\n",
       "      <th>updated_at</th>\n",
       "      <th>created_by_id</th>\n",
       "    </tr>\n",
       "    <tr>\n",
       "      <th>id</th>\n",
       "      <th></th>\n",
       "      <th></th>\n",
       "      <th></th>\n",
       "      <th></th>\n",
       "      <th></th>\n",
       "      <th></th>\n",
       "    </tr>\n",
       "  </thead>\n",
       "  <tbody>\n",
       "    <tr>\n",
       "      <th>1</th>\n",
       "      <td>saIQmZUq</td>\n",
       "      <td>/home/ml4ig1/Documents code/scPRINT/notebooks/...</td>\n",
       "      <td>local</td>\n",
       "      <td>None</td>\n",
       "      <td>2023-11-20 12:36:53.843792+00:00</td>\n",
       "      <td>1</td>\n",
       "    </tr>\n",
       "    <tr>\n",
       "      <th>2</th>\n",
       "      <td>oIYGbD74</td>\n",
       "      <td>s3://cellxgene-data-public</td>\n",
       "      <td>s3</td>\n",
       "      <td>us-west-2</td>\n",
       "      <td>2023-11-20 12:37:11.585316+00:00</td>\n",
       "      <td>1</td>\n",
       "    </tr>\n",
       "  </tbody>\n",
       "</table>\n",
       "</div>"
      ],
      "text/plain": [
       "         uid                                               root   type  \\\n",
       "id                                                                       \n",
       "1   saIQmZUq  /home/ml4ig1/Documents code/scPRINT/notebooks/...  local   \n",
       "2   oIYGbD74                         s3://cellxgene-data-public     s3   \n",
       "\n",
       "       region                       updated_at  created_by_id  \n",
       "id                                                             \n",
       "1        None 2023-11-20 12:36:53.843792+00:00              1  \n",
       "2   us-west-2 2023-11-20 12:37:11.585316+00:00              1  "
      ]
     },
     "execution_count": 9,
     "metadata": {},
     "output_type": "execute_result"
    }
   ],
   "source": [
    "ln.Storage.filter().df()"
   ]
  },
  {
   "cell_type": "code",
   "execution_count": 7,
   "metadata": {},
   "outputs": [],
   "source": [
    "default_storage = ln.Storage.filter(root=ln.settings.storage.as_posix()).one()"
   ]
  },
  {
   "cell_type": "code",
   "execution_count": 5,
   "metadata": {},
   "outputs": [
    {
     "data": {
      "text/plain": [
       "Storage(uid='d9usNZRL', root='/home/ml4ig1/Documents code/scPRINT/notebooks/assessments/mytest2', type='local', updated_at=2023-11-21 21:35:51 UTC, created_by_id=1)"
      ]
     },
     "execution_count": 5,
     "metadata": {},
     "output_type": "execute_result"
    }
   ],
   "source": [
    "default_storage"
   ]
  },
  {
   "cell_type": "code",
   "execution_count": 12,
   "metadata": {},
   "outputs": [],
   "source": [
    "file.storage = default_storage"
   ]
  },
  {
   "cell_type": "code",
   "execution_count": 13,
   "metadata": {},
   "outputs": [],
   "source": [
    "file.save()"
   ]
  },
  {
   "cell_type": "markdown",
   "metadata": {},
   "source": [
    "# from dataset"
   ]
  },
  {
   "cell_type": "code",
   "execution_count": 3,
   "metadata": {},
   "outputs": [
    {
     "data": {
      "text/plain": [
       "Dataset(uid='EAUF1AaT4kOVyHYnZsUJ', name='cellxgene-census', version='2023-07-25', hash='pEJ9uvIeTLvHkZW2TBT5', visibility=0, updated_at=2023-10-24 16:00:07 UTC, transform_id=1, run_id=9, created_by_id=2)"
      ]
     },
     "execution_count": 3,
     "metadata": {},
     "output_type": "execute_result"
    }
   ],
   "source": [
    "cx_dataset = ln.Collection.using(\"laminlabs/cellxgene-census\").one()\n",
    "cx_dataset"
   ]
  },
  {
   "cell_type": "code",
   "execution_count": 18,
   "metadata": {},
   "outputs": [],
   "source": [
    "from django.db import IntegrityError"
   ]
  },
  {
   "cell_type": "code",
   "execution_count": 2,
   "metadata": {},
   "outputs": [
    {
     "data": {
      "text/html": [
       "<div>\n",
       "<style scoped>\n",
       "    .dataframe tbody tr th:only-of-type {\n",
       "        vertical-align: middle;\n",
       "    }\n",
       "\n",
       "    .dataframe tbody tr th {\n",
       "        vertical-align: top;\n",
       "    }\n",
       "\n",
       "    .dataframe thead th {\n",
       "        text-align: right;\n",
       "    }\n",
       "</style>\n",
       "<table border=\"1\" class=\"dataframe\">\n",
       "  <thead>\n",
       "    <tr style=\"text-align: right;\">\n",
       "      <th></th>\n",
       "      <th>uid</th>\n",
       "      <th>root</th>\n",
       "      <th>type</th>\n",
       "      <th>region</th>\n",
       "      <th>updated_at</th>\n",
       "      <th>created_by_id</th>\n",
       "    </tr>\n",
       "    <tr>\n",
       "      <th>id</th>\n",
       "      <th></th>\n",
       "      <th></th>\n",
       "      <th></th>\n",
       "      <th></th>\n",
       "      <th></th>\n",
       "      <th></th>\n",
       "    </tr>\n",
       "  </thead>\n",
       "  <tbody>\n",
       "    <tr>\n",
       "      <th>1</th>\n",
       "      <td>d9usNZRL</td>\n",
       "      <td>/home/ml4ig1/Documents code/scPRINT/notebooks/...</td>\n",
       "      <td>local</td>\n",
       "      <td>None</td>\n",
       "      <td>2023-11-21 21:35:51.871892+00:00</td>\n",
       "      <td>1</td>\n",
       "    </tr>\n",
       "    <tr>\n",
       "      <th>2</th>\n",
       "      <td>oIYGbD74</td>\n",
       "      <td>s3://cellxgene-data-public</td>\n",
       "      <td>s3</td>\n",
       "      <td>us-west-2</td>\n",
       "      <td>2023-11-21 21:37:12.693011+00:00</td>\n",
       "      <td>1</td>\n",
       "    </tr>\n",
       "  </tbody>\n",
       "</table>\n",
       "</div>"
      ],
      "text/plain": [
       "         uid                                               root   type  \\\n",
       "id                                                                       \n",
       "1   d9usNZRL  /home/ml4ig1/Documents code/scPRINT/notebooks/...  local   \n",
       "2   oIYGbD74                         s3://cellxgene-data-public     s3   \n",
       "\n",
       "       region                       updated_at  created_by_id  \n",
       "id                                                             \n",
       "1        None 2023-11-21 21:35:51.871892+00:00              1  \n",
       "2   us-west-2 2023-11-21 21:37:12.693011+00:00              1  "
      ]
     },
     "execution_count": 2,
     "metadata": {},
     "output_type": "execute_result"
    }
   ],
   "source": [
    "ln.Storage.filter().df()"
   ]
  },
  {
   "cell_type": "code",
   "execution_count": null,
   "metadata": {},
   "outputs": [],
   "source": []
  },
  {
   "cell_type": "code",
   "execution_count": 6,
   "metadata": {},
   "outputs": [
    {
     "name": "stdout",
     "output_type": "stream",
     "text": [
      "❗ no run & transform get linked, consider passing a `run` or calling ln.track()\n"
     ]
    },
    {
     "data": {
      "text/plain": [
       "Storage(uid='oIYGbD74', root='s3://cellxgene-data-public', type='s3', region='us-west-2', updated_at=2023-10-16 15:04:08 UTC, created_by_id=1)"
      ]
     },
     "execution_count": 6,
     "metadata": {},
     "output_type": "execute_result"
    }
   ],
   "source": [
    "cx_dataset.files.all()[3].storage"
   ]
  },
  {
   "cell_type": "code",
   "execution_count": 9,
   "metadata": {},
   "outputs": [
    {
     "name": "stdout",
     "output_type": "stream",
     "text": [
      "❗ no run & transform get linked, consider passing a `run` or calling ln.track()\n",
      "❗ record with CAQPyYbcP4UjgiIfniQK already exists on default database: File(uid='CAQPyYbcP4UjgiIfniQK', key='cell-census/2023-07-25/h5ads/d5c67a4e-a8d9-456d-a273-fa01adb1b308.h5ad', suffix='.h5ad', accessor='AnnData', description='Retina|d5c67a4e-a8d9-456d-a273-fa01adb1b308', size=190765719, hash='d8ZhFETfIiYt51mH7_7CtQ-23', hash_type='md5-n', visibility=0, key_is_virtual=False, updated_at=2023-10-16 15:04:08 UTC, storage_id=2, transform_id=1, run_id=1, created_by_id=1)\n",
      "❗ record with 3skUbr3O9875ELqMel6p already exists on default database: File(uid='3skUbr3O9875ELqMel6p', key='cell-census/2023-07-25/h5ads/1075c26e-5c47-43ba-902c-5b6cb864dd10.h5ad', suffix='.h5ad', accessor='AnnData', size=16579508, hash='OH3PUMiHF4zijtpdsBkbdw-2', hash_type='md5-n', visibility=0, key_is_virtual=False, updated_at=2023-10-16 15:04:08 UTC, storage_id=2, transform_id=1, run_id=1, created_by_id=1)\n",
      "❗ record with U08Kty7hcUhsXiPc86xV already exists on default database: File(uid='U08Kty7hcUhsXiPc86xV', key='cell-census/2023-07-25/h5ads/1492eb6b-7d50-4c4d-94ac-c801a7d5555c.h5ad', suffix='.h5ad', accessor='AnnData', description='Molecular characterization of selectively vulnerable neurons in Alzheimer’s Disease: SFG inhibitory neurons|1492eb6b-7d50-4c4d-94ac-c801a7d5555c', size=34987551, hash='J0tmQu1XQ6hVtreFbvHtZA-5', hash_type='md5-n', visibility=0, key_is_virtual=False, updated_at=2023-10-16 15:04:08 UTC, storage_id=2, transform_id=1, run_id=1, created_by_id=1)\n",
      "❗ record with 1JZgXoQxMHfTMUax8Hho already exists on default database: File(uid='1JZgXoQxMHfTMUax8Hho', key='cell-census/2023-07-25/h5ads/cd3c693e-64e1-4009-a941-ba3f340c7434.h5ad', suffix='.h5ad', accessor='AnnData', size=22613613, hash='lPzruZGc2nM2koFPosg3Ew-3', hash_type='md5-n', visibility=0, key_is_virtual=False, updated_at=2023-10-16 15:04:08 UTC, storage_id=2, transform_id=1, run_id=1, created_by_id=1)\n",
      "❗ record with 7RcbAunu1masChQXSJol already exists on default database: File(uid='7RcbAunu1masChQXSJol', key='cell-census/2023-07-25/h5ads/b9b4cf27-9c22-410d-8bd8-5d43e379485b.h5ad', suffix='.h5ad', accessor='AnnData', size=37905329, hash='BYvGu4WBQj7LC0eP9w1R_w-5', hash_type='md5-n', visibility=0, key_is_virtual=False, updated_at=2023-10-16 15:04:08 UTC, storage_id=2, transform_id=1, run_id=1, created_by_id=1)\n"
     ]
    }
   ],
   "source": [
    "files=[]\n",
    "for file in cx_dataset.files.all()[:5]:\n",
    "    file.save()\n",
    "    #  print(f\"File {file.uid} already exists in storage\")\n",
    "    # if location already has a file, don't save again\n",
    "    #file.path.download_to(f\"./mytest2/{file.key}\")\n",
    "    file.storage = default_storage\n",
    "    file.save()\n",
    "    files.append(file)"
   ]
  },
  {
   "cell_type": "code",
   "execution_count": 10,
   "metadata": {},
   "outputs": [
    {
     "name": "stdout",
     "output_type": "stream",
     "text": [
      "\u001b[1;92mFile\u001b[0m(uid='1JZgXoQxMHfTMUax8Hho', key='cell-census/2023-07-25/h5ads/cd3c693e-64e1-4009-a941-ba3f340c7434.h5ad', suffix='.h5ad', accessor='AnnData', size=22613613, hash='lPzruZGc2nM2koFPosg3Ew-3', hash_type='md5-n', visibility=0, key_is_virtual=False, updated_at=2023-11-22 08:27:40 UTC)\n",
      "\n",
      "\u001b[1;92mProvenance\u001b[0m:\n",
      "  🗃️ storage: Storage(uid='d9usNZRL', root='/home/ml4ig1/Documents code/scPRINT/notebooks/assessments/mytest2', type='local', updated_at=2023-11-21 21:35:51 UTC, created_by_id=1)\n",
      "  👤 created_by: User(uid='a3keNAVX', handle='jkobject', updated_at=2023-11-21 21:35:51 UTC)\n",
      "\n"
     ]
    }
   ],
   "source": [
    "files[3].describe()"
   ]
  },
  {
   "cell_type": "code",
   "execution_count": 12,
   "metadata": {},
   "outputs": [
    {
     "name": "stdout",
     "output_type": "stream",
     "text": [
      "❗ no run & transform get linked, consider passing a `run` or calling ln.track()\n"
     ]
    }
   ],
   "source": [
    "dataset = ln.Collection(\n",
    "    files, name=\"test_cxgene\", description=\"first 10 cxgene files\"\n",
    ")\n",
    "dataset.save()"
   ]
  },
  {
   "cell_type": "code",
   "execution_count": 13,
   "metadata": {},
   "outputs": [
    {
     "data": {
      "text/plain": [
       "Dataset(uid='Gc2K1R06aI7zjPqPZgAf', name='test_cxgene', description='first 10 cxgene files', hash='t5-vWhEkhRLTw2VgLX2Y', visibility=0, updated_at=2023-11-22 08:28:02 UTC, created_by_id=1)"
      ]
     },
     "execution_count": 13,
     "metadata": {},
     "output_type": "execute_result"
    }
   ],
   "source": [
    "dataset"
   ]
  }
 ],
 "metadata": {
  "kernelspec": {
   "display_name": "py310",
   "language": "python",
   "name": "python3"
  },
  "language_info": {
   "codemirror_mode": {
    "name": "ipython",
    "version": 3
   },
   "file_extension": ".py",
   "mimetype": "text/x-python",
   "name": "python",
   "nbconvert_exporter": "python",
   "pygments_lexer": "ipython3",
   "version": "3.10.0"
  }
 },
 "nbformat": 4,
 "nbformat_minor": 2
}
