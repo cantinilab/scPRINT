{
 "cells": [
  {
   "cell_type": "markdown",
   "metadata": {},
   "source": [
    "# one-off preparation of the database"
   ]
  },
  {
   "cell_type": "code",
   "execution_count": 4,
   "metadata": {},
   "outputs": [
    {
     "name": "stdout",
     "output_type": "stream",
     "text": [
      "✅ saved: User(uid='a3keNAVX', handle='jkobject', updated_at=2023-12-08 12:31:42 UTC)\n",
      "✅ saved: Storage(uid='tX3REfAQ', root='/home/ml4ig1/scprint2', type='local', updated_at=2023-12-08 12:31:42 UTC, created_by_id=1)\n",
      "💡 loaded instance: jkobject/scprint2\n",
      "💡 did not register local instance on hub\n"
     ]
    }
   ],
   "source": [
    "!lamin init --storage ~/scprint2 --schema bionty"
   ]
  },
  {
   "cell_type": "code",
   "execution_count": 1,
   "metadata": {},
   "outputs": [
    {
     "name": "stdout",
     "output_type": "stream",
     "text": [
      "💡 lamindb instance: jkobject/scprint\n"
     ]
    }
   ],
   "source": [
    "from scprint import data_utils\n",
    "\n",
    "import lamindb as ln\n",
    "import lnschema_bionty as lb\n",
    "import bionty as bt\n",
    "import pandas as pd\n",
    "\n",
    "%load_ext autoreload\n",
    "%autoreload 2"
   ]
  },
  {
   "cell_type": "code",
   "execution_count": 2,
   "metadata": {},
   "outputs": [],
   "source": [
    "lb.settings.organism = \"human\""
   ]
  },
  {
   "cell_type": "markdown",
   "metadata": {},
   "source": [
    "## prepare lamin database"
   ]
  },
  {
   "cell_type": "code",
   "execution_count": 3,
   "metadata": {},
   "outputs": [
    {
     "name": "stderr",
     "output_type": "stream",
     "text": [
      "<frozen importlib._bootstrap>:241: ResourceWarning: unclosed <ssl.SSLSocket fd=72, family=AddressFamily.AF_INET, type=SocketKind.SOCK_STREAM, proto=6, laddr=('10.20.53.10', 50016), raddr=('172.64.149.149', 443)>\n",
      "ResourceWarning: Enable tracemalloc to get the object allocation traceback\n"
     ]
    },
    {
     "data": {
      "text/plain": [
       "Dataset(uid='OirHTWDrudY2TYltvIX1', name='cellxgene-census', version='2023-07-25', hash='pEJ9uvIeTLvHkZW2TBT5', visibility=1, updated_at=2023-11-28 21:46:40 UTC, transform_id=11, run_id=16, created_by_id=1)"
      ]
     },
     "execution_count": 3,
     "metadata": {},
     "output_type": "execute_result"
    }
   ],
   "source": [
    "cx_dataset = ln.Dataset.using(\"laminlabs/cellxgene\").one()\n",
    "cx_dataset"
   ]
  },
  {
   "cell_type": "code",
   "execution_count": null,
   "metadata": {},
   "outputs": [],
   "source": [
    "mydataset = data_utils.load_dataset_local(lb, cx_dataset, \"~/scprint/\", name=\"cellxgene-local\", description=\"the full cellxgene database\", only=(229,800), use_cache=True)"
   ]
  },
  {
   "cell_type": "code",
   "execution_count": 5,
   "metadata": {},
   "outputs": [],
   "source": [
    "files = ln.File.filter()\n",
    "#loaded = ! ls ~/scprint/cell-census/2023-07-25/h5ads/"
   ]
  },
  {
   "cell_type": "code",
   "execution_count": 83,
   "metadata": {},
   "outputs": [
    {
     "name": "stdout",
     "output_type": "stream",
     "text": [
      "❗ no run & transform get linked, consider passing a `run` or calling ln.track()\n"
     ]
    },
    {
     "name": "stdout",
     "output_type": "stream",
     "text": [
      "❗ returning existing dataset with same hash: Dataset(uid='JPTWFUdspvbX8OxdO4LL', name='initial dataset', description='directly from cellxgene', hash='luh-kLdfruzsj5K3lbWG', visibility=1, updated_at=2023-12-07 10:18:58 UTC, created_by_id=1)\n"
     ]
    }
   ],
   "source": [
    "name=\"initial dataset\"\n",
    "description=\"directly from cellxgene\"\n",
    "dataset = ln.Dataset(mfiles, name=name, description=description)\n",
    "dataset.save()"
   ]
  },
  {
   "cell_type": "code",
   "execution_count": 20,
   "metadata": {},
   "outputs": [
    {
     "data": {
      "text/plain": [
       "506"
      ]
     },
     "execution_count": 20,
     "metadata": {},
     "output_type": "execute_result"
    }
   ],
   "source": [
    "len(mfiles)"
   ]
  },
  {
   "cell_type": "markdown",
   "metadata": {},
   "source": [
    "## load some known ontology names"
   ]
  },
  {
   "cell_type": "code",
   "execution_count": 9,
   "metadata": {},
   "outputs": [],
   "source": [
    "#you can also load it back\n",
    "mydataset = ln.Dataset.filter(name=\"cellxgene-local\").one()"
   ]
  },
  {
   "cell_type": "code",
   "execution_count": 1,
   "metadata": {},
   "outputs": [
    {
     "data": {
      "text/plain": [
       "(39055600, 6)"
      ]
     },
     "execution_count": 1,
     "metadata": {},
     "output_type": "execute_result"
    }
   ],
   "source": [
    "import cellxgene_census\n",
    "\n",
    "census = cellxgene_census.open_soma(census_version = \"latest\")\n",
    "val_to_get = ['self_reported_ethnicity_ontology_term_id', 'assay_ontology_term_id', 'development_stage_ontology_term_id', 'disease_ontology_term_id', 'tissue_ontology_term_id']\n",
    "df = census[\"census_data\"][\"homo_sapiens\"].obs.read(column_names=val_to_get, value_filter=\"is_primary_data == True\").concat().to_pandas()\n",
    "df2 = census[\"census_data\"][\"mus_musculus\"].obs.read(column_names=val_to_get, value_filter=\"is_primary_data == True\").concat().to_pandas()\n",
    "df.shape"
   ]
  },
  {
   "cell_type": "code",
   "execution_count": 17,
   "metadata": {},
   "outputs": [
    {
     "name": "stdout",
     "output_type": "stream",
     "text": [
      "❗ ambiguous validation in Bionty for 1 record: 'NCBITaxon:10090'\n"
     ]
    }
   ],
   "source": [
    "records = lb.Organism.from_values([\"NCBITaxon:10090\"], field=lb.Organism.ontology_id)\n",
    "ln.save([records[0]])\n",
    "lb.Organism(name=\"unknown\", ontology_id=\"unknown\").save()"
   ]
  },
  {
   "cell_type": "code",
   "execution_count": 7,
   "metadata": {},
   "outputs": [
    {
     "data": {
      "text/plain": [
       "BiontySource(uid='VTEw', entity='Gene', organism='mouse', currently_used=True, source='ensembl', source_name='Ensembl', version='release-110', url='s3://bionty-assets/df_mouse__ensembl__release-110__Gene.parquet', md5='fa4ce130f2929aefd7ac3bc8eaf0c4de', source_website='https://www.ensembl.org', updated_at=2023-11-22 09:47:07 UTC, created_by_id=1)"
      ]
     },
     "execution_count": 7,
     "metadata": {},
     "output_type": "execute_result"
    }
   ],
   "source": [
    "lb.BiontySource.filter(entity=\"Gene\", organism='mouse').first()"
   ]
  },
  {
   "cell_type": "code",
   "execution_count": 17,
   "metadata": {},
   "outputs": [
    {
     "data": {
      "text/plain": [
       "{1, 2, 4, 5}"
      ]
     },
     "execution_count": 17,
     "metadata": {},
     "output_type": "execute_result"
    }
   ],
   "source": [
    "set(lb.Gene.filter().df()['organism_id'])"
   ]
  },
  {
   "cell_type": "code",
   "execution_count": 81,
   "metadata": {},
   "outputs": [
    {
     "name": "stdout",
     "output_type": "stream",
     "text": [
      "> /home/ml4ig1/Documents code/scPRINT/scprint/dataset/utils.py(204)populate_my_ontology()\n",
      "    202 \n",
      "    203     pdb.set_trace()\n",
      "--> 204     names = bt.CellType().df().index if not celltypes else celltypes\n",
      "    205     records = lb.CellType.from_values(names, field=lb.CellType.ontology_id)\n",
      "    206     ln.save(records)\n",
      "\n",
      "❗ now recursing through parents: this only happens once, but is much slower than bulk saving\n",
      "❗ \u001b[1;91mdid not create\u001b[0m Ethnicity record for \u001b[1;93m1 non-validated\u001b[0m \u001b[3montology_id\u001b[0m: \u001b[1;93m'multiethnic'\u001b[0m\n",
      "❗ now recursing through parents: this only happens once, but is much slower than bulk saving\n",
      "❗ \u001b[1;91mdid not create\u001b[0m DevelopmentalStage record for \u001b[1;93m1 non-validated\u001b[0m \u001b[3montology_id\u001b[0m: \u001b[1;93m'unknown'\u001b[0m\n",
      "❗ now recursing through parents: this only happens once, but is much slower than bulk saving\n",
      "❗ now recursing through parents: this only happens once, but is much slower than bulk saving\n",
      "❗ records with similar names exist! did you mean to load one of them?\n"
     ]
    },
    {
     "data": {
      "text/html": [
       "<div>\n",
       "<style scoped>\n",
       "    .dataframe tbody tr th:only-of-type {\n",
       "        vertical-align: middle;\n",
       "    }\n",
       "\n",
       "    .dataframe tbody tr th {\n",
       "        vertical-align: top;\n",
       "    }\n",
       "\n",
       "    .dataframe thead th {\n",
       "        text-align: right;\n",
       "    }\n",
       "</style>\n",
       "<table border=\"1\" class=\"dataframe\">\n",
       "  <thead>\n",
       "    <tr style=\"text-align: right;\">\n",
       "      <th></th>\n",
       "      <th>uid</th>\n",
       "      <th>synonyms</th>\n",
       "      <th>score</th>\n",
       "    </tr>\n",
       "    <tr>\n",
       "      <th>name</th>\n",
       "      <th></th>\n",
       "      <th></th>\n",
       "      <th></th>\n",
       "    </tr>\n",
       "  </thead>\n",
       "  <tbody>\n",
       "    <tr>\n",
       "      <th>Noonan syndrome</th>\n",
       "      <td>PR8Zk54a</td>\n",
       "      <td>Noonan's syndrome|Turner's phenotype, karyotyp...</td>\n",
       "      <td>90.0</td>\n",
       "    </tr>\n",
       "    <tr>\n",
       "      <th>PLG-related hereditary angioedema with normal C1inh</th>\n",
       "      <td>nWJslCey</td>\n",
       "      <td>PLG-related HAE with normal C1 inhibitor</td>\n",
       "      <td>90.0</td>\n",
       "    </tr>\n",
       "    <tr>\n",
       "      <th>Pacinian tumor</th>\n",
       "      <td>7oJdjev9</td>\n",
       "      <td>Pacinian neurofibroma|Pacinian tumor (morpholo...</td>\n",
       "      <td>90.0</td>\n",
       "    </tr>\n",
       "    <tr>\n",
       "      <th>abnormal pupillary function</th>\n",
       "      <td>OcIbPVkb</td>\n",
       "      <td>abnormal pupillary function (disease)|abnormal...</td>\n",
       "      <td>90.0</td>\n",
       "    </tr>\n",
       "    <tr>\n",
       "      <th>abnormal threshold of rods</th>\n",
       "      <td>FLtCc0CF</td>\n",
       "      <td>abnormal dark adaptation curve</td>\n",
       "      <td>90.0</td>\n",
       "    </tr>\n",
       "    <tr>\n",
       "      <th>acinar cell carcinoma</th>\n",
       "      <td>5eieG3Hz</td>\n",
       "      <td>acinar cell adenocarcinoma|acinar carcinoma|ac...</td>\n",
       "      <td>90.0</td>\n",
       "    </tr>\n",
       "    <tr>\n",
       "      <th>acute myeloid leukemia with 11q23 abnormalities</th>\n",
       "      <td>3esmrKXF</td>\n",
       "      <td>acute myeloid Leukemia with t(9;11)(p21.3;q23....</td>\n",
       "      <td>90.0</td>\n",
       "    </tr>\n",
       "    <tr>\n",
       "      <th>adenocarcinoma</th>\n",
       "      <td>O8eOaxZg</td>\n",
       "      <td>adenocarcinoma, malignant|adenocarcinomas|aden...</td>\n",
       "      <td>90.0</td>\n",
       "    </tr>\n",
       "    <tr>\n",
       "      <th>adenomatoid tumor</th>\n",
       "      <td>pkFcp0xT</td>\n",
       "      <td>adenomatoid tumor|adenomatoid tumor (morpholog...</td>\n",
       "      <td>90.0</td>\n",
       "    </tr>\n",
       "    <tr>\n",
       "      <th>atypical hemolytic uremic syndrome with complement gene abnormality</th>\n",
       "      <td>bcj2cLS1</td>\n",
       "      <td>aHUS with complement gene abnormality|Atypical...</td>\n",
       "      <td>90.0</td>\n",
       "    </tr>\n",
       "    <tr>\n",
       "      <th>benign mesonephroma</th>\n",
       "      <td>EjYBZ0Sh</td>\n",
       "      <td>Mesonephroma, benign|mesonephric neoplasm, ben...</td>\n",
       "      <td>90.0</td>\n",
       "    </tr>\n",
       "    <tr>\n",
       "      <th>corpus callosum agenesis-abnormal genitalia syndrome</th>\n",
       "      <td>toGW7vod</td>\n",
       "      <td>Proud-Levine-Carpenter syndrome|ACC-abnormal g...</td>\n",
       "      <td>90.0</td>\n",
       "    </tr>\n",
       "    <tr>\n",
       "      <th>obsolete acute myeloid leukemia with recurrent genetic anomaly</th>\n",
       "      <td>4xrywWfg</td>\n",
       "      <td>AML with recurrent Genetic abnormalities|acute...</td>\n",
       "      <td>90.0</td>\n",
       "    </tr>\n",
       "    <tr>\n",
       "      <th>obsolete neurological disease with abnormal eye movements</th>\n",
       "      <td>NQ4wuofC</td>\n",
       "      <td>abnormal eye movements</td>\n",
       "      <td>90.0</td>\n",
       "    </tr>\n",
       "    <tr>\n",
       "      <th>olfactory neuroblastoma</th>\n",
       "      <td>NWdV07Tw</td>\n",
       "      <td>paranasal sinus olfactory neuroblastoma|Asthes...</td>\n",
       "      <td>90.0</td>\n",
       "    </tr>\n",
       "    <tr>\n",
       "      <th>pregnancy adenoma</th>\n",
       "      <td>IvBpmbJQ</td>\n",
       "      <td>Lactating adenoma|Lactating adenoma (morpholog...</td>\n",
       "      <td>90.0</td>\n",
       "    </tr>\n",
       "    <tr>\n",
       "      <th>renal coloboma syndrome</th>\n",
       "      <td>rezMDb6e</td>\n",
       "      <td>congenital anomalies of the kidney and urinary...</td>\n",
       "      <td>90.0</td>\n",
       "    </tr>\n",
       "    <tr>\n",
       "      <th>thrombocytopenia 1</th>\n",
       "      <td>CL0yLeK6</td>\n",
       "      <td>thrombocytopenia type 1|X-linked thrombocytope...</td>\n",
       "      <td>90.0</td>\n",
       "    </tr>\n",
       "  </tbody>\n",
       "</table>\n",
       "</div>"
      ],
      "text/plain": [
       "                                                         uid  \\\n",
       "name                                                           \n",
       "Noonan syndrome                                     PR8Zk54a   \n",
       "PLG-related hereditary angioedema with normal C...  nWJslCey   \n",
       "Pacinian tumor                                      7oJdjev9   \n",
       "abnormal pupillary function                         OcIbPVkb   \n",
       "abnormal threshold of rods                          FLtCc0CF   \n",
       "acinar cell carcinoma                               5eieG3Hz   \n",
       "acute myeloid leukemia with 11q23 abnormalities     3esmrKXF   \n",
       "adenocarcinoma                                      O8eOaxZg   \n",
       "adenomatoid tumor                                   pkFcp0xT   \n",
       "atypical hemolytic uremic syndrome with complem...  bcj2cLS1   \n",
       "benign mesonephroma                                 EjYBZ0Sh   \n",
       "corpus callosum agenesis-abnormal genitalia syn...  toGW7vod   \n",
       "obsolete acute myeloid leukemia with recurrent ...  4xrywWfg   \n",
       "obsolete neurological disease with abnormal eye...  NQ4wuofC   \n",
       "olfactory neuroblastoma                             NWdV07Tw   \n",
       "pregnancy adenoma                                   IvBpmbJQ   \n",
       "renal coloboma syndrome                             rezMDb6e   \n",
       "thrombocytopenia 1                                  CL0yLeK6   \n",
       "\n",
       "                                                                                             synonyms  \\\n",
       "name                                                                                                    \n",
       "Noonan syndrome                                     Noonan's syndrome|Turner's phenotype, karyotyp...   \n",
       "PLG-related hereditary angioedema with normal C...           PLG-related HAE with normal C1 inhibitor   \n",
       "Pacinian tumor                                      Pacinian neurofibroma|Pacinian tumor (morpholo...   \n",
       "abnormal pupillary function                         abnormal pupillary function (disease)|abnormal...   \n",
       "abnormal threshold of rods                                             abnormal dark adaptation curve   \n",
       "acinar cell carcinoma                               acinar cell adenocarcinoma|acinar carcinoma|ac...   \n",
       "acute myeloid leukemia with 11q23 abnormalities     acute myeloid Leukemia with t(9;11)(p21.3;q23....   \n",
       "adenocarcinoma                                      adenocarcinoma, malignant|adenocarcinomas|aden...   \n",
       "adenomatoid tumor                                   adenomatoid tumor|adenomatoid tumor (morpholog...   \n",
       "atypical hemolytic uremic syndrome with complem...  aHUS with complement gene abnormality|Atypical...   \n",
       "benign mesonephroma                                 Mesonephroma, benign|mesonephric neoplasm, ben...   \n",
       "corpus callosum agenesis-abnormal genitalia syn...  Proud-Levine-Carpenter syndrome|ACC-abnormal g...   \n",
       "obsolete acute myeloid leukemia with recurrent ...  AML with recurrent Genetic abnormalities|acute...   \n",
       "obsolete neurological disease with abnormal eye...                             abnormal eye movements   \n",
       "olfactory neuroblastoma                             paranasal sinus olfactory neuroblastoma|Asthes...   \n",
       "pregnancy adenoma                                   Lactating adenoma|Lactating adenoma (morpholog...   \n",
       "renal coloboma syndrome                             congenital anomalies of the kidney and urinary...   \n",
       "thrombocytopenia 1                                  thrombocytopenia type 1|X-linked thrombocytope...   \n",
       "\n",
       "                                                    score  \n",
       "name                                                       \n",
       "Noonan syndrome                                      90.0  \n",
       "PLG-related hereditary angioedema with normal C...   90.0  \n",
       "Pacinian tumor                                       90.0  \n",
       "abnormal pupillary function                          90.0  \n",
       "abnormal threshold of rods                           90.0  \n",
       "acinar cell carcinoma                                90.0  \n",
       "acute myeloid leukemia with 11q23 abnormalities      90.0  \n",
       "adenocarcinoma                                       90.0  \n",
       "adenomatoid tumor                                    90.0  \n",
       "atypical hemolytic uremic syndrome with complem...   90.0  \n",
       "benign mesonephroma                                  90.0  \n",
       "corpus callosum agenesis-abnormal genitalia syn...   90.0  \n",
       "obsolete acute myeloid leukemia with recurrent ...   90.0  \n",
       "obsolete neurological disease with abnormal eye...   90.0  \n",
       "olfactory neuroblastoma                              90.0  \n",
       "pregnancy adenoma                                    90.0  \n",
       "renal coloboma syndrome                              90.0  \n",
       "thrombocytopenia 1                                   90.0  "
      ]
     },
     "metadata": {},
     "output_type": "display_data"
    },
    {
     "name": "stdout",
     "output_type": "stream",
     "text": [
      "❗ records with similar names exist! did you mean to load one of them?\n"
     ]
    },
    {
     "data": {
      "text/html": [
       "<div>\n",
       "<style scoped>\n",
       "    .dataframe tbody tr th:only-of-type {\n",
       "        vertical-align: middle;\n",
       "    }\n",
       "\n",
       "    .dataframe tbody tr th {\n",
       "        vertical-align: top;\n",
       "    }\n",
       "\n",
       "    .dataframe thead th {\n",
       "        text-align: right;\n",
       "    }\n",
       "</style>\n",
       "<table border=\"1\" class=\"dataframe\">\n",
       "  <thead>\n",
       "    <tr style=\"text-align: right;\">\n",
       "      <th></th>\n",
       "      <th>uid</th>\n",
       "      <th>synonyms</th>\n",
       "      <th>score</th>\n",
       "    </tr>\n",
       "    <tr>\n",
       "      <th>name</th>\n",
       "      <th></th>\n",
       "      <th></th>\n",
       "      <th></th>\n",
       "    </tr>\n",
       "  </thead>\n",
       "  <tbody>\n",
       "    <tr>\n",
       "      <th>cancer of unknown primary site</th>\n",
       "      <td>wBFcNNtH</td>\n",
       "      <td></td>\n",
       "      <td>90.0</td>\n",
       "    </tr>\n",
       "    <tr>\n",
       "      <th>chronic intervillositis of unknown etiology</th>\n",
       "      <td>d10sK6bb</td>\n",
       "      <td>CIUE</td>\n",
       "      <td>90.0</td>\n",
       "    </tr>\n",
       "    <tr>\n",
       "      <th>monoclonal gammopathy of uncertain significance</th>\n",
       "      <td>RWETMdHi</td>\n",
       "      <td>monoclonal gammopathy, benign|benign monoclona...</td>\n",
       "      <td>90.0</td>\n",
       "    </tr>\n",
       "    <tr>\n",
       "      <th>mucinous adenocarcinoma</th>\n",
       "      <td>uCV8mi51</td>\n",
       "      <td>colloid adenocarcinoma|mucin-producing adenoca...</td>\n",
       "      <td>90.0</td>\n",
       "    </tr>\n",
       "    <tr>\n",
       "      <th>sporadic adult-onset ataxia of unknown etiology</th>\n",
       "      <td>ciICnEgz</td>\n",
       "      <td>SAOA|idiopathic late-onset cerebellar ataxia</td>\n",
       "      <td>90.0</td>\n",
       "    </tr>\n",
       "    <tr>\n",
       "      <th>unknown leukodystrophy</th>\n",
       "      <td>im1dGXZx</td>\n",
       "      <td></td>\n",
       "      <td>90.0</td>\n",
       "    </tr>\n",
       "  </tbody>\n",
       "</table>\n",
       "</div>"
      ],
      "text/plain": [
       "                                                      uid  \\\n",
       "name                                                        \n",
       "cancer of unknown primary site                   wBFcNNtH   \n",
       "chronic intervillositis of unknown etiology      d10sK6bb   \n",
       "monoclonal gammopathy of uncertain significance  RWETMdHi   \n",
       "mucinous adenocarcinoma                          uCV8mi51   \n",
       "sporadic adult-onset ataxia of unknown etiology  ciICnEgz   \n",
       "unknown leukodystrophy                           im1dGXZx   \n",
       "\n",
       "                                                                                          synonyms  \\\n",
       "name                                                                                                 \n",
       "cancer of unknown primary site                                                                       \n",
       "chronic intervillositis of unknown etiology                                                   CIUE   \n",
       "monoclonal gammopathy of uncertain significance  monoclonal gammopathy, benign|benign monoclona...   \n",
       "mucinous adenocarcinoma                          colloid adenocarcinoma|mucin-producing adenoca...   \n",
       "sporadic adult-onset ataxia of unknown etiology       SAOA|idiopathic late-onset cerebellar ataxia   \n",
       "unknown leukodystrophy                                                                               \n",
       "\n",
       "                                                 score  \n",
       "name                                                    \n",
       "cancer of unknown primary site                    90.0  \n",
       "chronic intervillositis of unknown etiology       90.0  \n",
       "monoclonal gammopathy of uncertain significance   90.0  \n",
       "mucinous adenocarcinoma                           90.0  \n",
       "sporadic adult-onset ataxia of unknown etiology   90.0  \n",
       "unknown leukodystrophy                            90.0  "
      ]
     },
     "metadata": {},
     "output_type": "display_data"
    },
    {
     "name": "stdout",
     "output_type": "stream",
     "text": [
      "❗ \u001b[1;91mdid not create\u001b[0m Gene records for \u001b[1;93m56941 non-validated\u001b[0m \u001b[3mensembl_gene_ids\u001b[0m: \u001b[1;93m'ENSMUSG00000000001', 'ENSMUSG00000000003', 'ENSMUSG00000000028', 'ENSMUSG00000000031', 'ENSMUSG00000000037', 'ENSMUSG00000000049', 'ENSMUSG00000000056', 'ENSMUSG00000000058', 'ENSMUSG00000000078', 'ENSMUSG00000000085', 'ENSMUSG00000000088', 'ENSMUSG00000000093', 'ENSMUSG00000000094', 'ENSMUSG00000000103', 'ENSMUSG00000000120', 'ENSMUSG00000000125', 'ENSMUSG00000000126', 'ENSMUSG00000000127', 'ENSMUSG00000000131', 'ENSMUSG00000000134', ...\u001b[0m\n"
     ]
    }
   ],
   "source": [
    "data_utils.populate_my_ontology(lb=lb,\n",
    "    #organisms=[\"NCBITaxon:10090\",],# \"NCBITaxon:9606\"],\n",
    "    sex=[\"PATO:0000384\", \"PATO:0000383\"],\n",
    "    ethnicities=df['self_reported_ethnicity_ontology_term_id'].unique().tolist(),\n",
    "    assays=list(set(df['assay_ontology_term_id'].unique()).union(df2['assay_ontology_term_id'].unique())) + ['EFO:0010961'],\n",
    "    tissues=list(set(df['tissue_ontology_term_id'].unique()).union(df2['tissue_ontology_term_id'].unique())),\n",
    "    # we load all possible diseases. makes it easier\n",
    "    #diseases=list(set(df['disease_ontology_term_id'].unique()).union(df2['disease_ontology_term_id'].unique())),\n",
    "    # we load all possible cell types too.\n",
    "    dev_stages=list(df['development_stage_ontology_term_id'].unique()),)"
   ]
  },
  {
   "cell_type": "code",
   "execution_count": 18,
   "metadata": {},
   "outputs": [
    {
     "ename": "NameError",
     "evalue": "name 'df2' is not defined",
     "output_type": "error",
     "traceback": [
      "\u001b[0;31m---------------------------------------------------------------------------\u001b[0m",
      "\u001b[0;31mNameError\u001b[0m                                 Traceback (most recent call last)",
      "\u001b[1;32m/home/ml4ig1/Documents code/scPRINT/notebooks/assessments/finalize_data_loader.ipynb Cell 18\u001b[0m line \u001b[0;36m4\n\u001b[1;32m      <a href='vscode-notebook-cell://ssh-remote%2Bperso/home/ml4ig1/Documents%20code/scPRINT/notebooks/assessments/finalize_data_loader.ipynb#X21sdnNjb2RlLXJlbW90ZQ%3D%3D?line=0'>1</a>\u001b[0m \u001b[39mimport\u001b[39;00m \u001b[39mbionty\u001b[39;00m \u001b[39mas\u001b[39;00m \u001b[39mbt\u001b[39;00m\n\u001b[1;32m      <a href='vscode-notebook-cell://ssh-remote%2Bperso/home/ml4ig1/Documents%20code/scPRINT/notebooks/assessments/finalize_data_loader.ipynb#X21sdnNjb2RlLXJlbW90ZQ%3D%3D?line=2'>3</a>\u001b[0m bionty_source_ds_mouse \u001b[39m=\u001b[39m lb\u001b[39m.\u001b[39mBiontySource\u001b[39m.\u001b[39mfilter(entity\u001b[39m=\u001b[39m\u001b[39m\"\u001b[39m\u001b[39mDevelopmentalStage\u001b[39m\u001b[39m\"\u001b[39m, organism\u001b[39m=\u001b[39m\u001b[39m\"\u001b[39m\u001b[39mmouse\u001b[39m\u001b[39m\"\u001b[39m)\u001b[39m.\u001b[39mone()\n\u001b[0;32m----> <a href='vscode-notebook-cell://ssh-remote%2Bperso/home/ml4ig1/Documents%20code/scPRINT/notebooks/assessments/finalize_data_loader.ipynb#X21sdnNjb2RlLXJlbW90ZQ%3D%3D?line=3'>4</a>\u001b[0m records \u001b[39m=\u001b[39m lb\u001b[39m.\u001b[39mDevelopmentalStage\u001b[39m.\u001b[39mfrom_values(df2[\u001b[39m'\u001b[39m\u001b[39mdevelopment_stage_ontology_term_id\u001b[39m\u001b[39m'\u001b[39m]\u001b[39m.\u001b[39munique()\u001b[39m.\u001b[39mtolist(), field\u001b[39m=\u001b[39mlb\u001b[39m.\u001b[39mDevelopmentalStage\u001b[39m.\u001b[39montology_id, bionty_source\u001b[39m=\u001b[39mbionty_source_ds_mouse)\n\u001b[1;32m      <a href='vscode-notebook-cell://ssh-remote%2Bperso/home/ml4ig1/Documents%20code/scPRINT/notebooks/assessments/finalize_data_loader.ipynb#X21sdnNjb2RlLXJlbW90ZQ%3D%3D?line=4'>5</a>\u001b[0m ln\u001b[39m.\u001b[39msave(records)\n",
      "\u001b[0;31mNameError\u001b[0m: name 'df2' is not defined"
     ]
    }
   ],
   "source": [
    "import bionty as bt\n",
    "\n",
    "bionty_source_ds_mouse = lb.BiontySource.filter(entity=\"DevelopmentalStage\", organism=\"mouse\").one()\n",
    "records = lb.DevelopmentalStage.from_values(df2['development_stage_ontology_term_id'].unique().tolist(), field=lb.DevelopmentalStage.ontology_id, bionty_source=bionty_source_ds_mouse)\n",
    "ln.save(records)"
   ]
  },
  {
   "cell_type": "code",
   "execution_count": 19,
   "metadata": {},
   "outputs": [],
   "source": [
    "assay = ['EFO:0010961']"
   ]
  },
  {
   "cell_type": "code",
   "execution_count": 20,
   "metadata": {},
   "outputs": [],
   "source": [
    "records = lb.ExperimentalFactor.from_values(assay, field=lb.ExperimentalFactor.ontology_id)\n",
    "ln.save(records)"
   ]
  },
  {
   "cell_type": "markdown",
   "metadata": {},
   "source": [
    "## add some missing ontology names"
   ]
  },
  {
   "cell_type": "code",
   "execution_count": 5,
   "metadata": {},
   "outputs": [],
   "source": [
    "from scprint.dataset.utils import get_ancestry_mapping"
   ]
  },
  {
   "cell_type": "code",
   "execution_count": null,
   "metadata": {},
   "outputs": [],
   "source": [
    "additional_tissues = {\n",
    "    \"UBERON:0037144\": \"wall of heart\",\n",
    "    \"UBERON:0003929\": \"digestive tract epithelium\",\n",
    "    \"UBERON:0002020\": \"gray matter\",\n",
    "    \"UBERON:0000200\": \"gyrus\",\n",
    "    \"UBERON:0000101\": \"lobe of lung\",\n",
    "    \"UBERON:0001981\": \"blood vessel\",\n",
    "    \"UBERON:0001474\": \"bone element\",\n",
    "}\n",
    "\n",
    "additional_diseases = {\n",
    "    \"MONDO:0001106\": \"kidney failure\",\n",
    "    \"MONDO:0021166\": \"inflammatory disease\",\n",
    "    \"MONDO:0004992\": \"cancer\",\n",
    "    \"MONDO:0004994\": \"cardiomyopathy\",\n",
    "    \"MONDO:0700065\": \"trisomy\",\n",
    "    \"MONDO:0021042\": \"glioma\",\n",
    "    \"MONDO:0005265\": \"inflammatory bowel disease\",\n",
    "    \"MONDO:0005550\": \"infectious disease\",\n",
    "    \"MONDO:0005059\": \"leukemia\",\n",
    "}\n",
    "\n",
    "additional_assays = {\n",
    "    \"EFO:0010184\": \"Smart-like\",\n",
    "}"
   ]
  },
  {
   "cell_type": "markdown",
   "metadata": {},
   "source": [
    "\n",
    "Did it using the code below to figure out things we might want to add etc.."
   ]
  },
  {
   "cell_type": "code",
   "execution_count": null,
   "metadata": {},
   "outputs": [],
   "source": [
    "mapping, anc, leafs = get_ancestry_mapping(df['tissue_ontology_term_id'].unique(), lb.Tissue.filter().df(include=[\"parents__ontology_id\"]).set_index(\"ontology_id\"))\n",
    "# getting only the leaves for which we don't have a parent\n",
    "leafs = list(leafs - set.union(*[mapping[val] for val in mapping.keys()]))"
   ]
  },
  {
   "cell_type": "code",
   "execution_count": null,
   "metadata": {},
   "outputs": [],
   "source": [
    "lb.Tissue.search(list(leafs)[108], field=\"ontology_id\",return_queryset=True).first().view_parents()"
   ]
  },
  {
   "cell_type": "markdown",
   "metadata": {},
   "source": [
    "## Preprocessing"
   ]
  },
  {
   "cell_type": "code",
   "execution_count": 22,
   "metadata": {},
   "outputs": [],
   "source": [
    "from scprint.dataset.preprocess import Preprocessor\n",
    "import scanpy as sc\n",
    "import numpy as np\n"
   ]
  },
  {
   "cell_type": "code",
   "execution_count": 23,
   "metadata": {},
   "outputs": [],
   "source": [
    "def additional_preprocess(adata):\n",
    "    adata.obs = adata.obs.replace({'self_reported_ethnicity_ontology_term_id':{\n",
    "        'multiethnic':'unknown',\n",
    "        'American':'unknown',\n",
    "        'Jewish Israeli': 'unknown',\n",
    "        'na':'unknown',\n",
    "    }}) #multi ethnic will have to get renamed\n",
    "    adata.obs['cell_culture'] = False\n",
    "    # if cell_type contains the word \"(cell culture)\" then it is a cell culture and we mark it as so and remove this from the cell type\n",
    "    loc = adata.obs['cell_type_ontology_term_id'].str.contains(\"(cell culture)\")\n",
    "    if loc.sum()>0:\n",
    "        adata.obs.loc[loc, 'cell_culture'] = True\n",
    "        adata.obs.loc[loc, 'cell_type_ontology_term_id'] = adata.obs.loc[loc, 'cell_type_ontology_term_id'].str.replace(\" (cell culture)\", \"\")\n",
    "    return adata\n",
    "\n",
    "def additional_postprocess(adata):\n",
    "    # define the \"up to\" 10 neighbors for each cells and add to obs\n",
    "    # compute neighbors\n",
    "    # need to be connectivities and same labels [cell type, assay, dataset, disease]\n",
    "    # define the \"neighbor\" up to 10(N) cells and add to obs\n",
    "    # define the \"next time point\" up to 5(M) cells and add to obs  # step 1: filter genes\n",
    "    sc.tl.diffmap(adata)\n",
    "    # create a meta group\n",
    "    adata.obs['dpt_group'] = adata.obs['leiden_1'].astype(str) + \"_\" + adata.obs['disease_ontology_term_id'].astype(str) + \"_\" + adata.obs['cell_type_ontology_term_id'].astype(str) + \"_\" + adata.obs['tissue_ontology_term_id'].astype(str) #+ \"_\" + adata.obs['dataset_id'].astype(str)\n",
    "\n",
    "    # if group is too small\n",
    "    okgroup = [i for i, j in adata.obs['dpt_group'].value_counts().items() if j>=10]\n",
    "    not_okgroup = [i for i, j in adata.obs['dpt_group'].value_counts().items() if j<3]\n",
    "    # set the group to empty\n",
    "    adata.obs.loc[adata.obs['dpt_group'].isin(not_okgroup), 'dpt_group'] = ''\n",
    "    adata.obs['heat_diff'] = np.nan\n",
    "    # for each group\n",
    "    for val in set(okgroup):\n",
    "        if val == '':\n",
    "            continue\n",
    "        # get the best root cell\n",
    "        eq = adata.obs.dpt_group==val\n",
    "        loc = np.where(eq)[0]\n",
    "\n",
    "        root_ixs = loc[adata.obsm[\"X_diffmap\"][eq, 0].argmin()]\n",
    "        adata.uns[\"iroot\"] = root_ixs\n",
    "        # compute the diffusion pseudo time from it\n",
    "        sc.tl.dpt(adata)\n",
    "        adata.obs.loc[eq, 'heat_diff'] = adata.obs.loc[eq, 'dpt_pseudotime']\n",
    "        adata.obs.drop(columns=['dpt_pseudotime'], inplace=True)\n",
    "\n",
    "    #sort so that the next time points are aligned for all groups\n",
    "    adata = adata[adata.obs.sort_values(['dpt_group','heat_diff']).index]\n",
    "    #to query N next time points we just get the N elements below and check they are in the group\n",
    "    # to query the N nearest neighbors we just get the N elements above and N below and check they are in the group\n",
    "    return adata\n",
    "\n",
    "do_preprocess = Preprocessor(lb, additional_postprocess=additional_postprocess, additional_preprocess=additional_preprocess, cache=True)\n"
   ]
  },
  {
   "cell_type": "code",
   "execution_count": 9,
   "metadata": {},
   "outputs": [
    {
     "name": "stdout",
     "output_type": "stream",
     "text": [
      "❗ no run & transform get linked, consider passing a `run` or calling ln.track()\n"
     ]
    }
   ],
   "source": [
    "for i in cx_dataset.files.all()[5:]:\n",
    "    if i.key == 'cell-census/2023-07-25/h5ads/019c7af2-c827-4454-9970-44d5e39ce068.h5ad':\n",
    "        break"
   ]
  },
  {
   "cell_type": "code",
   "execution_count": 16,
   "metadata": {},
   "outputs": [
    {
     "name": "stderr",
     "output_type": "stream",
     "text": [
      "/home/ml4ig1/miniconda3/envs/scprint/lib/python3.10/asyncio/events.py:105: ResourceWarning: unclosed <ssl.SSLSocket fd=78, family=AddressFamily.AF_INET, type=SocketKind.SOCK_STREAM, proto=6, laddr=('10.20.53.10', 46722), raddr=('104.18.38.107', 443)>\n",
      "  super().__init__(callback, args, loop, context)\n",
      "ResourceWarning: Enable tracemalloc to get the object allocation traceback\n"
     ]
    },
    {
     "name": "stderr",
     "output_type": "stream",
     "text": [
      "/home/ml4ig1/miniconda3/envs/scprint/lib/python3.10/asyncio/sslproto.py:320: ResourceWarning: unclosed transport <asyncio.sslproto._SSLProtocolTransport object at 0x7f1655755fc0>\n",
      "  _warn(f\"unclosed transport {self!r}\", ResourceWarning, source=self)\n",
      "ResourceWarning: Enable tracemalloc to get the object allocation traceback\n"
     ]
    }
   ],
   "source": [
    "adata = i.load(stream=True)"
   ]
  },
  {
   "cell_type": "code",
   "execution_count": 28,
   "metadata": {},
   "outputs": [
    {
     "data": {
      "text/plain": [
       "<QuerySet [File(uid='CAQPyYbcP4UjgiIfniQK', key='cell-census/2023-07-25/h5ads/d5c67a4e-a8d9-456d-a273-fa01adb1b308.h5ad', suffix='.h5ad', accessor='AnnData', description='Retina|d5c67a4e-a8d9-456d-a273-fa01adb1b308', version='1', size=190765719, hash='d8ZhFETfIiYt51mH7_7CtQ-23', hash_type='md5-n', visibility=1, key_is_virtual=False, updated_at=2023-11-22 13:39:58 UTC, storage_id=1, created_by_id=1), File(uid='U08Kty7hcUhsXiPc86xV', key='cell-census/2023-07-25/h5ads/1492eb6b-7d50-4c4d-94ac-c801a7d5555c.h5ad', suffix='.h5ad', accessor='AnnData', description='Molecular characterization of selectively vulnerable neurons in Alzheimer’s Disease: SFG inhibitory neurons|1492eb6b-7d50-4c4d-94ac-c801a7d5555c', size=34987551, hash='J0tmQu1XQ6hVtreFbvHtZA-5', hash_type='md5-n', visibility=1, key_is_virtual=False, updated_at=2023-11-22 12:07:05 UTC, storage_id=1, created_by_id=1), File(uid='gzAj709t00R5NMkapudm', key='cell-census/2023-07-25/h5ads/75a881cf-5d88-46e2-bf9b-97e5cbc1bd56.h5ad', suffix='.h5ad', accessor='AnnData', description='Molecular characterization of selectively vulnerable neurons in Alzheimer’s Disease: EC inhibitory neurons|75a881cf-5d88-46e2-bf9b-97e5cbc1bd56', size=21360007, hash='fO12hKsCXs9Az25zhBHFfA-3', hash_type='md5-n', visibility=1, key_is_virtual=False, updated_at=2023-11-22 12:07:48 UTC, storage_id=1, created_by_id=1), File(uid='CF6cUkWcaCOfILy4lEzJ', key='cell-census/2023-07-25/h5ads/63bb6359-3945-4658-92eb-3072419953e4.h5ad', suffix='.h5ad', accessor='AnnData', description='UMAP of T-Cells cells|63bb6359-3945-4658-92eb-3072419953e4', size=65838835, hash='TJM_vSww7sssO9Bvv2xkAg-8', hash_type='md5-n', visibility=1, key_is_virtual=False, updated_at=2023-11-22 12:08:04 UTC, storage_id=1, created_by_id=1), File(uid='EIgNmpJKnjQMLr2FWj2V', key='cell-census/2023-07-25/h5ads/a1e16320-801b-4d0a-b60d-ebf9b4130bb4.h5ad', suffix='.h5ad', accessor='AnnData', version='1', size=61755072, hash='jUJs48yQ_4uQp3TfhSwbIg-8', hash_type='md5-n', visibility=1, key_is_virtual=False, updated_at=2023-11-29 17:19:33 UTC, storage_id=1, created_by_id=1), File(uid='nlJeDeXvmMXXjwIuJDV4', key='cell-census/2023-07-25/h5ads/fd89be61-2869-4342-a86e-e1fce3a8f269.h5ad', suffix='.h5ad', accessor='AnnData', description='Spatiotemporal analysis of human intestinal development at single-cell resolution: Epithelium|fd89be61-2869-4342-a86e-e1fce3a8f269', size=268499219, hash='UZ9TAhWMWYqWfDINxmJoGA-33', hash_type='md5-n', visibility=1, key_is_virtual=False, updated_at=2023-11-22 12:08:50 UTC, storage_id=1, created_by_id=1), File(uid='JZDpATQJU1VlGmmxd2FJ', key='cell-census/2023-07-25/h5ads/9d8e5dca-03a3-457d-b7fb-844c75735c83.h5ad', suffix='.h5ad', accessor='AnnData', description='22 integrated samples|9d8e5dca-03a3-457d-b7fb-844c75735c83', version='1', size=1012663318, hash='6nIzvSgnc8NotVBWQocA1Q-121', hash_type='md5-n', visibility=1, key_is_virtual=False, updated_at=2023-11-29 17:26:52 UTC, storage_id=1, created_by_id=1), File(uid='uGuBZ6dvRiKuO3CppZcC', key='cell-census/2023-07-25/h5ads/12967895-3d58-4e93-be2c-4e1bcf4388d5.h5ad', suffix='.h5ad', accessor='AnnData', description='Mouse Female|12967895-3d58-4e93-be2c-4e1bcf4388d5', version='1', size=1241982661, hash='5-cVWCr5IIKp6gHIkW85Ww-149', hash_type='md5-n', visibility=1, key_is_virtual=False, updated_at=2023-11-30 09:00:03 UTC, storage_id=1, created_by_id=1), File(uid='SFjXiwn4TtCjQr61iTTz', key='cell-census/2023-07-25/h5ads/0ee5ae70-c3f5-473f-bd1c-287f4690ffc5.h5ad', suffix='.h5ad', accessor='AnnData', description='Dissection: Myelencephalon (medulla oblongata) (Mo) - sensory relay nuclei in medulla oblongata - MoSR|0ee5ae70-c3f5-473f-bd1c-287f4690ffc5', version='1', size=74074121, hash='JOyja48fPmwoutssHz-7Nw-9', hash_type='md5-n', visibility=1, key_is_virtual=False, updated_at=2023-11-30 09:01:43 UTC, storage_id=1, created_by_id=1), File(uid='AwrqRXcoVdw3EkMRGM1u', key='cell-census/2023-07-25/h5ads/a14a995b-2f1d-40df-8f61-ab2754cac630.h5ad', suffix='.h5ad', accessor='AnnData', description='e18.5 glutamatergic lineage|a14a995b-2f1d-40df-8f61-ab2754cac630', size=79173817, hash='ge7WKISElTxr-okPaiaAKA-10', hash_type='md5-n', visibility=1, key_is_virtual=False, updated_at=2023-11-22 12:14:15 UTC, storage_id=1, created_by_id=1), File(uid='3FG91fFfwwzMHauO0YDh', key='cell-census/2023-07-25/h5ads/d77ec7d6-ef2e-49d6-9e79-05b7f8881484.h5ad', suffix='.h5ad', accessor='AnnData', description='Tabula Sapiens - Prostate|d77ec7d6-ef2e-49d6-9e79-05b7f8881484', size=366367909, hash='k2xw8IH9vKJ1hG0LW5q_XA-44', hash_type='md5-n', visibility=1, key_is_virtual=False, updated_at=2023-11-22 12:15:14 UTC, storage_id=1, created_by_id=1), File(uid='VzduJVmNLXSZrYkslYSZ', key='cell-census/2023-07-25/h5ads/9d5df009-eb76-43a3-b6cd-22017cc53700.h5ad', suffix='.h5ad', accessor='AnnData', description='Spatiotemporal analysis of human intestinal development at single-cell resolution: All cells|9d5df009-eb76-43a3-b6cd-22017cc53700', version='1', size=829929937, hash='1DVsVU-CtHD-NpY-xgTU2A-99', hash_type='md5-n', visibility=1, key_is_virtual=False, updated_at=2023-11-30 09:10:14 UTC, storage_id=1, created_by_id=1), File(uid='O5hnuqWd154Qpfgr31r7', key='cell-census/2023-07-25/h5ads/c4dd26a8-d956-4bee-a233-44b573f2ce27.h5ad', suffix='.h5ad', accessor='AnnData', description='Dissection: Body of hippocampus (HiB) - Rostral CA1-2|c4dd26a8-d956-4bee-a233-44b573f2ce27', version='1', size=220375429, hash='VghaVpVgGnN_H0IOgjQntQ-27', hash_type='md5-n', visibility=1, key_is_virtual=False, updated_at=2023-11-30 09:12:15 UTC, storage_id=1, created_by_id=1), File(uid='6fzLQ7JpispXBFgeTWMo', suffix='.h5ad', accessor='AnnData', description='preprocessed by scprint', version='2', size=439690766, hash='PE_WNbVo58QKXi4f_vXa8M', hash_type='sha1-fl', visibility=1, key_is_virtual=True, updated_at=2023-11-29 12:47:46 UTC, storage_id=1, initial_version_id=1, created_by_id=1), File(uid='wkRvmZgVXSt0fpqNl5D2', suffix='.h5ad', accessor='AnnData', description='preprocessed by scprint', version='2', size=118326612, hash='fqdtP6AIuo7su6wjZdHjcZ', hash_type='sha1-fl', visibility=1, key_is_virtual=True, updated_at=2023-11-29 16:44:49 UTC, storage_id=1, initial_version_id=5, created_by_id=1), File(uid='uxxTZGQlH1sygi0bghwa', suffix='.h5ad', accessor='AnnData', description='preprocessed by scprint', version='2', size=164150158, hash='hB0ILWeQQ5Np8SGBTHgW-n', hash_type='sha1-fl', visibility=1, key_is_virtual=True, updated_at=2023-11-29 16:49:21 UTC, storage_id=1, initial_version_id=6, created_by_id=1), File(uid='adGcUGK4WlEf31ncPbnp', suffix='.h5ad', accessor='AnnData', description='preprocessed by scprint', version='2', size=81763948, hash='5bI07llkhojAniRGBqFRZA', hash_type='sha1-fl', visibility=1, key_is_virtual=True, updated_at=2023-11-29 17:17:58 UTC, storage_id=1, initial_version_id=7, created_by_id=1), File(uid='MmnAJb0WxE99xDosv12a', suffix='.h5ad', accessor='AnnData', description='preprocessed by scprint', version='2', size=171060444, hash='bwtPY7WGHdutmFmfGP40ZB', hash_type='sha1-fl', visibility=1, key_is_virtual=True, updated_at=2023-11-29 17:19:36 UTC, storage_id=1, initial_version_id=8, created_by_id=1), File(uid='EmmoHkianMMPPmqUKZ8O', suffix='.h5ad', accessor='AnnData', description='preprocessed by scprint', version='2', size=1892079312, hash='2z-ueo_xeS5C5T4BMrlhh4', hash_type='sha1-fl', visibility=1, key_is_virtual=True, updated_at=2023-11-29 17:26:59 UTC, storage_id=1, initial_version_id=10, created_by_id=1), File(uid='f5g9QhgwtxRgU4QtViiy', suffix='.h5ad', accessor='AnnData', description='preprocessed by scprint', version='2', size=3501157969, hash='nqi00R8sg9JFlaCbcvhpOX', hash_type='sha1-fl', visibility=1, key_is_virtual=True, updated_at=2023-11-30 09:00:30 UTC, storage_id=1, initial_version_id=12, created_by_id=1), '...(remaining elements truncated)...']>"
      ]
     },
     "execution_count": 28,
     "metadata": {},
     "output_type": "execute_result"
    }
   ],
   "source": [
    "ln.File.filter()."
   ]
  },
  {
   "cell_type": "code",
   "execution_count": 29,
   "metadata": {},
   "outputs": [
    {
     "data": {
      "text/plain": [
       "<12590x23050 sparse matrix of type '<class 'numpy.float32'>'\n",
       "\twith 289998060 stored elements in Compressed Sparse Row format>"
      ]
     },
     "execution_count": 29,
     "metadata": {},
     "output_type": "execute_result"
    }
   ],
   "source": [
    "adata.X"
   ]
  },
  {
   "cell_type": "code",
   "execution_count": 23,
   "metadata": {},
   "outputs": [
    {
     "name": "stdout",
     "output_type": "stream",
     "text": [
      "❗ no run & transform get linked, consider passing a `run` or calling ln.track()\n",
      "0\n",
      "File(uid='R4ZHoQegxXdSFNFYcWzS', key='cell-census/2023-07-25/h5ads/019c7af2-c827-4454-9970-44d5e39ce068.h5ad', suffix='.h5ad', accessor='AnnData', description='A proximal-to-distal survey of healthy adult human small intestine and colon epithelium by single-cell transcriptomics', size=1746683207, hash='-i09Am5wIhBSSOfardDgIQ-209', hash_type='md5-n', visibility=1, key_is_virtual=False, updated_at=2023-11-28 22:44:29 UTC, storage_id=2, transform_id=11, run_id=16, created_by_id=1)\n"
     ]
    },
    {
     "name": "stderr",
     "output_type": "stream",
     "text": [
      "/home/ml4ig1/miniconda3/envs/scprint/lib/python3.10/asyncio/events.py:105: ResourceWarning: unclosed <ssl.SSLSocket fd=78, family=AddressFamily.AF_INET, type=SocketKind.SOCK_STREAM, proto=6, laddr=('10.20.53.10', 36386), raddr=('172.64.149.149', 443)>\n",
      "  super().__init__(callback, args, loop, context)\n",
      "ResourceWarning: Enable tracemalloc to get the object allocation traceback\n"
     ]
    },
    {
     "name": "stdout",
     "output_type": "stream",
     "text": [
      "AnnData object with n_obs × n_vars = 12590 × 23050\n",
      "    obs: 'hash_label', 'hash_cluster', 'n_genes', 'hashed', 'group', 'treatment', 'n_genes_by_counts', 'total_counts', 'total_counts_mt', 'pct_counts_mt', 'pct_counts_hb', 'batch', 'S_score', 'G2M_score', 'phase', 'leiden', 'lineage', 'type', 'cds', 'donor_region', 'dpt_pseudotime', 'tissue_ontology_term_id', 'assay_ontology_term_id', 'disease_ontology_term_id', 'cell_type_ontology_term_id', 'sex_ontology_term_id', 'development_stage_ontology_term_id', 'is_primary_data', 'organism_ontology_term_id', 'donor_id', 'self_reported_ethnicity_ontology_term_id', 'suspension_type', 'BMI', 'cell_type', 'assay', 'disease', 'organism', 'sex', 'tissue', 'self_reported_ethnicity', 'development_stage'\n",
      "    var: 'highly_variable', 'means', 'dispersions', 'dispersions_norm', 'mean', 'std', 's_phase', 'g2m_phase', 'feature_types', 'genome', 'mt', 'Donor_2-n_cells', 'Donor_1-n_cells', 'Donor_3-n_cells', 'Donor_2-n_cells_by_counts', 'Donor_1-n_cells_by_counts', 'Donor_3-n_cells_by_counts', 'Donor_2-mean_counts', 'Donor_1-mean_counts', 'Donor_3-mean_counts', 'Donor_2-pct_dropout_by_counts', 'Donor_1-pct_dropout_by_counts', 'Donor_3-pct_dropout_by_counts', 'Donor_2-total_counts', 'Donor_1-total_counts', 'Donor_3-total_counts', 'feature_is_filtered', 'feature_name', 'feature_reference', 'feature_biotype'\n",
      "    uns: 'batch_condition', 'hvg', 'leiden', 'leiden_sizes', 'neighbors', 'paga', 'pca', 'schema_version', 'title', 'umap'\n",
      "    obsm: 'X_pca', 'X_pca_harmony', 'X_umap'\n",
      "    varm: 'principle_components'\n",
      "    layers: 'ln_rpdm-normalized', 'raw_rpdm-normalized'\n",
      "    obsp: 'connectivities', 'distances'\n",
      "> /home/ml4ig1/Documents code/scPRINT/scprint/dataset/preprocess.py(261)preprocess()\n",
      "    259 \n",
      "    260         pdb.set_trace()\n",
      "--> 261         if adata.shape[0] < self.min_dataset_size:\n",
      "    262             raise ValueError(\n",
      "    263                 \"Dataset dropped because contains too many secondary cells\"\n",
      "\n"
     ]
    },
    {
     "name": "stderr",
     "output_type": "stream",
     "text": [
      "/home/ml4ig1/miniconda3/envs/scprint/lib/python3.10/asyncio/sslproto.py:320: ResourceWarning: unclosed transport <asyncio.sslproto._SSLProtocolTransport object at 0x7f1644325a80>\n",
      "  _warn(f\"unclosed transport {self!r}\", ResourceWarning, source=self)\n",
      "ResourceWarning: Enable tracemalloc to get the object allocation traceback\n"
     ]
    },
    {
     "name": "stdout",
     "output_type": "stream",
     "text": [
      "Removed 71 genes.\n",
      "> /home/ml4ig1/Documents code/scPRINT/scprint/dataset/preprocess.py(330)preprocess()\n",
      "    328         )\n",
      "    329         total_outliers = (adata.obs[\"outlier\"] | adata.obs[\"mt_outlier\"]).sum()\n",
      "--> 330         total_cells = adata.shape[0]\n",
      "    331         percentage_outliers = (total_outliers / total_cells) * 100\n",
      "    332         print(\n",
      "\n",
      "> /home/ml4ig1/Documents code/scPRINT/scprint/dataset/preprocess.py(331)preprocess()\n",
      "    329         total_outliers = (adata.obs[\"outlier\"] | adata.obs[\"mt_outlier\"]).sum()\n",
      "    330         total_cells = adata.shape[0]\n",
      "--> 331         percentage_outliers = (total_outliers / total_cells) * 100\n",
      "    332         print(\n",
      "    333             f\"Seeing {total_outliers} outliers ({percentage_outliers:.2f}% of total dataset):\"\n",
      "\n",
      "> /home/ml4ig1/Documents code/scPRINT/scprint/dataset/preprocess.py(332)preprocess()\n",
      "    330         total_cells = adata.shape[0]\n",
      "    331         percentage_outliers = (total_outliers / total_cells) * 100\n",
      "--> 332         print(\n",
      "    333             f\"Seeing {total_outliers} outliers ({percentage_outliers:.2f}% of total dataset):\"\n",
      "    334         )\n",
      "\n",
      "> /home/ml4ig1/Documents code/scPRINT/scprint/dataset/preprocess.py(333)preprocess()\n",
      "    331         percentage_outliers = (total_outliers / total_cells) * 100\n",
      "    332         print(\n",
      "--> 333             f\"Seeing {total_outliers} outliers ({percentage_outliers:.2f}% of total dataset):\"\n",
      "    334         )\n",
      "    335         # if percentage_outliers > 50:\n",
      "\n",
      "> /home/ml4ig1/Documents code/scPRINT/scprint/dataset/preprocess.py(332)preprocess()\n",
      "    330         total_cells = adata.shape[0]\n",
      "    331         percentage_outliers = (total_outliers / total_cells) * 100\n",
      "--> 332         print(\n",
      "    333             f\"Seeing {total_outliers} outliers ({percentage_outliers:.2f}% of total dataset):\"\n",
      "    334         )\n",
      "\n",
      "Seeing 12008 outliers (95.38% of total dataset):\n",
      "> /home/ml4ig1/Documents code/scPRINT/scprint/dataset/preprocess.py(340)preprocess()\n",
      "    338         # remaining\n",
      "    339         # step 5: subset hvg\n",
      "--> 340         if self.subset_hvg:\n",
      "    341             sc.pp.highly_variable_genes(\n",
      "    342                 adata,\n",
      "\n",
      "> /home/ml4ig1/Documents code/scPRINT/scprint/dataset/preprocess.py(349)preprocess()\n",
      "    347             )\n",
      "    348         # based on the topometry paper https://www.biorxiv.org/content/10.1101/2022.03.14.484134v2\n",
      "--> 349         sc.pp.neighbors(adata, n_pcs=500)\n",
      "    350         sc.tl.leiden(adata, key_added=\"leiden_3\", resolution=3.0)\n",
      "    351         sc.tl.leiden(adata, key_added=\"leiden_2\", resolution=2.0)\n",
      "\n",
      "AnnData object with n_obs × n_vars = 12590 × 70116\n",
      "    obs: 'hash_label', 'hash_cluster', 'n_genes', 'hashed', 'group', 'treatment', 'n_genes_by_counts', 'total_counts', 'total_counts_mt', 'pct_counts_mt', 'pct_counts_hb', 'batch', 'S_score', 'G2M_score', 'phase', 'leiden', 'lineage', 'type', 'cds', 'donor_region', 'dpt_pseudotime', 'tissue_ontology_term_id', 'assay_ontology_term_id', 'disease_ontology_term_id', 'cell_type_ontology_term_id', 'sex_ontology_term_id', 'development_stage_ontology_term_id', 'is_primary_data', 'organism_ontology_term_id', 'donor_id', 'self_reported_ethnicity_ontology_term_id', 'suspension_type', 'BMI', 'cell_type', 'assay', 'disease', 'organism', 'sex', 'tissue', 'self_reported_ethnicity', 'development_stage', 'cell_culture', 'nnz', 'log1p_n_genes_by_counts', 'log1p_total_counts', 'pct_counts_in_top_20_genes', 'log1p_total_counts_mt', 'total_counts_ribo', 'log1p_total_counts_ribo', 'pct_counts_ribo', 'total_counts_hb', 'log1p_total_counts_hb', 'outlier', 'mt_outlier'\n",
      "    var: 'highly_variable', 'means', 'dispersions', 'dispersions_norm', 'mean', 'std', 's_phase', 'g2m_phase', 'feature_types', 'genome', 'mt', 'Donor_2-n_cells', 'Donor_1-n_cells', 'Donor_3-n_cells', 'Donor_2-n_cells_by_counts', 'Donor_1-n_cells_by_counts', 'Donor_3-n_cells_by_counts', 'Donor_2-mean_counts', 'Donor_1-mean_counts', 'Donor_3-mean_counts', 'Donor_2-pct_dropout_by_counts', 'Donor_1-pct_dropout_by_counts', 'Donor_3-pct_dropout_by_counts', 'Donor_2-total_counts', 'Donor_1-total_counts', 'Donor_3-total_counts', 'feature_is_filtered', 'feature_name', 'feature_reference', 'feature_biotype', 'symbol', 'ncbi_gene_id', 'biotype', 'description', 'synonyms', 'ribo', 'hb', 'n_cells_by_counts', 'mean_counts', 'log1p_mean_counts', 'pct_dropout_by_counts', 'total_counts', 'log1p_total_counts'\n",
      "    uns: 'unseen_genes'\n",
      "                          hash_label hash_cluster  n_genes hashed    group  \\\n",
      "TGAATCGAGTTTCGAC-1-0  TotalSeq-B0252            4     1478   TRUE  primary   \n",
      "ACCCTCAAGTGTTCCA-1-0  TotalSeq-B0252            4     1842   TRUE  primary   \n",
      "CCACACTTCTCCTGTG-1-1  TotalSeq-B0252            5     4134   TRUE  primary   \n",
      "TGTCAGAGTACGTTCA-1-1  TotalSeq-B0254            4     1117   TRUE  primary   \n",
      "TTGTGGATCCGCGGAT-1-0  TotalSeq-B0252            4     2150   TRUE  primary   \n",
      "...                              ...          ...      ...    ...      ...   \n",
      "AAGCCATGTCCGGCAT-1-1  TotalSeq-B0254            4     3103   TRUE  primary   \n",
      "ACTGTCCAGTATGATG-1-1  TotalSeq-B0253            1     3634   TRUE  primary   \n",
      "GTCTAGAGTGACTGTT-1-0  TotalSeq-B0255            3     2060   TRUE  primary   \n",
      "TTTCAGTCAGTTCTAG-1-2  TotalSeq-B0254            5     4269   TRUE  primary   \n",
      "TAGAGTCGTCGGTAAG-1-0  TotalSeq-B0251            5     3189   TRUE  primary   \n",
      "\n",
      "                     treatment  n_genes_by_counts  total_counts  \\\n",
      "TGAATCGAGTTTCGAC-1-0      none               1472       10000.0   \n",
      "ACCCTCAAGTGTTCCA-1-0      none               1826       10000.0   \n",
      "CCACACTTCTCCTGTG-1-1      none               4100       10000.0   \n",
      "TGTCAGAGTACGTTCA-1-1      none               1112       10000.0   \n",
      "TTGTGGATCCGCGGAT-1-0      none               2141       10000.0   \n",
      "...                        ...                ...           ...   \n",
      "AAGCCATGTCCGGCAT-1-1      none               3074       10000.0   \n",
      "ACTGTCCAGTATGATG-1-1      none               3611       10000.0   \n",
      "GTCTAGAGTGACTGTT-1-0      none               2050       10000.0   \n",
      "TTTCAGTCAGTTCTAG-1-2      none               4238       10000.0   \n",
      "TAGAGTCGTCGGTAAG-1-0      none               3171       10000.0   \n",
      "\n",
      "                      total_counts_mt  pct_counts_mt  ...  log1p_total_counts  \\\n",
      "TGAATCGAGTTTCGAC-1-0      1835.664336      18.356643  ...             9.21044   \n",
      "ACCCTCAAGTGTTCCA-1-0      1397.413137      13.974131  ...             9.21044   \n",
      "CCACACTTCTCCTGTG-1-1       937.036798       9.370368  ...             9.21044   \n",
      "TGTCAGAGTACGTTCA-1-1      5431.406385      54.314064  ...             9.21044   \n",
      "TTGTGGATCCGCGGAT-1-0      1248.489035      12.484890  ...             9.21044   \n",
      "...                               ...            ...  ...                 ...   \n",
      "AAGCCATGTCCGGCAT-1-1      4864.530226      48.645302  ...             9.21044   \n",
      "ACTGTCCAGTATGATG-1-1      4539.231712      45.392317  ...             9.21044   \n",
      "GTCTAGAGTGACTGTT-1-0      1999.282125      19.992821  ...             9.21044   \n",
      "TTTCAGTCAGTTCTAG-1-2      1269.707356      12.697074  ...             9.21044   \n",
      "TAGAGTCGTCGGTAAG-1-0       761.912641       7.619126  ...             9.21044   \n",
      "\n",
      "                     pct_counts_in_top_20_genes  log1p_total_counts_mt  \\\n",
      "TGAATCGAGTTTCGAC-1-0                  30.569431               7.515706   \n",
      "ACCCTCAAGTGTTCCA-1-0                  26.172965               7.243093   \n",
      "CCACACTTCTCCTGTG-1-1                  21.479667               6.843789   \n",
      "TGTCAGAGTACGTTCA-1-1                  59.512511               8.600137   \n",
      "TTGTGGATCCGCGGAT-1-0                  23.847349               7.130490   \n",
      "...                                         ...                    ...   \n",
      "AAGCCATGTCCGGCAT-1-1                  57.137655               8.489931   \n",
      "ACTGTCCAGTATGATG-1-1                  52.109726               8.420733   \n",
      "GTCTAGAGTGACTGTT-1-0                  27.189519               7.601044   \n",
      "TTTCAGTCAGTTCTAG-1-2                  25.183232               7.147329   \n",
      "TAGAGTCGTCGGTAAG-1-0                  23.395103               6.637144   \n",
      "\n",
      "                      total_counts_ribo log1p_total_counts_ribo  \\\n",
      "TGAATCGAGTTTCGAC-1-0        2607.392607                7.866489   \n",
      "ACCCTCAAGTGTTCCA-1-0         986.558458                6.895236   \n",
      "CCACACTTCTCCTGTG-1-1        1116.839595                7.019153   \n",
      "TGTCAGAGTACGTTCA-1-1        1257.549612                7.137715   \n",
      "TTGTGGATCCGCGGAT-1-0        2543.602141                7.841730   \n",
      "...                                 ...                     ...   \n",
      "AAGCCATGTCCGGCAT-1-1         344.501092                5.844996   \n",
      "ACTGTCCAGTATGATG-1-1         682.468329                6.527180   \n",
      "GTCTAGAGTGACTGTT-1-0        2004.666188                7.603732   \n",
      "TTTCAGTCAGTTCTAG-1-2        2678.091221                7.893233   \n",
      "TAGAGTCGTCGGTAAG-1-0        2656.353408                7.885086   \n",
      "\n",
      "                     pct_counts_ribo total_counts_hb log1p_total_counts_hb  \\\n",
      "TGAATCGAGTTTCGAC-1-0       26.073926        0.000000              0.000000   \n",
      "ACCCTCAAGTGTTCCA-1-0        9.865585        0.000000              0.000000   \n",
      "CCACACTTCTCCTGTG-1-1       11.168396        0.644454              0.497409   \n",
      "TGTCAGAGTACGTTCA-1-1       12.575496        0.000000              0.000000   \n",
      "TTGTGGATCCGCGGAT-1-0       25.436021        0.000000              0.000000   \n",
      "...                              ...             ...                   ...   \n",
      "AAGCCATGTCCGGCAT-1-1        3.445011        0.000000              0.000000   \n",
      "ACTGTCCAGTATGATG-1-1        6.824683        0.510830              0.412659   \n",
      "GTCTAGAGTGACTGTT-1-0       20.046662        0.000000              0.000000   \n",
      "TTTCAGTCAGTTCTAG-1-2       26.780912        0.000000              0.000000   \n",
      "TAGAGTCGTCGGTAAG-1-0       26.563534        0.827267              0.602821   \n",
      "\n",
      "                     outlier mt_outlier  \n",
      "TGAATCGAGTTTCGAC-1-0    True       True  \n",
      "ACCCTCAAGTGTTCCA-1-0   False       True  \n",
      "CCACACTTCTCCTGTG-1-1    True       True  \n",
      "TGTCAGAGTACGTTCA-1-1   False       True  \n",
      "TTGTGGATCCGCGGAT-1-0    True       True  \n",
      "...                      ...        ...  \n",
      "AAGCCATGTCCGGCAT-1-1   False       True  \n",
      "ACTGTCCAGTATGATG-1-1   False       True  \n",
      "GTCTAGAGTGACTGTT-1-0    True       True  \n",
      "TTTCAGTCAGTTCTAG-1-2   False       True  \n",
      "TAGAGTCGTCGGTAAG-1-0    True      False  \n",
      "\n",
      "[12590 rows x 54 columns]\n",
      "                                          hash_label hash_cluster  n_genes  \\\n",
      "00dd42a9-c594-4a47-ab7c-0d43ee711d72  TotalSeq-B0252            4     1478   \n",
      "13381528-c7e3-4acc-a3a8-bdf2868bdc8f  TotalSeq-B0252            4     1842   \n",
      "05ad6ab8-5365-4c07-b660-67e15c74b629  TotalSeq-B0252            5     4134   \n",
      "86af1f03-0966-4116-a8e9-33eba73fc556  TotalSeq-B0254            4     1117   \n",
      "1800168f-cebc-495d-a7ac-ad69ac56c1c0  TotalSeq-B0252            4     2150   \n",
      "...                                              ...          ...      ...   \n",
      "67e2d13a-98c0-495a-9063-fbe02c1b43c7  TotalSeq-B0254            4     3103   \n",
      "d7ca147e-c497-4b42-9ca3-f2b917c16528  TotalSeq-B0253            1     3634   \n",
      "e276be82-236b-4b4e-8923-12ced753c7e1  TotalSeq-B0255            3     2060   \n",
      "9c9278f9-6eeb-4680-9e5c-ce121a8f3fa9  TotalSeq-B0254            5     4269   \n",
      "fc6e3be0-c457-4571-817a-b8f8c39d531f  TotalSeq-B0251            5     3189   \n",
      "\n",
      "                                     hashed    group treatment  \\\n",
      "00dd42a9-c594-4a47-ab7c-0d43ee711d72   TRUE  primary      none   \n",
      "13381528-c7e3-4acc-a3a8-bdf2868bdc8f   TRUE  primary      none   \n",
      "05ad6ab8-5365-4c07-b660-67e15c74b629   TRUE  primary      none   \n",
      "86af1f03-0966-4116-a8e9-33eba73fc556   TRUE  primary      none   \n",
      "1800168f-cebc-495d-a7ac-ad69ac56c1c0   TRUE  primary      none   \n",
      "...                                     ...      ...       ...   \n",
      "67e2d13a-98c0-495a-9063-fbe02c1b43c7   TRUE  primary      none   \n",
      "d7ca147e-c497-4b42-9ca3-f2b917c16528   TRUE  primary      none   \n",
      "e276be82-236b-4b4e-8923-12ced753c7e1   TRUE  primary      none   \n",
      "9c9278f9-6eeb-4680-9e5c-ce121a8f3fa9   TRUE  primary      none   \n",
      "fc6e3be0-c457-4571-817a-b8f8c39d531f   TRUE  primary      none   \n",
      "\n",
      "                                      n_genes_by_counts  total_counts  \\\n",
      "00dd42a9-c594-4a47-ab7c-0d43ee711d72               1472       10000.0   \n",
      "13381528-c7e3-4acc-a3a8-bdf2868bdc8f               1826       10000.0   \n",
      "05ad6ab8-5365-4c07-b660-67e15c74b629               4100       10000.0   \n",
      "86af1f03-0966-4116-a8e9-33eba73fc556               1112       10000.0   \n",
      "1800168f-cebc-495d-a7ac-ad69ac56c1c0               2141       10000.0   \n",
      "...                                                 ...           ...   \n",
      "67e2d13a-98c0-495a-9063-fbe02c1b43c7               3074       10000.0   \n",
      "d7ca147e-c497-4b42-9ca3-f2b917c16528               3611       10000.0   \n",
      "e276be82-236b-4b4e-8923-12ced753c7e1               2050       10000.0   \n",
      "9c9278f9-6eeb-4680-9e5c-ce121a8f3fa9               4238       10000.0   \n",
      "fc6e3be0-c457-4571-817a-b8f8c39d531f               3171       10000.0   \n",
      "\n",
      "                                      total_counts_mt  pct_counts_mt  ...  \\\n",
      "00dd42a9-c594-4a47-ab7c-0d43ee711d72      1835.664336      18.356643  ...   \n",
      "13381528-c7e3-4acc-a3a8-bdf2868bdc8f      1397.413137      13.974131  ...   \n",
      "05ad6ab8-5365-4c07-b660-67e15c74b629       937.036798       9.370368  ...   \n",
      "86af1f03-0966-4116-a8e9-33eba73fc556      5431.406385      54.314064  ...   \n",
      "1800168f-cebc-495d-a7ac-ad69ac56c1c0      1248.489035      12.484890  ...   \n",
      "...                                               ...            ...  ...   \n",
      "67e2d13a-98c0-495a-9063-fbe02c1b43c7      4864.530226      48.645302  ...   \n",
      "d7ca147e-c497-4b42-9ca3-f2b917c16528      4539.231712      45.392317  ...   \n",
      "e276be82-236b-4b4e-8923-12ced753c7e1      1999.282125      19.992821  ...   \n",
      "9c9278f9-6eeb-4680-9e5c-ce121a8f3fa9      1269.707356      12.697074  ...   \n",
      "fc6e3be0-c457-4571-817a-b8f8c39d531f       761.912641       7.619126  ...   \n",
      "\n",
      "                                      log1p_total_counts  \\\n",
      "00dd42a9-c594-4a47-ab7c-0d43ee711d72             9.21044   \n",
      "13381528-c7e3-4acc-a3a8-bdf2868bdc8f             9.21044   \n",
      "05ad6ab8-5365-4c07-b660-67e15c74b629             9.21044   \n",
      "86af1f03-0966-4116-a8e9-33eba73fc556             9.21044   \n",
      "1800168f-cebc-495d-a7ac-ad69ac56c1c0             9.21044   \n",
      "...                                                  ...   \n",
      "67e2d13a-98c0-495a-9063-fbe02c1b43c7             9.21044   \n",
      "d7ca147e-c497-4b42-9ca3-f2b917c16528             9.21044   \n",
      "e276be82-236b-4b4e-8923-12ced753c7e1             9.21044   \n",
      "9c9278f9-6eeb-4680-9e5c-ce121a8f3fa9             9.21044   \n",
      "fc6e3be0-c457-4571-817a-b8f8c39d531f             9.21044   \n",
      "\n",
      "                                     pct_counts_in_top_20_genes  \\\n",
      "00dd42a9-c594-4a47-ab7c-0d43ee711d72                  30.569431   \n",
      "13381528-c7e3-4acc-a3a8-bdf2868bdc8f                  26.172965   \n",
      "05ad6ab8-5365-4c07-b660-67e15c74b629                  21.479667   \n",
      "86af1f03-0966-4116-a8e9-33eba73fc556                  59.512511   \n",
      "1800168f-cebc-495d-a7ac-ad69ac56c1c0                  23.847349   \n",
      "...                                                         ...   \n",
      "67e2d13a-98c0-495a-9063-fbe02c1b43c7                  57.137655   \n",
      "d7ca147e-c497-4b42-9ca3-f2b917c16528                  52.109726   \n",
      "e276be82-236b-4b4e-8923-12ced753c7e1                  27.189519   \n",
      "9c9278f9-6eeb-4680-9e5c-ce121a8f3fa9                  25.183232   \n",
      "fc6e3be0-c457-4571-817a-b8f8c39d531f                  23.395103   \n",
      "\n",
      "                                      log1p_total_counts_mt  \\\n",
      "00dd42a9-c594-4a47-ab7c-0d43ee711d72               7.515706   \n",
      "13381528-c7e3-4acc-a3a8-bdf2868bdc8f               7.243093   \n",
      "05ad6ab8-5365-4c07-b660-67e15c74b629               6.843789   \n",
      "86af1f03-0966-4116-a8e9-33eba73fc556               8.600137   \n",
      "1800168f-cebc-495d-a7ac-ad69ac56c1c0               7.130490   \n",
      "...                                                     ...   \n",
      "67e2d13a-98c0-495a-9063-fbe02c1b43c7               8.489931   \n",
      "d7ca147e-c497-4b42-9ca3-f2b917c16528               8.420733   \n",
      "e276be82-236b-4b4e-8923-12ced753c7e1               7.601044   \n",
      "9c9278f9-6eeb-4680-9e5c-ce121a8f3fa9               7.147329   \n",
      "fc6e3be0-c457-4571-817a-b8f8c39d531f               6.637144   \n",
      "\n",
      "                                      total_counts_ribo  \\\n",
      "00dd42a9-c594-4a47-ab7c-0d43ee711d72        2607.392607   \n",
      "13381528-c7e3-4acc-a3a8-bdf2868bdc8f         986.558458   \n",
      "05ad6ab8-5365-4c07-b660-67e15c74b629        1116.839595   \n",
      "86af1f03-0966-4116-a8e9-33eba73fc556        1257.549612   \n",
      "1800168f-cebc-495d-a7ac-ad69ac56c1c0        2543.602141   \n",
      "...                                                 ...   \n",
      "67e2d13a-98c0-495a-9063-fbe02c1b43c7         344.501092   \n",
      "d7ca147e-c497-4b42-9ca3-f2b917c16528         682.468329   \n",
      "e276be82-236b-4b4e-8923-12ced753c7e1        2004.666188   \n",
      "9c9278f9-6eeb-4680-9e5c-ce121a8f3fa9        2678.091221   \n",
      "fc6e3be0-c457-4571-817a-b8f8c39d531f        2656.353408   \n",
      "\n",
      "                                     log1p_total_counts_ribo pct_counts_ribo  \\\n",
      "00dd42a9-c594-4a47-ab7c-0d43ee711d72                7.866489       26.073926   \n",
      "13381528-c7e3-4acc-a3a8-bdf2868bdc8f                6.895236        9.865585   \n",
      "05ad6ab8-5365-4c07-b660-67e15c74b629                7.019153       11.168396   \n",
      "86af1f03-0966-4116-a8e9-33eba73fc556                7.137715       12.575496   \n",
      "1800168f-cebc-495d-a7ac-ad69ac56c1c0                7.841730       25.436021   \n",
      "...                                                      ...             ...   \n",
      "67e2d13a-98c0-495a-9063-fbe02c1b43c7                5.844996        3.445011   \n",
      "d7ca147e-c497-4b42-9ca3-f2b917c16528                6.527180        6.824683   \n",
      "e276be82-236b-4b4e-8923-12ced753c7e1                7.603732       20.046662   \n",
      "9c9278f9-6eeb-4680-9e5c-ce121a8f3fa9                7.893233       26.780912   \n",
      "fc6e3be0-c457-4571-817a-b8f8c39d531f                7.885086       26.563534   \n",
      "\n",
      "                                     total_counts_hb log1p_total_counts_hb  \\\n",
      "00dd42a9-c594-4a47-ab7c-0d43ee711d72        0.000000              0.000000   \n",
      "13381528-c7e3-4acc-a3a8-bdf2868bdc8f        0.000000              0.000000   \n",
      "05ad6ab8-5365-4c07-b660-67e15c74b629        0.644454              0.497409   \n",
      "86af1f03-0966-4116-a8e9-33eba73fc556        0.000000              0.000000   \n",
      "1800168f-cebc-495d-a7ac-ad69ac56c1c0        0.000000              0.000000   \n",
      "...                                              ...                   ...   \n",
      "67e2d13a-98c0-495a-9063-fbe02c1b43c7        0.000000              0.000000   \n",
      "d7ca147e-c497-4b42-9ca3-f2b917c16528        0.510830              0.412659   \n",
      "e276be82-236b-4b4e-8923-12ced753c7e1        0.000000              0.000000   \n",
      "9c9278f9-6eeb-4680-9e5c-ce121a8f3fa9        0.000000              0.000000   \n",
      "fc6e3be0-c457-4571-817a-b8f8c39d531f        0.827267              0.602821   \n",
      "\n",
      "                                     outlier mt_outlier  \n",
      "00dd42a9-c594-4a47-ab7c-0d43ee711d72    True       True  \n",
      "13381528-c7e3-4acc-a3a8-bdf2868bdc8f   False       True  \n",
      "05ad6ab8-5365-4c07-b660-67e15c74b629    True       True  \n",
      "86af1f03-0966-4116-a8e9-33eba73fc556   False       True  \n",
      "1800168f-cebc-495d-a7ac-ad69ac56c1c0    True       True  \n",
      "...                                      ...        ...  \n",
      "67e2d13a-98c0-495a-9063-fbe02c1b43c7   False       True  \n",
      "d7ca147e-c497-4b42-9ca3-f2b917c16528   False       True  \n",
      "e276be82-236b-4b4e-8923-12ced753c7e1    True       True  \n",
      "9c9278f9-6eeb-4680-9e5c-ce121a8f3fa9   False       True  \n",
      "fc6e3be0-c457-4571-817a-b8f8c39d531f    True      False  \n",
      "\n",
      "[12590 rows x 54 columns]\n",
      "*** AttributeError: 'AnnData' object has no attribute 'obs_name'. Did you mean: 'obs_names'?\n",
      "Index([00dd42a9-c594-4a47-ab7c-0d43ee711d72,\n",
      "       13381528-c7e3-4acc-a3a8-bdf2868bdc8f,\n",
      "       05ad6ab8-5365-4c07-b660-67e15c74b629,\n",
      "       86af1f03-0966-4116-a8e9-33eba73fc556,\n",
      "       1800168f-cebc-495d-a7ac-ad69ac56c1c0,\n",
      "       722cb7bb-5655-4ec9-b237-e75933d0574c,\n",
      "       3b94f840-39df-4eec-b0c1-22df94e31a87,\n",
      "       fd3e4325-e403-49c3-b758-674d7d00354e,\n",
      "       22d154f7-28e8-4a49-9799-4250588d4f8b,\n",
      "       62312fd5-baf0-4423-ac61-8d098f30a1ca,\n",
      "       ...\n",
      "       5dd90164-1e6e-4c7b-a675-92395dc5653c,\n",
      "       432e4d11-8475-47e6-8b29-55fd3dc5d263,\n",
      "       2ca78176-02e9-49f7-b04b-76b5be3525b5,\n",
      "       ad4cd19a-6ed2-4c97-9409-2bb2240f737e,\n",
      "       68c81a64-54fd-4024-89b5-221010bdab35,\n",
      "       67e2d13a-98c0-495a-9063-fbe02c1b43c7,\n",
      "       d7ca147e-c497-4b42-9ca3-f2b917c16528,\n",
      "       e276be82-236b-4b4e-8923-12ced753c7e1,\n",
      "       9c9278f9-6eeb-4680-9e5c-ce121a8f3fa9,\n",
      "       fc6e3be0-c457-4571-817a-b8f8c39d531f],\n",
      "      dtype='object', length=12590)\n",
      "WARNING: You’re trying to run this on 70116 dimensions of `.X`, if you really want this, set `use_rep='X'`.\n",
      "         Falling back to preprocessing with `sc.pp.pca` and default params.\n"
     ]
    },
    {
     "name": "stderr",
     "output_type": "stream",
     "text": [
      "/home/ml4ig1/miniconda3/envs/scprint/lib/python3.10/site-packages/anndata/_core/anndata.py:522: FutureWarning: The dtype argument is deprecated and will be removed in late 2024.\n",
      "  warnings.warn(\n"
     ]
    },
    {
     "name": "stdout",
     "output_type": "stream",
     "text": [
      "> /home/ml4ig1/Documents code/scPRINT/scprint/dataset/preprocess.py(350)preprocess()\n",
      "    348         # based on the topometry paper https://www.biorxiv.org/content/10.1101/2022.03.14.484134v2\n",
      "    349         sc.pp.neighbors(adata, n_pcs=500)\n",
      "--> 350         sc.tl.leiden(adata, key_added=\"leiden_3\", resolution=3.0)\n",
      "    351         sc.tl.leiden(adata, key_added=\"leiden_2\", resolution=2.0)\n",
      "    352         sc.tl.leiden(adata, key_added=\"leiden_1\", resolution=1.0)\n",
      "\n",
      "> /home/ml4ig1/Documents code/scPRINT/scprint/dataset/preprocess.py(351)preprocess()\n",
      "    349         sc.pp.neighbors(adata, n_pcs=500)\n",
      "    350         sc.tl.leiden(adata, key_added=\"leiden_3\", resolution=3.0)\n",
      "--> 351         sc.tl.leiden(adata, key_added=\"leiden_2\", resolution=2.0)\n",
      "    352         sc.tl.leiden(adata, key_added=\"leiden_1\", resolution=1.0)\n",
      "    353         sc.tl.umap(adata)\n",
      "\n",
      "AnnData object with n_obs × n_vars = 12590 × 70116\n",
      "    obs: 'hash_label', 'hash_cluster', 'n_genes', 'hashed', 'group', 'treatment', 'n_genes_by_counts', 'total_counts', 'total_counts_mt', 'pct_counts_mt', 'pct_counts_hb', 'batch', 'S_score', 'G2M_score', 'phase', 'leiden', 'lineage', 'type', 'cds', 'donor_region', 'dpt_pseudotime', 'tissue_ontology_term_id', 'assay_ontology_term_id', 'disease_ontology_term_id', 'cell_type_ontology_term_id', 'sex_ontology_term_id', 'development_stage_ontology_term_id', 'is_primary_data', 'organism_ontology_term_id', 'donor_id', 'self_reported_ethnicity_ontology_term_id', 'suspension_type', 'BMI', 'cell_type', 'assay', 'disease', 'organism', 'sex', 'tissue', 'self_reported_ethnicity', 'development_stage', 'cell_culture', 'nnz', 'log1p_n_genes_by_counts', 'log1p_total_counts', 'pct_counts_in_top_20_genes', 'log1p_total_counts_mt', 'total_counts_ribo', 'log1p_total_counts_ribo', 'pct_counts_ribo', 'total_counts_hb', 'log1p_total_counts_hb', 'outlier', 'mt_outlier', 'leiden_3'\n",
      "    var: 'highly_variable', 'means', 'dispersions', 'dispersions_norm', 'mean', 'std', 's_phase', 'g2m_phase', 'feature_types', 'genome', 'mt', 'Donor_2-n_cells', 'Donor_1-n_cells', 'Donor_3-n_cells', 'Donor_2-n_cells_by_counts', 'Donor_1-n_cells_by_counts', 'Donor_3-n_cells_by_counts', 'Donor_2-mean_counts', 'Donor_1-mean_counts', 'Donor_3-mean_counts', 'Donor_2-pct_dropout_by_counts', 'Donor_1-pct_dropout_by_counts', 'Donor_3-pct_dropout_by_counts', 'Donor_2-total_counts', 'Donor_1-total_counts', 'Donor_3-total_counts', 'feature_is_filtered', 'feature_name', 'feature_reference', 'feature_biotype', 'symbol', 'ncbi_gene_id', 'biotype', 'description', 'synonyms', 'ribo', 'hb', 'n_cells_by_counts', 'mean_counts', 'log1p_mean_counts', 'pct_dropout_by_counts', 'total_counts', 'log1p_total_counts'\n",
      "    uns: 'unseen_genes', 'neighbors', 'leiden'\n",
      "    obsm: 'X_pca'\n",
      "    obsp: 'distances', 'connectivities'\n",
      "(12590, 500)\n",
      "❗ no run & transform get linked, consider passing a `run` or calling ln.track()\n",
      "the old file is already in the local\n",
      "❗ no run & transform get linked, consider passing a `run` or calling ln.track()\n"
     ]
    },
    {
     "name": "stderr",
     "output_type": "stream",
     "text": [
      "... storing 'dpt_group' as categorical\n",
      "... storing 'symbol' as categorical\n",
      "... storing 'ncbi_gene_id' as categorical\n",
      "... storing 'biotype' as categorical\n",
      "... storing 'description' as categorical\n",
      "... storing 'synonyms' as categorical\n"
     ]
    },
    {
     "ename": "TypeError",
     "evalue": "Can't implicitly convert non-string objects to strings",
     "output_type": "error",
     "traceback": [
      "\u001b[0;31m---------------------------------------------------------------------------\u001b[0m",
      "\u001b[0;31mIntegrityError\u001b[0m                            Traceback (most recent call last)",
      "File \u001b[0;32m~/miniconda3/envs/scprint/lib/python3.10/site-packages/django/db/backends/utils.py:89\u001b[0m, in \u001b[0;36mCursorWrapper._execute\u001b[0;34m(self, sql, params, *ignored_wrapper_args)\u001b[0m\n\u001b[1;32m     88\u001b[0m \u001b[39melse\u001b[39;00m:\n\u001b[0;32m---> 89\u001b[0m     \u001b[39mreturn\u001b[39;00m \u001b[39mself\u001b[39;49m\u001b[39m.\u001b[39;49mcursor\u001b[39m.\u001b[39;49mexecute(sql, params)\n",
      "File \u001b[0;32m~/miniconda3/envs/scprint/lib/python3.10/site-packages/django/db/backends/sqlite3/base.py:328\u001b[0m, in \u001b[0;36mSQLiteCursorWrapper.execute\u001b[0;34m(self, query, params)\u001b[0m\n\u001b[1;32m    327\u001b[0m query \u001b[39m=\u001b[39m \u001b[39mself\u001b[39m\u001b[39m.\u001b[39mconvert_query(query, param_names\u001b[39m=\u001b[39mparam_names)\n\u001b[0;32m--> 328\u001b[0m \u001b[39mreturn\u001b[39;00m \u001b[39msuper\u001b[39;49m()\u001b[39m.\u001b[39;49mexecute(query, params)\n",
      "\u001b[0;31mIntegrityError\u001b[0m: UNIQUE constraint failed: lnschema_bionty_developmentalstage.name, lnschema_bionty_developmentalstage.ontology_id",
      "\nThe above exception was the direct cause of the following exception:\n",
      "\u001b[0;31mIntegrityError\u001b[0m                            Traceback (most recent call last)",
      "File \u001b[0;32m~/Documents code/scPRINT/scprint/dataset/preprocess.py:178\u001b[0m, in \u001b[0;36mPreprocessor.__call__\u001b[0;34m(self, data, name, description, start_at)\u001b[0m\n\u001b[1;32m    177\u001b[0m \u001b[39mtry\u001b[39;00m:\n\u001b[0;32m--> 178\u001b[0m     file \u001b[39m=\u001b[39m ln\u001b[39m.\u001b[39;49mFile(\n\u001b[1;32m    179\u001b[0m         adata,\n\u001b[1;32m    180\u001b[0m         is_new_version_of\u001b[39m=\u001b[39;49mfile,\n\u001b[1;32m    181\u001b[0m         description\u001b[39m=\u001b[39;49m\u001b[39m\"\u001b[39;49m\u001b[39mpreprocessed by scprint\u001b[39;49m\u001b[39m\"\u001b[39;49m,\n\u001b[1;32m    182\u001b[0m     )\n\u001b[1;32m    183\u001b[0m \u001b[39mexcept\u001b[39;00m IntegrityError:\n",
      "File \u001b[0;32m~/miniconda3/envs/scprint/lib/python3.10/site-packages/lamindb/_file.py:500\u001b[0m, in \u001b[0;36m__init__\u001b[0;34m(file, *args, **kwargs)\u001b[0m\n\u001b[1;32m    499\u001b[0m     \u001b[39mraise\u001b[39;00m \u001b[39mTypeError\u001b[39;00m(\u001b[39m\"\u001b[39m\u001b[39mis_new_version_of has to be of type ln.File\u001b[39m\u001b[39m\"\u001b[39m)\n\u001b[0;32m--> 500\u001b[0m provisional_uid, initial_version_id, version \u001b[39m=\u001b[39m get_ids_from_old_version(\n\u001b[1;32m    501\u001b[0m     is_new_version_of, version, n_full_id\u001b[39m=\u001b[39;49m\u001b[39m20\u001b[39;49m\n\u001b[1;32m    502\u001b[0m )\n\u001b[1;32m    503\u001b[0m \u001b[39mif\u001b[39;00m description \u001b[39mis\u001b[39;00m \u001b[39mNone\u001b[39;00m:\n",
      "File \u001b[0;32m~/miniconda3/envs/scprint/lib/python3.10/site-packages/lamindb/dev/versioning.py:78\u001b[0m, in \u001b[0;36mget_ids_from_old_version\u001b[0;34m(is_new_version_of, version, n_full_id)\u001b[0m\n\u001b[1;32m     77\u001b[0m is_new_version_of\u001b[39m.\u001b[39mversion \u001b[39m=\u001b[39m previous_version\n\u001b[0;32m---> 78\u001b[0m is_new_version_of\u001b[39m.\u001b[39;49msave()\n\u001b[1;32m     79\u001b[0m \u001b[39mif\u001b[39;00m msg \u001b[39m!=\u001b[39m \u001b[39m\"\u001b[39m\u001b[39m\"\u001b[39m:\n",
      "File \u001b[0;32m~/miniconda3/envs/scprint/lib/python3.10/site-packages/lamindb/_file.py:922\u001b[0m, in \u001b[0;36msave\u001b[0;34m(self, *args, **kwargs)\u001b[0m\n\u001b[1;32m    921\u001b[0m \u001b[39mdef\u001b[39;00m \u001b[39msave\u001b[39m(\u001b[39mself\u001b[39m, \u001b[39m*\u001b[39margs, \u001b[39m*\u001b[39m\u001b[39m*\u001b[39mkwargs) \u001b[39m-\u001b[39m\u001b[39m>\u001b[39m \u001b[39mNone\u001b[39;00m:\n\u001b[0;32m--> 922\u001b[0m     \u001b[39mself\u001b[39;49m\u001b[39m.\u001b[39;49m_save_skip_storage(\u001b[39m*\u001b[39;49margs, \u001b[39m*\u001b[39;49m\u001b[39m*\u001b[39;49mkwargs)\n\u001b[1;32m    923\u001b[0m     \u001b[39mfrom\u001b[39;00m \u001b[39mlamindb\u001b[39;00m\u001b[39m.\u001b[39;00m\u001b[39m_save\u001b[39;00m \u001b[39mimport\u001b[39;00m check_and_attempt_clearing, check_and_attempt_upload\n",
      "File \u001b[0;32m~/miniconda3/envs/scprint/lib/python3.10/site-packages/lamindb/_file.py:936\u001b[0m, in \u001b[0;36m_save_skip_storage\u001b[0;34m(file, *args, **kwargs)\u001b[0m\n\u001b[1;32m    935\u001b[0m save_feature_sets(file)\n\u001b[0;32m--> 936\u001b[0m \u001b[39msuper\u001b[39;49m(File, file)\u001b[39m.\u001b[39;49msave(\u001b[39m*\u001b[39;49margs, \u001b[39m*\u001b[39;49m\u001b[39m*\u001b[39;49mkwargs)\n\u001b[1;32m    937\u001b[0m save_feature_set_links(file)\n",
      "File \u001b[0;32m~/miniconda3/envs/scprint/lib/python3.10/site-packages/lamindb/_registry.py:476\u001b[0m, in \u001b[0;36msave\u001b[0;34m(self, *args, **kwargs)\u001b[0m\n\u001b[1;32m    475\u001b[0m logger\u001b[39m.\u001b[39minfo(\u001b[39m\"\u001b[39m\u001b[39mtransfer labels\u001b[39m\u001b[39m\"\u001b[39m)\n\u001b[0;32m--> 476\u001b[0m \u001b[39mself\u001b[39;49m\u001b[39m.\u001b[39;49mlabels\u001b[39m.\u001b[39;49madd_from(self_on_db)\n",
      "File \u001b[0;32m~/miniconda3/envs/scprint/lib/python3.10/site-packages/lamindb/dev/_label_manager.py:177\u001b[0m, in \u001b[0;36mLabelManager.add_from\u001b[0;34m(self, data)\u001b[0m\n\u001b[1;32m    174\u001b[0m                 labels \u001b[39m=\u001b[39m data\u001b[39m.\u001b[39mlabels\u001b[39m.\u001b[39mget(\n\u001b[1;32m    175\u001b[0m                     \u001b[39mgetattr\u001b[39m(features_lookup_data, row[\u001b[39m\"\u001b[39m\u001b[39mname\u001b[39m\u001b[39m\"\u001b[39m]), mute\u001b[39m=\u001b[39m\u001b[39mTrue\u001b[39;00m\n\u001b[1;32m    176\u001b[0m                 )\n\u001b[0;32m--> 177\u001b[0m                 transfer_add_labels(labels, features_lookup_self, \u001b[39mself\u001b[39;49m, row)\n\u001b[1;32m    179\u001b[0m \u001b[39m# for now, have this be duplicated, need to disentangle above\u001b[39;00m\n",
      "File \u001b[0;32m~/miniconda3/envs/scprint/lib/python3.10/site-packages/lamindb/dev/_label_manager.py:72\u001b[0m, in \u001b[0;36mtransfer_add_labels\u001b[0;34m(labels, features_lookup_self, self, row)\u001b[0m\n\u001b[1;32m     71\u001b[0m \u001b[39melse\u001b[39;00m:\n\u001b[0;32m---> 72\u001b[0m     transfer_single_registry(\u001b[39m*\u001b[39;49mresult)\n",
      "File \u001b[0;32m~/miniconda3/envs/scprint/lib/python3.10/site-packages/lamindb/dev/_label_manager.py:59\u001b[0m, in \u001b[0;36mtransfer_add_labels.<locals>.transfer_single_registry\u001b[0;34m(validated_labels, new_labels)\u001b[0m\n\u001b[1;32m     58\u001b[0m         transfer_to_default_db(label, mute\u001b[39m=\u001b[39m\u001b[39mTrue\u001b[39;00m)\n\u001b[0;32m---> 59\u001b[0m     save(new_labels)\n\u001b[1;32m     60\u001b[0m \u001b[39m# link labels records from self db\u001b[39;00m\n",
      "File \u001b[0;32m~/miniconda3/envs/scprint/lib/python3.10/site-packages/lamindb/_save.py:84\u001b[0m, in \u001b[0;36msave\u001b[0;34m(records, ignore_conflicts, **kwargs)\u001b[0m\n\u001b[1;32m     83\u001b[0m _, non_files_without_pk \u001b[39m=\u001b[39m partition(\u001b[39mlambda\u001b[39;00m r: r\u001b[39m.\u001b[39mpk \u001b[39mis\u001b[39;00m \u001b[39mNone\u001b[39;00m, non_files)\n\u001b[0;32m---> 84\u001b[0m bulk_create(non_files_without_pk, ignore_conflicts\u001b[39m=\u001b[39;49mignore_conflicts)\n\u001b[1;32m     85\u001b[0m non_files_with_parents \u001b[39m=\u001b[39m [\n\u001b[1;32m     86\u001b[0m     r \u001b[39mfor\u001b[39;00m r \u001b[39min\u001b[39;00m non_files_without_pk \u001b[39mif\u001b[39;00m \u001b[39mhasattr\u001b[39m(r, \u001b[39m\"\u001b[39m\u001b[39m_parents\u001b[39m\u001b[39m\"\u001b[39m)\n\u001b[1;32m     87\u001b[0m ]\n",
      "File \u001b[0;32m~/miniconda3/envs/scprint/lib/python3.10/site-packages/lamindb/_save.py:128\u001b[0m, in \u001b[0;36mbulk_create\u001b[0;34m(records, ignore_conflicts)\u001b[0m\n\u001b[1;32m    127\u001b[0m \u001b[39mfor\u001b[39;00m orm, records \u001b[39min\u001b[39;00m records_by_orm\u001b[39m.\u001b[39mitems():\n\u001b[0;32m--> 128\u001b[0m     orm\u001b[39m.\u001b[39;49mobjects\u001b[39m.\u001b[39;49mbulk_create(records, ignore_conflicts\u001b[39m=\u001b[39;49mignore_conflicts)\n",
      "File \u001b[0;32m~/miniconda3/envs/scprint/lib/python3.10/site-packages/django/db/models/manager.py:87\u001b[0m, in \u001b[0;36mBaseManager._get_queryset_methods.<locals>.create_method.<locals>.manager_method\u001b[0;34m(self, *args, **kwargs)\u001b[0m\n\u001b[1;32m     85\u001b[0m \u001b[39m@wraps\u001b[39m(method)\n\u001b[1;32m     86\u001b[0m \u001b[39mdef\u001b[39;00m \u001b[39mmanager_method\u001b[39m(\u001b[39mself\u001b[39m, \u001b[39m*\u001b[39margs, \u001b[39m*\u001b[39m\u001b[39m*\u001b[39mkwargs):\n\u001b[0;32m---> 87\u001b[0m     \u001b[39mreturn\u001b[39;00m \u001b[39mgetattr\u001b[39;49m(\u001b[39mself\u001b[39;49m\u001b[39m.\u001b[39;49mget_queryset(), name)(\u001b[39m*\u001b[39;49margs, \u001b[39m*\u001b[39;49m\u001b[39m*\u001b[39;49mkwargs)\n",
      "File \u001b[0;32m~/miniconda3/envs/scprint/lib/python3.10/site-packages/django/db/models/query.py:803\u001b[0m, in \u001b[0;36mQuerySet.bulk_create\u001b[0;34m(self, objs, batch_size, ignore_conflicts, update_conflicts, update_fields, unique_fields)\u001b[0m\n\u001b[1;32m    802\u001b[0m fields \u001b[39m=\u001b[39m [f \u001b[39mfor\u001b[39;00m f \u001b[39min\u001b[39;00m fields \u001b[39mif\u001b[39;00m \u001b[39mnot\u001b[39;00m \u001b[39misinstance\u001b[39m(f, AutoField)]\n\u001b[0;32m--> 803\u001b[0m returned_columns \u001b[39m=\u001b[39m \u001b[39mself\u001b[39;49m\u001b[39m.\u001b[39;49m_batched_insert(\n\u001b[1;32m    804\u001b[0m     objs_without_pk,\n\u001b[1;32m    805\u001b[0m     fields,\n\u001b[1;32m    806\u001b[0m     batch_size,\n\u001b[1;32m    807\u001b[0m     on_conflict\u001b[39m=\u001b[39;49mon_conflict,\n\u001b[1;32m    808\u001b[0m     update_fields\u001b[39m=\u001b[39;49mupdate_fields,\n\u001b[1;32m    809\u001b[0m     unique_fields\u001b[39m=\u001b[39;49munique_fields,\n\u001b[1;32m    810\u001b[0m )\n\u001b[1;32m    811\u001b[0m connection \u001b[39m=\u001b[39m connections[\u001b[39mself\u001b[39m\u001b[39m.\u001b[39mdb]\n",
      "File \u001b[0;32m~/miniconda3/envs/scprint/lib/python3.10/site-packages/django/db/models/query.py:1831\u001b[0m, in \u001b[0;36mQuerySet._batched_insert\u001b[0;34m(self, objs, fields, batch_size, on_conflict, update_fields, unique_fields)\u001b[0m\n\u001b[1;32m   1829\u001b[0m \u001b[39mif\u001b[39;00m bulk_return \u001b[39mand\u001b[39;00m on_conflict \u001b[39mis\u001b[39;00m \u001b[39mNone\u001b[39;00m:\n\u001b[1;32m   1830\u001b[0m     inserted_rows\u001b[39m.\u001b[39mextend(\n\u001b[0;32m-> 1831\u001b[0m         \u001b[39mself\u001b[39;49m\u001b[39m.\u001b[39;49m_insert(\n\u001b[1;32m   1832\u001b[0m             item,\n\u001b[1;32m   1833\u001b[0m             fields\u001b[39m=\u001b[39;49mfields,\n\u001b[1;32m   1834\u001b[0m             using\u001b[39m=\u001b[39;49m\u001b[39mself\u001b[39;49m\u001b[39m.\u001b[39;49mdb,\n\u001b[1;32m   1835\u001b[0m             returning_fields\u001b[39m=\u001b[39;49m\u001b[39mself\u001b[39;49m\u001b[39m.\u001b[39;49mmodel\u001b[39m.\u001b[39;49m_meta\u001b[39m.\u001b[39;49mdb_returning_fields,\n\u001b[1;32m   1836\u001b[0m         )\n\u001b[1;32m   1837\u001b[0m     )\n\u001b[1;32m   1838\u001b[0m \u001b[39melse\u001b[39;00m:\n",
      "File \u001b[0;32m~/miniconda3/envs/scprint/lib/python3.10/site-packages/django/db/models/query.py:1805\u001b[0m, in \u001b[0;36mQuerySet._insert\u001b[0;34m(self, objs, fields, returning_fields, raw, using, on_conflict, update_fields, unique_fields)\u001b[0m\n\u001b[1;32m   1804\u001b[0m query\u001b[39m.\u001b[39minsert_values(fields, objs, raw\u001b[39m=\u001b[39mraw)\n\u001b[0;32m-> 1805\u001b[0m \u001b[39mreturn\u001b[39;00m query\u001b[39m.\u001b[39;49mget_compiler(using\u001b[39m=\u001b[39;49musing)\u001b[39m.\u001b[39;49mexecute_sql(returning_fields)\n",
      "File \u001b[0;32m~/miniconda3/envs/scprint/lib/python3.10/site-packages/django/db/models/sql/compiler.py:1822\u001b[0m, in \u001b[0;36mSQLInsertCompiler.execute_sql\u001b[0;34m(self, returning_fields)\u001b[0m\n\u001b[1;32m   1821\u001b[0m \u001b[39mfor\u001b[39;00m sql, params \u001b[39min\u001b[39;00m \u001b[39mself\u001b[39m\u001b[39m.\u001b[39mas_sql():\n\u001b[0;32m-> 1822\u001b[0m     cursor\u001b[39m.\u001b[39;49mexecute(sql, params)\n\u001b[1;32m   1823\u001b[0m \u001b[39mif\u001b[39;00m \u001b[39mnot\u001b[39;00m \u001b[39mself\u001b[39m\u001b[39m.\u001b[39mreturning_fields:\n",
      "File \u001b[0;32m~/miniconda3/envs/scprint/lib/python3.10/site-packages/django/db/backends/utils.py:67\u001b[0m, in \u001b[0;36mCursorWrapper.execute\u001b[0;34m(self, sql, params)\u001b[0m\n\u001b[1;32m     66\u001b[0m \u001b[39mdef\u001b[39;00m \u001b[39mexecute\u001b[39m(\u001b[39mself\u001b[39m, sql, params\u001b[39m=\u001b[39m\u001b[39mNone\u001b[39;00m):\n\u001b[0;32m---> 67\u001b[0m     \u001b[39mreturn\u001b[39;00m \u001b[39mself\u001b[39;49m\u001b[39m.\u001b[39;49m_execute_with_wrappers(\n\u001b[1;32m     68\u001b[0m         sql, params, many\u001b[39m=\u001b[39;49m\u001b[39mFalse\u001b[39;49;00m, executor\u001b[39m=\u001b[39;49m\u001b[39mself\u001b[39;49m\u001b[39m.\u001b[39;49m_execute\n\u001b[1;32m     69\u001b[0m     )\n",
      "File \u001b[0;32m~/miniconda3/envs/scprint/lib/python3.10/site-packages/django/db/backends/utils.py:80\u001b[0m, in \u001b[0;36mCursorWrapper._execute_with_wrappers\u001b[0;34m(self, sql, params, many, executor)\u001b[0m\n\u001b[1;32m     79\u001b[0m     executor \u001b[39m=\u001b[39m functools\u001b[39m.\u001b[39mpartial(wrapper, executor)\n\u001b[0;32m---> 80\u001b[0m \u001b[39mreturn\u001b[39;00m executor(sql, params, many, context)\n",
      "File \u001b[0;32m~/miniconda3/envs/scprint/lib/python3.10/site-packages/django/db/backends/utils.py:84\u001b[0m, in \u001b[0;36mCursorWrapper._execute\u001b[0;34m(self, sql, params, *ignored_wrapper_args)\u001b[0m\n\u001b[1;32m     83\u001b[0m \u001b[39mself\u001b[39m\u001b[39m.\u001b[39mdb\u001b[39m.\u001b[39mvalidate_no_broken_transaction()\n\u001b[0;32m---> 84\u001b[0m \u001b[39mwith\u001b[39;00m \u001b[39mself\u001b[39m\u001b[39m.\u001b[39mdb\u001b[39m.\u001b[39mwrap_database_errors:\n\u001b[1;32m     85\u001b[0m     \u001b[39mif\u001b[39;00m params \u001b[39mis\u001b[39;00m \u001b[39mNone\u001b[39;00m:\n\u001b[1;32m     86\u001b[0m         \u001b[39m# params default might be backend specific.\u001b[39;00m\n",
      "File \u001b[0;32m~/miniconda3/envs/scprint/lib/python3.10/site-packages/django/db/utils.py:91\u001b[0m, in \u001b[0;36mDatabaseErrorWrapper.__exit__\u001b[0;34m(self, exc_type, exc_value, traceback)\u001b[0m\n\u001b[1;32m     90\u001b[0m     \u001b[39mself\u001b[39m\u001b[39m.\u001b[39mwrapper\u001b[39m.\u001b[39merrors_occurred \u001b[39m=\u001b[39m \u001b[39mTrue\u001b[39;00m\n\u001b[0;32m---> 91\u001b[0m \u001b[39mraise\u001b[39;00m dj_exc_value\u001b[39m.\u001b[39mwith_traceback(traceback) \u001b[39mfrom\u001b[39;00m \u001b[39mexc_value\u001b[39;00m\n",
      "File \u001b[0;32m~/miniconda3/envs/scprint/lib/python3.10/site-packages/django/db/backends/utils.py:89\u001b[0m, in \u001b[0;36mCursorWrapper._execute\u001b[0;34m(self, sql, params, *ignored_wrapper_args)\u001b[0m\n\u001b[1;32m     88\u001b[0m \u001b[39melse\u001b[39;00m:\n\u001b[0;32m---> 89\u001b[0m     \u001b[39mreturn\u001b[39;00m \u001b[39mself\u001b[39;49m\u001b[39m.\u001b[39;49mcursor\u001b[39m.\u001b[39;49mexecute(sql, params)\n",
      "File \u001b[0;32m~/miniconda3/envs/scprint/lib/python3.10/site-packages/django/db/backends/sqlite3/base.py:328\u001b[0m, in \u001b[0;36mSQLiteCursorWrapper.execute\u001b[0;34m(self, query, params)\u001b[0m\n\u001b[1;32m    327\u001b[0m query \u001b[39m=\u001b[39m \u001b[39mself\u001b[39m\u001b[39m.\u001b[39mconvert_query(query, param_names\u001b[39m=\u001b[39mparam_names)\n\u001b[0;32m--> 328\u001b[0m \u001b[39mreturn\u001b[39;00m \u001b[39msuper\u001b[39;49m()\u001b[39m.\u001b[39;49mexecute(query, params)\n",
      "\u001b[0;31mIntegrityError\u001b[0m: UNIQUE constraint failed: lnschema_bionty_developmentalstage.name, lnschema_bionty_developmentalstage.ontology_id",
      "\nDuring handling of the above exception, another exception occurred:\n",
      "\u001b[0;31mTypeError\u001b[0m                                 Traceback (most recent call last)",
      "\u001b[1;32m/home/ml4ig1/Documents code/scPRINT/notebooks/assessments/finalize_data_loader.ipynb Cell 30\u001b[0m line \u001b[0;36m1\n\u001b[0;32m----> <a href='vscode-notebook-cell://ssh-remote%2Bperso/home/ml4ig1/Documents%20code/scPRINT/notebooks/assessments/finalize_data_loader.ipynb#X43sdnNjb2RlLXJlbW90ZQ%3D%3D?line=0'>1</a>\u001b[0m preprocessed_dataset \u001b[39m=\u001b[39m do_preprocess(cx_dataset, start_at\u001b[39m=\u001b[39;49m\u001b[39m5\u001b[39;49m)\n",
      "File \u001b[0;32m~/Documents code/scPRINT/scprint/dataset/preprocess.py:185\u001b[0m, in \u001b[0;36mPreprocessor.__call__\u001b[0;34m(self, data, name, description, start_at)\u001b[0m\n\u001b[1;32m    183\u001b[0m     \u001b[39mexcept\u001b[39;00m IntegrityError:\n\u001b[1;32m    184\u001b[0m         \u001b[39mprint\u001b[39m(\u001b[39m\"\u001b[39m\u001b[39mthe old file is already in the local\u001b[39m\u001b[39m\"\u001b[39m)\n\u001b[0;32m--> 185\u001b[0m         file \u001b[39m=\u001b[39m ln\u001b[39m.\u001b[39;49mFile(\n\u001b[1;32m    186\u001b[0m             adata,\n\u001b[1;32m    187\u001b[0m             is_new_version_of\u001b[39m=\u001b[39;49mln\u001b[39m.\u001b[39;49mFile\u001b[39m.\u001b[39;49mfilter(uid\u001b[39m=\u001b[39;49mfile\u001b[39m.\u001b[39;49muid)[\u001b[39m0\u001b[39;49m],\n\u001b[1;32m    188\u001b[0m             description\u001b[39m=\u001b[39;49m\u001b[39m\"\u001b[39;49m\u001b[39mpreprocessed by scprint\u001b[39;49m\u001b[39m\"\u001b[39;49m,\n\u001b[1;32m    189\u001b[0m         )\n\u001b[1;32m    191\u001b[0m file\u001b[39m.\u001b[39msave()\n\u001b[1;32m    192\u001b[0m files\u001b[39m.\u001b[39mappend(file)\n",
      "File \u001b[0;32m~/miniconda3/envs/scprint/lib/python3.10/site-packages/lamindb/_file.py:512\u001b[0m, in \u001b[0;36m__init__\u001b[0;34m(file, *args, **kwargs)\u001b[0m\n\u001b[1;32m    507\u001b[0m     \u001b[39mif\u001b[39;00m initial_version_id \u001b[39mis\u001b[39;00m \u001b[39mNone\u001b[39;00m:\n\u001b[1;32m    508\u001b[0m         logger\u001b[39m.\u001b[39minfo(\n\u001b[1;32m    509\u001b[0m             \u001b[39m\"\u001b[39m\u001b[39minitializing versioning for this file! create future versions of it\u001b[39m\u001b[39m\"\u001b[39m\n\u001b[1;32m    510\u001b[0m             \u001b[39m\"\u001b[39m\u001b[39m using ln.File(..., is_new_version_of=old_file)\u001b[39m\u001b[39m\"\u001b[39m\n\u001b[1;32m    511\u001b[0m         )\n\u001b[0;32m--> 512\u001b[0m kwargs_or_file, privates \u001b[39m=\u001b[39m get_file_kwargs_from_data(\n\u001b[1;32m    513\u001b[0m     data\u001b[39m=\u001b[39;49mdata,\n\u001b[1;32m    514\u001b[0m     key\u001b[39m=\u001b[39;49mkey,\n\u001b[1;32m    515\u001b[0m     run\u001b[39m=\u001b[39;49mrun,\n\u001b[1;32m    516\u001b[0m     \u001b[39mformat\u001b[39;49m\u001b[39m=\u001b[39;49m\u001b[39mformat\u001b[39;49m,\n\u001b[1;32m    517\u001b[0m     provisional_uid\u001b[39m=\u001b[39;49mprovisional_uid,\n\u001b[1;32m    518\u001b[0m     skip_check_exists\u001b[39m=\u001b[39;49mskip_check_exists,\n\u001b[1;32m    519\u001b[0m )\n\u001b[1;32m    521\u001b[0m \u001b[39m# an object with the same hash already exists\u001b[39;00m\n\u001b[1;32m    522\u001b[0m \u001b[39mif\u001b[39;00m \u001b[39misinstance\u001b[39m(kwargs_or_file, File):\n",
      "File \u001b[0;32m~/miniconda3/envs/scprint/lib/python3.10/site-packages/lamindb/_file.py:323\u001b[0m, in \u001b[0;36mget_file_kwargs_from_data\u001b[0;34m(data, key, run, format, provisional_uid, skip_check_exists)\u001b[0m\n\u001b[1;32m    313\u001b[0m \u001b[39mdef\u001b[39;00m \u001b[39mget_file_kwargs_from_data\u001b[39m(\n\u001b[1;32m    314\u001b[0m     \u001b[39m*\u001b[39m,\n\u001b[1;32m    315\u001b[0m     data: Union[Path, UPath, \u001b[39mstr\u001b[39m, pd\u001b[39m.\u001b[39mDataFrame, AnnData],\n\u001b[0;32m   (...)\u001b[0m\n\u001b[1;32m    320\u001b[0m     skip_check_exists: \u001b[39mbool\u001b[39m \u001b[39m=\u001b[39m \u001b[39mFalse\u001b[39;00m,\n\u001b[1;32m    321\u001b[0m ):\n\u001b[1;32m    322\u001b[0m     run \u001b[39m=\u001b[39m get_run(run)\n\u001b[0;32m--> 323\u001b[0m     memory_rep, filepath, suffix, storage, use_existing_storage_key \u001b[39m=\u001b[39m process_data(\n\u001b[1;32m    324\u001b[0m         provisional_uid, data, \u001b[39mformat\u001b[39;49m, key, skip_check_exists\n\u001b[1;32m    325\u001b[0m     )\n\u001b[1;32m    326\u001b[0m     \u001b[39m# the following will return a localpath that is not None if filepath is local\u001b[39;00m\n\u001b[1;32m    327\u001b[0m     \u001b[39m# it will return a cloudpath that is not None if filepath is on the cloud\u001b[39;00m\n\u001b[1;32m    328\u001b[0m     local_filepath, cloud_filepath, size, hash_and_type \u001b[39m=\u001b[39m get_path_size_hash(\n\u001b[1;32m    329\u001b[0m         filepath,\n\u001b[1;32m    330\u001b[0m         memory_rep,\n\u001b[1;32m    331\u001b[0m         suffix,\n\u001b[1;32m    332\u001b[0m     )\n",
      "File \u001b[0;32m~/miniconda3/envs/scprint/lib/python3.10/site-packages/lamindb/_file.py:144\u001b[0m, in \u001b[0;36mprocess_data\u001b[0;34m(provisional_uid, data, format, key, skip_existence_check)\u001b[0m\n\u001b[1;32m    142\u001b[0m         filepath \u001b[39m=\u001b[39m filepath\u001b[39m.\u001b[39mwith_suffix(suffix)\n\u001b[1;32m    143\u001b[0m     \u001b[39mif\u001b[39;00m suffix \u001b[39mnot\u001b[39;00m \u001b[39min\u001b[39;00m {\u001b[39m\"\u001b[39m\u001b[39m.zarr\u001b[39m\u001b[39m\"\u001b[39m, \u001b[39m\"\u001b[39m\u001b[39m.zrad\u001b[39m\u001b[39m\"\u001b[39m}:\n\u001b[0;32m--> 144\u001b[0m         write_to_file(data, filepath)\n\u001b[1;32m    145\u001b[0m     use_existing_storage_key \u001b[39m=\u001b[39m \u001b[39mFalse\u001b[39;00m\n\u001b[1;32m    146\u001b[0m \u001b[39melse\u001b[39;00m:\n",
      "File \u001b[0;32m~/miniconda3/envs/scprint/lib/python3.10/site-packages/lamindb/dev/storage/object.py:30\u001b[0m, in \u001b[0;36mwrite_to_file\u001b[0;34m(dmem, filepath)\u001b[0m\n\u001b[1;32m     28\u001b[0m \u001b[39mdef\u001b[39;00m \u001b[39mwrite_to_file\u001b[39m(dmem, filepath: Union[\u001b[39mstr\u001b[39m, Path, UPath]):\n\u001b[1;32m     29\u001b[0m     \u001b[39mif\u001b[39;00m \u001b[39misinstance\u001b[39m(dmem, AnnData):\n\u001b[0;32m---> 30\u001b[0m         dmem\u001b[39m.\u001b[39;49mwrite(filepath)\n\u001b[1;32m     31\u001b[0m     \u001b[39melif\u001b[39;00m \u001b[39misinstance\u001b[39m(dmem, DataFrame):\n\u001b[1;32m     32\u001b[0m         dmem\u001b[39m.\u001b[39mto_parquet(filepath)\n",
      "File \u001b[0;32m~/miniconda3/envs/scprint/lib/python3.10/site-packages/anndata/_core/anndata.py:2008\u001b[0m, in \u001b[0;36mAnnData.write_h5ad\u001b[0;34m(self, filename, compression, compression_opts, as_dense)\u001b[0m\n\u001b[1;32m   2005\u001b[0m \u001b[39mif\u001b[39;00m filename \u001b[39mis\u001b[39;00m \u001b[39mNone\u001b[39;00m:\n\u001b[1;32m   2006\u001b[0m     filename \u001b[39m=\u001b[39m \u001b[39mself\u001b[39m\u001b[39m.\u001b[39mfilename\n\u001b[0;32m-> 2008\u001b[0m write_h5ad(\n\u001b[1;32m   2009\u001b[0m     Path(filename),\n\u001b[1;32m   2010\u001b[0m     \u001b[39mself\u001b[39;49m,\n\u001b[1;32m   2011\u001b[0m     compression\u001b[39m=\u001b[39;49mcompression,\n\u001b[1;32m   2012\u001b[0m     compression_opts\u001b[39m=\u001b[39;49mcompression_opts,\n\u001b[1;32m   2013\u001b[0m     as_dense\u001b[39m=\u001b[39;49mas_dense,\n\u001b[1;32m   2014\u001b[0m )\n\u001b[1;32m   2016\u001b[0m \u001b[39mif\u001b[39;00m \u001b[39mself\u001b[39m\u001b[39m.\u001b[39misbacked:\n\u001b[1;32m   2017\u001b[0m     \u001b[39mself\u001b[39m\u001b[39m.\u001b[39mfile\u001b[39m.\u001b[39mfilename \u001b[39m=\u001b[39m filename\n",
      "File \u001b[0;32m~/miniconda3/envs/scprint/lib/python3.10/site-packages/anndata/_io/h5ad.py:103\u001b[0m, in \u001b[0;36mwrite_h5ad\u001b[0;34m(filepath, adata, as_dense, dataset_kwargs, **kwargs)\u001b[0m\n\u001b[1;32m    101\u001b[0m \u001b[39melif\u001b[39;00m adata\u001b[39m.\u001b[39mraw \u001b[39mis\u001b[39;00m \u001b[39mnot\u001b[39;00m \u001b[39mNone\u001b[39;00m:\n\u001b[1;32m    102\u001b[0m     write_elem(f, \u001b[39m\"\u001b[39m\u001b[39mraw\u001b[39m\u001b[39m\"\u001b[39m, adata\u001b[39m.\u001b[39mraw, dataset_kwargs\u001b[39m=\u001b[39mdataset_kwargs)\n\u001b[0;32m--> 103\u001b[0m write_elem(f, \u001b[39m\"\u001b[39;49m\u001b[39mobs\u001b[39;49m\u001b[39m\"\u001b[39;49m, adata\u001b[39m.\u001b[39;49mobs, dataset_kwargs\u001b[39m=\u001b[39;49mdataset_kwargs)\n\u001b[1;32m    104\u001b[0m write_elem(f, \u001b[39m\"\u001b[39m\u001b[39mvar\u001b[39m\u001b[39m\"\u001b[39m, adata\u001b[39m.\u001b[39mvar, dataset_kwargs\u001b[39m=\u001b[39mdataset_kwargs)\n\u001b[1;32m    105\u001b[0m write_elem(f, \u001b[39m\"\u001b[39m\u001b[39mobsm\u001b[39m\u001b[39m\"\u001b[39m, \u001b[39mdict\u001b[39m(adata\u001b[39m.\u001b[39mobsm), dataset_kwargs\u001b[39m=\u001b[39mdataset_kwargs)\n",
      "File \u001b[0;32m~/miniconda3/envs/scprint/lib/python3.10/site-packages/anndata/_io/specs/registry.py:368\u001b[0m, in \u001b[0;36mwrite_elem\u001b[0;34m(store, k, elem, dataset_kwargs)\u001b[0m\n\u001b[1;32m    344\u001b[0m \u001b[39mdef\u001b[39;00m \u001b[39mwrite_elem\u001b[39m(\n\u001b[1;32m    345\u001b[0m     store: GroupStorageType,\n\u001b[1;32m    346\u001b[0m     k: \u001b[39mstr\u001b[39m,\n\u001b[0;32m   (...)\u001b[0m\n\u001b[1;32m    349\u001b[0m     dataset_kwargs: Mapping \u001b[39m=\u001b[39m MappingProxyType({}),\n\u001b[1;32m    350\u001b[0m ) \u001b[39m-\u001b[39m\u001b[39m>\u001b[39m \u001b[39mNone\u001b[39;00m:\n\u001b[1;32m    351\u001b[0m \u001b[39m    \u001b[39m\u001b[39m\"\"\"\u001b[39;00m\n\u001b[1;32m    352\u001b[0m \u001b[39m    Write an element to a storage group using anndata encoding.\u001b[39;00m\n\u001b[1;32m    353\u001b[0m \n\u001b[0;32m   (...)\u001b[0m\n\u001b[1;32m    366\u001b[0m \u001b[39m        E.g. for zarr this would be `chunks`, `compressor`.\u001b[39;00m\n\u001b[1;32m    367\u001b[0m \u001b[39m    \"\"\"\u001b[39;00m\n\u001b[0;32m--> 368\u001b[0m     Writer(_REGISTRY)\u001b[39m.\u001b[39;49mwrite_elem(store, k, elem, dataset_kwargs\u001b[39m=\u001b[39;49mdataset_kwargs)\n",
      "File \u001b[0;32m~/miniconda3/envs/scprint/lib/python3.10/site-packages/anndata/_io/utils.py:239\u001b[0m, in \u001b[0;36mreport_write_key_on_error.<locals>.func_wrapper\u001b[0;34m(*args, **kwargs)\u001b[0m\n\u001b[1;32m    237\u001b[0m         \u001b[39mbreak\u001b[39;00m\n\u001b[1;32m    238\u001b[0m \u001b[39mtry\u001b[39;00m:\n\u001b[0;32m--> 239\u001b[0m     \u001b[39mreturn\u001b[39;00m func(\u001b[39m*\u001b[39;49margs, \u001b[39m*\u001b[39;49m\u001b[39m*\u001b[39;49mkwargs)\n\u001b[1;32m    240\u001b[0m \u001b[39mexcept\u001b[39;00m \u001b[39mException\u001b[39;00m \u001b[39mas\u001b[39;00m e:\n\u001b[1;32m    241\u001b[0m     add_key_note(e, elem, key, \u001b[39m\"\u001b[39m\u001b[39mwrit\u001b[39m\u001b[39m\"\u001b[39m)\n",
      "File \u001b[0;32m~/miniconda3/envs/scprint/lib/python3.10/site-packages/anndata/_io/specs/registry.py:326\u001b[0m, in \u001b[0;36mWriter.write_elem\u001b[0;34m(self, store, k, elem, dataset_kwargs, modifiers)\u001b[0m\n\u001b[1;32m    317\u001b[0m     \u001b[39mreturn\u001b[39;00m \u001b[39mself\u001b[39m\u001b[39m.\u001b[39mcallback(\n\u001b[1;32m    318\u001b[0m         write_func,\n\u001b[1;32m    319\u001b[0m         store,\n\u001b[0;32m   (...)\u001b[0m\n\u001b[1;32m    323\u001b[0m         iospec\u001b[39m=\u001b[39m\u001b[39mself\u001b[39m\u001b[39m.\u001b[39mregistry\u001b[39m.\u001b[39mget_spec(elem),\n\u001b[1;32m    324\u001b[0m     )\n\u001b[1;32m    325\u001b[0m \u001b[39melse\u001b[39;00m:\n\u001b[0;32m--> 326\u001b[0m     \u001b[39mreturn\u001b[39;00m write_func(store, k, elem, dataset_kwargs\u001b[39m=\u001b[39;49mdataset_kwargs)\n",
      "File \u001b[0;32m~/miniconda3/envs/scprint/lib/python3.10/site-packages/anndata/_io/specs/registry.py:54\u001b[0m, in \u001b[0;36mwrite_spec.<locals>.decorator.<locals>.wrapper\u001b[0;34m(g, k, *args, **kwargs)\u001b[0m\n\u001b[1;32m     52\u001b[0m \u001b[39m@wraps\u001b[39m(func)\n\u001b[1;32m     53\u001b[0m \u001b[39mdef\u001b[39;00m \u001b[39mwrapper\u001b[39m(g, k, \u001b[39m*\u001b[39margs, \u001b[39m*\u001b[39m\u001b[39m*\u001b[39mkwargs):\n\u001b[0;32m---> 54\u001b[0m     result \u001b[39m=\u001b[39m func(g, k, \u001b[39m*\u001b[39;49margs, \u001b[39m*\u001b[39;49m\u001b[39m*\u001b[39;49mkwargs)\n\u001b[1;32m     55\u001b[0m     g[k]\u001b[39m.\u001b[39mattrs\u001b[39m.\u001b[39msetdefault(\u001b[39m\"\u001b[39m\u001b[39mencoding-type\u001b[39m\u001b[39m\"\u001b[39m, spec\u001b[39m.\u001b[39mencoding_type)\n\u001b[1;32m     56\u001b[0m     g[k]\u001b[39m.\u001b[39mattrs\u001b[39m.\u001b[39msetdefault(\u001b[39m\"\u001b[39m\u001b[39mencoding-version\u001b[39m\u001b[39m\"\u001b[39m, spec\u001b[39m.\u001b[39mencoding_version)\n",
      "File \u001b[0;32m~/miniconda3/envs/scprint/lib/python3.10/site-packages/anndata/_io/specs/methods.py:678\u001b[0m, in \u001b[0;36mwrite_dataframe\u001b[0;34m(f, key, df, _writer, dataset_kwargs)\u001b[0m\n\u001b[1;32m    673\u001b[0m group\u001b[39m.\u001b[39mattrs[\u001b[39m\"\u001b[39m\u001b[39m_index\u001b[39m\u001b[39m\"\u001b[39m] \u001b[39m=\u001b[39m check_key(index_name)\n\u001b[1;32m    675\u001b[0m \u001b[39m# ._values is \"the best\" array representation. It's the true array backing the\u001b[39;00m\n\u001b[1;32m    676\u001b[0m \u001b[39m# object, where `.values` is always a np.ndarray and .array is always a pandas\u001b[39;00m\n\u001b[1;32m    677\u001b[0m \u001b[39m# array.\u001b[39;00m\n\u001b[0;32m--> 678\u001b[0m _writer\u001b[39m.\u001b[39;49mwrite_elem(\n\u001b[1;32m    679\u001b[0m     group, index_name, df\u001b[39m.\u001b[39;49mindex\u001b[39m.\u001b[39;49m_values, dataset_kwargs\u001b[39m=\u001b[39;49mdataset_kwargs\n\u001b[1;32m    680\u001b[0m )\n\u001b[1;32m    681\u001b[0m \u001b[39mfor\u001b[39;00m colname, series \u001b[39min\u001b[39;00m df\u001b[39m.\u001b[39mitems():\n\u001b[1;32m    682\u001b[0m     \u001b[39m# TODO: this should write the \"true\" representation of the series (i.e. the underlying array or ndarray depending)\u001b[39;00m\n\u001b[1;32m    683\u001b[0m     _writer\u001b[39m.\u001b[39mwrite_elem(\n\u001b[1;32m    684\u001b[0m         group, colname, series\u001b[39m.\u001b[39m_values, dataset_kwargs\u001b[39m=\u001b[39mdataset_kwargs\n\u001b[1;32m    685\u001b[0m     )\n",
      "File \u001b[0;32m~/miniconda3/envs/scprint/lib/python3.10/site-packages/anndata/_io/utils.py:239\u001b[0m, in \u001b[0;36mreport_write_key_on_error.<locals>.func_wrapper\u001b[0;34m(*args, **kwargs)\u001b[0m\n\u001b[1;32m    237\u001b[0m         \u001b[39mbreak\u001b[39;00m\n\u001b[1;32m    238\u001b[0m \u001b[39mtry\u001b[39;00m:\n\u001b[0;32m--> 239\u001b[0m     \u001b[39mreturn\u001b[39;00m func(\u001b[39m*\u001b[39;49margs, \u001b[39m*\u001b[39;49m\u001b[39m*\u001b[39;49mkwargs)\n\u001b[1;32m    240\u001b[0m \u001b[39mexcept\u001b[39;00m \u001b[39mException\u001b[39;00m \u001b[39mas\u001b[39;00m e:\n\u001b[1;32m    241\u001b[0m     add_key_note(e, elem, key, \u001b[39m\"\u001b[39m\u001b[39mwrit\u001b[39m\u001b[39m\"\u001b[39m)\n",
      "File \u001b[0;32m~/miniconda3/envs/scprint/lib/python3.10/site-packages/anndata/_io/specs/registry.py:326\u001b[0m, in \u001b[0;36mWriter.write_elem\u001b[0;34m(self, store, k, elem, dataset_kwargs, modifiers)\u001b[0m\n\u001b[1;32m    317\u001b[0m     \u001b[39mreturn\u001b[39;00m \u001b[39mself\u001b[39m\u001b[39m.\u001b[39mcallback(\n\u001b[1;32m    318\u001b[0m         write_func,\n\u001b[1;32m    319\u001b[0m         store,\n\u001b[0;32m   (...)\u001b[0m\n\u001b[1;32m    323\u001b[0m         iospec\u001b[39m=\u001b[39m\u001b[39mself\u001b[39m\u001b[39m.\u001b[39mregistry\u001b[39m.\u001b[39mget_spec(elem),\n\u001b[1;32m    324\u001b[0m     )\n\u001b[1;32m    325\u001b[0m \u001b[39melse\u001b[39;00m:\n\u001b[0;32m--> 326\u001b[0m     \u001b[39mreturn\u001b[39;00m write_func(store, k, elem, dataset_kwargs\u001b[39m=\u001b[39;49mdataset_kwargs)\n",
      "File \u001b[0;32m~/miniconda3/envs/scprint/lib/python3.10/site-packages/anndata/_io/specs/registry.py:54\u001b[0m, in \u001b[0;36mwrite_spec.<locals>.decorator.<locals>.wrapper\u001b[0;34m(g, k, *args, **kwargs)\u001b[0m\n\u001b[1;32m     52\u001b[0m \u001b[39m@wraps\u001b[39m(func)\n\u001b[1;32m     53\u001b[0m \u001b[39mdef\u001b[39;00m \u001b[39mwrapper\u001b[39m(g, k, \u001b[39m*\u001b[39margs, \u001b[39m*\u001b[39m\u001b[39m*\u001b[39mkwargs):\n\u001b[0;32m---> 54\u001b[0m     result \u001b[39m=\u001b[39m func(g, k, \u001b[39m*\u001b[39;49margs, \u001b[39m*\u001b[39;49m\u001b[39m*\u001b[39;49mkwargs)\n\u001b[1;32m     55\u001b[0m     g[k]\u001b[39m.\u001b[39mattrs\u001b[39m.\u001b[39msetdefault(\u001b[39m\"\u001b[39m\u001b[39mencoding-type\u001b[39m\u001b[39m\"\u001b[39m, spec\u001b[39m.\u001b[39mencoding_type)\n\u001b[1;32m     56\u001b[0m     g[k]\u001b[39m.\u001b[39mattrs\u001b[39m.\u001b[39msetdefault(\u001b[39m\"\u001b[39m\u001b[39mencoding-version\u001b[39m\u001b[39m\"\u001b[39m, spec\u001b[39m.\u001b[39mencoding_version)\n",
      "File \u001b[0;32m~/miniconda3/envs/scprint/lib/python3.10/site-packages/anndata/_io/specs/methods.py:414\u001b[0m, in \u001b[0;36mwrite_vlen_string_array\u001b[0;34m(f, k, elem, _writer, dataset_kwargs)\u001b[0m\n\u001b[1;32m    412\u001b[0m \u001b[39m\u001b[39m\u001b[39m\"\"\"Write methods which underlying library handles nativley.\"\"\"\u001b[39;00m\n\u001b[1;32m    413\u001b[0m str_dtype \u001b[39m=\u001b[39m h5py\u001b[39m.\u001b[39mspecial_dtype(vlen\u001b[39m=\u001b[39m\u001b[39mstr\u001b[39m)\n\u001b[0;32m--> 414\u001b[0m f\u001b[39m.\u001b[39;49mcreate_dataset(k, data\u001b[39m=\u001b[39;49melem\u001b[39m.\u001b[39;49mastype(str_dtype), dtype\u001b[39m=\u001b[39;49mstr_dtype, \u001b[39m*\u001b[39;49m\u001b[39m*\u001b[39;49mdataset_kwargs)\n",
      "File \u001b[0;32m~/miniconda3/envs/scprint/lib/python3.10/site-packages/h5py/_hl/group.py:183\u001b[0m, in \u001b[0;36mGroup.create_dataset\u001b[0;34m(self, name, shape, dtype, data, **kwds)\u001b[0m\n\u001b[1;32m    180\u001b[0m         parent_path, name \u001b[39m=\u001b[39m name\u001b[39m.\u001b[39mrsplit(\u001b[39mb\u001b[39m\u001b[39m'\u001b[39m\u001b[39m/\u001b[39m\u001b[39m'\u001b[39m, \u001b[39m1\u001b[39m)\n\u001b[1;32m    181\u001b[0m         group \u001b[39m=\u001b[39m \u001b[39mself\u001b[39m\u001b[39m.\u001b[39mrequire_group(parent_path)\n\u001b[0;32m--> 183\u001b[0m dsid \u001b[39m=\u001b[39m dataset\u001b[39m.\u001b[39;49mmake_new_dset(group, shape, dtype, data, name, \u001b[39m*\u001b[39;49m\u001b[39m*\u001b[39;49mkwds)\n\u001b[1;32m    184\u001b[0m dset \u001b[39m=\u001b[39m dataset\u001b[39m.\u001b[39mDataset(dsid)\n\u001b[1;32m    185\u001b[0m \u001b[39mreturn\u001b[39;00m dset\n",
      "File \u001b[0;32m~/miniconda3/envs/scprint/lib/python3.10/site-packages/h5py/_hl/dataset.py:166\u001b[0m, in \u001b[0;36mmake_new_dset\u001b[0;34m(parent, shape, dtype, data, name, chunks, compression, shuffle, fletcher32, maxshape, compression_opts, fillvalue, scaleoffset, track_times, external, track_order, dcpl, dapl, efile_prefix, virtual_prefix, allow_unknown_filter, rdcc_nslots, rdcc_nbytes, rdcc_w0)\u001b[0m\n\u001b[1;32m    163\u001b[0m dset_id \u001b[39m=\u001b[39m h5d\u001b[39m.\u001b[39mcreate(parent\u001b[39m.\u001b[39mid, name, tid, sid, dcpl\u001b[39m=\u001b[39mdcpl, dapl\u001b[39m=\u001b[39mdapl)\n\u001b[1;32m    165\u001b[0m \u001b[39mif\u001b[39;00m (data \u001b[39mis\u001b[39;00m \u001b[39mnot\u001b[39;00m \u001b[39mNone\u001b[39;00m) \u001b[39mand\u001b[39;00m (\u001b[39mnot\u001b[39;00m \u001b[39misinstance\u001b[39m(data, Empty)):\n\u001b[0;32m--> 166\u001b[0m     dset_id\u001b[39m.\u001b[39;49mwrite(h5s\u001b[39m.\u001b[39;49mALL, h5s\u001b[39m.\u001b[39;49mALL, data)\n\u001b[1;32m    168\u001b[0m \u001b[39mreturn\u001b[39;00m dset_id\n",
      "File \u001b[0;32mh5py/_objects.pyx:54\u001b[0m, in \u001b[0;36mh5py._objects.with_phil.wrapper\u001b[0;34m()\u001b[0m\n",
      "File \u001b[0;32mh5py/_objects.pyx:55\u001b[0m, in \u001b[0;36mh5py._objects.with_phil.wrapper\u001b[0;34m()\u001b[0m\n",
      "File \u001b[0;32mh5py/h5d.pyx:282\u001b[0m, in \u001b[0;36mh5py.h5d.DatasetID.write\u001b[0;34m()\u001b[0m\n",
      "File \u001b[0;32mh5py/_proxy.pyx:147\u001b[0m, in \u001b[0;36mh5py._proxy.dset_rw\u001b[0;34m()\u001b[0m\n",
      "File \u001b[0;32mh5py/_conv.pyx:442\u001b[0m, in \u001b[0;36mh5py._conv.str2vlen\u001b[0;34m()\u001b[0m\n",
      "File \u001b[0;32mh5py/_conv.pyx:96\u001b[0m, in \u001b[0;36mh5py._conv.generic_converter\u001b[0;34m()\u001b[0m\n",
      "File \u001b[0;32mh5py/_conv.pyx:247\u001b[0m, in \u001b[0;36mh5py._conv.conv_str2vlen\u001b[0;34m()\u001b[0m\n",
      "\u001b[0;31mTypeError\u001b[0m: Can't implicitly convert non-string objects to strings",
      "\u001b[0mError raised while writing key '_index' of <class 'h5py._hl.group.Group'> to /"
     ]
    }
   ],
   "source": [
    "preprocessed_dataset = do_preprocess(cx_dataset, start_at=5)"
   ]
  },
  {
   "cell_type": "code",
   "execution_count": null,
   "metadata": {},
   "outputs": [],
   "source": []
  },
  {
   "cell_type": "code",
   "execution_count": 3,
   "metadata": {},
   "outputs": [
    {
     "data": {
      "text/plain": [
       "13"
      ]
     },
     "execution_count": 3,
     "metadata": {},
     "output_type": "execute_result"
    }
   ],
   "source": [
    "#we have processed that many files\n",
    "len(ln.File.filter(version='2', description='preprocessed by scprint'))"
   ]
  },
  {
   "cell_type": "code",
   "execution_count": 3,
   "metadata": {},
   "outputs": [
    {
     "name": "stdout",
     "output_type": "stream",
     "text": [
      "❗ no run & transform get linked, consider passing a `run` or calling ln.track()\n"
     ]
    }
   ],
   "source": [
    "# I need to remake the dataset as it failed for some files and I had to restart at position 11\n",
    "name=\"preprocessed dataset\"\n",
    "description=\"preprocessed dataset using scprint\"\n",
    "dataset = ln.Dataset(ln.File.filter(version='2', description='preprocessed by scprint'), name=name, description=description)\n",
    "dataset.save()\n",
    "dataset.files.count()"
   ]
  },
  {
   "cell_type": "markdown",
   "metadata": {},
   "source": [
    "## Gene embeddings"
   ]
  },
  {
   "cell_type": "code",
   "execution_count": 19,
   "metadata": {},
   "outputs": [],
   "source": [
    "from scprint.dataloader.embedder import embed"
   ]
  },
  {
   "cell_type": "code",
   "execution_count": 3,
   "metadata": {},
   "outputs": [],
   "source": [
    "genedf = lb.Gene.filter(organism).df()"
   ]
  },
  {
   "cell_type": "code",
   "execution_count": 16,
   "metadata": {},
   "outputs": [
    {
     "data": {
      "text/plain": [
       "'homo_sapiens'"
      ]
     },
     "execution_count": 16,
     "metadata": {},
     "output_type": "execute_result"
    }
   ],
   "source": [
    "lb.Organism.filter(ontology_id=\"NCBITaxon:9606\").one().scientific_name"
   ]
  },
  {
   "cell_type": "code",
   "execution_count": 12,
   "metadata": {},
   "outputs": [],
   "source": [
    "organism = lb.Organism.filter(ontology_id=\"NCBITaxon:9606\").one()"
   ]
  },
  {
   "cell_type": "code",
   "execution_count": 11,
   "metadata": {},
   "outputs": [
    {
     "data": {
      "text/plain": [
       "'human'"
      ]
     },
     "execution_count": 11,
     "metadata": {},
     "output_type": "execute_result"
    }
   ],
   "source": [
    "organism"
   ]
  },
  {
   "cell_type": "code",
   "execution_count": 4,
   "metadata": {},
   "outputs": [
    {
     "data": {
      "text/html": [
       "<div>\n",
       "<style scoped>\n",
       "    .dataframe tbody tr th:only-of-type {\n",
       "        vertical-align: middle;\n",
       "    }\n",
       "\n",
       "    .dataframe tbody tr th {\n",
       "        vertical-align: top;\n",
       "    }\n",
       "\n",
       "    .dataframe thead th {\n",
       "        text-align: right;\n",
       "    }\n",
       "</style>\n",
       "<table border=\"1\" class=\"dataframe\">\n",
       "  <thead>\n",
       "    <tr style=\"text-align: right;\">\n",
       "      <th></th>\n",
       "      <th>uid</th>\n",
       "      <th>symbol</th>\n",
       "      <th>stable_id</th>\n",
       "      <th>ensembl_gene_id</th>\n",
       "      <th>ncbi_gene_ids</th>\n",
       "      <th>biotype</th>\n",
       "      <th>description</th>\n",
       "      <th>synonyms</th>\n",
       "      <th>organism_id</th>\n",
       "      <th>bionty_source_id</th>\n",
       "      <th>updated_at</th>\n",
       "      <th>created_by_id</th>\n",
       "    </tr>\n",
       "    <tr>\n",
       "      <th>id</th>\n",
       "      <th></th>\n",
       "      <th></th>\n",
       "      <th></th>\n",
       "      <th></th>\n",
       "      <th></th>\n",
       "      <th></th>\n",
       "      <th></th>\n",
       "      <th></th>\n",
       "      <th></th>\n",
       "      <th></th>\n",
       "      <th></th>\n",
       "      <th></th>\n",
       "    </tr>\n",
       "  </thead>\n",
       "  <tbody>\n",
       "    <tr>\n",
       "      <th>53102</th>\n",
       "      <td>a6Xjf000WNY3</td>\n",
       "      <td>LINC01772</td>\n",
       "      <td>None</td>\n",
       "      <td>ENSG00000226029</td>\n",
       "      <td>107984921</td>\n",
       "      <td>lncRNA</td>\n",
       "      <td>long intergenic non-protein coding RNA 1772 [S...</td>\n",
       "      <td>ENSG00000226029</td>\n",
       "      <td>2</td>\n",
       "      <td>9</td>\n",
       "      <td>2023-11-22 13:16:32.368761+00:00</td>\n",
       "      <td>1</td>\n",
       "    </tr>\n",
       "    <tr>\n",
       "      <th>53103</th>\n",
       "      <td>zR8psPjThixh</td>\n",
       "      <td>LINC01772</td>\n",
       "      <td>None</td>\n",
       "      <td>ENSG00000291388</td>\n",
       "      <td>107984921</td>\n",
       "      <td>lncRNA</td>\n",
       "      <td>long intergenic non-protein coding RNA 1772 [S...</td>\n",
       "      <td>ENSG00000226029</td>\n",
       "      <td>2</td>\n",
       "      <td>9</td>\n",
       "      <td>2023-11-22 13:16:32.368797+00:00</td>\n",
       "      <td>1</td>\n",
       "    </tr>\n",
       "    <tr>\n",
       "      <th>53104</th>\n",
       "      <td>mRzSiS7BgReH</td>\n",
       "      <td>TSPAN6</td>\n",
       "      <td>None</td>\n",
       "      <td>ENSG00000000003</td>\n",
       "      <td>7105</td>\n",
       "      <td>protein_coding</td>\n",
       "      <td>tetraspanin 6 [Source:HGNC Symbol;Acc:HGNC:11858]</td>\n",
       "      <td>T245|TSPAN-6|TM4SF6</td>\n",
       "      <td>2</td>\n",
       "      <td>9</td>\n",
       "      <td>2023-11-22 13:16:56.402584+00:00</td>\n",
       "      <td>1</td>\n",
       "    </tr>\n",
       "    <tr>\n",
       "      <th>53105</th>\n",
       "      <td>2wlFrfmHXEzi</td>\n",
       "      <td>TNMD</td>\n",
       "      <td>None</td>\n",
       "      <td>ENSG00000000005</td>\n",
       "      <td>64102</td>\n",
       "      <td>protein_coding</td>\n",
       "      <td>tenomodulin [Source:HGNC Symbol;Acc:HGNC:17757]</td>\n",
       "      <td>TEM|CHM1L|BRICD4|MYODULIN|TENDIN</td>\n",
       "      <td>2</td>\n",
       "      <td>9</td>\n",
       "      <td>2023-11-22 13:16:56.402622+00:00</td>\n",
       "      <td>1</td>\n",
       "    </tr>\n",
       "    <tr>\n",
       "      <th>53106</th>\n",
       "      <td>NQ1m5CzgdgDN</td>\n",
       "      <td>DPM1</td>\n",
       "      <td>None</td>\n",
       "      <td>ENSG00000000419</td>\n",
       "      <td>8813</td>\n",
       "      <td>protein_coding</td>\n",
       "      <td>dolichyl-phosphate mannosyltransferase subunit...</td>\n",
       "      <td>MPDS|CDGIE</td>\n",
       "      <td>2</td>\n",
       "      <td>9</td>\n",
       "      <td>2023-11-22 13:16:56.402654+00:00</td>\n",
       "      <td>1</td>\n",
       "    </tr>\n",
       "    <tr>\n",
       "      <th>...</th>\n",
       "      <td>...</td>\n",
       "      <td>...</td>\n",
       "      <td>...</td>\n",
       "      <td>...</td>\n",
       "      <td>...</td>\n",
       "      <td>...</td>\n",
       "      <td>...</td>\n",
       "      <td>...</td>\n",
       "      <td>...</td>\n",
       "      <td>...</td>\n",
       "      <td>...</td>\n",
       "      <td>...</td>\n",
       "    </tr>\n",
       "    <tr>\n",
       "      <th>180154</th>\n",
       "      <td>hk0qmgaJts9K</td>\n",
       "      <td>Gm56371</td>\n",
       "      <td>None</td>\n",
       "      <td>ENSMUSG00002076988</td>\n",
       "      <td></td>\n",
       "      <td>rRNA</td>\n",
       "      <td>predicted gene, 56371 [Source:MGI Symbol;Acc:M...</td>\n",
       "      <td></td>\n",
       "      <td>1</td>\n",
       "      <td>11</td>\n",
       "      <td>2023-11-28 14:29:52.039397+00:00</td>\n",
       "      <td>1</td>\n",
       "    </tr>\n",
       "    <tr>\n",
       "      <th>180155</th>\n",
       "      <td>jRNdAmsstLGL</td>\n",
       "      <td>Gm23510</td>\n",
       "      <td>None</td>\n",
       "      <td>ENSMUSG00002076989</td>\n",
       "      <td>115490486</td>\n",
       "      <td>snRNA</td>\n",
       "      <td>predicted gene, 23510 [Source:MGI Symbol;Acc:M...</td>\n",
       "      <td></td>\n",
       "      <td>1</td>\n",
       "      <td>11</td>\n",
       "      <td>2023-11-28 14:29:52.039424+00:00</td>\n",
       "      <td>1</td>\n",
       "    </tr>\n",
       "    <tr>\n",
       "      <th>180156</th>\n",
       "      <td>40YbTKFTR0L7</td>\n",
       "      <td>Gm22711</td>\n",
       "      <td>None</td>\n",
       "      <td>ENSMUSG00002076990</td>\n",
       "      <td></td>\n",
       "      <td>snoRNA</td>\n",
       "      <td>predicted gene, 22711 [Source:MGI Symbol;Acc:M...</td>\n",
       "      <td></td>\n",
       "      <td>1</td>\n",
       "      <td>11</td>\n",
       "      <td>2023-11-28 14:29:52.039452+00:00</td>\n",
       "      <td>1</td>\n",
       "    </tr>\n",
       "    <tr>\n",
       "      <th>180157</th>\n",
       "      <td>CljysptLUWv6</td>\n",
       "      <td>Gm55627</td>\n",
       "      <td>None</td>\n",
       "      <td>ENSMUSG00002076991</td>\n",
       "      <td></td>\n",
       "      <td>misc_RNA</td>\n",
       "      <td>predicted gene, 55627 [Source:MGI Symbol;Acc:M...</td>\n",
       "      <td></td>\n",
       "      <td>1</td>\n",
       "      <td>11</td>\n",
       "      <td>2023-11-28 14:29:52.039479+00:00</td>\n",
       "      <td>1</td>\n",
       "    </tr>\n",
       "    <tr>\n",
       "      <th>180158</th>\n",
       "      <td>4ZH0fRE0DSRt</td>\n",
       "      <td>Gm54807</td>\n",
       "      <td>None</td>\n",
       "      <td>ENSMUSG00002076992</td>\n",
       "      <td></td>\n",
       "      <td>misc_RNA</td>\n",
       "      <td>predicted gene, 54807 [Source:MGI Symbol;Acc:M...</td>\n",
       "      <td></td>\n",
       "      <td>1</td>\n",
       "      <td>11</td>\n",
       "      <td>2023-11-28 14:29:52.039506+00:00</td>\n",
       "      <td>1</td>\n",
       "    </tr>\n",
       "  </tbody>\n",
       "</table>\n",
       "<p>127057 rows × 12 columns</p>\n",
       "</div>"
      ],
      "text/plain": [
       "                 uid     symbol stable_id     ensembl_gene_id ncbi_gene_ids  \\\n",
       "id                                                                            \n",
       "53102   a6Xjf000WNY3  LINC01772      None     ENSG00000226029     107984921   \n",
       "53103   zR8psPjThixh  LINC01772      None     ENSG00000291388     107984921   \n",
       "53104   mRzSiS7BgReH     TSPAN6      None     ENSG00000000003          7105   \n",
       "53105   2wlFrfmHXEzi       TNMD      None     ENSG00000000005         64102   \n",
       "53106   NQ1m5CzgdgDN       DPM1      None     ENSG00000000419          8813   \n",
       "...              ...        ...       ...                 ...           ...   \n",
       "180154  hk0qmgaJts9K    Gm56371      None  ENSMUSG00002076988                 \n",
       "180155  jRNdAmsstLGL    Gm23510      None  ENSMUSG00002076989     115490486   \n",
       "180156  40YbTKFTR0L7    Gm22711      None  ENSMUSG00002076990                 \n",
       "180157  CljysptLUWv6    Gm55627      None  ENSMUSG00002076991                 \n",
       "180158  4ZH0fRE0DSRt    Gm54807      None  ENSMUSG00002076992                 \n",
       "\n",
       "               biotype                                        description  \\\n",
       "id                                                                          \n",
       "53102           lncRNA  long intergenic non-protein coding RNA 1772 [S...   \n",
       "53103           lncRNA  long intergenic non-protein coding RNA 1772 [S...   \n",
       "53104   protein_coding  tetraspanin 6 [Source:HGNC Symbol;Acc:HGNC:11858]   \n",
       "53105   protein_coding    tenomodulin [Source:HGNC Symbol;Acc:HGNC:17757]   \n",
       "53106   protein_coding  dolichyl-phosphate mannosyltransferase subunit...   \n",
       "...                ...                                                ...   \n",
       "180154            rRNA  predicted gene, 56371 [Source:MGI Symbol;Acc:M...   \n",
       "180155           snRNA  predicted gene, 23510 [Source:MGI Symbol;Acc:M...   \n",
       "180156          snoRNA  predicted gene, 22711 [Source:MGI Symbol;Acc:M...   \n",
       "180157        misc_RNA  predicted gene, 55627 [Source:MGI Symbol;Acc:M...   \n",
       "180158        misc_RNA  predicted gene, 54807 [Source:MGI Symbol;Acc:M...   \n",
       "\n",
       "                                synonyms  organism_id  bionty_source_id  \\\n",
       "id                                                                        \n",
       "53102                    ENSG00000226029            2                 9   \n",
       "53103                    ENSG00000226029            2                 9   \n",
       "53104                T245|TSPAN-6|TM4SF6            2                 9   \n",
       "53105   TEM|CHM1L|BRICD4|MYODULIN|TENDIN            2                 9   \n",
       "53106                         MPDS|CDGIE            2                 9   \n",
       "...                                  ...          ...               ...   \n",
       "180154                                              1                11   \n",
       "180155                                              1                11   \n",
       "180156                                              1                11   \n",
       "180157                                              1                11   \n",
       "180158                                              1                11   \n",
       "\n",
       "                             updated_at  created_by_id  \n",
       "id                                                      \n",
       "53102  2023-11-22 13:16:32.368761+00:00              1  \n",
       "53103  2023-11-22 13:16:32.368797+00:00              1  \n",
       "53104  2023-11-22 13:16:56.402584+00:00              1  \n",
       "53105  2023-11-22 13:16:56.402622+00:00              1  \n",
       "53106  2023-11-22 13:16:56.402654+00:00              1  \n",
       "...                                 ...            ...  \n",
       "180154 2023-11-28 14:29:52.039397+00:00              1  \n",
       "180155 2023-11-28 14:29:52.039424+00:00              1  \n",
       "180156 2023-11-28 14:29:52.039452+00:00              1  \n",
       "180157 2023-11-28 14:29:52.039479+00:00              1  \n",
       "180158 2023-11-28 14:29:52.039506+00:00              1  \n",
       "\n",
       "[127057 rows x 12 columns]"
      ]
     },
     "execution_count": 4,
     "metadata": {},
     "output_type": "execute_result"
    }
   ],
   "source": [
    "genedf"
   ]
  },
  {
   "cell_type": "code",
   "execution_count": null,
   "metadata": {},
   "outputs": [],
   "source": [
    "genedf = lb.Gene.filter().df()\n",
    "\n",
    "embeddings = embed(genedf=genedf,\n",
    "    organism=\"homo_sapiens\",\n",
    "    cache=True,\n",
    "    fasta_path=\"/tmp/data/fasta/\",\n",
    "    embedding_size=128,)"
   ]
  },
  {
   "cell_type": "code",
   "execution_count": null,
   "metadata": {},
   "outputs": [],
   "source": [
    "genedf = pd.concat([genedf, embeddings], axis=1, join='inner')\n",
    "genesdf.to_parquet('../../data/temp/genesdf.parquet')"
   ]
  },
  {
   "cell_type": "markdown",
   "metadata": {},
   "source": [
    "## data loader"
   ]
  },
  {
   "cell_type": "code",
   "execution_count": 20,
   "metadata": {},
   "outputs": [],
   "source": [
    "from torch.utils.data import WeightedRandomSampler\n",
    "import numpy as np"
   ]
  },
  {
   "cell_type": "code",
   "execution_count": 28,
   "metadata": {},
   "outputs": [
    {
     "data": {
      "text/plain": [
       "False"
      ]
     },
     "execution_count": 28,
     "metadata": {},
     "output_type": "execute_result"
    }
   ],
   "source": [
    "1 in list(WeightedRandomSampler(np.array([0,0,0,0,1,0.1,0.3,4,4])/100000, num_samples=1000, replacement=True))"
   ]
  },
  {
   "cell_type": "code",
   "execution_count": null,
   "metadata": {},
   "outputs": [],
   "source": [
    "dataset = ln.Dataset.filter(name='preprocessed dataset').one()\n",
    "genesdf = pd.read_parquet('../../data/temp/genesdf.parquet')"
   ]
  },
  {
   "cell_type": "code",
   "execution_count": null,
   "metadata": {},
   "outputs": [],
   "source": [
    "# TODO: finish the annotation things DONE\n",
    "# TODO: make the dataloader for the model\n",
    "# TODO: add gene length to the preprocessor if needed"
   ]
  },
  {
   "cell_type": "code",
   "execution_count": 41,
   "metadata": {},
   "outputs": [
    {
     "name": "stdout",
     "output_type": "stream",
     "text": [
      "The autoreload extension is already loaded. To reload it, use:\n",
      "  %reload_ext autoreload\n",
      "\n",
      "  %reload_ext autoreload\n"
     ]
    }
   ],
   "source": [
    "from scprint.dataset import mapped\n",
    "%load_ext autoreload\n",
    "%autoreload 2"
   ]
  },
  {
   "cell_type": "code",
   "execution_count": 134,
   "metadata": {},
   "outputs": [
    {
     "name": "stdout",
     "output_type": "stream",
     "text": [
      "❗ no run & transform get linked, consider passing a `run` or calling ln.track()\n"
     ]
    }
   ],
   "source": [
    "mapped_dataset = mapped.mapped(dataset, label_keys=all_labels, encode_labels=labels_weighted_sampling)"
   ]
  },
  {
   "cell_type": "code",
   "execution_count": 53,
   "metadata": {},
   "outputs": [],
   "source": [
    "weights = mapped_dataset.get_label_weights(labels_weighted_sampling)"
   ]
  },
  {
   "cell_type": "code",
   "execution_count": 35,
   "metadata": {},
   "outputs": [],
   "source": [
    "labels_weighted_sampling = [\n",
    "    'self_reported_ethnicity_ontology_term_id',\n",
    "    'assay_ontology_term_id',\n",
    "    'development_stage_ontology_term_id',\n",
    "    'disease_ontology_term_id',\n",
    "    'cell_type_ontology_term_id',\n",
    "    'tissue_ontology_term_id',\n",
    "    'sex_ontology_term_id',\n",
    "]\n",
    "\n",
    "all_labels = [\n",
    "    'self_reported_ethnicity_ontology_term_id',\n",
    "    'assay_ontology_term_id',\n",
    "    'development_stage_ontology_term_id',\n",
    "    'disease_ontology_term_id',\n",
    "    'cell_type_ontology_term_id',\n",
    "    'tissue_ontology_term_id',\n",
    "    'sex_ontology_term_id',\n",
    "    #'dataset_id',\n",
    "    #'cell_culture',\n",
    "    \"dpt_group\",\n",
    "    \"heat_diff\",\n",
    "    \"nnz\",\n",
    "]"
   ]
  },
  {
   "cell_type": "code",
   "execution_count": 37,
   "metadata": {},
   "outputs": [
    {
     "data": {
      "text/plain": [
       "364376"
      ]
     },
     "execution_count": 37,
     "metadata": {},
     "output_type": "execute_result"
    }
   ],
   "source": [
    "len(mapped_dataset)"
   ]
  },
  {
   "cell_type": "code",
   "execution_count": null,
   "metadata": {},
   "outputs": [],
   "source": [
    "# get the N samples DONE\n",
    "# get the unseen info DONE\n",
    "# get the I most expressed genes, add randomly some unexpressed genes that are not unseen\n",
    "# map the genes to the embeddings DONE\n",
    "# create positions from counts (function)\n",
    "# add to embeddings\n",
    "# create / learn special tokens embeddings. <batch> <class> <library_size> <diffpseudotime>\n",
    "# other version, one token per class type <self_reported_ethnicity_ontology_term_id> <assay_ontology_term_id> <development_stage_ontology_term_id> <disease_ontology_term_id> <cell_type_ontology_term_id> <tissue_ontology_term_id> <sex_ontology_term_id>\n",
    "# define positions for these tokens\n",
    "# get all annotations and parental relations and convert to encoding\n",
    "# get the N nearest neighbors if any\n",
    "# get the 3 next time point if any\n",
    "    # do the same for the 3 next time points"
   ]
  },
  {
   "cell_type": "code",
   "execution_count": null,
   "metadata": {},
   "outputs": [],
   "source": []
  }
 ],
 "metadata": {
  "kernelspec": {
   "display_name": "scprint",
   "language": "python",
   "name": "python3"
  },
  "language_info": {
   "codemirror_mode": {
    "name": "ipython",
    "version": 3
   },
   "file_extension": ".py",
   "mimetype": "text/x-python",
   "name": "python",
   "nbconvert_exporter": "python",
   "pygments_lexer": "ipython3",
   "version": "3.10.0"
  }
 },
 "nbformat": 4,
 "nbformat_minor": 2
}
