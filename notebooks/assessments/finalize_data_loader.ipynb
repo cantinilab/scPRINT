{
 "cells": [
  {
   "cell_type": "markdown",
   "metadata": {},
   "source": [
    "# one-off preparation of the database"
   ]
  },
  {
   "cell_type": "code",
   "execution_count": 1,
   "metadata": {},
   "outputs": [
    {
     "name": "stdout",
     "output_type": "stream",
     "text": [
      "✅ saved: User(uid='a3keNAVX', handle='jkobject', updated_at=2023-11-22 09:47:07 UTC)\n",
      "✅ saved: Storage(uid='GZgLW1TI', root='/home/ml4ig1/scprint', type='local', updated_at=2023-11-22 09:47:07 UTC, created_by_id=1)\n",
      "💡 loaded instance: jkobject/scprint\n",
      "💡 did not register local instance on hub\n",
      "\u001b[0m"
     ]
    }
   ],
   "source": [
    "!lamin init --storage ~/scprint --schema bionty"
   ]
  },
  {
   "cell_type": "code",
   "execution_count": 1,
   "metadata": {},
   "outputs": [
    {
     "name": "stdout",
     "output_type": "stream",
     "text": [
      "💡 lamindb instance: jkobject/scprint\n"
     ]
    }
   ],
   "source": [
    "from scprint import data_utils\n",
    "\n",
    "import lamindb as ln\n",
    "import lnschema_bionty as lb\n",
    "\n",
    "%load_ext autoreload\n",
    "%autoreload 2"
   ]
  },
  {
   "cell_type": "code",
   "execution_count": 2,
   "metadata": {},
   "outputs": [],
   "source": [
    "lb.settings.organism = \"human\""
   ]
  },
  {
   "cell_type": "markdown",
   "metadata": {},
   "source": [
    "## prepare lamin database"
   ]
  },
  {
   "cell_type": "code",
   "execution_count": 3,
   "metadata": {},
   "outputs": [
    {
     "data": {
      "text/plain": [
       "Dataset(uid='EAUF1AaT4kOVyHYnZsUJ', name='cellxgene-census', version='2023-07-25', hash='pEJ9uvIeTLvHkZW2TBT5', visibility=0, updated_at=2023-10-24 16:00:07 UTC, transform_id=1, run_id=9, created_by_id=2)"
      ]
     },
     "execution_count": 3,
     "metadata": {},
     "output_type": "execute_result"
    }
   ],
   "source": [
    "cx_dataset = ln.Dataset.using(\"laminlabs/cellxgene-census\").one()\n",
    "cx_dataset"
   ]
  },
  {
   "cell_type": "code",
   "execution_count": 86,
   "metadata": {},
   "outputs": [
    {
     "name": "stdout",
     "output_type": "stream",
     "text": [
      "❗ no run & transform get linked, consider passing a `run` or calling ln.track()\n",
      "❗ record with CAQPyYbcP4UjgiIfniQK already exists on default database: File(uid='CAQPyYbcP4UjgiIfniQK', key='cell-census/2023-07-25/h5ads/d5c67a4e-a8d9-456d-a273-fa01adb1b308.h5ad', suffix='.h5ad', accessor='AnnData', description='Retina|d5c67a4e-a8d9-456d-a273-fa01adb1b308', size=190765719, hash='d8ZhFETfIiYt51mH7_7CtQ-23', hash_type='md5-n', visibility=0, key_is_virtual=False, updated_at=2023-10-16 15:04:08 UTC, storage_id=2, transform_id=1, run_id=1, created_by_id=1)\n",
      "File cell-census/2023-07-25/h5ads/d5c67a4e-a8d9-456d-a273-fa01adb1b308.h5ad already exists in storage\n",
      "❗ no run & transform get linked, consider passing a `run` or calling ln.track()\n",
      "❗ record with U08Kty7hcUhsXiPc86xV already exists on default database: File(uid='U08Kty7hcUhsXiPc86xV', key='cell-census/2023-07-25/h5ads/1492eb6b-7d50-4c4d-94ac-c801a7d5555c.h5ad', suffix='.h5ad', accessor='AnnData', description='Molecular characterization of selectively vulnerable neurons in Alzheimer’s Disease: SFG inhibitory neurons|1492eb6b-7d50-4c4d-94ac-c801a7d5555c', size=34987551, hash='J0tmQu1XQ6hVtreFbvHtZA-5', hash_type='md5-n', visibility=0, key_is_virtual=False, updated_at=2023-10-16 15:04:08 UTC, storage_id=2, transform_id=1, run_id=1, created_by_id=1)\n",
      "File cell-census/2023-07-25/h5ads/1492eb6b-7d50-4c4d-94ac-c801a7d5555c.h5ad already exists in storage\n",
      "❗ no run & transform get linked, consider passing a `run` or calling ln.track()\n",
      "❗ no run & transform get linked, consider passing a `run` or calling ln.track()\n",
      "❗ no run & transform get linked, consider passing a `run` or calling ln.track()\n",
      "❗ record with gzAj709t00R5NMkapudm already exists on default database: File(uid='gzAj709t00R5NMkapudm', key='cell-census/2023-07-25/h5ads/75a881cf-5d88-46e2-bf9b-97e5cbc1bd56.h5ad', suffix='.h5ad', accessor='AnnData', description='Molecular characterization of selectively vulnerable neurons in Alzheimer’s Disease: EC inhibitory neurons|75a881cf-5d88-46e2-bf9b-97e5cbc1bd56', size=21360007, hash='fO12hKsCXs9Az25zhBHFfA-3', hash_type='md5-n', visibility=0, key_is_virtual=False, updated_at=2023-10-16 15:04:08 UTC, storage_id=2, transform_id=1, run_id=1, created_by_id=1)\n",
      "File cell-census/2023-07-25/h5ads/75a881cf-5d88-46e2-bf9b-97e5cbc1bd56.h5ad already exists in storage\n",
      "❗ record with CF6cUkWcaCOfILy4lEzJ already exists on default database: File(uid='CF6cUkWcaCOfILy4lEzJ', key='cell-census/2023-07-25/h5ads/63bb6359-3945-4658-92eb-3072419953e4.h5ad', suffix='.h5ad', accessor='AnnData', description='UMAP of T-Cells cells|63bb6359-3945-4658-92eb-3072419953e4', size=65838835, hash='TJM_vSww7sssO9Bvv2xkAg-8', hash_type='md5-n', visibility=0, key_is_virtual=False, updated_at=2023-10-16 15:04:08 UTC, storage_id=2, transform_id=1, run_id=1, created_by_id=1)\n",
      "File cell-census/2023-07-25/h5ads/63bb6359-3945-4658-92eb-3072419953e4.h5ad already exists in storage\n",
      "❗ no run & transform get linked, consider passing a `run` or calling ln.track()\n",
      "❗ no run & transform get linked, consider passing a `run` or calling ln.track()\n",
      "❗ no run & transform get linked, consider passing a `run` or calling ln.track()\n",
      "❗ no run & transform get linked, consider passing a `run` or calling ln.track()\n",
      "❗ no run & transform get linked, consider passing a `run` or calling ln.track()\n",
      "❗ no run & transform get linked, consider passing a `run` or calling ln.track()\n",
      "❗ no run & transform get linked, consider passing a `run` or calling ln.track()\n",
      "❗ no run & transform get linked, consider passing a `run` or calling ln.track()\n",
      "❗ no run & transform get linked, consider passing a `run` or calling ln.track()\n",
      "❗ no run & transform get linked, consider passing a `run` or calling ln.track()\n",
      "❗ no run & transform get linked, consider passing a `run` or calling ln.track()\n",
      "❗ no run & transform get linked, consider passing a `run` or calling ln.track()\n",
      "❗ no run & transform get linked, consider passing a `run` or calling ln.track()\n"
     ]
    }
   ],
   "source": [
    "mydataset = data_utils.load_dataset_local(cx_dataset, \"~/scprint/\", name=\"cellxgene-local\", description=\"the full cellxgene database\", only=(0,20))"
   ]
  },
  {
   "cell_type": "markdown",
   "metadata": {},
   "source": [
    "## load some known ontology names"
   ]
  },
  {
   "cell_type": "code",
   "execution_count": 3,
   "metadata": {},
   "outputs": [],
   "source": [
    "#you can also load it back\n",
    "mydataset = ln.Dataset.filter(name=\"cellxgene-local\").one()"
   ]
  },
  {
   "cell_type": "code",
   "execution_count": 65,
   "metadata": {},
   "outputs": [
    {
     "data": {
      "text/plain": [
       "(39055600, 6)"
      ]
     },
     "execution_count": 65,
     "metadata": {},
     "output_type": "execute_result"
    }
   ],
   "source": [
    "import cellxgene_census\n",
    "\n",
    "census = cellxgene_census.open_soma(census_version = \"latest\")\n",
    "val_to_get = ['self_reported_ethnicity_ontology_term_id', 'assay_ontology_term_id', 'development_stage_ontology_term_id', 'disease_ontology_term_id', 'tissue_ontology_term_id']\n",
    "df = census[\"census_data\"][\"homo_sapiens\"].obs.read(column_names=val_to_get, value_filter=\"is_primary_data == True\").concat().to_pandas()\n",
    "df2 = census[\"census_data\"][\"mus_musculus\"].obs.read(column_names=val_to_get, value_filter=\"is_primary_data == True\").concat().to_pandas()\n",
    "df.shape"
   ]
  },
  {
   "cell_type": "code",
   "execution_count": 70,
   "metadata": {},
   "outputs": [
    {
     "data": {
      "text/plain": [
       "array(['PATO:0000461', 'MONDO:0005147', 'MONDO:0005148', 'MONDO:0001933',\n",
       "       'MONDO:0002052'], dtype=object)"
      ]
     },
     "execution_count": 70,
     "metadata": {},
     "output_type": "execute_result"
    }
   ],
   "source": [
    "df2['disease_ontology_term_id'].unique()"
   ]
  },
  {
   "cell_type": "code",
   "execution_count": 67,
   "metadata": {},
   "outputs": [
    {
     "name": "stdout",
     "output_type": "stream",
     "text": [
      "❗ now recursing through parents: this only happens once, but is much slower than bulk saving\n",
      "❗ now recursing through parents: this only happens once, but is much slower than bulk saving\n"
     ]
    }
   ],
   "source": [
    "data_utils.populate_my_ontology(lb=lb,\n",
    "    organisms=[\"NCBITaxon:10090\", \"NCBITaxon:9606\"],\n",
    "    sex=[\"PATO:0000384\", \"PATO:0000383\"],\n",
    "    ethnicities=df['self_reported_ethnicity_ontology_term_id'].unique().tolist(),\n",
    "    assays=list(set(df['assay_ontology_term_id'].unique()).union(df2['assay_ontology_term_id'].unique())),\n",
    "    tissues=list(set(df['tissue_ontology_term_id'].unique()).union(df2['tissue_ontology_term_id'].unique())),\n",
    "    diseases=list(set(df['disease_ontology_term_id'].unique()).union(df2['disease_ontology_term_id'].unique())),\n",
    "    dev_stages=list(df['development_stage_ontology_term_id'].unique()),)"
   ]
  },
  {
   "cell_type": "code",
   "execution_count": null,
   "metadata": {},
   "outputs": [],
   "source": [
    "bionty_source_ds_mouse = lb.BiontySource.filter(entity=\"DevelopmentalStage\", organism=\"mouse\").one()\n",
    "records = lb.DevelopmentalStage.from_values(df2['development_stage_ontology_term_id'].unique().tolist(), field=lb.DevelopmentalStage.ontology_id, bionty_source=bionty_source_ds_mouse)\n",
    "ln.save(records)"
   ]
  },
  {
   "cell_type": "code",
   "execution_count": 72,
   "metadata": {},
   "outputs": [],
   "source": [
    "import bionty as bt"
   ]
  },
  {
   "cell_type": "code",
   "execution_count": 73,
   "metadata": {},
   "outputs": [
    {
     "name": "stdout",
     "output_type": "stream",
     "text": [
      "❗ now recursing through parents: this only happens once, but is much slower than bulk saving\n"
     ]
    }
   ],
   "source": [
    "names = bt.Disease().df().index\n",
    "records = lb.Disease.from_values(names, field=lb.Disease.ontology_id)\n",
    "ln.save(records)"
   ]
  },
  {
   "cell_type": "code",
   "execution_count": 87,
   "metadata": {},
   "outputs": [],
   "source": [
    "assay = ['EFO:0010961']"
   ]
  },
  {
   "cell_type": "code",
   "execution_count": 88,
   "metadata": {},
   "outputs": [
    {
     "name": "stdout",
     "output_type": "stream",
     "text": [
      "❗ now recursing through parents: this only happens once, but is much slower than bulk saving\n"
     ]
    }
   ],
   "source": [
    "records = lb.ExperimentalFactor.from_values(assay, field=lb.ExperimentalFactor.ontology_id)\n",
    "ln.save(records)"
   ]
  },
  {
   "cell_type": "markdown",
   "metadata": {},
   "source": [
    "## add some missing ontology names"
   ]
  },
  {
   "cell_type": "code",
   "execution_count": 5,
   "metadata": {},
   "outputs": [],
   "source": [
    "from scprint.dataset.utils import get_ancestry_mapping"
   ]
  },
  {
   "cell_type": "code",
   "execution_count": null,
   "metadata": {},
   "outputs": [],
   "source": [
    "additional_tissues = {\n",
    "    \"UBERON:0037144\": \"wall of heart\",\n",
    "    \"UBERON:0003929\": \"digestive tract epithelium\",\n",
    "    \"UBERON:0002020\": \"gray matter\",\n",
    "    \"UBERON:0000200\": \"gyrus\",\n",
    "    \"UBERON:0000101\": \"lobe of lung\",\n",
    "    \"UBERON:0001981\": \"blood vessel\",\n",
    "    \"UBERON:0001474\": \"bone element\",\n",
    "}\n",
    "\n",
    "additional_diseases = {\n",
    "    \"MONDO:0001106\": \"kidney failure\",\n",
    "    \"MONDO:0021166\": \"inflammatory disease\",\n",
    "    \"MONDO:0004992\": \"cancer\",\n",
    "    \"MONDO:0004994\": \"cardiomyopathy\",\n",
    "    \"MONDO:0700065\": \"trisomy\",\n",
    "    \"MONDO:0021042\": \"glioma\",\n",
    "    \"MONDO:0005265\": \"inflammatory bowel disease\",\n",
    "    \"MONDO:0005550\": \"infectious disease\",\n",
    "    \"MONDO:0005059\": \"leukemia\",\n",
    "}\n",
    "\n",
    "additional_assays = {\n",
    "    \"EFO:0010184\": \"Smart-like\",\n",
    "}"
   ]
  },
  {
   "cell_type": "code",
   "execution_count": null,
   "metadata": {},
   "outputs": [],
   "source": [
    "# need to solve issues with CellType"
   ]
  },
  {
   "cell_type": "markdown",
   "metadata": {},
   "source": [
    "\n",
    "Did it using the code below to figure out things we might want to add etc.."
   ]
  },
  {
   "cell_type": "code",
   "execution_count": null,
   "metadata": {},
   "outputs": [],
   "source": [
    "mapping, anc, leafs = get_ancestry_mapping(df['tissue_ontology_term_id'].unique(), lb.Tissue.filter().df(include=[\"parents__ontology_id\"]).set_index(\"ontology_id\"))\n",
    "# getting only the leaves for which we don't have a parent\n",
    "leafs = list(leafs - set.union(*[mapping[val] for val in mapping.keys()]))"
   ]
  },
  {
   "cell_type": "code",
   "execution_count": null,
   "metadata": {},
   "outputs": [],
   "source": [
    "lb.Tissue.search(list(leafs)[108], field=\"ontology_id\",return_queryset=True).first().view_parents()"
   ]
  },
  {
   "cell_type": "markdown",
   "metadata": {},
   "source": [
    "## Preprocessing"
   ]
  },
  {
   "cell_type": "code",
   "execution_count": 5,
   "metadata": {},
   "outputs": [],
   "source": [
    "from scprint.dataset.preprocess import Preprocessor\n",
    "import scanpy as sc\n",
    "import numpy as np\n"
   ]
  },
  {
   "cell_type": "code",
   "execution_count": 62,
   "metadata": {},
   "outputs": [],
   "source": [
    "def additional_preprocess(adata):\n",
    "    adata.obs = adata.obs.replace({'self_reported_ethnicity_ontology_term_id':{\n",
    "        'multiethnic':'unknown',\n",
    "        'American':'unknown',\n",
    "        'Jewish Israeli': 'unknown',\n",
    "        'na':'unknown',\n",
    "    }}) #multi ethnic will have to get renamed\n",
    "    return adata\n",
    "\n",
    "def additional_postprocess(adata):\n",
    "    # define the \"up to\" 10 neighbors for each cells and add to obs\n",
    "    # compute neighbors\n",
    "    # need to be connectivities and same labels [cell type, assay, dataset, disease]\n",
    "    # define the \"neighbor\" up to 10(N) cells and add to obs\n",
    "    # define the \"next time point\" up to 5(M) cells and add to obs  # step 1: filter genes\n",
    "    sc.tl.diffmap(adata)\n",
    "    # create a meta group\n",
    "    adata.obs['dpt_group'] = adata.obs['leiden_1'].astype(str) + \"_\" + adata.obs['disease_ontology_term_id'].astype(str) + \"_\" + adata.obs['cell_type_ontology_term_id'].astype(str) + \"_\" + adata.obs['tissue_ontology_term_id'].astype(str) #+ \"_\" + adata.obs['dataset_id'].astype(str)\n",
    "\n",
    "    # if group is too small\n",
    "    okgroup = [i for i, j in adata.obs['dpt_group'].value_counts().items() if j>=10]\n",
    "    not_okgroup = [i for i, j in adata.obs['dpt_group'].value_counts().items() if j<3]\n",
    "    # set the group to empty\n",
    "    adata.obs.loc[adata.obs['dpt_group'].isin(not_okgroup), 'dpt_group'] = ''\n",
    "    adata.obs['heat_diff'] = np.nan\n",
    "    # for each group\n",
    "    for val in set(okgroup):\n",
    "        if val == '':\n",
    "            continue\n",
    "        # get the best root cell\n",
    "        eq = adata.obs.dpt_group==val\n",
    "        loc = np.where(eq)[0]\n",
    "\n",
    "        root_ixs = loc[adata.obsm[\"X_diffmap\"][eq, 0].argmin()]\n",
    "        adata.uns[\"iroot\"] = root_ixs\n",
    "        # compute the diffusion pseudo time from it\n",
    "        sc.tl.dpt(adata)\n",
    "        adata.obs.loc[eq, 'heat_diff'] = adata.obs.loc[eq, 'dpt_pseudotime']\n",
    "        adata.obs.drop(columns=['dpt_pseudotime'], inplace=True)\n",
    "\n",
    "    #sort so that the next time points are aligned for all groups\n",
    "    adata = adata[adata.obs.sort_values(['dpt_group','heat_diff']).index]\n",
    "    #to query N next time points we just get the N elements below and check they are in the group\n",
    "    # to query the N nearest neighbors we just get the N elements above and N below and check they are in the group\n",
    "    return adata\n"
   ]
  },
  {
   "cell_type": "code",
   "execution_count": 89,
   "metadata": {},
   "outputs": [],
   "source": [
    "do_preprocess = Preprocessor(lb, additional_postprocess=additional_postprocess, additional_preprocess=additional_preprocess)"
   ]
  },
  {
   "cell_type": "code",
   "execution_count": 90,
   "metadata": {},
   "outputs": [
    {
     "name": "stdout",
     "output_type": "stream",
     "text": [
      "❗ no run & transform get linked, consider passing a `run` or calling ln.track()\n",
      "0\n",
      "AnnData object with n_obs × n_vars = 644 × 16380\n",
      "    obs: 'nCount_Spatial', 'nFeature_Spatial', 'Cluster', 'adult_pred_type', 'adult_pred_value', 'fetal_pred_type', 'fetal_pred_value', 'Cell Cycle', 'Type 3 ILCs', 'DCs', 'Macrophages', 'Lymphatic', 'Arterial (CP) 2', 'Venous (CP) 1', 'Venous (M) 2', 'Endothelium G2M-phase', 'Venous (CP) 2', 'Arterial (CP)', 'Arterial (M)', 'Endothelium S-phase', 'Proximal Progenitor', 'Proximal Mature Enterocytes', 'BEST4_OTOP2 Cells', 'Proximal TA', 'Proximal Early Enterocytes', 'Proximal Enterocytes', 'Proximal Stem Cells', 'EECs', 'Distal Enterocytes', 'Goblets', 'Distal TA', 'Distal Absorptive', 'Distal Stem Cells', 'Secretory Progenitors', 'Distal Mature Enterocytes', 'S1', 'S1 COL6A5+', 'Proximal S2 (2)', 'Distal S2', 'Fibroblasts S-phase', 'Proximal S2 (1)', 'S3 Progenitor', 'Fibroblasts G2M-phase', 'S3', 'Fibroblast Progenitor', 'Erythroid', 'S3 EBF+', 'S3 HAND1+', 'Contractile Pericytes', 'Pericytes S-phase', 'Angiogenic Pericytes', 'Pericytes G2M-phase', 'Pericyte Progenitors', 'ICC PDGFRA+', 'MYOCD+ Muscularis', 'Muscularis S-phase', 'Muscularis G2M-phase', 'HOXP+ Proximal Muscularis', 'ICC KIT+', 'FOXF2+ Distal Muscularis', 'FOXF2- Muscularis', 'MORN5+ Distal Muscularis', 'IGF1+ Distal Muscularis', 'FOXF2+ Proximal Muscularis', 'Myofibroblast Progenitors', 'Myofibroblasts', 'Mesothelium SOX6+', 'Myofibroblasts S-phase', 'Myofibroblasts G2M-phase', 'Glial Progenitors', 'Excitory Motor Neuron', 'Interneuron', 'ENS Progenitors', 'Inhibitory Motor Neuron Precursor', 'Inhibitory Motor Neuron', 'Intraganglionic Glial', 'Neuroendocrine (2)', 'Lymphoid Associated Glial', 'Neuroendocrine (1)', 'max', 'tissue_ontology_term_id', 'assay_ontology_term_id', 'disease_ontology_term_id', 'development_stage_ontology_term_id', 'self_reported_ethnicity_ontology_term_id', 'cell_type_ontology_term_id', 'sex_ontology_term_id', 'is_primary_data', 'organism_ontology_term_id', 'donor_id', 'suspension_type', 'cell_type', 'assay', 'disease', 'organism', 'sex', 'tissue', 'self_reported_ethnicity', 'development_stage'\n",
      "    var: 'sct.detection_rate', 'sct.gmean', 'sct.variance', 'sct.residual_mean', 'sct.residual_variance', 'sct.variable', 'feature_is_filtered', 'feature_name', 'feature_reference', 'feature_biotype'\n",
      "    uns: 'adult_pred_mat', 'fetal_pred_mat', 'schema_version', 'title'\n",
      "    obsm: 'X_pca', 'X_spatial', 'X_umap'\n",
      "    layers: 'counts', 'scale.data'\n",
      "Removed 16 genes.\n",
      "Seeing 97 outliers (15.09% of total dataset):\n",
      "❗ no run & transform get linked, consider passing a `run` or calling ln.track()\n"
     ]
    },
    {
     "name": "stderr",
     "output_type": "stream",
     "text": [
      "/home/ml4ig1/miniconda3/envs/scprint/lib/python3.10/site-packages/anndata/_core/anndata.py:1292: ImplicitModificationWarning: Trying to modify attribute `.obs` of view, initializing view as actual.\n",
      "  df[key] = c\n",
      "... storing 'dpt_group' as categorical\n",
      "/home/ml4ig1/miniconda3/envs/scprint/lib/python3.10/site-packages/anndata/_core/anndata.py:1292: ImplicitModificationWarning: Trying to modify attribute `.var` of view, initializing view as actual.\n",
      "  df[key] = c\n",
      "... storing 'symbol' as categorical\n",
      "/home/ml4ig1/miniconda3/envs/scprint/lib/python3.10/site-packages/anndata/_core/anndata.py:1292: ImplicitModificationWarning: Trying to modify attribute `.var` of view, initializing view as actual.\n",
      "  df[key] = c\n",
      "... storing 'ncbi_gene_id' as categorical\n",
      "/home/ml4ig1/miniconda3/envs/scprint/lib/python3.10/site-packages/anndata/_core/anndata.py:1292: ImplicitModificationWarning: Trying to modify attribute `.var` of view, initializing view as actual.\n",
      "  df[key] = c\n",
      "... storing 'biotype' as categorical\n",
      "/home/ml4ig1/miniconda3/envs/scprint/lib/python3.10/site-packages/anndata/_core/anndata.py:1292: ImplicitModificationWarning: Trying to modify attribute `.var` of view, initializing view as actual.\n",
      "  df[key] = c\n",
      "... storing 'description' as categorical\n",
      "/home/ml4ig1/miniconda3/envs/scprint/lib/python3.10/site-packages/anndata/_core/anndata.py:1292: ImplicitModificationWarning: Trying to modify attribute `.var` of view, initializing view as actual.\n",
      "  df[key] = c\n",
      "... storing 'synonyms' as categorical\n"
     ]
    },
    {
     "name": "stdout",
     "output_type": "stream",
     "text": [
      "1\n",
      "AnnData object with n_obs × n_vars = 40436 × 26779\n",
      "    obs: 'donor_id', 'self_reported_ethnicity_ontology_term_id', 'donor_BMI', 'organism_ontology_term_id', 'sample_uuid', 'sample_preservation_method', 'tissue_ontology_term_id', 'development_stage_ontology_term_id', 'tissue_section_uuid', 'tissue_section_thickness', 'library_uuid', 'assay_ontology_term_id', 'mapped_reference_annotation', 'is_primary_data', 'cell_type_ontology_term_id', 'author_predicted_cell_type', 'disease_ontology_term_id', 'reported_diseases', 'sex_ontology_term_id', 'nCount_SCT', 'nFeature_SCT', 'seurat_clusters', 'predicted.celltype.score', 'array', 'suspension_type', 'cell_type', 'assay', 'disease', 'organism', 'sex', 'tissue', 'self_reported_ethnicity', 'development_stage'\n",
      "    var: 'feature_is_filtered', 'feature_name', 'feature_reference', 'feature_biotype'\n",
      "    uns: 'default_embedding', 'schema_version', 'title'\n",
      "    obsm: 'X_pca', 'X_ref.pca', 'X_ref.umap', 'X_spatial', 'X_umap'\n",
      "Removed 65 genes.\n",
      "Seeing 5069 outliers (20.98% of total dataset):\n",
      "❗ no run & transform get linked, consider passing a `run` or calling ln.track()\n"
     ]
    },
    {
     "name": "stderr",
     "output_type": "stream",
     "text": [
      "/home/ml4ig1/miniconda3/envs/scprint/lib/python3.10/site-packages/anndata/_core/anndata.py:1292: ImplicitModificationWarning: Trying to modify attribute `.obs` of view, initializing view as actual.\n",
      "  df[key] = c\n",
      "... storing 'dpt_group' as categorical\n",
      "/home/ml4ig1/miniconda3/envs/scprint/lib/python3.10/site-packages/anndata/_core/anndata.py:1292: ImplicitModificationWarning: Trying to modify attribute `.var` of view, initializing view as actual.\n",
      "  df[key] = c\n",
      "... storing 'symbol' as categorical\n",
      "/home/ml4ig1/miniconda3/envs/scprint/lib/python3.10/site-packages/anndata/_core/anndata.py:1292: ImplicitModificationWarning: Trying to modify attribute `.var` of view, initializing view as actual.\n",
      "  df[key] = c\n",
      "... storing 'ncbi_gene_id' as categorical\n",
      "/home/ml4ig1/miniconda3/envs/scprint/lib/python3.10/site-packages/anndata/_core/anndata.py:1292: ImplicitModificationWarning: Trying to modify attribute `.var` of view, initializing view as actual.\n",
      "  df[key] = c\n",
      "... storing 'biotype' as categorical\n",
      "/home/ml4ig1/miniconda3/envs/scprint/lib/python3.10/site-packages/anndata/_core/anndata.py:1292: ImplicitModificationWarning: Trying to modify attribute `.var` of view, initializing view as actual.\n",
      "  df[key] = c\n",
      "... storing 'description' as categorical\n",
      "/home/ml4ig1/miniconda3/envs/scprint/lib/python3.10/site-packages/anndata/_core/anndata.py:1292: ImplicitModificationWarning: Trying to modify attribute `.var` of view, initializing view as actual.\n",
      "  df[key] = c\n",
      "... storing 'synonyms' as categorical\n"
     ]
    },
    {
     "name": "stdout",
     "output_type": "stream",
     "text": [
      "2\n",
      "AnnData object with n_obs × n_vars = 17622 × 33178\n",
      "    obs: 'nCount_RNA', 'nFeature_RNA', 'BroadLocation', 'Location', 'PCW', 'Genotype', 'Pool', 'Collection.ID', 'Cluster', 'cell_type_ontology_term_id', 'disease_ontology_term_id', 'assay_ontology_term_id', 'self_reported_ethnicity_ontology_term_id', 'is_primary_data', 'organism_ontology_term_id', 'donor_id', 'development_stage_ontology_term_id', 'sex_ontology_term_id', 'tissue_ontology_term_id', 'suspension_type', 'cell_type', 'assay', 'disease', 'organism', 'sex', 'tissue', 'self_reported_ethnicity', 'development_stage'\n",
      "    var: 'feature_is_filtered', 'feature_name', 'feature_reference', 'feature_biotype'\n",
      "    uns: 'schema_version', 'title'\n",
      "    obsm: 'X_harmony', 'X_pca', 'X_umap'\n",
      "Dataset dropped because contains too many secondary cells\n",
      "3\n",
      "AnnData object with n_obs × n_vars = 72335 × 36503\n",
      "    obs: 'donor_id', 'self_reported_ethnicity_ontology_term_id', 'donor_living_at_sample_collection', 'organism_ontology_term_id', 'sample_uuid', 'sample_preservation_method', 'tissue_ontology_term_id', 'development_stage_ontology_term_id', 'sample_derivation_process', 'donor_BMI_at_collection', 'suspension_derivation_process', 'suspension_dissociation_reagent', 'suspension_dissociation_time', 'suspension_uuid', 'suspension_type', 'library_uuid', 'assay_ontology_term_id', 'library_starting_quantity', 'mapped_reference_annotation', 'is_primary_data', 'cell_type_ontology_term_id', 'author_cell_type', 'disease_ontology_term_id', 'reported_diseases', 'sex_ontology_term_id', 'leiden_scVI', 'cell_type', 'assay', 'disease', 'organism', 'sex', 'tissue', 'self_reported_ethnicity', 'development_stage'\n",
      "    var: 'feature_is_filtered', 'n_counts', 'highly_variable_rank', 'means', 'variances', 'variances_norm', 'highly_variable_nbatches', 'feature_name', 'feature_reference', 'feature_biotype'\n",
      "    uns: '_scvi_manager_uuid', '_scvi_uuid', 'default_embedding', 'hvg', 'leiden', 'log1p', 'neighbors', 'schema_version', 'title', 'umap'\n",
      "    obsm: 'X_scVI', 'X_umap'\n",
      "    obsp: 'connectivities', 'distances'\n",
      "Removed 113 genes.\n",
      "Seeing 17625 outliers (24.37% of total dataset):\n",
      "❗ no run & transform get linked, consider passing a `run` or calling ln.track()\n"
     ]
    },
    {
     "name": "stderr",
     "output_type": "stream",
     "text": [
      "/home/ml4ig1/miniconda3/envs/scprint/lib/python3.10/site-packages/anndata/_core/anndata.py:1292: ImplicitModificationWarning: Trying to modify attribute `.obs` of view, initializing view as actual.\n",
      "  df[key] = c\n",
      "... storing 'dpt_group' as categorical\n",
      "/home/ml4ig1/miniconda3/envs/scprint/lib/python3.10/site-packages/anndata/_core/anndata.py:1292: ImplicitModificationWarning: Trying to modify attribute `.var` of view, initializing view as actual.\n",
      "  df[key] = c\n",
      "... storing 'symbol' as categorical\n",
      "/home/ml4ig1/miniconda3/envs/scprint/lib/python3.10/site-packages/anndata/_core/anndata.py:1292: ImplicitModificationWarning: Trying to modify attribute `.var` of view, initializing view as actual.\n",
      "  df[key] = c\n",
      "... storing 'ncbi_gene_id' as categorical\n",
      "/home/ml4ig1/miniconda3/envs/scprint/lib/python3.10/site-packages/anndata/_core/anndata.py:1292: ImplicitModificationWarning: Trying to modify attribute `.var` of view, initializing view as actual.\n",
      "  df[key] = c\n",
      "... storing 'biotype' as categorical\n",
      "/home/ml4ig1/miniconda3/envs/scprint/lib/python3.10/site-packages/anndata/_core/anndata.py:1292: ImplicitModificationWarning: Trying to modify attribute `.var` of view, initializing view as actual.\n",
      "  df[key] = c\n",
      "... storing 'description' as categorical\n",
      "/home/ml4ig1/miniconda3/envs/scprint/lib/python3.10/site-packages/anndata/_core/anndata.py:1292: ImplicitModificationWarning: Trying to modify attribute `.var` of view, initializing view as actual.\n",
      "  df[key] = c\n",
      "... storing 'synonyms' as categorical\n"
     ]
    },
    {
     "name": "stdout",
     "output_type": "stream",
     "text": [
      "4\n",
      "AnnData object with n_obs × n_vars = 19361 × 33178\n",
      "    obs: 'Genes', 'Run', 'X', 'Y', 'Virus', 'Name', 'Treatment', 'Passch.Basal', 'Passch.Interm. basal.secr.', 'Passch.Secretory', 'Passch.Ciliated', 'Passch.FOXN4', 'Passch.BrushPNEC', 'Passch.Ionocytes', 'Passch.SLC16A7', 'CellType', 'Basal2', 'DividingCell', 'Name2', 'Cluster', 'Name3', 'tissue_ontology_term_id', 'assay_ontology_term_id', 'disease_ontology_term_id', 'development_stage_ontology_term_id', 'cell_type_ontology_term_id', 'self_reported_ethnicity_ontology_term_id', 'sex_ontology_term_id', 'is_primary_data', 'organism_ontology_term_id', 'donor_id', 'suspension_type', 'cell_type', 'assay', 'disease', 'organism', 'sex', 'tissue', 'self_reported_ethnicity', 'development_stage'\n",
      "    var: 'feature_is_filtered', 'feature_name', 'feature_reference', 'feature_biotype'\n",
      "    uns: 'schema_version', 'title'\n",
      "    obsm: 'X_umap'\n",
      "Removed 94 genes.\n",
      "❗ received 1 unique term, 19360 empty/duplicated terms are ignored\n",
      "❗ \u001b[1;93m1 term\u001b[0m (100.00%) is not validated for \u001b[3montology_id\u001b[0m: \u001b[1;93munknown\u001b[0m\n"
     ]
    },
    {
     "ename": "ValueError",
     "evalue": "Invalid sex ontology term id found",
     "output_type": "error",
     "traceback": [
      "\u001b[0;31m---------------------------------------------------------------------------\u001b[0m",
      "\u001b[0;31mValueError\u001b[0m                                Traceback (most recent call last)",
      "\u001b[1;32m/home/ml4ig1/Documents code/scPRINT/notebooks/assessments/finalize_data_loader.ipynb Cell 29\u001b[0m line \u001b[0;36m1\n\u001b[0;32m----> <a href='vscode-notebook-cell://ssh-remote%2Bperso/home/ml4ig1/Documents%20code/scPRINT/notebooks/assessments/finalize_data_loader.ipynb#X54sdnNjb2RlLXJlbW90ZQ%3D%3D?line=0'>1</a>\u001b[0m preprocessed_dataset \u001b[39m=\u001b[39m do_preprocess(mydataset, start_at\u001b[39m=\u001b[39;49m\u001b[39m6\u001b[39;49m)\n",
      "File \u001b[0;32m~/Documents code/scPRINT/scprint/dataset/preprocess.py:155\u001b[0m, in \u001b[0;36mPreprocessor.__call__\u001b[0;34m(self, data, name, description, start_at)\u001b[0m\n\u001b[1;32m    153\u001b[0m         \u001b[39mcontinue\u001b[39;00m\n\u001b[1;32m    154\u001b[0m     \u001b[39melse\u001b[39;00m:\n\u001b[0;32m--> 155\u001b[0m         \u001b[39mraise\u001b[39;00m v\n\u001b[1;32m    156\u001b[0m \u001b[39mif\u001b[39;00m \u001b[39mself\u001b[39m\u001b[39m.\u001b[39merase_prev_dataset:\n\u001b[1;32m    157\u001b[0m     adata\u001b[39m.\u001b[39mwrite_h5ad(file\u001b[39m.\u001b[39mstorage)\n",
      "File \u001b[0;32m~/Documents code/scPRINT/scprint/dataset/preprocess.py:146\u001b[0m, in \u001b[0;36mPreprocessor.__call__\u001b[0;34m(self, data, name, description, start_at)\u001b[0m\n\u001b[1;32m    144\u001b[0m \u001b[39mprint\u001b[39m(adata)\n\u001b[1;32m    145\u001b[0m \u001b[39mtry\u001b[39;00m:\n\u001b[0;32m--> 146\u001b[0m     adata \u001b[39m=\u001b[39m \u001b[39mself\u001b[39;49m\u001b[39m.\u001b[39;49mpreprocess(adata)\n\u001b[1;32m    148\u001b[0m \u001b[39mexcept\u001b[39;00m \u001b[39mValueError\u001b[39;00m \u001b[39mas\u001b[39;00m v:\n\u001b[1;32m    149\u001b[0m     \u001b[39mif\u001b[39;00m v\u001b[39m.\u001b[39margs[\u001b[39m0\u001b[39m]\u001b[39m.\u001b[39mstartswith(\n\u001b[1;32m    150\u001b[0m         \u001b[39m\"\u001b[39m\u001b[39mDataset dropped because contains too many secondary\u001b[39m\u001b[39m\"\u001b[39m\n\u001b[1;32m    151\u001b[0m     ):\n",
      "File \u001b[0;32m~/Documents code/scPRINT/scprint/dataset/preprocess.py:250\u001b[0m, in \u001b[0;36mPreprocessor.preprocess\u001b[0;34m(self, adata)\u001b[0m\n\u001b[1;32m    248\u001b[0m \u001b[39m# do a validation function\u001b[39;00m\n\u001b[1;32m    249\u001b[0m adata\u001b[39m.\u001b[39muns[\u001b[39m\"\u001b[39m\u001b[39munseen_genes\u001b[39m\u001b[39m\"\u001b[39m] \u001b[39m=\u001b[39m \u001b[39mlist\u001b[39m(unseen)\n\u001b[0;32m--> 250\u001b[0m data_utils\u001b[39m.\u001b[39;49mvalidate(\n\u001b[1;32m    251\u001b[0m     adata, \u001b[39mself\u001b[39;49m\u001b[39m.\u001b[39;49mlb, organism\u001b[39m=\u001b[39;49madata\u001b[39m.\u001b[39;49mobs\u001b[39m.\u001b[39;49morganism_ontology_term_id[\u001b[39m0\u001b[39;49m]\n\u001b[1;32m    252\u001b[0m )\n\u001b[1;32m    253\u001b[0m \u001b[39m# length normalization\u001b[39;00m\n\u001b[1;32m    254\u001b[0m \u001b[39mif\u001b[39;00m (\n\u001b[1;32m    255\u001b[0m     adata\u001b[39m.\u001b[39mobs[\u001b[39m\"\u001b[39m\u001b[39massay_ontology_term_id\u001b[39m\u001b[39m\"\u001b[39m]\u001b[39m.\u001b[39misin(FULL_LENGTH_ASSAYS)\u001b[39m.\u001b[39many()\n\u001b[1;32m    256\u001b[0m     \u001b[39mand\u001b[39;00m \u001b[39mself\u001b[39m\u001b[39m.\u001b[39mlength_normalize\n\u001b[1;32m    257\u001b[0m ):\n",
      "File \u001b[0;32m~/Documents code/scPRINT/scprint/dataset/utils.py:71\u001b[0m, in \u001b[0;36mvalidate\u001b[0;34m(adata, lb, organism)\u001b[0m\n\u001b[1;32m     67\u001b[0m     \u001b[39mraise\u001b[39;00m \u001b[39mValueError\u001b[39;00m(\u001b[39m\"\u001b[39m\u001b[39mInvalid organism ontology term id found\u001b[39m\u001b[39m\"\u001b[39m)\n\u001b[1;32m     68\u001b[0m \u001b[39mif\u001b[39;00m \u001b[39mnot\u001b[39;00m lb\u001b[39m.\u001b[39mPhenotype\u001b[39m.\u001b[39mvalidate(\n\u001b[1;32m     69\u001b[0m     adata\u001b[39m.\u001b[39mobs[\u001b[39m\"\u001b[39m\u001b[39msex_ontology_term_id\u001b[39m\u001b[39m\"\u001b[39m], field\u001b[39m=\u001b[39m\u001b[39m\"\u001b[39m\u001b[39montology_id\u001b[39m\u001b[39m\"\u001b[39m\n\u001b[1;32m     70\u001b[0m )\u001b[39m.\u001b[39mall():\n\u001b[0;32m---> 71\u001b[0m     \u001b[39mraise\u001b[39;00m \u001b[39mValueError\u001b[39;00m(\u001b[39m\"\u001b[39m\u001b[39mInvalid sex ontology term id found\u001b[39m\u001b[39m\"\u001b[39m)\n\u001b[1;32m     72\u001b[0m \u001b[39mif\u001b[39;00m \u001b[39mnot\u001b[39;00m lb\u001b[39m.\u001b[39mDisease\u001b[39m.\u001b[39mvalidate(\n\u001b[1;32m     73\u001b[0m     adata\u001b[39m.\u001b[39mobs[\u001b[39m\"\u001b[39m\u001b[39mdisease_ontology_term_id\u001b[39m\u001b[39m\"\u001b[39m], field\u001b[39m=\u001b[39m\u001b[39m\"\u001b[39m\u001b[39montology_id\u001b[39m\u001b[39m\"\u001b[39m\n\u001b[1;32m     74\u001b[0m )\u001b[39m.\u001b[39mall():\n\u001b[1;32m     75\u001b[0m     \u001b[39mraise\u001b[39;00m \u001b[39mValueError\u001b[39;00m(\u001b[39m\"\u001b[39m\u001b[39mInvalid disease ontology term id found\u001b[39m\u001b[39m\"\u001b[39m)\n",
      "\u001b[0;31mValueError\u001b[0m: Invalid sex ontology term id found"
     ]
    }
   ],
   "source": [
    "preprocessed_dataset = do_preprocess(mydataset, start_at=6)"
   ]
  },
  {
   "cell_type": "code",
   "execution_count": 82,
   "metadata": {},
   "outputs": [
    {
     "name": "stdout",
     "output_type": "stream",
     "text": [
      "❗ no run & transform get linked, consider passing a `run` or calling ln.track()\n"
     ]
    }
   ],
   "source": [
    "tdata = mydataset.files.all()[6].load()"
   ]
  },
  {
   "cell_type": "code",
   "execution_count": 85,
   "metadata": {},
   "outputs": [
    {
     "data": {
      "text/plain": [
       "['EFO:0010961']\n",
       "Categories (1, object): ['EFO:0010961']"
      ]
     },
     "execution_count": 85,
     "metadata": {},
     "output_type": "execute_result"
    }
   ],
   "source": [
    "tdata.obs.assay_ontology_term_id.unique()"
   ]
  },
  {
   "cell_type": "code",
   "execution_count": null,
   "metadata": {},
   "outputs": [],
   "source": [
    "ln.File.filter(version='2', description='preprocessed by scprint')"
   ]
  },
  {
   "cell_type": "code",
   "execution_count": null,
   "metadata": {},
   "outputs": [],
   "source": [
    "# TODO: finish the annotation things DONE\n",
    "# TODO: finish the clustering thing DONE\n",
    "# TODO: test on 20 datasets\n",
    "# TODO: finish esm embedding\n",
    "# TODO: make the dataloader for the model\n",
    "# TODO: add gene length to the preprocessor if needed"
   ]
  },
  {
   "cell_type": "code",
   "execution_count": 207,
   "metadata": {},
   "outputs": [],
   "source": [
    "labels_weighted_sampling = [\n",
    "    'self_reported_ethnicity_ontology_term_id',\n",
    "    'assay_ontology_term_id',\n",
    "    'development_stage_ontology_term_id',\n",
    "    'disease_ontology_term_id',\n",
    "    'cell_type_ontology_term_id',\n",
    "    'tissue_ontology_term_id',\n",
    "    'sex_ontology_term_id',\n",
    "]"
   ]
  },
  {
   "cell_type": "code",
   "execution_count": 208,
   "metadata": {},
   "outputs": [
    {
     "name": "stdout",
     "output_type": "stream",
     "text": [
      "❗ no run & transform get linked, consider passing a `run` or calling ln.track()\n"
     ]
    }
   ],
   "source": [
    "mapped_dataset = mydataset.mapped(label_keys=labels_weighted_sampling)"
   ]
  },
  {
   "cell_type": "code",
   "execution_count": null,
   "metadata": {},
   "outputs": [],
   "source": [
    "def get_label_weights(self, label_keys: Union[str, List[str]]):\n",
    "    \"\"\"Get all weights for a given label key.\"\"\"\n",
    "    if type(label_keys) is not list:\n",
    "        label_keys = [label_keys]\n",
    "    for i, val in enumerate(label_keys):\n",
    "        if val not in self.label_keys:\n",
    "            raise ValueError(f\"{val} is not a valid label key.\")\n",
    "        if i == 0:\n",
    "            labels = self.get_merged_labels(val)\n",
    "        else:\n",
    "            labels += \"_\"+ self.get_merged_labels(val)\n",
    "    counter = Counter(labels)  # type: ignore\n",
    "    weights = np.array([counter[label] for label in labels]) / len(labels)\n",
    "    return weights"
   ]
  },
  {
   "cell_type": "code",
   "execution_count": null,
   "metadata": {},
   "outputs": [],
   "source": []
  },
  {
   "cell_type": "code",
   "execution_count": null,
   "metadata": {},
   "outputs": [],
   "source": []
  }
 ],
 "metadata": {
  "kernelspec": {
   "display_name": "scprint",
   "language": "python",
   "name": "python3"
  },
  "language_info": {
   "codemirror_mode": {
    "name": "ipython",
    "version": 3
   },
   "file_extension": ".py",
   "mimetype": "text/x-python",
   "name": "python",
   "nbconvert_exporter": "python",
   "pygments_lexer": "ipython3",
   "version": "3.10.0"
  }
 },
 "nbformat": 4,
 "nbformat_minor": 2
}
