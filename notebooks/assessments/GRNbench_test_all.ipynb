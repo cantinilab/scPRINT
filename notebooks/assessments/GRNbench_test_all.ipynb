{
 "cells": [
  {
   "cell_type": "code",
   "execution_count": 1,
   "metadata": {},
   "outputs": [
    {
     "name": "stdout",
     "output_type": "stream",
     "text": [
      "💡 loaded instance: jkobject/scprint\n"
     ]
    },
    {
     "name": "stderr",
     "output_type": "stream",
     "text": [
      "/home/ml4ig1/miniconda3/envs/scprint/lib/python3.10/site-packages/umap/__init__.py:9: ImportWarning: Tensorflow not installed; ParametricUMAP will be unavailable\n",
      "  warn(\n",
      "2024-03-31 22:03:59,064:INFO - Downloading data from `https://omnipathdb.org/queries/enzsub?format=json`\n",
      "2024-03-31 22:03:59,064:INFO - Downloading data from `https://omnipathdb.org/queries/enzsub?format=json`\n",
      "2024-03-31 22:03:59,176:INFO - Downloading data from `https://omnipathdb.org/queries/interactions?format=json`\n",
      "2024-03-31 22:03:59,264:INFO - Downloading data from `https://omnipathdb.org/queries/complexes?format=json`\n",
      "2024-03-31 22:03:59,358:INFO - Downloading data from `https://omnipathdb.org/queries/annotations?format=json`\n",
      "2024-03-31 22:03:59,453:INFO - Downloading data from `https://omnipathdb.org/queries/intercell?format=json`\n",
      "2024-03-31 22:03:59,624:INFO - Downloading data from `https://omnipathdb.org/about?format=text`\n"
     ]
    }
   ],
   "source": [
    "import scanpy as sc\n",
    "from scprint import scPrint\n",
    "from scdataloader import Preprocessor\n",
    "from scprint.tasks import GRNfer\n",
    "import umap\n",
    "\n",
    "from grnndata import GRNAnnData, read_h5ad\n",
    "from grnndata import utils \n",
    "from bengrn import BenGRN\n",
    "\n",
    "\n",
    "import numpy as np\n",
    "import pandas as pd\n",
    "from matplotlib import pyplot as plt\n",
    "from collections import Counter\n",
    "from scprint.tasks.grn import get_GTdb\n",
    "\n",
    "\n",
    "%load_ext autoreload\n",
    "%autoreload 2\n",
    "\n",
    "import torch\n",
    "torch.set_float32_matmul_precision('medium')"
   ]
  },
  {
   "cell_type": "markdown",
   "metadata": {},
   "source": [
    "# Load Model and data"
   ]
  },
  {
   "cell_type": "code",
   "execution_count": null,
   "metadata": {},
   "outputs": [],
   "source": [
    "#model = scPrint.load_from_checkpoint('../../data/tensorboard/scprint_test/urxxwu28/checkpoints/epoch=0-step=20000.ckpt') #chocolate-surf-8\n",
    "model = scPrint.load_from_checkpoint('../../data/temp/cmgiqxw/epoch=3-step=20000.ckpt', precpt_gene_emb = '../../data/temp/embeddings.parquet')\n",
    "# ../../data/temp/epoch=4-step=12500.ckpt latest model maestro (fortuitous laugther)\n",
    "# ../../data/logs/scprint_test/f4vao230/checkpoints/epoch=10-step=27500.ckpt looked good as a training run (vermlillion noodle)\n",
    "# d1792z9k/epoch=3-step=10000.ckpt\n",
    "# '../../data/temp/d1792z9k/epoch=3-step=10000.ckpt'\n",
    "# '../../data/temp/6q3dzi3x/epoch=3-step=10000.ckpt'\n",
    "# '../../data/temp/grsachbg/epoch=2-step=15000.ckpt'\n",
    "## post debug\n",
    "# \"../lightning_logs/version_14/checkpoints/epoch=1-step=5000.ckpt\""
   ]
  },
  {
   "cell_type": "code",
   "execution_count": null,
   "metadata": {},
   "outputs": [],
   "source": [
    "#only dataset dropped\n",
    "adata = sc.read_h5ad('/home/ml4ig1/scprint/.lamindb/z7ZZxORUQFshySbuvNW7.h5ad') \n",
    "\n",
    "# one that it trained on: z7ZZxORUQFshySbuvNW7.\n",
    "# untrained on: BljRloq1xjcxRNDpejzI\n",
    "# and yBCKp6HmXuHa0cZptMo7"
   ]
  },
  {
   "cell_type": "code",
   "execution_count": null,
   "metadata": {},
   "outputs": [
    {
     "name": "stderr",
     "output_type": "stream",
     "text": [
      "/home/ml4ig1/miniconda3/envs/scprint/lib/python3.10/site-packages/anndata/__init__.py:51: FutureWarning: `anndata.read` is deprecated, use `anndata.read_h5ad` instead. `ad.read` will be removed in mid 2024.\n",
      "  warnings.warn(\n"
     ]
    }
   ],
   "source": [
    "adata = sc.read(\n",
    "    \"data/pancreas_atlas.h5ad\",\n",
    "    backup_url=\"https://figshare.com/ndownloader/files/24539828\",\n",
    ")\n"
   ]
  },
  {
   "cell_type": "code",
   "execution_count": null,
   "metadata": {},
   "outputs": [
    {
     "name": "stderr",
     "output_type": "stream",
     "text": [
      "/home/ml4ig1/miniconda3/envs/scprint/lib/python3.10/site-packages/anndata/__init__.py:51: FutureWarning: `anndata.read` is deprecated, use `anndata.read_h5ad` instead. `ad.read` will be removed in mid 2024.\n",
      "  warnings.warn(\n"
     ]
    }
   ],
   "source": [
    "adata = sc.read(\n",
    "    \"data/lung_atlas.h5ad\",\n",
    "    backup_url=\"https://figshare.com/ndownloader/files/24539942\",\n",
    ")"
   ]
  },
  {
   "cell_type": "code",
   "execution_count": null,
   "metadata": {},
   "outputs": [],
   "source": [
    "preprocessor = Preprocessor(subset_hvg=1000, use_layer='counts', is_symbol=True, force_preprocess=True, skip_validate=True, do_postp=False)"
   ]
  },
  {
   "cell_type": "code",
   "execution_count": null,
   "metadata": {},
   "outputs": [],
   "source": [
    "adata.obs['organism_ontology_term_id'] = \"NCBITaxon:9606\"\n",
    "adata = preprocessor(adata.copy())"
   ]
  },
  {
   "cell_type": "markdown",
   "metadata": {},
   "source": [
    "# Run tests"
   ]
  },
  {
   "cell_type": "code",
   "execution_count": null,
   "metadata": {},
   "outputs": [],
   "source": [
    "grn_inferer = GRNfer(model, adata,\n",
    "    how=\"random expr\",\n",
    "    preprocess=\"softmax\",\n",
    "    head_agg='mean',\n",
    "    cell_agg=\"mean\"\n",
    "    filtration=\"thresh\",\n",
    "    #k=\n",
    "    #genes=\n",
    "    #known_grn\n",
    ")\n",
    "grn = grn_inferer(cell_type=\"oligodendrocyte precursor cell\", layer=3)"
   ]
  },
  {
   "cell_type": "code",
   "execution_count": null,
   "metadata": {},
   "outputs": [],
   "source": [
    "BenGRN(grn).scprint_benchmark()"
   ]
  },
  {
   "cell_type": "code",
   "execution_count": null,
   "metadata": {},
   "outputs": [],
   "source": []
  },
  {
   "cell_type": "markdown",
   "metadata": {},
   "source": [
    "## most var within"
   ]
  },
  {
   "cell_type": "code",
   "execution_count": null,
   "metadata": {},
   "outputs": [],
   "source": [
    "grn_inferer = GRNfer(model, adata,\n",
    "    how=\"most var within\",\n",
    "    preprocess=\"softmax\",\n",
    "    head_agg='mean',\n",
    "    cell_agg=\"mean\"\n",
    "    filtration=\"thresh\",\n",
    "    #k=\n",
    "    #genes=\n",
    "    #known_grn\n",
    ")\n",
    "grn = grn_inferer(cell_type=\"oligodendrocyte precursor cell\", layer=3)"
   ]
  },
  {
   "cell_type": "code",
   "execution_count": null,
   "metadata": {},
   "outputs": [],
   "source": [
    "BenGRN(grn).scprint_benchmark()"
   ]
  },
  {
   "cell_type": "code",
   "execution_count": null,
   "metadata": {},
   "outputs": [],
   "source": []
  },
  {
   "cell_type": "markdown",
   "metadata": {},
   "source": [
    "## most var without"
   ]
  },
  {
   "cell_type": "code",
   "execution_count": null,
   "metadata": {},
   "outputs": [],
   "source": [
    "grn_inferer = GRNfer(model, adata,\n",
    "    how=\"most var without\",\n",
    "    preprocess=\"softmax\",\n",
    "    head_agg='mean',\n",
    "    cell_agg=\"mean\"\n",
    "    filtration=\"thresh\",\n",
    "    #k=\n",
    "    #genes=\n",
    "    #known_grn\n",
    ")\n",
    "grn = grn_inferer(cell_type=\"oligodendrocyte precursor cell\", layer=3)"
   ]
  },
  {
   "cell_type": "code",
   "execution_count": null,
   "metadata": {},
   "outputs": [],
   "source": [
    "BenGRN(grn).scprint_benchmark()"
   ]
  },
  {
   "cell_type": "code",
   "execution_count": null,
   "metadata": {},
   "outputs": [],
   "source": []
  },
  {
   "cell_type": "markdown",
   "metadata": {},
   "source": [
    "## max head"
   ]
  },
  {
   "cell_type": "code",
   "execution_count": null,
   "metadata": {},
   "outputs": [],
   "source": [
    "grn_inferer = GRNfer(model, adata,\n",
    "    how=\"random expr\",\n",
    "    preprocess=\"softmax\",\n",
    "    head_agg='max',\n",
    "    cell_agg=\"mean\"\n",
    "    filtration=\"thresh\",\n",
    "    #k=\n",
    "    #genes=\n",
    "    #known_grn\n",
    ")\n",
    "grn = grn_inferer(cell_type=\"oligodendrocyte precursor cell\", layer=3)"
   ]
  },
  {
   "cell_type": "code",
   "execution_count": null,
   "metadata": {},
   "outputs": [],
   "source": [
    "BenGRN(grn).scprint_benchmark()"
   ]
  },
  {
   "cell_type": "code",
   "execution_count": null,
   "metadata": {},
   "outputs": [],
   "source": []
  },
  {
   "cell_type": "markdown",
   "metadata": {},
   "source": [
    "## consensus"
   ]
  },
  {
   "cell_type": "code",
   "execution_count": null,
   "metadata": {},
   "outputs": [],
   "source": [
    "grn_inferer = GRNfer(model, adata,\n",
    "    how=\"random expr\",\n",
    "    preprocess=\"softmax\",\n",
    "    head_agg='mean',\n",
    "    cell_agg=\"consensus\"\n",
    "    filtration=\"thresh\",\n",
    "    #k=\n",
    "    #genes=\n",
    "    #known_grn\n",
    ")\n",
    "grn = grn_inferer(cell_type=\"oligodendrocyte precursor cell\", layer=3)"
   ]
  },
  {
   "cell_type": "code",
   "execution_count": null,
   "metadata": {},
   "outputs": [],
   "source": [
    "BenGRN(grn).scprint_benchmark()"
   ]
  },
  {
   "cell_type": "code",
   "execution_count": null,
   "metadata": {},
   "outputs": [],
   "source": []
  },
  {
   "cell_type": "markdown",
   "metadata": {},
   "source": [
    "## sinkhorn"
   ]
  },
  {
   "cell_type": "code",
   "execution_count": null,
   "metadata": {},
   "outputs": [],
   "source": [
    "grn_inferer = GRNfer(model, adata,\n",
    "    how=\"most var without\",\n",
    "    preprocess=\"sinkhorn\",\n",
    "    head_agg='mean',\n",
    "    cell_agg=\"consensus\"\n",
    "    filtration=\"thresh\",\n",
    "    #k=\n",
    "    #genes=\n",
    "    #known_grn\n",
    ")\n",
    "grn = grn_inferer(cell_type=\"oligodendrocyte precursor cell\", layer=3)"
   ]
  },
  {
   "cell_type": "code",
   "execution_count": null,
   "metadata": {},
   "outputs": [],
   "source": [
    "BenGRN(grn).scprint_benchmark()"
   ]
  },
  {
   "cell_type": "code",
   "execution_count": null,
   "metadata": {},
   "outputs": [],
   "source": []
  },
  {
   "cell_type": "markdown",
   "metadata": {},
   "source": [
    "## top-k"
   ]
  },
  {
   "cell_type": "code",
   "execution_count": null,
   "metadata": {},
   "outputs": [],
   "source": [
    "grn_inferer = GRNfer(model, adata,\n",
    "    how=\"most var without\",\n",
    "    preprocess=\"sinkhorn\",\n",
    "    head_agg='mean',\n",
    "    cell_agg=\"consensus\"\n",
    "    filtration=\"thresh\",\n",
    "    #k=\n",
    "    #genes=\n",
    "    #known_grn\n",
    ")\n",
    "grn = grn_inferer(cell_type=\"oligodendrocyte precursor cell\", layer=3)"
   ]
  },
  {
   "cell_type": "code",
   "execution_count": null,
   "metadata": {},
   "outputs": [],
   "source": [
    "BenGRN(grn).scprint_benchmark()"
   ]
  },
  {
   "cell_type": "code",
   "execution_count": null,
   "metadata": {},
   "outputs": [],
   "source": []
  },
  {
   "cell_type": "code",
   "execution_count": null,
   "metadata": {},
   "outputs": [],
   "source": []
  },
  {
   "cell_type": "markdown",
   "metadata": {},
   "source": [
    "# mst"
   ]
  },
  {
   "cell_type": "code",
   "execution_count": null,
   "metadata": {},
   "outputs": [],
   "source": [
    "grn_inferer = GRNfer(model, adata,\n",
    "    how=\"most var without\",\n",
    "    preprocess=\"sinkhorn\",\n",
    "    head_agg='mean',\n",
    "    cell_agg=\"consensus\"\n",
    "    filtration=\"thresh\",\n",
    "    #k=\n",
    "    #genes=\n",
    "    #known_grn\n",
    ")\n",
    "grn = grn_inferer(cell_type=\"oligodendrocyte precursor cell\", layer=3)"
   ]
  },
  {
   "cell_type": "code",
   "execution_count": null,
   "metadata": {},
   "outputs": [],
   "source": [
    "BenGRN(grn).scprint_benchmark()"
   ]
  },
  {
   "cell_type": "code",
   "execution_count": null,
   "metadata": {},
   "outputs": [],
   "source": []
  },
  {
   "cell_type": "code",
   "execution_count": null,
   "metadata": {},
   "outputs": [],
   "source": []
  },
  {
   "cell_type": "markdown",
   "metadata": {},
   "source": [
    "## tmfg"
   ]
  },
  {
   "cell_type": "code",
   "execution_count": null,
   "metadata": {},
   "outputs": [],
   "source": [
    "grn_inferer = GRNfer(model, adata,\n",
    "    how=\"most var without\",\n",
    "    preprocess=\"sinkhorn\",\n",
    "    head_agg='mean',\n",
    "    cell_agg=\"consensus\"\n",
    "    filtration=\"thresh\",\n",
    "    #k=\n",
    "    #genes=\n",
    "    #known_grn\n",
    ")\n",
    "grn = grn_inferer(cell_type=\"oligodendrocyte precursor cell\", layer=3)"
   ]
  },
  {
   "cell_type": "code",
   "execution_count": null,
   "metadata": {},
   "outputs": [],
   "source": [
    "BenGRN(grn).scprint_benchmark()"
   ]
  },
  {
   "cell_type": "code",
   "execution_count": null,
   "metadata": {},
   "outputs": [],
   "source": []
  },
  {
   "cell_type": "code",
   "execution_count": null,
   "metadata": {},
   "outputs": [],
   "source": []
  }
 ],
 "metadata": {
  "kernelspec": {
   "display_name": "scprint",
   "language": "python",
   "name": "python3"
  },
  "language_info": {
   "codemirror_mode": {
    "name": "ipython",
    "version": 3
   },
   "file_extension": ".py",
   "mimetype": "text/x-python",
   "name": "python",
   "nbconvert_exporter": "python",
   "pygments_lexer": "ipython3",
   "version": "3.10.0"
  }
 },
 "nbformat": 4,
 "nbformat_minor": 2
}
