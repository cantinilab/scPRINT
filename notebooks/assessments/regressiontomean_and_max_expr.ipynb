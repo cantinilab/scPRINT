{
    "cells": [
        {
            "cell_type": "markdown",
            "metadata": {},
            "source": [
                "## assessing expression and regression to the mean"
            ]
        },
        {
            "cell_type": "code",
            "execution_count": 1,
            "metadata": {},
            "outputs": [
                {
                    "name": "stderr",
                    "output_type": "stream",
                    "text": [
                        "Global seed set to 42\n"
                    ]
                },
                {
                    "name": "stdout",
                    "output_type": "stream",
                    "text": [
                        "💡 lamindb instance: jkobject/scprint\n"
                    ]
                }
            ],
            "source": [
                "from lightning.pytorch import Trainer, seed_everything\n",
                "from lightning.pytorch.callbacks import ModelCheckpoint, StochasticWeightAveraging, EarlyStopping, LearningRateMonitor, LearningRateFinder\n",
                "\n",
                "seed_everything(42, workers=True)\n",
                "\n",
                "from scprint import scPrint\n",
                "from scprint.trainer import TrainingMode\n",
                "from scdataloader import DataModule\n",
                "import pandas as pd\n",
                "\n",
                "import torch\n",
                "torch.set_float32_matmul_precision('medium')\n",
                "\n",
                "%load_ext autoreload\n",
                "%autoreload 2"
            ]
        },
        {
            "cell_type": "code",
            "execution_count": 2,
            "metadata": {},
            "outputs": [],
            "source": [
                "# TODO: drop tissue & dev stage until part or is taken in account\n",
                "\n",
                "hierarchical_labels = [\n",
                "    \"cell_type_ontology_term_id\", #1\n",
                "    # \"tissue_ontology_term_id\",\n",
                "    \"disease_ontology_term_id\", # 2\n",
                "#    \"development_stage_ontology_term_id\",\n",
                "    \"assay_ontology_term_id\", #3\n",
                "    'self_reported_ethnicity_ontology_term_id', #4\n",
                "]\n",
                "labels_to_pred = hierarchical_labels+[\n",
                "    'sex_ontology_term_id', #5\n",
                "    \"organism_ontology_term_id\", #6\n",
                "]\n",
                "all_labels = labels_to_pred+[\n",
                "    #'dataset_id',\n",
                "    'cell_culture',\n",
                "    \"heat_diff\",\n",
                "    \"total_counts\",\n",
                "    \"nnz\",\n",
                "    \"dpt_group\",\n",
                "]\n",
                "\n",
                "gene_emb = '../data/temp/embeddings.parquet'\n",
                "d_model=128"
            ]
        },
        {
            "cell_type": "code",
            "execution_count": null,
            "metadata": {},
            "outputs": [],
            "source": [
                "# we might want not to order the genes by expression (or do it?)\n",
                "# we might want to not introduce zeros and "
            ]
        },
        {
            "cell_type": "code",
            "execution_count": null,
            "metadata": {},
            "outputs": [
                {
                    "name": "stdout",
                    "output_type": "stream",
                    "text": [
                        "won't do any check but we recommend to have your dataset coming from local storage\n",
                        "\n",
                        "82.22222222222223% are aligned\n",
                        "total dataset size is 104.788359405 Gb\n",
                        "---\n",
                        "dataset contains:\n",
                        "     5527449 cells\n",
                        "     70116 genes\n",
                        "     11 labels\n",
                        "     1 organisms\n",
                        "dataset contains 230 classes to predict\n",
                        "\n",
                        "downloading gene names from biomart\n",
                        "['ensembl_gene_id', 'hgnc_symbol', 'gene_biotype', 'entrezgene_id', 'start_position', 'chromosome_name']\n",
                        "reduced the size to 0.6722574020195106\n",
                        "these files will be considered test datasets:\n",
                        "    /home/ml4ig1/scprint/.lamindb/BljRloq1xjcxRNDpejzI.h5ad\n",
                        "perc test:  0.002277723412735242\n"
                    ]
                }
            ],
            "source": [
                "datamodule = DataModule(\n",
                "    collection_name=\"preprocessed dataset\",\n",
                "    #gene_embeddings=gene_emb,\n",
                "    all_labels=all_labels,\n",
                "    hierarchical_labels=hierarchical_labels,\n",
                "    organisms=[\"NCBITaxon:9606\"],\n",
                "    how=\"all\",\n",
                "    #max_len=1000,\n",
                "    #add_zero_genes=100,\n",
                "    label_to_weight=labels_to_pred,\n",
                "    label_to_pred=labels_to_pred,\n",
                "    batch_size=64,\n",
                "    num_workers=8,\n",
                "    train_oversampling=5,\n",
                "    validation_split=0.1,\n",
                "    weight_scaler = 2,\n",
                "    #do_gene_pos='../data/main/biomart.parquet',\n",
                "    test_split=0.1\n",
                "    )\n",
                "testfiles = datamodule.setup()"
            ]
        },
        {
            "cell_type": "markdown",
            "metadata": {},
            "source": [
                "## dataset types"
            ]
        },
        {
            "cell_type": "code",
            "execution_count": 5,
            "metadata": {},
            "outputs": [],
            "source": [
                "from collections import Counter\n",
                "from scdataloader.utils import translate"
            ]
        },
        {
            "cell_type": "code",
            "execution_count": null,
            "metadata": {},
            "outputs": [],
            "source": [
                "contains a lot of:\n",
                "- lung\n",
                "- brain\n",
                "- muscle\n",
                "- bone marrow\n",
                "- kidney\n",
                "- blood\n",
                "- colon\n",
                "\n",
                "contains some:\n",
                "- breast\n",
                "- intestine, \n",
                "- heart, \n",
                "- skin, \n",
                "- gonad\n",
                "- retina\n",
                "- thymus\n",
                "- gallbladder\n",
                "- placenta\n",
                "- uterus\n",
                "- thyroid\n",
                "- pancreas\n",
                "- stomach\n",
                "- esophagus"
            ]
        },
        {
            "cell_type": "code",
            "execution_count": 12,
            "metadata": {},
            "outputs": [
                {
                    "data": {
                        "text/plain": [
                            "{'transverse colon': 26009,\n",
                            " 'duodenum': 6529,\n",
                            " 'jejunum': 7725,\n",
                            " 'descending colon': 1337,\n",
                            " 'ascending colon': 3189,\n",
                            " 'ileum': 76365,\n",
                            " 'blood': 1406590,\n",
                            " 'cortex of kidney': 263865,\n",
                            " 'kidney': 377524,\n",
                            " 'islet of Langerhans': 96119,\n",
                            " 'cerebral nuclei': 134872,\n",
                            " 'breast': 7004,\n",
                            " 'renal medulla': 75192,\n",
                            " 'hypothalamus': 46879,\n",
                            " 'bone marrow': 194410,\n",
                            " 'lower lobe of left lung': 11059,\n",
                            " 'venous blood': 17625,\n",
                            " 'bronchopulmonary lymph node': 16527,\n",
                            " 'renal papilla': 20338,\n",
                            " 'myelencephalon': 62367,\n",
                            " 'spinal cord': 29163,\n",
                            " 'cerebellum': 59369,\n",
                            " 'lamina propria of small intestine': 687,\n",
                            " 'small intestine': 46745,\n",
                            " 'ileal epithelium': 597,\n",
                            " 'heart left ventricle': 210255,\n",
                            " 'zone of skin': 15193,\n",
                            " 'gonad': 268804,\n",
                            " 'mesonephros': 14803,\n",
                            " 'hippocampal formation': 73916,\n",
                            " 'lung': 227122,\n",
                            " 'thoracic lymph node': 62647,\n",
                            " 'mesenteric lymph node': 37155,\n",
                            " 'skeletal muscle tissue': 835,\n",
                            " 'liver': 39879,\n",
                            " 'spleen': 87347,\n",
                            " 'omentum': 13409,\n",
                            " 'caecum': 10911,\n",
                            " 'thymus': 4869,\n",
                            " 'sigmoid colon': 9508,\n",
                            " 'jejunal epithelium': 27087,\n",
                            " 'lamina propria': 23687,\n",
                            " 'cerebral cortex': 95163,\n",
                            " 'retina': 51620,\n",
                            " 'lung parenchyma': 57019,\n",
                            " 'peripheral lymph node': 5625,\n",
                            " 'entorhinal cortex': 41630,\n",
                            " 'alveolus of lung': 35698,\n",
                            " 'ovary': 45932,\n",
                            " 'adipose tissue': 1372,\n",
                            " 'adrenal gland': 43475,\n",
                            " 'artery': 9652,\n",
                            " 'bladder organ': 9046,\n",
                            " 'uterine cervix': 8096,\n",
                            " 'esophagus': 11296,\n",
                            " 'fallopian tube': 6545,\n",
                            " 'heart': 10756,\n",
                            " 'muscle organ': 25993,\n",
                            " 'pancreas': 26594,\n",
                            " 'pleura': 19695,\n",
                            " 'prostate gland': 2445,\n",
                            " 'stomach': 21025,\n",
                            " 'temporal lobe': 9544,\n",
                            " 'thyroid gland': 12570,\n",
                            " 'trachea': 9949,\n",
                            " 'ureter': 2365,\n",
                            " 'uterus': 7691,\n",
                            " 'chorionic villus': 9898,\n",
                            " 'brain': 26300,\n",
                            " 'vault of skull': 5129,\n",
                            " 'intestine': 23349,\n",
                            " 'testis': 13211,\n",
                            " 'rib': 5960,\n",
                            " 'skin of body': 6886,\n",
                            " 'bronchus smooth muscle': 1660,\n",
                            " 'placenta': 9595,\n",
                            " 'gallbladder': 9769,\n",
                            " 'umbilical cord blood': 23360,\n",
                            " 'eye': 1675,\n",
                            " 'rectum': 4904,\n",
                            " 'vermiform appendix': 3744,\n",
                            " 'coronal suture': 15127,\n",
                            " 'meningeal dura mater': 22652,\n",
                            " 'brain meninx': 2344,\n",
                            " 'subdural space': 82,\n",
                            " 'dura mater': 42426,\n",
                            " 'fovea centralis': 2430,\n",
                            " 'peripheral region of retina': 438,\n",
                            " 'respiratory airway': 4605,\n",
                            " 'primary motor cortex': 406187,\n",
                            " 'thalamic complex': 84386,\n",
                            " 'parietal lobe': 11476,\n",
                            " 'primary visual cortex': 21142,\n",
                            " 'medial ganglionic eminence': 25627,\n",
                            " 'caudal ganglionic eminence': 43487,\n",
                            " 'orbitofrontal cortex': 5874,\n",
                            " 'anterior cingulate cortex': 7417}"
                        ]
                    },
                    "execution_count": 12,
                    "metadata": {},
                    "output_type": "execute_result"
                }
            ],
            "source": [
                "translate(Counter(datamodule.dataset.mapped_dataset.get_merged_labels(\"tissue_ontology_term_id\")), \"tissue\")"
            ]
        },
        {
            "cell_type": "code",
            "execution_count": null,
            "metadata": {},
            "outputs": [],
            "source": [
                "10x 3' v3: 2.4M\n",
                "10x 5' v1: 2M\n",
                "microwell-seq 0.6M\n",
                "Slide-seqV2 0.3M"
            ]
        },
        {
            "cell_type": "code",
            "execution_count": 13,
            "metadata": {},
            "outputs": [
                {
                    "data": {
                        "text/plain": [
                            "{\"10x 3' v3\": 1824961,\n",
                            " \"10x 5' transcription profiling\": 600928,\n",
                            " 'Slide-seqV2': 324205,\n",
                            " \"10x 5' v1\": 1159435,\n",
                            " \"10x 3' v2\": 628324,\n",
                            " 'Visium Spatial Gene Expression': 36489,\n",
                            " \"10x 5' v2\": 168520,\n",
                            " '10x multiome': 51620,\n",
                            " 'microwell-seq': 583546,\n",
                            " 'Smart-seq': 12459,\n",
                            " 'Drop-seq': 118647,\n",
                            " '10x scATAC-seq': 18315}"
                        ]
                    },
                    "execution_count": 13,
                    "metadata": {},
                    "output_type": "execute_result"
                }
            ],
            "source": [
                "translate(Counter(datamodule.dataset.mapped_dataset.get_merged_labels(\"assay_ontology_term_id\")), \"assay\")"
            ]
        },
        {
            "cell_type": "markdown",
            "metadata": {},
            "source": [
                "## avg expression and avg nnz"
            ]
        },
        {
            "cell_type": "code",
            "execution_count": 6,
            "metadata": {},
            "outputs": [],
            "source": [
                "import numpy as np\n",
                "import tqdm"
            ]
        },
        {
            "cell_type": "code",
            "execution_count": null,
            "metadata": {},
            "outputs": [
                {
                    "name": "stderr",
                    "output_type": "stream",
                    "text": [
                        "1001it [01:28, 11.32it/s]\n"
                    ]
                }
            ],
            "source": [
                "avg_expr = np.zeros(70116)\n",
                "is_expr = np.zeros(70116)\n",
                "num = 0\n",
                "nnz = []\n",
                "for n, i in tqdm.tqdm(enumerate(datamodule.train_dataloader())):\n",
                "    nnz.extend((i['x']>0).sum(1).tolist())\n",
                "    avg_expr += np.array(i['x'].sum(0))\n",
                "    is_expr += np.array((i['x']>0).sum(0))\n",
                "    num += i['x'].shape[0]\n",
                "    #print(num)\n",
                "    if n>2000:\n",
                "        break"
            ]
        },
        {
            "cell_type": "code",
            "execution_count": null,
            "metadata": {},
            "outputs": [
                {
                    "data": {
                        "image/png": "[encoded data removed]",
                        "text/plain": [
                            "<Figure size 640x480 with 1 Axes>"
                        ]
                    },
                    "metadata": {},
                    "output_type": "display_data"
                }
            ],
            "source": [
                "# with weighted random sampling\n",
                "import matplotlib.pyplot as plt\n",
                "\n",
                "# Convert nnz list to numpy array\n",
                "nnz_array = np.array(nnz)\n",
                "\n",
                "# Plot histogram with density=True to show additive frequency\n",
                "counts, bin_edges = np.histogram(nnz_array, bins='auto', density=True)\n",
                "cumulative_counts = np.cumsum(counts)\n",
                "plt.plot(bin_edges[1:], cumulative_counts / cumulative_counts[-1])\n",
                "plt.title(\"Distribution of nnz\")\n",
                "plt.xlabel(\"nnz\")\n",
                "plt.ylabel(\"Additive Frequency\")\n",
                "plt.show()"
            ]
        },
        {
            "cell_type": "code",
            "execution_count": 16,
            "metadata": {},
            "outputs": [
                {
                    "data": {
                        "image/png": "[encoded data removed]",
                        "text/plain": [
                            "<Figure size 640x480 with 1 Axes>"
                        ]
                    },
                    "metadata": {},
                    "output_type": "display_data"
                }
            ],
            "source": [
                "import matplotlib.pyplot as plt\n",
                "\n",
                "# Convert nnz list to numpy array\n",
                "nnz_array = np.array(nnz)\n",
                "\n",
                "# Plot histogram with density=True to show additive frequency\n",
                "counts, bin_edges = np.histogram(nnz_array, bins='auto', density=True)\n",
                "cumulative_counts = np.cumsum(counts)\n",
                "plt.plot(bin_edges[1:], cumulative_counts / cumulative_counts[-1])\n",
                "plt.title(\"Distribution of nnz\")\n",
                "plt.xlabel(\"nnz\")\n",
                "plt.ylabel(\"Additive Frequency\")\n",
                "plt.show()"
            ]
        },
        {
            "cell_type": "code",
            "execution_count": null,
            "metadata": {},
            "outputs": [
                {
                    "data": {
                        "text/plain": [
                            "7316"
                        ]
                    },
                    "metadata": {},
                    "output_type": "display_data"
                }
            ],
            "source": [
                "(is_expr>500).sum()"
            ]
        },
        {
            "cell_type": "code",
            "execution_count": 15,
            "metadata": {},
            "outputs": [
                {
                    "data": {
                        "text/plain": [
                            "17581"
                        ]
                    },
                    "execution_count": 15,
                    "metadata": {},
                    "output_type": "execute_result"
                }
            ],
            "source": [
                "(is_expr>500).sum()"
            ]
        },
        {
            "cell_type": "code",
            "execution_count": 16,
            "metadata": {},
            "outputs": [
                {
                    "name": "stderr",
                    "output_type": "stream",
                    "text": [
                        "/tmp/ipykernel_374669/680589537.py:1: RuntimeWarning: invalid value encountered in divide\n",
                        "  val = np.nan_to_num(avg_expr/is_expr)\n"
                    ]
                }
            ],
            "source": [
                "val = np.nan_to_num(avg_expr/is_expr)\n",
                "val[is_expr<=5] = 0\n",
                "datamodule.dataset.genedf['avg_expr'] = avg_expr / num\n",
                "datamodule.dataset.genedf['avg_expr_wexpr'] = val\n"
            ]
        },
        {
            "cell_type": "markdown",
            "metadata": {},
            "source": [
                "44923 genes expressed at least once, \n",
                "\n",
                "but 29k at least 0.1% of the time, \n",
                "\n",
                "and 19k at least 1% of the time\n",
                "\n",
                "avg of 2000 genes expressed.\n",
                "\n",
                "2500 seems best, to reach 80% coverage over cells (will be lower after resampling)"
            ]
        },
        {
            "cell_type": "code",
            "execution_count": null,
            "metadata": {},
            "outputs": [
                {
                    "data": {
                        "text/plain": [
                            "(44996, 7)"
                        ]
                    },
                    "metadata": {},
                    "output_type": "display_data"
                }
            ],
            "source": [
                "datamodule.dataset.genedf[datamodule.dataset.genedf['avg_expr']>0].shape"
            ]
        },
        {
            "cell_type": "code",
            "execution_count": 19,
            "metadata": {},
            "outputs": [],
            "source": [
                "datamodule.dataset.genedf.to_parquet('../../data/avg_expr.parquet')"
            ]
        },
        {
            "cell_type": "code",
            "execution_count": 17,
            "metadata": {},
            "outputs": [
                {
                    "data": {
                        "text/html": [
                            "<div>\n",
                            "<style scoped>\n",
                            "    .dataframe tbody tr th:only-of-type {\n",
                            "        vertical-align: middle;\n",
                            "    }\n",
                            "\n",
                            "    .dataframe tbody tr th {\n",
                            "        vertical-align: top;\n",
                            "    }\n",
                            "\n",
                            "    .dataframe thead th {\n",
                            "        text-align: right;\n",
                            "    }\n",
                            "</style>\n",
                            "<table border=\"1\" class=\"dataframe\">\n",
                            "  <thead>\n",
                            "    <tr style=\"text-align: right;\">\n",
                            "      <th></th>\n",
                            "      <th>hgnc_symbol</th>\n",
                            "      <th>gene_biotype</th>\n",
                            "      <th>entrezgene_id</th>\n",
                            "      <th>start_position</th>\n",
                            "      <th>chromosome_name</th>\n",
                            "      <th>pos</th>\n",
                            "      <th>avg_expr</th>\n",
                            "      <th>avg_expr_wexpr</th>\n",
                            "    </tr>\n",
                            "    <tr>\n",
                            "      <th>ensembl_gene_id</th>\n",
                            "      <th></th>\n",
                            "      <th></th>\n",
                            "      <th></th>\n",
                            "      <th></th>\n",
                            "      <th></th>\n",
                            "      <th></th>\n",
                            "      <th></th>\n",
                            "      <th></th>\n",
                            "    </tr>\n",
                            "  </thead>\n",
                            "  <tbody>\n",
                            "    <tr>\n",
                            "      <th>ENSG00000000003</th>\n",
                            "      <td>TSPAN6</td>\n",
                            "      <td>protein_coding</td>\n",
                            "      <td>7105.0</td>\n",
                            "      <td>100627108</td>\n",
                            "      <td>X</td>\n",
                            "      <td>45996</td>\n",
                            "      <td>0.130419</td>\n",
                            "      <td>1.737447</td>\n",
                            "    </tr>\n",
                            "    <tr>\n",
                            "      <th>ENSG00000000005</th>\n",
                            "      <td>TNMD</td>\n",
                            "      <td>protein_coding</td>\n",
                            "      <td>64102.0</td>\n",
                            "      <td>100584936</td>\n",
                            "      <td>X</td>\n",
                            "      <td>45995</td>\n",
                            "      <td>0.032622</td>\n",
                            "      <td>1.332873</td>\n",
                            "    </tr>\n",
                            "    <tr>\n",
                            "      <th>ENSG00000000419</th>\n",
                            "      <td>DPM1</td>\n",
                            "      <td>protein_coding</td>\n",
                            "      <td>8813.0</td>\n",
                            "      <td>50934867</td>\n",
                            "      <td>20</td>\n",
                            "      <td>24049</td>\n",
                            "      <td>0.304160</td>\n",
                            "      <td>1.641880</td>\n",
                            "    </tr>\n",
                            "    <tr>\n",
                            "      <th>ENSG00000000457</th>\n",
                            "      <td>SCYL3</td>\n",
                            "      <td>protein_coding</td>\n",
                            "      <td>57147.0</td>\n",
                            "      <td>169849631</td>\n",
                            "      <td>1</td>\n",
                            "      <td>2679</td>\n",
                            "      <td>0.073813</td>\n",
                            "      <td>1.180270</td>\n",
                            "    </tr>\n",
                            "    <tr>\n",
                            "      <th>ENSG00000000460</th>\n",
                            "      <td>C1orf112</td>\n",
                            "      <td>protein_coding</td>\n",
                            "      <td>55732.0</td>\n",
                            "      <td>169662007</td>\n",
                            "      <td>1</td>\n",
                            "      <td>2674</td>\n",
                            "      <td>0.041462</td>\n",
                            "      <td>1.184452</td>\n",
                            "    </tr>\n",
                            "    <tr>\n",
                            "      <th>...</th>\n",
                            "      <td>...</td>\n",
                            "      <td>...</td>\n",
                            "      <td>...</td>\n",
                            "      <td>...</td>\n",
                            "      <td>...</td>\n",
                            "      <td>...</td>\n",
                            "      <td>...</td>\n",
                            "      <td>...</td>\n",
                            "    </tr>\n",
                            "    <tr>\n",
                            "      <th>ENSG00000292369</th>\n",
                            "      <td>ENSG00000292369</td>\n",
                            "      <td>lncRNA</td>\n",
                            "      <td>NaN</td>\n",
                            "      <td>57190738</td>\n",
                            "      <td>Y</td>\n",
                            "      <td>47135</td>\n",
                            "      <td>0.000000</td>\n",
                            "      <td>0.000000</td>\n",
                            "    </tr>\n",
                            "    <tr>\n",
                            "      <th>ENSG00000292370</th>\n",
                            "      <td>WASIR1</td>\n",
                            "      <td>lncRNA</td>\n",
                            "      <td>NaN</td>\n",
                            "      <td>57201143</td>\n",
                            "      <td>Y</td>\n",
                            "      <td>47136</td>\n",
                            "      <td>0.000000</td>\n",
                            "      <td>0.000000</td>\n",
                            "    </tr>\n",
                            "    <tr>\n",
                            "      <th>ENSG00000292371</th>\n",
                            "      <td>DDX11L16</td>\n",
                            "      <td>unprocessed_pseudogene</td>\n",
                            "      <td>NaN</td>\n",
                            "      <td>57212184</td>\n",
                            "      <td>Y</td>\n",
                            "      <td>47136</td>\n",
                            "      <td>0.000000</td>\n",
                            "      <td>0.000000</td>\n",
                            "    </tr>\n",
                            "    <tr>\n",
                            "      <th>ENSG00000292372</th>\n",
                            "      <td>WASH6P</td>\n",
                            "      <td>protein_coding</td>\n",
                            "      <td>NaN</td>\n",
                            "      <td>57207346</td>\n",
                            "      <td>Y</td>\n",
                            "      <td>47136</td>\n",
                            "      <td>0.000000</td>\n",
                            "      <td>0.000000</td>\n",
                            "    </tr>\n",
                            "    <tr>\n",
                            "      <th>ENSG00000292373</th>\n",
                            "      <td>IL9R</td>\n",
                            "      <td>protein_coding</td>\n",
                            "      <td>3581.0</td>\n",
                            "      <td>57184216</td>\n",
                            "      <td>Y</td>\n",
                            "      <td>47135</td>\n",
                            "      <td>0.000000</td>\n",
                            "      <td>0.000000</td>\n",
                            "    </tr>\n",
                            "  </tbody>\n",
                            "</table>\n",
                            "<p>70116 rows × 8 columns</p>\n",
                            "</div>"
                        ],
                        "text/plain": [
                            "                     hgnc_symbol            gene_biotype  entrezgene_id  \\\n",
                            "ensembl_gene_id                                                           \n",
                            "ENSG00000000003           TSPAN6          protein_coding         7105.0   \n",
                            "ENSG00000000005             TNMD          protein_coding        64102.0   \n",
                            "ENSG00000000419             DPM1          protein_coding         8813.0   \n",
                            "ENSG00000000457            SCYL3          protein_coding        57147.0   \n",
                            "ENSG00000000460         C1orf112          protein_coding        55732.0   \n",
                            "...                          ...                     ...            ...   \n",
                            "ENSG00000292369  ENSG00000292369                  lncRNA            NaN   \n",
                            "ENSG00000292370           WASIR1                  lncRNA            NaN   \n",
                            "ENSG00000292371         DDX11L16  unprocessed_pseudogene            NaN   \n",
                            "ENSG00000292372           WASH6P          protein_coding            NaN   \n",
                            "ENSG00000292373             IL9R          protein_coding         3581.0   \n",
                            "\n",
                            "                 start_position chromosome_name    pos  avg_expr  \\\n",
                            "ensembl_gene_id                                                    \n",
                            "ENSG00000000003       100627108               X  45996  0.130419   \n",
                            "ENSG00000000005       100584936               X  45995  0.032622   \n",
                            "ENSG00000000419        50934867              20  24049  0.304160   \n",
                            "ENSG00000000457       169849631               1   2679  0.073813   \n",
                            "ENSG00000000460       169662007               1   2674  0.041462   \n",
                            "...                         ...             ...    ...       ...   \n",
                            "ENSG00000292369        57190738               Y  47135  0.000000   \n",
                            "ENSG00000292370        57201143               Y  47136  0.000000   \n",
                            "ENSG00000292371        57212184               Y  47136  0.000000   \n",
                            "ENSG00000292372        57207346               Y  47136  0.000000   \n",
                            "ENSG00000292373        57184216               Y  47135  0.000000   \n",
                            "\n",
                            "                 avg_expr_wexpr  \n",
                            "ensembl_gene_id                  \n",
                            "ENSG00000000003        1.737447  \n",
                            "ENSG00000000005        1.332873  \n",
                            "ENSG00000000419        1.641880  \n",
                            "ENSG00000000457        1.180270  \n",
                            "ENSG00000000460        1.184452  \n",
                            "...                         ...  \n",
                            "ENSG00000292369        0.000000  \n",
                            "ENSG00000292370        0.000000  \n",
                            "ENSG00000292371        0.000000  \n",
                            "ENSG00000292372        0.000000  \n",
                            "ENSG00000292373        0.000000  \n",
                            "\n",
                            "[70116 rows x 8 columns]"
                        ]
                    },
                    "execution_count": 17,
                    "metadata": {},
                    "output_type": "execute_result"
                }
            ],
            "source": [
                "datamodule.dataset.genedf"
            ]
        }
    ],
    "metadata": {
        "kernelspec": {
            "display_name": "scprint",
            "language": "python",
            "name": "python3"
        },
        "language_info": {
            "codemirror_mode": {
                "name": "ipython",
                "version": 3
            },
            "file_extension": ".py",
            "mimetype": "text/x-python",
            "name": "python",
            "nbconvert_exporter": "python",
            "pygments_lexer": "ipython3",
            "version": "3.10.0"
        }
    },
    "nbformat": 4,
    "nbformat_minor": 2
}