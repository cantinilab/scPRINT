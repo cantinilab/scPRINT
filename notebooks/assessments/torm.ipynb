{
 "cells": [
  {
   "cell_type": "code",
   "execution_count": 1,
   "metadata": {},
   "outputs": [
    {
     "name": "stdout",
     "output_type": "stream",
     "text": [
      "💡 lamindb instance: jkobject/scprint\n"
     ]
    }
   ],
   "source": [
    "from scprint import data_utils\n",
    "\n",
    "import lamindb as ln\n",
    "import numpy as np\n",
    "from uuid import uuid4\n",
    "\n",
    "%load_ext autoreload\n",
    "%autoreload 2"
   ]
  },
  {
   "cell_type": "code",
   "execution_count": 2,
   "metadata": {},
   "outputs": [],
   "source": [
    "import scanpy as sc"
   ]
  },
  {
   "cell_type": "code",
   "execution_count": 159,
   "metadata": {},
   "outputs": [],
   "source": [
    "adata.X"
   ]
  },
  {
   "cell_type": "code",
   "execution_count": null,
   "metadata": {},
   "outputs": [],
   "source": [
    "adata.obs.index = [str(uuid4()) for _ in range(adata.shape[0])]"
   ]
  },
  {
   "cell_type": "code",
   "execution_count": 4,
   "metadata": {},
   "outputs": [
    {
     "data": {
      "text/plain": [
       "15"
      ]
     },
     "execution_count": 4,
     "metadata": {},
     "output_type": "execute_result"
    }
   ],
   "source": [
    "len(ln.File.filter(version='2', description='preprocessed by scprint'))"
   ]
  },
  {
   "cell_type": "code",
   "execution_count": 23,
   "metadata": {},
   "outputs": [
    {
     "data": {
      "text/plain": [
       "<QuerySet []>"
      ]
     },
     "execution_count": 23,
     "metadata": {},
     "output_type": "execute_result"
    }
   ],
   "source": [
    "ln.File.filter(version='2')"
   ]
  },
  {
   "cell_type": "code",
   "execution_count": 16,
   "metadata": {},
   "outputs": [
    {
     "data": {
      "text/plain": [
       "AAAAACATATGTTT    10000.0\n",
       "AAAAACCAACATTA    10000.0\n",
       "AAAAACCAGACGTC    10000.0\n",
       "AAAAACCGGTAGTA    10000.0\n",
       "AAAAACCTAAAGGC    10000.0\n",
       "                   ...   \n",
       "TTTTTTTTAGTTGC    10000.0\n",
       "TTTTTTTTGTTTAA    10000.0\n",
       "TTTTTTTTTATTTT    10000.0\n",
       "TTTTTTTTTGAAAA    10000.0\n",
       "TTTTTTTTTTATAG    10000.0\n",
       "Name: total_counts, Length: 11318, dtype: float64"
      ]
     },
     "execution_count": 16,
     "metadata": {},
     "output_type": "execute_result"
    }
   ],
   "source": [
    "adata.obs['total_counts']"
   ]
  },
  {
   "cell_type": "code",
   "execution_count": 13,
   "metadata": {},
   "outputs": [
    {
     "ename": "KeyError",
     "evalue": "'n_counts'",
     "output_type": "error",
     "traceback": [
      "\u001b[0;31m---------------------------------------------------------------------------\u001b[0m",
      "\u001b[0;31mKeyError\u001b[0m                                  Traceback (most recent call last)",
      "File \u001b[0;32m~/miniconda3/envs/scprint/lib/python3.10/site-packages/pandas/core/indexes/base.py:3802\u001b[0m, in \u001b[0;36mIndex.get_loc\u001b[0;34m(self, key, method, tolerance)\u001b[0m\n\u001b[1;32m   3801\u001b[0m \u001b[39mtry\u001b[39;00m:\n\u001b[0;32m-> 3802\u001b[0m     \u001b[39mreturn\u001b[39;00m \u001b[39mself\u001b[39;49m\u001b[39m.\u001b[39;49m_engine\u001b[39m.\u001b[39;49mget_loc(casted_key)\n\u001b[1;32m   3803\u001b[0m \u001b[39mexcept\u001b[39;00m \u001b[39mKeyError\u001b[39;00m \u001b[39mas\u001b[39;00m err:\n",
      "File \u001b[0;32m~/miniconda3/envs/scprint/lib/python3.10/site-packages/pandas/_libs/index.pyx:138\u001b[0m, in \u001b[0;36mpandas._libs.index.IndexEngine.get_loc\u001b[0;34m()\u001b[0m\n",
      "File \u001b[0;32m~/miniconda3/envs/scprint/lib/python3.10/site-packages/pandas/_libs/index.pyx:165\u001b[0m, in \u001b[0;36mpandas._libs.index.IndexEngine.get_loc\u001b[0;34m()\u001b[0m\n",
      "File \u001b[0;32mpandas/_libs/hashtable_class_helper.pxi:5745\u001b[0m, in \u001b[0;36mpandas._libs.hashtable.PyObjectHashTable.get_item\u001b[0;34m()\u001b[0m\n",
      "File \u001b[0;32mpandas/_libs/hashtable_class_helper.pxi:5753\u001b[0m, in \u001b[0;36mpandas._libs.hashtable.PyObjectHashTable.get_item\u001b[0;34m()\u001b[0m\n",
      "\u001b[0;31mKeyError\u001b[0m: 'n_counts'",
      "\nThe above exception was the direct cause of the following exception:\n",
      "\u001b[0;31mKeyError\u001b[0m                                  Traceback (most recent call last)",
      "\u001b[1;32m/home/ml4ig1/Documents code/scPRINT/notebooks/assessments/torm.ipynb Cell 6\u001b[0m line \u001b[0;36m8\n\u001b[1;32m      <a href='vscode-notebook-cell://ssh-remote%2Bperso/home/ml4ig1/Documents%20code/scPRINT/notebooks/assessments/torm.ipynb#X34sdnNjb2RlLXJlbW90ZQ%3D%3D?line=5'>6</a>\u001b[0m    adata\u001b[39m.\u001b[39mobs\u001b[39m.\u001b[39msort_index(inplace\u001b[39m=\u001b[39m\u001b[39mTrue\u001b[39;00m)\n\u001b[1;32m      <a href='vscode-notebook-cell://ssh-remote%2Bperso/home/ml4ig1/Documents%20code/scPRINT/notebooks/assessments/torm.ipynb#X34sdnNjb2RlLXJlbW90ZQ%3D%3D?line=6'>7</a>\u001b[0m \u001b[39m# reconvert the expression matrix (should be int)\u001b[39;00m\n\u001b[0;32m----> <a href='vscode-notebook-cell://ssh-remote%2Bperso/home/ml4ig1/Documents%20code/scPRINT/notebooks/assessments/torm.ipynb#X34sdnNjb2RlLXJlbW90ZQ%3D%3D?line=7'>8</a>\u001b[0m    norm \u001b[39m=\u001b[39m adata\u001b[39m.\u001b[39mX \u001b[39m/\u001b[39m np\u001b[39m.\u001b[39marray([(\u001b[39m10_000\u001b[39m\u001b[39m/\u001b[39madata\u001b[39m.\u001b[39;49mobs[\u001b[39m'\u001b[39;49m\u001b[39mn_counts\u001b[39;49m\u001b[39m'\u001b[39;49m]\u001b[39m.\u001b[39mvalues)])\u001b[39m.\u001b[39mT\n\u001b[1;32m      <a href='vscode-notebook-cell://ssh-remote%2Bperso/home/ml4ig1/Documents%20code/scPRINT/notebooks/assessments/torm.ipynb#X34sdnNjb2RlLXJlbW90ZQ%3D%3D?line=8'>9</a>\u001b[0m    \u001b[39mprint\u001b[39m(norm\u001b[39m.\u001b[39mmax())\n\u001b[1;32m     <a href='vscode-notebook-cell://ssh-remote%2Bperso/home/ml4ig1/Documents%20code/scPRINT/notebooks/assessments/torm.ipynb#X34sdnNjb2RlLXJlbW90ZQ%3D%3D?line=9'>10</a>\u001b[0m    adata\u001b[39m.\u001b[39mX \u001b[39m=\u001b[39m norm\u001b[39m.\u001b[39mastype(\u001b[39m'\u001b[39m\u001b[39mfloat32\u001b[39m\u001b[39m'\u001b[39m)\n",
      "File \u001b[0;32m~/miniconda3/envs/scprint/lib/python3.10/site-packages/pandas/core/frame.py:3807\u001b[0m, in \u001b[0;36mDataFrame.__getitem__\u001b[0;34m(self, key)\u001b[0m\n\u001b[1;32m   3805\u001b[0m \u001b[39mif\u001b[39;00m \u001b[39mself\u001b[39m\u001b[39m.\u001b[39mcolumns\u001b[39m.\u001b[39mnlevels \u001b[39m>\u001b[39m \u001b[39m1\u001b[39m:\n\u001b[1;32m   3806\u001b[0m     \u001b[39mreturn\u001b[39;00m \u001b[39mself\u001b[39m\u001b[39m.\u001b[39m_getitem_multilevel(key)\n\u001b[0;32m-> 3807\u001b[0m indexer \u001b[39m=\u001b[39m \u001b[39mself\u001b[39;49m\u001b[39m.\u001b[39;49mcolumns\u001b[39m.\u001b[39;49mget_loc(key)\n\u001b[1;32m   3808\u001b[0m \u001b[39mif\u001b[39;00m is_integer(indexer):\n\u001b[1;32m   3809\u001b[0m     indexer \u001b[39m=\u001b[39m [indexer]\n",
      "File \u001b[0;32m~/miniconda3/envs/scprint/lib/python3.10/site-packages/pandas/core/indexes/base.py:3804\u001b[0m, in \u001b[0;36mIndex.get_loc\u001b[0;34m(self, key, method, tolerance)\u001b[0m\n\u001b[1;32m   3802\u001b[0m     \u001b[39mreturn\u001b[39;00m \u001b[39mself\u001b[39m\u001b[39m.\u001b[39m_engine\u001b[39m.\u001b[39mget_loc(casted_key)\n\u001b[1;32m   3803\u001b[0m \u001b[39mexcept\u001b[39;00m \u001b[39mKeyError\u001b[39;00m \u001b[39mas\u001b[39;00m err:\n\u001b[0;32m-> 3804\u001b[0m     \u001b[39mraise\u001b[39;00m \u001b[39mKeyError\u001b[39;00m(key) \u001b[39mfrom\u001b[39;00m \u001b[39merr\u001b[39;00m\n\u001b[1;32m   3805\u001b[0m \u001b[39mexcept\u001b[39;00m \u001b[39mTypeError\u001b[39;00m:\n\u001b[1;32m   3806\u001b[0m     \u001b[39m# If we have a listlike key, _check_indexing_error will raise\u001b[39;00m\n\u001b[1;32m   3807\u001b[0m     \u001b[39m#  InvalidIndexError. Otherwise we fall through and re-raise\u001b[39;00m\n\u001b[1;32m   3808\u001b[0m     \u001b[39m#  the TypeError.\u001b[39;00m\n\u001b[1;32m   3809\u001b[0m     \u001b[39mself\u001b[39m\u001b[39m.\u001b[39m_check_indexing_error(key)\n",
      "\u001b[0;31mKeyError\u001b[0m: 'n_counts'"
     ]
    }
   ],
   "source": [
    "# for all files:\n",
    "for i in ln.File.filter(version='2', description='preprocessed by scprint'):\n",
    "   adata = i.load(stream=True)\n",
    "#sort the genes by name\n",
    "   adata = adata[:,adata.var.sort_index().index]\n",
    "# reconvert the expression matrix (should be int)\n",
    "   norm = adata.X / np.array([(10_000/adata.obs['n_counts'].values)]).T\n",
    "   print(norm.max())\n",
    "   adata.X = norm.astype('float32')\n",
    "   adata.obs.index = [str(uuid4()) for _ in range(adata.shape[0])]\n",
    "   par = i.initial_version\n",
    "   i.delete()\n",
    "   ln.File(adata, description='preprocessed by scprint', version='2', is_new_version_of=par).save()"
   ]
  },
  {
   "cell_type": "code",
   "execution_count": null,
   "metadata": {},
   "outputs": [
    {
     "data": {
      "text/plain": [
       "5028.885037550548"
      ]
     },
     "execution_count": 26,
     "metadata": {},
     "output_type": "execute_result"
    }
   ],
   "source": [
    "np.max(d.X.to_memory())"
   ]
  },
  {
   "cell_type": "code",
   "execution_count": 142,
   "metadata": {},
   "outputs": [
    {
     "data": {
      "text/plain": [
       "File(uid='CAQPyYbcP4UjgiIfniQK', key='cell-census/2023-07-25/h5ads/d5c67a4e-a8d9-456d-a273-fa01adb1b308.h5ad', suffix='.h5ad', accessor='AnnData', description='Retina|d5c67a4e-a8d9-456d-a273-fa01adb1b308', version='1', size=190765719, hash='d8ZhFETfIiYt51mH7_7CtQ-23', hash_type='md5-n', visibility=1, key_is_virtual=False, updated_at=2023-11-22 13:39:58 UTC, storage_id=1, created_by_id=1)"
      ]
     },
     "execution_count": 142,
     "metadata": {},
     "output_type": "execute_result"
    }
   ],
   "source": []
  },
  {
   "cell_type": "code",
   "execution_count": 139,
   "metadata": {},
   "outputs": [
    {
     "data": {
      "text/plain": [
       "AnnData object with n_obs × n_vars = 19694 × 37127\n",
       "    obs: 'n_genes', 'n_counts', 'percent_mito', 'donor_id', 'assay_ontology_term_id', 'cell_type_ontology_term_id', 'development_stage_ontology_term_id', 'disease_ontology_term_id', 'self_reported_ethnicity_ontology_term_id', 'is_primary_data', 'organism_ontology_term_id', 'sex_ontology_term_id', 'tissue_ontology_term_id', 'author_cell_type', 'suspension_type', 'cell_type', 'assay', 'disease', 'organism', 'sex', 'tissue', 'self_reported_ethnicity', 'development_stage'\n",
       "    var: 'chromosome', 'featureend', 'featurestart', 'n_cells', 'percent_cells', 'robust', 'highly_variable_features', 'mean', 'var', 'hvf_loess', 'hvf_rank', 'gene_symbols', 'feature_is_filtered', 'feature_name', 'feature_reference', 'feature_biotype'\n",
       "    uns: 'cell_type_ontology_term_id_colors', 'default_embedding', 'schema_version', 'title'\n",
       "    obsm: 'X_diffmap', 'X_diffmap_pca', 'X_fitsne', 'X_fle', 'X_pca', 'X_phi', 'X_umap'"
      ]
     },
     "execution_count": 139,
     "metadata": {},
     "output_type": "execute_result"
    }
   ],
   "source": [
    "di"
   ]
  },
  {
   "cell_type": "code",
   "execution_count": 138,
   "metadata": {},
   "outputs": [
    {
     "data": {
      "text/plain": [
       "(9119, 12571)"
      ]
     },
     "execution_count": 138,
     "metadata": {},
     "output_type": "execute_result"
    }
   ],
   "source": [
    "d2[:,d2.var.sort_index().index].X[0].todense().argmax(), d2.X[:,0].todense().argmax()"
   ]
  },
  {
   "cell_type": "code",
   "execution_count": 130,
   "metadata": {},
   "outputs": [],
   "source": [
    "d2 = ln.File.filter(version='2', description='preprocessed by scprint')[2].load(stream=True)"
   ]
  },
  {
   "cell_type": "code",
   "execution_count": 131,
   "metadata": {},
   "outputs": [
    {
     "data": {
      "text/html": [
       "<div>\n",
       "<style scoped>\n",
       "    .dataframe tbody tr th:only-of-type {\n",
       "        vertical-align: middle;\n",
       "    }\n",
       "\n",
       "    .dataframe tbody tr th {\n",
       "        vertical-align: top;\n",
       "    }\n",
       "\n",
       "    .dataframe thead th {\n",
       "        text-align: right;\n",
       "    }\n",
       "</style>\n",
       "<table border=\"1\" class=\"dataframe\">\n",
       "  <thead>\n",
       "    <tr style=\"text-align: right;\">\n",
       "      <th></th>\n",
       "      <th>feature_is_filtered</th>\n",
       "      <th>feature_name</th>\n",
       "      <th>feature_reference</th>\n",
       "      <th>feature_biotype</th>\n",
       "      <th>symbol</th>\n",
       "      <th>ncbi_gene_id</th>\n",
       "      <th>biotype</th>\n",
       "      <th>description</th>\n",
       "      <th>synonyms</th>\n",
       "      <th>mt</th>\n",
       "      <th>ribo</th>\n",
       "      <th>hb</th>\n",
       "      <th>n_cells_by_counts</th>\n",
       "      <th>mean_counts</th>\n",
       "      <th>log1p_mean_counts</th>\n",
       "      <th>pct_dropout_by_counts</th>\n",
       "      <th>total_counts</th>\n",
       "      <th>log1p_total_counts</th>\n",
       "    </tr>\n",
       "  </thead>\n",
       "  <tbody>\n",
       "    <tr>\n",
       "      <th>ENSMUSG00000026627</th>\n",
       "      <td>False</td>\n",
       "      <td>Pacc1</td>\n",
       "      <td>NCBITaxon:10090</td>\n",
       "      <td>gene</td>\n",
       "      <td>Pacc1</td>\n",
       "      <td>66950</td>\n",
       "      <td>protein_coding</td>\n",
       "      <td>proton activated chloride channel 1 [Source:MG...</td>\n",
       "      <td>2310028N02Rik|Tmem206</td>\n",
       "      <td>False</td>\n",
       "      <td>False</td>\n",
       "      <td>False</td>\n",
       "      <td>172</td>\n",
       "      <td>0.158057</td>\n",
       "      <td>0.146744</td>\n",
       "      <td>99.368205</td>\n",
       "      <td>4302.946831</td>\n",
       "      <td>8.367288</td>\n",
       "    </tr>\n",
       "    <tr>\n",
       "      <th>ENSMUSG00000085071</th>\n",
       "      <td>False</td>\n",
       "      <td>Gm14066</td>\n",
       "      <td>NCBITaxon:10090</td>\n",
       "      <td>gene</td>\n",
       "      <td>Gm14066</td>\n",
       "      <td>NaN</td>\n",
       "      <td>lncRNA</td>\n",
       "      <td>predicted gene 14066 [Source:MGI Symbol;Acc:MG...</td>\n",
       "      <td></td>\n",
       "      <td>False</td>\n",
       "      <td>False</td>\n",
       "      <td>False</td>\n",
       "      <td>35</td>\n",
       "      <td>0.041763</td>\n",
       "      <td>0.040914</td>\n",
       "      <td>99.871437</td>\n",
       "      <td>1136.954244</td>\n",
       "      <td>7.036987</td>\n",
       "    </tr>\n",
       "    <tr>\n",
       "      <th>ENSMUSG00000034111</th>\n",
       "      <td>False</td>\n",
       "      <td>Tmed8</td>\n",
       "      <td>NCBITaxon:10090</td>\n",
       "      <td>gene</td>\n",
       "      <td>Tmed8</td>\n",
       "      <td>382620</td>\n",
       "      <td>protein_coding</td>\n",
       "      <td>transmembrane p24 trafficking protein 8 [Sourc...</td>\n",
       "      <td>LOC382620|Mem1|6430595O10Rik</td>\n",
       "      <td>False</td>\n",
       "      <td>False</td>\n",
       "      <td>False</td>\n",
       "      <td>148</td>\n",
       "      <td>0.135777</td>\n",
       "      <td>0.127317</td>\n",
       "      <td>99.456362</td>\n",
       "      <td>3696.383847</td>\n",
       "      <td>8.215381</td>\n",
       "    </tr>\n",
       "    <tr>\n",
       "      <th>ENSMUSG00000035614</th>\n",
       "      <td>False</td>\n",
       "      <td>Togaram1</td>\n",
       "      <td>NCBITaxon:10090</td>\n",
       "      <td>gene</td>\n",
       "      <td>Togaram1</td>\n",
       "      <td>328108</td>\n",
       "      <td>protein_coding</td>\n",
       "      <td>TOG array regulator of axonemal microtubules 1...</td>\n",
       "      <td>A430041B07Rik|Fam179b</td>\n",
       "      <td>False</td>\n",
       "      <td>False</td>\n",
       "      <td>False</td>\n",
       "      <td>293</td>\n",
       "      <td>0.233211</td>\n",
       "      <td>0.209621</td>\n",
       "      <td>98.923744</td>\n",
       "      <td>6348.937373</td>\n",
       "      <td>8.756200</td>\n",
       "    </tr>\n",
       "    <tr>\n",
       "      <th>ENSMUSG00000090841</th>\n",
       "      <td>False</td>\n",
       "      <td>Myl6</td>\n",
       "      <td>NCBITaxon:10090</td>\n",
       "      <td>gene</td>\n",
       "      <td>Myl6</td>\n",
       "      <td>17904</td>\n",
       "      <td>protein_coding</td>\n",
       "      <td>myosin, light polypeptide 6, alkali, smooth mu...</td>\n",
       "      <td>Myln|MLC3nm</td>\n",
       "      <td>False</td>\n",
       "      <td>False</td>\n",
       "      <td>False</td>\n",
       "      <td>1921</td>\n",
       "      <td>1.971662</td>\n",
       "      <td>1.089121</td>\n",
       "      <td>92.943726</td>\n",
       "      <td>53676.533714</td>\n",
       "      <td>10.890750</td>\n",
       "    </tr>\n",
       "    <tr>\n",
       "      <th>...</th>\n",
       "      <td>...</td>\n",
       "      <td>...</td>\n",
       "      <td>...</td>\n",
       "      <td>...</td>\n",
       "      <td>...</td>\n",
       "      <td>...</td>\n",
       "      <td>...</td>\n",
       "      <td>...</td>\n",
       "      <td>...</td>\n",
       "      <td>...</td>\n",
       "      <td>...</td>\n",
       "      <td>...</td>\n",
       "      <td>...</td>\n",
       "      <td>...</td>\n",
       "      <td>...</td>\n",
       "      <td>...</td>\n",
       "      <td>...</td>\n",
       "      <td>...</td>\n",
       "    </tr>\n",
       "    <tr>\n",
       "      <th>ENSMUSG00000120820</th>\n",
       "      <td>&lt;NA&gt;</td>\n",
       "      <td>NaN</td>\n",
       "      <td>NaN</td>\n",
       "      <td>NaN</td>\n",
       "      <td>1700031C06Rik</td>\n",
       "      <td>NaN</td>\n",
       "      <td>lncRNA</td>\n",
       "      <td>RIKEN cDNA 1700031C06 gene [Source:MGI Symbol;...</td>\n",
       "      <td></td>\n",
       "      <td>False</td>\n",
       "      <td>False</td>\n",
       "      <td>False</td>\n",
       "      <td>0</td>\n",
       "      <td>0.000000</td>\n",
       "      <td>0.000000</td>\n",
       "      <td>100.000000</td>\n",
       "      <td>0.000000</td>\n",
       "      <td>0.000000</td>\n",
       "    </tr>\n",
       "    <tr>\n",
       "      <th>ENSMUSG00000104194</th>\n",
       "      <td>&lt;NA&gt;</td>\n",
       "      <td>NaN</td>\n",
       "      <td>NaN</td>\n",
       "      <td>NaN</td>\n",
       "      <td>Gm33354</td>\n",
       "      <td>NaN</td>\n",
       "      <td>TEC</td>\n",
       "      <td>predicted gene, 33354 [Source:MGI Symbol;Acc:M...</td>\n",
       "      <td></td>\n",
       "      <td>False</td>\n",
       "      <td>False</td>\n",
       "      <td>False</td>\n",
       "      <td>0</td>\n",
       "      <td>0.000000</td>\n",
       "      <td>0.000000</td>\n",
       "      <td>100.000000</td>\n",
       "      <td>0.000000</td>\n",
       "      <td>0.000000</td>\n",
       "    </tr>\n",
       "    <tr>\n",
       "      <th>ENSMUSG00000094119</th>\n",
       "      <td>&lt;NA&gt;</td>\n",
       "      <td>NaN</td>\n",
       "      <td>NaN</td>\n",
       "      <td>NaN</td>\n",
       "      <td>Or51aa2</td>\n",
       "      <td>545985</td>\n",
       "      <td>protein_coding</td>\n",
       "      <td>olfactory receptor family 51 subfamily AA memb...</td>\n",
       "      <td>MOR15-3|EG545985|Olfr612|GA_x6K02T2PBJ9-625168...</td>\n",
       "      <td>False</td>\n",
       "      <td>False</td>\n",
       "      <td>False</td>\n",
       "      <td>0</td>\n",
       "      <td>0.000000</td>\n",
       "      <td>0.000000</td>\n",
       "      <td>100.000000</td>\n",
       "      <td>0.000000</td>\n",
       "      <td>0.000000</td>\n",
       "    </tr>\n",
       "    <tr>\n",
       "      <th>ENSMUSG00000098759</th>\n",
       "      <td>&lt;NA&gt;</td>\n",
       "      <td>NaN</td>\n",
       "      <td>NaN</td>\n",
       "      <td>NaN</td>\n",
       "      <td>Mir7063</td>\n",
       "      <td>102466798</td>\n",
       "      <td>miRNA</td>\n",
       "      <td>microRNA 7063 [Source:MGI Symbol;Acc:MGI:5531036]</td>\n",
       "      <td>mmu-mir-7063</td>\n",
       "      <td>False</td>\n",
       "      <td>False</td>\n",
       "      <td>False</td>\n",
       "      <td>0</td>\n",
       "      <td>0.000000</td>\n",
       "      <td>0.000000</td>\n",
       "      <td>100.000000</td>\n",
       "      <td>0.000000</td>\n",
       "      <td>0.000000</td>\n",
       "    </tr>\n",
       "    <tr>\n",
       "      <th>ENSMUSG00000110959</th>\n",
       "      <td>&lt;NA&gt;</td>\n",
       "      <td>NaN</td>\n",
       "      <td>NaN</td>\n",
       "      <td>NaN</td>\n",
       "      <td>Gm47198</td>\n",
       "      <td>NaN</td>\n",
       "      <td>TEC</td>\n",
       "      <td>predicted gene, 47198 [Source:MGI Symbol;Acc:M...</td>\n",
       "      <td></td>\n",
       "      <td>False</td>\n",
       "      <td>False</td>\n",
       "      <td>False</td>\n",
       "      <td>0</td>\n",
       "      <td>0.000000</td>\n",
       "      <td>0.000000</td>\n",
       "      <td>100.000000</td>\n",
       "      <td>0.000000</td>\n",
       "      <td>0.000000</td>\n",
       "    </tr>\n",
       "  </tbody>\n",
       "</table>\n",
       "<p>56941 rows × 18 columns</p>\n",
       "</div>"
      ],
      "text/plain": [
       "                    feature_is_filtered feature_name feature_reference  \\\n",
       "ENSMUSG00000026627                False        Pacc1   NCBITaxon:10090   \n",
       "ENSMUSG00000085071                False      Gm14066   NCBITaxon:10090   \n",
       "ENSMUSG00000034111                False        Tmed8   NCBITaxon:10090   \n",
       "ENSMUSG00000035614                False     Togaram1   NCBITaxon:10090   \n",
       "ENSMUSG00000090841                False         Myl6   NCBITaxon:10090   \n",
       "...                                 ...          ...               ...   \n",
       "ENSMUSG00000120820                 <NA>          NaN               NaN   \n",
       "ENSMUSG00000104194                 <NA>          NaN               NaN   \n",
       "ENSMUSG00000094119                 <NA>          NaN               NaN   \n",
       "ENSMUSG00000098759                 <NA>          NaN               NaN   \n",
       "ENSMUSG00000110959                 <NA>          NaN               NaN   \n",
       "\n",
       "                   feature_biotype         symbol ncbi_gene_id  \\\n",
       "ENSMUSG00000026627            gene          Pacc1        66950   \n",
       "ENSMUSG00000085071            gene        Gm14066          NaN   \n",
       "ENSMUSG00000034111            gene          Tmed8       382620   \n",
       "ENSMUSG00000035614            gene       Togaram1       328108   \n",
       "ENSMUSG00000090841            gene           Myl6        17904   \n",
       "...                            ...            ...          ...   \n",
       "ENSMUSG00000120820             NaN  1700031C06Rik          NaN   \n",
       "ENSMUSG00000104194             NaN        Gm33354          NaN   \n",
       "ENSMUSG00000094119             NaN        Or51aa2       545985   \n",
       "ENSMUSG00000098759             NaN        Mir7063    102466798   \n",
       "ENSMUSG00000110959             NaN        Gm47198          NaN   \n",
       "\n",
       "                           biotype  \\\n",
       "ENSMUSG00000026627  protein_coding   \n",
       "ENSMUSG00000085071          lncRNA   \n",
       "ENSMUSG00000034111  protein_coding   \n",
       "ENSMUSG00000035614  protein_coding   \n",
       "ENSMUSG00000090841  protein_coding   \n",
       "...                            ...   \n",
       "ENSMUSG00000120820          lncRNA   \n",
       "ENSMUSG00000104194             TEC   \n",
       "ENSMUSG00000094119  protein_coding   \n",
       "ENSMUSG00000098759           miRNA   \n",
       "ENSMUSG00000110959             TEC   \n",
       "\n",
       "                                                          description  \\\n",
       "ENSMUSG00000026627  proton activated chloride channel 1 [Source:MG...   \n",
       "ENSMUSG00000085071  predicted gene 14066 [Source:MGI Symbol;Acc:MG...   \n",
       "ENSMUSG00000034111  transmembrane p24 trafficking protein 8 [Sourc...   \n",
       "ENSMUSG00000035614  TOG array regulator of axonemal microtubules 1...   \n",
       "ENSMUSG00000090841  myosin, light polypeptide 6, alkali, smooth mu...   \n",
       "...                                                               ...   \n",
       "ENSMUSG00000120820  RIKEN cDNA 1700031C06 gene [Source:MGI Symbol;...   \n",
       "ENSMUSG00000104194  predicted gene, 33354 [Source:MGI Symbol;Acc:M...   \n",
       "ENSMUSG00000094119  olfactory receptor family 51 subfamily AA memb...   \n",
       "ENSMUSG00000098759  microRNA 7063 [Source:MGI Symbol;Acc:MGI:5531036]   \n",
       "ENSMUSG00000110959  predicted gene, 47198 [Source:MGI Symbol;Acc:M...   \n",
       "\n",
       "                                                             synonyms     mt  \\\n",
       "ENSMUSG00000026627                              2310028N02Rik|Tmem206  False   \n",
       "ENSMUSG00000085071                                                     False   \n",
       "ENSMUSG00000034111                       LOC382620|Mem1|6430595O10Rik  False   \n",
       "ENSMUSG00000035614                              A430041B07Rik|Fam179b  False   \n",
       "ENSMUSG00000090841                                        Myln|MLC3nm  False   \n",
       "...                                                               ...    ...   \n",
       "ENSMUSG00000120820                                                     False   \n",
       "ENSMUSG00000104194                                                     False   \n",
       "ENSMUSG00000094119  MOR15-3|EG545985|Olfr612|GA_x6K02T2PBJ9-625168...  False   \n",
       "ENSMUSG00000098759                                       mmu-mir-7063  False   \n",
       "ENSMUSG00000110959                                                     False   \n",
       "\n",
       "                     ribo     hb  n_cells_by_counts  mean_counts  \\\n",
       "ENSMUSG00000026627  False  False                172     0.158057   \n",
       "ENSMUSG00000085071  False  False                 35     0.041763   \n",
       "ENSMUSG00000034111  False  False                148     0.135777   \n",
       "ENSMUSG00000035614  False  False                293     0.233211   \n",
       "ENSMUSG00000090841  False  False               1921     1.971662   \n",
       "...                   ...    ...                ...          ...   \n",
       "ENSMUSG00000120820  False  False                  0     0.000000   \n",
       "ENSMUSG00000104194  False  False                  0     0.000000   \n",
       "ENSMUSG00000094119  False  False                  0     0.000000   \n",
       "ENSMUSG00000098759  False  False                  0     0.000000   \n",
       "ENSMUSG00000110959  False  False                  0     0.000000   \n",
       "\n",
       "                    log1p_mean_counts  pct_dropout_by_counts  total_counts  \\\n",
       "ENSMUSG00000026627           0.146744              99.368205   4302.946831   \n",
       "ENSMUSG00000085071           0.040914              99.871437   1136.954244   \n",
       "ENSMUSG00000034111           0.127317              99.456362   3696.383847   \n",
       "ENSMUSG00000035614           0.209621              98.923744   6348.937373   \n",
       "ENSMUSG00000090841           1.089121              92.943726  53676.533714   \n",
       "...                               ...                    ...           ...   \n",
       "ENSMUSG00000120820           0.000000             100.000000      0.000000   \n",
       "ENSMUSG00000104194           0.000000             100.000000      0.000000   \n",
       "ENSMUSG00000094119           0.000000             100.000000      0.000000   \n",
       "ENSMUSG00000098759           0.000000             100.000000      0.000000   \n",
       "ENSMUSG00000110959           0.000000             100.000000      0.000000   \n",
       "\n",
       "                    log1p_total_counts  \n",
       "ENSMUSG00000026627            8.367288  \n",
       "ENSMUSG00000085071            7.036987  \n",
       "ENSMUSG00000034111            8.215381  \n",
       "ENSMUSG00000035614            8.756200  \n",
       "ENSMUSG00000090841           10.890750  \n",
       "...                                ...  \n",
       "ENSMUSG00000120820            0.000000  \n",
       "ENSMUSG00000104194            0.000000  \n",
       "ENSMUSG00000094119            0.000000  \n",
       "ENSMUSG00000098759            0.000000  \n",
       "ENSMUSG00000110959            0.000000  \n",
       "\n",
       "[56941 rows x 18 columns]"
      ]
     },
     "execution_count": 131,
     "metadata": {},
     "output_type": "execute_result"
    }
   ],
   "source": [
    "d2.var"
   ]
  },
  {
   "cell_type": "code",
   "execution_count": 134,
   "metadata": {},
   "outputs": [
    {
     "data": {
      "text/plain": [
       "Index(['ENSMUSG00000000001', 'ENSMUSG00000000003', 'ENSMUSG00000000028',\n",
       "       'ENSMUSG00000000031', 'ENSMUSG00000000037', 'ENSMUSG00000000049',\n",
       "       'ENSMUSG00000000056', 'ENSMUSG00000000058', 'ENSMUSG00000000078',\n",
       "       'ENSMUSG00000000085',\n",
       "       ...\n",
       "       'ENSMUSG00002076983', 'ENSMUSG00002076984', 'ENSMUSG00002076985',\n",
       "       'ENSMUSG00002076986', 'ENSMUSG00002076987', 'ENSMUSG00002076988',\n",
       "       'ENSMUSG00002076989', 'ENSMUSG00002076990', 'ENSMUSG00002076991',\n",
       "       'ENSMUSG00002076992'],\n",
       "      dtype='object', length=56941)"
      ]
     },
     "execution_count": 134,
     "metadata": {},
     "output_type": "execute_result"
    }
   ],
   "source": [
    "d2[:,d2.var.sort_index().index].var.index"
   ]
  }
 ],
 "metadata": {
  "kernelspec": {
   "display_name": "scprint",
   "language": "python",
   "name": "python3"
  },
  "language_info": {
   "codemirror_mode": {
    "name": "ipython",
    "version": 3
   },
   "file_extension": ".py",
   "mimetype": "text/x-python",
   "name": "python",
   "nbconvert_exporter": "python",
   "pygments_lexer": "ipython3",
   "version": "3.10.0"
  }
 },
 "nbformat": 4,
 "nbformat_minor": 2
}
