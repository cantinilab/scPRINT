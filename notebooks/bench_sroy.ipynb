{
 "cells": [
  {
   "cell_type": "markdown",
   "id": "db8a0647",
   "metadata": {
    "papermill": {
     "duration": 0.041474,
     "end_time": "2024-06-27T07:55:56.461526",
     "exception": false,
     "start_time": "2024-06-27T07:55:56.420052",
     "status": "completed"
    },
    "tags": []
   },
   "source": [
    "## benchmarking on sushmita ROY's dataset\n"
   ]
  },
  {
   "cell_type": "code",
   "execution_count": 1,
   "id": "3f59426c",
   "metadata": {
    "execution": {
     "iopub.execute_input": "2024-06-27T07:55:56.524532Z",
     "iopub.status.busy": "2024-06-27T07:55:56.523819Z",
     "iopub.status.idle": "2024-06-27T07:56:16.129994Z",
     "shell.execute_reply": "2024-06-27T07:56:16.128199Z"
    },
    "papermill": {
     "duration": 19.637931,
     "end_time": "2024-06-27T07:56:16.134279",
     "exception": false,
     "start_time": "2024-06-27T07:55:56.496348",
     "status": "completed"
    },
    "tags": []
   },
   "outputs": [
    {
     "name": "stdout",
     "output_type": "stream",
     "text": [
      "💡 connected lamindb: jkobject/scprint\n"
     ]
    },
    {
     "name": "stderr",
     "output_type": "stream",
     "text": [
      "/home/ml4ig1/miniconda3/envs/scprint/lib/python3.10/site-packages/umap/__init__.py:9: ImportWarning: Tensorflow not installed; ParametricUMAP will be unavailable\n",
      "  warn(\n"
     ]
    },
    {
     "name": "stderr",
     "output_type": "stream",
     "text": [
      "/home/ml4ig1/miniconda3/envs/scprint/lib/python3.10/site-packages/chex/_src/pytypes.py:53: DeprecationWarning: jax.core.Shape is deprecated. Use Shape = Sequence[int | Any].\n",
      "  Shape = jax.core.Shape\n"
     ]
    },
    {
     "name": "stderr",
     "output_type": "stream",
     "text": [
      "/home/ml4ig1/miniconda3/envs/scprint/lib/python3.10/site-packages/chex/_src/pytypes.py:54: DeprecationWarning: jax.random.KeyArray is deprecated. Use jax.Array for annotations, and jax.dtypes.issubdtype(arr.dtype, jax.dtypes.prng_key) for runtime detection of typed prng keys (i.e. keys created with jax.random.key).\n",
      "For more information, see https://jax.readthedocs.io/en/latest/jep/9263-typed-keys.html\n",
      "  PRNGKey = jax.random.KeyArray\n"
     ]
    },
    {
     "name": "stderr",
     "output_type": "stream",
     "text": [
      "/home/ml4ig1/miniconda3/envs/scprint/lib/python3.10/site-packages/scib_metrics/_types.py:9: DeprecationWarning: jax.random.KeyArray is deprecated. Use jax.Array for annotations, and jax.dtypes.issubdtype(arr.dtype, jax.dtypes.prng_key) for runtime detection of typed prng keys (i.e. keys created with jax.random.key).\n",
      "For more information, see https://jax.readthedocs.io/en/latest/jep/9263-typed-keys.html\n",
      "  IntOrKey = Union[int, jax.random.KeyArray]\n"
     ]
    },
    {
     "name": "stderr",
     "output_type": "stream",
     "text": [
      "/home/ml4ig1/miniconda3/envs/scprint/lib/python3.10/site-packages/scib_metrics/utils/_utils.py:40: DeprecationWarning: jax.random.KeyArray is deprecated. Use jax.Array for annotations, and jax.dtypes.issubdtype(arr.dtype, jax.dtypes.prng_key) for runtime detection of typed prng keys (i.e. keys created with jax.random.key).\n",
      "For more information, see https://jax.readthedocs.io/en/latest/jep/9263-typed-keys.html\n",
      "  def validate_seed(seed: IntOrKey) -> jax.random.KeyArray:\n"
     ]
    },
    {
     "name": "stderr",
     "output_type": "stream",
     "text": [
      "/home/ml4ig1/miniconda3/envs/scprint/lib/python3.10/site-packages/scib_metrics/utils/_kmeans.py:21: DeprecationWarning: jax.random.KeyArray is deprecated. Use jax.Array for annotations, and jax.dtypes.issubdtype(arr.dtype, jax.dtypes.prng_key) for runtime detection of typed prng keys (i.e. keys created with jax.random.key).\n",
      "For more information, see https://jax.readthedocs.io/en/latest/jep/9263-typed-keys.html\n",
      "  def _initialize_random(X: jnp.ndarray, n_clusters: int, key: jax.random.KeyArray) -> jnp.ndarray:\n"
     ]
    },
    {
     "name": "stderr",
     "output_type": "stream",
     "text": [
      "/home/ml4ig1/miniconda3/envs/scprint/lib/python3.10/site-packages/scib_metrics/utils/_kmeans.py:31: DeprecationWarning: jax.random.KeyArray is deprecated. Use jax.Array for annotations, and jax.dtypes.issubdtype(arr.dtype, jax.dtypes.prng_key) for runtime detection of typed prng keys (i.e. keys created with jax.random.key).\n",
      "For more information, see https://jax.readthedocs.io/en/latest/jep/9263-typed-keys.html\n",
      "  def _initialize_plus_plus(X: jnp.ndarray, n_clusters: int, key: jax.random.KeyArray) -> jnp.ndarray:\n"
     ]
    }
   ],
   "source": [
    "from scprint import scPrint\n",
    "from scdataloader import Preprocessor\n",
    "from scprint.tasks import GRNfer\n",
    "\n",
    "from bengrn import BenGRN, get_sroy_gt, unnormalize\n",
    "import scanpy as sc\n",
    "from bengrn.base import train_classifier\n",
    "\n",
    "from anndata.utils import make_index_unique\n",
    "from bengrn import compute_genie3\n",
    "from grnndata import utils as grnutils\n",
    "import numpy as np\n",
    "import joblib\n",
    "\n",
    "%load_ext autoreload\n",
    "%autoreload 2 \n",
    "\n",
    "import torch\n",
    "torch.set_float32_matmul_precision('medium')"
   ]
  },
  {
   "cell_type": "code",
   "execution_count": 2,
   "id": "ec7eb885",
   "metadata": {
    "execution": {
     "iopub.execute_input": "2024-06-27T07:56:16.198925Z",
     "iopub.status.busy": "2024-06-27T07:56:16.196854Z",
     "iopub.status.idle": "2024-06-27T07:56:22.797629Z",
     "shell.execute_reply": "2024-06-27T07:56:22.796680Z"
    },
    "papermill": {
     "duration": 6.632382,
     "end_time": "2024-06-27T07:56:22.801995",
     "exception": false,
     "start_time": "2024-06-27T07:56:16.169613",
     "status": "completed"
    },
    "tags": []
   },
   "outputs": [
    {
     "name": "stdout",
     "output_type": "stream",
     "text": [
      "RuntimeError caught: scPrint is not attached to a `Trainer`."
     ]
    },
    {
     "name": "stdout",
     "output_type": "stream",
     "text": [
      "\n"
     ]
    }
   ],
   "source": [
    "# '../../data/main/gene_embeddings.parquet')\n",
    "MAXGENES = 5000\n",
    "MAXCELLS = 1024\n",
    "model = scPrint.load_from_checkpoint(\n",
    "    '../data/temp/o2uniqsx/epoch=18-step=133000.ckpt', precpt_gene_emb=None, )#organisms=['NCBITaxon:9606','NCBITaxon:10090'])\n",
    "metrics = {}\n"
   ]
  },
  {
   "cell_type": "code",
   "execution_count": 3,
   "id": "e0c2d624",
   "metadata": {
    "execution": {
     "iopub.execute_input": "2024-06-27T07:56:22.863957Z",
     "iopub.status.busy": "2024-06-27T07:56:22.863254Z",
     "iopub.status.idle": "2024-06-27T07:56:22.968889Z",
     "shell.execute_reply": "2024-06-27T07:56:22.968143Z"
    },
    "papermill": {
     "duration": 0.137044,
     "end_time": "2024-06-27T07:56:22.973126",
     "exception": false,
     "start_time": "2024-06-27T07:56:22.836082",
     "status": "completed"
    },
    "tags": []
   },
   "outputs": [],
   "source": [
    "preprocessor = Preprocessor(is_symbol=True, force_preprocess=True, skip_validate=True,do_postp=False, min_valid_genes_id=MAXGENES, min_dataset_size=64)"
   ]
  },
  {
   "cell_type": "markdown",
   "id": "b5dd9bea",
   "metadata": {
    "papermill": {
     "duration": 0.023661,
     "end_time": "2024-06-27T07:56:23.030638",
     "exception": false,
     "start_time": "2024-06-27T07:56:23.006977",
     "status": "completed"
    },
    "tags": []
   },
   "source": [
    "# han / human"
   ]
  },
  {
   "cell_type": "code",
   "execution_count": 4,
   "id": "0f689830",
   "metadata": {
    "execution": {
     "iopub.execute_input": "2024-06-27T07:56:23.067904Z",
     "iopub.status.busy": "2024-06-27T07:56:23.067082Z",
     "iopub.status.idle": "2024-06-27T07:56:39.079375Z",
     "shell.execute_reply": "2024-06-27T07:56:39.077797Z"
    },
    "papermill": {
     "duration": 16.033914,
     "end_time": "2024-06-27T07:56:39.083592",
     "exception": false,
     "start_time": "2024-06-27T07:56:23.049678",
     "status": "completed"
    },
    "tags": []
   },
   "outputs": [
    {
     "name": "stdout",
     "output_type": "stream",
     "text": [
      "Dropping layers: "
     ]
    },
    {
     "name": "stdout",
     "output_type": "stream",
     "text": [
      " "
     ]
    },
    {
     "name": "stdout",
     "output_type": "stream",
     "text": [
      "KeysView(Layers with keys: )"
     ]
    },
    {
     "name": "stdout",
     "output_type": "stream",
     "text": [
      "\n"
     ]
    },
    {
     "name": "stdout",
     "output_type": "stream",
     "text": [
      "checking raw counts"
     ]
    },
    {
     "name": "stdout",
     "output_type": "stream",
     "text": [
      "\n"
     ]
    },
    {
     "name": "stdout",
     "output_type": "stream",
     "text": [
      "removed 0 non primary cells, 5520 renamining"
     ]
    },
    {
     "name": "stdout",
     "output_type": "stream",
     "text": [
      "\n"
     ]
    },
    {
     "name": "stdout",
     "output_type": "stream",
     "text": [
      "filtered out 0 cells, 5520 renamining"
     ]
    },
    {
     "name": "stdout",
     "output_type": "stream",
     "text": [
      "\n"
     ]
    },
    {
     "name": "stdout",
     "output_type": "stream",
     "text": [
      "Removed 0 genes."
     ]
    },
    {
     "name": "stdout",
     "output_type": "stream",
     "text": [
      "\n"
     ]
    },
    {
     "name": "stdout",
     "output_type": "stream",
     "text": [
      "startin QC"
     ]
    },
    {
     "name": "stdout",
     "output_type": "stream",
     "text": [
      "\n"
     ]
    },
    {
     "name": "stdout",
     "output_type": "stream",
     "text": [
      "Seeing 151 outliers (2.74% of total dataset):"
     ]
    },
    {
     "name": "stdout",
     "output_type": "stream",
     "text": [
      "\n"
     ]
    },
    {
     "name": "stdout",
     "output_type": "stream",
     "text": [
      "done"
     ]
    },
    {
     "name": "stdout",
     "output_type": "stream",
     "text": [
      "\n"
     ]
    },
    {
     "data": {
      "text/plain": [
       "(GRnnData object with n_obs × n_vars = 5520 × 7465\n",
       "     obs: 'organism_ontology_term_id'\n",
       "     varp: 'GRN'\n",
       "     with a grn of 8463 elements,\n",
       " 31)"
      ]
     },
     "execution_count": 4,
     "metadata": {},
     "output_type": "execute_result"
    }
   ],
   "source": [
    "preadata = get_sroy_gt(get=\"han\", species=\"human\", gt=\"full\")\n",
    "adata = preprocessor(preadata.copy())\n",
    "adata.var[\"isTF\"] = False\n",
    "adata.var.loc[adata.var.symbol.isin(grnutils.TF), \"isTF\"] = True\n",
    "preadata, (preadata.grn.sum(1) != 0).sum()"
   ]
  },
  {
   "cell_type": "code",
   "execution_count": 5,
   "id": "084e885e",
   "metadata": {
    "execution": {
     "iopub.execute_input": "2024-06-27T07:56:39.150829Z",
     "iopub.status.busy": "2024-06-27T07:56:39.150125Z",
     "iopub.status.idle": "2024-06-27T08:49:51.612696Z",
     "shell.execute_reply": "2024-06-27T08:49:51.588910Z"
    },
    "papermill": {
     "duration": 3192.567884,
     "end_time": "2024-06-27T08:49:51.688931",
     "exception": false,
     "start_time": "2024-06-27T07:56:39.121047",
     "status": "completed"
    },
    "tags": []
   },
   "outputs": [
    {
     "name": "stderr",
     "output_type": "stream",
     "text": [
      "Using 16bit Automatic Mixed Precision (AMP)\n"
     ]
    },
    {
     "name": "stderr",
     "output_type": "stream",
     "text": [
      "GPU available: True (cuda), used: True\n"
     ]
    },
    {
     "name": "stderr",
     "output_type": "stream",
     "text": [
      "TPU available: False, using: 0 TPU cores\n"
     ]
    },
    {
     "name": "stderr",
     "output_type": "stream",
     "text": [
      "IPU available: False, using: 0 IPUs\n"
     ]
    },
    {
     "name": "stderr",
     "output_type": "stream",
     "text": [
      "HPU available: False, using: 0 HPUs\n"
     ]
    },
    {
     "name": "stdout",
     "output_type": "stream",
     "text": [
      "number of expressed genes in this cell type: 7295"
     ]
    },
    {
     "name": "stdout",
     "output_type": "stream",
     "text": [
      "\n"
     ]
    },
    {
     "name": "stderr",
     "output_type": "stream",
     "text": [
      "/home/ml4ig1/Documents code/scPRINT/scprint/tasks/grn.py:165: FutureWarning: Series.__getitem__ treating keys as positions is deprecated. In a future version, integer keys will always be treated as labels (consistent with DataFrame behavior). To access a value by position, use `ser.iloc[pos]`\n",
      "  organisms=[subadata.obs['organism_ontology_term_id'][0]],\n"
     ]
    },
    {
     "name": "stderr",
     "output_type": "stream",
     "text": [
      "/home/ml4ig1/miniconda3/envs/scprint/lib/python3.10/site-packages/torch/utils/tensorboard/__init__.py:4: DeprecationWarning: distutils Version classes are deprecated. Use packaging.version instead.\n",
      "  if not hasattr(tensorboard, \"__version__\") or LooseVersion(\n"
     ]
    },
    {
     "name": "stderr",
     "output_type": "stream",
     "text": [
      "/home/ml4ig1/miniconda3/envs/scprint/lib/python3.10/site-packages/torch/utils/tensorboard/__init__.py:6: DeprecationWarning: distutils Version classes are deprecated. Use packaging.version instead.\n",
      "  ) < LooseVersion(\"1.15\"):\n"
     ]
    },
    {
     "name": "stderr",
     "output_type": "stream",
     "text": [
      "LOCAL_RANK: 0 - CUDA_VISIBLE_DEVICES: [0]\n"
     ]
    },
    {
     "data": {
      "application/vnd.jupyter.widget-view+json": {
       "model_id": "fb25d99078d64336bc849b8dfb5d062b",
       "version_major": 2,
       "version_minor": 0
      },
      "text/plain": [
       "Predicting: 0it [00:00, ?it/s]"
      ]
     },
     "metadata": {},
     "output_type": "display_data"
    }
   ],
   "source": [
    "grn_inferer = GRNfer(model, adata,\n",
    "                     how=\"most var within\",\n",
    "                     genes=adata.var[adata.var.symbol.isin(preadata.var[preadata.grn.sum(1) != 0].index.tolist())].index.tolist(),\n",
    "                     preprocess=\"softmax\",\n",
    "                     head_agg='none',\n",
    "                     filtration=\"none\",\n",
    "                     forward_mode=\"none\",\n",
    "                     organisms=['NCBITaxon:9606','NCBITaxon:10090'],\n",
    "                     apc=False,\n",
    "                     symmetrize=False,\n",
    "                     num_genes=MAXGENES,\n",
    "                     max_cells=MAXCELLS,\n",
    "                     doplot=False,\n",
    "                     batch_size=32,\n",
    "                     )\n",
    "grn = grn_inferer(layer=list(range(model.nlayers))[:])"
   ]
  },
  {
   "cell_type": "code",
   "execution_count": 6,
   "id": "d4e09f65",
   "metadata": {
    "execution": {
     "iopub.execute_input": "2024-06-27T08:49:51.895046Z",
     "iopub.status.busy": "2024-06-27T08:49:51.891043Z",
     "iopub.status.idle": "2024-06-27T08:49:53.970106Z",
     "shell.execute_reply": "2024-06-27T08:49:53.967838Z"
    },
    "papermill": {
     "duration": 2.160667,
     "end_time": "2024-06-27T08:49:53.975913",
     "exception": false,
     "start_time": "2024-06-27T08:49:51.815246",
     "status": "completed"
    },
    "tags": []
   },
   "outputs": [],
   "source": [
    "grn.varp[\"all\"] = grn.varp['GRN']\n",
    "grn.var['ensembl_id'] = grn.var.index\n",
    "grn.var['symbol'] = make_index_unique(grn.var['symbol'].astype(str))\n",
    "grn.var.index = grn.var['symbol']"
   ]
  },
  {
   "cell_type": "code",
   "execution_count": 7,
   "id": "18d55ecd",
   "metadata": {
    "execution": {
     "iopub.execute_input": "2024-06-27T08:49:54.048715Z",
     "iopub.status.busy": "2024-06-27T08:49:54.047998Z",
     "iopub.status.idle": "2024-06-27T08:50:06.532137Z",
     "shell.execute_reply": "2024-06-27T08:50:06.530900Z"
    },
    "papermill": {
     "duration": 12.525064,
     "end_time": "2024-06-27T08:50:06.541489",
     "exception": false,
     "start_time": "2024-06-27T08:49:54.016425",
     "status": "completed"
    },
    "tags": []
   },
   "outputs": [
    {
     "name": "stdout",
     "output_type": "stream",
     "text": [
      "precision: "
     ]
    },
    {
     "name": "stdout",
     "output_type": "stream",
     "text": [
      " "
     ]
    },
    {
     "name": "stdout",
     "output_type": "stream",
     "text": [
      "0.038948387096774194"
     ]
    },
    {
     "name": "stdout",
     "output_type": "stream",
     "text": [
      " "
     ]
    },
    {
     "name": "stdout",
     "output_type": "stream",
     "text": [
      "\n",
      "recall: "
     ]
    },
    {
     "name": "stdout",
     "output_type": "stream",
     "text": [
      " "
     ]
    },
    {
     "name": "stdout",
     "output_type": "stream",
     "text": [
      "1.0"
     ]
    },
    {
     "name": "stdout",
     "output_type": "stream",
     "text": [
      " "
     ]
    },
    {
     "name": "stdout",
     "output_type": "stream",
     "text": [
      "\n",
      "random precision:"
     ]
    },
    {
     "name": "stdout",
     "output_type": "stream",
     "text": [
      " "
     ]
    },
    {
     "name": "stdout",
     "output_type": "stream",
     "text": [
      "0.03895617833244068"
     ]
    },
    {
     "name": "stdout",
     "output_type": "stream",
     "text": [
      "\n"
     ]
    },
    {
     "name": "stderr",
     "output_type": "stream",
     "text": [
      "\r",
      "  0%|                                         | 0/128 [00:00<?, ?it/s]"
     ]
    },
    {
     "name": "stderr",
     "output_type": "stream",
     "text": [
      "\r",
      " 62%|███████████████████▍           | 80/128 [00:00<00:00, 797.24it/s]"
     ]
    },
    {
     "name": "stderr",
     "output_type": "stream",
     "text": [
      "/home/ml4ig1/Documents code/benGRN/bengrn/base.py:747: RuntimeWarning: invalid value encountered in long_scalars\n",
      "  precision = (grn[true] > threshold).sum() / (grn > threshold).sum()\n"
     ]
    },
    {
     "name": "stderr",
     "output_type": "stream",
     "text": [
      "\r",
      "100%|██████████████████████████████| 128/128 [00:00<00:00, 847.43it/s]"
     ]
    },
    {
     "name": "stderr",
     "output_type": "stream",
     "text": [
      "\n"
     ]
    },
    {
     "name": "stdout",
     "output_type": "stream",
     "text": [
      "Area Under Precision-Recall Curve (AUPRC): "
     ]
    },
    {
     "name": "stdout",
     "output_type": "stream",
     "text": [
      " "
     ]
    },
    {
     "name": "stdout",
     "output_type": "stream",
     "text": [
      "0.0695345532881509"
     ]
    },
    {
     "name": "stdout",
     "output_type": "stream",
     "text": [
      "\n"
     ]
    },
    {
     "name": "stdout",
     "output_type": "stream",
     "text": [
      "EPR:"
     ]
    },
    {
     "name": "stdout",
     "output_type": "stream",
     "text": [
      " "
     ]
    },
    {
     "name": "stdout",
     "output_type": "stream",
     "text": [
      "2.978185129033612"
     ]
    },
    {
     "name": "stdout",
     "output_type": "stream",
     "text": [
      "\n"
     ]
    },
    {
     "data": {
      "image/png": "[encoded data removed]",
      "text/plain": [
       "<Figure size 1000x800 with 1 Axes>"
      ]
     },
     "metadata": {},
     "output_type": "display_data"
    }
   ],
   "source": [
    "grn.varp['GRN'] = grn.varp['all'].mean(-1).T\n",
    "metrics['scprint_mean_han_full'] = BenGRN(grn, do_auc=True, doplot=True).compare_to(other=preadata)"
   ]
  },
  {
   "cell_type": "code",
   "execution_count": 8,
   "id": "04a3e8a6",
   "metadata": {
    "execution": {
     "iopub.execute_input": "2024-06-27T08:50:06.646241Z",
     "iopub.status.busy": "2024-06-27T08:50:06.645717Z",
     "iopub.status.idle": "2024-06-27T08:51:54.762059Z",
     "shell.execute_reply": "2024-06-27T08:51:54.761035Z"
    },
    "papermill": {
     "duration": 108.169306,
     "end_time": "2024-06-27T08:51:54.769854",
     "exception": false,
     "start_time": "2024-06-27T08:50:06.600548",
     "status": "completed"
    },
    "tags": []
   },
   "outputs": [
    {
     "name": "stdout",
     "output_type": "stream",
     "text": [
      "base enrichment"
     ]
    },
    {
     "name": "stdout",
     "output_type": "stream",
     "text": [
      "\n"
     ]
    },
    {
     "name": "stdout",
     "output_type": "stream",
     "text": [
      "Top central genes:"
     ]
    },
    {
     "name": "stdout",
     "output_type": "stream",
     "text": [
      " "
     ]
    },
    {
     "name": "stdout",
     "output_type": "stream",
     "text": [
      "[]"
     ]
    },
    {
     "name": "stdout",
     "output_type": "stream",
     "text": [
      "\n"
     ]
    },
    {
     "data": {
      "image/png": "[encoded data removed]",
      "text/plain": [
       "<Figure size 400x500 with 4 Axes>"
      ]
     },
     "metadata": {},
     "output_type": "display_data"
    },
    {
     "data": {
      "image/png": "[encoded data removed]",
      "text/plain": [
       "<Figure size 400x500 with 4 Axes>"
      ]
     },
     "metadata": {},
     "output_type": "display_data"
    },
    {
     "data": {
      "image/png": "[encoded data removed]",
      "text/plain": [
       "<Figure size 400x500 with 4 Axes>"
      ]
     },
     "metadata": {},
     "output_type": "display_data"
    },
    {
     "data": {
      "image/png": "[encoded data removed]",
      "text/plain": [
       "<Figure size 400x500 with 4 Axes>"
      ]
     },
     "metadata": {},
     "output_type": "display_data"
    },
    {
     "name": "stdout",
     "output_type": "stream",
     "text": [
      "_________________________________________"
     ]
    },
    {
     "name": "stdout",
     "output_type": "stream",
     "text": [
      "\n"
     ]
    },
    {
     "name": "stdout",
     "output_type": "stream",
     "text": [
      "TF specific enrichment"
     ]
    },
    {
     "name": "stdout",
     "output_type": "stream",
     "text": [
      "\n"
     ]
    },
    {
     "name": "stdout",
     "output_type": "stream",
     "text": [
      "found some significant results for "
     ]
    },
    {
     "name": "stdout",
     "output_type": "stream",
     "text": [
      " "
     ]
    },
    {
     "name": "stdout",
     "output_type": "stream",
     "text": [
      "25.454545454545453"
     ]
    },
    {
     "name": "stdout",
     "output_type": "stream",
     "text": [
      " "
     ]
    },
    {
     "name": "stdout",
     "output_type": "stream",
     "text": [
      "% TFs\n"
     ]
    },
    {
     "name": "stdout",
     "output_type": "stream",
     "text": [
      "\n"
     ]
    },
    {
     "name": "stdout",
     "output_type": "stream",
     "text": [
      "_________________________________________"
     ]
    },
    {
     "name": "stdout",
     "output_type": "stream",
     "text": [
      "\n"
     ]
    },
    {
     "name": "stdout",
     "output_type": "stream",
     "text": [
      "loading GT, "
     ]
    },
    {
     "name": "stdout",
     "output_type": "stream",
     "text": [
      " "
     ]
    },
    {
     "name": "stdout",
     "output_type": "stream",
     "text": [
      "omnipath"
     ]
    },
    {
     "name": "stdout",
     "output_type": "stream",
     "text": [
      "\n"
     ]
    },
    {
     "name": "stdout",
     "output_type": "stream",
     "text": [
      "intersection of 3767 genes"
     ]
    },
    {
     "name": "stdout",
     "output_type": "stream",
     "text": [
      "\n"
     ]
    },
    {
     "name": "stdout",
     "output_type": "stream",
     "text": [
      "intersection pct:"
     ]
    },
    {
     "name": "stdout",
     "output_type": "stream",
     "text": [
      " "
     ]
    },
    {
     "name": "stdout",
     "output_type": "stream",
     "text": [
      "0.7524970035956852"
     ]
    },
    {
     "name": "stdout",
     "output_type": "stream",
     "text": [
      "\n"
     ]
    },
    {
     "name": "stdout",
     "output_type": "stream",
     "text": [
      "precision: "
     ]
    },
    {
     "name": "stdout",
     "output_type": "stream",
     "text": [
      " "
     ]
    },
    {
     "name": "stdout",
     "output_type": "stream",
     "text": [
      "0.0016151890916386552"
     ]
    },
    {
     "name": "stdout",
     "output_type": "stream",
     "text": [
      " "
     ]
    },
    {
     "name": "stdout",
     "output_type": "stream",
     "text": [
      "\n",
      "recall: "
     ]
    },
    {
     "name": "stdout",
     "output_type": "stream",
     "text": [
      " "
     ]
    },
    {
     "name": "stdout",
     "output_type": "stream",
     "text": [
      "1.0"
     ]
    },
    {
     "name": "stdout",
     "output_type": "stream",
     "text": [
      " "
     ]
    },
    {
     "name": "stdout",
     "output_type": "stream",
     "text": [
      "\n",
      "random precision:"
     ]
    },
    {
     "name": "stdout",
     "output_type": "stream",
     "text": [
      " "
     ]
    },
    {
     "name": "stdout",
     "output_type": "stream",
     "text": [
      "0.001615617978811156"
     ]
    },
    {
     "name": "stdout",
     "output_type": "stream",
     "text": [
      "\n"
     ]
    },
    {
     "name": "stderr",
     "output_type": "stream",
     "text": [
      "\r",
      "  0%|                                             | 0/128 [00:00<?, ?it/s]"
     ]
    },
    {
     "name": "stderr",
     "output_type": "stream",
     "text": [
      "\r",
      "  4%|█▍                                   | 5/128 [00:00<00:02, 43.80it/s]"
     ]
    },
    {
     "name": "stderr",
     "output_type": "stream",
     "text": [
      "\r",
      "  8%|██▊                                 | 10/128 [00:00<00:02, 43.76it/s]"
     ]
    },
    {
     "name": "stderr",
     "output_type": "stream",
     "text": [
      "\r",
      " 12%|████▏                               | 15/128 [00:00<00:02, 43.05it/s]"
     ]
    },
    {
     "name": "stderr",
     "output_type": "stream",
     "text": [
      "\r",
      " 16%|█████▋                              | 20/128 [00:00<00:02, 42.37it/s]"
     ]
    },
    {
     "name": "stderr",
     "output_type": "stream",
     "text": [
      "\r",
      " 20%|███████                             | 25/128 [00:00<00:02, 41.97it/s]"
     ]
    },
    {
     "name": "stderr",
     "output_type": "stream",
     "text": [
      "\r",
      " 23%|████████▍                           | 30/128 [00:00<00:02, 41.88it/s]"
     ]
    },
    {
     "name": "stderr",
     "output_type": "stream",
     "text": [
      "\r",
      " 27%|█████████▊                          | 35/128 [00:00<00:02, 41.95it/s]"
     ]
    },
    {
     "name": "stderr",
     "output_type": "stream",
     "text": [
      "\r",
      " 31%|███████████▎                        | 40/128 [00:00<00:02, 42.56it/s]"
     ]
    },
    {
     "name": "stderr",
     "output_type": "stream",
     "text": [
      "\r",
      " 35%|████████████▋                       | 45/128 [00:01<00:01, 42.84it/s]"
     ]
    },
    {
     "name": "stderr",
     "output_type": "stream",
     "text": [
      "\r",
      " 39%|██████████████                      | 50/128 [00:01<00:01, 42.46it/s]"
     ]
    },
    {
     "name": "stderr",
     "output_type": "stream",
     "text": [
      "\r",
      " 43%|███████████████▍                    | 55/128 [00:01<00:01, 41.54it/s]"
     ]
    },
    {
     "name": "stderr",
     "output_type": "stream",
     "text": [
      "\r",
      " 47%|████████████████▉                   | 60/128 [00:01<00:01, 41.40it/s]"
     ]
    },
    {
     "name": "stderr",
     "output_type": "stream",
     "text": [
      "\r",
      " 51%|██████████████████▎                 | 65/128 [00:01<00:01, 41.08it/s]"
     ]
    },
    {
     "name": "stderr",
     "output_type": "stream",
     "text": [
      "\r",
      " 55%|███████████████████▋                | 70/128 [00:01<00:01, 40.60it/s]"
     ]
    },
    {
     "name": "stderr",
     "output_type": "stream",
     "text": [
      "\r",
      " 59%|█████████████████████               | 75/128 [00:01<00:01, 40.19it/s]"
     ]
    },
    {
     "name": "stderr",
     "output_type": "stream",
     "text": [
      "\r",
      " 62%|██████████████████████▌             | 80/128 [00:01<00:01, 39.27it/s]"
     ]
    },
    {
     "name": "stderr",
     "output_type": "stream",
     "text": [
      "\r",
      " 66%|███████████████████████▋            | 84/128 [00:02<00:01, 38.75it/s]"
     ]
    },
    {
     "name": "stderr",
     "output_type": "stream",
     "text": [
      "\r",
      " 70%|█████████████████████████           | 89/128 [00:02<00:00, 39.26it/s]"
     ]
    },
    {
     "name": "stderr",
     "output_type": "stream",
     "text": [
      "\r",
      " 73%|██████████████████████████▍         | 94/128 [00:02<00:00, 39.96it/s]"
     ]
    },
    {
     "name": "stderr",
     "output_type": "stream",
     "text": [
      "\r",
      " 77%|███████████████████████████▊        | 99/128 [00:02<00:00, 40.21it/s]"
     ]
    },
    {
     "name": "stderr",
     "output_type": "stream",
     "text": [
      "\r",
      " 81%|████████████████████████████▍      | 104/128 [00:02<00:00, 37.22it/s]"
     ]
    },
    {
     "name": "stderr",
     "output_type": "stream",
     "text": [
      "\r",
      " 84%|█████████████████████████████▌     | 108/128 [00:02<00:00, 35.65it/s]"
     ]
    },
    {
     "name": "stderr",
     "output_type": "stream",
     "text": [
      "\r",
      " 88%|██████████████████████████████▉    | 113/128 [00:02<00:00, 37.78it/s]"
     ]
    },
    {
     "name": "stderr",
     "output_type": "stream",
     "text": [
      "\r",
      " 92%|████████████████████████████████▎  | 118/128 [00:02<00:00, 39.22it/s]"
     ]
    },
    {
     "name": "stderr",
     "output_type": "stream",
     "text": [
      "\r",
      " 95%|█████████████████████████████████▎ | 122/128 [00:03<00:00, 39.21it/s]"
     ]
    },
    {
     "name": "stderr",
     "output_type": "stream",
     "text": [
      "\r",
      " 99%|██████████████████████████████████▋| 127/128 [00:03<00:00, 40.47it/s]"
     ]
    },
    {
     "name": "stderr",
     "output_type": "stream",
     "text": [
      "/home/ml4ig1/Documents code/benGRN/bengrn/base.py:747: RuntimeWarning: invalid value encountered in long_scalars\n",
      "  precision = (grn[true] > threshold).sum() / (grn > threshold).sum()\n"
     ]
    },
    {
     "name": "stderr",
     "output_type": "stream",
     "text": [
      "\r",
      "100%|███████████████████████████████████| 128/128 [00:03<00:00, 40.40it/s]"
     ]
    },
    {
     "name": "stderr",
     "output_type": "stream",
     "text": [
      "\n"
     ]
    },
    {
     "name": "stdout",
     "output_type": "stream",
     "text": [
      "Area Under Precision-Recall Curve (AUPRC): "
     ]
    },
    {
     "name": "stdout",
     "output_type": "stream",
     "text": [
      " "
     ]
    },
    {
     "name": "stdout",
     "output_type": "stream",
     "text": [
      "0.001805727737594386"
     ]
    },
    {
     "name": "stdout",
     "output_type": "stream",
     "text": [
      "\n"
     ]
    },
    {
     "name": "stdout",
     "output_type": "stream",
     "text": [
      "EPR:"
     ]
    },
    {
     "name": "stdout",
     "output_type": "stream",
     "text": [
      " "
     ]
    },
    {
     "name": "stdout",
     "output_type": "stream",
     "text": [
      "2.0321305173018605"
     ]
    },
    {
     "name": "stdout",
     "output_type": "stream",
     "text": [
      "\n"
     ]
    },
    {
     "data": {
      "image/png": "[encoded data removed]",
      "text/plain": [
       "<Figure size 1000x800 with 1 Axes>"
      ]
     },
     "metadata": {},
     "output_type": "display_data"
    }
   ],
   "source": [
    "grn.varp['GRN'] = grn.varp['GRN'].T\n",
    "metrics['scprint_mean_han_base'] = BenGRN(grn, do_auc=True, doplot=True).scprint_benchmark()"
   ]
  },
  {
   "cell_type": "code",
   "execution_count": 9,
   "id": "480ffe81",
   "metadata": {
    "execution": {
     "iopub.execute_input": "2024-06-27T08:51:54.891379Z",
     "iopub.status.busy": "2024-06-27T08:51:54.890628Z",
     "iopub.status.idle": "2024-06-27T08:52:21.473666Z",
     "shell.execute_reply": "2024-06-27T08:52:21.472697Z"
    },
    "papermill": {
     "duration": 26.640829,
     "end_time": "2024-06-27T08:52:21.480168",
     "exception": false,
     "start_time": "2024-06-27T08:51:54.839339",
     "status": "completed"
    },
    "tags": []
   },
   "outputs": [
    {
     "name": "stdout",
     "output_type": "stream",
     "text": [
      "precision: "
     ]
    },
    {
     "name": "stdout",
     "output_type": "stream",
     "text": [
      " "
     ]
    },
    {
     "name": "stdout",
     "output_type": "stream",
     "text": [
      "0.264192"
     ]
    },
    {
     "name": "stdout",
     "output_type": "stream",
     "text": [
      " "
     ]
    },
    {
     "name": "stdout",
     "output_type": "stream",
     "text": [
      "\n",
      "recall: "
     ]
    },
    {
     "name": "stdout",
     "output_type": "stream",
     "text": [
      " "
     ]
    },
    {
     "name": "stdout",
     "output_type": "stream",
     "text": [
      "1.0"
     ]
    },
    {
     "name": "stdout",
     "output_type": "stream",
     "text": [
      " "
     ]
    },
    {
     "name": "stdout",
     "output_type": "stream",
     "text": [
      "\n",
      "random precision:"
     ]
    },
    {
     "name": "stdout",
     "output_type": "stream",
     "text": [
      " "
     ]
    },
    {
     "name": "stdout",
     "output_type": "stream",
     "text": [
      "0.26424484896979394"
     ]
    },
    {
     "name": "stdout",
     "output_type": "stream",
     "text": [
      "\n"
     ]
    },
    {
     "name": "stderr",
     "output_type": "stream",
     "text": [
      "\r",
      "  0%|                                             | 0/128 [00:00<?, ?it/s]"
     ]
    },
    {
     "name": "stderr",
     "output_type": "stream",
     "text": [
      "\r",
      " 30%|██████████▋                        | 39/128 [00:00<00:00, 383.29it/s]"
     ]
    },
    {
     "name": "stderr",
     "output_type": "stream",
     "text": [
      "\r",
      " 71%|████████████████████████▉          | 91/128 [00:00<00:00, 458.99it/s]"
     ]
    },
    {
     "name": "stderr",
     "output_type": "stream",
     "text": [
      "/home/ml4ig1/Documents code/benGRN/bengrn/base.py:747: RuntimeWarning: invalid value encountered in long_scalars\n",
      "  precision = (grn[true] > threshold).sum() / (grn > threshold).sum()\n"
     ]
    },
    {
     "name": "stderr",
     "output_type": "stream",
     "text": [
      "\r",
      "100%|██████████████████████████████████| 128/128 [00:00<00:00, 458.02it/s]"
     ]
    },
    {
     "name": "stderr",
     "output_type": "stream",
     "text": [
      "\n"
     ]
    },
    {
     "name": "stdout",
     "output_type": "stream",
     "text": [
      "Area Under Precision-Recall Curve (AUPRC): "
     ]
    },
    {
     "name": "stdout",
     "output_type": "stream",
     "text": [
      " "
     ]
    },
    {
     "name": "stdout",
     "output_type": "stream",
     "text": [
      "0.2946465490902279"
     ]
    },
    {
     "name": "stdout",
     "output_type": "stream",
     "text": [
      "\n"
     ]
    },
    {
     "name": "stdout",
     "output_type": "stream",
     "text": [
      "EPR:"
     ]
    },
    {
     "name": "stdout",
     "output_type": "stream",
     "text": [
      " "
     ]
    },
    {
     "name": "stdout",
     "output_type": "stream",
     "text": [
      "1.1545093654468563"
     ]
    },
    {
     "name": "stdout",
     "output_type": "stream",
     "text": [
      "\n"
     ]
    },
    {
     "data": {
      "image/png": "[encoded data removed]",
      "text/plain": [
       "<Figure size 1000x800 with 1 Axes>"
      ]
     },
     "metadata": {},
     "output_type": "display_data"
    }
   ],
   "source": [
    "preadata = get_sroy_gt(get=\"han\", species=\"human\", gt=\"chip\")\n",
    "grn.varp['GRN'] = grn.varp['GRN'].T\n",
    "metrics['scprint_mean_han_chip'] = BenGRN(grn, do_auc=True, doplot=True).compare_to(other=preadata)"
   ]
  },
  {
   "cell_type": "code",
   "execution_count": 10,
   "id": "fbbc916d",
   "metadata": {
    "execution": {
     "iopub.execute_input": "2024-06-27T08:52:21.615591Z",
     "iopub.status.busy": "2024-06-27T08:52:21.614848Z",
     "iopub.status.idle": "2024-06-27T08:52:37.993202Z",
     "shell.execute_reply": "2024-06-27T08:52:37.992204Z"
    },
    "papermill": {
     "duration": 16.443096,
     "end_time": "2024-06-27T08:52:37.999661",
     "exception": false,
     "start_time": "2024-06-27T08:52:21.556565",
     "status": "completed"
    },
    "tags": []
   },
   "outputs": [
    {
     "name": "stdout",
     "output_type": "stream",
     "text": [
      "precision: "
     ]
    },
    {
     "name": "stdout",
     "output_type": "stream",
     "text": [
      " "
     ]
    },
    {
     "name": "stdout",
     "output_type": "stream",
     "text": [
      "0.08270819672131148"
     ]
    },
    {
     "name": "stdout",
     "output_type": "stream",
     "text": [
      " "
     ]
    },
    {
     "name": "stdout",
     "output_type": "stream",
     "text": [
      "\n",
      "recall: "
     ]
    },
    {
     "name": "stdout",
     "output_type": "stream",
     "text": [
      " "
     ]
    },
    {
     "name": "stdout",
     "output_type": "stream",
     "text": [
      "1.0"
     ]
    },
    {
     "name": "stdout",
     "output_type": "stream",
     "text": [
      " "
     ]
    },
    {
     "name": "stdout",
     "output_type": "stream",
     "text": [
      "\n",
      "random precision:"
     ]
    },
    {
     "name": "stdout",
     "output_type": "stream",
     "text": [
      " "
     ]
    },
    {
     "name": "stdout",
     "output_type": "stream",
     "text": [
      "0.0827247416696454"
     ]
    },
    {
     "name": "stdout",
     "output_type": "stream",
     "text": [
      "\n"
     ]
    },
    {
     "name": "stderr",
     "output_type": "stream",
     "text": [
      "\r",
      "  0%|                                             | 0/128 [00:00<?, ?it/s]"
     ]
    },
    {
     "name": "stderr",
     "output_type": "stream",
     "text": [
      "\r",
      " 29%|██████████                         | 37/128 [00:00<00:00, 366.82it/s]"
     ]
    },
    {
     "name": "stderr",
     "output_type": "stream",
     "text": [
      "\r",
      " 61%|█████████████████████▎             | 78/128 [00:00<00:00, 389.54it/s]"
     ]
    },
    {
     "name": "stderr",
     "output_type": "stream",
     "text": [
      "\r",
      " 93%|███████████████████████████████▌  | 119/128 [00:00<00:00, 395.77it/s]"
     ]
    },
    {
     "name": "stderr",
     "output_type": "stream",
     "text": [
      "/home/ml4ig1/Documents code/benGRN/bengrn/base.py:747: RuntimeWarning: invalid value encountered in long_scalars\n",
      "  precision = (grn[true] > threshold).sum() / (grn > threshold).sum()\n"
     ]
    },
    {
     "name": "stderr",
     "output_type": "stream",
     "text": [
      "\r",
      "100%|██████████████████████████████████| 128/128 [00:00<00:00, 389.64it/s]"
     ]
    },
    {
     "name": "stderr",
     "output_type": "stream",
     "text": [
      "\n"
     ]
    },
    {
     "name": "stdout",
     "output_type": "stream",
     "text": [
      "Area Under Precision-Recall Curve (AUPRC): "
     ]
    },
    {
     "name": "stdout",
     "output_type": "stream",
     "text": [
      " "
     ]
    },
    {
     "name": "stdout",
     "output_type": "stream",
     "text": [
      "0.09642713636120592"
     ]
    },
    {
     "name": "stdout",
     "output_type": "stream",
     "text": [
      "\n"
     ]
    },
    {
     "name": "stdout",
     "output_type": "stream",
     "text": [
      "EPR:"
     ]
    },
    {
     "name": "stdout",
     "output_type": "stream",
     "text": [
      " "
     ]
    },
    {
     "name": "stdout",
     "output_type": "stream",
     "text": [
      "1.9393293614430762"
     ]
    },
    {
     "name": "stdout",
     "output_type": "stream",
     "text": [
      "\n"
     ]
    },
    {
     "data": {
      "image/png": "[encoded data removed]",
      "text/plain": [
       "<Figure size 1000x800 with 1 Axes>"
      ]
     },
     "metadata": {},
     "output_type": "display_data"
    }
   ],
   "source": [
    "preadata = get_sroy_gt(get=\"han\", species=\"human\", gt=\"ko\")\n",
    "metrics['scprint_mean_han_ko'] = BenGRN(grn, do_auc=True, doplot=True).compare_to(other=preadata)"
   ]
  },
  {
   "cell_type": "code",
   "execution_count": 11,
   "id": "7b5c6cb9",
   "metadata": {
    "execution": {
     "iopub.execute_input": "2024-06-27T08:52:39.298368Z",
     "iopub.status.busy": "2024-06-27T08:52:39.297609Z",
     "iopub.status.idle": "2024-06-27T08:52:48.525901Z",
     "shell.execute_reply": "2024-06-27T08:52:48.524774Z"
    },
    "papermill": {
     "duration": 9.272574,
     "end_time": "2024-06-27T08:52:48.530056",
     "exception": false,
     "start_time": "2024-06-27T08:52:39.257482",
     "status": "completed"
    },
    "tags": []
   },
   "outputs": [],
   "source": [
    "preadata = get_sroy_gt(get=\"han\", species=\"human\", gt=\"full\")"
   ]
  },
  {
   "cell_type": "code",
   "execution_count": null,
   "id": "d21afee1",
   "metadata": {
    "execution": {
     "iopub.execute_input": "2024-06-26T21:51:36.827071Z",
     "iopub.status.busy": "2024-06-26T21:51:36.826209Z",
     "iopub.status.idle": "2024-06-26T22:56:43.747552Z",
     "shell.execute_reply": "2024-06-26T22:56:43.720423Z"
    },
    "papermill": {
     "duration": null,
     "end_time": null,
     "exception": false,
     "start_time": "2024-06-27T08:52:48.593928",
     "status": "running"
    },
    "tags": []
   },
   "outputs": [],
   "source": [
    "grn.varp[\"GRN\"] = grn.varp['all']\n",
    "grn, m, clf_omni = train_classifier(grn, C=0.1, train_size=0.9, class_weight={1: 200, 0: 1}, shuffle=True)"
   ]
  },
  {
   "cell_type": "code",
   "execution_count": null,
   "id": "64d9dff6",
   "metadata": {
    "execution": {
     "iopub.execute_input": "2024-06-26T22:56:44.023529Z",
     "iopub.status.busy": "2024-06-26T22:56:44.021390Z",
     "iopub.status.idle": "2024-06-26T22:56:46.000470Z",
     "shell.execute_reply": "2024-06-26T22:56:45.998507Z"
    },
    "papermill": {
     "duration": null,
     "end_time": null,
     "exception": null,
     "start_time": null,
     "status": "pending"
    },
    "tags": []
   },
   "outputs": [],
   "source": [
    "# Save the clf_omni classifier to a file\n",
    "joblib.dump(clf_omni, 'clf_omni_model.pkl')"
   ]
  },
  {
   "cell_type": "code",
   "execution_count": null,
   "id": "5b6f3b7d",
   "metadata": {
    "execution": {
     "iopub.execute_input": "2024-06-26T22:56:46.122435Z",
     "iopub.status.busy": "2024-06-26T22:56:46.121715Z",
     "iopub.status.idle": "2024-06-26T22:56:57.358386Z",
     "shell.execute_reply": "2024-06-26T22:56:57.357068Z"
    },
    "papermill": {
     "duration": null,
     "end_time": null,
     "exception": null,
     "start_time": null,
     "status": "pending"
    },
    "tags": []
   },
   "outputs": [],
   "source": [
    "grn.varp['GRN'] = grn.varp['classified'].T\n",
    "metrics['scprint_omni_han_full'] = BenGRN(grn, do_auc=True, doplot=True).compare_to(other=preadata)"
   ]
  },
  {
   "cell_type": "code",
   "execution_count": null,
   "id": "8e57261f",
   "metadata": {
    "execution": {
     "iopub.execute_input": "2024-06-26T22:56:57.471419Z",
     "iopub.status.busy": "2024-06-26T22:56:57.470691Z",
     "iopub.status.idle": "2024-06-26T22:58:46.243459Z",
     "shell.execute_reply": "2024-06-26T22:58:46.241530Z"
    },
    "papermill": {
     "duration": null,
     "end_time": null,
     "exception": null,
     "start_time": null,
     "status": "pending"
    },
    "tags": []
   },
   "outputs": [],
   "source": [
    "grn.varp['GRN'] = grn.varp['classified']\n",
    "metrics['scprint_omni_han_base'] = BenGRN(grn, do_auc=True, doplot=True).scprint_benchmark()"
   ]
  },
  {
   "cell_type": "code",
   "execution_count": null,
   "id": "d9cd4b1c",
   "metadata": {
    "execution": {
     "iopub.execute_input": "2024-06-26T22:58:46.375693Z",
     "iopub.status.busy": "2024-06-26T22:58:46.374932Z",
     "iopub.status.idle": "2024-06-26T22:59:12.600115Z",
     "shell.execute_reply": "2024-06-26T22:59:12.599233Z"
    },
    "papermill": {
     "duration": null,
     "end_time": null,
     "exception": null,
     "start_time": null,
     "status": "pending"
    },
    "tags": []
   },
   "outputs": [],
   "source": [
    "preadata = get_sroy_gt(get=\"han\", species=\"human\", gt=\"chip\")\n",
    "metrics['scprint_omni_han_chip'] = BenGRN(grn, do_auc=True, doplot=True).compare_to(other=preadata)"
   ]
  },
  {
   "cell_type": "code",
   "execution_count": null,
   "id": "10c07289",
   "metadata": {
    "execution": {
     "iopub.execute_input": "2024-06-26T22:59:12.736253Z",
     "iopub.status.busy": "2024-06-26T22:59:12.735537Z",
     "iopub.status.idle": "2024-06-26T22:59:28.988085Z",
     "shell.execute_reply": "2024-06-26T22:59:28.987122Z"
    },
    "papermill": {
     "duration": null,
     "end_time": null,
     "exception": null,
     "start_time": null,
     "status": "pending"
    },
    "tags": []
   },
   "outputs": [],
   "source": [
    "preadata = get_sroy_gt(get=\"han\", species=\"human\", gt=\"ko\")\n",
    "metrics['scprint_omni_han_ko'] = BenGRN(grn, do_auc=True, doplot=True).compare_to(other=preadata)"
   ]
  },
  {
   "cell_type": "code",
   "execution_count": null,
   "id": "10ed8b34",
   "metadata": {
    "execution": {
     "iopub.execute_input": "2024-06-26T22:59:29.144804Z",
     "iopub.status.busy": "2024-06-26T22:59:29.144091Z",
     "iopub.status.idle": "2024-06-26T23:09:38.025431Z",
     "shell.execute_reply": "2024-06-26T23:09:38.015476Z"
    },
    "papermill": {
     "duration": null,
     "end_time": null,
     "exception": null,
     "start_time": null,
     "status": "pending"
    },
    "tags": []
   },
   "outputs": [],
   "source": [
    "grn.varp['GRN'] = np.transpose(grn.varp['all'], (1,0,2))\n",
    "weight = int((preadata.grn.sum(1)>0).sum()* (preadata.grn.sum(0)>0).sum()/ preadata.grn.sum().sum())\n",
    "grn, m, clf_self = train_classifier(\n",
    "    grn, other=preadata, C=0.1, train_size=0.5, class_weight={1: weight, 0: 1}, shuffle=True, max_iter=500,)\n",
    "grn.varp['GRN'] = grn.varp['classified']\n",
    "metrics['scprint_self_han_full'] = BenGRN(grn, do_auc=True, doplot=True).compare_to(other=preadata)"
   ]
  },
  {
   "cell_type": "code",
   "execution_count": null,
   "id": "e97e0b3e",
   "metadata": {
    "execution": {
     "iopub.execute_input": "2024-06-26T23:09:38.236305Z",
     "iopub.status.busy": "2024-06-26T23:09:38.233374Z",
     "iopub.status.idle": "2024-06-26T23:09:40.094474Z",
     "shell.execute_reply": "2024-06-26T23:09:40.092061Z"
    },
    "papermill": {
     "duration": null,
     "end_time": null,
     "exception": null,
     "start_time": null,
     "status": "pending"
    },
    "tags": []
   },
   "outputs": [],
   "source": [
    "joblib.dump(clf_self, 'clf_self_model.pkl')"
   ]
  },
  {
   "cell_type": "code",
   "execution_count": null,
   "id": "cccf3796",
   "metadata": {
    "execution": {
     "iopub.execute_input": "2024-06-26T23:09:40.244944Z",
     "iopub.status.busy": "2024-06-26T23:09:40.244612Z",
     "iopub.status.idle": "2024-06-26T23:11:35.965546Z",
     "shell.execute_reply": "2024-06-26T23:11:35.964359Z"
    },
    "papermill": {
     "duration": null,
     "end_time": null,
     "exception": null,
     "start_time": null,
     "status": "pending"
    },
    "tags": []
   },
   "outputs": [],
   "source": [
    "grn.varp['GRN'] = grn.varp['classified'].T\n",
    "metrics['scprint_self_han_base'] = BenGRN(grn, do_auc=True, doplot=True).scprint_benchmark()"
   ]
  },
  {
   "cell_type": "code",
   "execution_count": null,
   "id": "f6323dbd",
   "metadata": {
    "execution": {
     "iopub.execute_input": "2024-06-26T23:11:36.142529Z",
     "iopub.status.busy": "2024-06-26T23:11:36.141807Z",
     "iopub.status.idle": "2024-06-26T23:12:05.983788Z",
     "shell.execute_reply": "2024-06-26T23:12:05.982272Z"
    },
    "papermill": {
     "duration": null,
     "end_time": null,
     "exception": null,
     "start_time": null,
     "status": "pending"
    },
    "tags": []
   },
   "outputs": [],
   "source": [
    "grn.varp['GRN'] = grn.varp['classified']\n",
    "preadata = get_sroy_gt(get=\"han\", species=\"human\", gt=\"chip\")\n",
    "metrics['scprint_self_han_chip'] = BenGRN(grn, do_auc=True, doplot=True).compare_to(other=preadata)"
   ]
  },
  {
   "cell_type": "code",
   "execution_count": null,
   "id": "30233634",
   "metadata": {
    "execution": {
     "iopub.execute_input": "2024-06-26T23:12:06.162975Z",
     "iopub.status.busy": "2024-06-26T23:12:06.162242Z",
     "iopub.status.idle": "2024-06-26T23:12:22.944422Z",
     "shell.execute_reply": "2024-06-26T23:12:22.943470Z"
    },
    "papermill": {
     "duration": null,
     "end_time": null,
     "exception": null,
     "start_time": null,
     "status": "pending"
    },
    "tags": []
   },
   "outputs": [],
   "source": [
    "preadata = get_sroy_gt(get=\"han\", species=\"human\", gt=\"ko\")\n",
    "metrics['scprint_self_han_ko'] = BenGRN(grn, do_auc=True, doplot=True).compare_to(other=preadata)"
   ]
  },
  {
   "cell_type": "code",
   "execution_count": null,
   "id": "ba4f53c5",
   "metadata": {
    "papermill": {
     "duration": null,
     "end_time": null,
     "exception": null,
     "start_time": null,
     "status": "pending"
    },
    "tags": []
   },
   "outputs": [],
   "source": [
    "del grn"
   ]
  },
  {
   "cell_type": "markdown",
   "id": "de239c7c",
   "metadata": {
    "papermill": {
     "duration": null,
     "end_time": null,
     "exception": null,
     "start_time": null,
     "status": "pending"
    },
    "tags": []
   },
   "source": [
    "# mine / human"
   ]
  },
  {
   "cell_type": "code",
   "execution_count": null,
   "id": "9c09256c",
   "metadata": {
    "execution": {
     "iopub.execute_input": "2024-06-26T23:12:23.281739Z",
     "iopub.status.busy": "2024-06-26T23:12:23.280800Z",
     "iopub.status.idle": "2024-06-26T23:12:43.737314Z",
     "shell.execute_reply": "2024-06-26T23:12:43.736281Z"
    },
    "papermill": {
     "duration": null,
     "end_time": null,
     "exception": null,
     "start_time": null,
     "status": "pending"
    },
    "tags": []
   },
   "outputs": [],
   "source": [
    "preadata = get_sroy_gt(get=\"mine\", species=\"human\", gt=\"full\")\n",
    "adata = preprocessor(preadata.copy())\n",
    "adata.var[\"isTF\"] = False\n",
    "adata.var.loc[adata.var.symbol.isin(grnutils.TF), \"isTF\"] = True\n",
    "preadata, (preadata.grn.sum(1) != 0).sum()"
   ]
  },
  {
   "cell_type": "code",
   "execution_count": null,
   "id": "cde1b06c",
   "metadata": {
    "execution": {
     "iopub.execute_input": "2024-06-26T23:12:43.921301Z",
     "iopub.status.busy": "2024-06-26T23:12:43.920898Z",
     "iopub.status.idle": "2024-06-26T23:16:03.231532Z",
     "shell.execute_reply": "2024-06-26T23:16:03.230158Z"
    },
    "papermill": {
     "duration": null,
     "end_time": null,
     "exception": null,
     "start_time": null,
     "status": "pending"
    },
    "tags": []
   },
   "outputs": [],
   "source": [
    "grn_inferer = GRNfer(model, adata,\n",
    "                     how=\"most var within\",\n",
    "                     genes=adata.var[adata.var.symbol.isin(preadata.var[preadata.grn.sum(1) != 0].index.tolist())].index.tolist(),\n",
    "                     preprocess=\"softmax\",\n",
    "                     head_agg='none',\n",
    "                     filtration=\"none\",\n",
    "                     forward_mode=\"none\",\n",
    "                     organisms=['NCBITaxon:9606','NCBITaxon:10090'],\n",
    "                     apc=False,\n",
    "                     symmetrize=False,\n",
    "                     num_genes=MAXGENES,\n",
    "                     max_cells=MAXCELLS,\n",
    "                     doplot=False,\n",
    "                     batch_size=32,\n",
    "                     )\n",
    "grn = grn_inferer(layer=list(range(model.nlayers))[:])"
   ]
  },
  {
   "cell_type": "code",
   "execution_count": null,
   "id": "f659972b",
   "metadata": {
    "execution": {
     "iopub.execute_input": "2024-06-26T23:16:03.467457Z",
     "iopub.status.busy": "2024-06-26T23:16:03.466843Z",
     "iopub.status.idle": "2024-06-26T23:16:03.606408Z",
     "shell.execute_reply": "2024-06-26T23:16:03.604791Z"
    },
    "papermill": {
     "duration": null,
     "end_time": null,
     "exception": null,
     "start_time": null,
     "status": "pending"
    },
    "tags": []
   },
   "outputs": [],
   "source": [
    "grn.varp[\"all\"] = grn.varp['GRN']\n",
    "grn.var['ensembl_id'] = grn.var.index\n",
    "grn.var['symbol'] = make_index_unique(grn.var['symbol'].astype(str))\n",
    "grn.var.index = grn.var['symbol']"
   ]
  },
  {
   "cell_type": "code",
   "execution_count": null,
   "id": "b9806c2e",
   "metadata": {
    "papermill": {
     "duration": null,
     "end_time": null,
     "exception": null,
     "start_time": null,
     "status": "pending"
    },
    "tags": []
   },
   "outputs": [],
   "source": [
    "grn.varp['GRN'] = grn.varp['all'].mean(-1).T\n",
    "metrics['scprint_mean_mine_full'] = BenGRN(grn, do_auc=True, doplot=True).compare_to(other=preadata)"
   ]
  },
  {
   "cell_type": "code",
   "execution_count": null,
   "id": "02d6ef0b",
   "metadata": {
    "execution": {
     "iopub.execute_input": "2024-06-26T23:16:09.019544Z",
     "iopub.status.busy": "2024-06-26T23:16:09.018998Z",
     "iopub.status.idle": "2024-06-26T23:17:22.202710Z",
     "shell.execute_reply": "2024-06-26T23:17:22.202199Z"
    },
    "papermill": {
     "duration": null,
     "end_time": null,
     "exception": null,
     "start_time": null,
     "status": "pending"
    },
    "tags": []
   },
   "outputs": [],
   "source": [
    "grn.varp['GRN'] = grn.varp['all'].mean(-1)\n",
    "metrics['scprint_mean_mine_base'] = BenGRN(grn, do_auc=True, doplot=True).scprint_benchmark()"
   ]
  },
  {
   "cell_type": "code",
   "execution_count": null,
   "id": "972d94e4",
   "metadata": {
    "execution": {
     "iopub.execute_input": "2024-06-26T23:17:22.424580Z",
     "iopub.status.busy": "2024-06-26T23:17:22.423627Z",
     "iopub.status.idle": "2024-06-26T23:18:31.976885Z",
     "shell.execute_reply": "2024-06-26T23:18:31.969109Z"
    },
    "papermill": {
     "duration": null,
     "end_time": null,
     "exception": null,
     "start_time": null,
     "status": "pending"
    },
    "tags": []
   },
   "outputs": [],
   "source": [
    "grn.varp[\"GRN\"] = clf_omni.predict_proba(\n",
    "    grn.varp['all'].reshape(-1, grn.varp['all'].shape[-1])\n",
    ").reshape(len(grn.var), len(grn.var), 2)[:, :, 1].T\n",
    "metrics['scprint_omni_mine_full'] = BenGRN(grn, do_auc=True, doplot=True).compare_to(other=preadata)"
   ]
  },
  {
   "cell_type": "code",
   "execution_count": null,
   "id": "114cf97e",
   "metadata": {
    "execution": {
     "iopub.execute_input": "2024-06-26T23:18:32.470935Z",
     "iopub.status.busy": "2024-06-26T23:18:32.468362Z",
     "iopub.status.idle": "2024-06-26T23:20:08.933059Z",
     "shell.execute_reply": "2024-06-26T23:20:08.932105Z"
    },
    "papermill": {
     "duration": null,
     "end_time": null,
     "exception": null,
     "start_time": null,
     "status": "pending"
    },
    "tags": []
   },
   "outputs": [],
   "source": [
    "grn.varp[\"GRN\"] = grn.varp[\"GRN\"].T\n",
    "metrics['scprint_omni_mine_base'] = BenGRN(grn, do_auc=True, doplot=True).scprint_benchmark()"
   ]
  },
  {
   "cell_type": "code",
   "execution_count": null,
   "id": "37ce401d",
   "metadata": {
    "execution": {
     "iopub.execute_input": "2024-06-26T23:20:09.225098Z",
     "iopub.status.busy": "2024-06-26T23:20:09.224783Z",
     "iopub.status.idle": "2024-06-26T23:21:44.603866Z",
     "shell.execute_reply": "2024-06-26T23:21:44.600310Z"
    },
    "papermill": {
     "duration": null,
     "end_time": null,
     "exception": null,
     "start_time": null,
     "status": "pending"
    },
    "tags": []
   },
   "outputs": [],
   "source": [
    "grn.varp[\"GRN\"] = clf_self.predict_proba(\n",
    "    grn.varp['all'].reshape(-1, grn.varp['all'].shape[-1])\n",
    ").reshape(len(grn.var), len(grn.var), 2)[:, :, 1].T\n",
    "metrics['scprint_omni_mine_full'] = BenGRN(grn, do_auc=True, doplot=True).compare_to(other=preadata)"
   ]
  },
  {
   "cell_type": "code",
   "execution_count": null,
   "id": "13beab7c",
   "metadata": {
    "papermill": {
     "duration": null,
     "end_time": null,
     "exception": null,
     "start_time": null,
     "status": "pending"
    },
    "tags": []
   },
   "outputs": [],
   "source": [
    "grn.varp['GRN'] = grn.varp['GRN'].T\n",
    "metrics['scprint_omni_mine_base'] = BenGRN(grn, do_auc=True, doplot=True).scprint_benchmark()"
   ]
  },
  {
   "cell_type": "code",
   "execution_count": null,
   "id": "3677289b",
   "metadata": {
    "papermill": {
     "duration": null,
     "end_time": null,
     "exception": null,
     "start_time": null,
     "status": "pending"
    },
    "tags": []
   },
   "outputs": [],
   "source": [
    "del grn"
   ]
  },
  {
   "cell_type": "code",
   "execution_count": null,
   "id": "7bf6c62e",
   "metadata": {
    "papermill": {
     "duration": null,
     "end_time": null,
     "exception": null,
     "start_time": null,
     "status": "pending"
    },
    "tags": []
   },
   "outputs": [],
   "source": [
    "metrics"
   ]
  },
  {
   "cell_type": "markdown",
   "id": "d44d82d5",
   "metadata": {
    "papermill": {
     "duration": null,
     "end_time": null,
     "exception": null,
     "start_time": null,
     "status": "pending"
    },
    "tags": []
   },
   "source": [
    "## tran / mouse"
   ]
  },
  {
   "cell_type": "code",
   "execution_count": null,
   "id": "bad51e9c",
   "metadata": {
    "papermill": {
     "duration": null,
     "end_time": null,
     "exception": null,
     "start_time": null,
     "status": "pending"
    },
    "tags": []
   },
   "outputs": [],
   "source": [
    "preadata = get_sroy_gt(get=\"tran\", species=\"mouse\", gt=\"full\")\n",
    "adata = preprocessor(preadata.copy())\n",
    "adata.var[\"isTF\"] = False\n",
    "adata.var.loc[adata.var.symbol.isin(grnutils.TF), \"isTF\"] = True\n",
    "preadata, (preadata.grn.sum(1) != 0).sum()"
   ]
  },
  {
   "cell_type": "code",
   "execution_count": null,
   "id": "2443a855",
   "metadata": {
    "papermill": {
     "duration": null,
     "end_time": null,
     "exception": null,
     "start_time": null,
     "status": "pending"
    },
    "tags": []
   },
   "outputs": [],
   "source": [
    "grn_inferer = GRNfer(model, adata,\n",
    "                     how=\"most var within\",\n",
    "                     genes=adata.var[adata.var.symbol.isin(preadata.var[preadata.grn.sum(1) != 0].index.tolist())].index.tolist(),\n",
    "                     preprocess=\"softmax\",\n",
    "                     head_agg='none',\n",
    "                     filtration=\"none\",\n",
    "                     forward_mode=\"none\",\n",
    "                     organisms=['NCBITaxon:9606','NCBITaxon:10090'],\n",
    "                     apc=False,\n",
    "                     symmetrize=False,\n",
    "                     num_genes=MAXGENES,\n",
    "                     max_cells=MAXCELLS,\n",
    "                     doplot=False,\n",
    "                     batch_size=32,\n",
    "                     )\n",
    "grn = grn_inferer(layer=list(range(model.nlayers))[:])"
   ]
  },
  {
   "cell_type": "code",
   "execution_count": null,
   "id": "6999fc4a",
   "metadata": {
    "papermill": {
     "duration": null,
     "end_time": null,
     "exception": null,
     "start_time": null,
     "status": "pending"
    },
    "tags": []
   },
   "outputs": [],
   "source": [
    "grn.varp[\"all\"] = grn.varp['GRN']\n",
    "grn.var['ensembl_id'] = grn.var.index\n",
    "grn.var['symbol'] = make_index_unique(grn.var['symbol'].astype(str))\n",
    "grn.var.index = grn.var['symbol']"
   ]
  },
  {
   "cell_type": "code",
   "execution_count": null,
   "id": "e2c3c586",
   "metadata": {
    "papermill": {
     "duration": null,
     "end_time": null,
     "exception": null,
     "start_time": null,
     "status": "pending"
    },
    "tags": []
   },
   "outputs": [],
   "source": [
    "grn.varp['GRN'] = grn.varp['all'].mean(-1).T\n",
    "metrics['scprint_mean_han_full'] = BenGRN(grn, do_auc=True, doplot=True).compare_to(other=preadata)"
   ]
  },
  {
   "cell_type": "code",
   "execution_count": null,
   "id": "a8e39553",
   "metadata": {
    "papermill": {
     "duration": null,
     "end_time": null,
     "exception": null,
     "start_time": null,
     "status": "pending"
    },
    "tags": []
   },
   "outputs": [],
   "source": [
    "preadata = get_sroy_gt(get=\"tran\", species=\"mouse\", gt=\"chip\")\n",
    "metrics['scprint_mean_han_chip'] = BenGRN(grn, do_auc=True, doplot=True).compare_to(other=preadata)"
   ]
  },
  {
   "cell_type": "code",
   "execution_count": null,
   "id": "ff548849",
   "metadata": {
    "papermill": {
     "duration": null,
     "end_time": null,
     "exception": null,
     "start_time": null,
     "status": "pending"
    },
    "tags": []
   },
   "outputs": [],
   "source": [
    "preadata = get_sroy_gt(get=\"tran\", species=\"mouse\", gt=\"ko\")\n",
    "metrics['scprint_mean_han_ko'] = BenGRN(grn, do_auc=True, doplot=True).compare_to(other=preadata)"
   ]
  },
  {
   "cell_type": "code",
   "execution_count": null,
   "id": "207285e4",
   "metadata": {
    "papermill": {
     "duration": null,
     "end_time": null,
     "exception": null,
     "start_time": null,
     "status": "pending"
    },
    "tags": []
   },
   "outputs": [],
   "source": [
    "preadata = get_sroy_gt(get=\"tran\", species=\"mouse\", gt=\"full\")"
   ]
  },
  {
   "cell_type": "code",
   "execution_count": null,
   "id": "8fedcc08",
   "metadata": {
    "papermill": {
     "duration": null,
     "end_time": null,
     "exception": null,
     "start_time": null,
     "status": "pending"
    },
    "tags": []
   },
   "outputs": [],
   "source": [
    "grn.varp[\"GRN\"] = clf_omni.predict_proba(\n",
    "    grn.varp['all'].reshape(-1, grn.varp['all'].shape[-1])\n",
    ").reshape(len(grn.var), len(grn.var), 2)[:, :, 1].T\n",
    "metrics['scprint_omni_tran_full'] = BenGRN(grn, do_auc=True, doplot=True).compare_to(other=preadata)"
   ]
  },
  {
   "cell_type": "code",
   "execution_count": null,
   "id": "751abb25",
   "metadata": {
    "papermill": {
     "duration": null,
     "end_time": null,
     "exception": null,
     "start_time": null,
     "status": "pending"
    },
    "tags": []
   },
   "outputs": [],
   "source": [
    "preadata = get_sroy_gt(get=\"tran\", species=\"mouse\", gt=\"chip\")\n",
    "metrics['scprint_omni_tran_chip'] = BenGRN(grn, do_auc=True, doplot=True).compare_to(other=preadata)"
   ]
  },
  {
   "cell_type": "code",
   "execution_count": null,
   "id": "1e5793e9",
   "metadata": {
    "papermill": {
     "duration": null,
     "end_time": null,
     "exception": null,
     "start_time": null,
     "status": "pending"
    },
    "tags": []
   },
   "outputs": [],
   "source": [
    "preadata = get_sroy_gt(get=\"tran\", species=\"mouse\", gt=\"ko\")\n",
    "metrics['scprint_omni_tran_ko'] = BenGRN(grn, do_auc=True, doplot=True).compare_to(other=preadata)"
   ]
  },
  {
   "cell_type": "code",
   "execution_count": null,
   "id": "f5c22e71",
   "metadata": {
    "papermill": {
     "duration": null,
     "end_time": null,
     "exception": null,
     "start_time": null,
     "status": "pending"
    },
    "tags": []
   },
   "outputs": [],
   "source": [
    "preadata = get_sroy_gt(get=\"tran\", species=\"mouse\", gt=\"full\")\n",
    "grn.varp[\"GRN\"] = clf_self.predict_proba(\n",
    "    grn.varp['all'].reshape(-1, grn.varp['all'].shape[-1])\n",
    ").reshape(len(grn.var), len(grn.var), 2)[:, :, 1].T\n",
    "metrics['scprint_self_tran_full'] = BenGRN(grn, do_auc=True, doplot=True).compare_to(other=preadata)"
   ]
  },
  {
   "cell_type": "code",
   "execution_count": null,
   "id": "13bc2d22",
   "metadata": {
    "papermill": {
     "duration": null,
     "end_time": null,
     "exception": null,
     "start_time": null,
     "status": "pending"
    },
    "tags": []
   },
   "outputs": [],
   "source": [
    "preadata = get_sroy_gt(get=\"tran\", species=\"mouse\", gt=\"chip\")\n",
    "metrics['scprint_self_tranan_chip'] = BenGRN(grn, do_auc=True, doplot=True).compare_to(other=preadata)"
   ]
  },
  {
   "cell_type": "code",
   "execution_count": null,
   "id": "f7098f44",
   "metadata": {
    "papermill": {
     "duration": null,
     "end_time": null,
     "exception": null,
     "start_time": null,
     "status": "pending"
    },
    "tags": []
   },
   "outputs": [],
   "source": [
    "preadata = get_sroy_gt(get=\"tran\", species=\"mouse\", gt=\"ko\")\n",
    "metrics['scprint_self_tran_ko'] = BenGRN(grn, do_auc=True, doplot=True).compare_to(other=preadata)"
   ]
  },
  {
   "cell_type": "code",
   "execution_count": null,
   "id": "185a7ab1",
   "metadata": {
    "papermill": {
     "duration": null,
     "end_time": null,
     "exception": null,
     "start_time": null,
     "status": "pending"
    },
    "tags": []
   },
   "outputs": [],
   "source": [
    "del grn"
   ]
  },
  {
   "cell_type": "markdown",
   "id": "8cb13b5c",
   "metadata": {
    "papermill": {
     "duration": null,
     "end_time": null,
     "exception": null,
     "start_time": null,
     "status": "pending"
    },
    "tags": []
   },
   "source": [
    "## zhao / mouse"
   ]
  },
  {
   "cell_type": "code",
   "execution_count": null,
   "id": "202c4de3",
   "metadata": {
    "papermill": {
     "duration": null,
     "end_time": null,
     "exception": null,
     "start_time": null,
     "status": "pending"
    },
    "tags": []
   },
   "outputs": [],
   "source": [
    "preadata = get_sroy_gt(get=\"zhao\", species=\"mouse\", gt=\"full\")\n",
    "adata = preprocessor(preadata.copy())\n",
    "adata.var[\"isTF\"] = False\n",
    "adata.var.loc[adata.var.symbol.isin(grnutils.TF), \"isTF\"] = True\n",
    "preadata, (preadata.grn.sum(1) != 0).sum()"
   ]
  },
  {
   "cell_type": "code",
   "execution_count": null,
   "id": "99a3af36",
   "metadata": {
    "papermill": {
     "duration": null,
     "end_time": null,
     "exception": null,
     "start_time": null,
     "status": "pending"
    },
    "tags": []
   },
   "outputs": [],
   "source": [
    "grn_inferer = GRNfer(model, adata,\n",
    "                     how=\"most var within\",\n",
    "                     genes=adata.var[adata.var.symbol.isin(preadata.var[preadata.grn.sum(1) != 0].index.tolist())].index.tolist(),\n",
    "                     preprocess=\"softmax\",\n",
    "                     head_agg='none',\n",
    "                     filtration=\"none\",\n",
    "                     forward_mode=\"none\",\n",
    "                     organisms=['NCBITaxon:9606','NCBITaxon:10090'],\n",
    "                     apc=False,\n",
    "                     symmetrize=False,\n",
    "                     num_genes=MAXGENES,\n",
    "                     max_cells=MAXCELLS,\n",
    "                     doplot=False,\n",
    "                     batch_size=32,\n",
    "                     )\n",
    "grn = grn_inferer(layer=list(range(model.nlayers))[:])"
   ]
  },
  {
   "cell_type": "code",
   "execution_count": null,
   "id": "d10c191b",
   "metadata": {
    "papermill": {
     "duration": null,
     "end_time": null,
     "exception": null,
     "start_time": null,
     "status": "pending"
    },
    "tags": []
   },
   "outputs": [],
   "source": [
    "grn.varp[\"all\"] = grn.varp['GRN']\n",
    "grn.var['ensembl_id'] = grn.var.index\n",
    "grn.var['symbol'] = make_index_unique(grn.var['symbol'].astype(str))\n",
    "grn.var.index = grn.var['symbol']"
   ]
  },
  {
   "cell_type": "code",
   "execution_count": null,
   "id": "6369d9d7",
   "metadata": {
    "papermill": {
     "duration": null,
     "end_time": null,
     "exception": null,
     "start_time": null,
     "status": "pending"
    },
    "tags": []
   },
   "outputs": [],
   "source": [
    "grn.varp['GRN'] = grn.varp['all'].mean(-1).T\n",
    "metrics['scprint_mean_han_full'] = BenGRN(grn, do_auc=True, doplot=True).compare_to(other=preadata)"
   ]
  },
  {
   "cell_type": "code",
   "execution_count": null,
   "id": "0e6baaff",
   "metadata": {
    "papermill": {
     "duration": null,
     "end_time": null,
     "exception": null,
     "start_time": null,
     "status": "pending"
    },
    "tags": []
   },
   "outputs": [],
   "source": [
    "grn.varp[\"GRN\"] = clf_omni.predict_proba(\n",
    "    grn.varp['all'].reshape(-1, grn.varp['all'].shape[-1])\n",
    ").reshape(len(grn.var), len(grn.var), 2)[:, :, 1].T\n",
    "metrics['scprint_omni_tran_full'] = BenGRN(grn, do_auc=True, doplot=True).compare_to(other=preadata)"
   ]
  },
  {
   "cell_type": "code",
   "execution_count": null,
   "id": "e72fcd0a",
   "metadata": {
    "papermill": {
     "duration": null,
     "end_time": null,
     "exception": null,
     "start_time": null,
     "status": "pending"
    },
    "tags": []
   },
   "outputs": [],
   "source": [
    "preadata = get_sroy_gt(get=\"tran\", species=\"mouse\", gt=\"full\")\n",
    "grn.varp[\"GRN\"] = clf_self.predict_proba(\n",
    "    grn.varp['all'].reshape(-1, grn.varp['all'].shape[-1])\n",
    ").reshape(len(grn.var), len(grn.var), 2)[:, :, 1].T\n",
    "metrics['scprint_self_tran_full'] = BenGRN(grn, do_auc=True, doplot=True).compare_to(other=preadata)"
   ]
  },
  {
   "cell_type": "code",
   "execution_count": null,
   "id": "89f93792",
   "metadata": {
    "papermill": {
     "duration": null,
     "end_time": null,
     "exception": null,
     "start_time": null,
     "status": "pending"
    },
    "tags": []
   },
   "outputs": [],
   "source": [
    "metrics"
   ]
  }
 ],
 "metadata": {
  "kernelspec": {
   "display_name": "scprint",
   "language": "python",
   "name": "python3"
  },
  "language_info": {
   "codemirror_mode": {
    "name": "ipython",
    "version": 3
   },
   "file_extension": ".py",
   "mimetype": "text/x-python",
   "name": "python",
   "nbconvert_exporter": "python",
   "pygments_lexer": "ipython3",
   "version": "3.10.0"
  },
  "papermill": {
   "default_parameters": {},
   "duration": null,
   "end_time": null,
   "environment_variables": {},
   "exception": null,
   "input_path": "bench_sroy.ipynb",
   "output_path": "bench_sroy.ipynb",
   "parameters": {},
   "start_time": "2024-06-27T07:55:54.635089",
   "version": "2.6.0"
  },
  "widgets": {
   "application/vnd.jupyter.widget-state+json": {
    "state": {
     "018eaa3a916a4d3caccd4e80684bcf89": {
      "model_module": "@jupyter-widgets/base",
      "model_module_version": "2.0.0",
      "model_name": "LayoutModel",
      "state": {
       "_model_module": "@jupyter-widgets/base",
       "_model_module_version": "2.0.0",
       "_model_name": "LayoutModel",
       "_view_count": null,
       "_view_module": "@jupyter-widgets/base",
       "_view_module_version": "2.0.0",
       "_view_name": "LayoutView",
       "align_content": null,
       "align_items": null,
       "align_self": null,
       "border_bottom": null,
       "border_left": null,
       "border_right": null,
       "border_top": null,
       "bottom": null,
       "display": null,
       "flex": "2",
       "flex_flow": null,
       "grid_area": null,
       "grid_auto_columns": null,
       "grid_auto_flow": null,
       "grid_auto_rows": null,
       "grid_column": null,
       "grid_gap": null,
       "grid_row": null,
       "grid_template_areas": null,
       "grid_template_columns": null,
       "grid_template_rows": null,
       "height": null,
       "justify_content": null,
       "justify_items": null,
       "left": null,
       "margin": null,
       "max_height": null,
       "max_width": null,
       "min_height": null,
       "min_width": null,
       "object_fit": null,
       "object_position": null,
       "order": null,
       "overflow": null,
       "padding": null,
       "right": null,
       "top": null,
       "visibility": null,
       "width": null
      }
     },
     "01f2e3538aa04844a3f255e3d2f1e9a3": {
      "model_module": "@jupyter-widgets/controls",
      "model_module_version": "2.0.0",
      "model_name": "ProgressStyleModel",
      "state": {
       "_model_module": "@jupyter-widgets/controls",
       "_model_module_version": "2.0.0",
       "_model_name": "ProgressStyleModel",
       "_view_count": null,
       "_view_module": "@jupyter-widgets/base",
       "_view_module_version": "2.0.0",
       "_view_name": "StyleView",
       "bar_color": null,
       "description_width": ""
      }
     },
     "0d9e19600ec64c80a01212976e3bed30": {
      "model_module": "@jupyter-widgets/base",
      "model_module_version": "2.0.0",
      "model_name": "LayoutModel",
      "state": {
       "_model_module": "@jupyter-widgets/base",
       "_model_module_version": "2.0.0",
       "_model_name": "LayoutModel",
       "_view_count": null,
       "_view_module": "@jupyter-widgets/base",
       "_view_module_version": "2.0.0",
       "_view_name": "LayoutView",
       "align_content": null,
       "align_items": null,
       "align_self": null,
       "border_bottom": null,
       "border_left": null,
       "border_right": null,
       "border_top": null,
       "bottom": null,
       "display": null,
       "flex": null,
       "flex_flow": null,
       "grid_area": null,
       "grid_auto_columns": null,
       "grid_auto_flow": null,
       "grid_auto_rows": null,
       "grid_column": null,
       "grid_gap": null,
       "grid_row": null,
       "grid_template_areas": null,
       "grid_template_columns": null,
       "grid_template_rows": null,
       "height": null,
       "justify_content": null,
       "justify_items": null,
       "left": null,
       "margin": null,
       "max_height": null,
       "max_width": null,
       "min_height": null,
       "min_width": null,
       "object_fit": null,
       "object_position": null,
       "order": null,
       "overflow": null,
       "padding": null,
       "right": null,
       "top": null,
       "visibility": null,
       "width": null
      }
     },
     "1b496342ad0544b0843e8a8df4f52ca0": {
      "model_module": "@jupyter-widgets/controls",
      "model_module_version": "2.0.0",
      "model_name": "FloatProgressModel",
      "state": {
       "_dom_classes": [],
       "_model_module": "@jupyter-widgets/controls",
       "_model_module_version": "2.0.0",
       "_model_name": "FloatProgressModel",
       "_view_count": null,
       "_view_module": "@jupyter-widgets/controls",
       "_view_module_version": "2.0.0",
       "_view_name": "ProgressView",
       "bar_style": "success",
       "description": "",
       "description_allow_html": false,
       "layout": "IPY_MODEL_018eaa3a916a4d3caccd4e80684bcf89",
       "max": 4,
       "min": 0,
       "orientation": "horizontal",
       "style": "IPY_MODEL_01f2e3538aa04844a3f255e3d2f1e9a3",
       "tabbable": null,
       "tooltip": null,
       "value": 4
      }
     },
     "21e9ef39968c464eb3210a9c476dc31f": {
      "model_module": "@jupyter-widgets/base",
      "model_module_version": "2.0.0",
      "model_name": "LayoutModel",
      "state": {
       "_model_module": "@jupyter-widgets/base",
       "_model_module_version": "2.0.0",
       "_model_name": "LayoutModel",
       "_view_count": null,
       "_view_module": "@jupyter-widgets/base",
       "_view_module_version": "2.0.0",
       "_view_name": "LayoutView",
       "align_content": null,
       "align_items": null,
       "align_self": null,
       "border_bottom": null,
       "border_left": null,
       "border_right": null,
       "border_top": null,
       "bottom": null,
       "display": null,
       "flex": null,
       "flex_flow": null,
       "grid_area": null,
       "grid_auto_columns": null,
       "grid_auto_flow": null,
       "grid_auto_rows": null,
       "grid_column": null,
       "grid_gap": null,
       "grid_row": null,
       "grid_template_areas": null,
       "grid_template_columns": null,
       "grid_template_rows": null,
       "height": null,
       "justify_content": null,
       "justify_items": null,
       "left": null,
       "margin": null,
       "max_height": null,
       "max_width": null,
       "min_height": null,
       "min_width": null,
       "object_fit": null,
       "object_position": null,
       "order": null,
       "overflow": null,
       "padding": null,
       "right": null,
       "top": null,
       "visibility": null,
       "width": null
      }
     },
     "3d5d63cf4e1b413b85e1c9da2805ddae": {
      "model_module": "@jupyter-widgets/base",
      "model_module_version": "2.0.0",
      "model_name": "LayoutModel",
      "state": {
       "_model_module": "@jupyter-widgets/base",
       "_model_module_version": "2.0.0",
       "_model_name": "LayoutModel",
       "_view_count": null,
       "_view_module": "@jupyter-widgets/base",
       "_view_module_version": "2.0.0",
       "_view_name": "LayoutView",
       "align_content": null,
       "align_items": null,
       "align_self": null,
       "border_bottom": null,
       "border_left": null,
       "border_right": null,
       "border_top": null,
       "bottom": null,
       "display": "inline-flex",
       "flex": null,
       "flex_flow": "row wrap",
       "grid_area": null,
       "grid_auto_columns": null,
       "grid_auto_flow": null,
       "grid_auto_rows": null,
       "grid_column": null,
       "grid_gap": null,
       "grid_row": null,
       "grid_template_areas": null,
       "grid_template_columns": null,
       "grid_template_rows": null,
       "height": null,
       "justify_content": null,
       "justify_items": null,
       "left": null,
       "margin": null,
       "max_height": null,
       "max_width": null,
       "min_height": null,
       "min_width": null,
       "object_fit": null,
       "object_position": null,
       "order": null,
       "overflow": null,
       "padding": null,
       "right": null,
       "top": null,
       "visibility": null,
       "width": "100%"
      }
     },
     "57522d26aa2c4ba083fdfefba62754d0": {
      "model_module": "@jupyter-widgets/base",
      "model_module_version": "2.0.0",
      "model_name": "LayoutModel",
      "state": {
       "_model_module": "@jupyter-widgets/base",
       "_model_module_version": "2.0.0",
       "_model_name": "LayoutModel",
       "_view_count": null,
       "_view_module": "@jupyter-widgets/base",
       "_view_module_version": "2.0.0",
       "_view_name": "LayoutView",
       "align_content": null,
       "align_items": null,
       "align_self": null,
       "border_bottom": null,
       "border_left": null,
       "border_right": null,
       "border_top": null,
       "bottom": null,
       "display": null,
       "flex": null,
       "flex_flow": null,
       "grid_area": null,
       "grid_auto_columns": null,
       "grid_auto_flow": null,
       "grid_auto_rows": null,
       "grid_column": null,
       "grid_gap": null,
       "grid_row": null,
       "grid_template_areas": null,
       "grid_template_columns": null,
       "grid_template_rows": null,
       "height": null,
       "justify_content": null,
       "justify_items": null,
       "left": null,
       "margin": null,
       "max_height": null,
       "max_width": null,
       "min_height": null,
       "min_width": null,
       "object_fit": null,
       "object_position": null,
       "order": null,
       "overflow": null,
       "padding": null,
       "right": null,
       "top": null,
       "visibility": null,
       "width": null
      }
     },
     "74650b76282e446ab835566352c83f78": {
      "model_module": "@jupyter-widgets/controls",
      "model_module_version": "2.0.0",
      "model_name": "ProgressStyleModel",
      "state": {
       "_model_module": "@jupyter-widgets/controls",
       "_model_module_version": "2.0.0",
       "_model_name": "ProgressStyleModel",
       "_view_count": null,
       "_view_module": "@jupyter-widgets/base",
       "_view_module_version": "2.0.0",
       "_view_name": "StyleView",
       "bar_color": null,
       "description_width": ""
      }
     },
     "7e06403f5e114a05842c6b6f63e5063c": {
      "model_module": "@jupyter-widgets/controls",
      "model_module_version": "2.0.0",
      "model_name": "FloatProgressModel",
      "state": {
       "_dom_classes": [],
       "_model_module": "@jupyter-widgets/controls",
       "_model_module_version": "2.0.0",
       "_model_name": "FloatProgressModel",
       "_view_count": null,
       "_view_module": "@jupyter-widgets/controls",
       "_view_module_version": "2.0.0",
       "_view_name": "ProgressView",
       "bar_style": "success",
       "description": "",
       "description_allow_html": false,
       "layout": "IPY_MODEL_9d337f1b12f943d39f3baf486f8e8ad9",
       "max": 32,
       "min": 0,
       "orientation": "horizontal",
       "style": "IPY_MODEL_74650b76282e446ab835566352c83f78",
       "tabbable": null,
       "tooltip": null,
       "value": 32
      }
     },
     "8579b309a4aa45409355f9f5918813ed": {
      "model_module": "@jupyter-widgets/base",
      "model_module_version": "2.0.0",
      "model_name": "LayoutModel",
      "state": {
       "_model_module": "@jupyter-widgets/base",
       "_model_module_version": "2.0.0",
       "_model_name": "LayoutModel",
       "_view_count": null,
       "_view_module": "@jupyter-widgets/base",
       "_view_module_version": "2.0.0",
       "_view_name": "LayoutView",
       "align_content": null,
       "align_items": null,
       "align_self": null,
       "border_bottom": null,
       "border_left": null,
       "border_right": null,
       "border_top": null,
       "bottom": null,
       "display": null,
       "flex": null,
       "flex_flow": null,
       "grid_area": null,
       "grid_auto_columns": null,
       "grid_auto_flow": null,
       "grid_auto_rows": null,
       "grid_column": null,
       "grid_gap": null,
       "grid_row": null,
       "grid_template_areas": null,
       "grid_template_columns": null,
       "grid_template_rows": null,
       "height": null,
       "justify_content": null,
       "justify_items": null,
       "left": null,
       "margin": null,
       "max_height": null,
       "max_width": null,
       "min_height": null,
       "min_width": null,
       "object_fit": null,
       "object_position": null,
       "order": null,
       "overflow": null,
       "padding": null,
       "right": null,
       "top": null,
       "visibility": null,
       "width": null
      }
     },
     "8f44471f95aa42a38681e86a45cbb7ab": {
      "model_module": "@jupyter-widgets/controls",
      "model_module_version": "2.0.0",
      "model_name": "HTMLStyleModel",
      "state": {
       "_model_module": "@jupyter-widgets/controls",
       "_model_module_version": "2.0.0",
       "_model_name": "HTMLStyleModel",
       "_view_count": null,
       "_view_module": "@jupyter-widgets/base",
       "_view_module_version": "2.0.0",
       "_view_name": "StyleView",
       "background": null,
       "description_width": "",
       "font_size": null,
       "text_color": null
      }
     },
     "9d337f1b12f943d39f3baf486f8e8ad9": {
      "model_module": "@jupyter-widgets/base",
      "model_module_version": "2.0.0",
      "model_name": "LayoutModel",
      "state": {
       "_model_module": "@jupyter-widgets/base",
       "_model_module_version": "2.0.0",
       "_model_name": "LayoutModel",
       "_view_count": null,
       "_view_module": "@jupyter-widgets/base",
       "_view_module_version": "2.0.0",
       "_view_name": "LayoutView",
       "align_content": null,
       "align_items": null,
       "align_self": null,
       "border_bottom": null,
       "border_left": null,
       "border_right": null,
       "border_top": null,
       "bottom": null,
       "display": null,
       "flex": "2",
       "flex_flow": null,
       "grid_area": null,
       "grid_auto_columns": null,
       "grid_auto_flow": null,
       "grid_auto_rows": null,
       "grid_column": null,
       "grid_gap": null,
       "grid_row": null,
       "grid_template_areas": null,
       "grid_template_columns": null,
       "grid_template_rows": null,
       "height": null,
       "justify_content": null,
       "justify_items": null,
       "left": null,
       "margin": null,
       "max_height": null,
       "max_width": null,
       "min_height": null,
       "min_width": null,
       "object_fit": null,
       "object_position": null,
       "order": null,
       "overflow": null,
       "padding": null,
       "right": null,
       "top": null,
       "visibility": null,
       "width": null
      }
     },
     "aaa3b8a0e8b64e71a6b813de0eea0bdf": {
      "model_module": "@jupyter-widgets/controls",
      "model_module_version": "2.0.0",
      "model_name": "HTMLModel",
      "state": {
       "_dom_classes": [],
       "_model_module": "@jupyter-widgets/controls",
       "_model_module_version": "2.0.0",
       "_model_name": "HTMLModel",
       "_view_count": null,
       "_view_module": "@jupyter-widgets/controls",
       "_view_module_version": "2.0.0",
       "_view_name": "HTMLView",
       "description": "",
       "description_allow_html": false,
       "layout": "IPY_MODEL_57522d26aa2c4ba083fdfefba62754d0",
       "placeholder": "​",
       "style": "IPY_MODEL_db699fd54ce541928870902098dbe525",
       "tabbable": null,
       "tooltip": null,
       "value": "Predicting DataLoader 0: 100%"
      }
     },
     "b4cdc15e3ab34457af3e84a48a87575c": {
      "model_module": "@jupyter-widgets/base",
      "model_module_version": "2.0.0",
      "model_name": "LayoutModel",
      "state": {
       "_model_module": "@jupyter-widgets/base",
       "_model_module_version": "2.0.0",
       "_model_name": "LayoutModel",
       "_view_count": null,
       "_view_module": "@jupyter-widgets/base",
       "_view_module_version": "2.0.0",
       "_view_name": "LayoutView",
       "align_content": null,
       "align_items": null,
       "align_self": null,
       "border_bottom": null,
       "border_left": null,
       "border_right": null,
       "border_top": null,
       "bottom": null,
       "display": "inline-flex",
       "flex": null,
       "flex_flow": "row wrap",
       "grid_area": null,
       "grid_auto_columns": null,
       "grid_auto_flow": null,
       "grid_auto_rows": null,
       "grid_column": null,
       "grid_gap": null,
       "grid_row": null,
       "grid_template_areas": null,
       "grid_template_columns": null,
       "grid_template_rows": null,
       "height": null,
       "justify_content": null,
       "justify_items": null,
       "left": null,
       "margin": null,
       "max_height": null,
       "max_width": null,
       "min_height": null,
       "min_width": null,
       "object_fit": null,
       "object_position": null,
       "order": null,
       "overflow": null,
       "padding": null,
       "right": null,
       "top": null,
       "visibility": null,
       "width": "100%"
      }
     },
     "b51b8ff61dc24ce199919d84d7981e15": {
      "model_module": "@jupyter-widgets/controls",
      "model_module_version": "2.0.0",
      "model_name": "HTMLModel",
      "state": {
       "_dom_classes": [],
       "_model_module": "@jupyter-widgets/controls",
       "_model_module_version": "2.0.0",
       "_model_name": "HTMLModel",
       "_view_count": null,
       "_view_module": "@jupyter-widgets/controls",
       "_view_module_version": "2.0.0",
       "_view_name": "HTMLView",
       "description": "",
       "description_allow_html": false,
       "layout": "IPY_MODEL_0d9e19600ec64c80a01212976e3bed30",
       "placeholder": "​",
       "style": "IPY_MODEL_dd55211b23e843bdb43a8b66da1d5fc7",
       "tabbable": null,
       "tooltip": null,
       "value": " 4/4 [00:11&lt;00:00,  2.81s/it]"
      }
     },
     "c1c84fe7df0b497fb6a7486f93085eb9": {
      "model_module": "@jupyter-widgets/controls",
      "model_module_version": "2.0.0",
      "model_name": "HBoxModel",
      "state": {
       "_dom_classes": [],
       "_model_module": "@jupyter-widgets/controls",
       "_model_module_version": "2.0.0",
       "_model_name": "HBoxModel",
       "_view_count": null,
       "_view_module": "@jupyter-widgets/controls",
       "_view_module_version": "2.0.0",
       "_view_name": "HBoxView",
       "box_style": "",
       "children": [
        "IPY_MODEL_aaa3b8a0e8b64e71a6b813de0eea0bdf",
        "IPY_MODEL_1b496342ad0544b0843e8a8df4f52ca0",
        "IPY_MODEL_b51b8ff61dc24ce199919d84d7981e15"
       ],
       "layout": "IPY_MODEL_3d5d63cf4e1b413b85e1c9da2805ddae",
       "tabbable": null,
       "tooltip": null
      }
     },
     "d8a40f0375014bab8922017eb8ddaba2": {
      "model_module": "@jupyter-widgets/controls",
      "model_module_version": "2.0.0",
      "model_name": "HTMLModel",
      "state": {
       "_dom_classes": [],
       "_model_module": "@jupyter-widgets/controls",
       "_model_module_version": "2.0.0",
       "_model_name": "HTMLModel",
       "_view_count": null,
       "_view_module": "@jupyter-widgets/controls",
       "_view_module_version": "2.0.0",
       "_view_name": "HTMLView",
       "description": "",
       "description_allow_html": false,
       "layout": "IPY_MODEL_21e9ef39968c464eb3210a9c476dc31f",
       "placeholder": "​",
       "style": "IPY_MODEL_e9b5670028b1442f85bbe4dd0c21c5ee",
       "tabbable": null,
       "tooltip": null,
       "value": " 32/32 [02:29&lt;00:00,  4.68s/it]"
      }
     },
     "db699fd54ce541928870902098dbe525": {
      "model_module": "@jupyter-widgets/controls",
      "model_module_version": "2.0.0",
      "model_name": "HTMLStyleModel",
      "state": {
       "_model_module": "@jupyter-widgets/controls",
       "_model_module_version": "2.0.0",
       "_model_name": "HTMLStyleModel",
       "_view_count": null,
       "_view_module": "@jupyter-widgets/base",
       "_view_module_version": "2.0.0",
       "_view_name": "StyleView",
       "background": null,
       "description_width": "",
       "font_size": null,
       "text_color": null
      }
     },
     "dd55211b23e843bdb43a8b66da1d5fc7": {
      "model_module": "@jupyter-widgets/controls",
      "model_module_version": "2.0.0",
      "model_name": "HTMLStyleModel",
      "state": {
       "_model_module": "@jupyter-widgets/controls",
       "_model_module_version": "2.0.0",
       "_model_name": "HTMLStyleModel",
       "_view_count": null,
       "_view_module": "@jupyter-widgets/base",
       "_view_module_version": "2.0.0",
       "_view_name": "StyleView",
       "background": null,
       "description_width": "",
       "font_size": null,
       "text_color": null
      }
     },
     "dd93f89b5eef4c6aad10d075e5b69bed": {
      "model_module": "@jupyter-widgets/controls",
      "model_module_version": "2.0.0",
      "model_name": "HBoxModel",
      "state": {
       "_dom_classes": [],
       "_model_module": "@jupyter-widgets/controls",
       "_model_module_version": "2.0.0",
       "_model_name": "HBoxModel",
       "_view_count": null,
       "_view_module": "@jupyter-widgets/controls",
       "_view_module_version": "2.0.0",
       "_view_name": "HBoxView",
       "box_style": "",
       "children": [
        "IPY_MODEL_ec6b911c881e48f4acfce65ddd9cd6ab",
        "IPY_MODEL_7e06403f5e114a05842c6b6f63e5063c",
        "IPY_MODEL_d8a40f0375014bab8922017eb8ddaba2"
       ],
       "layout": "IPY_MODEL_b4cdc15e3ab34457af3e84a48a87575c",
       "tabbable": null,
       "tooltip": null
      }
     },
     "e9b5670028b1442f85bbe4dd0c21c5ee": {
      "model_module": "@jupyter-widgets/controls",
      "model_module_version": "2.0.0",
      "model_name": "HTMLStyleModel",
      "state": {
       "_model_module": "@jupyter-widgets/controls",
       "_model_module_version": "2.0.0",
       "_model_name": "HTMLStyleModel",
       "_view_count": null,
       "_view_module": "@jupyter-widgets/base",
       "_view_module_version": "2.0.0",
       "_view_name": "StyleView",
       "background": null,
       "description_width": "",
       "font_size": null,
       "text_color": null
      }
     },
     "ec6b911c881e48f4acfce65ddd9cd6ab": {
      "model_module": "@jupyter-widgets/controls",
      "model_module_version": "2.0.0",
      "model_name": "HTMLModel",
      "state": {
       "_dom_classes": [],
       "_model_module": "@jupyter-widgets/controls",
       "_model_module_version": "2.0.0",
       "_model_name": "HTMLModel",
       "_view_count": null,
       "_view_module": "@jupyter-widgets/controls",
       "_view_module_version": "2.0.0",
       "_view_name": "HTMLView",
       "description": "",
       "description_allow_html": false,
       "layout": "IPY_MODEL_8579b309a4aa45409355f9f5918813ed",
       "placeholder": "​",
       "style": "IPY_MODEL_8f44471f95aa42a38681e86a45cbb7ab",
       "tabbable": null,
       "tooltip": null,
       "value": "Predicting DataLoader 0: 100%"
      }
     }
    },
    "version_major": 2,
    "version_minor": 0
   }
  }
 },
 "nbformat": 4,
 "nbformat_minor": 5
}