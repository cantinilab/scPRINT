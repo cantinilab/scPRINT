{
 "cells": [
  {
   "cell_type": "code",
   "execution_count": 1,
   "metadata": {},
   "outputs": [
    {
     "name": "stdout",
     "output_type": "stream",
     "text": [
      "\u001b[92m→\u001b[0m connected lamindb: jkobject/scprint2\n"
     ]
    }
   ],
   "source": [
    "import scanpy as sc\n",
    "\n",
    "from scprint import scPrint\n",
    "from scprint.tasks import Embedder, Denoiser, GNInfer\n",
    "\n",
    "from scdataloader import Preprocessor\n",
    "from scdataloader.utils import load_genes, translate\n",
    "\n",
    "import numpy as np\n",
    "import pandas as pd\n",
    "\n",
    "from sklearn.linear_model import LogisticRegression\n",
    "from sklearn.ensemble import GradientBoostingClassifier, HistGradientBoostingClassifier\n",
    "\n",
    "from scdataloader.utils import get_descendants\n",
    "from sklearn.metrics import f1_score\n",
    "\n",
    "import matplotlib.pyplot as plt\n",
    "from scib_metrics.benchmark import Benchmarker, BioConservation, BatchCorrection\n",
    "\n",
    "from collections import Counter\n",
    "from scdataloader.utils import downsample_profile\n",
    "from scipy.stats import spearmanr\n",
    "\n",
    "from scprint.tasks import GNInfer\n",
    "\n",
    "from bengrn import BenGRN\n",
    "\n",
    "%load_ext autoreload\n",
    "%autoreload 2\n",
    "\n",
    "import torch\n",
    "torch.set_float32_matmul_precision('medium')"
   ]
  },
  {
   "cell_type": "code",
   "execution_count": 2,
   "metadata": {},
   "outputs": [],
   "source": [
    "m = torch.load('../../xzp23r4p.ckpt', map_location=torch.device('cpu'))"
   ]
  },
  {
   "cell_type": "code",
   "execution_count": 3,
   "metadata": {},
   "outputs": [
    {
     "name": "stdout",
     "output_type": "stream",
     "text": [
      "FYI: scPrint is not attached to a `Trainer`.\n"
     ]
    }
   ],
   "source": [
    "model = scPrint.load_from_checkpoint(\n",
    "    '../../xzp23r4p.ckpt', precpt_gene_emb=None, classes=m['hyper_parameters']['label_counts'], \n",
    ")#strict=False)\n",
    "    #transformer=\"normal\")\n",
    "del m"
   ]
  },
  {
   "cell_type": "markdown",
   "metadata": {},
   "source": [
    "## Loading the data"
   ]
  },
  {
   "cell_type": "code",
   "execution_count": null,
   "metadata": {},
   "outputs": [],
   "source": [
    "adata = sc.read(\n",
    "    \"data/pancreas_atlas.h5ad\",\n",
    "    backup_url=\"https://figshare.com/ndownloader/files/24539828\",\n",
    ")\n"
   ]
  },
  {
   "cell_type": "code",
   "execution_count": 5,
   "metadata": {},
   "outputs": [
    {
     "data": {
      "application/vnd.jupyter.widget-view+json": {
       "model_id": "fe142db257f24757aa0650154ee4f26a",
       "version_major": 2,
       "version_minor": 0
      },
      "text/plain": [
       "  0%|          | 0.00/2.47G [00:00<?, ?B/s]"
      ]
     },
     "metadata": {},
     "output_type": "display_data"
    }
   ],
   "source": [
    "adata = sc.read(\n",
    "    \"data/human_brain_smartv4.h5ad\",\n",
    "    backup_url=\"https://datasets.cellxgene.cziscience.com/f156b755-78c7-4928-917a-be138c153b85.h5ad\",\n",
    ")\n"
   ]
  },
  {
   "cell_type": "code",
   "execution_count": 8,
   "metadata": {},
   "outputs": [
    {
     "data": {
      "text/plain": [
       "66897050000.0"
      ]
     },
     "execution_count": 8,
     "metadata": {},
     "output_type": "execute_result"
    }
   ],
   "source": [
    "adata.X.sum()"
   ]
  },
  {
   "cell_type": "code",
   "execution_count": null,
   "metadata": {},
   "outputs": [
    {
     "name": "stdout",
     "output_type": "stream",
     "text": [
      "Dropping layers:  KeysView(Layers with keys: exon, intron)\n",
      "checking raw counts\n",
      "removed 0 non primary cells, 49417 renamining\n",
      "filtered out 0 cells, 49417 renamining\n",
      "Removed 0 genes.\n",
      "startin QC\n",
      "Seeing 10181 outliers (20.60% of total dataset):\n",
      "done\n",
      "AnnData object with n_obs × n_vars = 49417 × 70704\n",
      "    obs: 'suspension_type', 'cluster', 'class', 'subclass', 'sex_ontology_term_id', 'region', 'cortical_layer', 'cell_type_accession', 'cell_type_alias', 'cell_type_alt_alias', 'cell_type_designation', 'donor_id', 'outlier_call', 'outlier_type', 'tissue_ontology_term_id', 'disease_ontology_term_id', 'assay_ontology_term_id', 'is_primary_data', 'organism_ontology_term_id', 'cell_type_ontology_term_id', 'Specimen ID', 'sample_tissue_type', 'development_stage_ontology_term_id', 'self_reported_ethnicity_ontology_term_id', 'cause_of_death', 'PMI (hr)', 'Tissue (RIN)', 'Hemisphere Sampled', 'tissue_type', 'cell_type', 'assay', 'disease', 'organism', 'sex', 'tissue', 'self_reported_ethnicity', 'development_stage', 'observation_joinid', 'nnz', 'n_genes', 'n_genes_by_counts', 'log1p_n_genes_by_counts', 'total_counts', 'log1p_total_counts', 'pct_counts_in_top_20_genes', 'total_counts_mt', 'log1p_total_counts_mt', 'pct_counts_mt', 'total_counts_ribo', 'log1p_total_counts_ribo', 'pct_counts_ribo', 'total_counts_hb', 'log1p_total_counts_hb', 'pct_counts_hb', 'outlier', 'mt_outlier'\n",
      "    var: 'feature_is_filtered', 'feature_name', 'feature_reference', 'feature_biotype', 'feature_length', 'feature_type', 'uid', 'symbol', 'ncbi_gene_ids', 'biotype', 'synonyms', 'description', 'organism_id', 'mt', 'ribo', 'hb', 'organism', 'ensembl_gene_id', 'n_cells_by_counts', 'mean_counts', 'log1p_mean_counts', 'pct_dropout_by_counts', 'total_counts', 'log1p_total_counts'\n",
      "    uns: 'unseen_genes'\n"
     ]
    },
    {
     "data": {
      "text/plain": [
       "AnnData object with n_obs × n_vars = 49417 × 35793\n",
       "    obs: 'suspension_type', 'cluster', 'class', 'subclass', 'sex_ontology_term_id', 'region', 'cortical_layer', 'cell_type_accession', 'cell_type_alias', 'cell_type_alt_alias', 'cell_type_designation', 'donor_id', 'outlier_call', 'outlier_type', 'tissue_ontology_term_id', 'disease_ontology_term_id', 'assay_ontology_term_id', 'is_primary_data', 'organism_ontology_term_id', 'cell_type_ontology_term_id', 'Specimen ID', 'sample_tissue_type', 'development_stage_ontology_term_id', 'self_reported_ethnicity_ontology_term_id', 'cause_of_death', 'PMI (hr)', 'Tissue (RIN)', 'Hemisphere Sampled', 'tissue_type', 'cell_type', 'assay', 'disease', 'organism', 'sex', 'tissue', 'self_reported_ethnicity', 'development_stage', 'observation_joinid'\n",
       "    var: 'feature_is_filtered', 'feature_name', 'feature_reference', 'feature_biotype', 'feature_length', 'feature_type'\n",
       "    uns: 'citation', 'cortical_layer_colors', 'region_colors', 'schema_reference', 'schema_version', 'title'\n",
       "    obsm: 'X_tsne'\n",
       "    layers: 'exon', 'intron'"
      ]
     },
     "execution_count": 15,
     "metadata": {},
     "output_type": "execute_result"
    }
   ],
   "source": [
    "preprocessor = Preprocessor(force_preprocess=True, skip_validate=True,\n",
    "                            do_postp=False, min_valid_genes_id=5000, min_dataset_size=64)\n",
    "nadata = preprocessor(adata.copy())"
   ]
  },
  {
   "cell_type": "markdown",
   "metadata": {},
   "source": [
    "# training"
   ]
  },
  {
   "cell_type": "code",
   "execution_count": 17,
   "metadata": {},
   "outputs": [],
   "source": [
    "from scdataloader import DataModule"
   ]
  },
  {
   "cell_type": "code",
   "execution_count": 18,
   "metadata": {},
   "outputs": [
    {
     "name": "stdout",
     "output_type": "stream",
     "text": [
      "\u001b[93m!\u001b[0m no run & transform got linked, call `ln.track()` & re-run\n",
      "\u001b[93m!\u001b[0m run input wasn't tracked, call `ln.track()` and re-run\n",
      "won't do any check but we recommend to have your dataset coming from local storage\n"
     ]
    },
    {
     "name": "stderr",
     "output_type": "stream",
     "text": [
      "/home/ml4ig1/Documents code/scDataLoader/scdataloader/utils.py:400: FutureWarning: The behavior of DataFrame concatenation with empty or all-NA entries is deprecated. In a future version, this will no longer exclude empty or all-NA columns when determining the result dtypes. To retain the old behavior, exclude the relevant entries before the concat operation.\n",
      "  organismdf = pd.concat(organismdf)\n"
     ]
    },
    {
     "name": "stdout",
     "output_type": "stream",
     "text": [
      "100.0% are aligned\n",
      "seeing a string: loading gene positions as biomart parquet file\n"
     ]
    },
    {
     "ename": "KeyError",
     "evalue": "'organism_ontology_term_id'",
     "output_type": "error",
     "traceback": [
      "\u001b[0;31m---------------------------------------------------------------------------\u001b[0m",
      "\u001b[0;31mKeyError\u001b[0m                                  Traceback (most recent call last)",
      "Cell \u001b[0;32mIn[18], line 2\u001b[0m\n\u001b[1;32m      1\u001b[0m gene_emb \u001b[38;5;241m=\u001b[39m \u001b[38;5;124m'\u001b[39m\u001b[38;5;124m../data/main/gene_embeddings.parquet\u001b[39m\u001b[38;5;124m'\u001b[39m\n\u001b[0;32m----> 2\u001b[0m datamodule \u001b[38;5;241m=\u001b[39m \u001b[43mDataModule\u001b[49m\u001b[43m(\u001b[49m\n\u001b[1;32m      3\u001b[0m \u001b[43m    \u001b[49m\u001b[43mcollection_name\u001b[49m\u001b[38;5;241;43m=\u001b[39;49m\u001b[38;5;124;43m\"\u001b[39;49m\u001b[38;5;124;43mscPRINT-V2 test\u001b[39;49m\u001b[38;5;124;43m\"\u001b[39;49m\u001b[43m,\u001b[49m\u001b[43m \u001b[49m\u001b[38;5;66;43;03m#some, all, preprocessed dataset, all no zhang, \u001b[39;49;00m\n\u001b[1;32m      4\u001b[0m \u001b[43m    \u001b[49m\u001b[43mgene_embeddings\u001b[49m\u001b[38;5;241;43m=\u001b[39;49m\u001b[43mgene_emb\u001b[49m\u001b[43m,\u001b[49m\n\u001b[1;32m      5\u001b[0m \u001b[43m    \u001b[49m\u001b[43mclss_to_weight\u001b[49m\u001b[38;5;241;43m=\u001b[39;49m\u001b[43m[\u001b[49m\u001b[43m]\u001b[49m\u001b[43m,\u001b[49m\n\u001b[1;32m      6\u001b[0m \u001b[43m    \u001b[49m\u001b[43mmetacell_mode\u001b[49m\u001b[38;5;241;43m=\u001b[39;49m\u001b[38;5;241;43m0\u001b[39;49m\u001b[43m,\u001b[49m\n\u001b[1;32m      7\u001b[0m \u001b[43m    \u001b[49m\u001b[43mclss_to_predict\u001b[49m\u001b[38;5;241;43m=\u001b[39;49m\u001b[43m[\u001b[49m\u001b[43m]\u001b[49m\u001b[43m,\u001b[49m\n\u001b[1;32m      8\u001b[0m \u001b[43m    \u001b[49m\u001b[43mhierarchical_clss\u001b[49m\u001b[38;5;241;43m=\u001b[39;49m\u001b[43m[\u001b[49m\u001b[43m]\u001b[49m\u001b[43m,\u001b[49m\n\u001b[1;32m      9\u001b[0m \u001b[43m    \u001b[49m\u001b[43morganisms\u001b[49m\u001b[38;5;241;43m=\u001b[39;49m\u001b[43m[\u001b[49m\u001b[38;5;124;43m\"\u001b[39;49m\u001b[38;5;124;43mNCBITaxon:9606\u001b[39;49m\u001b[38;5;124;43m\"\u001b[39;49m\u001b[43m,\u001b[49m\u001b[43m \u001b[49m\u001b[38;5;124;43m\"\u001b[39;49m\u001b[38;5;124;43mNCBITaxon:10090\u001b[39;49m\u001b[38;5;124;43m\"\u001b[39;49m\u001b[43m]\u001b[49m\u001b[43m,\u001b[49m\n\u001b[1;32m     10\u001b[0m \u001b[43m    \u001b[49m\u001b[43mhow\u001b[49m\u001b[38;5;241;43m=\u001b[39;49m\u001b[38;5;124;43m\"\u001b[39;49m\u001b[38;5;124;43mrandom expr\u001b[39;49m\u001b[38;5;124;43m\"\u001b[39;49m\u001b[43m,\u001b[49m\n\u001b[1;32m     11\u001b[0m \u001b[43m    \u001b[49m\u001b[43mmax_len\u001b[49m\u001b[38;5;241;43m=\u001b[39;49m\u001b[38;5;241;43m10_000\u001b[39;49m\u001b[43m,\u001b[49m\n\u001b[1;32m     12\u001b[0m \u001b[43m    \u001b[49m\u001b[43madd_zero_genes\u001b[49m\u001b[38;5;241;43m=\u001b[39;49m\u001b[38;5;241;43m0\u001b[39;49m\u001b[43m,\u001b[49m\n\u001b[1;32m     13\u001b[0m \u001b[43m    \u001b[49m\u001b[38;5;66;43;03m# how much more you will see the most present vs less present category\u001b[39;49;00m\n\u001b[1;32m     14\u001b[0m \u001b[43m    \u001b[49m\u001b[43mweight_scaler\u001b[49m\u001b[38;5;241;43m=\u001b[39;49m\u001b[38;5;241;43m0\u001b[39;49m\u001b[43m,\u001b[49m\n\u001b[1;32m     15\u001b[0m \u001b[43m    \u001b[49m\u001b[43mbatch_size\u001b[49m\u001b[38;5;241;43m=\u001b[39;49m\u001b[38;5;241;43m1\u001b[39;49m\u001b[43m,\u001b[49m\n\u001b[1;32m     16\u001b[0m \u001b[43m    \u001b[49m\u001b[43mnum_workers\u001b[49m\u001b[38;5;241;43m=\u001b[39;49m\u001b[38;5;241;43m3\u001b[39;49m\u001b[43m,\u001b[49m\n\u001b[1;32m     17\u001b[0m \u001b[43m    \u001b[49m\u001b[43mprefetch_factor\u001b[49m\u001b[38;5;241;43m=\u001b[39;49m\u001b[38;5;241;43m3\u001b[39;49m\u001b[43m,\u001b[49m\n\u001b[1;32m     18\u001b[0m \u001b[43m    \u001b[49m\u001b[43mn_samples_per_epoch\u001b[49m\u001b[38;5;241;43m=\u001b[39;49m\u001b[38;5;241;43m2000\u001b[39;49m\u001b[43m,\u001b[49m\n\u001b[1;32m     19\u001b[0m \u001b[43m    \u001b[49m\u001b[43mvalidation_split\u001b[49m\u001b[38;5;241;43m=\u001b[39;49m\u001b[38;5;241;43m0.05\u001b[39;49m\u001b[43m,\u001b[49m\n\u001b[1;32m     20\u001b[0m \u001b[43m    \u001b[49m\u001b[43mdo_gene_pos\u001b[49m\u001b[38;5;241;43m=\u001b[39;49m\u001b[38;5;124;43m'\u001b[39;49m\u001b[38;5;124;43m../data/main/biomart_pos.parquet\u001b[39;49m\u001b[38;5;124;43m'\u001b[39;49m\u001b[43m,\u001b[49m\n\u001b[1;32m     21\u001b[0m \u001b[43m    \u001b[49m\u001b[43mpin_memory\u001b[49m\u001b[38;5;241;43m=\u001b[39;49m\u001b[38;5;28;43;01mTrue\u001b[39;49;00m\u001b[43m,\u001b[49m\n\u001b[1;32m     22\u001b[0m \u001b[43m    \u001b[49m\u001b[43mtest_split\u001b[49m\u001b[38;5;241;43m=\u001b[39;49m\u001b[38;5;241;43m0.05\u001b[39;49m\u001b[43m)\u001b[49m\n\u001b[1;32m     23\u001b[0m testfiles \u001b[38;5;241m=\u001b[39m datamodule\u001b[38;5;241m.\u001b[39msetup()\n",
      "File \u001b[0;32m~/Documents code/scDataLoader/scdataloader/datamodule.py:157\u001b[0m, in \u001b[0;36mDataModule.__init__\u001b[0;34m(self, collection_name, clss_to_weight, organisms, weight_scaler, n_samples_per_epoch, validation_split, test_split, gene_embeddings, use_default_col, gene_position_tolerance, clss_to_predict, hierarchical_clss, how, organism_name, max_len, add_zero_genes, replacement, do_gene_pos, tp_name, assays_to_drop, metacell_mode, get_knn_cells, **kwargs)\u001b[0m\n\u001b[1;32m    148\u001b[0m \u001b[38;5;66;03m# we might want not to order the genes by expression (or do it?)\u001b[39;00m\n\u001b[1;32m    149\u001b[0m \u001b[38;5;66;03m# we might want to not introduce zeros and\u001b[39;00m\n\u001b[1;32m    150\u001b[0m \u001b[38;5;28;01mif\u001b[39;00m use_default_col:\n\u001b[1;32m    151\u001b[0m     kwargs[\u001b[38;5;124m\"\u001b[39m\u001b[38;5;124mcollate_fn\u001b[39m\u001b[38;5;124m\"\u001b[39m] \u001b[38;5;241m=\u001b[39m Collator(\n\u001b[1;32m    152\u001b[0m         organisms\u001b[38;5;241m=\u001b[39morganisms,\n\u001b[1;32m    153\u001b[0m         how\u001b[38;5;241m=\u001b[39mhow,\n\u001b[1;32m    154\u001b[0m         valid_genes\u001b[38;5;241m=\u001b[39mmdataset\u001b[38;5;241m.\u001b[39mgenedf\u001b[38;5;241m.\u001b[39mindex\u001b[38;5;241m.\u001b[39mtolist(),\n\u001b[1;32m    155\u001b[0m         max_len\u001b[38;5;241m=\u001b[39mmax_len,\n\u001b[1;32m    156\u001b[0m         add_zero_genes\u001b[38;5;241m=\u001b[39madd_zero_genes,\n\u001b[0;32m--> 157\u001b[0m         org_to_id\u001b[38;5;241m=\u001b[39m\u001b[43mmdataset\u001b[49m\u001b[38;5;241;43m.\u001b[39;49m\u001b[43mencoder\u001b[49m\u001b[43m[\u001b[49m\u001b[43morganism_name\u001b[49m\u001b[43m]\u001b[49m,\n\u001b[1;32m    158\u001b[0m         tp_name\u001b[38;5;241m=\u001b[39mtp_name,\n\u001b[1;32m    159\u001b[0m         organism_name\u001b[38;5;241m=\u001b[39morganism_name,\n\u001b[1;32m    160\u001b[0m         class_names\u001b[38;5;241m=\u001b[39mclss_to_predict,\n\u001b[1;32m    161\u001b[0m     )\n\u001b[1;32m    162\u001b[0m \u001b[38;5;28mself\u001b[39m\u001b[38;5;241m.\u001b[39mvalidation_split \u001b[38;5;241m=\u001b[39m validation_split\n\u001b[1;32m    163\u001b[0m \u001b[38;5;28mself\u001b[39m\u001b[38;5;241m.\u001b[39mtest_split \u001b[38;5;241m=\u001b[39m test_split\n",
      "\u001b[0;31mKeyError\u001b[0m: 'organism_ontology_term_id'"
     ]
    }
   ],
   "source": [
    "gene_emb = '../data/main/gene_embeddings.parquet'\n",
    "datamodule = DataModule(\n",
    "    collection_name=\"scPRINT-V2 test\", #some, all, preprocessed dataset, all no zhang, \n",
    "    gene_embeddings=gene_emb,\n",
    "    clss_to_weight=[],\n",
    "    metacell_mode=0,\n",
    "    clss_to_predict=[],\n",
    "    hierarchical_clss=[],\n",
    "    organisms=[\"NCBITaxon:9606\", \"NCBITaxon:10090\"],\n",
    "    how=\"random expr\",\n",
    "    max_len=10_000,\n",
    "    add_zero_genes=0,\n",
    "    # how much more you will see the most present vs less present category\n",
    "    weight_scaler=0,\n",
    "    batch_size=1,\n",
    "    num_workers=3,\n",
    "    prefetch_factor=3,\n",
    "    n_samples_per_epoch=2000,\n",
    "    validation_split=0.05,\n",
    "    do_gene_pos='../data/main/biomart_pos.parquet',\n",
    "    pin_memory=True,\n",
    "    test_split=0.05)\n",
    "testfiles = datamodule.setup()"
   ]
  },
  {
   "cell_type": "code",
   "execution_count": null,
   "metadata": {},
   "outputs": [],
   "source": []
  },
  {
   "cell_type": "markdown",
   "metadata": {},
   "source": [
    "# testing"
   ]
  },
  {
   "cell_type": "code",
   "execution_count": 4,
   "metadata": {},
   "outputs": [],
   "source": [
    "adata = sc.read(\n",
    "    \"data/lung_smart2.h5ad\",\n",
    "    backup_url=\"https://datasets.cellxgene.cziscience.com/6ebba0e0-a159-406f-8095-451115673a2c.h5ad\",\n",
    ")"
   ]
  },
  {
   "cell_type": "code",
   "execution_count": 33,
   "metadata": {},
   "outputs": [
    {
     "name": "stdout",
     "output_type": "stream",
     "text": [
      "Dropping layers:  KeysView(Layers with keys: true)\n",
      "checking raw counts\n",
      "removed 0 non primary cells, 9409 renamining\n",
      "filtered out 0 cells, 9409 renamining\n",
      "Removed 0 genes.\n",
      "startin QC\n",
      "Seeing 3903 outliers (41.48% of total dataset):\n",
      "done\n",
      "AnnData object with n_obs × n_vars = 9409 × 70704\n",
      "    obs: 'nGene', 'nReads', 'plate.barcode', 'cell.id', 'region', 'label', 'sorter', 'sort.location', 'sample', 'location', 'donor_id', 'percent.ercc', 'percent.ribo', 'gating', 'free_annotation', 'Number of splices: Total', 'Number of splices: Annotated (sjdb)', 'Number of splices: GT-AG', 'Number of splices: GC-AG', 'Number of splices: AT-AC', 'Number of splices: Non-canonical', 'Mapping speed, Million of reads per hour', 'Average input read length', 'compartment', 'tissue_ontology_term_id', 'disease_ontology_term_id', 'development_stage_ontology_term_id', 'assay_ontology_term_id', 'cell_type_ontology_term_id', 'self_reported_ethnicity_ontology_term_id', 'sex_ontology_term_id', 'is_primary_data', 'organism_ontology_term_id', 'suspension_type', 'tissue_type', 'cell_type', 'assay', 'disease', 'organism', 'sex', 'tissue', 'self_reported_ethnicity', 'development_stage', 'observation_joinid', 'nnz', 'n_genes', 'n_genes_by_counts', 'log1p_n_genes_by_counts', 'total_counts', 'log1p_total_counts', 'pct_counts_in_top_20_genes', 'total_counts_mt', 'log1p_total_counts_mt', 'pct_counts_mt', 'total_counts_ribo', 'log1p_total_counts_ribo', 'pct_counts_ribo', 'total_counts_hb', 'log1p_total_counts_hb', 'pct_counts_hb', 'outlier', 'mt_outlier'\n",
      "    var: 'feature_is_filtered', 'feature_name', 'feature_reference', 'feature_biotype', 'feature_length', 'feature_type', 'uid_x', 'symbol_x', 'ncbi_gene_ids_x', 'biotype_x', 'synonyms_x', 'description_x', 'organism_id_x', 'mt_x', 'ribo_x', 'hb_x', 'organism_x', 'ensembl_gene_id_x', 'n_cells_by_counts', 'mean_counts', 'log1p_mean_counts', 'pct_dropout_by_counts', 'total_counts', 'log1p_total_counts', 'highly_variable', 'highly_variable_rank', 'means', 'variances', 'variances_norm', 'uid_y', 'symbol_y', 'ncbi_gene_ids_y', 'biotype_y', 'synonyms_y', 'description_y', 'organism_id_y', 'mt_y', 'ribo_y', 'hb_y', 'organism_y', 'ensembl_gene_id_y', 'uid', 'symbol', 'ncbi_gene_ids', 'biotype', 'synonyms', 'description', 'organism_id', 'mt', 'ribo', 'hb', 'organism', 'ensembl_gene_id'\n",
      "    uns: 'unseen_genes'\n"
     ]
    }
   ],
   "source": [
    "preprocessor = Preprocessor(force_preprocess=True, skip_validate=True,\n",
    "                            do_postp=False, min_valid_genes_id=5000, min_dataset_size=64)\n",
    "adata = preprocessor(adata.copy())"
   ]
  },
  {
   "cell_type": "code",
   "execution_count": 20,
   "metadata": {},
   "outputs": [],
   "source": [
    "adata.layers['true'] = adata.X.copy()"
   ]
  },
  {
   "cell_type": "code",
   "execution_count": null,
   "metadata": {},
   "outputs": [
    {
     "name": "stderr",
     "output_type": "stream",
     "text": [
      "/home/ml4ig1/Documents code/scDataLoader/scdataloader/utils.py:400: FutureWarning: The behavior of DataFrame concatenation with empty or all-NA entries is deprecated. In a future version, this will no longer exclude empty or all-NA columns when determining the result dtypes. To retain the old behavior, exclude the relevant entries before the concat operation.\n",
      "  organismdf = pd.concat(organismdf)\n",
      "100%|██████████| 100/100 [00:10<00:00,  9.20it/s]\n"
     ]
    },
    {
     "name": "stdout",
     "output_type": "stream",
     "text": [
      "AnnData object with n_obs × n_vars = 1000 × 44756\n",
      "    obs: 'pred_cell_type_ontology_term_id', 'pred_tissue_ontology_term_id', 'pred_disease_ontology_term_id', 'pred_age_group', 'pred_assay_ontology_term_id', 'pred_self_reported_ethnicity_ontology_term_id', 'pred_sex_ontology_term_id', 'pred_organism_ontology_term_id', 'conv_pred_cell_type_ontology_term_id', 'conv_pred_tissue_ontology_term_id', 'conv_pred_disease_ontology_term_id', 'conv_pred_age_group', 'conv_pred_assay_ontology_term_id', 'conv_pred_self_reported_ethnicity_ontology_term_id'\n",
      "    obsm: 'scprint_emb'\n",
      "    layers: 'scprint_mu', 'scprint_theta', 'scprint_pi'\n"
     ]
    },
    {
     "data": {
      "text/plain": [
       "{'reco2noisy': 0.2372157155812925,\n",
       " 'reco2full': 0.8119446951655541,\n",
       " 'noisy2full': 0.37784544327120057}"
      ]
     },
     "execution_count": 21,
     "metadata": {},
     "output_type": "execute_result"
    }
   ],
   "source": [
    "# denoising without\n",
    "denoise = Denoiser(\n",
    "    batch_size=10,\n",
    "    max_len=10_000,\n",
    "    max_cells=10_000,\n",
    "    doplot=False,\n",
    "    num_workers=4,\n",
    "    predict_depth_mult=5,\n",
    "    how=\"most var\",\n",
    "    downsample_expr=0.7,\n",
    ")\n",
    "metrics, idx, nadata = denoise(model, adata)\n",
    "metrics"
   ]
  },
  {
   "cell_type": "code",
   "execution_count": 22,
   "metadata": {},
   "outputs": [],
   "source": [
    "nadata = adata[:, adata.var.index.isin(model.genes)]"
   ]
  },
  {
   "cell_type": "code",
   "execution_count": 23,
   "metadata": {},
   "outputs": [],
   "source": [
    "sc.pp.highly_variable_genes(\n",
    "    nadata, flavor=\"seurat_v3\", n_top_genes=10_000, span=0.99)"
   ]
  },
  {
   "cell_type": "code",
   "execution_count": 29,
   "metadata": {},
   "outputs": [],
   "source": [
    "subadata = nadata[:, nadata.var.highly_variable].copy()\n",
    "subadata.X = downsample_profile(torch.Tensor(subadata.X.toarray()), 0.7)\n"
   ]
  },
  {
   "cell_type": "code",
   "execution_count": 30,
   "metadata": {},
   "outputs": [
    {
     "name": "stdout",
     "output_type": "stream",
     "text": [
      "Calculating MAGIC...\n",
      "  Running MAGIC on 9409 cells and 10000 genes.\n",
      "  Running MAGIC on 9409 cells and 10000 genes.\n",
      "  Calculating graph and diffusion operator...\n",
      "    Calculating PCA...\n",
      "    Calculated PCA in 4.13 seconds.\n",
      "    Calculating KNN search...\n",
      "    Calculated KNN search in 3.73 seconds.\n",
      "    Calculating affinities...\n",
      "    Calculated affinities in 3.93 seconds.\n",
      "  Calculated graph and diffusion operator in 11.83 seconds.\n",
      "  Calculating imputation...\n",
      "  Calculated imputation in 0.10 seconds.\n",
      "Calculated MAGIC in 14.15 seconds.\n"
     ]
    }
   ],
   "source": [
    "denoised_adata = sc.external.pp.magic(subadata.copy(), copy=True, n_jobs=10, solver='approximate', verbose=True)"
   ]
  },
  {
   "cell_type": "code",
   "execution_count": 31,
   "metadata": {},
   "outputs": [
    {
     "data": {
      "text/plain": [
       "{'reco2noisy': 0.2212071641243409,\n",
       " 'reco2full': 0.5186957772724994,\n",
       " 'noisy2full': 0.41001806749787767}"
      ]
     },
     "execution_count": 31,
     "metadata": {},
     "output_type": "execute_result"
    }
   ],
   "source": [
    "reco = denoised_adata.X\n",
    "true = subadata.layers['true'].toarray()\n",
    "noisy = subadata.X\n",
    "corr_coef, p_value = spearmanr(\n",
    "    np.vstack(\n",
    "        [reco[true != 0], noisy[true != 0], true[true != 0]]).T\n",
    ")\n",
    "{\n",
    "    \"reco2noisy\": corr_coef[0, 1],\n",
    "    \"reco2full\": corr_coef[0, 2],\n",
    "    \"noisy2full\": corr_coef[1, 2],\n",
    "}"
   ]
  },
  {
   "cell_type": "code",
   "execution_count": null,
   "metadata": {},
   "outputs": [],
   "source": [
    "# denoising"
   ]
  },
  {
   "cell_type": "code",
   "execution_count": 36,
   "metadata": {},
   "outputs": [
    {
     "data": {
      "text/plain": [
       "cell_type\n",
       "natural killer cell                                     1232\n",
       "club cell                                                898\n",
       "capillary endothelial cell                               872\n",
       "endothelial cell                                         816\n",
       "pulmonary alveolar type 2 cell                           760\n",
       "lung ciliated cell                                       551\n",
       "fibroblast                                               533\n",
       "pericyte                                                 518\n",
       "pulmonary alveolar type 1 cell                           421\n",
       "naive thymus-derived CD8-positive, alpha-beta T cell     378\n",
       "bronchial smooth muscle cell                             346\n",
       "respiratory basal cell                                   240\n",
       "lung goblet cell                                         233\n",
       "epithelial cell                                          201\n",
       "vascular associated smooth muscle cell                   176\n",
       "naive thymus-derived CD4-positive, alpha-beta T cell     131\n",
       "B cell                                                   129\n",
       "effector memory CD4-positive, alpha-beta T cell          126\n",
       "neutrophil                                               113\n",
       "classical monocyte                                       106\n",
       "endothelial cell of artery                                92\n",
       "effector memory CD8-positive, alpha-beta T cell           59\n",
       "lung neuroendocrine cell                                  55\n",
       "myofibroblast cell                                        52\n",
       "mature NK T cell                                          52\n",
       "myeloid leukocyte                                         46\n",
       "endothelial cell of lymphatic vessel                      44\n",
       "basal cell                                                43\n",
       "vein endothelial cell                                     42\n",
       "alveolar macrophage                                       32\n",
       "non-classical monocyte                                    27\n",
       "pulmonary interstitial fibroblast                         20\n",
       "lymphocyte                                                17\n",
       "plasmacytoid dendritic cell, human                        13\n",
       "dendritic cell, human                                     10\n",
       "dendritic cell                                             8\n",
       "CD1c-positive myeloid dendritic cell                       7\n",
       "intermediate monocyte                                      6\n",
       "plasma cell                                                2\n",
       "pulmonary ionocyte                                         2\n",
       "Name: count, dtype: int64"
      ]
     },
     "execution_count": 36,
     "metadata": {},
     "output_type": "execute_result"
    }
   ],
   "source": [
    "adata.obs[\"cell_type\"].value_counts()"
   ]
  },
  {
   "cell_type": "code",
   "execution_count": null,
   "metadata": {},
   "outputs": [],
   "source": [
    "# gene network inference without\n",
    "metrics = {}\n",
    "clf_omni = None\n",
    "shapes = []\n",
    "for celltype in ['natural killer cell', 'fibroblast', 'B cell ']:\n",
    "    grn_inferer = GNInfer(\n",
    "                        how=\"most var\",\n",
    "                        preprocess=\"softmax\",\n",
    "                        head_agg='mean',\n",
    "                        filtration=\"none\",\n",
    "                        forward_mode=\"none\",\n",
    "                        num_genes=10_000,\n",
    "                        max_cells=1000,\n",
    "                        doplot=False,\n",
    "                        batch_size=10,\n",
    "                        cell_type_col=\"cell_type\",\n",
    "                        layer=list(range(model.nlayers))[:]\n",
    "                        )\n",
    "    grn = grn_inferer(model, adata, cell_type=celltype)\n",
    "    grn.var.index = make_index_unique(grn.var['symbol'].astype(str))\n",
    "    metrics[celltype+'_scprint_full'] = BenGRN(grn).scprint_benchmark()\n",
    "    grn.write_h5ad(f'../data/temp/grn_{celltype}_scprint_f.h5ad')"
   ]
  },
  {
   "cell_type": "code",
   "execution_count": null,
   "metadata": {},
   "outputs": [],
   "source": [
    "# gene network inference"
   ]
  },
  {
   "cell_type": "code",
   "execution_count": null,
   "metadata": {},
   "outputs": [],
   "source": [
    "# embedding and cell type prediction with"
   ]
  },
  {
   "cell_type": "code",
   "execution_count": null,
   "metadata": {},
   "outputs": [],
   "source": [
    "# embedding and cell type prediction without"
   ]
  }
 ],
 "metadata": {
  "kernelspec": {
   "display_name": "scprnt2",
   "language": "python",
   "name": "python3"
  },
  "language_info": {
   "codemirror_mode": {
    "name": "ipython",
    "version": 3
   },
   "file_extension": ".py",
   "mimetype": "text/x-python",
   "name": "python",
   "nbconvert_exporter": "python",
   "pygments_lexer": "ipython3",
   "version": "3.10.16"
  }
 },
 "nbformat": 4,
 "nbformat_minor": 2
}
